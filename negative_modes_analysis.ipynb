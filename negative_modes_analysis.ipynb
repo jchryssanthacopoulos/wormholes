{
 "cells": [
  {
   "cell_type": "markdown",
   "id": "6d9963f1",
   "metadata": {},
   "source": [
    "## Determination of Negative Modes\n",
    "\n",
    "The purpose of this notebook is to determine the negative modes of the connected wormhole solution."
   ]
  },
  {
   "cell_type": "code",
   "execution_count": 1,
   "id": "c3dc1ed9",
   "metadata": {},
   "outputs": [],
   "source": [
    "import numpy as np\n",
    "from scipy import linalg\n",
    "from scipy.special import ellipkinc\n",
    "import sympy\n",
    "\n",
    "sympy.init_printing()"
   ]
  },
  {
   "cell_type": "markdown",
   "id": "c312904f",
   "metadata": {},
   "source": [
    "### Preliminaries"
   ]
  },
  {
   "cell_type": "code",
   "execution_count": 2,
   "id": "900f1265",
   "metadata": {},
   "outputs": [],
   "source": [
    "r, r_0, L, lam = sympy.symbols(\"r r_0 L lambda\")"
   ]
  },
  {
   "cell_type": "code",
   "execution_count": 3,
   "id": "307a04c6",
   "metadata": {},
   "outputs": [],
   "source": [
    "# spherical part of the metric\n",
    "g = sympy.Function(\"g\")(r)\n",
    "dg = sympy.diff(g, r)\n",
    "\n",
    "g_sol = r ** 2 + r_0 ** 2\n",
    "dg_sol = sympy.diff(g_sol, r)\n",
    "\n",
    "def g_func(r, r_0):\n",
    "    return r ** 2 + r_0 ** 2\n",
    "def dg_func(r):\n",
    "    return 2 * r"
   ]
  },
  {
   "cell_type": "code",
   "execution_count": 4,
   "id": "1db740c9",
   "metadata": {},
   "outputs": [],
   "source": [
    "# radial part of the metric\n",
    "f = sympy.Function(\"f\")(r)\n",
    "df = sympy.diff(f, r)\n",
    "\n",
    "f_sol = (L ** 2 + r ** 2 + 2 * r_0 ** 2) / L ** 2\n",
    "df_sol = sympy.diff(f_sol, r)\n",
    "\n",
    "def f_func(r, r_0, L):\n",
    "    return (L ** 2 + r ** 2 + 2 * r_0 ** 2) / L ** 2\n",
    "def df_func(r, L):\n",
    "    return 2 * r / L ** 2"
   ]
  },
  {
   "cell_type": "code",
   "execution_count": 5,
   "id": "42fd738b",
   "metadata": {},
   "outputs": [],
   "source": [
    "# gauge field\n",
    "Phi = sympy.Function(\"Phi\")(r)\n",
    "dPhi = sympy.diff(Phi, r)\n",
    "ddPhi = sympy.diff(dPhi, r)"
   ]
  },
  {
   "cell_type": "code",
   "execution_count": 6,
   "id": "0c35b5f6",
   "metadata": {},
   "outputs": [],
   "source": [
    "def get_a(b):\n",
    "    \"\"\"Get a based on b.\"\"\"\n",
    "    return np.sqrt(2 * b ** 2 + 1)\n",
    "\n",
    "def get_phi_star(b):\n",
    "    \"\"\"Get phi star based on b.\"\"\"\n",
    "    return b * np.sqrt(b ** 2 + 1) / 2\n",
    "\n",
    "def get_ellip_m_param(a, b):\n",
    "    \"\"\"Get the elliptic integral parameter m based on a and b.\"\"\"\n",
    "    return 1 - a ** 2 / b ** 2"
   ]
  },
  {
   "cell_type": "code",
   "execution_count": 7,
   "id": "ec6041be",
   "metadata": {},
   "outputs": [],
   "source": [
    "def phi_of_r(r, b, L):\n",
    "    \"\"\"Get gauge field.\"\"\"\n",
    "    a = get_a(b)\n",
    "    m = get_ellip_m_param(a, b)\n",
    "    phi_star = get_phi_star(b)\n",
    "    phi = np.arctan2(r, L * a)\n",
    "    return phi_star * np.cosh((2 / b) * ellipkinc(phi, m))"
   ]
  },
  {
   "cell_type": "code",
   "execution_count": 8,
   "id": "1388ea60",
   "metadata": {},
   "outputs": [],
   "source": [
    "def dphi_of_r(r, b, L):\n",
    "    \"\"\"Get radial derivative of gauge field.\"\"\"\n",
    "    a = get_a(b)\n",
    "    m = get_ellip_m_param(a, b)\n",
    "    phi_star = get_phi_star(b)\n",
    "    phi = np.arctan(r / (L * a))\n",
    "\n",
    "    a_term = a ** 2 * L ** 2 + r ** 2\n",
    "    b_term = b ** 2 * L ** 2 + r ** 2\n",
    "\n",
    "    return 2 * L * phi_star * np.sinh((2 / b) * ellipkinc(phi, m)) / np.sqrt(a_term * b_term)"
   ]
  },
  {
   "cell_type": "code",
   "execution_count": 9,
   "id": "957ef7f5",
   "metadata": {},
   "outputs": [],
   "source": [
    "def ddphi_of_r(r, b, L):\n",
    "    \"\"\"Get second derivative of gauge field.\"\"\"\n",
    "    a = get_a(b)\n",
    "    m = get_ellip_m_param(a, b)\n",
    "    phi_star = get_phi_star(b)\n",
    "    phi = np.arctan2(r, L * a)\n",
    "\n",
    "    sin_part = np.sinh((2 / b) * ellipkinc(phi, m))\n",
    "    cos_part = np.cosh((2 / b) * ellipkinc(phi, m))\n",
    "    a_term = a ** 2 * L ** 2 + r ** 2\n",
    "    b_term = b ** 2 * L ** 2 + r ** 2\n",
    "\n",
    "    first_term = 2 * L * a_term ** 2 * cos_part / b_term\n",
    "    second_term = r * (a_term + b_term) * sin_part / (b_term / a_term) ** (3. / 2)\n",
    "\n",
    "    return 2 * L * phi_star * (first_term - second_term) / a_term ** 3"
   ]
  },
  {
   "cell_type": "code",
   "execution_count": 10,
   "id": "ad779948",
   "metadata": {},
   "outputs": [],
   "source": [
    "q = sympy.Function(\"q\")(r)\n",
    "dq = sympy.diff(q, r)\n",
    "ddq = sympy.diff(dq, r)\n",
    "\n",
    "K = sympy.Function(\"K\")(r)\n",
    "dK = sympy.diff(K, r)\n",
    "K_sol = 6 * L ** 2 * r ** 2 / (r ** 2 - g * L ** 2 * dPhi ** 2)\n",
    "\n",
    "V = sympy.Function(\"V\")(r)\n",
    "V_sol = (4 * K_sol / g) * ((2 * g) / (L ** 2 * f * r) * ((L ** 2 * (r - L ** 2 * Phi * dPhi) + g * (r - 2 * L ** 2 * Phi * dPhi)) / (r ** 2 - g * L ** 2 * dPhi ** 2)) - 1)"
   ]
  },
  {
   "cell_type": "markdown",
   "id": "f58f0cfd",
   "metadata": {},
   "source": [
    "### Eigenvalue Problem"
   ]
  },
  {
   "cell_type": "code",
   "execution_count": 11,
   "id": "bae1540a",
   "metadata": {},
   "outputs": [
    {
     "data": {
      "image/png": "[encoded data removed]",
      "text/latex": [
       "$\\displaystyle - \\lambda q{\\left(r \\right)} - \\sqrt{\\frac{f{\\left(r \\right)}}{g{\\left(r \\right)}}} \\sqrt{f{\\left(r \\right)} g{\\left(r \\right)}} K{\\left(r \\right)} \\frac{d^{2}}{d r^{2}} q{\\left(r \\right)} - \\frac{\\sqrt{\\frac{f{\\left(r \\right)}}{g{\\left(r \\right)}}} \\sqrt{f{\\left(r \\right)} g{\\left(r \\right)}} K{\\left(r \\right)} \\frac{d}{d r} g{\\left(r \\right)} \\frac{d}{d r} q{\\left(r \\right)}}{2 g{\\left(r \\right)}} - \\frac{\\sqrt{\\frac{f{\\left(r \\right)}}{g{\\left(r \\right)}}} \\sqrt{f{\\left(r \\right)} g{\\left(r \\right)}} K{\\left(r \\right)} \\frac{d}{d r} f{\\left(r \\right)} \\frac{d}{d r} q{\\left(r \\right)}}{2 f{\\left(r \\right)}} - \\sqrt{\\frac{f{\\left(r \\right)}}{g{\\left(r \\right)}}} \\sqrt{f{\\left(r \\right)} g{\\left(r \\right)}} \\frac{d}{d r} K{\\left(r \\right)} \\frac{d}{d r} q{\\left(r \\right)} + V{\\left(r \\right)} q{\\left(r \\right)}$"
      ],
      "text/plain": [
       "                                                        ______                \n",
       "                                                       ╱ f(r)    ___________  \n",
       "              ______                      2           ╱  ──── ⋅╲╱ f(r)⋅g(r) ⋅K\n",
       "             ╱ f(r)    ___________       d          ╲╱   g(r)                 \n",
       "-λ⋅q(r) -   ╱  ──── ⋅╲╱ f(r)⋅g(r) ⋅K(r)⋅───(q(r)) - ──────────────────────────\n",
       "          ╲╱   g(r)                       2                              2⋅g(r\n",
       "                                        dr                                    \n",
       "\n",
       "                            ______                                            \n",
       "    d        d             ╱ f(r)    ___________      d        d              \n",
       "(r)⋅──(g(r))⋅──(q(r))     ╱  ──── ⋅╲╱ f(r)⋅g(r) ⋅K(r)⋅──(f(r))⋅──(q(r))       \n",
       "    dr       dr         ╲╱   g(r)                     dr       dr            ╱\n",
       "───────────────────── - ─────────────────────────────────────────────── -   ╱ \n",
       ")                                            2⋅f(r)                       ╲╱  \n",
       "                                                                              \n",
       "\n",
       "                                                  \n",
       "                                                  \n",
       "______                                            \n",
       " f(r)    ___________ d        d                   \n",
       " ──── ⋅╲╱ f(r)⋅g(r) ⋅──(K(r))⋅──(q(r)) + V(r)⋅q(r)\n",
       " g(r)                dr       dr                  \n",
       "                                                  "
      ]
     },
     "execution_count": 11,
     "metadata": {},
     "output_type": "execute_result"
    }
   ],
   "source": [
    "eigen = -sympy.sqrt(f / g) * sympy.diff(sympy.sqrt(f * g) * K * dq, r) + V * q - lam * q\n",
    "eigen.expand()"
   ]
  },
  {
   "cell_type": "markdown",
   "id": "5c3872e1",
   "metadata": {},
   "source": [
    "Simplify, multiplying through by a minus sign."
   ]
  },
  {
   "cell_type": "code",
   "execution_count": 12,
   "id": "d9f2f7ee",
   "metadata": {},
   "outputs": [
    {
     "data": {
      "image/png": "[encoded data removed]",
      "text/latex": [
       "$\\displaystyle \\left(\\lambda - V{\\left(r \\right)}\\right) q{\\left(r \\right)} + \\left(\\frac{r K{\\left(r \\right)} f{\\left(r \\right)}}{g{\\left(r \\right)}} + f{\\left(r \\right)} \\frac{d}{d r} K{\\left(r \\right)} + \\frac{r K{\\left(r \\right)}}{L^{2}}\\right) \\frac{d}{d r} q{\\left(r \\right)} + K{\\left(r \\right)} f{\\left(r \\right)} \\frac{d^{2}}{d r^{2}} q{\\left(r \\right)}$"
      ],
      "text/plain": [
       "                                                                              \n",
       "                  ⎛r⋅K(r)⋅f(r)        d          r⋅K(r)⎞ d                    \n",
       "(λ - V(r))⋅q(r) + ⎜─────────── + f(r)⋅──(K(r)) + ──────⎟⋅──(q(r)) + K(r)⋅f(r)⋅\n",
       "                  ⎜    g(r)           dr            2  ⎟ dr                   \n",
       "                  ⎝                                L   ⎠                      \n",
       "\n",
       "  2      \n",
       " d       \n",
       "───(q(r))\n",
       "  2      \n",
       "dr       "
      ]
     },
     "execution_count": 12,
     "metadata": {},
     "output_type": "execute_result"
    }
   ],
   "source": [
    "eigen = lam * q + r * f * K * dq / g + f * K * ddq + f * dK * dq - V * q + r * K * dq / L ** 2\n",
    "eigen.collect([q, dq])"
   ]
  },
  {
   "cell_type": "markdown",
   "id": "3eb9489c",
   "metadata": {},
   "source": [
    "Separate the terms."
   ]
  },
  {
   "cell_type": "code",
   "execution_count": 13,
   "id": "eb10b962",
   "metadata": {},
   "outputs": [
    {
     "data": {
      "image/png": "[encoded data removed]",
      "text/latex": [
       "$\\displaystyle \\frac{6 L^{2} r^{2} f{\\left(r \\right)}}{- L^{2} g{\\left(r \\right)} \\left(\\frac{d}{d r} \\Phi{\\left(r \\right)}\\right)^{2} + r^{2}}$"
      ],
      "text/plain": [
       "          2  2            \n",
       "       6⋅L ⋅r ⋅f(r)       \n",
       "──────────────────────────\n",
       "                    2     \n",
       "   2      ⎛d       ⎞     2\n",
       "- L ⋅g(r)⋅⎜──(Φ(r))⎟  + r \n",
       "          ⎝dr      ⎠      "
      ]
     },
     "execution_count": 13,
     "metadata": {},
     "output_type": "execute_result"
    }
   ],
   "source": [
    "ddq_factor = eigen.coeff(ddq).subs({K: K_sol})\n",
    "ddq_factor"
   ]
  },
  {
   "cell_type": "code",
   "execution_count": 14,
   "id": "c3eced7a",
   "metadata": {},
   "outputs": [
    {
     "data": {
      "image/png": "[encoded data removed]",
      "text/latex": [
       "$\\displaystyle \\frac{r K{\\left(r \\right)} f{\\left(r \\right)}}{g{\\left(r \\right)}} + f{\\left(r \\right)} \\frac{d}{d r} K{\\left(r \\right)} + \\frac{r K{\\left(r \\right)}}{L^{2}}$"
      ],
      "text/plain": [
       "r⋅K(r)⋅f(r)        d          r⋅K(r)\n",
       "─────────── + f(r)⋅──(K(r)) + ──────\n",
       "    g(r)           dr            2  \n",
       "                                L   "
      ]
     },
     "execution_count": 14,
     "metadata": {},
     "output_type": "execute_result"
    }
   ],
   "source": [
    "dq_factor = eigen.coeff(dq)\n",
    "dq_factor"
   ]
  },
  {
   "cell_type": "code",
   "execution_count": 15,
   "id": "ded7240e",
   "metadata": {},
   "outputs": [
    {
     "data": {
      "image/png": "[encoded data removed]",
      "text/latex": [
       "$\\displaystyle \\frac{- 6 L^{2} r^{3} f{\\left(r \\right)} - 6 r^{3} g{\\left(r \\right)} + \\left(L^{2} g{\\left(r \\right)} \\left(\\frac{d}{d r} \\Phi{\\left(r \\right)}\\right)^{2} - r^{2}\\right) \\left(\\frac{6 L^{2} r^{2} \\cdot \\left(2 L^{2} g{\\left(r \\right)} \\frac{d}{d r} \\Phi{\\left(r \\right)} \\frac{d^{2}}{d r^{2}} \\Phi{\\left(r \\right)} + L^{2} \\left(\\frac{d}{d r} \\Phi{\\left(r \\right)}\\right)^{2} \\frac{d}{d r} g{\\left(r \\right)} - 2 r\\right)}{\\left(- L^{2} g{\\left(r \\right)} \\left(\\frac{d}{d r} \\Phi{\\left(r \\right)}\\right)^{2} + r^{2}\\right)^{2}} + \\frac{12 L^{2} r}{- L^{2} g{\\left(r \\right)} \\left(\\frac{d}{d r} \\Phi{\\left(r \\right)}\\right)^{2} + r^{2}}\\right) f{\\left(r \\right)} g{\\left(r \\right)}}{\\left(L^{2} g{\\left(r \\right)} \\left(\\frac{d}{d r} \\Phi{\\left(r \\right)}\\right)^{2} - r^{2}\\right) g{\\left(r \\right)}}$"
      ],
      "text/plain": [
       "                                                        ⎛        ⎛            \n",
       "                                                        ⎜   2  2 ⎜   2      d \n",
       "                                                        ⎜6⋅L ⋅r ⋅⎜2⋅L ⋅g(r)⋅──\n",
       "                             ⎛                  2     ⎞ ⎜        ⎜          dr\n",
       "     2  3           3        ⎜ 2      ⎛d       ⎞     2⎟ ⎜        ⎝            \n",
       "- 6⋅L ⋅r ⋅f(r) - 6⋅r ⋅g(r) + ⎜L ⋅g(r)⋅⎜──(Φ(r))⎟  - r ⎟⋅⎜─────────────────────\n",
       "                             ⎝        ⎝dr      ⎠      ⎠ ⎜                     \n",
       "                                                        ⎜                    ⎛\n",
       "                                                        ⎜                    ⎜\n",
       "                                                        ⎜                    ⎜\n",
       "                                                        ⎝                    ⎝\n",
       "──────────────────────────────────────────────────────────────────────────────\n",
       "                                                                    ⎛         \n",
       "                                                                    ⎜ 2      ⎛\n",
       "                                                                    ⎜L ⋅g(r)⋅⎜\n",
       "                                                                    ⎝        ⎝\n",
       "\n",
       "         2                      2               ⎞                             \n",
       "        d           2 ⎛d       ⎞  d             ⎟                             \n",
       "(Φ(r))⋅───(Φ(r)) + L ⋅⎜──(Φ(r))⎟ ⋅──(g(r)) - 2⋅r⎟                             \n",
       "         2            ⎝dr      ⎠  dr            ⎟                2            \n",
       "       dr                                       ⎠            12⋅L ⋅r          \n",
       "───────────────────────────────────────────────── + ──────────────────────────\n",
       "                           2                                            2     \n",
       "                    2     ⎞                            2      ⎛d       ⎞     2\n",
       "   2      ⎛d       ⎞     2⎟                         - L ⋅g(r)⋅⎜──(Φ(r))⎟  + r \n",
       "- L ⋅g(r)⋅⎜──(Φ(r))⎟  + r ⎟                                   ⎝dr      ⎠      \n",
       "          ⎝dr      ⎠      ⎠                                                   \n",
       "──────────────────────────────────────────────────────────────────────────────\n",
       "         2     ⎞                                                              \n",
       "d       ⎞     2⎟                                                              \n",
       "──(Φ(r))⎟  - r ⎟⋅g(r)                                                         \n",
       "dr      ⎠      ⎠                                                              \n",
       "\n",
       "⎞          \n",
       "⎟          \n",
       "⎟          \n",
       "⎟          \n",
       "⎟          \n",
       "⎟⋅f(r)⋅g(r)\n",
       "⎟          \n",
       "⎟          \n",
       "⎟          \n",
       "⎟          \n",
       "⎠          \n",
       "───────────\n",
       "           \n",
       "           \n",
       "           \n",
       "           "
      ]
     },
     "execution_count": 15,
     "metadata": {},
     "output_type": "execute_result"
    }
   ],
   "source": [
    "dq_factor = dq_factor.subs({K: K_sol}).simplify()\n",
    "dq_factor"
   ]
  },
  {
   "cell_type": "code",
   "execution_count": 16,
   "id": "a18756b6",
   "metadata": {},
   "outputs": [
    {
     "data": {
      "image/png": "[encoded data removed]",
      "text/latex": [
       "$\\displaystyle - \\frac{24 L^{2} r^{2} \\left(-1 + \\frac{2 \\left(L^{2} \\left(- L^{2} \\Phi{\\left(r \\right)} \\frac{d}{d r} \\Phi{\\left(r \\right)} + r\\right) + \\left(- 2 L^{2} \\Phi{\\left(r \\right)} \\frac{d}{d r} \\Phi{\\left(r \\right)} + r\\right) g{\\left(r \\right)}\\right) g{\\left(r \\right)}}{L^{2} r \\left(- L^{2} g{\\left(r \\right)} \\left(\\frac{d}{d r} \\Phi{\\left(r \\right)}\\right)^{2} + r^{2}\\right) f{\\left(r \\right)}}\\right)}{\\left(- L^{2} g{\\left(r \\right)} \\left(\\frac{d}{d r} \\Phi{\\left(r \\right)}\\right)^{2} + r^{2}\\right) g{\\left(r \\right)}}$"
      ],
      "text/plain": [
       "          ⎛       ⎛ 2 ⎛   2      d           ⎞   ⎛     2      d           ⎞   \n",
       "          ⎜     2⋅⎜L ⋅⎜- L ⋅Φ(r)⋅──(Φ(r)) + r⎟ + ⎜- 2⋅L ⋅Φ(r)⋅──(Φ(r)) + r⎟⋅g(\n",
       "     2  2 ⎜       ⎝   ⎝          dr          ⎠   ⎝            dr          ⎠   \n",
       "-24⋅L ⋅r ⋅⎜-1 + ──────────────────────────────────────────────────────────────\n",
       "          ⎜                          ⎛                    2     ⎞             \n",
       "          ⎜                      2   ⎜   2      ⎛d       ⎞     2⎟             \n",
       "          ⎜                     L ⋅r⋅⎜- L ⋅g(r)⋅⎜──(Φ(r))⎟  + r ⎟⋅f(r)        \n",
       "          ⎝                          ⎝          ⎝dr      ⎠      ⎠             \n",
       "──────────────────────────────────────────────────────────────────────────────\n",
       "                           ⎛                    2     ⎞                       \n",
       "                           ⎜   2      ⎛d       ⎞     2⎟                       \n",
       "                           ⎜- L ⋅g(r)⋅⎜──(Φ(r))⎟  + r ⎟⋅g(r)                  \n",
       "                           ⎝          ⎝dr      ⎠      ⎠                       \n",
       "\n",
       "  ⎞     ⎞ \n",
       "r)⎟⋅g(r)⎟ \n",
       "  ⎠     ⎟ \n",
       "────────⎟ \n",
       "        ⎟ \n",
       "        ⎟ \n",
       "        ⎟ \n",
       "        ⎠ \n",
       "──────────\n",
       "          \n",
       "          \n",
       "          \n",
       "          "
      ]
     },
     "execution_count": 16,
     "metadata": {},
     "output_type": "execute_result"
    }
   ],
   "source": [
    "q_factor = -V.subs({V: V_sol})\n",
    "q_factor"
   ]
  },
  {
   "cell_type": "markdown",
   "id": "63a2488e",
   "metadata": {},
   "source": [
    "#### Discretize"
   ]
  },
  {
   "cell_type": "markdown",
   "id": "ef16d066",
   "metadata": {},
   "source": [
    "The idea is to tune r_0, the length of the wormhole throat, and determine the eigenvalue. Since r_0 = bL, this amounts to tuning b. Therefore, all functions should depend on b."
   ]
  },
  {
   "cell_type": "markdown",
   "id": "16e3e702",
   "metadata": {},
   "source": [
    "For numerical convenience, we will make the change of variables r = r_0 * y / (1 - y) = bLy / (1 - y)."
   ]
  },
  {
   "cell_type": "markdown",
   "id": "a7c5cf4a",
   "metadata": {},
   "source": [
    "First, form a grid."
   ]
  },
  {
   "cell_type": "code",
   "execution_count": 17,
   "id": "493b236b",
   "metadata": {},
   "outputs": [],
   "source": [
    "def cheb(N, x_minus, x_plus):\n",
    "    def get_a_j(x, j):\n",
    "        a = 1\n",
    "        for k in range(len(x)):\n",
    "            if k != j:\n",
    "                a *= x[j] - x[k]\n",
    "        return a\n",
    "\n",
    "    x = (x_plus + x_minus) / 2 + (x_plus - x_minus) / 2 * np.cos(np.pi * np.arange(0, N + 1) / N)\n",
    "\n",
    "    D = np.zeros((N + 1, N + 1))\n",
    "    for i in range(N + 1):\n",
    "        a_i = get_a_j(x, i)\n",
    "        for j in range(N + 1):\n",
    "            if j != i:\n",
    "                # diagonal element\n",
    "                D[i, i] += 1 / (x[i] - x[j])\n",
    "                # off diagonal element\n",
    "                a_j = get_a_j(x, j)\n",
    "                D[i, j] = a_i / (a_j * (x[i] - x[j]))\n",
    "\n",
    "    return D, x"
   ]
  },
  {
   "cell_type": "code",
   "execution_count": 18,
   "id": "73a21dd1",
   "metadata": {},
   "outputs": [],
   "source": [
    "y_minus = 0\n",
    "y_plus = 0.9\n",
    "N = 50"
   ]
  },
  {
   "cell_type": "code",
   "execution_count": 19,
   "id": "b66ae8da",
   "metadata": {},
   "outputs": [
    {
     "data": {
      "text/plain": [
       "array([[ 1.85222222e+03, -2.25232275e+03,  5.63636791e+02, ...,\n",
       "         2.23101835e+00, -2.22441691e+00,  1.11111111e+00],\n",
       "       [ 5.63080686e+02, -2.81262291e+02, -3.75881602e+02, ...,\n",
       "        -1.11661523e+00,  1.11330797e+00, -5.56104228e-01],\n",
       "       [-1.40909198e+02,  3.75881602e+02, -7.01757215e+01, ...,\n",
       "         1.11994219e+00, -1.11661523e+00,  5.57754586e-01],\n",
       "       ...,\n",
       "       [-5.57754586e-01,  1.11661523e+00, -1.11994219e+00, ...,\n",
       "         7.01757215e+01, -3.75881602e+02,  1.40909198e+02],\n",
       "       [ 5.56104228e-01, -1.11330797e+00,  1.11661523e+00, ...,\n",
       "         3.75881602e+02,  2.81262291e+02, -5.63080686e+02],\n",
       "       [-1.11111111e+00,  2.22441691e+00, -2.23101835e+00, ...,\n",
       "        -5.63636791e+02,  2.25232275e+03, -1.85222222e+03]])"
      ]
     },
     "execution_count": 19,
     "metadata": {},
     "output_type": "execute_result"
    }
   ],
   "source": [
    "D, y_vals = cheb(N, y_minus, y_plus)\n",
    "D"
   ]
  },
  {
   "cell_type": "code",
   "execution_count": 20,
   "id": "c8f7bb64",
   "metadata": {},
   "outputs": [
    {
     "data": {
      "text/plain": [
       "array([[ 2.05761284e+06, -3.27064673e+06,  1.77027475e+06, ...,\n",
       "         8.25970607e+03, -8.23528084e+03,  4.11358025e+03],\n",
       "       [ 9.51492710e+05, -1.36104076e+06,  4.94016598e+05, ...,\n",
       "         6.30617173e+02, -6.28742010e+02,  3.14059306e+02],\n",
       "       [-5.96447987e+04,  2.29818432e+05, -2.81883946e+05, ...,\n",
       "        -1.59694044e+02,  1.59212217e+02, -7.95260218e+01],\n",
       "       ...,\n",
       "       [-7.95260218e+01,  1.59212217e+02, -1.59694044e+02, ...,\n",
       "        -2.81883946e+05,  2.29818432e+05, -5.96447987e+04],\n",
       "       [ 3.14059306e+02, -6.28742010e+02,  6.30617173e+02, ...,\n",
       "         4.94016598e+05, -1.36104076e+06,  9.51492710e+05],\n",
       "       [ 4.11358025e+03, -8.23528084e+03,  8.25970607e+03, ...,\n",
       "         1.77027475e+06, -3.27064673e+06,  2.05761284e+06]])"
      ]
     },
     "execution_count": 20,
     "metadata": {},
     "output_type": "execute_result"
    }
   ],
   "source": [
    "D2 = D @ D\n",
    "D2"
   ]
  },
  {
   "cell_type": "code",
   "execution_count": 21,
   "id": "b03a4e20",
   "metadata": {},
   "outputs": [],
   "source": [
    "b_val = 1.25\n",
    "L_val = 1"
   ]
  },
  {
   "cell_type": "code",
   "execution_count": 22,
   "id": "2a5e6787",
   "metadata": {},
   "outputs": [],
   "source": [
    "r_0_val = b_val * L_val"
   ]
  },
  {
   "cell_type": "code",
   "execution_count": 23,
   "id": "5dcb6ea7",
   "metadata": {},
   "outputs": [],
   "source": [
    "ny = len(y_vals)\n",
    "\n",
    "ddq_factors_num = np.zeros((ny, ny))\n",
    "dq_factors_num = np.zeros((ny, ny))\n",
    "q_factors_num = np.zeros((ny, ny), dtype=object)\n",
    "\n",
    "for idx, y_val in enumerate(y_vals):\n",
    "    r_val = r_0_val * y_val / (1 - y_val)\n",
    "\n",
    "    f_val = f_func(r_val, r_0_val, L_val)\n",
    "    g_val = g_func(r_val, r_0_val)\n",
    "    dg_val = dg_func(r_val)\n",
    "    Phi_val = phi_of_r(r_val, b_val, L_val)\n",
    "    dPhi_val = dphi_of_r(r_val, b_val, L_val)\n",
    "    ddPhi_val = ddphi_of_r(r_val, b_val, L_val)\n",
    "    \n",
    "    func_subs = {r: r_val, L: L_val, f: f_val, g: g_val, dg: dg_val, Phi: Phi_val, dPhi: dPhi_val, ddPhi: ddPhi_val}\n",
    "\n",
    "    ddq_factors_num[idx, idx] = ddq_factor.subs(func_subs)\n",
    "    dq_factors_num[idx, idx] = dq_factor.subs(func_subs)\n",
    "    q_factors_num[idx, idx] = q_factor.subs(func_subs)"
   ]
  },
  {
   "cell_type": "code",
   "execution_count": 24,
   "id": "02ec5418",
   "metadata": {},
   "outputs": [
    {
     "data": {
      "text/plain": [
       "array([[1616833982.43896, -2569919321.8448915, 1390908837.8705127, ...,\n",
       "        6489615.296863052, -6470424.497236991, 3232022.188302638],\n",
       "       [733585214.4283137, -1049269348.15143, 380788575.0346117, ...,\n",
       "        485994.6071071182, -484549.48311347933, 242034.525821592],\n",
       "       [-43501490.66552442, 167594477.568899, -205511903.880211, ...,\n",
       "        -116275.49927478535, 115924.66804975855, -57904.0204581595],\n",
       "       ...,\n",
       "       [-4950.176135765492, 9910.322453995399, -9940.314197421036, ...,\n",
       "        -17546188.4619061, 14305340.534787517, -3712667.7381492467],\n",
       "       [19549.09315425869, -39136.99064074228, 39253.71295132427, ...,\n",
       "        30750809.092026826, -84720024.0721131, 59227110.769714706],\n",
       "       [101811.11111111472, -203823.20077818696, 204427.7252721431, ...,\n",
       "        43814299.96449596, -80948506.60729073, zoo]], dtype=object)"
      ]
     },
     "execution_count": 24,
     "metadata": {},
     "output_type": "execute_result"
    }
   ],
   "source": [
    "A = ddq_factors_num @ D2 + dq_factors_num @ D + q_factors_num\n",
    "A"
   ]
  },
  {
   "cell_type": "markdown",
   "id": "712a6117",
   "metadata": {},
   "source": [
    "Replace bottom row with boundary condition q'(0) = 0."
   ]
  },
  {
   "cell_type": "code",
   "execution_count": 25,
   "id": "0d1f0717",
   "metadata": {},
   "outputs": [
    {
     "data": {
      "text/plain": [
       "array([[ 1.61683398e+09, -2.56991932e+09,  1.39090884e+09, ...,\n",
       "         6.48961530e+06, -6.47042450e+06,  3.23202219e+06],\n",
       "       [ 7.33585214e+08, -1.04926935e+09,  3.80788575e+08, ...,\n",
       "         4.85994607e+05, -4.84549483e+05,  2.42034526e+05],\n",
       "       [-4.35014907e+07,  1.67594478e+08, -2.05511904e+08, ...,\n",
       "        -1.16275499e+05,  1.15924668e+05, -5.79040205e+04],\n",
       "       ...,\n",
       "       [-4.95017614e+03,  9.91032245e+03, -9.94031420e+03, ...,\n",
       "        -1.75461885e+07,  1.43053405e+07, -3.71266774e+06],\n",
       "       [ 1.95490932e+04, -3.91369906e+04,  3.92537130e+04, ...,\n",
       "         3.07508091e+07, -8.47200241e+07,  5.92271108e+07],\n",
       "       [-1.11111111e+00,  2.22441691e+00, -2.23101835e+00, ...,\n",
       "        -5.63636791e+02,  2.25232275e+03, -1.85222222e+03]])"
      ]
     },
     "execution_count": 25,
     "metadata": {},
     "output_type": "execute_result"
    }
   ],
   "source": [
    "A[-1] = D[-1]\n",
    "A = A.astype(float)\n",
    "A"
   ]
  },
  {
   "cell_type": "code",
   "execution_count": 26,
   "id": "6497c2ea",
   "metadata": {},
   "outputs": [
    {
     "data": {
      "text/plain": [
       "array([[1., 0., 0., ..., 0., 0., 0.],\n",
       "       [0., 1., 0., ..., 0., 0., 0.],\n",
       "       [0., 0., 1., ..., 0., 0., 0.],\n",
       "       ...,\n",
       "       [0., 0., 0., ..., 1., 0., 0.],\n",
       "       [0., 0., 0., ..., 0., 1., 0.],\n",
       "       [0., 0., 0., ..., 0., 0., 1.]])"
      ]
     },
     "execution_count": 26,
     "metadata": {},
     "output_type": "execute_result"
    }
   ],
   "source": [
    "B = np.identity(ny)\n",
    "B"
   ]
  },
  {
   "cell_type": "markdown",
   "id": "114ac9e8",
   "metadata": {},
   "source": [
    "Replace bottom row."
   ]
  },
  {
   "cell_type": "code",
   "execution_count": 27,
   "id": "08220d73",
   "metadata": {},
   "outputs": [
    {
     "data": {
      "text/plain": [
       "array([[1., 0., 0., ..., 0., 0., 0.],\n",
       "       [0., 1., 0., ..., 0., 0., 0.],\n",
       "       [0., 0., 1., ..., 0., 0., 0.],\n",
       "       ...,\n",
       "       [0., 0., 0., ..., 1., 0., 0.],\n",
       "       [0., 0., 0., ..., 0., 1., 0.],\n",
       "       [0., 0., 0., ..., 0., 0., 0.]])"
      ]
     },
     "execution_count": 27,
     "metadata": {},
     "output_type": "execute_result"
    }
   ],
   "source": [
    "B[-1] = 0\n",
    "B"
   ]
  },
  {
   "cell_type": "markdown",
   "id": "747d470a",
   "metadata": {},
   "source": [
    "Get eigenvalues."
   ]
  },
  {
   "cell_type": "code",
   "execution_count": 28,
   "id": "9b92edd7",
   "metadata": {},
   "outputs": [],
   "source": [
    "eigenvalues = linalg.eigvals(A, B, homogeneous_eigvals=True)[0]"
   ]
  },
  {
   "cell_type": "code",
   "execution_count": 29,
   "id": "5a6e537d",
   "metadata": {},
   "outputs": [
    {
     "data": {
      "text/plain": [
       "[(-19165687.060954668+0j),\n",
       " (-9684248.284633549+0j),\n",
       " (-4514187.071588535+0j),\n",
       " (-2854166.091013497+0j),\n",
       " (-1864996.7464073722+0j),\n",
       " (-1394363.1320097242+0j),\n",
       " (-1058794.6553244102+0j),\n",
       " (-866761.5906736909+0j),\n",
       " (-719226.1475176122+0j),\n",
       " (-622173.6811504782+0j),\n",
       " (-540912.8328812771+0j),\n",
       " (-472742.57702487253+0j),\n",
       " (-410916.9811560443+0j),\n",
       " (-355500.34491093113+0j),\n",
       " (-305677.3513707341+0j),\n",
       " (-260913.07778547652+0j),\n",
       " (-220760.46059427518+0j),\n",
       " (-184841.1269562545+0j),\n",
       " (-152860.94376154535+0j),\n",
       " (-124558.08545321005+0j),\n",
       " (-99709.93153696692+0j),\n",
       " (-78112.69304262938+0j),\n",
       " (-59580.03164536241+0j),\n",
       " (-43985.89409524072+0j),\n",
       " (-31482.756482952493+0j),\n",
       " (-23297.413405045503+0j),\n",
       " (-18832.23959794098+19802.131406856628j),\n",
       " (-18832.060621240627-19801.943212557133j),\n",
       " (-17879.995647384032+0j),\n",
       " (-9909.891465105538+0j),\n",
       " (-6014.4568074610015+0j),\n",
       " (-1195.4785770044646+0j),\n",
       " (-500.1810611207614+0j),\n",
       " (2987.169352537711+0j),\n",
       " (6918.7027199001395+42694.78954632838j),\n",
       " (6918.782038650361-42695.279016317894j),\n",
       " (66395.78085576413+50046.58974384186j),\n",
       " (66396.17082094106-50046.883684616j),\n",
       " (158036.24993714917+0j),\n",
       " (213224.32314081825+0j),\n",
       " (383882.8923866729+0j),\n",
       " (633752.7511588313+0j),\n",
       " (1040349.6842181354+0j),\n",
       " (1701499.2605580497+0j),\n",
       " (2792252.5104220416+0j),\n",
       " (4626642.328499417+0j),\n",
       " (7759379.485466111+0j),\n",
       " (13228226.761998637+0j),\n",
       " (23064556.73830552+0j),\n",
       " (41617177.51479618+0j),\n",
       " (80709730.32672404+0j)]"
      ]
     },
     "execution_count": 29,
     "metadata": {},
     "output_type": "execute_result"
    }
   ],
   "source": [
    "sorted(eigenvalues)"
   ]
  }
 ],
 "metadata": {
  "kernelspec": {
   "display_name": "Python 3.10.3 ('env': venv)",
   "language": "python",
   "name": "python3"
  },
  "language_info": {
   "codemirror_mode": {
    "name": "ipython",
    "version": 3
   },
   "file_extension": ".py",
   "mimetype": "text/x-python",
   "name": "python",
   "nbconvert_exporter": "python",
   "pygments_lexer": "ipython3",
   "version": "3.10.3"
  },
  "vscode": {
   "interpreter": {
    "hash": "c4cf3c24cb46a3fd1f6949e64220e8351ad1410e125a86590159f01143d71e6f"
   }
  }
 },
 "nbformat": 4,
 "nbformat_minor": 5
}
