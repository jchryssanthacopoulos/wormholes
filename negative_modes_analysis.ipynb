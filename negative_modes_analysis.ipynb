{
 "cells": [
  {
   "cell_type": "markdown",
   "id": "6d9963f1",
   "metadata": {},
   "source": [
    "## Determination of Negative Modes\n",
    "\n",
    "The purpose of this notebook is to determine the negative modes of the connected wormhole solution."
   ]
  },
  {
   "cell_type": "code",
   "execution_count": 205,
   "id": "c3dc1ed9",
   "metadata": {},
   "outputs": [],
   "source": [
    "import numpy as np"
   ]
  },
  {
   "cell_type": "code",
   "execution_count": 206,
   "id": "acb549f2",
   "metadata": {},
   "outputs": [],
   "source": [
    "def cheb(N):\n",
    "    \"\"\"Chebyshev polynomial differentiation matrix.\"\"\"\n",
    "    x = np.cos(np.pi * np.arange(0, N + 1) / N)\n",
    "\n",
    "    if N % 2 == 0:\n",
    "        x[N // 2] = 0.0 # only when N is even!\n",
    "\n",
    "    c = np.ones(N + 1)\n",
    "    c[0] = 2.0\n",
    "    c[N] = 2.0\n",
    "    c = c * (-1.0) ** np.arange(0, N + 1)\n",
    "    c = c.reshape(N + 1, 1)\n",
    "\n",
    "    X = np.tile(x.reshape(N + 1, 1), (1, N + 1))\n",
    "    dX = X - X.T\n",
    "    D = np.dot(c, 1.0 / c.T) / (dX + np.eye(N + 1))\n",
    "    D = D - np.diag(D.sum(axis=1))\n",
    "\n",
    "    return D, x"
   ]
  },
  {
   "cell_type": "code",
   "execution_count": 207,
   "id": "fa8aed76",
   "metadata": {},
   "outputs": [],
   "source": [
    "def cheb_2(N, x_minus, x_plus):\n",
    "    def get_a(x, j):\n",
    "        a = 1\n",
    "        for k in range(len(x)):\n",
    "            if k != j:\n",
    "                a *= x[j] - x[k]\n",
    "        return a\n",
    "\n",
    "    x = (x_plus + x_minus) / 2 + (x_plus - x_minus) / 2 * np.cos(np.pi * np.arange(0, N + 1) / N)\n",
    "\n",
    "    D = np.zeros((N + 1, N + 1))\n",
    "    for i in range(N + 1):\n",
    "        a_i = get_a(x, i)\n",
    "        for j in range(N + 1):\n",
    "            if j != i:\n",
    "                # diagonal element\n",
    "                D[i, i] += 1 / (x[i] - x[j])\n",
    "                # off diagonal element\n",
    "                a_j = get_a(x, j)\n",
    "                D[i, j] = a_i / (a_j * (x[i] - x[j]))\n",
    "\n",
    "    return D, x"
   ]
  },
  {
   "cell_type": "code",
   "execution_count": 219,
   "id": "0c322a08",
   "metadata": {},
   "outputs": [],
   "source": [
    "y_minus = 0\n",
    "y_plus = 0.9\n",
    "N = 50"
   ]
  },
  {
   "cell_type": "code",
   "execution_count": 220,
   "id": "0bf7c88e",
   "metadata": {},
   "outputs": [],
   "source": [
    "D, y_array = cheb_2(N, y_minus, y_plus)"
   ]
  },
  {
   "cell_type": "code",
   "execution_count": 276,
   "id": "01617a65",
   "metadata": {},
   "outputs": [
    {
     "data": {
      "text/plain": [
       "array([9.00000000e-01, 8.99112028e-01, 8.96451616e-01, 8.92029263e-01,\n",
       "       8.85862423e-01, 8.77975432e-01, 8.68399419e-01, 8.57172174e-01,\n",
       "       8.44338006e-01, 8.29947566e-01, 8.14057647e-01, 7.96730959e-01,\n",
       "       7.78035882e-01, 7.58046198e-01, 7.36840795e-01, 7.14503364e-01,\n",
       "       6.91122058e-01, 6.66789153e-01, 6.41600681e-01, 6.15656049e-01,\n",
       "       5.89057647e-01, 5.61910449e-01, 5.34321592e-01, 5.06399955e-01,\n",
       "       4.78255734e-01, 4.50000000e-01, 4.21744266e-01, 3.93600045e-01,\n",
       "       3.65678408e-01, 3.38089551e-01, 3.10942353e-01, 2.84343951e-01,\n",
       "       2.58399319e-01, 2.33210847e-01, 2.08877942e-01, 1.85496636e-01,\n",
       "       1.63159205e-01, 1.41953802e-01, 1.21964118e-01, 1.03269041e-01,\n",
       "       8.59423525e-02, 7.00524335e-02, 5.56619940e-02, 4.28278264e-02,\n",
       "       3.16005814e-02, 2.20245677e-02, 1.41375775e-02, 7.97073717e-03,\n",
       "       3.54838441e-03, 8.87972207e-04, 0.00000000e+00])"
      ]
     },
     "execution_count": 276,
     "metadata": {},
     "output_type": "execute_result"
    }
   ],
   "source": [
    "y_array"
   ]
  },
  {
   "cell_type": "code",
   "execution_count": 221,
   "id": "2292c516",
   "metadata": {},
   "outputs": [],
   "source": [
    "D2 = np.dot(D, D)"
   ]
  },
  {
   "cell_type": "markdown",
   "id": "1443b901",
   "metadata": {},
   "source": [
    "### Eigenvalue Problem"
   ]
  },
  {
   "cell_type": "code",
   "execution_count": 106,
   "id": "019403f7",
   "metadata": {},
   "outputs": [],
   "source": [
    "import sympy\n",
    "\n",
    "sympy.init_printing()"
   ]
  },
  {
   "cell_type": "code",
   "execution_count": 161,
   "id": "900f1265",
   "metadata": {},
   "outputs": [],
   "source": [
    "r, r_0, L, lam = sympy.symbols(\"r r_0 L lambda\")"
   ]
  },
  {
   "cell_type": "code",
   "execution_count": 135,
   "id": "307a04c6",
   "metadata": {},
   "outputs": [],
   "source": [
    "# spherical part of the metric\n",
    "g = sympy.Function(\"g\")(r)\n",
    "dg = sympy.diff(g, r)\n",
    "\n",
    "# solution\n",
    "g_sol = r ** 2 + r_0 ** 2\n",
    "dg_sol = sympy.diff(g_sol, r)"
   ]
  },
  {
   "cell_type": "code",
   "execution_count": 136,
   "id": "1db740c9",
   "metadata": {},
   "outputs": [],
   "source": [
    "# radial part of the metric\n",
    "f = sympy.Function(\"f\")(r)\n",
    "df = sympy.diff(f, r)\n",
    "\n",
    "# solution\n",
    "f_sol = (L ** 2 + r ** 2 + 2 * r_0 ** 2) / L ** 2\n",
    "df_sol = sympy.diff(f_sol, r)"
   ]
  },
  {
   "cell_type": "code",
   "execution_count": 255,
   "id": "42fd738b",
   "metadata": {},
   "outputs": [],
   "source": [
    "# gauge field\n",
    "Phi = sympy.Function(\"Phi\")(r)\n",
    "dPhi = sympy.diff(Phi, r)\n",
    "ddPhi = sympy.diff(dPhi, r)"
   ]
  },
  {
   "cell_type": "code",
   "execution_count": 280,
   "id": "ad779948",
   "metadata": {},
   "outputs": [],
   "source": [
    "q = sympy.Function(\"q\")(r)\n",
    "dq = sympy.diff(q, r)\n",
    "ddq = sympy.diff(dq, r)\n",
    "\n",
    "K = sympy.Function(\"K\")(r)\n",
    "dK = sympy.diff(K, r)\n",
    "K_sol = 6 * L ** 2 * r ** 2 / (r ** 2 - g * L ** 2 * dPhi ** 2)\n",
    "\n",
    "V = sympy.Function(\"V\")(r)\n",
    "V_sol = (4 * K_sol / g) * ((2 * g) / (L ** 2 * f * r) * ((L ** 2 * (r - L ** 2 * Phi * dPhi) + g * (r - 2 * L ** 2 * Phi * dPhi)) / (r ** 2 - g * L ** 2 * dPhi ** 2)) - 1)"
   ]
  },
  {
   "cell_type": "code",
   "execution_count": 140,
   "id": "bae1540a",
   "metadata": {},
   "outputs": [
    {
     "data": {
      "image/png": "[encoded data removed]",
      "text/latex": [
       "$\\displaystyle - \\lambda q{\\left(r \\right)} - \\frac{r \\sqrt{\\frac{f{\\left(r \\right)}}{g{\\left(r \\right)}}} \\sqrt{f{\\left(r \\right)} g{\\left(r \\right)}} K{\\left(r \\right)} \\frac{d}{d r} q{\\left(r \\right)}}{g{\\left(r \\right)}} - \\sqrt{\\frac{f{\\left(r \\right)}}{g{\\left(r \\right)}}} \\sqrt{f{\\left(r \\right)} g{\\left(r \\right)}} K{\\left(r \\right)} \\frac{d^{2}}{d r^{2}} q{\\left(r \\right)} - \\sqrt{\\frac{f{\\left(r \\right)}}{g{\\left(r \\right)}}} \\sqrt{f{\\left(r \\right)} g{\\left(r \\right)}} \\frac{d}{d r} K{\\left(r \\right)} \\frac{d}{d r} q{\\left(r \\right)} + V{\\left(r \\right)} q{\\left(r \\right)} - \\frac{r \\sqrt{\\frac{f{\\left(r \\right)}}{g{\\left(r \\right)}}} \\sqrt{f{\\left(r \\right)} g{\\left(r \\right)}} K{\\left(r \\right)} \\frac{d}{d r} q{\\left(r \\right)}}{L^{2} f{\\left(r \\right)}}$"
      ],
      "text/plain": [
       "                ______                                                        \n",
       "               ╱ f(r)    ___________      d                                   \n",
       "          r⋅  ╱  ──── ⋅╲╱ f(r)⋅g(r) ⋅K(r)⋅──(q(r))       ______               \n",
       "            ╲╱   g(r)                     dr            ╱ f(r)    ___________ \n",
       "-λ⋅q(r) - ──────────────────────────────────────── -   ╱  ──── ⋅╲╱ f(r)⋅g(r) ⋅\n",
       "                            g(r)                     ╲╱   g(r)                \n",
       "                                                                              \n",
       "\n",
       "                                                                              \n",
       "                                                                              \n",
       "       2             ______                                               r⋅  \n",
       "      d             ╱ f(r)    ___________ d        d                        ╲╱\n",
       "K(r)⋅───(q(r)) -   ╱  ──── ⋅╲╱ f(r)⋅g(r) ⋅──(K(r))⋅──(q(r)) + V(r)⋅q(r) - ────\n",
       "       2         ╲╱   g(r)                dr       dr                         \n",
       "     dr                                                                       \n",
       "\n",
       "  ______                            \n",
       " ╱ f(r)    ___________      d       \n",
       "╱  ──── ⋅╲╱ f(r)⋅g(r) ⋅K(r)⋅──(q(r))\n",
       "   g(r)                     dr      \n",
       "────────────────────────────────────\n",
       "             2                      \n",
       "            L ⋅f(r)                 "
      ]
     },
     "execution_count": 140,
     "metadata": {},
     "output_type": "execute_result"
    }
   ],
   "source": [
    "eigen = -sympy.sqrt(f / g) * sympy.diff(sympy.sqrt(f * g) * K * dq, r) + V * q - lam * q\n",
    "eigen.expand().subs({dg: dg_sol, df: df_sol})"
   ]
  },
  {
   "cell_type": "code",
   "execution_count": 239,
   "id": "d9f2f7ee",
   "metadata": {},
   "outputs": [
    {
     "data": {
      "image/png": "[encoded data removed]",
      "text/latex": [
       "$\\displaystyle \\left(- \\lambda + V{\\left(r \\right)}\\right) q{\\left(r \\right)} + \\left(- \\frac{r K{\\left(r \\right)} f{\\left(r \\right)}}{g{\\left(r \\right)}} - f{\\left(r \\right)} \\frac{d}{d r} K{\\left(r \\right)} - \\frac{r K{\\left(r \\right)}}{L^{2}}\\right) \\frac{d}{d r} q{\\left(r \\right)} - K{\\left(r \\right)} f{\\left(r \\right)} \\frac{d^{2}}{d r^{2}} q{\\left(r \\right)}$"
      ],
      "text/plain": [
       "                                                                              \n",
       "                   ⎛  r⋅K(r)⋅f(r)        d          r⋅K(r)⎞ d                 \n",
       "(-λ + V(r))⋅q(r) + ⎜- ─────────── - f(r)⋅──(K(r)) - ──────⎟⋅──(q(r)) - K(r)⋅f(\n",
       "                   ⎜      g(r)           dr            2  ⎟ dr                \n",
       "                   ⎝                                  L   ⎠                   \n",
       "\n",
       "     2      \n",
       "    d       \n",
       "r)⋅───(q(r))\n",
       "     2      \n",
       "   dr       "
      ]
     },
     "execution_count": 239,
     "metadata": {},
     "output_type": "execute_result"
    }
   ],
   "source": [
    "eigen = -lam * q - r * f * K * dq / g - f * K * ddq - f * dK * dq + V * q - r * K * dq / L ** 2\n",
    "eigen.collect([q, dq])"
   ]
  },
  {
   "cell_type": "markdown",
   "id": "63a2488e",
   "metadata": {},
   "source": [
    "#### Discretize"
   ]
  },
  {
   "cell_type": "markdown",
   "id": "ef16d066",
   "metadata": {},
   "source": [
    "The idea is to tune r_0, the length of the wormhole throat, and determine the eigenvalue. Since r_0 = bL, this amounts to tuning b. Therefore, all functions should depend on b."
   ]
  },
  {
   "cell_type": "markdown",
   "id": "16e3e702",
   "metadata": {},
   "source": [
    "For numerical convenience, we will make the change of variables r = r_0 * y / (1 - y) = bLy / (1 - y)."
   ]
  },
  {
   "cell_type": "code",
   "execution_count": 295,
   "id": "039eb45f",
   "metadata": {},
   "outputs": [],
   "source": [
    "y, b = sympy.symbols(\"y b\")\n",
    "\n",
    "# these will be used to express Phi derivatives in terms of y\n",
    "Phi_y = sympy.Function(\"Phi\")(y)\n",
    "dPhi_y = sympy.Function(\"dPhi\")(y)\n",
    "ddPhi_y = sympy.Function(\"ddPhi\")(y)"
   ]
  },
  {
   "cell_type": "code",
   "execution_count": 246,
   "id": "44a6789d",
   "metadata": {},
   "outputs": [
    {
     "data": {
      "image/png": "[encoded data removed]",
      "text/latex": [
       "$\\displaystyle \\frac{L b y}{1 - y}$"
      ],
      "text/plain": [
       "L⋅b⋅y\n",
       "─────\n",
       "1 - y"
      ]
     },
     "execution_count": 246,
     "metadata": {},
     "output_type": "execute_result"
    }
   ],
   "source": [
    "r_in_terms_of_y = b * L * y / (1 - y)\n",
    "r_in_terms_of_y"
   ]
  },
  {
   "cell_type": "code",
   "execution_count": 247,
   "id": "20668bd1",
   "metadata": {},
   "outputs": [],
   "source": [
    "r_0_in_terms_of_b = b * L"
   ]
  },
  {
   "cell_type": "markdown",
   "id": "71f8bb05",
   "metadata": {},
   "source": [
    "##### ddq term"
   ]
  },
  {
   "cell_type": "code",
   "execution_count": 277,
   "id": "27621688",
   "metadata": {},
   "outputs": [
    {
     "data": {
      "image/png": "[encoded data removed]",
      "text/latex": [
       "$\\displaystyle - K{\\left(r \\right)} f{\\left(r \\right)}$"
      ],
      "text/plain": [
       "-K(r)⋅f(r)"
      ]
     },
     "execution_count": 277,
     "metadata": {},
     "output_type": "execute_result"
    }
   ],
   "source": [
    "ddq_factor = -K * f\n",
    "ddq_factor"
   ]
  },
  {
   "cell_type": "code",
   "execution_count": 166,
   "id": "ebd7583a",
   "metadata": {},
   "outputs": [
    {
     "data": {
      "image/png": "[encoded data removed]",
      "text/latex": [
       "$\\displaystyle \\frac{6 L^{2} y^{2} \\left(b^{2} y^{2} + \\left(2 b^{2} + 1\\right) \\left(y - 1\\right)^{2}\\right)}{\\left(y - 1\\right)^{2} \\left(L^{2} \\left(y^{2} + \\left(y - 1\\right)^{2}\\right) \\operatorname{dPhi}^{2}{\\left(y \\right)} - y^{2}\\right)}$"
      ],
      "text/plain": [
       "      2  2 ⎛ 2  2   ⎛   2    ⎞        2⎞   \n",
       "   6⋅L ⋅y ⋅⎝b ⋅y  + ⎝2⋅b  + 1⎠⋅(y - 1) ⎠   \n",
       "───────────────────────────────────────────\n",
       "       2 ⎛ 2 ⎛ 2          2⎞     2       2⎞\n",
       "(y - 1) ⋅⎝L ⋅⎝y  + (y - 1) ⎠⋅dPhi (y) - y ⎠"
      ]
     },
     "execution_count": 166,
     "metadata": {},
     "output_type": "execute_result"
    }
   ],
   "source": [
    "ddq_factor = ddq_factor.subs({K: K_sol, g: g_sol, f: f_sol}).subs({r_0: r_0_in_terms_of_b, dPhi: dPhi_y, r: r_in_terms_of_y}).simplify()\n",
    "ddq_factor"
   ]
  },
  {
   "cell_type": "code",
   "execution_count": 186,
   "id": "0fe97afb",
   "metadata": {},
   "outputs": [],
   "source": [
    "from scipy.special import ellipkinc\n",
    "\n",
    "def dphi_of_r(y_val, b_val, L_val):\n",
    "    \"\"\"Get radial derivative of gauge field.\"\"\"\n",
    "    a = np.sqrt(2 * b_val ** 2 + 1)\n",
    "    phi_star = np.sqrt(a ** 4 - 1) / 4\n",
    "    r_val = L_val * b_val * y_val / (1 - y_val)\n",
    "    phi = np.arctan(r_val / (L_val * a))\n",
    "    m = 1 - a ** 2 / b_val ** 2\n",
    "    denom = np.sqrt((L_val * a * b_val) ** 2 + (a ** 2 + b_val ** 2) * r_val ** 2 + r_val ** 4 / L_val ** 2)\n",
    "    return phi_star * np.sinh((2 / b_val) * ellipkinc(phi, m)) * 2 / denom"
   ]
  },
  {
   "cell_type": "code",
   "execution_count": 224,
   "id": "3c578fe2",
   "metadata": {},
   "outputs": [],
   "source": [
    "b_val = 1.25\n",
    "L_val = 1"
   ]
  },
  {
   "cell_type": "code",
   "execution_count": 229,
   "id": "ef5cc89e",
   "metadata": {},
   "outputs": [
    {
     "data": {
      "text/plain": [
       "array([[-785.658900416130, 0, 0, ..., 0, 0, 0],\n",
       "       [0, -770.903753801626, 0, ..., 0, 0, 0],\n",
       "       [0, 0, -729.033037866885, ..., 0, 0, 0],\n",
       "       ...,\n",
       "       [0, 0, 0, ..., -62.2462187467288, 0, 0],\n",
       "       [0, 0, 0, ..., 0, -62.2465160472145, 0],\n",
       "       [0, 0, 0, ..., 0, 0, -24.7500000000000]], dtype=object)"
      ]
     },
     "execution_count": 229,
     "metadata": {},
     "output_type": "execute_result"
    }
   ],
   "source": [
    "ddq_factors_num = []\n",
    "\n",
    "for y_val in y_array:\n",
    "    dPhi_y_val = dphi_of_r(y_val, b_val, L_val)\n",
    "    ddq_factors_num.append(ddq_factor.subs({b: b_val, y: y_val, L: L_val, dPhi_y: dPhi_y_val}))\n",
    "\n",
    "ddq_factor_mat = np.diag(ddq_factors_num)\n",
    "ddq_factor_mat"
   ]
  },
  {
   "cell_type": "code",
   "execution_count": 230,
   "id": "b3c08c59",
   "metadata": {},
   "outputs": [
    {
     "data": {
      "text/plain": [
       "array([[-1616581840.96856, 2569612714.80453, -1390832110.40836, ...,\n",
       "        -6489311.58997507, 6470121.68899733, -3231870.93356353],\n",
       "       [-733509301.718049, 1049231429.09935, -380839250.171994, ...,\n",
       "        -486145.145547110, 484699.575679972, -242109.497988364],\n",
       "       [43483028.7961180, -167545229.704584, 205502709.290713, ...,\n",
       "        116422.233673913, -116070.966551350, 57977.0972516126],\n",
       "       ...,\n",
       "       [4950.19414810734, -9910.35851439841, 9940.35036526631, ...,\n",
       "        17546209.7478924, -14305328.3959220, 3712663.18757325],\n",
       "       [-19549.0976368885, 39136.9996148648, -39253.7219521058, ...,\n",
       "        -30750812.1219230, 84720045.3579269, -59227106.2308493],\n",
       "       [-101811.111111115, 203823.200778187, -204427.725272143, ...,\n",
       "        -43814299.9644960, 80948506.6072907, -50925917.7777767]],\n",
       "      dtype=object)"
      ]
     },
     "execution_count": 230,
     "metadata": {},
     "output_type": "execute_result"
    }
   ],
   "source": [
    "ddq_factor_total = np.dot(ddq_factor_mat, D2)\n",
    "ddq_factor_total"
   ]
  },
  {
   "cell_type": "markdown",
   "id": "9d12143d",
   "metadata": {},
   "source": [
    "##### dq term"
   ]
  },
  {
   "cell_type": "code",
   "execution_count": 282,
   "id": "4ec928a3",
   "metadata": {},
   "outputs": [
    {
     "data": {
      "image/png": "[encoded data removed]",
      "text/latex": [
       "$\\displaystyle - \\frac{r K{\\left(r \\right)} f{\\left(r \\right)}}{g{\\left(r \\right)}} - f{\\left(r \\right)} \\frac{d}{d r} K{\\left(r \\right)} - \\frac{r K{\\left(r \\right)}}{L^{2}}$"
      ],
      "text/plain": [
       "  r⋅K(r)⋅f(r)        d          r⋅K(r)\n",
       "- ─────────── - f(r)⋅──(K(r)) - ──────\n",
       "      g(r)           dr            2  \n",
       "                                  L   "
      ]
     },
     "execution_count": 282,
     "metadata": {},
     "output_type": "execute_result"
    }
   ],
   "source": [
    "dq_factor = -r * K * f / g - r * K / L ** 2 - f * dK\n",
    "dq_factor"
   ]
  },
  {
   "cell_type": "code",
   "execution_count": 283,
   "id": "d4e18848",
   "metadata": {},
   "outputs": [
    {
     "data": {
      "image/png": "[encoded data removed]",
      "text/latex": [
       "$\\displaystyle \\frac{6 L y \\left(y^{2} \\left(y - 1\\right)^{2} \\left(L^{2} \\left(y^{2} + \\left(1 - y\\right)^{2}\\right) \\operatorname{dPhi}^{2}{\\left(y \\right)} - y^{2}\\right)^{2} \\left(b^{2} y^{2} + b^{2} \\left(y^{2} + \\left(y - 1\\right)^{2}\\right) + \\left(2 b^{2} + 1\\right) \\left(y - 1\\right)^{2}\\right) - 2 \\cdot \\left(1 - y\\right) \\left(y^{2} + \\left(y - 1\\right)^{2}\\right) \\left(b^{2} y^{2} + \\left(2 b^{2} + 1\\right) \\left(y - 1\\right)^{2}\\right) \\left(y \\left(- L^{3} b \\left(y^{2} + \\left(1 - y\\right)^{2}\\right) \\operatorname{dPhi}{\\left(y \\right)} \\operatorname{ddPhi}{\\left(y \\right)} + y \\left(1 - y\\right) \\left(- L^{2} \\operatorname{dPhi}^{2}{\\left(y \\right)} + 1\\right)\\right) + \\left(1 - y\\right) \\left(L^{2} \\left(y^{2} + \\left(1 - y\\right)^{2}\\right) \\operatorname{dPhi}^{2}{\\left(y \\right)} - y^{2}\\right)\\right) \\left(- L^{2} \\left(y^{2} + \\left(1 - y\\right)^{2}\\right) \\operatorname{dPhi}^{2}{\\left(y \\right)} + y^{2}\\right)\\right)}{b \\left(y - 1\\right)^{3} \\left(y^{2} + \\left(y - 1\\right)^{2}\\right) \\left(L^{2} \\left(y^{2} + \\left(1 - y\\right)^{2}\\right) \\operatorname{dPhi}^{2}{\\left(y \\right)} - y^{2}\\right)^{2} \\left(- L^{2} \\left(y^{2} + \\left(y - 1\\right)^{2}\\right) \\operatorname{dPhi}^{2}{\\left(y \\right)} + y^{2}\\right)}$"
      ],
      "text/plain": [
       "      ⎛                                              2                        \n",
       "      ⎜ 2        2 ⎛ 2 ⎛ 2          2⎞     2       2⎞  ⎛ 2  2    2 ⎛ 2        \n",
       "6⋅L⋅y⋅⎝y ⋅(y - 1) ⋅⎝L ⋅⎝y  + (1 - y) ⎠⋅dPhi (y) - y ⎠ ⋅⎝b ⋅y  + b ⋅⎝y  + (y - \n",
       "──────────────────────────────────────────────────────────────────────────────\n",
       "                                                                              \n",
       "                                                                              \n",
       "                                                                              \n",
       "\n",
       "                                                                              \n",
       "  2⎞   ⎛   2    ⎞        2⎞             ⎛ 2          2⎞ ⎛ 2  2   ⎛   2    ⎞   \n",
       "1) ⎠ + ⎝2⋅b  + 1⎠⋅(y - 1) ⎠ - 2⋅(1 - y)⋅⎝y  + (y - 1) ⎠⋅⎝b ⋅y  + ⎝2⋅b  + 1⎠⋅(y\n",
       "──────────────────────────────────────────────────────────────────────────────\n",
       "                                                                              \n",
       "                                           3 ⎛ 2          2⎞ ⎛ 2 ⎛ 2          \n",
       "                                  b⋅(y - 1) ⋅⎝y  + (y - 1) ⎠⋅⎝L ⋅⎝y  + (1 - y)\n",
       "\n",
       "                                                                              \n",
       "     2⎞ ⎛  ⎛   3   ⎛ 2          2⎞                              ⎛   2     2   \n",
       " - 1) ⎠⋅⎝y⋅⎝- L ⋅b⋅⎝y  + (1 - y) ⎠⋅dPhi(y)⋅ddPhi(y) + y⋅(1 - y)⋅⎝- L ⋅dPhi (y)\n",
       "──────────────────────────────────────────────────────────────────────────────\n",
       "                 2                                                            \n",
       "2⎞     2       2⎞  ⎛   2 ⎛ 2          2⎞     2       2⎞                       \n",
       " ⎠⋅dPhi (y) - y ⎠ ⋅⎝- L ⋅⎝y  + (y - 1) ⎠⋅dPhi (y) + y ⎠                       \n",
       "\n",
       "                                                                              \n",
       "    ⎞⎞           ⎛ 2 ⎛ 2          2⎞     2       2⎞⎞ ⎛   2 ⎛ 2          2⎞    \n",
       " + 1⎠⎠ + (1 - y)⋅⎝L ⋅⎝y  + (1 - y) ⎠⋅dPhi (y) - y ⎠⎠⋅⎝- L ⋅⎝y  + (1 - y) ⎠⋅dPh\n",
       "──────────────────────────────────────────────────────────────────────────────\n",
       "                                                                              \n",
       "                                                                              \n",
       "                                                                              \n",
       "\n",
       "           ⎞\n",
       " 2       2⎞⎟\n",
       "i (y) + y ⎠⎠\n",
       "────────────\n",
       "            \n",
       "            \n",
       "            "
      ]
     },
     "execution_count": 283,
     "metadata": {},
     "output_type": "execute_result"
    }
   ],
   "source": [
    "dq_factor = dq_factor.subs({K: K_sol, g: g_sol, f: f_sol}).simplify().subs({r_0: r_0_in_terms_of_b, dPhi: dPhi_y, ddPhi: ddPhi_y, r: r_in_terms_of_y}).simplify()\n",
    "dq_factor"
   ]
  },
  {
   "cell_type": "code",
   "execution_count": 270,
   "id": "6510398d",
   "metadata": {},
   "outputs": [],
   "source": [
    "def ddphi_of_r(r_val, b_val, L_val):\n",
    "    \"\"\"Get second derivative of gauge field.\"\"\"\n",
    "    a = np.sqrt(2 * b_val ** 2 + 1)\n",
    "    phi_star = np.sqrt(a ** 4 - 1) / 4\n",
    "    r_val = L_val * b_val * y_val / (1 - y_val)\n",
    "\n",
    "    phi = np.arctan2(r_val, (L_val * a))\n",
    "    m = 1 - a ** 2 / b_val ** 2\n",
    "    sin_part = np.sinh((2 / b_val) * ellipkinc(phi, m))\n",
    "    cos_part = np.cosh((2 / b_val) * ellipkinc(phi, m))\n",
    "\n",
    "    first_term = 2 * L_val * (a ** 2 * L_val ** 2 + r_val ** 2) ** 2 * cos_part / (b_val ** 2 * L_val ** 2 + r_val ** 2)\n",
    "\n",
    "    fac1 = a ** 2 * L_val ** 2 + b_val ** 2 * L_val ** 2 + 2 * r_val ** 2\n",
    "    fac2 = a ** 2 * (b_val ** 2 * L_val ** 2 + r_val ** 2) / (b_val ** 2 * (a ** 2 * L_val ** 2 + r_val ** 2))\n",
    "    second_term = a ** 3 * r_val * fac1 * sin_part / (b_val ** 3 * fac2 ** (3. / 2))\n",
    "\n",
    "    return 2 * L_val * phi_star * (first_term - second_term) / (a ** 2 * L_val ** 2 + r_val ** 2) ** 3"
   ]
  },
  {
   "cell_type": "code",
   "execution_count": 284,
   "id": "72cd56cf",
   "metadata": {},
   "outputs": [
    {
     "data": {
      "text/plain": [
       "array([[-136.129265197060, 0, 0, ..., 0, 0, 0],\n",
       "       [0, -134.816753788687, 0, ..., 0, 0, 0],\n",
       "       [0, 0, -131.019619106546, ..., 0, 0, 0],\n",
       "       ...,\n",
       "       [0, 0, 0, ..., 0.0322943858985961, 0, 0],\n",
       "       [0, 0, 0, ..., 0, 0.00806077269355366, 0],\n",
       "       [0, 0, 0, ..., 0, 0, 0]], dtype=object)"
      ]
     },
     "execution_count": 284,
     "metadata": {},
     "output_type": "execute_result"
    }
   ],
   "source": [
    "dq_factors_num = []\n",
    "\n",
    "for y_val in y_array:\n",
    "    dPhi_y_val = dphi_of_r(y_val, b_val, L_val)\n",
    "    ddPhi_y_val = ddphi_of_r(y_val, b_val, L_val)\n",
    "    dq_factors_num.append(dq_factor.subs({b: b_val, y: y_val, L: L_val, dPhi_y: dPhi_y_val, ddPhi_y: ddPhi_y_val}))\n",
    "\n",
    "dq_factor_mat = np.diag(dq_factors_num)\n",
    "dq_factor_mat"
   ]
  },
  {
   "cell_type": "code",
   "execution_count": 285,
   "id": "83833e1a",
   "metadata": {},
   "outputs": [
    {
     "data": {
      "text/plain": [
       "array([[-252141.650092782, 306607.040358580, -76727.4621495561, ...,\n",
       "        -303.706887977963, 302.808239661184, -151.254739107837],\n",
       "       [-75912.7102648831, 37918.8690490604, 50675.1373819095, ...,\n",
       "        150.538439992083, -150.092566493130, 74.9721667719501],\n",
       "       [18461.8694064335, -49247.8643148197, 9194.39630648703, ...,\n",
       "        -146.734399127392, 146.298501591063, -73.0767934530923],\n",
       "       ...,\n",
       "       [-0.0180123418469649, 0.0360604030067128, -0.0361678452611353,\n",
       "        ..., 2.26628183207399, -12.1388655051056, 4.55057600599471],\n",
       "       [0.00448262977492512, -0.00897412248472883, 0.00900078152245313,\n",
       "        ..., 3.02989615289548, 2.26719139581194, -4.53886542139912],\n",
       "       [0, 0, 0, ..., 0, 0, 0]], dtype=object)"
      ]
     },
     "execution_count": 285,
     "metadata": {},
     "output_type": "execute_result"
    }
   ],
   "source": [
    "dq_factor_total = np.dot(dq_factor_mat, D)\n",
    "dq_factor_total"
   ]
  },
  {
   "cell_type": "markdown",
   "id": "9c0c6f3a",
   "metadata": {},
   "source": [
    "##### q term"
   ]
  },
  {
   "cell_type": "code",
   "execution_count": 279,
   "id": "cdfe2870",
   "metadata": {},
   "outputs": [
    {
     "data": {
      "image/png": "[encoded data removed]",
      "text/latex": [
       "$\\displaystyle V{\\left(r \\right)}$"
      ],
      "text/plain": [
       "V(r)"
      ]
     },
     "execution_count": 279,
     "metadata": {},
     "output_type": "execute_result"
    }
   ],
   "source": [
    "q_factor = V\n",
    "q_factor"
   ]
  },
  {
   "cell_type": "code",
   "execution_count": 296,
   "id": "f7b1653a",
   "metadata": {},
   "outputs": [
    {
     "data": {
      "image/png": "[encoded data removed]",
      "text/latex": [
       "$\\displaystyle \\frac{24 y \\left(y - 1\\right) \\left(b y \\left(y - 1\\right) \\left(b^{2} y^{2} + \\left(2 b^{2} + 1\\right) \\left(y - 1\\right)^{2}\\right) \\left(L^{2} \\left(y^{2} + \\left(y - 1\\right)^{2}\\right) \\operatorname{dPhi}^{2}{\\left(y \\right)} - y^{2}\\right) - 2 \\left(y - 1\\right) \\left(y^{2} + \\left(y - 1\\right)^{2}\\right) \\left(b^{2} \\left(y^{2} + \\left(y - 1\\right)^{2}\\right) \\left(- 2 L \\left(y - 1\\right) \\Phi{\\left(y \\right)} \\operatorname{dPhi}{\\left(y \\right)} - b y\\right) + \\left(y - 1\\right)^{2} \\left(L \\left(1 - y\\right) \\Phi{\\left(y \\right)} \\operatorname{dPhi}{\\left(y \\right)} - b y\\right)\\right)\\right)}{b^{3} \\left(y^{2} + \\left(y - 1\\right)^{2}\\right) \\left(b^{2} y^{2} + \\left(2 b^{2} + 1\\right) \\left(y - 1\\right)^{2}\\right) \\left(L^{2} \\left(y^{2} + \\left(y - 1\\right)^{2}\\right) \\operatorname{dPhi}^{2}{\\left(y \\right)} - y^{2}\\right)^{2}}$"
      ],
      "text/plain": [
       "             ⎛            ⎛ 2  2   ⎛   2    ⎞        2⎞ ⎛ 2 ⎛ 2          2⎞   \n",
       "24⋅y⋅(y - 1)⋅⎝b⋅y⋅(y - 1)⋅⎝b ⋅y  + ⎝2⋅b  + 1⎠⋅(y - 1) ⎠⋅⎝L ⋅⎝y  + (y - 1) ⎠⋅dP\n",
       "──────────────────────────────────────────────────────────────────────────────\n",
       "                                                                              \n",
       "                                                                   3 ⎛ 2      \n",
       "                                                                  b ⋅⎝y  + (y \n",
       "\n",
       "  2       2⎞             ⎛ 2          2⎞ ⎛ 2 ⎛ 2          2⎞                  \n",
       "hi (y) - y ⎠ - 2⋅(y - 1)⋅⎝y  + (y - 1) ⎠⋅⎝b ⋅⎝y  + (y - 1) ⎠⋅(-2⋅L⋅(y - 1)⋅Φ(y\n",
       "──────────────────────────────────────────────────────────────────────────────\n",
       "                                                                       2      \n",
       "    2⎞ ⎛ 2  2   ⎛   2    ⎞        2⎞ ⎛ 2 ⎛ 2          2⎞     2       2⎞       \n",
       "- 1) ⎠⋅⎝b ⋅y  + ⎝2⋅b  + 1⎠⋅(y - 1) ⎠⋅⎝L ⋅⎝y  + (y - 1) ⎠⋅dPhi (y) - y ⎠       \n",
       "\n",
       "                          2                               ⎞⎞\n",
       ")⋅dPhi(y) - b⋅y) + (y - 1) ⋅(L⋅(1 - y)⋅Φ(y)⋅dPhi(y) - b⋅y)⎠⎠\n",
       "────────────────────────────────────────────────────────────\n",
       "                                                            \n",
       "                                                            \n",
       "                                                            "
      ]
     },
     "execution_count": 296,
     "metadata": {},
     "output_type": "execute_result"
    }
   ],
   "source": [
    "q_factor = V.subs({V: V_sol}).subs({f: f_sol, g: g_sol, Phi: Phi_y, dPhi: dPhi_y}).subs({r_0: r_0_in_terms_of_b, r: r_in_terms_of_y}).simplify()\n",
    "q_factor"
   ]
  },
  {
   "cell_type": "code",
   "execution_count": 297,
   "id": "b03d021a",
   "metadata": {},
   "outputs": [],
   "source": [
    "def phi_of_r(r_val, b_val, L_val):\n",
    "    \"\"\"Get gauge field.\"\"\"\n",
    "    a = np.sqrt(2 * b_val ** 2 + 1)\n",
    "    phi_star = np.sqrt(a ** 4 - 1) / 4\n",
    "    r_val = L_val * b_val * y_val / (1 - y_val)\n",
    "    phi = np.arctan2(r_val, L_val * a)\n",
    "    m = 1 - a ** 2 / b_val ** 2\n",
    "    return phi_star * np.cosh((2 / b_val) * ellipkinc(phi, m))"
   ]
  },
  {
   "cell_type": "code",
   "execution_count": 298,
   "id": "b19c809d",
   "metadata": {},
   "outputs": [
    {
     "data": {
      "text/plain": [
       "array([[0.179695878172427, 0, 0, ..., 0, 0, 0],\n",
       "       [0, 0.183028514013328, 0, ..., 0, 0, 0],\n",
       "       [0, 0, 0.193191415606578, ..., 0, 0, 0],\n",
       "       ...,\n",
       "       [0, 0, 0, ..., -23.5522681550682, 0, 0],\n",
       "       [0, 0, 0, ..., 0, -23.5530052070651, 0],\n",
       "       [0, 0, 0, ..., 0, 0, nan]], dtype=object)"
      ]
     },
     "execution_count": 298,
     "metadata": {},
     "output_type": "execute_result"
    }
   ],
   "source": [
    "q_factors_num = []\n",
    "\n",
    "for y_val in y_array:\n",
    "    Phi_y_val = phi_of_r(y_val, b_val, L_val)\n",
    "    dPhi_y_val = dphi_of_r(y_val, b_val, L_val)\n",
    "    q_factors_num.append(q_factor.subs({b: b_val, y: y_val, L: L_val, Phi_y: Phi_y_val, dPhi_y: dPhi_y_val}))\n",
    "\n",
    "q_factor_mat = np.diag(q_factors_num)\n",
    "q_factor_mat"
   ]
  },
  {
   "cell_type": "markdown",
   "id": "1beebb60",
   "metadata": {},
   "source": [
    "##### Total"
   ]
  },
  {
   "cell_type": "code",
   "execution_count": 331,
   "id": "3a7d6958",
   "metadata": {},
   "outputs": [
    {
     "data": {
      "text/plain": [
       "array([[-1616833982.43896, 2569919321.84489, -1390908837.87051, ...,\n",
       "        -6489615.29686305, 6470424.49723699, -3232022.18830264],\n",
       "       [-733585214.428314, 1049269348.15143, -380788575.034612, ...,\n",
       "        -485994.607107118, 484549.483113479, -242034.525821592],\n",
       "       [43501490.6655244, -167594477.568899, 205511903.880211, ...,\n",
       "        116275.499274785, -115924.668049759, 57904.0204581595],\n",
       "       ...,\n",
       "       [4950.17613576550, -9910.32245399541, 9940.31419742104, ...,\n",
       "        17546188.4619061, -14305340.5347875, 3712667.73814925],\n",
       "       [-19549.0931542587, 39136.9906407423, -39253.7129513243, ...,\n",
       "        -30750809.0920268, 84720024.0721131, -59227110.7697147],\n",
       "       [-101811.111111115, 203823.200778187, -204427.725272143, ...,\n",
       "        -43814299.9644960, 80948506.6072907, nan]], dtype=object)"
      ]
     },
     "execution_count": 331,
     "metadata": {},
     "output_type": "execute_result"
    }
   ],
   "source": [
    "A = ddq_factor_total + dq_factor_total + q_factor_mat\n",
    "A"
   ]
  },
  {
   "cell_type": "markdown",
   "id": "712a6117",
   "metadata": {},
   "source": [
    "Replace bottom row with boundary condition q'(0) = 0."
   ]
  },
  {
   "cell_type": "code",
   "execution_count": 332,
   "id": "0d1f0717",
   "metadata": {},
   "outputs": [
    {
     "data": {
      "text/plain": [
       "array([[-1.61683398e+09,  2.56991932e+09, -1.39090884e+09, ...,\n",
       "        -6.48961530e+06,  6.47042450e+06, -3.23202219e+06],\n",
       "       [-7.33585214e+08,  1.04926935e+09, -3.80788575e+08, ...,\n",
       "        -4.85994607e+05,  4.84549483e+05, -2.42034526e+05],\n",
       "       [ 4.35014907e+07, -1.67594478e+08,  2.05511904e+08, ...,\n",
       "         1.16275499e+05, -1.15924668e+05,  5.79040205e+04],\n",
       "       ...,\n",
       "       [ 4.95017614e+03, -9.91032245e+03,  9.94031420e+03, ...,\n",
       "         1.75461885e+07, -1.43053405e+07,  3.71266774e+06],\n",
       "       [-1.95490932e+04,  3.91369906e+04, -3.92537130e+04, ...,\n",
       "        -3.07508091e+07,  8.47200241e+07, -5.92271108e+07],\n",
       "       [-1.11111111e+00,  2.22441691e+00, -2.23101835e+00, ...,\n",
       "        -5.63636791e+02,  2.25232275e+03, -1.85222222e+03]])"
      ]
     },
     "execution_count": 332,
     "metadata": {},
     "output_type": "execute_result"
    }
   ],
   "source": [
    "A[-1] = D[-1]\n",
    "A = A.astype(float)\n",
    "A"
   ]
  },
  {
   "cell_type": "code",
   "execution_count": 333,
   "id": "6497c2ea",
   "metadata": {},
   "outputs": [
    {
     "data": {
      "text/plain": [
       "array([[1., 0., 0., ..., 0., 0., 0.],\n",
       "       [0., 1., 0., ..., 0., 0., 0.],\n",
       "       [0., 0., 1., ..., 0., 0., 0.],\n",
       "       ...,\n",
       "       [0., 0., 0., ..., 1., 0., 0.],\n",
       "       [0., 0., 0., ..., 0., 1., 0.],\n",
       "       [0., 0., 0., ..., 0., 0., 1.]])"
      ]
     },
     "execution_count": 333,
     "metadata": {},
     "output_type": "execute_result"
    }
   ],
   "source": [
    "B = np.identity(len(y_array))\n",
    "B"
   ]
  },
  {
   "cell_type": "code",
   "execution_count": 334,
   "id": "08220d73",
   "metadata": {},
   "outputs": [
    {
     "data": {
      "text/plain": [
       "array([[1., 0., 0., ..., 0., 0., 0.],\n",
       "       [0., 1., 0., ..., 0., 0., 0.],\n",
       "       [0., 0., 1., ..., 0., 0., 0.],\n",
       "       ...,\n",
       "       [0., 0., 0., ..., 1., 0., 0.],\n",
       "       [0., 0., 0., ..., 0., 1., 0.],\n",
       "       [0., 0., 0., ..., 0., 0., 0.]])"
      ]
     },
     "execution_count": 334,
     "metadata": {},
     "output_type": "execute_result"
    }
   ],
   "source": [
    "B[-1] = 0\n",
    "B"
   ]
  },
  {
   "cell_type": "code",
   "execution_count": 335,
   "id": "d71401fe",
   "metadata": {},
   "outputs": [],
   "source": [
    "from scipy import linalg"
   ]
  },
  {
   "cell_type": "code",
   "execution_count": 336,
   "id": "9b92edd7",
   "metadata": {},
   "outputs": [
    {
     "data": {
      "text/plain": [
       "array([-8.07097303e+07    +0.j        , -4.16171775e+07    +0.j        ,\n",
       "       -2.30645567e+07    +0.j        ,  2.73981814e+07    +0.j        ,\n",
       "       -1.32315747e+07    +0.j        ,  1.03548133e+07    +0.j        ,\n",
       "       -7.76075262e+06    +0.j        , -4.62728216e+06    +0.j        ,\n",
       "        4.58500112e+06    +0.j        , -2.79382572e+06    +0.j        ,\n",
       "        2.89124035e+06    +0.j        , -1.70152036e+06    +0.j        ,\n",
       "        1.87278927e+06    +0.j        , -1.04033448e+06    +0.j        ,\n",
       "        1.40100776e+06    +0.j        , -6.33880005e+05    +0.j        ,\n",
       "        1.06063539e+06    +0.j        ,  8.68693137e+05    +0.j        ,\n",
       "       -3.83392900e+05    +0.j        ,  7.19924532e+05    +0.j        ,\n",
       "        6.22869621e+05    +0.j        ,  5.41348704e+05    +0.j        ,\n",
       "        4.73120490e+05    +0.j        , -2.16629024e+05    +0.j        ,\n",
       "        4.11213090e+05    +0.j        ,  3.55747453e+05    +0.j        ,\n",
       "        3.05869788e+05    +0.j        , -1.51552344e+05    +0.j        ,\n",
       "        2.61070467e+05    +0.j        ,  2.20881498e+05    +0.j        ,\n",
       "        1.84937146e+05    +0.j        , -6.61402709e+04+46582.08931802j,\n",
       "       -6.61402709e+04-46582.08931802j,  1.52934184e+05    +0.j        ,\n",
       "        1.24614309e+05    +0.j        ,  9.97512515e+04    +0.j        ,\n",
       "       -7.86797916e+03+41201.28896564j, -7.86797916e+03-41201.28896564j,\n",
       "        7.81422104e+04    +0.j        ,  5.96017319e+04    +0.j        ,\n",
       "        4.39902572e+04    +0.j        ,  1.78262777e+04+19574.48075365j,\n",
       "        1.78262777e+04-19574.48075365j,  3.14034250e+04    +0.j        ,\n",
       "        2.30548308e+04    +0.j        ,  1.79962848e+04    +0.j        ,\n",
       "        4.80503633e+02    +0.j        ,  1.23544507e+03    +0.j        ,\n",
       "        1.00546342e+04    +0.j        ,  6.01482972e+03    +0.j        ,\n",
       "                   inf    +0.j        ])"
      ]
     },
     "execution_count": 336,
     "metadata": {},
     "output_type": "execute_result"
    }
   ],
   "source": [
    "linalg.eigvals(A, B)"
   ]
  }
 ],
 "metadata": {
  "kernelspec": {
   "display_name": "Python 3.10.3 ('env': venv)",
   "language": "python",
   "name": "python3"
  },
  "language_info": {
   "codemirror_mode": {
    "name": "ipython",
    "version": 3
   },
   "file_extension": ".py",
   "mimetype": "text/x-python",
   "name": "python",
   "nbconvert_exporter": "python",
   "pygments_lexer": "ipython3",
   "version": "3.10.3"
  },
  "vscode": {
   "interpreter": {
    "hash": "c4cf3c24cb46a3fd1f6949e64220e8351ad1410e125a86590159f01143d71e6f"
   }
  }
 },
 "nbformat": 4,
 "nbformat_minor": 5
}
