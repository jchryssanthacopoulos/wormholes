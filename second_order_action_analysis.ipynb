{
 "cells": [
  {
   "cell_type": "markdown",
   "id": "4dfd0677",
   "metadata": {},
   "source": [
    "### Analysis of Second Order Action\n",
    "\n",
    "The purpose of this notebook is to analyze and construct the second-order action, combining the relevant g and f\n",
    "parts while making simplifying assumptions to recover the final structure."
   ]
  },
  {
   "cell_type": "code",
   "execution_count": 1,
   "id": "53212a51",
   "metadata": {},
   "outputs": [],
   "source": [
    "import sympy\n",
    "\n",
    "sympy.init_printing()"
   ]
  },
  {
   "cell_type": "code",
   "execution_count": 2,
   "id": "ea7f3bde",
   "metadata": {},
   "outputs": [],
   "source": [
    "syms = sympy.symbols(\"r psi theta phi\")\n",
    "r, psi, theta, phi = syms"
   ]
  },
  {
   "cell_type": "code",
   "execution_count": 3,
   "id": "0eef2428",
   "metadata": {},
   "outputs": [],
   "source": [
    "L = sympy.symbols(\"L\")  # AdS length scale\n",
    "r_0 = sympy.symbols(\"r_0\")"
   ]
  },
  {
   "cell_type": "code",
   "execution_count": 4,
   "id": "afef8747",
   "metadata": {},
   "outputs": [],
   "source": [
    "# spherical part of the metric\n",
    "g = sympy.Function('g')(r)\n",
    "dg = sympy.diff(g, r)\n",
    "ddg = sympy.diff(dg, r)\n",
    "\n",
    "# solution\n",
    "g_sol = r ** 2 + r_0 ** 2\n",
    "dg_sol = sympy.diff(g_sol, r)\n",
    "ddg_sol = sympy.diff(dg_sol, r)"
   ]
  },
  {
   "cell_type": "code",
   "execution_count": 5,
   "id": "02595e92",
   "metadata": {},
   "outputs": [],
   "source": [
    "# radial part of the metric\n",
    "f = sympy.Function('f')(r)\n",
    "df = sympy.diff(f, r)\n",
    "\n",
    "# solution\n",
    "f_sol = (L ** 2 + r ** 2 + 2 * r_0 ** 2) / L ** 2\n",
    "df_sol = sympy.diff(f_sol, r)"
   ]
  },
  {
   "cell_type": "code",
   "execution_count": 6,
   "id": "84adcdad",
   "metadata": {},
   "outputs": [],
   "source": [
    "# gauge field\n",
    "Phi = sympy.Function('Phi')(r)\n",
    "dPhi = sympy.diff(Phi, r)\n",
    "ddPhi = sympy.diff(dPhi, r)"
   ]
  },
  {
   "cell_type": "markdown",
   "id": "a74f7054",
   "metadata": {},
   "source": [
    "The Lagrangian is given by the following."
   ]
  },
  {
   "cell_type": "code",
   "execution_count": 7,
   "id": "3c9079ac",
   "metadata": {},
   "outputs": [
    {
     "data": {
      "image/png": "[encoded data removed]",
      "text/latex": [
       "$\\displaystyle \\frac{12 L^{4} \\cdot \\left(4 \\Phi^{2}{\\left(r \\right)} + f{\\left(r \\right)} g{\\left(r \\right)} \\left(\\frac{d}{d r} \\Phi{\\left(r \\right)}\\right)^{2}\\right) + 3 L^{2} \\cdot \\left(2 f{\\left(r \\right)} \\frac{d^{2}}{d r^{2}} g{\\left(r \\right)} + \\frac{d}{d r} f{\\left(r \\right)} \\frac{d}{d r} g{\\left(r \\right)} - 4\\right) g{\\left(r \\right)} - 12 g^{2}{\\left(r \\right)}}{16 L^{2} \\sqrt{f{\\left(r \\right)} g{\\left(r \\right)}}}$"
      ],
      "text/plain": [
       "      ⎛                              2⎞        ⎛         2                    \n",
       "    4 ⎜   2                ⎛d       ⎞ ⎟      2 ⎜        d          d        d \n",
       "12⋅L ⋅⎜4⋅Φ (r) + f(r)⋅g(r)⋅⎜──(Φ(r))⎟ ⎟ + 3⋅L ⋅⎜2⋅f(r)⋅───(g(r)) + ──(f(r))⋅──\n",
       "      ⎝                    ⎝dr      ⎠ ⎠        ⎜         2         dr       dr\n",
       "                                               ⎝       dr                     \n",
       "──────────────────────────────────────────────────────────────────────────────\n",
       "                                               2   ___________                \n",
       "                                           16⋅L ⋅╲╱ f(r)⋅g(r)                 \n",
       "\n",
       "          ⎞                \n",
       "          ⎟            2   \n",
       "(g(r)) - 4⎟⋅g(r) - 12⋅g (r)\n",
       "          ⎟                \n",
       "          ⎠                \n",
       "───────────────────────────\n",
       "                           \n",
       "                           "
      ]
     },
     "execution_count": 7,
     "metadata": {},
     "output_type": "execute_result"
    }
   ],
   "source": [
    "lagrangian = 3 * (4 * L ** 4 * (4 * Phi ** 2 + f * g * dPhi ** 2) + L ** 2 * g * (2 * f * ddg + df * dg - 4) - 4 * g ** 2) / (16 * L ** 2 * sympy.sqrt(f * g))\n",
    "lagrangian"
   ]
  },
  {
   "cell_type": "code",
   "execution_count": 8,
   "id": "2fb93a53",
   "metadata": {},
   "outputs": [],
   "source": [
    "delta_f = sympy.Function('delta_f')(r)\n",
    "ddelta_f = sympy.diff(delta_f, r)"
   ]
  },
  {
   "cell_type": "code",
   "execution_count": 9,
   "id": "7029978f",
   "metadata": {},
   "outputs": [],
   "source": [
    "delta_g = sympy.Function('delta_g')(r)\n",
    "ddelta_g = sympy.diff(delta_g, r)\n",
    "dddelta_g = sympy.diff(ddelta_g, r)"
   ]
  },
  {
   "cell_type": "code",
   "execution_count": 10,
   "id": "12493e35",
   "metadata": {},
   "outputs": [],
   "source": [
    "delta_Phi = sympy.Function('delta_Phi')(r)\n",
    "ddelta_Phi = sympy.diff(delta_Phi, r)"
   ]
  },
  {
   "cell_type": "markdown",
   "id": "d1ddff71",
   "metadata": {},
   "source": [
    "Compute the Phi and g part of the action."
   ]
  },
  {
   "cell_type": "code",
   "execution_count": 11,
   "id": "710de1a1",
   "metadata": {},
   "outputs": [],
   "source": [
    "# make sure to divide appropriate terms by two so it doesn't interfere with integration by parts later\n",
    "ddS_gg = sympy.simplify(sympy.diff(sympy.diff(lagrangian, g), g)) / 2\n",
    "ddS_phiphi = sympy.simplify(sympy.diff(sympy.diff(lagrangian, Phi), Phi)) / 2\n",
    "ddS_dphidphi = sympy.simplify(sympy.diff(sympy.diff(lagrangian, dPhi), dPhi)) / 2\n",
    "ddS_gphi = sympy.simplify(sympy.diff(sympy.diff(lagrangian, g), Phi))\n",
    "ddS_gdg = sympy.simplify(sympy.diff(sympy.diff(lagrangian, g), dg))\n",
    "ddS_gdphi = sympy.simplify(sympy.diff(sympy.diff(lagrangian, g), dPhi))\n",
    "ddS_phidg = sympy.simplify(sympy.diff(sympy.diff(lagrangian, phi), dg))\n",
    "ddS_phidphi = sympy.simplify(sympy.diff(sympy.diff(lagrangian, Phi), dPhi))\n",
    "ddS_dgdg = sympy.simplify(sympy.diff(sympy.diff(lagrangian, dg), dg)) / 2\n",
    "ddS_dgdphi = sympy.simplify(sympy.diff(sympy.diff(lagrangian, dg), dPhi))\n",
    "ddS_gddg = sympy.simplify(sympy.diff(sympy.diff(lagrangian, g), ddg))  # involves second derivative"
   ]
  },
  {
   "cell_type": "code",
   "execution_count": 12,
   "id": "d8560888",
   "metadata": {},
   "outputs": [
    {
     "data": {
      "image/png": "[encoded data removed]",
      "text/latex": [
       "$\\displaystyle \\frac{3 L^{2} \\sqrt{f{\\left(r \\right)} g{\\left(r \\right)}} \\left(\\frac{d}{d r} \\delta_{\\Phi}{\\left(r \\right)}\\right)^{2}}{4} - \\frac{3 L^{2} \\Phi{\\left(r \\right)} \\delta_{\\Phi}{\\left(r \\right)} \\delta_{g}{\\left(r \\right)}}{\\sqrt{f{\\left(r \\right)} g{\\left(r \\right)}} g{\\left(r \\right)}} + \\frac{3 L^{2} \\delta_{\\Phi}^{2}{\\left(r \\right)}}{\\sqrt{f{\\left(r \\right)} g{\\left(r \\right)}}} + \\frac{3 L^{2} \\delta_{g}{\\left(r \\right)} f{\\left(r \\right)} \\frac{d}{d r} \\Phi{\\left(r \\right)} \\frac{d}{d r} \\delta_{\\Phi}{\\left(r \\right)}}{4 \\sqrt{f{\\left(r \\right)} g{\\left(r \\right)}}} + \\frac{3 \\delta_{g}{\\left(r \\right)} f{\\left(r \\right)} \\frac{d^{2}}{d r^{2}} \\delta_{g}{\\left(r \\right)}}{16 \\sqrt{f{\\left(r \\right)} g{\\left(r \\right)}}} + \\frac{3 \\delta_{g}{\\left(r \\right)} \\frac{d}{d r} \\delta_{g}{\\left(r \\right)} \\frac{d}{d r} f{\\left(r \\right)}}{32 \\sqrt{f{\\left(r \\right)} g{\\left(r \\right)}}} + \\frac{3 \\cdot \\left(48 L^{4} \\Phi^{2}{\\left(r \\right)} - 4 L^{4} f{\\left(r \\right)} g{\\left(r \\right)} \\left(\\frac{d}{d r} \\Phi{\\left(r \\right)}\\right)^{2} - 2 L^{2} f{\\left(r \\right)} g{\\left(r \\right)} \\frac{d^{2}}{d r^{2}} g{\\left(r \\right)} - L^{2} g{\\left(r \\right)} \\frac{d}{d r} f{\\left(r \\right)} \\frac{d}{d r} g{\\left(r \\right)} + 4 L^{2} g{\\left(r \\right)} - 12 g^{2}{\\left(r \\right)}\\right) \\delta_{g}^{2}{\\left(r \\right)} f{\\left(r \\right)}}{128 L^{2} \\left(f{\\left(r \\right)} g{\\left(r \\right)}\\right)^{\\frac{3}{2}} g{\\left(r \\right)}}$"
      ],
      "text/plain": [
       "                                                                              \n",
       "                               2                                              \n",
       "   2   ___________ ⎛d         ⎞                                               \n",
       "3⋅L ⋅╲╱ f(r)⋅g(r) ⋅⎜──(δ_Φ(r))⎟       2                          2    2      3\n",
       "                   ⎝dr        ⎠    3⋅L ⋅Φ(r)⋅δ_Φ(r)⋅δ_g(r)    3⋅L ⋅δ_Φ (r)    \n",
       "──────────────────────────────── - ─────────────────────── + ───────────── + ─\n",
       "               4                        ___________            ___________    \n",
       "                                      ╲╱ f(r)⋅g(r) ⋅g(r)     ╲╱ f(r)⋅g(r)     \n",
       "\n",
       "                                                      2                       \n",
       "                                                     d                        \n",
       "  2             d        d            3⋅δ_g(r)⋅f(r)⋅───(δ_g(r))            d  \n",
       "⋅L ⋅δ_g(r)⋅f(r)⋅──(Φ(r))⋅──(δ_Φ(r))                   2           3⋅δ_g(r)⋅──(\n",
       "                dr       dr                         dr                     dr \n",
       "─────────────────────────────────── + ───────────────────────── + ────────────\n",
       "             ___________                        ___________                  _\n",
       "         4⋅╲╱ f(r)⋅g(r)                    16⋅╲╱ f(r)⋅g(r)              32⋅╲╱ \n",
       "\n",
       "                     ⎛                                       2                \n",
       "                     ⎜    4  2         4           ⎛d       ⎞       2         \n",
       "        d          3⋅⎜48⋅L ⋅Φ (r) - 4⋅L ⋅f(r)⋅g(r)⋅⎜──(Φ(r))⎟  - 2⋅L ⋅f(r)⋅g(r\n",
       "δ_g(r))⋅──(f(r))     ⎜                             ⎝dr      ⎠                 \n",
       "        dr           ⎝                                                        \n",
       "──────────────── + ───────────────────────────────────────────────────────────\n",
       "__________                                                                    \n",
       "f(r)⋅g(r)                                                                 128⋅\n",
       "\n",
       "    2                                                         ⎞             \n",
       "   d           2      d        d             2            2   ⎟    2        \n",
       ")⋅───(g(r)) - L ⋅g(r)⋅──(f(r))⋅──(g(r)) + 4⋅L ⋅g(r) - 12⋅g (r)⎟⋅δ_g (r)⋅f(r)\n",
       "    2                 dr       dr                             ⎟             \n",
       "  dr                                                          ⎠             \n",
       "────────────────────────────────────────────────────────────────────────────\n",
       " 2            3/2                                                           \n",
       "L ⋅(f(r)⋅g(r))   ⋅g(r)                                                      "
      ]
     },
     "execution_count": 12,
     "metadata": {},
     "output_type": "execute_result"
    }
   ],
   "source": [
    "action_Phi_g = ( \n",
    "    delta_g ** 2 * ddS_gg +\n",
    "    delta_Phi ** 2 * ddS_phiphi +\n",
    "    ddelta_Phi ** 2 * ddS_dphidphi +\n",
    "    delta_g * delta_Phi * ddS_gphi +\n",
    "    delta_g * ddelta_g * ddS_gdg +\n",
    "    delta_g * ddelta_Phi * ddS_gdphi +\n",
    "    delta_Phi * ddelta_g * ddS_phidg +\n",
    "    delta_Phi * ddelta_Phi * ddS_phidphi +\n",
    "    ddelta_g ** 2 * ddS_dgdg +\n",
    "    ddelta_g * ddelta_Phi * ddS_dgdphi +\n",
    "    delta_g * dddelta_g * ddS_gddg\n",
    ")\n",
    "action_Phi_g"
   ]
  },
  {
   "cell_type": "markdown",
   "id": "4241e106",
   "metadata": {},
   "source": [
    "On integration by parts, the dgdg'' term will contribute terms with dg'dg' and dg'dg:"
   ]
  },
  {
   "cell_type": "code",
   "execution_count": 13,
   "id": "892c386b",
   "metadata": {},
   "outputs": [
    {
     "data": {
      "image/png": "[encoded data removed]",
      "text/latex": [
       "$\\displaystyle - \\frac{3 f{\\left(r \\right)}}{16 \\sqrt{f{\\left(r \\right)} g{\\left(r \\right)}}}$"
      ],
      "text/plain": [
       "    -3⋅f(r)     \n",
       "────────────────\n",
       "     ___________\n",
       "16⋅╲╱ f(r)⋅g(r) "
      ]
     },
     "execution_count": 13,
     "metadata": {},
     "output_type": "execute_result"
    }
   ],
   "source": [
    "ddS_dgdg -= ddS_gddg\n",
    "ddS_dgdg"
   ]
  },
  {
   "cell_type": "code",
   "execution_count": 14,
   "id": "53469385",
   "metadata": {},
   "outputs": [
    {
     "data": {
      "image/png": "[encoded data removed]",
      "text/latex": [
       "$\\displaystyle \\frac{3 \\sqrt{f{\\left(r \\right)} g{\\left(r \\right)}} \\frac{d}{d r} g{\\left(r \\right)}}{32 g^{2}{\\left(r \\right)}}$"
      ],
      "text/plain": [
       "    ___________ d       \n",
       "3⋅╲╱ f(r)⋅g(r) ⋅──(g(r))\n",
       "                dr      \n",
       "────────────────────────\n",
       "            2           \n",
       "        32⋅g (r)        "
      ]
     },
     "execution_count": 14,
     "metadata": {},
     "output_type": "execute_result"
    }
   ],
   "source": [
    "ddS_gdg = sympy.simplify(ddS_gdg - sympy.diff(ddS_gddg, r))\n",
    "ddS_gdg"
   ]
  },
  {
   "cell_type": "code",
   "execution_count": 15,
   "id": "1233e178",
   "metadata": {},
   "outputs": [
    {
     "data": {
      "image/png": "[encoded data removed]",
      "text/latex": [
       "$\\displaystyle \\frac{3 L^{2} \\sqrt{f{\\left(r \\right)} g{\\left(r \\right)}} \\left(\\frac{d}{d r} \\delta_{\\Phi}{\\left(r \\right)}\\right)^{2}}{4} - \\frac{3 L^{2} \\Phi{\\left(r \\right)} \\delta_{\\Phi}{\\left(r \\right)} \\delta_{g}{\\left(r \\right)}}{\\sqrt{f{\\left(r \\right)} g{\\left(r \\right)}} g{\\left(r \\right)}} + \\frac{3 L^{2} \\delta_{\\Phi}^{2}{\\left(r \\right)}}{\\sqrt{f{\\left(r \\right)} g{\\left(r \\right)}}} + \\frac{3 L^{2} \\delta_{g}{\\left(r \\right)} f{\\left(r \\right)} \\frac{d}{d r} \\Phi{\\left(r \\right)} \\frac{d}{d r} \\delta_{\\Phi}{\\left(r \\right)}}{4 \\sqrt{f{\\left(r \\right)} g{\\left(r \\right)}}} + \\frac{3 \\sqrt{f{\\left(r \\right)} g{\\left(r \\right)}} \\delta_{g}{\\left(r \\right)} \\frac{d}{d r} \\delta_{g}{\\left(r \\right)} \\frac{d}{d r} g{\\left(r \\right)}}{32 g^{2}{\\left(r \\right)}} - \\frac{3 f{\\left(r \\right)} \\left(\\frac{d}{d r} \\delta_{g}{\\left(r \\right)}\\right)^{2}}{16 \\sqrt{f{\\left(r \\right)} g{\\left(r \\right)}}} + \\frac{3 \\cdot \\left(48 L^{4} \\Phi^{2}{\\left(r \\right)} - 4 L^{4} f{\\left(r \\right)} g{\\left(r \\right)} \\left(\\frac{d}{d r} \\Phi{\\left(r \\right)}\\right)^{2} - 2 L^{2} f{\\left(r \\right)} g{\\left(r \\right)} \\frac{d^{2}}{d r^{2}} g{\\left(r \\right)} - L^{2} g{\\left(r \\right)} \\frac{d}{d r} f{\\left(r \\right)} \\frac{d}{d r} g{\\left(r \\right)} + 4 L^{2} g{\\left(r \\right)} - 12 g^{2}{\\left(r \\right)}\\right) \\delta_{g}^{2}{\\left(r \\right)} f{\\left(r \\right)}}{128 L^{2} \\left(f{\\left(r \\right)} g{\\left(r \\right)}\\right)^{\\frac{3}{2}} g{\\left(r \\right)}}$"
      ],
      "text/plain": [
       "                                                                              \n",
       "                               2                                              \n",
       "   2   ___________ ⎛d         ⎞                                               \n",
       "3⋅L ⋅╲╱ f(r)⋅g(r) ⋅⎜──(δ_Φ(r))⎟       2                          2    2      3\n",
       "                   ⎝dr        ⎠    3⋅L ⋅Φ(r)⋅δ_Φ(r)⋅δ_g(r)    3⋅L ⋅δ_Φ (r)    \n",
       "──────────────────────────────── - ─────────────────────── + ───────────── + ─\n",
       "               4                        ___________            ___________    \n",
       "                                      ╲╱ f(r)⋅g(r) ⋅g(r)     ╲╱ f(r)⋅g(r)     \n",
       "\n",
       "                                                                              \n",
       "                                                                              \n",
       "  2             d        d                ___________        d          d     \n",
       "⋅L ⋅δ_g(r)⋅f(r)⋅──(Φ(r))⋅──(δ_Φ(r))   3⋅╲╱ f(r)⋅g(r) ⋅δ_g(r)⋅──(δ_g(r))⋅──(g(r\n",
       "                dr       dr                                  dr         dr    \n",
       "─────────────────────────────────── + ────────────────────────────────────────\n",
       "             ___________                                   2                  \n",
       "         4⋅╲╱ f(r)⋅g(r)                                32⋅g (r)               \n",
       "\n",
       "                              ⎛                                       2       \n",
       "                        2     ⎜    4  2         4           ⎛d       ⎞       2\n",
       "            ⎛d         ⎞    3⋅⎜48⋅L ⋅Φ (r) - 4⋅L ⋅f(r)⋅g(r)⋅⎜──(Φ(r))⎟  - 2⋅L \n",
       "))   3⋅f(r)⋅⎜──(δ_g(r))⎟      ⎜                             ⎝dr      ⎠        \n",
       "            ⎝dr        ⎠      ⎝                                               \n",
       "── - ──────────────────── + ──────────────────────────────────────────────────\n",
       "            ___________                                                       \n",
       "       16⋅╲╱ f(r)⋅g(r)                                                        \n",
       "\n",
       "             2                                                         ⎞      \n",
       "            d           2      d        d             2            2   ⎟    2 \n",
       "⋅f(r)⋅g(r)⋅───(g(r)) - L ⋅g(r)⋅──(f(r))⋅──(g(r)) + 4⋅L ⋅g(r) - 12⋅g (r)⎟⋅δ_g (\n",
       "             2                 dr       dr                             ⎟      \n",
       "           dr                                                          ⎠      \n",
       "──────────────────────────────────────────────────────────────────────────────\n",
       "          2            3/2                                                    \n",
       "     128⋅L ⋅(f(r)⋅g(r))   ⋅g(r)                                               \n",
       "\n",
       "       \n",
       "       \n",
       "r)⋅f(r)\n",
       "       \n",
       "       \n",
       "───────\n",
       "       \n",
       "       "
      ]
     },
     "execution_count": 15,
     "metadata": {},
     "output_type": "execute_result"
    }
   ],
   "source": [
    "action_Phi_g = ( \n",
    "    delta_g ** 2 * ddS_gg +\n",
    "    delta_Phi ** 2 * ddS_phiphi +\n",
    "    ddelta_Phi ** 2 * ddS_dphidphi +\n",
    "    delta_g * delta_Phi * ddS_gphi +\n",
    "    delta_g * ddelta_g * ddS_gdg +\n",
    "    delta_g * ddelta_Phi * ddS_gdphi +\n",
    "    delta_Phi * ddelta_g * ddS_phidg +\n",
    "    delta_Phi * ddelta_Phi * ddS_phidphi +\n",
    "    ddelta_g ** 2 * ddS_dgdg +\n",
    "    ddelta_g * ddelta_Phi * ddS_dgdphi\n",
    ")\n",
    "action_Phi_g"
   ]
  },
  {
   "cell_type": "markdown",
   "id": "382e55c1",
   "metadata": {},
   "source": [
    "Introduce q."
   ]
  },
  {
   "cell_type": "code",
   "execution_count": 16,
   "id": "89449194",
   "metadata": {},
   "outputs": [
    {
     "data": {
      "image/png": "[encoded data removed]",
      "text/latex": [
       "$\\displaystyle \\left( q{\\left(r \\right)} + \\frac{\\delta_{g}{\\left(r \\right)} \\frac{d}{d r} \\Phi{\\left(r \\right)}}{2 r}, \\  \\frac{d}{d r} q{\\left(r \\right)} + \\frac{\\delta_{g}{\\left(r \\right)} \\frac{d^{2}}{d r^{2}} \\Phi{\\left(r \\right)}}{2 r} + \\frac{\\frac{d}{d r} \\Phi{\\left(r \\right)} \\frac{d}{d r} \\delta_{g}{\\left(r \\right)}}{2 r} - \\frac{\\delta_{g}{\\left(r \\right)} \\frac{d}{d r} \\Phi{\\left(r \\right)}}{2 r^{2}}\\right)$"
      ],
      "text/plain": [
       "⎛                                            2                                \n",
       "⎜                                           d                                 \n",
       "⎜              d                    δ_g(r)⋅───(Φ(r))   d        d             \n",
       "⎜       δ_g(r)⋅──(Φ(r))                      2         ──(Φ(r))⋅──(δ_g(r))   δ\n",
       "⎜              dr        d                 dr          dr       dr            \n",
       "⎜q(r) + ───────────────, ──(q(r)) + ──────────────── + ─────────────────── - ─\n",
       "⎜             2⋅r        dr               2⋅r                  2⋅r            \n",
       "⎝                                                                             \n",
       "\n",
       "              ⎞\n",
       "              ⎟\n",
       "      d       ⎟\n",
       "_g(r)⋅──(Φ(r))⎟\n",
       "      dr      ⎟\n",
       "──────────────⎟\n",
       "        2     ⎟\n",
       "     2⋅r      ⎠"
      ]
     },
     "execution_count": 16,
     "metadata": {},
     "output_type": "execute_result"
    }
   ],
   "source": [
    "q = sympy.Function('q')(r)\n",
    "dq = sympy.diff(q, r)\n",
    "dphi = q + dPhi * delta_g / (2 * r)\n",
    "dphidr = sympy.diff(dphi, r)\n",
    "dphi, dphidr"
   ]
  },
  {
   "cell_type": "code",
   "execution_count": 17,
   "id": "80b5733f",
   "metadata": {},
   "outputs": [
    {
     "data": {
      "image/png": "[encoded data removed]",
      "text/latex": [
       "$\\displaystyle \\frac{3 L^{2} \\sqrt{f{\\left(r \\right)} g{\\left(r \\right)}} \\left(\\frac{d}{d r} q{\\left(r \\right)} + \\frac{\\delta_{g}{\\left(r \\right)} \\frac{d^{2}}{d r^{2}} \\Phi{\\left(r \\right)}}{2 r} + \\frac{\\frac{d}{d r} \\Phi{\\left(r \\right)} \\frac{d}{d r} \\delta_{g}{\\left(r \\right)}}{2 r} - \\frac{\\delta_{g}{\\left(r \\right)} \\frac{d}{d r} \\Phi{\\left(r \\right)}}{2 r^{2}}\\right)^{2}}{4} + \\frac{3 L^{2} \\left(q{\\left(r \\right)} + \\frac{\\delta_{g}{\\left(r \\right)} \\frac{d}{d r} \\Phi{\\left(r \\right)}}{2 r}\\right)^{2}}{\\sqrt{f{\\left(r \\right)} g{\\left(r \\right)}}} - \\frac{3 L^{2} \\left(q{\\left(r \\right)} + \\frac{\\delta_{g}{\\left(r \\right)} \\frac{d}{d r} \\Phi{\\left(r \\right)}}{2 r}\\right) \\Phi{\\left(r \\right)} \\delta_{g}{\\left(r \\right)}}{\\sqrt{f{\\left(r \\right)} g{\\left(r \\right)}} g{\\left(r \\right)}} + \\frac{3 L^{2} \\left(\\frac{d}{d r} q{\\left(r \\right)} + \\frac{\\delta_{g}{\\left(r \\right)} \\frac{d^{2}}{d r^{2}} \\Phi{\\left(r \\right)}}{2 r} + \\frac{\\frac{d}{d r} \\Phi{\\left(r \\right)} \\frac{d}{d r} \\delta_{g}{\\left(r \\right)}}{2 r} - \\frac{\\delta_{g}{\\left(r \\right)} \\frac{d}{d r} \\Phi{\\left(r \\right)}}{2 r^{2}}\\right) \\delta_{g}{\\left(r \\right)} f{\\left(r \\right)} \\frac{d}{d r} \\Phi{\\left(r \\right)}}{4 \\sqrt{f{\\left(r \\right)} g{\\left(r \\right)}}} + \\frac{3 \\sqrt{f{\\left(r \\right)} g{\\left(r \\right)}} \\delta_{g}{\\left(r \\right)} \\frac{d}{d r} \\delta_{g}{\\left(r \\right)} \\frac{d}{d r} g{\\left(r \\right)}}{32 g^{2}{\\left(r \\right)}} - \\frac{3 f{\\left(r \\right)} \\left(\\frac{d}{d r} \\delta_{g}{\\left(r \\right)}\\right)^{2}}{16 \\sqrt{f{\\left(r \\right)} g{\\left(r \\right)}}} + \\frac{3 \\cdot \\left(48 L^{4} \\Phi^{2}{\\left(r \\right)} - 4 L^{4} f{\\left(r \\right)} g{\\left(r \\right)} \\left(\\frac{d}{d r} \\Phi{\\left(r \\right)}\\right)^{2} - 2 L^{2} f{\\left(r \\right)} g{\\left(r \\right)} \\frac{d^{2}}{d r^{2}} g{\\left(r \\right)} - L^{2} g{\\left(r \\right)} \\frac{d}{d r} f{\\left(r \\right)} \\frac{d}{d r} g{\\left(r \\right)} + 4 L^{2} g{\\left(r \\right)} - 12 g^{2}{\\left(r \\right)}\\right) \\delta_{g}^{2}{\\left(r \\right)} f{\\left(r \\right)}}{128 L^{2} \\left(f{\\left(r \\right)} g{\\left(r \\right)}\\right)^{\\frac{3}{2}} g{\\left(r \\right)}}$"
      ],
      "text/plain": [
       "                                                                              \n",
       "                   ⎛                    2                                     \n",
       "                   ⎜                   d                                      \n",
       "                   ⎜           δ_g(r)⋅───(Φ(r))   d        d                  \n",
       "                   ⎜                    2         ──(Φ(r))⋅──(δ_g(r))   δ_g(r)\n",
       "   2   ___________ ⎜d                 dr          dr       dr                 \n",
       "3⋅L ⋅╲╱ f(r)⋅g(r) ⋅⎜──(q(r)) + ──────────────── + ─────────────────── - ──────\n",
       "                   ⎜dr               2⋅r                  2⋅r                 \n",
       "                   ⎝                                                          \n",
       "──────────────────────────────────────────────────────────────────────────────\n",
       "                                            4                                 \n",
       "                                                                              \n",
       "\n",
       "          2                                                                   \n",
       "         ⎞                                                                    \n",
       "         ⎟                                                                    \n",
       " d       ⎟                                 2                                  \n",
       "⋅──(Φ(r))⎟         ⎛              d       ⎞         ⎛              d       ⎞  \n",
       " dr      ⎟         ⎜       δ_g(r)⋅──(Φ(r))⎟         ⎜       δ_g(r)⋅──(Φ(r))⎟  \n",
       "─────────⎟       2 ⎜              dr      ⎟       2 ⎜              dr      ⎟  \n",
       "   2     ⎟    3⋅L ⋅⎜q(r) + ───────────────⎟    3⋅L ⋅⎜q(r) + ───────────────⎟⋅Φ\n",
       "2⋅r      ⎠         ⎝             2⋅r      ⎠         ⎝             2⋅r      ⎠  \n",
       "─────────── + ────────────────────────────── - ───────────────────────────────\n",
       "                        ___________                          ___________      \n",
       "                      ╲╱ f(r)⋅g(r)                         ╲╱ f(r)⋅g(r) ⋅g(r) \n",
       "\n",
       "                                                                              \n",
       "                  ⎛                    2                                      \n",
       "                  ⎜                   d                                       \n",
       "                  ⎜           δ_g(r)⋅───(Φ(r))   d        d                   \n",
       "                  ⎜                    2         ──(Φ(r))⋅──(δ_g(r))   δ_g(r)⋅\n",
       "                2 ⎜d                 dr          dr       dr                  \n",
       "             3⋅L ⋅⎜──(q(r)) + ──────────────── + ─────────────────── - ───────\n",
       "(r)⋅δ_g(r)        ⎜dr               2⋅r                  2⋅r                  \n",
       "                  ⎝                                                          2\n",
       "────────── + ─────────────────────────────────────────────────────────────────\n",
       "                                                         ___________          \n",
       "                                                     4⋅╲╱ f(r)⋅g(r)           \n",
       "\n",
       "                                                                              \n",
       "        ⎞                                                                     \n",
       "        ⎟                                                                     \n",
       "d       ⎟                                                                     \n",
       "──(Φ(r))⎟                                                                     \n",
       "dr      ⎟             d                                                       \n",
       "────────⎟⋅δ_g(r)⋅f(r)⋅──(Φ(r))       ___________        d          d          \n",
       "  2     ⎟             dr         3⋅╲╱ f(r)⋅g(r) ⋅δ_g(r)⋅──(δ_g(r))⋅──(g(r))   \n",
       "⋅r      ⎠                                               dr         dr         \n",
       "────────────────────────────── + ────────────────────────────────────────── - \n",
       "                                                      2                       \n",
       "                                                  32⋅g (r)                    \n",
       "\n",
       "                                                                              \n",
       "                                                                              \n",
       "                                                                              \n",
       "                                                                              \n",
       "                         ⎛                                       2            \n",
       "                   2     ⎜    4  2         4           ⎛d       ⎞       2     \n",
       "       ⎛d         ⎞    3⋅⎜48⋅L ⋅Φ (r) - 4⋅L ⋅f(r)⋅g(r)⋅⎜──(Φ(r))⎟  - 2⋅L ⋅f(r)\n",
       "3⋅f(r)⋅⎜──(δ_g(r))⎟      ⎜                             ⎝dr      ⎠             \n",
       "       ⎝dr        ⎠      ⎝                                                    \n",
       "──────────────────── + ───────────────────────────────────────────────────────\n",
       "       ___________                                                            \n",
       "  16⋅╲╱ f(r)⋅g(r)                                                             \n",
       "\n",
       "                                                                              \n",
       "                                                                              \n",
       "                                                                              \n",
       "                                                                              \n",
       "        2                                                         ⎞           \n",
       "       d           2      d        d             2            2   ⎟    2      \n",
       "⋅g(r)⋅───(g(r)) - L ⋅g(r)⋅──(f(r))⋅──(g(r)) + 4⋅L ⋅g(r) - 12⋅g (r)⎟⋅δ_g (r)⋅f(\n",
       "        2                 dr       dr                             ⎟           \n",
       "      dr                                                          ⎠           \n",
       "──────────────────────────────────────────────────────────────────────────────\n",
       "     2            3/2                                                         \n",
       "128⋅L ⋅(f(r)⋅g(r))   ⋅g(r)                                                    \n",
       "\n",
       "  \n",
       "  \n",
       "  \n",
       "  \n",
       "  \n",
       "  \n",
       "r)\n",
       "  \n",
       "  \n",
       "──\n",
       "  \n",
       "  "
      ]
     },
     "execution_count": 17,
     "metadata": {},
     "output_type": "execute_result"
    }
   ],
   "source": [
    "action_q = action_Phi_g.subs({delta_Phi: dphi, ddelta_Phi: dphidr})\n",
    "action_q"
   ]
  },
  {
   "cell_type": "markdown",
   "id": "809388c4",
   "metadata": {},
   "source": [
    "The expansion of the action involving df consists of the following terms."
   ]
  },
  {
   "cell_type": "code",
   "execution_count": 18,
   "id": "c4e6b466",
   "metadata": {},
   "outputs": [],
   "source": [
    "ddS_ff = sympy.simplify(sympy.diff(sympy.diff(lagrangian, f), f)) / 2\n",
    "ddS_fg = sympy.simplify(sympy.diff(sympy.diff(lagrangian, f), g))\n",
    "ddS_fphi = sympy.simplify(sympy.diff(sympy.diff(lagrangian, f), Phi))\n",
    "ddS_fdf = sympy.simplify(sympy.diff(sympy.diff(lagrangian, f), df))\n",
    "ddS_fdg = sympy.simplify(sympy.diff(sympy.diff(lagrangian, f), dg))\n",
    "ddS_fdphi = sympy.simplify(sympy.diff(sympy.diff(lagrangian, f), dPhi))\n",
    "ddS_dfg = sympy.simplify(sympy.diff(sympy.diff(lagrangian, df), g))\n",
    "ddS_dfdg = sympy.simplify(sympy.diff(sympy.diff(lagrangian, df), dg))\n",
    "ddS_fddg = sympy.simplify(sympy.diff(sympy.diff(lagrangian, f), ddg))  # involves second derivative"
   ]
  },
  {
   "cell_type": "code",
   "execution_count": 19,
   "id": "e02d6fea",
   "metadata": {},
   "outputs": [
    {
     "data": {
      "image/png": "[encoded data removed]",
      "text/latex": [
       "$\\displaystyle - \\frac{3 L^{2} \\Phi{\\left(r \\right)} \\delta_{\\Phi}{\\left(r \\right)} \\delta_{f}{\\left(r \\right)}}{\\sqrt{f{\\left(r \\right)} g{\\left(r \\right)}} f{\\left(r \\right)}} + \\frac{3 L^{2} \\delta_{f}{\\left(r \\right)} g{\\left(r \\right)} \\frac{d}{d r} \\Phi{\\left(r \\right)} \\frac{d}{d r} \\delta_{\\Phi}{\\left(r \\right)}}{4 \\sqrt{f{\\left(r \\right)} g{\\left(r \\right)}}} + \\frac{3 \\delta_{f}{\\left(r \\right)} g{\\left(r \\right)} \\frac{d^{2}}{d r^{2}} \\delta_{g}{\\left(r \\right)}}{16 \\sqrt{f{\\left(r \\right)} g{\\left(r \\right)}}} - \\frac{3 \\delta_{f}{\\left(r \\right)} g{\\left(r \\right)} \\frac{d}{d r} \\delta_{f}{\\left(r \\right)} \\frac{d}{d r} g{\\left(r \\right)}}{32 \\sqrt{f{\\left(r \\right)} g{\\left(r \\right)}} f{\\left(r \\right)}} - \\frac{3 \\delta_{f}{\\left(r \\right)} g{\\left(r \\right)} \\frac{d}{d r} \\delta_{g}{\\left(r \\right)} \\frac{d}{d r} f{\\left(r \\right)}}{32 \\sqrt{f{\\left(r \\right)} g{\\left(r \\right)}} f{\\left(r \\right)}} + \\frac{3 \\delta_{g}{\\left(r \\right)} \\frac{d}{d r} \\delta_{f}{\\left(r \\right)} \\frac{d}{d r} g{\\left(r \\right)}}{32 \\sqrt{f{\\left(r \\right)} g{\\left(r \\right)}}} + \\frac{3 g{\\left(r \\right)} \\frac{d}{d r} \\delta_{f}{\\left(r \\right)} \\frac{d}{d r} \\delta_{g}{\\left(r \\right)}}{16 \\sqrt{f{\\left(r \\right)} g{\\left(r \\right)}}} + \\frac{3 \\left(f{\\left(r \\right)} g{\\left(r \\right)}\\right)^{\\frac{5}{2}} \\cdot \\left(16 L^{4} \\Phi^{2}{\\left(r \\right)} + 4 L^{4} f{\\left(r \\right)} g{\\left(r \\right)} \\left(\\frac{d}{d r} \\Phi{\\left(r \\right)}\\right)^{2} + 2 L^{2} f{\\left(r \\right)} g{\\left(r \\right)} \\frac{d^{2}}{d r^{2}} g{\\left(r \\right)} - L^{2} g{\\left(r \\right)} \\frac{d}{d r} f{\\left(r \\right)} \\frac{d}{d r} g{\\left(r \\right)} + 4 L^{2} g{\\left(r \\right)} + 12 g^{2}{\\left(r \\right)}\\right) \\delta_{f}{\\left(r \\right)} \\delta_{g}{\\left(r \\right)}}{64 L^{2} f^{4}{\\left(r \\right)} g^{4}{\\left(r \\right)}} + \\frac{3 \\sqrt{f{\\left(r \\right)} g{\\left(r \\right)}} \\left(48 L^{4} \\Phi^{2}{\\left(r \\right)} - 4 L^{4} f{\\left(r \\right)} g{\\left(r \\right)} \\left(\\frac{d}{d r} \\Phi{\\left(r \\right)}\\right)^{2} - 2 L^{2} f{\\left(r \\right)} g{\\left(r \\right)} \\frac{d^{2}}{d r^{2}} g{\\left(r \\right)} + 3 L^{2} g{\\left(r \\right)} \\frac{d}{d r} f{\\left(r \\right)} \\frac{d}{d r} g{\\left(r \\right)} - 12 L^{2} g{\\left(r \\right)} - 12 g^{2}{\\left(r \\right)}\\right) \\delta_{f}^{2}{\\left(r \\right)}}{128 L^{2} f^{3}{\\left(r \\right)} g{\\left(r \\right)}}$"
      ],
      "text/plain": [
       "                                                                              \n",
       "                                                                              \n",
       "                               2             d        d            3⋅δ_f(r)⋅g(\n",
       "     2                      3⋅L ⋅δ_f(r)⋅g(r)⋅──(Φ(r))⋅──(δ_Φ(r))              \n",
       "  3⋅L ⋅Φ(r)⋅δ_Φ(r)⋅δ_f(r)                    dr       dr                      \n",
       "- ─────────────────────── + ──────────────────────────────────── + ───────────\n",
       "       ___________                        ___________                        _\n",
       "     ╲╱ f(r)⋅g(r) ⋅f(r)               4⋅╲╱ f(r)⋅g(r)                    16⋅╲╱ \n",
       "\n",
       "     2                                                                        \n",
       "    d                                                                         \n",
       "r)⋅───(δ_g(r))                 d          d                        d          \n",
       "     2           3⋅δ_f(r)⋅g(r)⋅──(δ_f(r))⋅──(g(r))   3⋅δ_f(r)⋅g(r)⋅──(δ_g(r))⋅\n",
       "   dr                          dr         dr                       dr         \n",
       "────────────── - ───────────────────────────────── - ─────────────────────────\n",
       "__________                  ___________                         ___________   \n",
       "f(r)⋅g(r)              32⋅╲╱ f(r)⋅g(r) ⋅f(r)               32⋅╲╱ f(r)⋅g(r) ⋅f(\n",
       "\n",
       "                                                                              \n",
       "                                                                              \n",
       "d                   d          d                 d          d            3⋅(f(\n",
       "──(f(r))   3⋅δ_g(r)⋅──(δ_f(r))⋅──(g(r))   3⋅g(r)⋅──(δ_f(r))⋅──(δ_g(r))        \n",
       "dr                  dr         dr                dr         dr                \n",
       "──────── + ──────────────────────────── + ──────────────────────────── + ─────\n",
       "                      ___________                    ___________              \n",
       "r)               32⋅╲╱ f(r)⋅g(r)                16⋅╲╱ f(r)⋅g(r)               \n",
       "\n",
       "            ⎛                                       2                    2    \n",
       "        5/2 ⎜    4  2         4           ⎛d       ⎞       2            d     \n",
       "r)⋅g(r))   ⋅⎜16⋅L ⋅Φ (r) + 4⋅L ⋅f(r)⋅g(r)⋅⎜──(Φ(r))⎟  + 2⋅L ⋅f(r)⋅g(r)⋅───(g(r\n",
       "            ⎜                             ⎝dr      ⎠                     2    \n",
       "            ⎝                                                          dr     \n",
       "──────────────────────────────────────────────────────────────────────────────\n",
       "                                                                  2  4     4  \n",
       "                                                              64⋅L ⋅f (r)⋅g (r\n",
       "\n",
       "                                                     ⎞                        \n",
       "      2      d        d             2            2   ⎟                     ___\n",
       ")) - L ⋅g(r)⋅──(f(r))⋅──(g(r)) + 4⋅L ⋅g(r) + 12⋅g (r)⎟⋅δ_f(r)⋅δ_g(r)   3⋅╲╱ f(\n",
       "             dr       dr                             ⎟                        \n",
       "                                                     ⎠                        \n",
       "──────────────────────────────────────────────────────────────────── + ───────\n",
       "                                                                              \n",
       ")                                                                             \n",
       "\n",
       "         ⎛                                       2                    2       \n",
       "________ ⎜    4  2         4           ⎛d       ⎞       2            d        \n",
       "r)⋅g(r) ⋅⎜48⋅L ⋅Φ (r) - 4⋅L ⋅f(r)⋅g(r)⋅⎜──(Φ(r))⎟  - 2⋅L ⋅f(r)⋅g(r)⋅───(g(r)) \n",
       "         ⎜                             ⎝dr      ⎠                     2       \n",
       "         ⎝                                                          dr        \n",
       "──────────────────────────────────────────────────────────────────────────────\n",
       "                                                               2  3           \n",
       "                                                          128⋅L ⋅f (r)⋅g(r)   \n",
       "\n",
       "                                                     ⎞        \n",
       "     2      d        d              2            2   ⎟    2   \n",
       "+ 3⋅L ⋅g(r)⋅──(f(r))⋅──(g(r)) - 12⋅L ⋅g(r) - 12⋅g (r)⎟⋅δ_f (r)\n",
       "            dr       dr                              ⎟        \n",
       "                                                     ⎠        \n",
       "──────────────────────────────────────────────────────────────\n",
       "                                                              \n",
       "                                                              "
      ]
     },
     "execution_count": 19,
     "metadata": {},
     "output_type": "execute_result"
    }
   ],
   "source": [
    "action_f = (\n",
    "    delta_f ** 2 * ddS_ff +\n",
    "    delta_f * delta_g * ddS_fg +\n",
    "    delta_f * delta_Phi * ddS_fphi +\n",
    "    delta_f * ddelta_f * ddS_fdf +\n",
    "    delta_f * ddelta_g * ddS_fdg +\n",
    "    delta_f * ddelta_Phi * ddS_fdphi +\n",
    "    ddelta_f * delta_g * ddS_dfg +\n",
    "    ddelta_f * ddelta_g * ddS_dfdg +\n",
    "    delta_f * dddelta_g * ddS_fddg\n",
    ")\n",
    "action_f"
   ]
  },
  {
   "cell_type": "markdown",
   "id": "f6e48f51",
   "metadata": {},
   "source": [
    "Use integration by parts on the dfdf' term:"
   ]
  },
  {
   "cell_type": "code",
   "execution_count": 20,
   "id": "7afeed10",
   "metadata": {},
   "outputs": [
    {
     "data": {
      "image/png": "[encoded data removed]",
      "text/latex": [
       "$\\displaystyle - \\frac{3 \\sqrt{f{\\left(r \\right)} g{\\left(r \\right)}} \\left(- 2 f{\\left(r \\right)} g{\\left(r \\right)} \\frac{d^{2}}{d r^{2}} g{\\left(r \\right)} - f{\\left(r \\right)} \\left(\\frac{d}{d r} g{\\left(r \\right)}\\right)^{2} + 3 g{\\left(r \\right)} \\frac{d}{d r} f{\\left(r \\right)} \\frac{d}{d r} g{\\left(r \\right)}\\right)}{128 f^{3}{\\left(r \\right)} g{\\left(r \\right)}}$"
      ],
      "text/plain": [
       "                 ⎛                2                        2                  \n",
       "     ___________ ⎜               d               ⎛d       ⎞           d       \n",
       "-3⋅╲╱ f(r)⋅g(r) ⋅⎜- 2⋅f(r)⋅g(r)⋅───(g(r)) - f(r)⋅⎜──(g(r))⎟  + 3⋅g(r)⋅──(f(r))\n",
       "                 ⎜                2              ⎝dr      ⎠           dr      \n",
       "                 ⎝              dr                                            \n",
       "──────────────────────────────────────────────────────────────────────────────\n",
       "                                           3                                  \n",
       "                                      128⋅f (r)⋅g(r)                          \n",
       "\n",
       "         ⎞ \n",
       " d       ⎟ \n",
       "⋅──(g(r))⎟ \n",
       " dr      ⎟ \n",
       "         ⎠ \n",
       "───────────\n",
       "           \n",
       "           "
      ]
     },
     "execution_count": 20,
     "metadata": {},
     "output_type": "execute_result"
    }
   ],
   "source": [
    "ddS_ff_2 = -sympy.simplify(sympy.diff(ddS_fdf, r)) / 2\n",
    "ddS_ff_2"
   ]
  },
  {
   "cell_type": "code",
   "execution_count": 21,
   "id": "b11936db",
   "metadata": {},
   "outputs": [
    {
     "data": {
      "image/png": "[encoded data removed]",
      "text/latex": [
       "$\\displaystyle \\frac{3 \\left(f{\\left(r \\right)} g{\\left(r \\right)}\\right)^{\\frac{3}{2}} \\cdot \\left(48 L^{4} \\Phi^{2}{\\left(r \\right)} - 4 L^{4} f{\\left(r \\right)} g{\\left(r \\right)} \\left(\\frac{d}{d r} \\Phi{\\left(r \\right)}\\right)^{2} + L^{2} f{\\left(r \\right)} \\left(\\frac{d}{d r} g{\\left(r \\right)}\\right)^{2} - 12 L^{2} g{\\left(r \\right)} - 12 g^{2}{\\left(r \\right)}\\right)}{128 L^{2} f^{4}{\\left(r \\right)} g^{2}{\\left(r \\right)}}$"
      ],
      "text/plain": [
       "                 ⎛                                       2                    \n",
       "             3/2 ⎜    4  2         4           ⎛d       ⎞     2      ⎛d       \n",
       "3⋅(f(r)⋅g(r))   ⋅⎜48⋅L ⋅Φ (r) - 4⋅L ⋅f(r)⋅g(r)⋅⎜──(Φ(r))⎟  + L ⋅f(r)⋅⎜──(g(r))\n",
       "                 ⎝                             ⎝dr      ⎠            ⎝dr      \n",
       "──────────────────────────────────────────────────────────────────────────────\n",
       "                                                 2  4     2                   \n",
       "                                            128⋅L ⋅f (r)⋅g (r)                \n",
       "\n",
       " 2                        ⎞\n",
       "⎞        2            2   ⎟\n",
       "⎟  - 12⋅L ⋅g(r) - 12⋅g (r)⎟\n",
       "⎠                         ⎠\n",
       "───────────────────────────\n",
       "                           \n",
       "                           "
      ]
     },
     "execution_count": 21,
     "metadata": {},
     "output_type": "execute_result"
    }
   ],
   "source": [
    "ddS_ff = sympy.simplify(ddS_ff + ddS_ff_2)\n",
    "ddS_ff"
   ]
  },
  {
   "cell_type": "markdown",
   "id": "41e242d9",
   "metadata": {},
   "source": [
    "This can be simplified to the following using Equation 4.17:"
   ]
  },
  {
   "cell_type": "code",
   "execution_count": 22,
   "id": "9adc30dd",
   "metadata": {},
   "outputs": [
    {
     "data": {
      "image/png": "[encoded data removed]",
      "text/latex": [
       "$\\displaystyle \\frac{3 L^{2} g{\\left(r \\right)} \\left(\\frac{d}{d r} \\Phi{\\left(r \\right)}\\right)^{2} - 3 r^{2}}{16 \\sqrt{f{\\left(r \\right)} g{\\left(r \\right)}} f{\\left(r \\right)}}$"
      ],
      "text/plain": [
       "                    2       \n",
       "   2      ⎛d       ⎞       2\n",
       "3⋅L ⋅g(r)⋅⎜──(Φ(r))⎟  - 3⋅r \n",
       "          ⎝dr      ⎠        \n",
       "────────────────────────────\n",
       "        ___________         \n",
       "   16⋅╲╱ f(r)⋅g(r) ⋅f(r)    "
      ]
     },
     "execution_count": 22,
     "metadata": {},
     "output_type": "execute_result"
    }
   ],
   "source": [
    "ddS_ff = 3 * (L ** 2 * g * dPhi ** 2 - r ** 2) / (16 * f * sympy.sqrt(f * g))\n",
    "ddS_ff"
   ]
  },
  {
   "cell_type": "markdown",
   "id": "8cc950d3",
   "metadata": {},
   "source": [
    "On integration by parts, the dfdg'' term produces terms with df'dg' and dfdg':"
   ]
  },
  {
   "cell_type": "code",
   "execution_count": 23,
   "id": "37ceb408",
   "metadata": {},
   "outputs": [
    {
     "data": {
      "image/png": "[encoded data removed]",
      "text/latex": [
       "$\\displaystyle 0$"
      ],
      "text/plain": [
       "0"
      ]
     },
     "execution_count": 23,
     "metadata": {},
     "output_type": "execute_result"
    }
   ],
   "source": [
    "ddS_dfdg -= ddS_fddg\n",
    "ddS_dfdg"
   ]
  },
  {
   "cell_type": "code",
   "execution_count": 24,
   "id": "ad109d94",
   "metadata": {},
   "outputs": [
    {
     "data": {
      "image/png": "[encoded data removed]",
      "text/latex": [
       "$\\displaystyle - \\frac{3 \\sqrt{f{\\left(r \\right)} g{\\left(r \\right)}} \\frac{d}{d r} g{\\left(r \\right)}}{32 f{\\left(r \\right)} g{\\left(r \\right)}}$"
      ],
      "text/plain": [
       "     ___________ d        \n",
       "-3⋅╲╱ f(r)⋅g(r) ⋅──(g(r)) \n",
       "                 dr       \n",
       "──────────────────────────\n",
       "       32⋅f(r)⋅g(r)       "
      ]
     },
     "execution_count": 24,
     "metadata": {},
     "output_type": "execute_result"
    }
   ],
   "source": [
    "ddS_fdg = sympy.simplify(ddS_fdg - sympy.diff(ddS_fddg, r))\n",
    "ddS_fdg"
   ]
  },
  {
   "cell_type": "markdown",
   "id": "8831a5aa",
   "metadata": {},
   "source": [
    "You can produce an action totally algebraic in df by integrating the df'dg term by parts, producing terms with dfdg' and dfdg:"
   ]
  },
  {
   "cell_type": "code",
   "execution_count": 25,
   "id": "4ac7ba83",
   "metadata": {},
   "outputs": [
    {
     "data": {
      "image/png": "[encoded data removed]",
      "text/latex": [
       "$\\displaystyle - \\frac{3 \\frac{d}{d r} g{\\left(r \\right)}}{16 \\sqrt{f{\\left(r \\right)} g{\\left(r \\right)}}}$"
      ],
      "text/plain": [
       "     d          \n",
       "  -3⋅──(g(r))   \n",
       "     dr         \n",
       "────────────────\n",
       "     ___________\n",
       "16⋅╲╱ f(r)⋅g(r) "
      ]
     },
     "execution_count": 25,
     "metadata": {},
     "output_type": "execute_result"
    }
   ],
   "source": [
    "ddS_fdg = sympy.simplify(ddS_fdg - ddS_dfg)\n",
    "ddS_fdg"
   ]
  },
  {
   "cell_type": "code",
   "execution_count": 26,
   "id": "7724344a",
   "metadata": {},
   "outputs": [
    {
     "data": {
      "image/png": "[encoded data removed]",
      "text/latex": [
       "$\\displaystyle \\frac{3 \\left(f{\\left(r \\right)} g{\\left(r \\right)}\\right)^{\\frac{9}{2}} \\cdot \\left(16 L^{4} \\Phi^{2}{\\left(r \\right)} + 4 L^{4} f{\\left(r \\right)} g{\\left(r \\right)} \\left(\\frac{d}{d r} \\Phi{\\left(r \\right)}\\right)^{2} + L^{2} f{\\left(r \\right)} \\left(\\frac{d}{d r} g{\\left(r \\right)}\\right)^{2} + 4 L^{2} g{\\left(r \\right)} + 12 g^{2}{\\left(r \\right)}\\right)}{64 L^{2} f^{6}{\\left(r \\right)} g^{6}{\\left(r \\right)}}$"
      ],
      "text/plain": [
       "                 ⎛                                       2                    \n",
       "             9/2 ⎜    4  2         4           ⎛d       ⎞     2      ⎛d       \n",
       "3⋅(f(r)⋅g(r))   ⋅⎜16⋅L ⋅Φ (r) + 4⋅L ⋅f(r)⋅g(r)⋅⎜──(Φ(r))⎟  + L ⋅f(r)⋅⎜──(g(r))\n",
       "                 ⎝                             ⎝dr      ⎠            ⎝dr      \n",
       "──────────────────────────────────────────────────────────────────────────────\n",
       "                                               2  6     6                     \n",
       "                                           64⋅L ⋅f (r)⋅g (r)                  \n",
       "\n",
       " 2                       ⎞\n",
       "⎞       2            2   ⎟\n",
       "⎟  + 4⋅L ⋅g(r) + 12⋅g (r)⎟\n",
       "⎠                        ⎠\n",
       "──────────────────────────\n",
       "                          \n",
       "                          "
      ]
     },
     "execution_count": 26,
     "metadata": {},
     "output_type": "execute_result"
    }
   ],
   "source": [
    "ddS_fg = sympy.simplify(ddS_fg - sympy.diff(ddS_dfg, r))\n",
    "ddS_fg"
   ]
  },
  {
   "cell_type": "code",
   "execution_count": 27,
   "id": "014e3b24",
   "metadata": {},
   "outputs": [
    {
     "data": {
      "image/png": "[encoded data removed]",
      "text/latex": [
       "$\\displaystyle - \\frac{3 L^{2} \\Phi{\\left(r \\right)} \\delta_{\\Phi}{\\left(r \\right)} \\delta_{f}{\\left(r \\right)}}{\\sqrt{f{\\left(r \\right)} g{\\left(r \\right)}} f{\\left(r \\right)}} + \\frac{3 L^{2} \\delta_{f}{\\left(r \\right)} g{\\left(r \\right)} \\frac{d}{d r} \\Phi{\\left(r \\right)} \\frac{d}{d r} \\delta_{\\Phi}{\\left(r \\right)}}{4 \\sqrt{f{\\left(r \\right)} g{\\left(r \\right)}}} + \\frac{\\left(3 L^{2} g{\\left(r \\right)} \\left(\\frac{d}{d r} \\Phi{\\left(r \\right)}\\right)^{2} - 3 r^{2}\\right) \\delta_{f}^{2}{\\left(r \\right)}}{16 \\sqrt{f{\\left(r \\right)} g{\\left(r \\right)}} f{\\left(r \\right)}} - \\frac{3 \\delta_{f}{\\left(r \\right)} \\frac{d}{d r} \\delta_{g}{\\left(r \\right)} \\frac{d}{d r} g{\\left(r \\right)}}{16 \\sqrt{f{\\left(r \\right)} g{\\left(r \\right)}}} + \\frac{3 \\left(f{\\left(r \\right)} g{\\left(r \\right)}\\right)^{\\frac{9}{2}} \\cdot \\left(16 L^{4} \\Phi^{2}{\\left(r \\right)} + 4 L^{4} f{\\left(r \\right)} g{\\left(r \\right)} \\left(\\frac{d}{d r} \\Phi{\\left(r \\right)}\\right)^{2} + L^{2} f{\\left(r \\right)} \\left(\\frac{d}{d r} g{\\left(r \\right)}\\right)^{2} + 4 L^{2} g{\\left(r \\right)} + 12 g^{2}{\\left(r \\right)}\\right) \\delta_{f}{\\left(r \\right)} \\delta_{g}{\\left(r \\right)}}{64 L^{2} f^{6}{\\left(r \\right)} g^{6}{\\left(r \\right)}}$"
      ],
      "text/plain": [
       "                                                                   ⎛          \n",
       "                               2             d        d            ⎜   2      \n",
       "     2                      3⋅L ⋅δ_f(r)⋅g(r)⋅──(Φ(r))⋅──(δ_Φ(r))   ⎜3⋅L ⋅g(r)⋅\n",
       "  3⋅L ⋅Φ(r)⋅δ_Φ(r)⋅δ_f(r)                    dr       dr           ⎝          \n",
       "- ─────────────────────── + ──────────────────────────────────── + ───────────\n",
       "       ___________                        ___________                         \n",
       "     ╲╱ f(r)⋅g(r) ⋅f(r)               4⋅╲╱ f(r)⋅g(r)                       16⋅\n",
       "\n",
       "          2       ⎞                                                           \n",
       "⎛d       ⎞       2⎟    2               d          d                       9/2 \n",
       "⎜──(Φ(r))⎟  - 3⋅r ⎟⋅δ_f (r)   3⋅δ_f(r)⋅──(δ_g(r))⋅──(g(r))   3⋅(f(r)⋅g(r))   ⋅\n",
       "⎝dr      ⎠        ⎠                    dr         dr                          \n",
       "─────────────────────────── - ──────────────────────────── + ─────────────────\n",
       "  ___________                            ___________                          \n",
       "╲╱ f(r)⋅g(r) ⋅f(r)                  16⋅╲╱ f(r)⋅g(r)                           \n",
       "\n",
       "⎛                                       2                     2               \n",
       "⎜    4  2         4           ⎛d       ⎞     2      ⎛d       ⎞       2        \n",
       "⎜16⋅L ⋅Φ (r) + 4⋅L ⋅f(r)⋅g(r)⋅⎜──(Φ(r))⎟  + L ⋅f(r)⋅⎜──(g(r))⎟  + 4⋅L ⋅g(r) + \n",
       "⎝                             ⎝dr      ⎠            ⎝dr      ⎠                \n",
       "──────────────────────────────────────────────────────────────────────────────\n",
       "                                     2  6     6                               \n",
       "                                 64⋅L ⋅f (r)⋅g (r)                            \n",
       "\n",
       "        ⎞              \n",
       "    2   ⎟              \n",
       "12⋅g (r)⎟⋅δ_f(r)⋅δ_g(r)\n",
       "        ⎠              \n",
       "───────────────────────\n",
       "                       \n",
       "                       "
      ]
     },
     "execution_count": 27,
     "metadata": {},
     "output_type": "execute_result"
    }
   ],
   "source": [
    "action_f = (\n",
    "    delta_f ** 2 * ddS_ff +\n",
    "    delta_f * delta_g * ddS_fg +\n",
    "    delta_f * delta_Phi * ddS_fphi +\n",
    "    delta_f * ddelta_g * ddS_fdg +\n",
    "    delta_f * ddelta_Phi * ddS_fdphi +\n",
    "    ddelta_f * ddelta_g * ddS_dfdg\n",
    ")\n",
    "action_f"
   ]
  },
  {
   "cell_type": "markdown",
   "id": "d4e4d2f5",
   "metadata": {},
   "source": [
    "### Quadratic Action when dg = 0"
   ]
  },
  {
   "cell_type": "markdown",
   "id": "397a0723",
   "metadata": {},
   "source": [
    "In this case, q = delta_Phi. Setting delta_g and its derivative to zero, you get:"
   ]
  },
  {
   "cell_type": "code",
   "execution_count": 28,
   "id": "ed79dc9e",
   "metadata": {},
   "outputs": [
    {
     "data": {
      "image/png": "[encoded data removed]",
      "text/latex": [
       "$\\displaystyle \\frac{3 L^{2} \\sqrt{f{\\left(r \\right)} g{\\left(r \\right)}} \\left(\\frac{d}{d r} q{\\left(r \\right)}\\right)^{2}}{4} + \\frac{3 L^{2} q^{2}{\\left(r \\right)}}{\\sqrt{f{\\left(r \\right)} g{\\left(r \\right)}}}$"
      ],
      "text/plain": [
       "                             2                \n",
       "   2   ___________ ⎛d       ⎞                 \n",
       "3⋅L ⋅╲╱ f(r)⋅g(r) ⋅⎜──(q(r))⎟         2  2    \n",
       "                   ⎝dr      ⎠      3⋅L ⋅q (r) \n",
       "────────────────────────────── + ─────────────\n",
       "              4                    ___________\n",
       "                                 ╲╱ f(r)⋅g(r) "
      ]
     },
     "execution_count": 28,
     "metadata": {},
     "output_type": "execute_result"
    }
   ],
   "source": [
    "action_q_dg_0 = action_q.subs({delta_g: 0, ddelta_g: 0})\n",
    "action_q_dg_0"
   ]
  },
  {
   "cell_type": "code",
   "execution_count": 29,
   "id": "5be8f08a",
   "metadata": {},
   "outputs": [
    {
     "data": {
      "image/png": "[encoded data removed]",
      "text/latex": [
       "$\\displaystyle - \\frac{3 L^{2} \\Phi{\\left(r \\right)} \\delta_{\\Phi}{\\left(r \\right)} \\delta_{f}{\\left(r \\right)}}{\\sqrt{f{\\left(r \\right)} g{\\left(r \\right)}} f{\\left(r \\right)}} + \\frac{3 L^{2} \\delta_{f}{\\left(r \\right)} g{\\left(r \\right)} \\frac{d}{d r} \\Phi{\\left(r \\right)} \\frac{d}{d r} \\delta_{\\Phi}{\\left(r \\right)}}{4 \\sqrt{f{\\left(r \\right)} g{\\left(r \\right)}}} + \\frac{\\left(3 L^{2} g{\\left(r \\right)} \\left(\\frac{d}{d r} \\Phi{\\left(r \\right)}\\right)^{2} - 3 r^{2}\\right) \\delta_{f}^{2}{\\left(r \\right)}}{16 \\sqrt{f{\\left(r \\right)} g{\\left(r \\right)}} f{\\left(r \\right)}}$"
      ],
      "text/plain": [
       "                                                                   ⎛          \n",
       "                               2             d        d            ⎜   2      \n",
       "     2                      3⋅L ⋅δ_f(r)⋅g(r)⋅──(Φ(r))⋅──(δ_Φ(r))   ⎜3⋅L ⋅g(r)⋅\n",
       "  3⋅L ⋅Φ(r)⋅δ_Φ(r)⋅δ_f(r)                    dr       dr           ⎝          \n",
       "- ─────────────────────── + ──────────────────────────────────── + ───────────\n",
       "       ___________                        ___________                         \n",
       "     ╲╱ f(r)⋅g(r) ⋅f(r)               4⋅╲╱ f(r)⋅g(r)                       16⋅\n",
       "\n",
       "          2       ⎞        \n",
       "⎛d       ⎞       2⎟    2   \n",
       "⎜──(Φ(r))⎟  - 3⋅r ⎟⋅δ_f (r)\n",
       "⎝dr      ⎠        ⎠        \n",
       "───────────────────────────\n",
       "  ___________              \n",
       "╲╱ f(r)⋅g(r) ⋅f(r)         "
      ]
     },
     "execution_count": 29,
     "metadata": {},
     "output_type": "execute_result"
    }
   ],
   "source": [
    "action_f_dg_0 = action_f.subs({delta_g: 0, ddelta_g: 0})\n",
    "action_f_dg_0"
   ]
  },
  {
   "cell_type": "markdown",
   "id": "95322181",
   "metadata": {},
   "source": [
    "Check the sign of the quadratic factor."
   ]
  },
  {
   "cell_type": "code",
   "execution_count": 30,
   "id": "b1b82265",
   "metadata": {},
   "outputs": [],
   "source": [
    "import matplotlib.pyplot as plt\n",
    "import numpy as np\n",
    "from scipy.special import ellipkinc"
   ]
  },
  {
   "cell_type": "code",
   "execution_count": 31,
   "id": "0b31250f",
   "metadata": {},
   "outputs": [],
   "source": [
    "def a_b_params(phi_star):\n",
    "    \"\"\"Get elliptic integral parameters.\"\"\"\n",
    "    a = (1 + 16 * phi_star ** 2) ** (1./4)\n",
    "    b = np.sqrt((a ** 2 - 1) / 2)\n",
    "    return a, b"
   ]
  },
  {
   "cell_type": "code",
   "execution_count": 32,
   "id": "bd289c23",
   "metadata": {},
   "outputs": [],
   "source": [
    "def phi_of_r(r_val, phi_star, L_val):\n",
    "    \"\"\"Get gauge field.\"\"\"\n",
    "    a, b = a_b_params(phi_star)\n",
    "    phi = np.arctan2(r_val, L_val * a)\n",
    "    m = 1 - a ** 2 / b ** 2\n",
    "    return phi_star * np.cosh((2 / b) * ellipkinc(phi, m))"
   ]
  },
  {
   "cell_type": "code",
   "execution_count": 33,
   "id": "3b944e27",
   "metadata": {},
   "outputs": [],
   "source": [
    "def dphi_of_r(r_val, phi_star, L_val):\n",
    "    \"\"\"Get radial derivative of gauge field.\"\"\"\n",
    "    a, b = a_b_params(phi_star)\n",
    "    phi = np.arctan(r_val / (L_val * a))\n",
    "    m = 1 - a ** 2 / b ** 2\n",
    "    denom = np.sqrt((L_val * a * b) ** 2 + (a ** 2 + b ** 2) * r_val ** 2 + r_val ** 4 / L_val ** 2)\n",
    "    return phi_star * np.sinh((2 / b) * ellipkinc(phi, m)) * 2 / denom"
   ]
  },
  {
   "cell_type": "code",
   "execution_count": 34,
   "id": "bc05d4b3",
   "metadata": {},
   "outputs": [],
   "source": [
    "def ddphi_of_r(r_val, phi_star, L_val):\n",
    "    \"\"\"Get second derivative of gauge field.\"\"\"\n",
    "    a, b = a_b_params(phi_star)\n",
    "    phi = np.arctan2(r_val, (L_val * a))\n",
    "    m = 1 - a ** 2 / b ** 2\n",
    "    sin_part = np.sinh((2 / b) * ellipkinc(phi, m))\n",
    "    cos_part = np.cosh((2 / b) * ellipkinc(phi, m))\n",
    "\n",
    "    first_term = 2 * L_val * (a ** 2 * L_val ** 2 + r_val ** 2) ** 2 * cos_part / (b ** 2 * L_val ** 2 + r_val ** 2)\n",
    "\n",
    "    fac1 = a ** 2 * L_val ** 2 + b ** 2 * L_val ** 2 + 2 * r_val ** 2\n",
    "    fac2 = a ** 2 * (b ** 2 * L_val ** 2 + r_val ** 2) / (b ** 2 * (a ** 2 * L_val ** 2 + r_val ** 2))\n",
    "    second_term = a ** 3 * r_val * fac1 * sin_part / (b ** 3 * fac2 ** (3. / 2))\n",
    "\n",
    "    return 2 * L_val * phi_star * (first_term - second_term) / (a ** 2 * L_val ** 2 + r_val ** 2) ** 3"
   ]
  },
  {
   "cell_type": "code",
   "execution_count": 35,
   "id": "46507e07",
   "metadata": {},
   "outputs": [],
   "source": [
    "def f_of_r(r_val, L_val, r_0_val):\n",
    "    return (L_val ** 2 + r_val ** 2 + 2 * r_0_val ** 2) / L_val ** 2\n",
    "\n",
    "def g_of_r(r_val, r_0_val):\n",
    "    return r_val ** 2 + r_0_val ** 2\n",
    "\n",
    "def dg_of_r(r_val):\n",
    "    return 2 * r_val"
   ]
  },
  {
   "cell_type": "code",
   "execution_count": 36,
   "id": "4bd3caba",
   "metadata": {},
   "outputs": [],
   "source": [
    "def ddf_factor(r_val, phi_star, L_val, r_0_val):\n",
    "    phi_val = phi_of_r(r_val, phi_star, L_val)\n",
    "    dphi_val = dphi_of_r(r_val, phi_star, L_val)\n",
    "    f_val = f_of_r(r_val, L_val, r_0_val)\n",
    "    g_val = g_of_r(r_val, r_0_val)\n",
    "    dg_val = dg_of_r(r_val)\n",
    "\n",
    "    return (\n",
    "        48 * L_val ** 4 * phi_val ** 2 -\n",
    "        4 * L_val ** 4 * f_val * g_val * dphi_val ** 2 +\n",
    "        L_val ** 2 * f_val * dg_val ** 2 -\n",
    "        12 * L_val ** 2 * g_val -\n",
    "        12 * g_val ** 2\n",
    "    )"
   ]
  },
  {
   "cell_type": "code",
   "execution_count": 37,
   "id": "12073a41",
   "metadata": {},
   "outputs": [
    {
     "data": {
      "image/png": "[encoded data removed]",
      "text/plain": [
       "<Figure size 640x480 with 1 Axes>"
      ]
     },
     "metadata": {},
     "output_type": "display_data"
    }
   ],
   "source": [
    "L_val = 1\n",
    "r_0_val = 2  # has to be greater than 1.25 * L\n",
    "phi_star = 5  # has to be greater than 3.56\n",
    "\n",
    "r_vals = np.arange(r_0_val, r_0_val + 10, 0.1)\n",
    "dfs = [ddf_factor(r_val, phi_star, L_val, r_0_val) for r_val in r_vals]\n",
    "plt.plot(r_vals, dfs);"
   ]
  },
  {
   "cell_type": "markdown",
   "id": "5ed0c0c4",
   "metadata": {},
   "source": [
    "It doesn't have to be negative, but in general, it is."
   ]
  },
  {
   "cell_type": "markdown",
   "id": "2c4fa236",
   "metadata": {},
   "source": [
    "#### Completing the Square"
   ]
  },
  {
   "cell_type": "markdown",
   "id": "79dc8b97",
   "metadata": {},
   "source": [
    "The goal is to write\n",
    "\n",
    "A * delta_f^2 + B * delta_f * delta_Phi + C * delta_f * ddelta_Phi\n",
    "\n",
    "in the form\n",
    "\n",
    "-(a_1 * delta_f + a_2 * delta_Phi + a_3 * ddelta_Phi)^2 + c_0"
   ]
  },
  {
   "cell_type": "code",
   "execution_count": 38,
   "id": "e58bd12c",
   "metadata": {},
   "outputs": [
    {
     "data": {
      "image/png": "[encoded data removed]",
      "text/latex": [
       "$\\displaystyle \\left( \\frac{3 L^{2} g{\\left(r \\right)} \\left(\\frac{d}{d r} \\Phi{\\left(r \\right)}\\right)^{2} - 3 r^{2}}{16 \\sqrt{f{\\left(r \\right)} g{\\left(r \\right)}} f{\\left(r \\right)}}, \\  - \\frac{3 L^{2} \\Phi{\\left(r \\right)}}{\\sqrt{f{\\left(r \\right)} g{\\left(r \\right)}} f{\\left(r \\right)}}, \\  \\frac{3 L^{2} g{\\left(r \\right)} \\frac{d}{d r} \\Phi{\\left(r \\right)}}{4 \\sqrt{f{\\left(r \\right)} g{\\left(r \\right)}}}\\right)$"
      ],
      "text/plain": [
       "⎛                    2                                               ⎞\n",
       "⎜   2      ⎛d       ⎞       2                         2      d       ⎟\n",
       "⎜3⋅L ⋅g(r)⋅⎜──(Φ(r))⎟  - 3⋅r          2            3⋅L ⋅g(r)⋅──(Φ(r))⎟\n",
       "⎜          ⎝dr      ⎠             -3⋅L ⋅Φ(r)                 dr      ⎟\n",
       "⎜────────────────────────────, ──────────────────, ──────────────────⎟\n",
       "⎜        ___________             ___________            ___________  ⎟\n",
       "⎝   16⋅╲╱ f(r)⋅g(r) ⋅f(r)      ╲╱ f(r)⋅g(r) ⋅f(r)   4⋅╲╱ f(r)⋅g(r)   ⎠"
      ]
     },
     "execution_count": 38,
     "metadata": {},
     "output_type": "execute_result"
    }
   ],
   "source": [
    "A = ddS_ff\n",
    "B = ddS_fphi\n",
    "C = ddS_fdphi\n",
    "A, B, C"
   ]
  },
  {
   "cell_type": "markdown",
   "id": "4c37db57",
   "metadata": {},
   "source": [
    "The solution is:"
   ]
  },
  {
   "cell_type": "code",
   "execution_count": 39,
   "id": "fc8b02d1",
   "metadata": {},
   "outputs": [],
   "source": [
    "a_1 = sympy.sqrt(-A)\n",
    "a_2 = -B / (2 * a_1)\n",
    "a_3 = -C / (2 * a_1)\n",
    "\n",
    "# get additional terms\n",
    "term_qq = sympy.simplify(-B ** 2 / (4 * A))\n",
    "term_qdq = sympy.simplify(-B * C / (2 * A))\n",
    "term_dqdq = sympy.simplify(-C ** 2 / (4 * A))\n",
    "c_0 = term_qq * delta_Phi ** 2 + term_qdq * delta_Phi * ddelta_Phi + term_dqdq * ddelta_Phi ** 2\n",
    "\n",
    "# final completion\n",
    "completed_square = -(a_1 * delta_f + a_2 * delta_Phi + a_3 * ddelta_Phi) ** 2 + c_0"
   ]
  },
  {
   "cell_type": "markdown",
   "id": "bd9a95b7",
   "metadata": {},
   "source": [
    "Check the solution."
   ]
  },
  {
   "cell_type": "code",
   "execution_count": 40,
   "id": "34b98d44",
   "metadata": {},
   "outputs": [],
   "source": [
    "r_val = 10\n",
    "\n",
    "func_subs = {\n",
    "    L: L_val,\n",
    "    r: r_val,\n",
    "    f: f_of_r(r_val, L_val, r_0_val),\n",
    "    g: g_of_r(r_val, r_0_val),\n",
    "    dg: dg_of_r(r_val),\n",
    "    Phi: phi_of_r(r_val, phi_star, L_val),\n",
    "    dPhi: dphi_of_r(r_val, phi_star, L_val),\n",
    "}"
   ]
  },
  {
   "cell_type": "code",
   "execution_count": 41,
   "id": "e4b8938a",
   "metadata": {},
   "outputs": [
    {
     "data": {
      "text/latex": [
       "$\\displaystyle - 0.000308482418675081 \\sqrt{26} \\delta_{\\Phi}{\\left(10 \\right)} \\delta_{f}{\\left(10 \\right)} - 0.000315647308374014 \\sqrt{26} \\delta_{f}^{2}{\\left(10 \\right)} + 0.00869155372969218 \\sqrt{26} \\delta_{f}{\\left(10 \\right)} \\left. \\frac{d}{d r} \\delta_{\\Phi}{\\left(r \\right)} \\right|_{\\substack{ r=10 }}$"
      ],
      "text/plain": [
       "                                                                        2     \n",
       "-0.000308482418675081⋅√26⋅δ_Φ(10)⋅δ_f(10) - 0.000315647308374014⋅√26⋅δ_f (10) \n",
       "                                                                              \n",
       "\n",
       "                                  ⎛d         ⎞│    \n",
       "+ 0.00869155372969218⋅√26⋅δ_f(10)⋅⎜──(δ_Φ(r))⎟│    \n",
       "                                  ⎝dr        ⎠│r=10"
      ]
     },
     "execution_count": 41,
     "metadata": {},
     "output_type": "execute_result"
    }
   ],
   "source": [
    "action_f_dg_0.subs(func_subs)"
   ]
  },
  {
   "cell_type": "code",
   "execution_count": 42,
   "id": "fdbf5623",
   "metadata": {},
   "outputs": [
    {
     "data": {
      "text/latex": [
       "$\\displaystyle \\sqrt{26} \\cdot \\left(4.06575814682064 \\cdot 10^{-20} \\delta_{\\Phi}^{2}{\\left(10 \\right)} - 0.000308482418675081 \\delta_{\\Phi}{\\left(10 \\right)} \\delta_{f}{\\left(10 \\right)} - 1.73472347597681 \\cdot 10^{-18} \\delta_{\\Phi}{\\left(10 \\right)} \\left. \\frac{d}{d r} \\delta_{\\Phi}{\\left(r \\right)} \\right|_{\\substack{ r=10 }} - 0.000315647308374014 \\delta_{f}^{2}{\\left(10 \\right)} + 0.00869155372969218 \\delta_{f}{\\left(10 \\right)} \\left. \\frac{d}{d r} \\delta_{\\Phi}{\\left(r \\right)} \\right|_{\\substack{ r=10 }} + 6.93889390390723 \\cdot 10^{-18} \\left. \\frac{d}{d r} \\delta_{\\Phi}{\\left(r \\right)} \\right|_{\\substack{ r=10 }}^{2}\\right)$"
      ],
      "text/plain": [
       "    ⎛                                                                         \n",
       "    ⎜                        2                                                \n",
       "√26⋅⎜4.06575814682064e-20⋅δ_Φ (10) - 0.000308482418675081⋅δ_Φ(10)⋅δ_f(10) - 1.\n",
       "    ⎝                                                                         \n",
       "\n",
       "                                                                              \n",
       "                           ⎛d         ⎞│                               2      \n",
       "73472347597681e-18⋅δ_Φ(10)⋅⎜──(δ_Φ(r))⎟│     - 0.000315647308374014⋅δ_f (10) +\n",
       "                           ⎝dr        ⎠│r=10                                  \n",
       "\n",
       "                                                                              \n",
       "                             ⎛d         ⎞│                            ⎛d      \n",
       " 0.00869155372969218⋅δ_f(10)⋅⎜──(δ_Φ(r))⎟│     + 6.93889390390723e-18⋅⎜──(δ_Φ(\n",
       "                             ⎝dr        ⎠│r=10                        ⎝dr     \n",
       "\n",
       "         2⎞\n",
       "   ⎞│     ⎟\n",
       "r))⎟│     ⎟\n",
       "   ⎠│r=10 ⎠"
      ]
     },
     "execution_count": 42,
     "metadata": {},
     "output_type": "execute_result"
    }
   ],
   "source": [
    "sympy.simplify(sympy.expand(completed_square.subs(func_subs)))"
   ]
  },
  {
   "cell_type": "markdown",
   "id": "df2371b5",
   "metadata": {},
   "source": [
    "There is indeed agreement. The final Lagrangian is:"
   ]
  },
  {
   "cell_type": "code",
   "execution_count": 43,
   "id": "160bb0e1",
   "metadata": {},
   "outputs": [
    {
     "data": {
      "image/png": "[encoded data removed]",
      "text/latex": [
       "$\\displaystyle \\frac{6 L^{4} \\sqrt{f{\\left(r \\right)} g{\\left(r \\right)}} \\Phi{\\left(r \\right)} q{\\left(r \\right)} \\frac{d}{d r} \\Phi{\\left(r \\right)} \\frac{d}{d r} q{\\left(r \\right)}}{\\left(L^{2} g{\\left(r \\right)} \\left(\\frac{d}{d r} \\Phi{\\left(r \\right)}\\right)^{2} - r^{2}\\right) f{\\left(r \\right)}} + \\frac{12 L^{4} \\sqrt{f{\\left(r \\right)} g{\\left(r \\right)}} \\Phi^{2}{\\left(r \\right)} q^{2}{\\left(r \\right)}}{\\left(- L^{2} g{\\left(r \\right)} \\left(\\frac{d}{d r} \\Phi{\\left(r \\right)}\\right)^{2} + r^{2}\\right) f^{2}{\\left(r \\right)} g{\\left(r \\right)}} + \\frac{3 L^{4} \\sqrt{f{\\left(r \\right)} g{\\left(r \\right)}} g{\\left(r \\right)} \\left(\\frac{d}{d r} \\Phi{\\left(r \\right)}\\right)^{2} \\left(\\frac{d}{d r} q{\\left(r \\right)}\\right)^{2}}{4 \\left(- L^{2} g{\\left(r \\right)} \\left(\\frac{d}{d r} \\Phi{\\left(r \\right)}\\right)^{2} + r^{2}\\right)} + \\frac{3 L^{2} \\sqrt{f{\\left(r \\right)} g{\\left(r \\right)}} \\left(\\frac{d}{d r} q{\\left(r \\right)}\\right)^{2}}{4} + \\frac{3 L^{2} q^{2}{\\left(r \\right)}}{\\sqrt{f{\\left(r \\right)} g{\\left(r \\right)}}}$"
      ],
      "text/plain": [
       "                                                                              \n",
       "   4   ___________           d        d                                       \n",
       "6⋅L ⋅╲╱ f(r)⋅g(r) ⋅Φ(r)⋅q(r)⋅──(Φ(r))⋅──(q(r))           4   ___________  2   \n",
       "                             dr       dr             12⋅L ⋅╲╱ f(r)⋅g(r) ⋅Φ (r)\n",
       "────────────────────────────────────────────── + ─────────────────────────────\n",
       "       ⎛                  2     ⎞                ⎛                    2     ⎞ \n",
       "       ⎜ 2      ⎛d       ⎞     2⎟                ⎜   2      ⎛d       ⎞     2⎟ \n",
       "       ⎜L ⋅g(r)⋅⎜──(Φ(r))⎟  - r ⎟⋅f(r)           ⎜- L ⋅g(r)⋅⎜──(Φ(r))⎟  + r ⎟⋅\n",
       "       ⎝        ⎝dr      ⎠      ⎠                ⎝          ⎝dr      ⎠      ⎠ \n",
       "\n",
       "                                               2           2                  \n",
       "                4   ___________      ⎛d       ⎞  ⎛d       ⎞       2   ________\n",
       "  2          3⋅L ⋅╲╱ f(r)⋅g(r) ⋅g(r)⋅⎜──(Φ(r))⎟ ⋅⎜──(q(r))⎟    3⋅L ⋅╲╱ f(r)⋅g(\n",
       "⋅q (r)                               ⎝dr      ⎠  ⎝dr      ⎠                   \n",
       "────────── + ─────────────────────────────────────────────── + ───────────────\n",
       "                        ⎛                    2     ⎞                         4\n",
       " 2                      ⎜   2      ⎛d       ⎞     2⎟                          \n",
       "f (r)⋅g(r)            4⋅⎜- L ⋅g(r)⋅⎜──(Φ(r))⎟  + r ⎟                          \n",
       "                        ⎝          ⎝dr      ⎠      ⎠                          \n",
       "\n",
       "              2                \n",
       "___ ⎛d       ⎞                 \n",
       "r) ⋅⎜──(q(r))⎟         2  2    \n",
       "    ⎝dr      ⎠      3⋅L ⋅q (r) \n",
       "─────────────── + ─────────────\n",
       "                    ___________\n",
       "                  ╲╱ f(r)⋅g(r) \n",
       "                               \n",
       "                               "
      ]
     },
     "execution_count": 43,
     "metadata": {},
     "output_type": "execute_result"
    }
   ],
   "source": [
    "final_lagrangian_no_g = action_q_dg_0 + c_0.subs({delta_Phi: q, ddelta_Phi: dq})\n",
    "final_lagrangian_no_g"
   ]
  },
  {
   "cell_type": "markdown",
   "id": "5117bd5a",
   "metadata": {},
   "source": [
    "#### q'^2 Term"
   ]
  },
  {
   "cell_type": "markdown",
   "id": "193eb514",
   "metadata": {},
   "source": [
    "The factor multiplying the q'^2 term is:"
   ]
  },
  {
   "cell_type": "code",
   "execution_count": 44,
   "id": "bd80d9a7",
   "metadata": {},
   "outputs": [
    {
     "data": {
      "image/png": "[encoded data removed]",
      "text/latex": [
       "$\\displaystyle \\frac{3 L^{2} r^{2} \\sqrt{f{\\left(r \\right)} g{\\left(r \\right)}}}{4 \\left(- L^{2} g{\\left(r \\right)} \\left(\\frac{d}{d r} \\Phi{\\left(r \\right)}\\right)^{2} + r^{2}\\right)}$"
      ],
      "text/plain": [
       "       2  2   ___________     \n",
       "    3⋅L ⋅r ⋅╲╱ f(r)⋅g(r)      \n",
       "──────────────────────────────\n",
       "  ⎛                    2     ⎞\n",
       "  ⎜   2      ⎛d       ⎞     2⎟\n",
       "4⋅⎜- L ⋅g(r)⋅⎜──(Φ(r))⎟  + r ⎟\n",
       "  ⎝          ⎝dr      ⎠      ⎠"
      ]
     },
     "execution_count": 44,
     "metadata": {},
     "output_type": "execute_result"
    }
   ],
   "source": [
    "term_dqdq = sympy.simplify(3 * L ** 2 * sympy.sqrt(f * g) / 4 + term_dqdq)\n",
    "term_dqdq"
   ]
  },
  {
   "cell_type": "markdown",
   "id": "50ceb1de",
   "metadata": {},
   "source": [
    "After being multipled by a factor of 8, it agrees with the paper."
   ]
  },
  {
   "cell_type": "markdown",
   "id": "fcb07d4d",
   "metadata": {},
   "source": [
    "#### q^2 Term"
   ]
  },
  {
   "cell_type": "markdown",
   "id": "81686f51",
   "metadata": {},
   "source": [
    "To get the factor multiplying the q^2 term, you need to integrate the term with dqdq' by parts:"
   ]
  },
  {
   "cell_type": "code",
   "execution_count": 45,
   "id": "2c7d626d",
   "metadata": {},
   "outputs": [
    {
     "data": {
      "image/png": "[encoded data removed]",
      "text/latex": [
       "$\\displaystyle - \\frac{3 L^{4} \\sqrt{f{\\left(r \\right)} g{\\left(r \\right)}} \\left(\\frac{f{\\left(r \\right)} \\frac{d}{d r} g{\\left(r \\right)}}{2} + \\frac{g{\\left(r \\right)} \\frac{d}{d r} f{\\left(r \\right)}}{2}\\right) \\Phi{\\left(r \\right)} \\frac{d}{d r} \\Phi{\\left(r \\right)}}{\\left(L^{2} g{\\left(r \\right)} \\left(\\frac{d}{d r} \\Phi{\\left(r \\right)}\\right)^{2} - r^{2}\\right) f^{2}{\\left(r \\right)} g{\\left(r \\right)}} - \\frac{3 L^{4} \\sqrt{f{\\left(r \\right)} g{\\left(r \\right)}} \\Phi{\\left(r \\right)} \\frac{d^{2}}{d r^{2}} \\Phi{\\left(r \\right)}}{\\left(L^{2} g{\\left(r \\right)} \\left(\\frac{d}{d r} \\Phi{\\left(r \\right)}\\right)^{2} - r^{2}\\right) f{\\left(r \\right)}} + \\frac{3 L^{4} \\sqrt{f{\\left(r \\right)} g{\\left(r \\right)}} \\Phi{\\left(r \\right)} \\frac{d}{d r} \\Phi{\\left(r \\right)} \\frac{d}{d r} f{\\left(r \\right)}}{\\left(L^{2} g{\\left(r \\right)} \\left(\\frac{d}{d r} \\Phi{\\left(r \\right)}\\right)^{2} - r^{2}\\right) f^{2}{\\left(r \\right)}} - \\frac{3 L^{4} \\sqrt{f{\\left(r \\right)} g{\\left(r \\right)}} \\left(\\frac{d}{d r} \\Phi{\\left(r \\right)}\\right)^{2}}{\\left(L^{2} g{\\left(r \\right)} \\left(\\frac{d}{d r} \\Phi{\\left(r \\right)}\\right)^{2} - r^{2}\\right) f{\\left(r \\right)}} - \\frac{3 L^{4} \\sqrt{f{\\left(r \\right)} g{\\left(r \\right)}} \\left(- 2 L^{2} g{\\left(r \\right)} \\frac{d}{d r} \\Phi{\\left(r \\right)} \\frac{d^{2}}{d r^{2}} \\Phi{\\left(r \\right)} - L^{2} \\left(\\frac{d}{d r} \\Phi{\\left(r \\right)}\\right)^{2} \\frac{d}{d r} g{\\left(r \\right)} + 2 r\\right) \\Phi{\\left(r \\right)} \\frac{d}{d r} \\Phi{\\left(r \\right)}}{\\left(L^{2} g{\\left(r \\right)} \\left(\\frac{d}{d r} \\Phi{\\left(r \\right)}\\right)^{2} - r^{2}\\right)^{2} f{\\left(r \\right)}} + \\frac{12 L^{4} \\sqrt{f{\\left(r \\right)} g{\\left(r \\right)}} \\Phi^{2}{\\left(r \\right)}}{\\left(- L^{2} g{\\left(r \\right)} \\left(\\frac{d}{d r} \\Phi{\\left(r \\right)}\\right)^{2} + r^{2}\\right) f^{2}{\\left(r \\right)} g{\\left(r \\right)}} + \\frac{3 L^{2}}{\\sqrt{f{\\left(r \\right)} g{\\left(r \\right)}}}$"
      ],
      "text/plain": [
       "                     ⎛     d               d       ⎞                          \n",
       "                     ⎜f(r)⋅──(g(r))   g(r)⋅──(f(r))⎟                    4   __\n",
       "     4   ___________ ⎜     dr              dr      ⎟      d          3⋅L ⋅╲╱ f\n",
       "  3⋅L ⋅╲╱ f(r)⋅g(r) ⋅⎜───────────── + ─────────────⎟⋅Φ(r)⋅──(Φ(r))            \n",
       "                     ⎝      2               2      ⎠      dr                  \n",
       "- ──────────────────────────────────────────────────────────────── - ─────────\n",
       "               ⎛                  2     ⎞                             ⎛       \n",
       "               ⎜ 2      ⎛d       ⎞     2⎟  2                          ⎜ 2     \n",
       "               ⎜L ⋅g(r)⋅⎜──(Φ(r))⎟  - r ⎟⋅f (r)⋅g(r)                  ⎜L ⋅g(r)\n",
       "               ⎝        ⎝dr      ⎠      ⎠                             ⎝       \n",
       "                                                                              \n",
       "\n",
       "                 2                                                            \n",
       "_________       d                                                             \n",
       "(r)⋅g(r) ⋅Φ(r)⋅───(Φ(r))      4   ___________      d        d              4  \n",
       "                 2         3⋅L ⋅╲╱ f(r)⋅g(r) ⋅Φ(r)⋅──(Φ(r))⋅──(f(r))    3⋅L ⋅╲\n",
       "               dr                                  dr       dr                \n",
       "──────────────────────── + ───────────────────────────────────────── - ───────\n",
       "           2     ⎞              ⎛                  2     ⎞             ⎛      \n",
       " ⎛d       ⎞     2⎟              ⎜ 2      ⎛d       ⎞     2⎟  2          ⎜ 2    \n",
       "⋅⎜──(Φ(r))⎟  - r ⎟⋅f(r)         ⎜L ⋅g(r)⋅⎜──(Φ(r))⎟  - r ⎟⋅f (r)       ⎜L ⋅g(r\n",
       " ⎝dr      ⎠      ⎠              ⎝        ⎝dr      ⎠      ⎠             ⎝      \n",
       "                                                                              \n",
       "\n",
       "                                              ⎛                       2       \n",
       "                       2      4   ___________ ⎜     2      d         d        \n",
       " ___________ ⎛d       ⎞    3⋅L ⋅╲╱ f(r)⋅g(r) ⋅⎜- 2⋅L ⋅g(r)⋅──(Φ(r))⋅───(Φ(r)) \n",
       "╱ f(r)⋅g(r) ⋅⎜──(Φ(r))⎟                       ⎜            dr         2       \n",
       "             ⎝dr      ⎠                       ⎝                     dr        \n",
       "──────────────────────── - ───────────────────────────────────────────────────\n",
       "            2     ⎞                                                           \n",
       "  ⎛d       ⎞     2⎟                                         ⎛                 \n",
       ")⋅⎜──(Φ(r))⎟  - r ⎟⋅f(r)                                    ⎜ 2      ⎛d       \n",
       "  ⎝dr      ⎠      ⎠                                         ⎜L ⋅g(r)⋅⎜──(Φ(r))\n",
       "                                                            ⎝        ⎝dr      \n",
       "\n",
       "               2               ⎞                                              \n",
       "   2 ⎛d       ⎞  d             ⎟      d                                       \n",
       "- L ⋅⎜──(Φ(r))⎟ ⋅──(g(r)) + 2⋅r⎟⋅Φ(r)⋅──(Φ(r))                                \n",
       "     ⎝dr      ⎠  dr            ⎟      dr                    4   ___________  2\n",
       "                               ⎠                        12⋅L ⋅╲╱ f(r)⋅g(r) ⋅Φ \n",
       "────────────────────────────────────────────── + ─────────────────────────────\n",
       "        2                                        ⎛                    2     ⎞ \n",
       " 2     ⎞                                         ⎜   2      ⎛d       ⎞     2⎟ \n",
       "⎞     2⎟                                         ⎜- L ⋅g(r)⋅⎜──(Φ(r))⎟  + r ⎟⋅\n",
       "⎟  - r ⎟ ⋅f(r)                                   ⎝          ⎝dr      ⎠      ⎠ \n",
       "⎠      ⎠                                                                      \n",
       "\n",
       "                          \n",
       "                          \n",
       "                          \n",
       "                     2    \n",
       "(r)               3⋅L     \n",
       "────────── + ─────────────\n",
       "               ___________\n",
       " 2           ╲╱ f(r)⋅g(r) \n",
       "f (r)⋅g(r)                \n",
       "                          \n",
       "                          "
      ]
     },
     "execution_count": 45,
     "metadata": {},
     "output_type": "execute_result"
    }
   ],
   "source": [
    "term_qq = 3 * L ** 2 / sympy.sqrt(f * g) + term_qq - sympy.diff(term_qdq, r) / 2\n",
    "term_qq"
   ]
  },
  {
   "cell_type": "code",
   "execution_count": 46,
   "id": "fa0723c7",
   "metadata": {},
   "outputs": [
    {
     "data": {
      "image/png": "[encoded data removed]",
      "text/latex": [
       "$\\displaystyle \\frac{3 L^{2} \\left(L^{4} r \\Phi{\\left(r \\right)} f{\\left(r \\right)} g{\\left(r \\right)} \\left(\\frac{d}{d r} \\Phi{\\left(r \\right)}\\right)^{3} - 4 L^{4} \\Phi^{2}{\\left(r \\right)} g{\\left(r \\right)} \\left(\\frac{d}{d r} \\Phi{\\left(r \\right)}\\right)^{2} + L^{4} \\Phi{\\left(r \\right)} f{\\left(r \\right)} g^{2}{\\left(r \\right)} \\left(\\frac{d}{d r} \\Phi{\\left(r \\right)}\\right)^{2} \\frac{d^{2}}{d r^{2}} \\Phi{\\left(r \\right)} + L^{2} r^{3} \\Phi{\\left(r \\right)} f{\\left(r \\right)} \\frac{d}{d r} \\Phi{\\left(r \\right)} + 4 L^{2} r^{2} \\Phi^{2}{\\left(r \\right)} + L^{2} r^{2} \\Phi{\\left(r \\right)} f{\\left(r \\right)} g{\\left(r \\right)} \\frac{d^{2}}{d r^{2}} \\Phi{\\left(r \\right)} - L^{2} r^{2} f{\\left(r \\right)} g{\\left(r \\right)} \\left(\\frac{d}{d r} \\Phi{\\left(r \\right)}\\right)^{2} - 2 L^{2} r \\Phi{\\left(r \\right)} f{\\left(r \\right)} g{\\left(r \\right)} \\frac{d}{d r} \\Phi{\\left(r \\right)} + L^{2} r \\Phi{\\left(r \\right)} g^{2}{\\left(r \\right)} \\left(\\frac{d}{d r} \\Phi{\\left(r \\right)}\\right)^{3} + r^{4} f{\\left(r \\right)} - r^{3} \\Phi{\\left(r \\right)} g{\\left(r \\right)} \\frac{d}{d r} \\Phi{\\left(r \\right)}\\right)}{\\sqrt{f{\\left(r \\right)} g{\\left(r \\right)}} \\left(L^{4} g^{2}{\\left(r \\right)} \\left(\\frac{d}{d r} \\Phi{\\left(r \\right)}\\right)^{4} - 2 L^{2} r^{2} g{\\left(r \\right)} \\left(\\frac{d}{d r} \\Phi{\\left(r \\right)}\\right)^{2} + r^{4}\\right) f{\\left(r \\right)}}$"
      ],
      "text/plain": [
       "     ⎛                              3                             2           \n",
       "   2 ⎜ 4                  ⎛d       ⎞       4  2         ⎛d       ⎞     4      \n",
       "3⋅L ⋅⎜L ⋅r⋅Φ(r)⋅f(r)⋅g(r)⋅⎜──(Φ(r))⎟  - 4⋅L ⋅Φ (r)⋅g(r)⋅⎜──(Φ(r))⎟  + L ⋅Φ(r)⋅\n",
       "     ⎜                    ⎝dr      ⎠                    ⎝dr      ⎠            \n",
       "     ⎝                                                                        \n",
       "──────────────────────────────────────────────────────────────────────────────\n",
       "                                                                              \n",
       "                                                                              \n",
       "                                                                              \n",
       "                                                                              \n",
       "\n",
       "                     2   2                                                    \n",
       "      2    ⎛d       ⎞   d           2  3           d             2  2  2      \n",
       "f(r)⋅g (r)⋅⎜──(Φ(r))⎟ ⋅───(Φ(r)) + L ⋅r ⋅Φ(r)⋅f(r)⋅──(Φ(r)) + 4⋅L ⋅r ⋅Φ (r) + \n",
       "           ⎝dr      ⎠    2                         dr                         \n",
       "                       dr                                                     \n",
       "──────────────────────────────────────────────────────────────────────────────\n",
       "                                                        ⎛                   4 \n",
       "                                            ___________ ⎜ 4  2    ⎛d       ⎞  \n",
       "                                          ╲╱ f(r)⋅g(r) ⋅⎜L ⋅g (r)⋅⎜──(Φ(r))⎟  \n",
       "                                                        ⎝         ⎝dr      ⎠  \n",
       "\n",
       "                       2                                   2                  \n",
       " 2  2                 d           2  2           ⎛d       ⎞       2           \n",
       "L ⋅r ⋅Φ(r)⋅f(r)⋅g(r)⋅───(Φ(r)) - L ⋅r ⋅f(r)⋅g(r)⋅⎜──(Φ(r))⎟  - 2⋅L ⋅r⋅Φ(r)⋅f(r\n",
       "                       2                         ⎝dr      ⎠                   \n",
       "                     dr                                                       \n",
       "──────────────────────────────────────────────────────────────────────────────\n",
       "                         2     ⎞                                              \n",
       "     2  2      ⎛d       ⎞     4⎟                                              \n",
       "- 2⋅L ⋅r ⋅g(r)⋅⎜──(Φ(r))⎟  + r ⎟⋅f(r)                                         \n",
       "               ⎝dr      ⎠      ⎠                                              \n",
       "\n",
       "                                            3                                 \n",
       "       d           2         2    ⎛d       ⎞     4         3           d      \n",
       ")⋅g(r)⋅──(Φ(r)) + L ⋅r⋅Φ(r)⋅g (r)⋅⎜──(Φ(r))⎟  + r ⋅f(r) - r ⋅Φ(r)⋅g(r)⋅──(Φ(r)\n",
       "       dr                         ⎝dr      ⎠                           dr     \n",
       "                                                                              \n",
       "──────────────────────────────────────────────────────────────────────────────\n",
       "                                                                              \n",
       "                                                                              \n",
       "                                                                              \n",
       "                                                                              \n",
       "\n",
       " ⎞\n",
       " ⎟\n",
       ")⎟\n",
       " ⎟\n",
       " ⎠\n",
       "──\n",
       "  \n",
       "  \n",
       "  \n",
       "  "
      ]
     },
     "execution_count": 46,
     "metadata": {},
     "output_type": "execute_result"
    }
   ],
   "source": [
    "term_qq = term_qq.subs({df: df_sol, dg: dg_sol, ddg: ddg_sol})\n",
    "term_qq = sympy.simplify(sympy.expand(term_qq.simplify()))\n",
    "term_qq"
   ]
  },
  {
   "cell_type": "markdown",
   "id": "3e754781",
   "metadata": {},
   "source": [
    "In the paper, you have:"
   ]
  },
  {
   "cell_type": "code",
   "execution_count": 47,
   "id": "9e40b8b3",
   "metadata": {},
   "outputs": [
    {
     "data": {
      "image/png": "[encoded data removed]",
      "text/latex": [
       "$\\displaystyle \\frac{24 L^{2} r^{2} \\sqrt{\\frac{g{\\left(r \\right)}}{f{\\left(r \\right)}}} \\left(-1 + \\frac{2 \\left(L^{2} \\left(- L^{2} \\Phi{\\left(r \\right)} \\frac{d}{d r} \\Phi{\\left(r \\right)} + r\\right) + \\left(- 2 L^{2} \\Phi{\\left(r \\right)} \\frac{d}{d r} \\Phi{\\left(r \\right)} + r\\right) g{\\left(r \\right)}\\right) g{\\left(r \\right)}}{L^{2} r \\left(- L^{2} g{\\left(r \\right)} \\left(\\frac{d}{d r} \\Phi{\\left(r \\right)}\\right)^{2} + r^{2}\\right) f{\\left(r \\right)}}\\right)}{\\left(- L^{2} g{\\left(r \\right)} \\left(\\frac{d}{d r} \\Phi{\\left(r \\right)}\\right)^{2} + r^{2}\\right) g{\\left(r \\right)}}$"
      ],
      "text/plain": [
       "                    ⎛       ⎛ 2 ⎛   2      d           ⎞   ⎛     2      d     \n",
       "             ______ ⎜     2⋅⎜L ⋅⎜- L ⋅Φ(r)⋅──(Φ(r)) + r⎟ + ⎜- 2⋅L ⋅Φ(r)⋅──(Φ(r\n",
       "    2  2    ╱ g(r)  ⎜       ⎝   ⎝          dr          ⎠   ⎝            dr    \n",
       "24⋅L ⋅r ⋅  ╱  ──── ⋅⎜-1 + ────────────────────────────────────────────────────\n",
       "         ╲╱   f(r)  ⎜                          ⎛                    2     ⎞   \n",
       "                    ⎜                      2   ⎜   2      ⎛d       ⎞     2⎟   \n",
       "                    ⎜                     L ⋅r⋅⎜- L ⋅g(r)⋅⎜──(Φ(r))⎟  + r ⎟⋅f(\n",
       "                    ⎝                          ⎝          ⎝dr      ⎠      ⎠   \n",
       "──────────────────────────────────────────────────────────────────────────────\n",
       "                                ⎛                    2     ⎞                  \n",
       "                                ⎜   2      ⎛d       ⎞     2⎟                  \n",
       "                                ⎜- L ⋅g(r)⋅⎜──(Φ(r))⎟  + r ⎟⋅g(r)             \n",
       "                                ⎝          ⎝dr      ⎠      ⎠                  \n",
       "\n",
       "      ⎞     ⎞     ⎞\n",
       ")) + r⎟⋅g(r)⎟⋅g(r)⎟\n",
       "      ⎠     ⎠     ⎟\n",
       "──────────────────⎟\n",
       "                  ⎟\n",
       "                  ⎟\n",
       "r)                ⎟\n",
       "                  ⎠\n",
       "───────────────────\n",
       "                   \n",
       "                   \n",
       "                   \n",
       "                   "
      ]
     },
     "execution_count": 47,
     "metadata": {},
     "output_type": "execute_result"
    }
   ],
   "source": [
    "K = 6 * L ** 2 * r ** 2 / (r ** 2 - g * L ** 2 * dPhi ** 2)\n",
    "V1 = (L ** 2 * (r - L ** 2 * Phi * dPhi) + g * (r - 2 * L ** 2 * Phi * dPhi)) / (r ** 2 - g * L ** 2 * dPhi ** 2)\n",
    "V2 = V1 * 2 * g / (L ** 2 * f * r) - 1\n",
    "V = (4 * K * V2 / g) * sympy.sqrt(g / f)\n",
    "V"
   ]
  },
  {
   "cell_type": "code",
   "execution_count": 48,
   "id": "084b513e",
   "metadata": {},
   "outputs": [
    {
     "data": {
      "image/png": "[encoded data removed]",
      "text/latex": [
       "$\\displaystyle \\frac{24 r \\sqrt{\\frac{g{\\left(r \\right)}}{f{\\left(r \\right)}}} \\left(L^{2} r \\left(L^{2} g{\\left(r \\right)} \\left(\\frac{d}{d r} \\Phi{\\left(r \\right)}\\right)^{2} - r^{2}\\right) f{\\left(r \\right)} + 2 \\left(L^{2} \\left(- L^{2} \\Phi{\\left(r \\right)} \\frac{d}{d r} \\Phi{\\left(r \\right)} + r\\right) - \\left(2 L^{2} \\Phi{\\left(r \\right)} \\frac{d}{d r} \\Phi{\\left(r \\right)} - r\\right) g{\\left(r \\right)}\\right) g{\\left(r \\right)}\\right)}{\\left(L^{2} g{\\left(r \\right)} \\left(\\frac{d}{d r} \\Phi{\\left(r \\right)}\\right)^{2} - r^{2}\\right)^{2} f{\\left(r \\right)} g{\\left(r \\right)}}$"
      ],
      "text/plain": [
       "         ______ ⎛     ⎛                  2     ⎞                              \n",
       "        ╱ g(r)  ⎜ 2   ⎜ 2      ⎛d       ⎞     2⎟          ⎛ 2 ⎛   2      d    \n",
       "24⋅r⋅  ╱  ──── ⋅⎜L ⋅r⋅⎜L ⋅g(r)⋅⎜──(Φ(r))⎟  - r ⎟⋅f(r) + 2⋅⎜L ⋅⎜- L ⋅Φ(r)⋅──(Φ(\n",
       "     ╲╱   f(r)  ⎝     ⎝        ⎝dr      ⎠      ⎠          ⎝   ⎝          dr   \n",
       "──────────────────────────────────────────────────────────────────────────────\n",
       "                                                                      2       \n",
       "                                            ⎛                  2     ⎞        \n",
       "                                            ⎜ 2      ⎛d       ⎞     2⎟        \n",
       "                                            ⎜L ⋅g(r)⋅⎜──(Φ(r))⎟  - r ⎟ ⋅f(r)⋅g\n",
       "                                            ⎝        ⎝dr      ⎠      ⎠        \n",
       "\n",
       "                                              ⎞\n",
       "       ⎞   ⎛   2      d           ⎞     ⎞     ⎟\n",
       "r)) + r⎟ - ⎜2⋅L ⋅Φ(r)⋅──(Φ(r)) - r⎟⋅g(r)⎟⋅g(r)⎟\n",
       "       ⎠   ⎝          dr          ⎠     ⎠     ⎠\n",
       "───────────────────────────────────────────────\n",
       "                                               \n",
       "                                               \n",
       "                                               \n",
       "(r)                                            \n",
       "                                               "
      ]
     },
     "execution_count": 48,
     "metadata": {},
     "output_type": "execute_result"
    }
   ],
   "source": [
    "V = V.simplify()\n",
    "V"
   ]
  },
  {
   "cell_type": "markdown",
   "id": "41e21b61",
   "metadata": {},
   "source": [
    "You can compare the results numerically."
   ]
  },
  {
   "cell_type": "code",
   "execution_count": 49,
   "id": "836e1b8c",
   "metadata": {},
   "outputs": [],
   "source": [
    "r_0_val = 1\n",
    "L_val = 2\n",
    "\n",
    "def get_term_qq(r_val):\n",
    "    \"\"\"Get factor of q^2 term from these calculations and in paper for given r.\"\"\"\n",
    "    func_subs = {\n",
    "        L: L_val,\n",
    "        r: r_val,\n",
    "        f: f_of_r(r_val, L_val, r_0_val),\n",
    "        g: g_of_r(r_val, r_0_val),\n",
    "        dg: dg_of_r(r_val),\n",
    "        Phi: phi_of_r(r_val, phi_star, L_val),\n",
    "        dPhi: dphi_of_r(r_val, phi_star, L_val),\n",
    "        ddPhi: ddphi_of_r(r_val, phi_star, L_val)\n",
    "    }\n",
    "    return 8 * term_qq.subs(func_subs), V.subs(func_subs)"
   ]
  },
  {
   "cell_type": "code",
   "execution_count": 50,
   "id": "039a7b3e",
   "metadata": {},
   "outputs": [],
   "source": [
    "r_vals = np.arange(100, 1000, 10)\n",
    "vals_qq = [get_term_qq(r_val) for r_val in r_vals]\n",
    "val1_qq, val2_qq = zip(*vals_qq)"
   ]
  },
  {
   "cell_type": "code",
   "execution_count": 51,
   "id": "50a1f18f",
   "metadata": {},
   "outputs": [
    {
     "data": {
      "image/png": "[encoded data removed]",
      "text/plain": [
       "<Figure size 640x480 with 1 Axes>"
      ]
     },
     "metadata": {},
     "output_type": "display_data"
    }
   ],
   "source": [
    "plt.plot(r_vals, val1_qq, label='jc')\n",
    "plt.plot(r_vals, val2_qq, label='paper')\n",
    "plt.legend();"
   ]
  },
  {
   "cell_type": "markdown",
   "id": "33381f29",
   "metadata": {},
   "source": [
    "### Quadratic Action when Phi = 0"
   ]
  },
  {
   "cell_type": "markdown",
   "id": "1f445bbd",
   "metadata": {},
   "source": [
    "In this case, there is no source."
   ]
  },
  {
   "cell_type": "code",
   "execution_count": 52,
   "id": "9ca42380",
   "metadata": {},
   "outputs": [
    {
     "data": {
      "image/png": "[encoded data removed]",
      "text/latex": [
       "$\\displaystyle \\frac{3 L^{2} \\sqrt{f{\\left(r \\right)} g{\\left(r \\right)}} \\left(\\frac{d}{d r} q{\\left(r \\right)}\\right)^{2}}{4} + \\frac{3 L^{2} q^{2}{\\left(r \\right)}}{\\sqrt{f{\\left(r \\right)} g{\\left(r \\right)}}} + \\frac{3 \\sqrt{f{\\left(r \\right)} g{\\left(r \\right)}} \\delta_{g}{\\left(r \\right)} \\frac{d}{d r} \\delta_{g}{\\left(r \\right)} \\frac{d}{d r} g{\\left(r \\right)}}{32 g^{2}{\\left(r \\right)}} - \\frac{3 f{\\left(r \\right)} \\left(\\frac{d}{d r} \\delta_{g}{\\left(r \\right)}\\right)^{2}}{16 \\sqrt{f{\\left(r \\right)} g{\\left(r \\right)}}} + \\frac{3 \\left(- 2 L^{2} f{\\left(r \\right)} g{\\left(r \\right)} \\frac{d^{2}}{d r^{2}} g{\\left(r \\right)} - L^{2} g{\\left(r \\right)} \\frac{d}{d r} f{\\left(r \\right)} \\frac{d}{d r} g{\\left(r \\right)} + 4 L^{2} g{\\left(r \\right)} - 12 g^{2}{\\left(r \\right)}\\right) \\delta_{g}^{2}{\\left(r \\right)} f{\\left(r \\right)}}{128 L^{2} \\left(f{\\left(r \\right)} g{\\left(r \\right)}\\right)^{\\frac{3}{2}} g{\\left(r \\right)}}$"
      ],
      "text/plain": [
       "                                                                              \n",
       "                             2                                                \n",
       "   2   ___________ ⎛d       ⎞                        ___________        d     \n",
       "3⋅L ⋅╲╱ f(r)⋅g(r) ⋅⎜──(q(r))⎟         2  2       3⋅╲╱ f(r)⋅g(r) ⋅δ_g(r)⋅──(δ_g\n",
       "                   ⎝dr      ⎠      3⋅L ⋅q (r)                           dr    \n",
       "────────────────────────────── + ───────────── + ─────────────────────────────\n",
       "              4                    ___________                        2       \n",
       "                                 ╲╱ f(r)⋅g(r)                     32⋅g (r)    \n",
       "\n",
       "                                         ⎛                   2                \n",
       "                                   2     ⎜     2            d           2     \n",
       "     d                 ⎛d         ⎞    3⋅⎜- 2⋅L ⋅f(r)⋅g(r)⋅───(g(r)) - L ⋅g(r)\n",
       "(r))⋅──(g(r))   3⋅f(r)⋅⎜──(δ_g(r))⎟      ⎜                   2                \n",
       "     dr                ⎝dr        ⎠      ⎝                 dr                 \n",
       "───────────── - ──────────────────── + ───────────────────────────────────────\n",
       "                       ___________                                            \n",
       "                  16⋅╲╱ f(r)⋅g(r)                                        128⋅L\n",
       "\n",
       "                                         ⎞             \n",
       " d        d             2            2   ⎟    2        \n",
       "⋅──(f(r))⋅──(g(r)) + 4⋅L ⋅g(r) - 12⋅g (r)⎟⋅δ_g (r)⋅f(r)\n",
       " dr       dr                             ⎟             \n",
       "                                         ⎠             \n",
       "───────────────────────────────────────────────────────\n",
       "2            3/2                                       \n",
       " ⋅(f(r)⋅g(r))   ⋅g(r)                                  "
      ]
     },
     "execution_count": 52,
     "metadata": {},
     "output_type": "execute_result"
    }
   ],
   "source": [
    "action_q_phi_0 = action_q.subs({Phi: 0, dPhi: 0, ddPhi: 0})\n",
    "action_q_phi_0"
   ]
  },
  {
   "cell_type": "code",
   "execution_count": 53,
   "id": "cdd3679f",
   "metadata": {},
   "outputs": [
    {
     "data": {
      "image/png": "[encoded data removed]",
      "text/latex": [
       "$\\displaystyle - \\frac{3 r^{2} \\delta_{f}^{2}{\\left(r \\right)}}{16 \\sqrt{f{\\left(r \\right)} g{\\left(r \\right)}} f{\\left(r \\right)}} - \\frac{3 \\delta_{f}{\\left(r \\right)} \\frac{d}{d r} \\delta_{g}{\\left(r \\right)} \\frac{d}{d r} g{\\left(r \\right)}}{16 \\sqrt{f{\\left(r \\right)} g{\\left(r \\right)}}} + \\frac{3 \\left(f{\\left(r \\right)} g{\\left(r \\right)}\\right)^{\\frac{9}{2}} \\left(L^{2} f{\\left(r \\right)} \\left(\\frac{d}{d r} g{\\left(r \\right)}\\right)^{2} + 4 L^{2} g{\\left(r \\right)} + 12 g^{2}{\\left(r \\right)}\\right) \\delta_{f}{\\left(r \\right)} \\delta_{g}{\\left(r \\right)}}{64 L^{2} f^{6}{\\left(r \\right)} g^{6}{\\left(r \\right)}}$"
      ],
      "text/plain": [
       "                                                                          ⎛   \n",
       "                                   d          d                       9/2 ⎜ 2 \n",
       "          2    2          3⋅δ_f(r)⋅──(δ_g(r))⋅──(g(r))   3⋅(f(r)⋅g(r))   ⋅⎜L ⋅\n",
       "       3⋅r ⋅δ_f (r)                dr         dr                          ⎝   \n",
       "- ───────────────────── - ──────────────────────────── + ─────────────────────\n",
       "       ___________                   ___________                              \n",
       "  16⋅╲╱ f(r)⋅g(r) ⋅f(r)         16⋅╲╱ f(r)⋅g(r)                               \n",
       "\n",
       "               2                       ⎞              \n",
       "     ⎛d       ⎞       2            2   ⎟              \n",
       "f(r)⋅⎜──(g(r))⎟  + 4⋅L ⋅g(r) + 12⋅g (r)⎟⋅δ_f(r)⋅δ_g(r)\n",
       "     ⎝dr      ⎠                        ⎠              \n",
       "──────────────────────────────────────────────────────\n",
       "            2  6     6                                \n",
       "        64⋅L ⋅f (r)⋅g (r)                             "
      ]
     },
     "execution_count": 53,
     "metadata": {},
     "output_type": "execute_result"
    }
   ],
   "source": [
    "action_f_phi_0 = action_f.subs({Phi: 0, dPhi: 0})\n",
    "action_f_phi_0"
   ]
  },
  {
   "cell_type": "markdown",
   "id": "4987f807",
   "metadata": {},
   "source": [
    "Completing the square produces:"
   ]
  },
  {
   "cell_type": "code",
   "execution_count": 54,
   "id": "85aa152c",
   "metadata": {},
   "outputs": [
    {
     "data": {
      "image/png": "[encoded data removed]",
      "text/latex": [
       "$\\displaystyle \\left( - \\frac{3 r^{2}}{16 \\sqrt{f{\\left(r \\right)} g{\\left(r \\right)}} f{\\left(r \\right)}}, \\  \\frac{3 \\left(f{\\left(r \\right)} g{\\left(r \\right)}\\right)^{\\frac{9}{2}} \\left(L^{2} f{\\left(r \\right)} \\left(\\frac{d}{d r} g{\\left(r \\right)}\\right)^{2} + 4 L^{2} g{\\left(r \\right)} + 12 g^{2}{\\left(r \\right)}\\right)}{64 L^{2} f^{6}{\\left(r \\right)} g^{6}{\\left(r \\right)}}, \\  - \\frac{3 \\frac{d}{d r} g{\\left(r \\right)}}{16 \\sqrt{f{\\left(r \\right)} g{\\left(r \\right)}}}\\right)$"
      ],
      "text/plain": [
       "⎛                                        ⎛                  2                 \n",
       "⎜                                    9/2 ⎜ 2      ⎛d       ⎞       2          \n",
       "⎜            2          3⋅(f(r)⋅g(r))   ⋅⎜L ⋅f(r)⋅⎜──(g(r))⎟  + 4⋅L ⋅g(r) + 12\n",
       "⎜        -3⋅r                            ⎝        ⎝dr      ⎠                  \n",
       "⎜─────────────────────, ──────────────────────────────────────────────────────\n",
       "⎜     ___________                                 2  6     6                  \n",
       "⎝16⋅╲╱ f(r)⋅g(r) ⋅f(r)                        64⋅L ⋅f (r)⋅g (r)               \n",
       "\n",
       "      ⎞                  ⎞\n",
       "  2   ⎟       d          ⎟\n",
       "⋅g (r)⎟    -3⋅──(g(r))   ⎟\n",
       "      ⎠       dr         ⎟\n",
       "───────, ────────────────⎟\n",
       "              ___________⎟\n",
       "         16⋅╲╱ f(r)⋅g(r) ⎠"
      ]
     },
     "execution_count": 54,
     "metadata": {},
     "output_type": "execute_result"
    }
   ],
   "source": [
    "A2 = ddS_ff.subs({Phi: 0, dPhi: 0})\n",
    "B2 = ddS_fg.subs({Phi: 0, dPhi: 0})\n",
    "C2 = ddS_fdg.subs({Phi: 0, dPhi: 0})\n",
    "A2, B2, C2"
   ]
  },
  {
   "cell_type": "code",
   "execution_count": 55,
   "id": "d76b7f9a",
   "metadata": {},
   "outputs": [],
   "source": [
    "a_1_2 = sympy.sqrt(-A2)\n",
    "a_2_2 = -B2 / (2 * a_1_2)\n",
    "a_3_2 = -C2 / (2 * a_1_2)\n",
    "c_0_2 = -B2 ** 2 * delta_g ** 2 / (4 * A2) - B2 * C2 * delta_g * ddelta_g / (2 * A2) - C2 ** 2 * ddelta_g ** 2 / (4 * A2)"
   ]
  },
  {
   "cell_type": "code",
   "execution_count": 56,
   "id": "4e2673e4",
   "metadata": {},
   "outputs": [
    {
     "data": {
      "image/png": "[encoded data removed]",
      "text/latex": [
       "$\\displaystyle \\frac{3 \\sqrt{f{\\left(r \\right)} g{\\left(r \\right)}} \\left(\\frac{d}{d r} \\delta_{g}{\\left(r \\right)}\\right)^{2} \\left(\\frac{d}{d r} g{\\left(r \\right)}\\right)^{2}}{64 r^{2} g{\\left(r \\right)}} - \\frac{3 \\sqrt{f{\\left(r \\right)} g{\\left(r \\right)}} \\left(L^{2} f{\\left(r \\right)} \\left(\\frac{d}{d r} g{\\left(r \\right)}\\right)^{2} + 4 L^{2} g{\\left(r \\right)} + 12 g^{2}{\\left(r \\right)}\\right) \\delta_{g}{\\left(r \\right)} \\frac{d}{d r} \\delta_{g}{\\left(r \\right)} \\frac{d}{d r} g{\\left(r \\right)}}{128 L^{2} r^{2} f{\\left(r \\right)} g^{2}{\\left(r \\right)}} + \\frac{3 \\sqrt{f{\\left(r \\right)} g{\\left(r \\right)}} \\left(L^{2} f{\\left(r \\right)} \\left(\\frac{d}{d r} g{\\left(r \\right)}\\right)^{2} + 4 L^{2} g{\\left(r \\right)} + 12 g^{2}{\\left(r \\right)}\\right)^{2} \\delta_{g}^{2}{\\left(r \\right)}}{1024 L^{4} r^{2} f^{2}{\\left(r \\right)} g^{3}{\\left(r \\right)}}$"
      ],
      "text/plain": [
       "                                                                              \n",
       "                            2           2                   ⎛                 \n",
       "    ___________ ⎛d         ⎞  ⎛d       ⎞        ___________ ⎜ 2      ⎛d       \n",
       "3⋅╲╱ f(r)⋅g(r) ⋅⎜──(δ_g(r))⎟ ⋅⎜──(g(r))⎟    3⋅╲╱ f(r)⋅g(r) ⋅⎜L ⋅f(r)⋅⎜──(g(r))\n",
       "                ⎝dr        ⎠  ⎝dr      ⎠                    ⎝        ⎝dr      \n",
       "───────────────────────────────────────── - ──────────────────────────────────\n",
       "                    2                                                         \n",
       "                64⋅r ⋅g(r)                                                    \n",
       "\n",
       "                                                                              \n",
       " 2                       ⎞                                              ⎛     \n",
       "⎞       2            2   ⎟        d          d              ___________ ⎜ 2   \n",
       "⎟  + 4⋅L ⋅g(r) + 12⋅g (r)⎟⋅δ_g(r)⋅──(δ_g(r))⋅──(g(r))   3⋅╲╱ f(r)⋅g(r) ⋅⎜L ⋅f(\n",
       "⎠                        ⎠        dr         dr                         ⎝     \n",
       "───────────────────────────────────────────────────── + ──────────────────────\n",
       "     2  2       2                                                             \n",
       "128⋅L ⋅r ⋅f(r)⋅g (r)                                                          \n",
       "\n",
       "                                      2        \n",
       "             2                       ⎞         \n",
       "   ⎛d       ⎞       2            2   ⎟     2   \n",
       "r)⋅⎜──(g(r))⎟  + 4⋅L ⋅g(r) + 12⋅g (r)⎟ ⋅δ_g (r)\n",
       "   ⎝dr      ⎠                        ⎠         \n",
       "───────────────────────────────────────────────\n",
       "        4  2  2     3                          \n",
       "  1024⋅L ⋅r ⋅f (r)⋅g (r)                       "
      ]
     },
     "execution_count": 56,
     "metadata": {},
     "output_type": "execute_result"
    }
   ],
   "source": [
    "c_0_2"
   ]
  },
  {
   "cell_type": "markdown",
   "id": "73813468",
   "metadata": {},
   "source": [
    "The final Lagrangian is:"
   ]
  },
  {
   "cell_type": "code",
   "execution_count": 57,
   "id": "9d34051c",
   "metadata": {},
   "outputs": [
    {
     "data": {
      "image/png": "[encoded data removed]",
      "text/latex": [
       "$\\displaystyle \\frac{3 L^{2} \\sqrt{f{\\left(r \\right)} g{\\left(r \\right)}} \\left(\\frac{d}{d r} q{\\left(r \\right)}\\right)^{2}}{4} + \\frac{3 L^{2} q^{2}{\\left(r \\right)}}{\\sqrt{f{\\left(r \\right)} g{\\left(r \\right)}}} + \\frac{3 \\sqrt{f{\\left(r \\right)} g{\\left(r \\right)}} \\delta_{g}{\\left(r \\right)} \\frac{d}{d r} \\delta_{g}{\\left(r \\right)} \\frac{d}{d r} g{\\left(r \\right)}}{32 g^{2}{\\left(r \\right)}} - \\frac{3 f{\\left(r \\right)} \\left(\\frac{d}{d r} \\delta_{g}{\\left(r \\right)}\\right)^{2}}{16 \\sqrt{f{\\left(r \\right)} g{\\left(r \\right)}}} + \\frac{3 \\sqrt{f{\\left(r \\right)} g{\\left(r \\right)}} \\left(\\frac{d}{d r} \\delta_{g}{\\left(r \\right)}\\right)^{2} \\left(\\frac{d}{d r} g{\\left(r \\right)}\\right)^{2}}{64 r^{2} g{\\left(r \\right)}} + \\frac{3 \\left(- 2 L^{2} f{\\left(r \\right)} g{\\left(r \\right)} \\frac{d^{2}}{d r^{2}} g{\\left(r \\right)} - L^{2} g{\\left(r \\right)} \\frac{d}{d r} f{\\left(r \\right)} \\frac{d}{d r} g{\\left(r \\right)} + 4 L^{2} g{\\left(r \\right)} - 12 g^{2}{\\left(r \\right)}\\right) \\delta_{g}^{2}{\\left(r \\right)} f{\\left(r \\right)}}{128 L^{2} \\left(f{\\left(r \\right)} g{\\left(r \\right)}\\right)^{\\frac{3}{2}} g{\\left(r \\right)}} - \\frac{3 \\sqrt{f{\\left(r \\right)} g{\\left(r \\right)}} \\left(L^{2} f{\\left(r \\right)} \\left(\\frac{d}{d r} g{\\left(r \\right)}\\right)^{2} + 4 L^{2} g{\\left(r \\right)} + 12 g^{2}{\\left(r \\right)}\\right) \\delta_{g}{\\left(r \\right)} \\frac{d}{d r} \\delta_{g}{\\left(r \\right)} \\frac{d}{d r} g{\\left(r \\right)}}{128 L^{2} r^{2} f{\\left(r \\right)} g^{2}{\\left(r \\right)}} + \\frac{3 \\sqrt{f{\\left(r \\right)} g{\\left(r \\right)}} \\left(L^{2} f{\\left(r \\right)} \\left(\\frac{d}{d r} g{\\left(r \\right)}\\right)^{2} + 4 L^{2} g{\\left(r \\right)} + 12 g^{2}{\\left(r \\right)}\\right)^{2} \\delta_{g}^{2}{\\left(r \\right)}}{1024 L^{4} r^{2} f^{2}{\\left(r \\right)} g^{3}{\\left(r \\right)}}$"
      ],
      "text/plain": [
       "                                                                              \n",
       "                             2                                                \n",
       "   2   ___________ ⎛d       ⎞                        ___________        d     \n",
       "3⋅L ⋅╲╱ f(r)⋅g(r) ⋅⎜──(q(r))⎟         2  2       3⋅╲╱ f(r)⋅g(r) ⋅δ_g(r)⋅──(δ_g\n",
       "                   ⎝dr      ⎠      3⋅L ⋅q (r)                           dr    \n",
       "────────────────────────────── + ───────────── + ─────────────────────────────\n",
       "              4                    ___________                        2       \n",
       "                                 ╲╱ f(r)⋅g(r)                     32⋅g (r)    \n",
       "\n",
       "                                                                              \n",
       "                                   2                               2          \n",
       "     d                 ⎛d         ⎞        ___________ ⎛d         ⎞  ⎛d       \n",
       "(r))⋅──(g(r))   3⋅f(r)⋅⎜──(δ_g(r))⎟    3⋅╲╱ f(r)⋅g(r) ⋅⎜──(δ_g(r))⎟ ⋅⎜──(g(r))\n",
       "     dr                ⎝dr        ⎠                    ⎝dr        ⎠  ⎝dr      \n",
       "───────────── - ──────────────────── + ───────────────────────────────────────\n",
       "                       ___________                         2                  \n",
       "                  16⋅╲╱ f(r)⋅g(r)                      64⋅r ⋅g(r)             \n",
       "\n",
       "       ⎛                   2                                                  \n",
       " 2     ⎜     2            d           2      d        d             2         \n",
       "⎞    3⋅⎜- 2⋅L ⋅f(r)⋅g(r)⋅───(g(r)) - L ⋅g(r)⋅──(f(r))⋅──(g(r)) + 4⋅L ⋅g(r) - 1\n",
       "⎟      ⎜                   2                 dr       dr                      \n",
       "⎠      ⎝                 dr                                                   \n",
       "── + ─────────────────────────────────────────────────────────────────────────\n",
       "                                            2            3/2                  \n",
       "                                       128⋅L ⋅(f(r)⋅g(r))   ⋅g(r)             \n",
       "\n",
       "       ⎞                                                                      \n",
       "   2   ⎟    2                           ⎛                  2                  \n",
       "2⋅g (r)⎟⋅δ_g (r)⋅f(r)       ___________ ⎜ 2      ⎛d       ⎞       2           \n",
       "       ⎟                3⋅╲╱ f(r)⋅g(r) ⋅⎜L ⋅f(r)⋅⎜──(g(r))⎟  + 4⋅L ⋅g(r) + 12⋅\n",
       "       ⎠                                ⎝        ⎝dr      ⎠                   \n",
       "───────────────────── - ──────────────────────────────────────────────────────\n",
       "                                                               2  2       2   \n",
       "                                                          128⋅L ⋅r ⋅f(r)⋅g (r)\n",
       "\n",
       "                                                                              \n",
       "     ⎞                                              ⎛                  2      \n",
       " 2   ⎟        d          d              ___________ ⎜ 2      ⎛d       ⎞       \n",
       "g (r)⎟⋅δ_g(r)⋅──(δ_g(r))⋅──(g(r))   3⋅╲╱ f(r)⋅g(r) ⋅⎜L ⋅f(r)⋅⎜──(g(r))⎟  + 4⋅L\n",
       "     ⎠        dr         dr                         ⎝        ⎝dr      ⎠       \n",
       "───────────────────────────────── + ──────────────────────────────────────────\n",
       "                                                                  4  2  2     \n",
       "                                                            1024⋅L ⋅r ⋅f (r)⋅g\n",
       "\n",
       "                  2        \n",
       "                 ⎞         \n",
       "2            2   ⎟     2   \n",
       " ⋅g(r) + 12⋅g (r)⎟ ⋅δ_g (r)\n",
       "                 ⎠         \n",
       "───────────────────────────\n",
       "3                          \n",
       " (r)                       "
      ]
     },
     "execution_count": 57,
     "metadata": {},
     "output_type": "execute_result"
    }
   ],
   "source": [
    "final_lagrangian_no_phi = action_q_phi_0 + c_0_2\n",
    "final_lagrangian_no_phi"
   ]
  },
  {
   "cell_type": "markdown",
   "id": "f3c12318",
   "metadata": {},
   "source": [
    "Collecting just the g related terms:"
   ]
  },
  {
   "cell_type": "code",
   "execution_count": 58,
   "id": "46595dcb",
   "metadata": {},
   "outputs": [
    {
     "data": {
      "image/png": "[encoded data removed]",
      "text/latex": [
       "$\\displaystyle \\frac{3 \\sqrt{f{\\left(r \\right)} g{\\left(r \\right)}} \\delta_{g}{\\left(r \\right)} \\frac{d}{d r} \\delta_{g}{\\left(r \\right)} \\frac{d}{d r} g{\\left(r \\right)}}{32 g^{2}{\\left(r \\right)}} - \\frac{3 f{\\left(r \\right)} \\left(\\frac{d}{d r} \\delta_{g}{\\left(r \\right)}\\right)^{2}}{16 \\sqrt{f{\\left(r \\right)} g{\\left(r \\right)}}} + \\frac{3 \\sqrt{f{\\left(r \\right)} g{\\left(r \\right)}} \\left(\\frac{d}{d r} \\delta_{g}{\\left(r \\right)}\\right)^{2} \\left(\\frac{d}{d r} g{\\left(r \\right)}\\right)^{2}}{64 r^{2} g{\\left(r \\right)}} + \\frac{3 \\left(- 2 L^{2} f{\\left(r \\right)} g{\\left(r \\right)} \\frac{d^{2}}{d r^{2}} g{\\left(r \\right)} - L^{2} g{\\left(r \\right)} \\frac{d}{d r} f{\\left(r \\right)} \\frac{d}{d r} g{\\left(r \\right)} + 4 L^{2} g{\\left(r \\right)} - 12 g^{2}{\\left(r \\right)}\\right) \\delta_{g}^{2}{\\left(r \\right)} f{\\left(r \\right)}}{128 L^{2} \\left(f{\\left(r \\right)} g{\\left(r \\right)}\\right)^{\\frac{3}{2}} g{\\left(r \\right)}} - \\frac{3 \\sqrt{f{\\left(r \\right)} g{\\left(r \\right)}} \\left(L^{2} f{\\left(r \\right)} \\left(\\frac{d}{d r} g{\\left(r \\right)}\\right)^{2} + 4 L^{2} g{\\left(r \\right)} + 12 g^{2}{\\left(r \\right)}\\right) \\delta_{g}{\\left(r \\right)} \\frac{d}{d r} \\delta_{g}{\\left(r \\right)} \\frac{d}{d r} g{\\left(r \\right)}}{128 L^{2} r^{2} f{\\left(r \\right)} g^{2}{\\left(r \\right)}} + \\frac{3 \\sqrt{f{\\left(r \\right)} g{\\left(r \\right)}} \\left(L^{2} f{\\left(r \\right)} \\left(\\frac{d}{d r} g{\\left(r \\right)}\\right)^{2} + 4 L^{2} g{\\left(r \\right)} + 12 g^{2}{\\left(r \\right)}\\right)^{2} \\delta_{g}^{2}{\\left(r \\right)}}{1024 L^{4} r^{2} f^{2}{\\left(r \\right)} g^{3}{\\left(r \\right)}}$"
      ],
      "text/plain": [
       "                                                                              \n",
       "                                                                2             \n",
       "    ___________        d          d                 ⎛d         ⎞        ______\n",
       "3⋅╲╱ f(r)⋅g(r) ⋅δ_g(r)⋅──(δ_g(r))⋅──(g(r))   3⋅f(r)⋅⎜──(δ_g(r))⎟    3⋅╲╱ f(r)⋅\n",
       "                       dr         dr                ⎝dr        ⎠              \n",
       "────────────────────────────────────────── - ──────────────────── + ──────────\n",
       "                     2                              ___________               \n",
       "                 32⋅g (r)                      16⋅╲╱ f(r)⋅g(r)                \n",
       "\n",
       "                                    ⎛                   2                     \n",
       "                  2           2     ⎜     2            d           2      d   \n",
       "_____ ⎛d         ⎞  ⎛d       ⎞    3⋅⎜- 2⋅L ⋅f(r)⋅g(r)⋅───(g(r)) - L ⋅g(r)⋅──(f\n",
       "g(r) ⋅⎜──(δ_g(r))⎟ ⋅⎜──(g(r))⎟      ⎜                   2                 dr  \n",
       "      ⎝dr        ⎠  ⎝dr      ⎠      ⎝                 dr                      \n",
       "─────────────────────────────── + ────────────────────────────────────────────\n",
       "          2                                                              2    \n",
       "      64⋅r ⋅g(r)                                                    128⋅L ⋅(f(\n",
       "\n",
       "                                    ⎞                                         \n",
       "     d             2            2   ⎟    2                           ⎛        \n",
       "(r))⋅──(g(r)) + 4⋅L ⋅g(r) - 12⋅g (r)⎟⋅δ_g (r)⋅f(r)       ___________ ⎜ 2      \n",
       "     dr                             ⎟                3⋅╲╱ f(r)⋅g(r) ⋅⎜L ⋅f(r)⋅\n",
       "                                    ⎠                                ⎝        \n",
       "────────────────────────────────────────────────── - ─────────────────────────\n",
       "        3/2                                                                   \n",
       "r)⋅g(r))   ⋅g(r)                                                              \n",
       "\n",
       "                                                                              \n",
       "          2                       ⎞                                           \n",
       "⎛d       ⎞       2            2   ⎟        d          d              _________\n",
       "⎜──(g(r))⎟  + 4⋅L ⋅g(r) + 12⋅g (r)⎟⋅δ_g(r)⋅──(δ_g(r))⋅──(g(r))   3⋅╲╱ f(r)⋅g(r\n",
       "⎝dr      ⎠                        ⎠        dr         dr                      \n",
       "────────────────────────────────────────────────────────────── + ─────────────\n",
       "              2  2       2                                                    \n",
       "         128⋅L ⋅r ⋅f(r)⋅g (r)                                                 \n",
       "\n",
       "                                               2        \n",
       "   ⎛                  2                       ⎞         \n",
       "__ ⎜ 2      ⎛d       ⎞       2            2   ⎟     2   \n",
       ") ⋅⎜L ⋅f(r)⋅⎜──(g(r))⎟  + 4⋅L ⋅g(r) + 12⋅g (r)⎟ ⋅δ_g (r)\n",
       "   ⎝        ⎝dr      ⎠                        ⎠         \n",
       "────────────────────────────────────────────────────────\n",
       "                 4  2  2     3                          \n",
       "           1024⋅L ⋅r ⋅f (r)⋅g (r)                       "
      ]
     },
     "execution_count": 58,
     "metadata": {},
     "output_type": "execute_result"
    }
   ],
   "source": [
    "g_terms = action_q_phi_0 + c_0_2 - 3 * L ** 2 * sympy.sqrt(f * g) * dq ** 2 / 4 - 3 * L ** 2 * q ** 2 / sympy.sqrt(f * g)\n",
    "g_terms"
   ]
  },
  {
   "cell_type": "code",
   "execution_count": 59,
   "id": "78853724",
   "metadata": {},
   "outputs": [
    {
     "data": {
      "image/png": "[encoded data removed]",
      "text/latex": [
       "$\\displaystyle \\left(\\frac{3 \\sqrt{f{\\left(r \\right)} g{\\left(r \\right)}}}{16 g{\\left(r \\right)}} - \\frac{3 f{\\left(r \\right)}}{16 \\sqrt{f{\\left(r \\right)} g{\\left(r \\right)}}}\\right) \\left(\\frac{d}{d r} \\delta_{g}{\\left(r \\right)}\\right)^{2} + \\left(\\frac{3 r \\sqrt{f{\\left(r \\right)} g{\\left(r \\right)}}}{16 g^{2}{\\left(r \\right)}} - \\frac{3 \\sqrt{f{\\left(r \\right)} g{\\left(r \\right)}} \\left(4 L^{2} r^{2} f{\\left(r \\right)} + 4 L^{2} g{\\left(r \\right)} + 12 g^{2}{\\left(r \\right)}\\right)}{64 L^{2} r f{\\left(r \\right)} g^{2}{\\left(r \\right)}}\\right) \\delta_{g}{\\left(r \\right)} \\frac{d}{d r} \\delta_{g}{\\left(r \\right)} + \\left(\\frac{3 \\left(- 4 L^{2} f{\\left(r \\right)} g{\\left(r \\right)} + 4 L^{2} g{\\left(r \\right)} - 4 r^{2} g{\\left(r \\right)} - 12 g^{2}{\\left(r \\right)}\\right) f{\\left(r \\right)}}{128 L^{2} \\left(f{\\left(r \\right)} g{\\left(r \\right)}\\right)^{\\frac{3}{2}} g{\\left(r \\right)}} + \\frac{3 \\sqrt{f{\\left(r \\right)} g{\\left(r \\right)}} \\left(4 L^{2} r^{2} f{\\left(r \\right)} + 4 L^{2} g{\\left(r \\right)} + 12 g^{2}{\\left(r \\right)}\\right)^{2}}{1024 L^{4} r^{2} f^{2}{\\left(r \\right)} g^{3}{\\left(r \\right)}}\\right) \\delta_{g}^{2}{\\left(r \\right)}$"
      ],
      "text/plain": [
       "                                                                              \n",
       "⎛    ___________                   ⎞             2   ⎛      ___________       \n",
       "⎜3⋅╲╱ f(r)⋅g(r)         3⋅f(r)     ⎟ ⎛d         ⎞    ⎜3⋅r⋅╲╱ f(r)⋅g(r)    3⋅╲╱\n",
       "⎜─────────────── - ────────────────⎟⋅⎜──(δ_g(r))⎟  + ⎜───────────────── - ────\n",
       "⎜    16⋅g(r)            ___________⎟ ⎝dr        ⎠    ⎜         2              \n",
       "⎝                  16⋅╲╱ f(r)⋅g(r) ⎠                 ⎝     16⋅g (r)           \n",
       "\n",
       "                                                                       ⎛      \n",
       "___________ ⎛   2  2           2            2   ⎞⎞                     ⎜  ⎛   \n",
       " f(r)⋅g(r) ⋅⎝4⋅L ⋅r ⋅f(r) + 4⋅L ⋅g(r) + 12⋅g (r)⎠⎟        d            ⎜3⋅⎝- 4\n",
       "─────────────────────────────────────────────────⎟⋅δ_g(r)⋅──(δ_g(r)) + ⎜──────\n",
       "                  2         2                    ⎟        dr           ⎜      \n",
       "              64⋅L ⋅r⋅f(r)⋅g (r)                 ⎠                     ⎝      \n",
       "\n",
       "                                                                              \n",
       "  2                2           2            2   ⎞            ___________ ⎛   2\n",
       "⋅L ⋅f(r)⋅g(r) + 4⋅L ⋅g(r) - 4⋅r ⋅g(r) - 12⋅g (r)⎠⋅f(r)   3⋅╲╱ f(r)⋅g(r) ⋅⎝4⋅L \n",
       "────────────────────────────────────────────────────── + ─────────────────────\n",
       "                2            3/2                                              \n",
       "           128⋅L ⋅(f(r)⋅g(r))   ⋅g(r)                                    1024⋅\n",
       "\n",
       "                                2⎞        \n",
       "  2           2            2   ⎞ ⎟        \n",
       "⋅r ⋅f(r) + 4⋅L ⋅g(r) + 12⋅g (r)⎠ ⎟    2   \n",
       "─────────────────────────────────⎟⋅δ_g (r)\n",
       " 4  2  2     3                   ⎟        \n",
       "L ⋅r ⋅f (r)⋅g (r)                ⎠        "
      ]
     },
     "execution_count": 59,
     "metadata": {},
     "output_type": "execute_result"
    }
   ],
   "source": [
    "g_terms = sympy.collect(g_terms.subs({dg: dg_sol, ddg: ddg_sol, df: df_sol}), [delta_g, ddelta_g, ddelta_g * delta_g])\n",
    "g_terms"
   ]
  },
  {
   "cell_type": "markdown",
   "id": "1da9394b",
   "metadata": {},
   "source": [
    "The dgdg term is:"
   ]
  },
  {
   "cell_type": "code",
   "execution_count": 60,
   "id": "5bee507f",
   "metadata": {},
   "outputs": [
    {
     "data": {
      "image/png": "[encoded data removed]",
      "text/latex": [
       "$\\displaystyle \\frac{3 \\cdot \\left(2 L^{2} r^{2} \\left(- L^{2} f{\\left(r \\right)} + L^{2} - r^{2} - 3 g{\\left(r \\right)}\\right) f{\\left(r \\right)} g{\\left(r \\right)} + \\left(L^{2} r^{2} f{\\left(r \\right)} + L^{2} g{\\left(r \\right)} + 3 g^{2}{\\left(r \\right)}\\right)^{2}\\right)}{64 L^{4} r^{2} \\left(f{\\left(r \\right)} g{\\left(r \\right)}\\right)^{\\frac{3}{2}} g{\\left(r \\right)}}$"
      ],
      "text/plain": [
       "  ⎛                                                                           \n",
       "  ⎜   2  2 ⎛   2         2    2         ⎞             ⎛ 2  2         2        \n",
       "3⋅⎝2⋅L ⋅r ⋅⎝- L ⋅f(r) + L  - r  - 3⋅g(r)⎠⋅f(r)⋅g(r) + ⎝L ⋅r ⋅f(r) + L ⋅g(r) + \n",
       "──────────────────────────────────────────────────────────────────────────────\n",
       "                                  4  2            3/2                         \n",
       "                              64⋅L ⋅r ⋅(f(r)⋅g(r))   ⋅g(r)                    \n",
       "\n",
       "        2⎞\n",
       "   2   ⎞ ⎟\n",
       "3⋅g (r)⎠ ⎠\n",
       "──────────\n",
       "          \n",
       "          "
      ]
     },
     "execution_count": 60,
     "metadata": {},
     "output_type": "execute_result"
    }
   ],
   "source": [
    "term_gg = g_terms.coeff(delta_g * delta_g).simplify()\n",
    "term_gg"
   ]
  },
  {
   "cell_type": "markdown",
   "id": "7cc909db",
   "metadata": {},
   "source": [
    "The dgdg' term has to be integrated by parts:"
   ]
  },
  {
   "cell_type": "code",
   "execution_count": 61,
   "id": "4e2c5d03",
   "metadata": {},
   "outputs": [
    {
     "data": {
      "image/png": "[encoded data removed]",
      "text/latex": [
       "$\\displaystyle \\frac{3 \\sqrt{f{\\left(r \\right)} g{\\left(r \\right)}} \\left(- L^{2} - 3 g{\\left(r \\right)}\\right)}{16 L^{2} r f{\\left(r \\right)} g{\\left(r \\right)}}$"
      ],
      "text/plain": [
       "    ___________ ⎛   2         ⎞\n",
       "3⋅╲╱ f(r)⋅g(r) ⋅⎝- L  - 3⋅g(r)⎠\n",
       "───────────────────────────────\n",
       "           2                   \n",
       "       16⋅L ⋅r⋅f(r)⋅g(r)       "
      ]
     },
     "execution_count": 61,
     "metadata": {},
     "output_type": "execute_result"
    }
   ],
   "source": [
    "term_gdg = g_terms.coeff(delta_g * ddelta_g).simplify()\n",
    "term_gdg"
   ]
  },
  {
   "cell_type": "code",
   "execution_count": 62,
   "id": "9ded2831",
   "metadata": {},
   "outputs": [
    {
     "data": {
      "image/png": "[encoded data removed]",
      "text/latex": [
       "$\\displaystyle \\frac{3 \\left(f{\\left(r \\right)} g{\\left(r \\right)}\\right)^{\\frac{11}{2}} \\left(- L^{2} \\left(L^{2} r^{2} f{\\left(r \\right)} + L^{2} f{\\left(r \\right)} g{\\left(r \\right)} - 3 r^{2} f{\\left(r \\right)} g{\\left(r \\right)} + r^{2} g{\\left(r \\right)} + 3 f{\\left(r \\right)} g^{2}{\\left(r \\right)}\\right) - 3 r^{2} g^{2}{\\left(r \\right)}\\right)}{32 L^{4} r^{2} f^{7}{\\left(r \\right)} g^{7}{\\left(r \\right)}}$"
      ],
      "text/plain": [
       "             11/2 ⎛   2 ⎛ 2  2         2                2              2      \n",
       "3⋅(f(r)⋅g(r))    ⋅⎝- L ⋅⎝L ⋅r ⋅f(r) + L ⋅f(r)⋅g(r) - 3⋅r ⋅f(r)⋅g(r) + r ⋅g(r) \n",
       "──────────────────────────────────────────────────────────────────────────────\n",
       "                                                4  2  7     7                 \n",
       "                                            32⋅L ⋅r ⋅f (r)⋅g (r)              \n",
       "\n",
       "          2   ⎞      2  2   ⎞\n",
       "+ 3⋅f(r)⋅g (r)⎠ - 3⋅r ⋅g (r)⎠\n",
       "─────────────────────────────\n",
       "                             \n",
       "                             "
      ]
     },
     "execution_count": 62,
     "metadata": {},
     "output_type": "execute_result"
    }
   ],
   "source": [
    "extra_term_gg = (-sympy.diff(term_gdg, r) / 2).simplify()\n",
    "extra_term_gg = extra_term_gg.subs({dg: dg_sol, df: df_sol}).simplify()\n",
    "extra_term_gg"
   ]
  },
  {
   "cell_type": "markdown",
   "id": "9ce31ad2",
   "metadata": {},
   "source": [
    "When you add it back, you get in the numerator:"
   ]
  },
  {
   "cell_type": "code",
   "execution_count": 63,
   "id": "15c506bc",
   "metadata": {},
   "outputs": [
    {
     "data": {
      "image/png": "[encoded data removed]",
      "text/latex": [
       "$\\displaystyle - 6 L^{2} r^{2} \\left(L^{2} f{\\left(r \\right)} - L^{2} + r^{2} + 3 g{\\left(r \\right)}\\right) f{\\left(r \\right)} g{\\left(r \\right)} + 6 \\left(L^{2} \\left(- L^{2} r^{2} f{\\left(r \\right)} - L^{2} f{\\left(r \\right)} g{\\left(r \\right)} + 3 r^{2} f{\\left(r \\right)} g{\\left(r \\right)} - r^{2} g{\\left(r \\right)} - 3 f{\\left(r \\right)} g^{2}{\\left(r \\right)}\\right) - 3 r^{2} g^{2}{\\left(r \\right)}\\right) g{\\left(r \\right)} + 3 \\left(L^{2} r^{2} f{\\left(r \\right)} + L^{2} g{\\left(r \\right)} + 3 g^{2}{\\left(r \\right)}\\right)^{2}$"
      ],
      "text/plain": [
       "                                                                              \n",
       "     2  2 ⎛ 2         2    2         ⎞               ⎛ 2 ⎛   2  2         2   \n",
       "- 6⋅L ⋅r ⋅⎝L ⋅f(r) - L  + r  + 3⋅g(r)⎠⋅f(r)⋅g(r) + 6⋅⎝L ⋅⎝- L ⋅r ⋅f(r) - L ⋅f(\n",
       "\n",
       "                                                                              \n",
       "             2              2                2   ⎞      2  2   ⎞          ⎛ 2 \n",
       "r)⋅g(r) + 3⋅r ⋅f(r)⋅g(r) - r ⋅g(r) - 3⋅f(r)⋅g (r)⎠ - 3⋅r ⋅g (r)⎠⋅g(r) + 3⋅⎝L ⋅\n",
       "\n",
       "                            2\n",
       " 2         2           2   ⎞ \n",
       "r ⋅f(r) + L ⋅g(r) + 3⋅g (r)⎠ "
      ]
     },
     "execution_count": 63,
     "metadata": {},
     "output_type": "execute_result"
    }
   ],
   "source": [
    "n, _ = sympy.fraction((term_gg + extra_term_gg).simplify())\n",
    "n"
   ]
  },
  {
   "cell_type": "markdown",
   "id": "877cf7ec",
   "metadata": {},
   "source": [
    "which simplifies to:"
   ]
  },
  {
   "cell_type": "code",
   "execution_count": 64,
   "id": "7d2cf083",
   "metadata": {},
   "outputs": [
    {
     "data": {
      "image/png": "[encoded data removed]",
      "text/latex": [
       "$\\displaystyle 3 r_{0}^{2} \\left(- 2 L^{4} r^{2} - L^{4} r_{0}^{2} - 4 L^{2} r^{4} - 10 L^{2} r^{2} r_{0}^{2} - 4 L^{2} r_{0}^{4} - 4 r^{4} r_{0}^{2} - 8 r^{2} r_{0}^{4} - 3 r_{0}^{6}\\right)$"
      ],
      "text/plain": [
       "    2 ⎛     4  2    4   2      2  4       2  2   2      2   4      4   2      \n",
       "3⋅r₀ ⋅⎝- 2⋅L ⋅r  - L ⋅r₀  - 4⋅L ⋅r  - 10⋅L ⋅r ⋅r₀  - 4⋅L ⋅r₀  - 4⋅r ⋅r₀  - 8⋅r\n",
       "\n",
       "2   4       6⎞\n",
       " ⋅r₀  - 3⋅r₀ ⎠"
      ]
     },
     "execution_count": 64,
     "metadata": {},
     "output_type": "execute_result"
    }
   ],
   "source": [
    "n.subs({f: f_sol, g: g_sol}).simplify()"
   ]
  },
  {
   "cell_type": "markdown",
   "id": "0ee90a9e",
   "metadata": {},
   "source": [
    "Using the Phi = 0 assumption, this simplifies to zero, as expected."
   ]
  },
  {
   "cell_type": "markdown",
   "id": "99c603c9",
   "metadata": {},
   "source": [
    "#### q'^2 Term"
   ]
  },
  {
   "cell_type": "markdown",
   "id": "e7f55ae7",
   "metadata": {},
   "source": [
    "In the paper, the factor in front of q'^2 is:"
   ]
  },
  {
   "cell_type": "code",
   "execution_count": 65,
   "id": "cb69e62f",
   "metadata": {},
   "outputs": [
    {
     "data": {
      "image/png": "[encoded data removed]",
      "text/latex": [
       "$\\displaystyle 6 L^{2} \\sqrt{f{\\left(r \\right)} g{\\left(r \\right)}}$"
      ],
      "text/plain": [
       "   2   ___________\n",
       "6⋅L ⋅╲╱ f(r)⋅g(r) "
      ]
     },
     "execution_count": 65,
     "metadata": {},
     "output_type": "execute_result"
    }
   ],
   "source": [
    "factor_dq_square = sympy.sqrt(f * g) * 6 * L ** 2\n",
    "factor_dq_square"
   ]
  },
  {
   "cell_type": "markdown",
   "id": "675c32aa",
   "metadata": {},
   "source": [
    "which agrees with the one here up to a factor of 8."
   ]
  },
  {
   "cell_type": "markdown",
   "id": "9bb7a947",
   "metadata": {},
   "source": [
    "#### q^2 Term"
   ]
  },
  {
   "cell_type": "markdown",
   "id": "758271bc",
   "metadata": {},
   "source": [
    "The factor in front of q^2 in the paper is:"
   ]
  },
  {
   "cell_type": "code",
   "execution_count": 66,
   "id": "c7eaf4a2",
   "metadata": {},
   "outputs": [
    {
     "data": {
      "image/png": "[encoded data removed]",
      "text/latex": [
       "$\\displaystyle \\frac{24 \\left(- L^{2} r^{2} f{\\left(r \\right)} + 2 \\left(L^{2} + g{\\left(r \\right)}\\right) g{\\left(r \\right)}\\right)}{r^{2} \\sqrt{f{\\left(r \\right)} g{\\left(r \\right)}} f{\\left(r \\right)}}$"
      ],
      "text/plain": [
       "   ⎛   2  2          ⎛ 2       ⎞     ⎞\n",
       "24⋅⎝- L ⋅r ⋅f(r) + 2⋅⎝L  + g(r)⎠⋅g(r)⎠\n",
       "──────────────────────────────────────\n",
       "         2   ___________              \n",
       "        r ⋅╲╱ f(r)⋅g(r) ⋅f(r)         "
      ]
     },
     "execution_count": 66,
     "metadata": {},
     "output_type": "execute_result"
    }
   ],
   "source": [
    "factor_q_square = sympy.simplify((1 / sympy.sqrt(f * g)) * 24 * L ** 2 * ((2 * g * (L ** 2 + g) / (r ** 2 * L ** 2 * f)) - 1))\n",
    "factor_q_square"
   ]
  },
  {
   "cell_type": "markdown",
   "id": "698b7f11",
   "metadata": {},
   "source": [
    "The numerator is:"
   ]
  },
  {
   "cell_type": "code",
   "execution_count": 67,
   "id": "b1642af9",
   "metadata": {},
   "outputs": [
    {
     "data": {
      "image/png": "[encoded data removed]",
      "text/latex": [
       "$\\displaystyle 24 L^{2} r^{2} + 48 L^{2} r_{0}^{2} + 24 r^{4} + 48 r^{2} r_{0}^{2} + 48 r_{0}^{4}$"
      ],
      "text/plain": [
       "    2  2       2   2       4       2   2        4\n",
       "24⋅L ⋅r  + 48⋅L ⋅r₀  + 24⋅r  + 48⋅r ⋅r₀  + 48⋅r₀ "
      ]
     },
     "execution_count": 67,
     "metadata": {},
     "output_type": "execute_result"
    }
   ],
   "source": [
    "n, d = sympy.fraction(factor_q_square)\n",
    "sympy.simplify(n.subs({f: f_sol, g: g_sol}))"
   ]
  },
  {
   "cell_type": "markdown",
   "id": "5a54e37b",
   "metadata": {},
   "source": [
    "Equation 4.17 reduces to C = 0 when Phi = 0. This means L^2 * r_0^2 + r_0^4 = 0. Thus, the numerator becomes:"
   ]
  },
  {
   "cell_type": "code",
   "execution_count": 68,
   "id": "da2c813c",
   "metadata": {},
   "outputs": [
    {
     "data": {
      "image/png": "[encoded data removed]",
      "text/latex": [
       "$\\displaystyle 24 L^{2} r^{2} f{\\left(r \\right)}$"
      ],
      "text/plain": [
       "    2  2     \n",
       "24⋅L ⋅r ⋅f(r)"
      ]
     },
     "execution_count": 68,
     "metadata": {},
     "output_type": "execute_result"
    }
   ],
   "source": [
    "n = 24 * L ** 2 * r ** 2 * f\n",
    "n"
   ]
  },
  {
   "cell_type": "markdown",
   "id": "9eb36608",
   "metadata": {},
   "source": [
    "and the final result is:"
   ]
  },
  {
   "cell_type": "code",
   "execution_count": 69,
   "id": "0bda595a",
   "metadata": {},
   "outputs": [
    {
     "data": {
      "image/png": "[encoded data removed]",
      "text/latex": [
       "$\\displaystyle \\frac{24 L^{2}}{\\sqrt{f{\\left(r \\right)} g{\\left(r \\right)}}}$"
      ],
      "text/plain": [
       "        2    \n",
       "    24⋅L     \n",
       "─────────────\n",
       "  ___________\n",
       "╲╱ f(r)⋅g(r) "
      ]
     },
     "execution_count": 69,
     "metadata": {},
     "output_type": "execute_result"
    }
   ],
   "source": [
    "n / d"
   ]
  },
  {
   "cell_type": "markdown",
   "id": "4ec336c1",
   "metadata": {},
   "source": [
    "which again agrees with the one here."
   ]
  }
 ],
 "metadata": {
  "kernelspec": {
   "display_name": "Python 3.10.3 ('env': venv)",
   "language": "python",
   "name": "python3"
  },
  "language_info": {
   "codemirror_mode": {
    "name": "ipython",
    "version": 3
   },
   "file_extension": ".py",
   "mimetype": "text/x-python",
   "name": "python",
   "nbconvert_exporter": "python",
   "pygments_lexer": "ipython3",
   "version": "3.10.3"
  },
  "vscode": {
   "interpreter": {
    "hash": "c4cf3c24cb46a3fd1f6949e64220e8351ad1410e125a86590159f01143d71e6f"
   }
  }
 },
 "nbformat": 4,
 "nbformat_minor": 5
}
