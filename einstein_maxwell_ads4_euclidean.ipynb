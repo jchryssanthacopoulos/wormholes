{
 "cells": [
  {
   "cell_type": "code",
   "execution_count": 142,
   "id": "6d9963f1",
   "metadata": {},
   "outputs": [],
   "source": [
    "import sympy\n",
    "from sympy.tensor.tensor import TensorIndexType, TensorIndex, TensorHead, tensor_indices, TensorSymmetry\n",
    "from einsteinpy.symbolic import RicciTensor, MetricTensor\n",
    "\n",
    "sympy.init_printing()"
   ]
  },
  {
   "cell_type": "markdown",
   "id": "6a02c548",
   "metadata": {},
   "source": [
    "Compute the Einstein tensor."
   ]
  },
  {
   "cell_type": "code",
   "execution_count": 143,
   "id": "41ff5465",
   "metadata": {},
   "outputs": [],
   "source": [
    "syms = sympy.symbols(\"r psi theta phi\")\n",
    "r, psi, theta, phi = syms\n",
    "f = sympy.Function('f')(r)  # metric ansatz\n",
    "L = sympy.symbols(\"L\")  # AdS length scale\n",
    "cap_phi = sympy.Function('Phi')(r)  # defines gauge field"
   ]
  },
  {
   "cell_type": "code",
   "execution_count": 144,
   "id": "94e4c6d7",
   "metadata": {},
   "outputs": [
    {
     "data": {
      "text/latex": [
       "$\\displaystyle \\left[\\begin{matrix}\\frac{1}{f{\\left(r \\right)}} & 0 & 0 & 0\\\\0 & \\frac{r^{2}}{4} & 0 & \\frac{r^{2} \\cos{\\left(\\theta \\right)}}{4}\\\\0 & 0 & \\frac{r^{2}}{4} & 0\\\\0 & \\frac{r^{2} \\cos{\\left(\\theta \\right)}}{4} & 0 & \\frac{r^{2}}{4}\\end{matrix}\\right]$"
      ],
      "text/plain": [
       "⎡ 1                            ⎤\n",
       "⎢────      0      0       0    ⎥\n",
       "⎢f(r)                          ⎥\n",
       "⎢                              ⎥\n",
       "⎢          2           2       ⎥\n",
       "⎢         r           r ⋅cos(θ)⎥\n",
       "⎢ 0       ──      0   ─────────⎥\n",
       "⎢         4               4    ⎥\n",
       "⎢                              ⎥\n",
       "⎢                  2           ⎥\n",
       "⎢                 r            ⎥\n",
       "⎢ 0        0      ──      0    ⎥\n",
       "⎢                 4            ⎥\n",
       "⎢                              ⎥\n",
       "⎢       2                 2    ⎥\n",
       "⎢      r ⋅cos(θ)         r     ⎥\n",
       "⎢ 0    ─────────  0      ──    ⎥\n",
       "⎣          4             4     ⎦"
      ]
     },
     "execution_count": 144,
     "metadata": {},
     "output_type": "execute_result"
    }
   ],
   "source": [
    "list2d = [[0 for i in range(4)] for i in range(4)]\n",
    "list2d[0][0] = 1/f\n",
    "list2d[1][1] = list2d[2][2] = list2d[3][3] = r**2/4\n",
    "list2d[1][3] = list2d[3][1] = r**2 / 4 * sympy.cos(theta)\n",
    "sch = MetricTensor(list2d, syms)\n",
    "sch.tensor()"
   ]
  },
  {
   "cell_type": "code",
   "execution_count": 145,
   "id": "c08ef89f",
   "metadata": {},
   "outputs": [
    {
     "data": {
      "text/latex": [
       "$\\displaystyle \\left[\\begin{matrix}- \\frac{3 \\frac{d}{d r} f{\\left(r \\right)}}{2 r f{\\left(r \\right)}} & 0 & 0 & 0\\\\0 & - \\frac{r \\frac{d}{d r} f{\\left(r \\right)}}{8} - \\frac{f{\\left(r \\right)}}{2} + \\frac{1}{2} & 0 & \\frac{\\left(- r \\frac{d}{d r} f{\\left(r \\right)} - 4 f{\\left(r \\right)} + 4\\right) \\cos{\\left(\\theta \\right)}}{8}\\\\0 & 0 & - \\frac{r \\frac{d}{d r} f{\\left(r \\right)}}{8} - \\frac{f{\\left(r \\right)}}{2} + \\frac{1}{2} & 0\\\\0 & \\frac{\\left(- r \\frac{d}{d r} f{\\left(r \\right)} - 4 f{\\left(r \\right)} + 4\\right) \\cos{\\left(\\theta \\right)}}{8} & 0 & - \\frac{r \\frac{d}{d r} f{\\left(r \\right)}}{8} - \\frac{f{\\left(r \\right)}}{2} + \\frac{1}{2}\\end{matrix}\\right]$"
      ],
      "text/plain": [
       "⎡   d                                                                         \n",
       "⎢-3⋅──(f(r))                                                                  \n",
       "⎢   dr                                                                        \n",
       "⎢────────────                  0                              0               \n",
       "⎢  2⋅r⋅f(r)                                                                   \n",
       "⎢                                                                             \n",
       "⎢                       d                                                   ⎛ \n",
       "⎢                     r⋅──(f(r))                                            ⎜-\n",
       "⎢                       dr         f(r)   1                                 ⎝ \n",
       "⎢     0             - ────────── - ──── + ─                   0             ──\n",
       "⎢                         8         2     2                                   \n",
       "⎢                                                                             \n",
       "⎢                                                      d                      \n",
       "⎢                                                    r⋅──(f(r))               \n",
       "⎢                                                      dr         f(r)   1    \n",
       "⎢     0                        0                   - ────────── - ──── + ─    \n",
       "⎢                                                        8         2     2    \n",
       "⎢                                                                             \n",
       "⎢              ⎛    d                    ⎞                                    \n",
       "⎢              ⎜- r⋅──(f(r)) - 4⋅f(r) + 4⎟⋅cos(θ)                             \n",
       "⎢              ⎝    dr                   ⎠                                    \n",
       "⎢     0        ──────────────────────────────────             0               \n",
       "⎣                              8                                              \n",
       "\n",
       "                                ⎤\n",
       "                                ⎥\n",
       "                                ⎥\n",
       "              0                 ⎥\n",
       "                                ⎥\n",
       "                                ⎥\n",
       "   d                    ⎞       ⎥\n",
       " r⋅──(f(r)) - 4⋅f(r) + 4⎟⋅cos(θ)⎥\n",
       "   dr                   ⎠       ⎥\n",
       "────────────────────────────────⎥\n",
       "              8                 ⎥\n",
       "                                ⎥\n",
       "                                ⎥\n",
       "                                ⎥\n",
       "                                ⎥\n",
       "              0                 ⎥\n",
       "                                ⎥\n",
       "                                ⎥\n",
       "       d                        ⎥\n",
       "     r⋅──(f(r))                 ⎥\n",
       "       dr         f(r)   1      ⎥\n",
       "   - ────────── - ──── + ─      ⎥\n",
       "         8         2     2      ⎦"
      ]
     },
     "execution_count": 145,
     "metadata": {},
     "output_type": "execute_result"
    }
   ],
   "source": [
    "Ric = RicciTensor.from_metric(sch)\n",
    "Ric.tensor()"
   ]
  },
  {
   "cell_type": "code",
   "execution_count": 146,
   "id": "d28c83b9",
   "metadata": {},
   "outputs": [],
   "source": [
    "metric_array = sympy.MutableDenseNDimArray(list2d)\n",
    "einstein_tensor = sympy.MutableDenseNDimArray(Ric.tensor()) + 3 / L ** 2 * metric_array"
   ]
  },
  {
   "cell_type": "code",
   "execution_count": 147,
   "id": "96523a2c",
   "metadata": {},
   "outputs": [
    {
     "data": {
      "text/latex": [
       "$\\displaystyle \\left[\\begin{matrix}- \\frac{3 \\frac{d}{d r} f{\\left(r \\right)}}{2 r f{\\left(r \\right)}} + \\frac{3}{L^{2} f{\\left(r \\right)}} & 0 & 0 & 0\\\\0 & \\frac{L^{2} \\left(- r \\frac{d}{d r} f{\\left(r \\right)} - 4 f{\\left(r \\right)} + 4\\right) + 6 r^{2}}{8 L^{2}} & 0 & \\frac{\\left(- L^{2} \\left(r \\frac{d}{d r} f{\\left(r \\right)} + 4 f{\\left(r \\right)} - 4\\right) + 6 r^{2}\\right) \\cos{\\left(\\theta \\right)}}{8 L^{2}}\\\\0 & 0 & \\frac{L^{2} \\left(- r \\frac{d}{d r} f{\\left(r \\right)} - 4 f{\\left(r \\right)} + 4\\right) + 6 r^{2}}{8 L^{2}} & 0\\\\0 & \\frac{\\left(- L^{2} \\left(r \\frac{d}{d r} f{\\left(r \\right)} + 4 f{\\left(r \\right)} - 4\\right) + 6 r^{2}\\right) \\cos{\\left(\\theta \\right)}}{8 L^{2}} & 0 & \\frac{L^{2} \\left(- r \\frac{d}{d r} f{\\left(r \\right)} - 4 f{\\left(r \\right)} + 4\\right) + 6 r^{2}}{8 L^{2}}\\end{matrix}\\right]$"
      ],
      "text/plain": [
       "⎡    d                                                                        \n",
       "⎢  3⋅──(f(r))                                                                 \n",
       "⎢    dr            3                                                          \n",
       "⎢- ────────── + ───────                        0                              \n",
       "⎢   2⋅r⋅f(r)     2                                                            \n",
       "⎢               L ⋅f(r)                                                       \n",
       "⎢                                                                             \n",
       "⎢                             2 ⎛    d                    ⎞      2            \n",
       "⎢                            L ⋅⎜- r⋅──(f(r)) - 4⋅f(r) + 4⎟ + 6⋅r             \n",
       "⎢                               ⎝    dr                   ⎠                   \n",
       "⎢          0                 ─────────────────────────────────────            \n",
       "⎢                                                2                            \n",
       "⎢                                             8⋅L                             \n",
       "⎢                                                                             \n",
       "⎢                                                                         2 ⎛ \n",
       "⎢                                                                        L ⋅⎜-\n",
       "⎢                                                                           ⎝ \n",
       "⎢          0                                   0                         ─────\n",
       "⎢                                                                             \n",
       "⎢                                                                             \n",
       "⎢                                                                             \n",
       "⎢                        ⎛   2 ⎛  d                    ⎞      2⎞              \n",
       "⎢                        ⎜- L ⋅⎜r⋅──(f(r)) + 4⋅f(r) - 4⎟ + 6⋅r ⎟⋅cos(θ)       \n",
       "⎢                        ⎝     ⎝  dr                   ⎠       ⎠              \n",
       "⎢          0             ──────────────────────────────────────────────       \n",
       "⎢                                                2                            \n",
       "⎣                                             8⋅L                             \n",
       "\n",
       "                                                                              \n",
       "                                                                              \n",
       "                                                                              \n",
       "             0                                          0                     \n",
       "                                                                              \n",
       "                                                                              \n",
       "                                                                              \n",
       "                                  ⎛   2 ⎛  d                    ⎞      2⎞     \n",
       "                                  ⎜- L ⋅⎜r⋅──(f(r)) + 4⋅f(r) - 4⎟ + 6⋅r ⎟⋅cos(\n",
       "                                  ⎝     ⎝  dr                   ⎠       ⎠     \n",
       "             0                    ────────────────────────────────────────────\n",
       "                                                          2                   \n",
       "                                                       8⋅L                    \n",
       "                                                                              \n",
       "   d                    ⎞      2                                              \n",
       " r⋅──(f(r)) - 4⋅f(r) + 4⎟ + 6⋅r                                               \n",
       "   dr                   ⎠                                                     \n",
       "────────────────────────────────                        0                     \n",
       "               2                                                              \n",
       "            8⋅L                                                               \n",
       "                                                                              \n",
       "                                       2 ⎛    d                    ⎞      2   \n",
       "                                      L ⋅⎜- r⋅──(f(r)) - 4⋅f(r) + 4⎟ + 6⋅r    \n",
       "                                         ⎝    dr                   ⎠          \n",
       "             0                        ─────────────────────────────────────   \n",
       "                                                          2                   \n",
       "                                                       8⋅L                    \n",
       "\n",
       "  ⎤\n",
       "  ⎥\n",
       "  ⎥\n",
       "  ⎥\n",
       "  ⎥\n",
       "  ⎥\n",
       "  ⎥\n",
       "  ⎥\n",
       "θ)⎥\n",
       "  ⎥\n",
       "──⎥\n",
       "  ⎥\n",
       "  ⎥\n",
       "  ⎥\n",
       "  ⎥\n",
       "  ⎥\n",
       "  ⎥\n",
       "  ⎥\n",
       "  ⎥\n",
       "  ⎥\n",
       "  ⎥\n",
       "  ⎥\n",
       "  ⎥\n",
       "  ⎥\n",
       "  ⎥\n",
       "  ⎥\n",
       "  ⎦"
      ]
     },
     "execution_count": 147,
     "metadata": {},
     "output_type": "execute_result"
    }
   ],
   "source": [
    "for i in range(4):\n",
    "    for j in range(4):\n",
    "        einstein_tensor[i, j] = einstein_tensor[i, j].simplify()\n",
    "einstein_tensor"
   ]
  },
  {
   "cell_type": "markdown",
   "id": "2fd1c12c",
   "metadata": {},
   "source": [
    "Compute the right-hand side of the Einstein equation."
   ]
  },
  {
   "cell_type": "code",
   "execution_count": 148,
   "id": "98747a35",
   "metadata": {},
   "outputs": [],
   "source": [
    "\n",
    "A_1 = L / 2 * cap_phi * sympy.Array([0, 0, -sympy.sin(psi), sympy.cos(psi) * sympy.sin(theta)])\n",
    "A_2 = L / 2 * cap_phi * sympy.Array([0, 0, sympy.cos(psi), sympy.sin(psi) * sympy.sin(theta)])\n",
    "A_3 = L / 2 * cap_phi * sympy.Array([0, 1, 0, sympy.cos(theta)])"
   ]
  },
  {
   "cell_type": "code",
   "execution_count": 149,
   "id": "d7e48bba",
   "metadata": {},
   "outputs": [
    {
     "data": {
      "text/latex": [
       "$\\displaystyle \\left( \\left[\\begin{matrix}0 & 0 & - \\frac{L \\Phi{\\left(r \\right)} \\sin{\\left(\\psi \\right)}}{2} & \\frac{L \\Phi{\\left(r \\right)} \\sin{\\left(\\theta \\right)} \\cos{\\left(\\psi \\right)}}{2}\\end{matrix}\\right], \\  \\left[\\begin{matrix}0 & 0 & \\frac{L \\Phi{\\left(r \\right)} \\cos{\\left(\\psi \\right)}}{2} & \\frac{L \\Phi{\\left(r \\right)} \\sin{\\left(\\psi \\right)} \\sin{\\left(\\theta \\right)}}{2}\\end{matrix}\\right], \\  \\left[\\begin{matrix}0 & \\frac{L \\Phi{\\left(r \\right)}}{2} & 0 & \\frac{L \\Phi{\\left(r \\right)} \\cos{\\left(\\theta \\right)}}{2}\\end{matrix}\\right]\\right)$"
      ],
      "text/plain": [
       "⎛⎡      -L⋅Φ(r)⋅sin(ψ)   L⋅Φ(r)⋅sin(θ)⋅cos(ψ)⎤  ⎡      L⋅Φ(r)⋅cos(ψ)  L⋅Φ(r)⋅s\n",
       "⎜⎢0  0  ───────────────  ────────────────────⎥, ⎢0  0  ─────────────  ────────\n",
       "⎝⎣             2                  2          ⎦  ⎣            2                \n",
       "\n",
       "in(ψ)⋅sin(θ)⎤  ⎡   L⋅Φ(r)     L⋅Φ(r)⋅cos(θ)⎤⎞\n",
       "────────────⎥, ⎢0  ──────  0  ─────────────⎥⎟\n",
       " 2          ⎦  ⎣     2              2      ⎦⎠"
      ]
     },
     "execution_count": 149,
     "metadata": {},
     "output_type": "execute_result"
    }
   ],
   "source": [
    "A_1, A_2, A_3"
   ]
  },
  {
   "cell_type": "code",
   "execution_count": 150,
   "id": "e25dd6e1",
   "metadata": {},
   "outputs": [],
   "source": [
    "x = [r, psi, theta, phi]\n",
    "def em_field_strength(A):\n",
    "    \"\"\"Compute EM field strength from the vector potential.\"\"\"    \n",
    "    F = sympy.MutableDenseNDimArray.zeros(4, 4)\n",
    "    for i in range(4):\n",
    "        for j in range(4):\n",
    "            F[i, j] = sympy.diff(A[j], x[i]) - sympy.diff(A[i], x[j])\n",
    "    return F"
   ]
  },
  {
   "cell_type": "code",
   "execution_count": 151,
   "id": "25bc08f8",
   "metadata": {},
   "outputs": [],
   "source": [
    "F_1 = em_field_strength(A_1)\n",
    "F_2 = em_field_strength(A_2)\n",
    "F_3 = em_field_strength(A_3)"
   ]
  },
  {
   "cell_type": "markdown",
   "id": "4be35153",
   "metadata": {},
   "source": [
    "Compute the first term in the energy momentum tensor, involving two field strength tensors with one contraction."
   ]
  },
  {
   "cell_type": "code",
   "execution_count": 152,
   "id": "cc97e46b",
   "metadata": {},
   "outputs": [
    {
     "data": {
      "text/latex": [
       "$\\displaystyle \\left[\\begin{matrix}f{\\left(r \\right)} & 0 & 0 & 0\\\\0 & - \\frac{4}{r^{2} \\cos^{2}{\\left(\\theta \\right)} - r^{2}} & 0 & \\frac{4 \\cos{\\left(\\theta \\right)}}{r^{2} \\cos^{2}{\\left(\\theta \\right)} - r^{2}}\\\\0 & 0 & \\frac{4}{r^{2}} & 0\\\\0 & \\frac{4 \\cos{\\left(\\theta \\right)}}{r^{2} \\cos^{2}{\\left(\\theta \\right)} - r^{2}} & 0 & - \\frac{4}{r^{2} \\cos^{2}{\\left(\\theta \\right)} - r^{2}}\\end{matrix}\\right]$"
      ],
      "text/plain": [
       "⎡f(r)         0         0          0       ⎤\n",
       "⎢                                          ⎥\n",
       "⎢            -4                 4⋅cos(θ)   ⎥\n",
       "⎢ 0    ───────────────  0   ───────────────⎥\n",
       "⎢       2    2       2       2    2       2⎥\n",
       "⎢      r ⋅cos (θ) - r       r ⋅cos (θ) - r ⎥\n",
       "⎢                                          ⎥\n",
       "⎢                       4                  ⎥\n",
       "⎢ 0           0         ──         0       ⎥\n",
       "⎢                        2                 ⎥\n",
       "⎢                       r                  ⎥\n",
       "⎢                                          ⎥\n",
       "⎢          4⋅cos(θ)               -4       ⎥\n",
       "⎢ 0    ───────────────  0   ───────────────⎥\n",
       "⎢       2    2       2       2    2       2⎥\n",
       "⎣      r ⋅cos (θ) - r       r ⋅cos (θ) - r ⎦"
      ]
     },
     "execution_count": 152,
     "metadata": {},
     "output_type": "execute_result"
    }
   ],
   "source": [
    "metric_inv = sympy.Matrix(metric_array).inv()\n",
    "metric_inv"
   ]
  },
  {
   "cell_type": "markdown",
   "id": "78c0a711",
   "metadata": {},
   "source": [
    "Wrap into a tensor object with appropriate indices."
   ]
  },
  {
   "cell_type": "code",
   "execution_count": 153,
   "id": "07538646",
   "metadata": {},
   "outputs": [],
   "source": [
    "Euclidean = TensorIndexType('Euclidean', dummy_name='E')\n",
    "i0, i1, i2, i3, i4, i5, i6, i7 = tensor_indices('i0:8', Euclidean)"
   ]
  },
  {
   "cell_type": "code",
   "execution_count": 154,
   "id": "f46c676b",
   "metadata": {},
   "outputs": [],
   "source": [
    "FFg_tensor = TensorHead('FFg', [Euclidean] * 6)\n",
    "FFg_matrix = (\n",
    "    sympy.tensorproduct(F_1, F_1, metric_inv) +\n",
    "    sympy.tensorproduct(F_2, F_2, metric_inv) +\n",
    "    sympy.tensorproduct(F_3, F_3, metric_inv)\n",
    ")\n",
    "repl = {FFg_tensor(-i0, -i1, -i2, -i3, i4, i5): FFg_matrix}"
   ]
  },
  {
   "cell_type": "markdown",
   "id": "9bf0d7bf",
   "metadata": {},
   "source": [
    "Contract indices."
   ]
  },
  {
   "cell_type": "code",
   "execution_count": 155,
   "id": "3f57b336",
   "metadata": {},
   "outputs": [],
   "source": [
    "T_contracted_1 = FFg_tensor(-i0, -i1, -i2, -i3, i3, i1).replace_with_arrays(repl)"
   ]
  },
  {
   "cell_type": "code",
   "execution_count": 156,
   "id": "7b29ef83",
   "metadata": {},
   "outputs": [
    {
     "data": {
      "text/latex": [
       "$\\displaystyle \\left[\\begin{matrix}\\frac{3 L^{2} \\left(\\frac{d}{d r} \\Phi{\\left(r \\right)}\\right)^{2}}{r^{2}} & 0 & 0 & 0\\\\0 & \\frac{L^{2} \\left(r^{2} f{\\left(r \\right)} \\left(\\frac{d}{d r} \\Phi{\\left(r \\right)}\\right)^{2} + 8 \\Phi^{2}{\\left(r \\right)}\\right)}{4 r^{2}} & 0 & \\frac{L^{2} \\left(r^{2} f{\\left(r \\right)} \\left(\\frac{d}{d r} \\Phi{\\left(r \\right)}\\right)^{2} + 8 \\Phi^{2}{\\left(r \\right)}\\right) \\cos{\\left(\\theta \\right)}}{4 r^{2}}\\\\0 & 0 & \\frac{L^{2} \\left(r^{2} f{\\left(r \\right)} \\left(\\frac{d}{d r} \\Phi{\\left(r \\right)}\\right)^{2} + 8 \\Phi^{2}{\\left(r \\right)}\\right)}{4 r^{2}} & 0\\\\0 & \\frac{L^{2} \\left(r^{2} f{\\left(r \\right)} \\left(\\frac{d}{d r} \\Phi{\\left(r \\right)}\\right)^{2} + 8 \\Phi^{2}{\\left(r \\right)}\\right) \\cos{\\left(\\theta \\right)}}{4 r^{2}} & 0 & \\frac{L^{2} \\left(r^{2} f{\\left(r \\right)} \\left(\\frac{d}{d r} \\Phi{\\left(r \\right)}\\right)^{2} + 8 \\Phi^{2}{\\left(r \\right)}\\right)}{4 r^{2}}\\end{matrix}\\right]$"
      ],
      "text/plain": [
       "⎡               2                                                             \n",
       "⎢   2 ⎛d       ⎞                                                              \n",
       "⎢3⋅L ⋅⎜──(Φ(r))⎟                                                              \n",
       "⎢     ⎝dr      ⎠                                                              \n",
       "⎢────────────────                      0                                      \n",
       "⎢        2                                                                    \n",
       "⎢       r                                                                     \n",
       "⎢                                                                             \n",
       "⎢                        ⎛                  2          ⎞                      \n",
       "⎢                      2 ⎜ 2      ⎛d       ⎞       2   ⎟                      \n",
       "⎢                     L ⋅⎜r ⋅f(r)⋅⎜──(Φ(r))⎟  + 8⋅Φ (r)⎟                      \n",
       "⎢                        ⎝        ⎝dr      ⎠           ⎠                      \n",
       "⎢       0             ──────────────────────────────────                      \n",
       "⎢                                       2                                     \n",
       "⎢                                    4⋅r                                      \n",
       "⎢                                                                             \n",
       "⎢                                                                ⎛            \n",
       "⎢                                                              2 ⎜ 2      ⎛d  \n",
       "⎢                                                             L ⋅⎜r ⋅f(r)⋅⎜──(\n",
       "⎢                                                                ⎝        ⎝dr \n",
       "⎢       0                              0                      ────────────────\n",
       "⎢                                                                             \n",
       "⎢                                                                            4\n",
       "⎢                                                                             \n",
       "⎢                     ⎛                  2          ⎞                         \n",
       "⎢                   2 ⎜ 2      ⎛d       ⎞       2   ⎟                         \n",
       "⎢                  L ⋅⎜r ⋅f(r)⋅⎜──(Φ(r))⎟  + 8⋅Φ (r)⎟⋅cos(θ)                  \n",
       "⎢                     ⎝        ⎝dr      ⎠           ⎠                         \n",
       "⎢       0          ─────────────────────────────────────────                  \n",
       "⎢                                        2                                    \n",
       "⎣                                     4⋅r                                     \n",
       "\n",
       "                                                             ⎤\n",
       "                                                             ⎥\n",
       "                                                             ⎥\n",
       "                                                             ⎥\n",
       "0                                       0                    ⎥\n",
       "                                                             ⎥\n",
       "                                                             ⎥\n",
       "                                                             ⎥\n",
       "                       ⎛                  2          ⎞       ⎥\n",
       "                     2 ⎜ 2      ⎛d       ⎞       2   ⎟       ⎥\n",
       "                    L ⋅⎜r ⋅f(r)⋅⎜──(Φ(r))⎟  + 8⋅Φ (r)⎟⋅cos(θ)⎥\n",
       "                       ⎝        ⎝dr      ⎠           ⎠       ⎥\n",
       "0                   ─────────────────────────────────────────⎥\n",
       "                                          2                  ⎥\n",
       "                                       4⋅r                   ⎥\n",
       "                                                             ⎥\n",
       "      2          ⎞                                           ⎥\n",
       "     ⎞       2   ⎟                                           ⎥\n",
       "Φ(r))⎟  + 8⋅Φ (r)⎟                                           ⎥\n",
       "     ⎠           ⎠                                           ⎥\n",
       "──────────────────                      0                    ⎥\n",
       "  2                                                          ⎥\n",
       "⋅r                                                           ⎥\n",
       "                                                             ⎥\n",
       "                          ⎛                  2          ⎞    ⎥\n",
       "                        2 ⎜ 2      ⎛d       ⎞       2   ⎟    ⎥\n",
       "                       L ⋅⎜r ⋅f(r)⋅⎜──(Φ(r))⎟  + 8⋅Φ (r)⎟    ⎥\n",
       "                          ⎝        ⎝dr      ⎠           ⎠    ⎥\n",
       "0                      ──────────────────────────────────    ⎥\n",
       "                                         2                   ⎥\n",
       "                                      4⋅r                    ⎦"
      ]
     },
     "execution_count": 156,
     "metadata": {},
     "output_type": "execute_result"
    }
   ],
   "source": [
    "for i in range(4):\n",
    "    for j in range(4):\n",
    "        T_contracted_1[i, j] = T_contracted_1[i, j].simplify()\n",
    "T_contracted_1"
   ]
  },
  {
   "cell_type": "markdown",
   "id": "8c66fb3a",
   "metadata": {},
   "source": [
    "Compute second term of the energy momentum tensor involving two contractions."
   ]
  },
  {
   "cell_type": "code",
   "execution_count": 157,
   "id": "aca0ccaa",
   "metadata": {},
   "outputs": [],
   "source": [
    "FFgg_tensor = TensorHead('FFgg', [Euclidean] * 8)\n",
    "FFgg_matrix = (\n",
    "    sympy.tensorproduct(F_1, F_1, metric_inv, metric_inv) +\n",
    "    sympy.tensorproduct(F_2, F_2, metric_inv, metric_inv) +\n",
    "    sympy.tensorproduct(F_3, F_3, metric_inv, metric_inv)\n",
    ")\n",
    "repl = {FFgg_tensor(-i0, -i1, -i2, -i3, i4, i5, i6, i7): FFgg_matrix}"
   ]
  },
  {
   "cell_type": "code",
   "execution_count": 158,
   "id": "7780c723",
   "metadata": {},
   "outputs": [],
   "source": [
    "T_contracted_2 = FFgg_tensor(-i0, -i1, -i2, -i3, i3, i1, i2, i0).replace_with_arrays(repl)"
   ]
  },
  {
   "cell_type": "code",
   "execution_count": 159,
   "id": "4972cd44",
   "metadata": {},
   "outputs": [
    {
     "data": {
      "image/png": "[encoded data removed]",
      "text/latex": [
       "$\\displaystyle \\frac{6 L^{2} \\left(r^{2} f{\\left(r \\right)} \\left(\\frac{d}{d r} \\Phi{\\left(r \\right)}\\right)^{2} + 4 \\Phi^{2}{\\left(r \\right)}\\right)}{r^{4}}$"
      ],
      "text/plain": [
       "     ⎛                  2          ⎞\n",
       "   2 ⎜ 2      ⎛d       ⎞       2   ⎟\n",
       "6⋅L ⋅⎜r ⋅f(r)⋅⎜──(Φ(r))⎟  + 4⋅Φ (r)⎟\n",
       "     ⎝        ⎝dr      ⎠           ⎠\n",
       "────────────────────────────────────\n",
       "                  4                 \n",
       "                 r                  "
      ]
     },
     "execution_count": 159,
     "metadata": {},
     "output_type": "execute_result"
    }
   ],
   "source": [
    "T_contracted_2.simplify()"
   ]
  },
  {
   "cell_type": "markdown",
   "id": "0a341fd1",
   "metadata": {},
   "source": [
    "Compute the energy-momentum tensor."
   ]
  },
  {
   "cell_type": "code",
   "execution_count": 160,
   "id": "749a1287",
   "metadata": {},
   "outputs": [],
   "source": [
    "energy_momentum = 2 * (T_contracted_1 - metric_array / 4 * T_contracted_2)\n",
    "for i in range(4):\n",
    "    for j in range(4):\n",
    "        energy_momentum[i, j] = energy_momentum[i, j].simplify()"
   ]
  },
  {
   "cell_type": "code",
   "execution_count": 161,
   "id": "f729b00a",
   "metadata": {},
   "outputs": [
    {
     "data": {
      "text/latex": [
       "$\\displaystyle \\left[\\begin{matrix}\\frac{3 L^{2} \\left(r^{2} f{\\left(r \\right)} \\left(\\frac{d}{d r} \\Phi{\\left(r \\right)}\\right)^{2} - 4 \\Phi^{2}{\\left(r \\right)}\\right)}{r^{4} f{\\left(r \\right)}} & 0 & 0 & 0\\\\0 & \\frac{L^{2} \\left(- \\frac{r^{2} f{\\left(r \\right)} \\left(\\frac{d}{d r} \\Phi{\\left(r \\right)}\\right)^{2}}{4} + \\Phi^{2}{\\left(r \\right)}\\right)}{r^{2}} & 0 & \\frac{L^{2} \\left(- r^{2} f{\\left(r \\right)} \\left(\\frac{d}{d r} \\Phi{\\left(r \\right)}\\right)^{2} + 4 \\Phi^{2}{\\left(r \\right)}\\right) \\cos{\\left(\\theta \\right)}}{4 r^{2}}\\\\0 & 0 & \\frac{L^{2} \\left(- \\frac{r^{2} f{\\left(r \\right)} \\left(\\frac{d}{d r} \\Phi{\\left(r \\right)}\\right)^{2}}{4} + \\Phi^{2}{\\left(r \\right)}\\right)}{r^{2}} & 0\\\\0 & \\frac{L^{2} \\left(- r^{2} f{\\left(r \\right)} \\left(\\frac{d}{d r} \\Phi{\\left(r \\right)}\\right)^{2} + 4 \\Phi^{2}{\\left(r \\right)}\\right) \\cos{\\left(\\theta \\right)}}{4 r^{2}} & 0 & \\frac{L^{2} \\left(- \\frac{r^{2} f{\\left(r \\right)} \\left(\\frac{d}{d r} \\Phi{\\left(r \\right)}\\right)^{2}}{4} + \\Phi^{2}{\\left(r \\right)}\\right)}{r^{2}}\\end{matrix}\\right]$"
      ],
      "text/plain": [
       "⎡     ⎛                  2          ⎞                                         \n",
       "⎢   2 ⎜ 2      ⎛d       ⎞       2   ⎟                                         \n",
       "⎢3⋅L ⋅⎜r ⋅f(r)⋅⎜──(Φ(r))⎟  - 4⋅Φ (r)⎟                                         \n",
       "⎢     ⎝        ⎝dr      ⎠           ⎠                                         \n",
       "⎢────────────────────────────────────                       0                 \n",
       "⎢               4                                                             \n",
       "⎢              r ⋅f(r)                                                        \n",
       "⎢                                                                             \n",
       "⎢                                             ⎛                    2        ⎞ \n",
       "⎢                                             ⎜   2      ⎛d       ⎞         ⎟ \n",
       "⎢                                             ⎜  r ⋅f(r)⋅⎜──(Φ(r))⎟         ⎟ \n",
       "⎢                                           2 ⎜          ⎝dr      ⎠     2   ⎟ \n",
       "⎢                                          L ⋅⎜- ─────────────────── + Φ (r)⎟ \n",
       "⎢                                             ⎝           4                 ⎠ \n",
       "⎢                 0                        ────────────────────────────────── \n",
       "⎢                                                           2                 \n",
       "⎢                                                          r                  \n",
       "⎢                                                                             \n",
       "⎢                                                                             \n",
       "⎢                                                                             \n",
       "⎢                                                                             \n",
       "⎢                                                                             \n",
       "⎢                                                                             \n",
       "⎢                                                                             \n",
       "⎢                 0                                         0                 \n",
       "⎢                                                                             \n",
       "⎢                                                                             \n",
       "⎢                                                                             \n",
       "⎢                                                                             \n",
       "⎢                                                                             \n",
       "⎢                                         ⎛                    2          ⎞   \n",
       "⎢                                       2 ⎜   2      ⎛d       ⎞       2   ⎟   \n",
       "⎢                                      L ⋅⎜- r ⋅f(r)⋅⎜──(Φ(r))⎟  + 4⋅Φ (r)⎟⋅co\n",
       "⎢                                         ⎝          ⎝dr      ⎠           ⎠   \n",
       "⎢                 0                    ───────────────────────────────────────\n",
       "⎢                                                             2               \n",
       "⎣                                                          4⋅r                \n",
       "\n",
       "                                                                              \n",
       "                                                                              \n",
       "                                                                              \n",
       "                                                                              \n",
       "                      0                                        0              \n",
       "                                                                              \n",
       "                                                                              \n",
       "                                                                              \n",
       "                                                                              \n",
       "                                                                              \n",
       "                                             ⎛                    2          ⎞\n",
       "                                           2 ⎜   2      ⎛d       ⎞       2   ⎟\n",
       "                                          L ⋅⎜- r ⋅f(r)⋅⎜──(Φ(r))⎟  + 4⋅Φ (r)⎟\n",
       "                                             ⎝          ⎝dr      ⎠           ⎠\n",
       "                      0                   ────────────────────────────────────\n",
       "                                                                 2            \n",
       "                                                              4⋅r             \n",
       "                                                                              \n",
       "         ⎛                    2        ⎞                                      \n",
       "         ⎜   2      ⎛d       ⎞         ⎟                                      \n",
       "         ⎜  r ⋅f(r)⋅⎜──(Φ(r))⎟         ⎟                                      \n",
       "       2 ⎜          ⎝dr      ⎠     2   ⎟                                      \n",
       "      L ⋅⎜- ─────────────────── + Φ (r)⎟                                      \n",
       "         ⎝           4                 ⎠                                      \n",
       "      ──────────────────────────────────                       0              \n",
       "                       2                                                      \n",
       "                      r                                                       \n",
       "                                                                              \n",
       "                                                 ⎛                    2       \n",
       "                                                 ⎜   2      ⎛d       ⎞        \n",
       "                                                 ⎜  r ⋅f(r)⋅⎜──(Φ(r))⎟        \n",
       "                                               2 ⎜          ⎝dr      ⎠     2  \n",
       "s(θ)                                          L ⋅⎜- ─────────────────── + Φ (r\n",
       "                                                 ⎝           4                \n",
       "────                  0                       ────────────────────────────────\n",
       "                                                               2              \n",
       "                                                              r               \n",
       "\n",
       "       ⎤\n",
       "       ⎥\n",
       "       ⎥\n",
       "       ⎥\n",
       "       ⎥\n",
       "       ⎥\n",
       "       ⎥\n",
       "       ⎥\n",
       "       ⎥\n",
       "       ⎥\n",
       "       ⎥\n",
       "       ⎥\n",
       "⋅cos(θ)⎥\n",
       "       ⎥\n",
       "───────⎥\n",
       "       ⎥\n",
       "       ⎥\n",
       "       ⎥\n",
       "       ⎥\n",
       "       ⎥\n",
       "       ⎥\n",
       "       ⎥\n",
       "       ⎥\n",
       "       ⎥\n",
       "       ⎥\n",
       "       ⎥\n",
       "       ⎥\n",
       "       ⎥\n",
       " ⎞     ⎥\n",
       " ⎟     ⎥\n",
       " ⎟     ⎥\n",
       " ⎟     ⎥\n",
       ")⎟     ⎥\n",
       " ⎠     ⎥\n",
       "──     ⎥\n",
       "       ⎥\n",
       "       ⎦"
      ]
     },
     "execution_count": 161,
     "metadata": {},
     "output_type": "execute_result"
    }
   ],
   "source": [
    "energy_momentum"
   ]
  },
  {
   "cell_type": "markdown",
   "id": "af695755",
   "metadata": {},
   "source": [
    "Evaluate solution."
   ]
  },
  {
   "cell_type": "code",
   "execution_count": 162,
   "id": "156f9c95",
   "metadata": {},
   "outputs": [
    {
     "data": {
      "image/png": "[encoded data removed]",
      "text/latex": [
       "$\\displaystyle \\frac{- L + \\left(L^{2} + r^{2}\\right)^{0.5}}{L + \\left(L^{2} + r^{2}\\right)^{0.5}}$"
      ],
      "text/plain": [
       "              0.5\n",
       "     ⎛ 2    2⎞   \n",
       "-L + ⎝L  + r ⎠   \n",
       "─────────────────\n",
       "              0.5\n",
       "     ⎛ 2    2⎞   \n",
       " L + ⎝L  + r ⎠   "
      ]
     },
     "execution_count": 162,
     "metadata": {},
     "output_type": "execute_result"
    }
   ],
   "source": [
    "phi_sol = ((L ** 2 + r ** 2) ** (1/2) - L) / ((L ** 2 + r ** 2) ** (1/2) + L) \n",
    "phi_sol"
   ]
  },
  {
   "cell_type": "code",
   "execution_count": 163,
   "id": "16628a4d",
   "metadata": {},
   "outputs": [
    {
     "data": {
      "image/png": "[encoded data removed]",
      "text/latex": [
       "$\\displaystyle 1 + \\frac{r^{2}}{L^{2}}$"
      ],
      "text/plain": [
       "     2\n",
       "    r \n",
       "1 + ──\n",
       "     2\n",
       "    L "
      ]
     },
     "execution_count": 163,
     "metadata": {},
     "output_type": "execute_result"
    }
   ],
   "source": [
    "f_sol = 1 + r ** 2 / L ** 2\n",
    "f_sol"
   ]
  },
  {
   "cell_type": "code",
   "execution_count": 164,
   "id": "91448e54",
   "metadata": {},
   "outputs": [
    {
     "data": {
      "image/png": "[encoded data removed]",
      "text/latex": [
       "$\\displaystyle \\frac{2.0 L r}{\\left(L + \\left(L^{2} + r^{2}\\right)^{0.5}\\right)^{2} \\left(L^{2} + r^{2}\\right)^{0.5}}$"
      ],
      "text/plain": [
       "                 -0.5\n",
       "        ⎛ 2    2⎞    \n",
       "2.0⋅L⋅r⋅⎝L  + r ⎠    \n",
       "─────────────────────\n",
       "                   2 \n",
       " ⎛             0.5⎞  \n",
       " ⎜    ⎛ 2    2⎞   ⎟  \n",
       " ⎝L + ⎝L  + r ⎠   ⎠  "
      ]
     },
     "execution_count": 164,
     "metadata": {},
     "output_type": "execute_result"
    }
   ],
   "source": [
    "dphidr = sympy.diff(phi_sol, r).simplify()\n",
    "dphidr"
   ]
  },
  {
   "cell_type": "markdown",
   "id": "1e7ecca1",
   "metadata": {},
   "source": [
    "All the components of the Einstein tensor are zero."
   ]
  },
  {
   "cell_type": "code",
   "execution_count": 165,
   "id": "50f118e7",
   "metadata": {},
   "outputs": [
    {
     "name": "stdout",
     "output_type": "stream",
     "text": [
      "0\n",
      "0\n",
      "0\n",
      "0\n",
      "0\n",
      "0\n",
      "0\n",
      "0\n",
      "0\n",
      "0\n",
      "0\n",
      "0\n",
      "0\n",
      "0\n",
      "0\n",
      "0\n"
     ]
    }
   ],
   "source": [
    "for i in range(4):\n",
    "    for j in range(4):\n",
    "        print(einstein_tensor[i, j].subs({f: f_sol, cap_phi: phi_sol}).simplify())"
   ]
  },
  {
   "cell_type": "markdown",
   "id": "dc8b5b2b",
   "metadata": {},
   "source": [
    "All energy momentum components have a similar factor, which goes to zero."
   ]
  },
  {
   "cell_type": "code",
   "execution_count": 166,
   "id": "e185cc78",
   "metadata": {},
   "outputs": [
    {
     "data": {
      "image/png": "[encoded data removed]",
      "text/latex": [
       "$\\displaystyle \\frac{3 L^{2} \\left(r^{2} f{\\left(r \\right)} \\left(\\frac{d}{d r} \\Phi{\\left(r \\right)}\\right)^{2} - 4 \\Phi^{2}{\\left(r \\right)}\\right)}{r^{4} f{\\left(r \\right)}}$"
      ],
      "text/plain": [
       "     ⎛                  2          ⎞\n",
       "   2 ⎜ 2      ⎛d       ⎞       2   ⎟\n",
       "3⋅L ⋅⎜r ⋅f(r)⋅⎜──(Φ(r))⎟  - 4⋅Φ (r)⎟\n",
       "     ⎝        ⎝dr      ⎠           ⎠\n",
       "────────────────────────────────────\n",
       "               4                    \n",
       "              r ⋅f(r)               "
      ]
     },
     "execution_count": 166,
     "metadata": {},
     "output_type": "execute_result"
    }
   ],
   "source": [
    "energy_momentum[0, 0]"
   ]
  },
  {
   "cell_type": "code",
   "execution_count": 167,
   "id": "db312ed4",
   "metadata": {},
   "outputs": [],
   "source": [
    "T_00 = r ** 2 * f_sol * dphidr ** 2 - 4 * phi_sol ** 2"
   ]
  },
  {
   "cell_type": "code",
   "execution_count": 168,
   "id": "e834a012",
   "metadata": {},
   "outputs": [
    {
     "data": {
      "image/png": "[encoded data removed]",
      "text/latex": [
       "$\\displaystyle \\frac{4.0 r^{4} - 4 \\left(L - \\left(L^{2} + r^{2}\\right)^{0.5}\\right)^{2} \\left(L + \\left(L^{2} + r^{2}\\right)^{0.5}\\right)^{2}}{\\left(L + \\left(L^{2} + r^{2}\\right)^{0.5}\\right)^{4}}$"
      ],
      "text/plain": [
       "                             2                   2\n",
       "           ⎛             0.5⎞  ⎛             0.5⎞ \n",
       "     4     ⎜    ⎛ 2    2⎞   ⎟  ⎜    ⎛ 2    2⎞   ⎟ \n",
       "4.0⋅r  - 4⋅⎝L - ⎝L  + r ⎠   ⎠ ⋅⎝L + ⎝L  + r ⎠   ⎠ \n",
       "──────────────────────────────────────────────────\n",
       "                                 4                \n",
       "               ⎛             0.5⎞                 \n",
       "               ⎜    ⎛ 2    2⎞   ⎟                 \n",
       "               ⎝L + ⎝L  + r ⎠   ⎠                 "
      ]
     },
     "execution_count": 168,
     "metadata": {},
     "output_type": "execute_result"
    }
   ],
   "source": [
    "T_00.simplify()"
   ]
  },
  {
   "cell_type": "code",
   "execution_count": 169,
   "id": "a67806d7",
   "metadata": {},
   "outputs": [
    {
     "data": {
      "image/png": "[encoded data removed]",
      "text/latex": [
       "$\\displaystyle 2.08166817117217 \\cdot 10^{-17}$"
      ],
      "text/plain": [
       "2.08166817117217e-17"
      ]
     },
     "execution_count": 169,
     "metadata": {},
     "output_type": "execute_result"
    }
   ],
   "source": [
    "T_00.subs({r: 2, L: 3})"
   ]
  }
 ],
 "metadata": {
  "kernelspec": {
   "display_name": "Python 3.10.3 ('env': venv)",
   "language": "python",
   "name": "python3"
  },
  "language_info": {
   "codemirror_mode": {
    "name": "ipython",
    "version": 3
   },
   "file_extension": ".py",
   "mimetype": "text/x-python",
   "name": "python",
   "nbconvert_exporter": "python",
   "pygments_lexer": "ipython3",
   "version": "3.10.3"
  },
  "vscode": {
   "interpreter": {
    "hash": "c4cf3c24cb46a3fd1f6949e64220e8351ad1410e125a86590159f01143d71e6f"
   }
  }
 },
 "nbformat": 4,
 "nbformat_minor": 5
}
