{
 "cells": [
  {
   "cell_type": "code",
   "execution_count": 1,
   "id": "6d9963f1",
   "metadata": {},
   "outputs": [],
   "source": [
    "import sympy\n",
    "from sympy.tensor.tensor import TensorIndexType, TensorIndex, TensorHead, tensor_indices, TensorSymmetry\n",
    "from einsteinpy.symbolic import RicciTensor, RicciScalar, MetricTensor, ChristoffelSymbols\n",
    "\n",
    "sympy.init_printing()"
   ]
  },
  {
   "cell_type": "markdown",
   "id": "4bed673d",
   "metadata": {},
   "source": [
    "### Einstein Equation"
   ]
  },
  {
   "cell_type": "markdown",
   "id": "6a02c548",
   "metadata": {},
   "source": [
    "Compute the Einstein tensor."
   ]
  },
  {
   "cell_type": "code",
   "execution_count": 2,
   "id": "41ff5465",
   "metadata": {},
   "outputs": [],
   "source": [
    "syms = sympy.symbols(\"r psi theta phi\")\n",
    "r, psi, theta, phi = syms\n",
    "f = sympy.Function('f')(r)  # metric ansatz\n",
    "L = sympy.symbols(\"L\")  # AdS length scale\n",
    "cap_phi = sympy.Function('Phi')(r)  # defines gauge field"
   ]
  },
  {
   "cell_type": "code",
   "execution_count": 3,
   "id": "94e4c6d7",
   "metadata": {},
   "outputs": [
    {
     "data": {
      "text/latex": [
       "$\\displaystyle \\left[\\begin{matrix}\\frac{1}{f{\\left(r \\right)}} & 0 & 0 & 0\\\\0 & \\frac{r^{2}}{4} & 0 & \\frac{r^{2} \\cos{\\left(\\theta \\right)}}{4}\\\\0 & 0 & \\frac{r^{2}}{4} & 0\\\\0 & \\frac{r^{2} \\cos{\\left(\\theta \\right)}}{4} & 0 & \\frac{r^{2}}{4}\\end{matrix}\\right]$"
      ],
      "text/plain": [
       "⎡ 1                            ⎤\n",
       "⎢────      0      0       0    ⎥\n",
       "⎢f(r)                          ⎥\n",
       "⎢                              ⎥\n",
       "⎢          2           2       ⎥\n",
       "⎢         r           r ⋅cos(θ)⎥\n",
       "⎢ 0       ──      0   ─────────⎥\n",
       "⎢         4               4    ⎥\n",
       "⎢                              ⎥\n",
       "⎢                  2           ⎥\n",
       "⎢                 r            ⎥\n",
       "⎢ 0        0      ──      0    ⎥\n",
       "⎢                 4            ⎥\n",
       "⎢                              ⎥\n",
       "⎢       2                 2    ⎥\n",
       "⎢      r ⋅cos(θ)         r     ⎥\n",
       "⎢ 0    ─────────  0      ──    ⎥\n",
       "⎣          4             4     ⎦"
      ]
     },
     "execution_count": 3,
     "metadata": {},
     "output_type": "execute_result"
    }
   ],
   "source": [
    "list2d = [[0 for i in range(4)] for i in range(4)]\n",
    "list2d[0][0] = 1/f\n",
    "list2d[1][1] = list2d[2][2] = list2d[3][3] = r**2/4\n",
    "list2d[1][3] = list2d[3][1] = r**2 / 4 * sympy.cos(theta)\n",
    "sch = MetricTensor(list2d, syms)\n",
    "sch.tensor()"
   ]
  },
  {
   "cell_type": "code",
   "execution_count": 4,
   "id": "c08ef89f",
   "metadata": {},
   "outputs": [
    {
     "data": {
      "text/latex": [
       "$\\displaystyle \\left[\\begin{matrix}- \\frac{3 \\frac{d}{d r} f{\\left(r \\right)}}{2 r f{\\left(r \\right)}} & 0 & 0 & 0\\\\0 & - \\frac{r \\frac{d}{d r} f{\\left(r \\right)}}{8} - \\frac{f{\\left(r \\right)}}{2} + \\frac{1}{2} & 0 & \\frac{\\left(- r \\frac{d}{d r} f{\\left(r \\right)} - 4 f{\\left(r \\right)} + 4\\right) \\cos{\\left(\\theta \\right)}}{8}\\\\0 & 0 & - \\frac{r \\frac{d}{d r} f{\\left(r \\right)}}{8} - \\frac{f{\\left(r \\right)}}{2} + \\frac{1}{2} & 0\\\\0 & \\frac{\\left(- r \\frac{d}{d r} f{\\left(r \\right)} - 4 f{\\left(r \\right)} + 4\\right) \\cos{\\left(\\theta \\right)}}{8} & 0 & - \\frac{r \\frac{d}{d r} f{\\left(r \\right)}}{8} - \\frac{f{\\left(r \\right)}}{2} + \\frac{1}{2}\\end{matrix}\\right]$"
      ],
      "text/plain": [
       "⎡   d                                                                         \n",
       "⎢-3⋅──(f(r))                                                                  \n",
       "⎢   dr                                                                        \n",
       "⎢────────────                  0                              0               \n",
       "⎢  2⋅r⋅f(r)                                                                   \n",
       "⎢                                                                             \n",
       "⎢                       d                                                   ⎛ \n",
       "⎢                     r⋅──(f(r))                                            ⎜-\n",
       "⎢                       dr         f(r)   1                                 ⎝ \n",
       "⎢     0             - ────────── - ──── + ─                   0             ──\n",
       "⎢                         8         2     2                                   \n",
       "⎢                                                                             \n",
       "⎢                                                      d                      \n",
       "⎢                                                    r⋅──(f(r))               \n",
       "⎢                                                      dr         f(r)   1    \n",
       "⎢     0                        0                   - ────────── - ──── + ─    \n",
       "⎢                                                        8         2     2    \n",
       "⎢                                                                             \n",
       "⎢              ⎛    d                    ⎞                                    \n",
       "⎢              ⎜- r⋅──(f(r)) - 4⋅f(r) + 4⎟⋅cos(θ)                             \n",
       "⎢              ⎝    dr                   ⎠                                    \n",
       "⎢     0        ──────────────────────────────────             0               \n",
       "⎣                              8                                              \n",
       "\n",
       "                                ⎤\n",
       "                                ⎥\n",
       "                                ⎥\n",
       "              0                 ⎥\n",
       "                                ⎥\n",
       "                                ⎥\n",
       "   d                    ⎞       ⎥\n",
       " r⋅──(f(r)) - 4⋅f(r) + 4⎟⋅cos(θ)⎥\n",
       "   dr                   ⎠       ⎥\n",
       "────────────────────────────────⎥\n",
       "              8                 ⎥\n",
       "                                ⎥\n",
       "                                ⎥\n",
       "                                ⎥\n",
       "                                ⎥\n",
       "              0                 ⎥\n",
       "                                ⎥\n",
       "                                ⎥\n",
       "       d                        ⎥\n",
       "     r⋅──(f(r))                 ⎥\n",
       "       dr         f(r)   1      ⎥\n",
       "   - ────────── - ──── + ─      ⎥\n",
       "         8         2     2      ⎦"
      ]
     },
     "execution_count": 4,
     "metadata": {},
     "output_type": "execute_result"
    }
   ],
   "source": [
    "Ric = RicciTensor.from_metric(sch)\n",
    "Ric.tensor()"
   ]
  },
  {
   "cell_type": "code",
   "execution_count": 5,
   "id": "d28c83b9",
   "metadata": {},
   "outputs": [
    {
     "data": {
      "text/latex": [
       "$\\displaystyle \\left[\\begin{matrix}- \\frac{3 \\frac{d}{d r} f{\\left(r \\right)}}{2 r f{\\left(r \\right)}} + \\frac{3}{L^{2} f{\\left(r \\right)}} & 0 & 0 & 0\\\\0 & \\frac{L^{2} \\left(- r \\frac{d}{d r} f{\\left(r \\right)} - 4 f{\\left(r \\right)} + 4\\right) + 6 r^{2}}{8 L^{2}} & 0 & \\frac{\\left(- L^{2} \\left(r \\frac{d}{d r} f{\\left(r \\right)} + 4 f{\\left(r \\right)} - 4\\right) + 6 r^{2}\\right) \\cos{\\left(\\theta \\right)}}{8 L^{2}}\\\\0 & 0 & \\frac{L^{2} \\left(- r \\frac{d}{d r} f{\\left(r \\right)} - 4 f{\\left(r \\right)} + 4\\right) + 6 r^{2}}{8 L^{2}} & 0\\\\0 & \\frac{\\left(- L^{2} \\left(r \\frac{d}{d r} f{\\left(r \\right)} + 4 f{\\left(r \\right)} - 4\\right) + 6 r^{2}\\right) \\cos{\\left(\\theta \\right)}}{8 L^{2}} & 0 & \\frac{L^{2} \\left(- r \\frac{d}{d r} f{\\left(r \\right)} - 4 f{\\left(r \\right)} + 4\\right) + 6 r^{2}}{8 L^{2}}\\end{matrix}\\right]$"
      ],
      "text/plain": [
       "⎡    d                                                                        \n",
       "⎢  3⋅──(f(r))                                                                 \n",
       "⎢    dr            3                                                          \n",
       "⎢- ────────── + ───────                        0                              \n",
       "⎢   2⋅r⋅f(r)     2                                                            \n",
       "⎢               L ⋅f(r)                                                       \n",
       "⎢                                                                             \n",
       "⎢                             2 ⎛    d                    ⎞      2            \n",
       "⎢                            L ⋅⎜- r⋅──(f(r)) - 4⋅f(r) + 4⎟ + 6⋅r             \n",
       "⎢                               ⎝    dr                   ⎠                   \n",
       "⎢          0                 ─────────────────────────────────────            \n",
       "⎢                                                2                            \n",
       "⎢                                             8⋅L                             \n",
       "⎢                                                                             \n",
       "⎢                                                                         2 ⎛ \n",
       "⎢                                                                        L ⋅⎜-\n",
       "⎢                                                                           ⎝ \n",
       "⎢          0                                   0                         ─────\n",
       "⎢                                                                             \n",
       "⎢                                                                             \n",
       "⎢                                                                             \n",
       "⎢                        ⎛   2 ⎛  d                    ⎞      2⎞              \n",
       "⎢                        ⎜- L ⋅⎜r⋅──(f(r)) + 4⋅f(r) - 4⎟ + 6⋅r ⎟⋅cos(θ)       \n",
       "⎢                        ⎝     ⎝  dr                   ⎠       ⎠              \n",
       "⎢          0             ──────────────────────────────────────────────       \n",
       "⎢                                                2                            \n",
       "⎣                                             8⋅L                             \n",
       "\n",
       "                                                                              \n",
       "                                                                              \n",
       "                                                                              \n",
       "             0                                          0                     \n",
       "                                                                              \n",
       "                                                                              \n",
       "                                                                              \n",
       "                                  ⎛   2 ⎛  d                    ⎞      2⎞     \n",
       "                                  ⎜- L ⋅⎜r⋅──(f(r)) + 4⋅f(r) - 4⎟ + 6⋅r ⎟⋅cos(\n",
       "                                  ⎝     ⎝  dr                   ⎠       ⎠     \n",
       "             0                    ────────────────────────────────────────────\n",
       "                                                          2                   \n",
       "                                                       8⋅L                    \n",
       "                                                                              \n",
       "   d                    ⎞      2                                              \n",
       " r⋅──(f(r)) - 4⋅f(r) + 4⎟ + 6⋅r                                               \n",
       "   dr                   ⎠                                                     \n",
       "────────────────────────────────                        0                     \n",
       "               2                                                              \n",
       "            8⋅L                                                               \n",
       "                                                                              \n",
       "                                       2 ⎛    d                    ⎞      2   \n",
       "                                      L ⋅⎜- r⋅──(f(r)) - 4⋅f(r) + 4⎟ + 6⋅r    \n",
       "                                         ⎝    dr                   ⎠          \n",
       "             0                        ─────────────────────────────────────   \n",
       "                                                          2                   \n",
       "                                                       8⋅L                    \n",
       "\n",
       "  ⎤\n",
       "  ⎥\n",
       "  ⎥\n",
       "  ⎥\n",
       "  ⎥\n",
       "  ⎥\n",
       "  ⎥\n",
       "  ⎥\n",
       "θ)⎥\n",
       "  ⎥\n",
       "──⎥\n",
       "  ⎥\n",
       "  ⎥\n",
       "  ⎥\n",
       "  ⎥\n",
       "  ⎥\n",
       "  ⎥\n",
       "  ⎥\n",
       "  ⎥\n",
       "  ⎥\n",
       "  ⎥\n",
       "  ⎥\n",
       "  ⎥\n",
       "  ⎥\n",
       "  ⎥\n",
       "  ⎥\n",
       "  ⎦"
      ]
     },
     "execution_count": 5,
     "metadata": {},
     "output_type": "execute_result"
    }
   ],
   "source": [
    "metric_array = sympy.MutableDenseNDimArray(list2d)\n",
    "einstein_tensor = sympy.MutableDenseNDimArray(Ric.tensor()) + 3 / L ** 2 * metric_array\n",
    "einstein_tensor = sympy.simplify(einstein_tensor)\n",
    "einstein_tensor"
   ]
  },
  {
   "cell_type": "markdown",
   "id": "2fd1c12c",
   "metadata": {},
   "source": [
    "Compute the right-hand side of the Einstein equation."
   ]
  },
  {
   "cell_type": "code",
   "execution_count": 6,
   "id": "98747a35",
   "metadata": {},
   "outputs": [],
   "source": [
    "\n",
    "A_1 = L / 2 * cap_phi * sympy.Array([0, 0, -sympy.sin(psi), sympy.cos(psi) * sympy.sin(theta)])\n",
    "A_2 = L / 2 * cap_phi * sympy.Array([0, 0, sympy.cos(psi), sympy.sin(psi) * sympy.sin(theta)])\n",
    "A_3 = L / 2 * cap_phi * sympy.Array([0, 1, 0, sympy.cos(theta)])"
   ]
  },
  {
   "cell_type": "code",
   "execution_count": 7,
   "id": "d7e48bba",
   "metadata": {},
   "outputs": [
    {
     "data": {
      "text/latex": [
       "$\\displaystyle \\left( \\left[\\begin{matrix}0 & 0 & - \\frac{L \\Phi{\\left(r \\right)} \\sin{\\left(\\psi \\right)}}{2} & \\frac{L \\Phi{\\left(r \\right)} \\sin{\\left(\\theta \\right)} \\cos{\\left(\\psi \\right)}}{2}\\end{matrix}\\right], \\  \\left[\\begin{matrix}0 & 0 & \\frac{L \\Phi{\\left(r \\right)} \\cos{\\left(\\psi \\right)}}{2} & \\frac{L \\Phi{\\left(r \\right)} \\sin{\\left(\\psi \\right)} \\sin{\\left(\\theta \\right)}}{2}\\end{matrix}\\right], \\  \\left[\\begin{matrix}0 & \\frac{L \\Phi{\\left(r \\right)}}{2} & 0 & \\frac{L \\Phi{\\left(r \\right)} \\cos{\\left(\\theta \\right)}}{2}\\end{matrix}\\right]\\right)$"
      ],
      "text/plain": [
       "⎛⎡      -L⋅Φ(r)⋅sin(ψ)   L⋅Φ(r)⋅sin(θ)⋅cos(ψ)⎤  ⎡      L⋅Φ(r)⋅cos(ψ)  L⋅Φ(r)⋅s\n",
       "⎜⎢0  0  ───────────────  ────────────────────⎥, ⎢0  0  ─────────────  ────────\n",
       "⎝⎣             2                  2          ⎦  ⎣            2                \n",
       "\n",
       "in(ψ)⋅sin(θ)⎤  ⎡   L⋅Φ(r)     L⋅Φ(r)⋅cos(θ)⎤⎞\n",
       "────────────⎥, ⎢0  ──────  0  ─────────────⎥⎟\n",
       " 2          ⎦  ⎣     2              2      ⎦⎠"
      ]
     },
     "execution_count": 7,
     "metadata": {},
     "output_type": "execute_result"
    }
   ],
   "source": [
    "A_1, A_2, A_3"
   ]
  },
  {
   "cell_type": "code",
   "execution_count": 8,
   "id": "e25dd6e1",
   "metadata": {},
   "outputs": [],
   "source": [
    "x = [r, psi, theta, phi]\n",
    "def em_field_strength(A):\n",
    "    \"\"\"Compute EM field strength from the vector potential.\"\"\"    \n",
    "    F = sympy.MutableDenseNDimArray.zeros(4, 4)\n",
    "    for i in range(4):\n",
    "        for j in range(4):\n",
    "            F[i, j] = sympy.diff(A[j], x[i]) - sympy.diff(A[i], x[j])\n",
    "    return F"
   ]
  },
  {
   "cell_type": "code",
   "execution_count": 9,
   "id": "25bc08f8",
   "metadata": {},
   "outputs": [],
   "source": [
    "F_1 = em_field_strength(A_1)\n",
    "F_2 = em_field_strength(A_2)\n",
    "F_3 = em_field_strength(A_3)"
   ]
  },
  {
   "cell_type": "markdown",
   "id": "4be35153",
   "metadata": {},
   "source": [
    "Compute the first term in the energy momentum tensor, involving two field strength tensors with one contraction."
   ]
  },
  {
   "cell_type": "code",
   "execution_count": 10,
   "id": "cc97e46b",
   "metadata": {},
   "outputs": [
    {
     "data": {
      "text/latex": [
       "$\\displaystyle \\left[\\begin{matrix}f{\\left(r \\right)} & 0 & 0 & 0\\\\0 & - \\frac{4}{r^{2} \\cos^{2}{\\left(\\theta \\right)} - r^{2}} & 0 & \\frac{4 \\cos{\\left(\\theta \\right)}}{r^{2} \\cos^{2}{\\left(\\theta \\right)} - r^{2}}\\\\0 & 0 & \\frac{4}{r^{2}} & 0\\\\0 & \\frac{4 \\cos{\\left(\\theta \\right)}}{r^{2} \\cos^{2}{\\left(\\theta \\right)} - r^{2}} & 0 & - \\frac{4}{r^{2} \\cos^{2}{\\left(\\theta \\right)} - r^{2}}\\end{matrix}\\right]$"
      ],
      "text/plain": [
       "⎡f(r)         0         0          0       ⎤\n",
       "⎢                                          ⎥\n",
       "⎢            -4                 4⋅cos(θ)   ⎥\n",
       "⎢ 0    ───────────────  0   ───────────────⎥\n",
       "⎢       2    2       2       2    2       2⎥\n",
       "⎢      r ⋅cos (θ) - r       r ⋅cos (θ) - r ⎥\n",
       "⎢                                          ⎥\n",
       "⎢                       4                  ⎥\n",
       "⎢ 0           0         ──         0       ⎥\n",
       "⎢                        2                 ⎥\n",
       "⎢                       r                  ⎥\n",
       "⎢                                          ⎥\n",
       "⎢          4⋅cos(θ)               -4       ⎥\n",
       "⎢ 0    ───────────────  0   ───────────────⎥\n",
       "⎢       2    2       2       2    2       2⎥\n",
       "⎣      r ⋅cos (θ) - r       r ⋅cos (θ) - r ⎦"
      ]
     },
     "execution_count": 10,
     "metadata": {},
     "output_type": "execute_result"
    }
   ],
   "source": [
    "metric_inv = sympy.Matrix(metric_array).inv()\n",
    "metric_inv"
   ]
  },
  {
   "cell_type": "markdown",
   "id": "78c0a711",
   "metadata": {},
   "source": [
    "Wrap into a tensor object with appropriate indices."
   ]
  },
  {
   "cell_type": "code",
   "execution_count": 11,
   "id": "07538646",
   "metadata": {},
   "outputs": [],
   "source": [
    "Euclidean = TensorIndexType('Euclidean', dummy_name='E')\n",
    "i0, i1, i2, i3, i4, i5, i6, i7 = tensor_indices('i0:8', Euclidean)"
   ]
  },
  {
   "cell_type": "code",
   "execution_count": 12,
   "id": "f46c676b",
   "metadata": {},
   "outputs": [],
   "source": [
    "FFg_tensor = TensorHead('FFg', [Euclidean] * 6)\n",
    "FFg_matrix = (\n",
    "    sympy.tensorproduct(F_1, F_1, metric_inv) +\n",
    "    sympy.tensorproduct(F_2, F_2, metric_inv) +\n",
    "    sympy.tensorproduct(F_3, F_3, metric_inv)\n",
    ")\n",
    "repl = {FFg_tensor(-i0, -i1, -i2, -i3, i4, i5): FFg_matrix}"
   ]
  },
  {
   "cell_type": "markdown",
   "id": "9bf0d7bf",
   "metadata": {},
   "source": [
    "Contract indices."
   ]
  },
  {
   "cell_type": "code",
   "execution_count": 13,
   "id": "3f57b336",
   "metadata": {},
   "outputs": [
    {
     "data": {
      "text/latex": [
       "$\\displaystyle \\left[\\begin{matrix}\\frac{3 L^{2} \\left(\\frac{d}{d r} \\Phi{\\left(r \\right)}\\right)^{2}}{r^{2}} & 0 & 0 & 0\\\\0 & \\frac{L^{2} \\left(r^{2} f{\\left(r \\right)} \\left(\\frac{d}{d r} \\Phi{\\left(r \\right)}\\right)^{2} + 8 \\Phi^{2}{\\left(r \\right)}\\right)}{4 r^{2}} & 0 & \\frac{L^{2} \\left(r^{2} f{\\left(r \\right)} \\left(\\frac{d}{d r} \\Phi{\\left(r \\right)}\\right)^{2} + 8 \\Phi^{2}{\\left(r \\right)}\\right) \\cos{\\left(\\theta \\right)}}{4 r^{2}}\\\\0 & 0 & \\frac{L^{2} \\left(r^{2} f{\\left(r \\right)} \\left(\\frac{d}{d r} \\Phi{\\left(r \\right)}\\right)^{2} + 8 \\Phi^{2}{\\left(r \\right)}\\right)}{4 r^{2}} & 0\\\\0 & \\frac{L^{2} \\left(r^{2} f{\\left(r \\right)} \\left(\\frac{d}{d r} \\Phi{\\left(r \\right)}\\right)^{2} + 8 \\Phi^{2}{\\left(r \\right)}\\right) \\cos{\\left(\\theta \\right)}}{4 r^{2}} & 0 & \\frac{L^{2} \\left(r^{2} f{\\left(r \\right)} \\left(\\frac{d}{d r} \\Phi{\\left(r \\right)}\\right)^{2} + 8 \\Phi^{2}{\\left(r \\right)}\\right)}{4 r^{2}}\\end{matrix}\\right]$"
      ],
      "text/plain": [
       "⎡               2                                                             \n",
       "⎢   2 ⎛d       ⎞                                                              \n",
       "⎢3⋅L ⋅⎜──(Φ(r))⎟                                                              \n",
       "⎢     ⎝dr      ⎠                                                              \n",
       "⎢────────────────                      0                                      \n",
       "⎢        2                                                                    \n",
       "⎢       r                                                                     \n",
       "⎢                                                                             \n",
       "⎢                        ⎛                  2          ⎞                      \n",
       "⎢                      2 ⎜ 2      ⎛d       ⎞       2   ⎟                      \n",
       "⎢                     L ⋅⎜r ⋅f(r)⋅⎜──(Φ(r))⎟  + 8⋅Φ (r)⎟                      \n",
       "⎢                        ⎝        ⎝dr      ⎠           ⎠                      \n",
       "⎢       0             ──────────────────────────────────                      \n",
       "⎢                                       2                                     \n",
       "⎢                                    4⋅r                                      \n",
       "⎢                                                                             \n",
       "⎢                                                                ⎛            \n",
       "⎢                                                              2 ⎜ 2      ⎛d  \n",
       "⎢                                                             L ⋅⎜r ⋅f(r)⋅⎜──(\n",
       "⎢                                                                ⎝        ⎝dr \n",
       "⎢       0                              0                      ────────────────\n",
       "⎢                                                                             \n",
       "⎢                                                                            4\n",
       "⎢                                                                             \n",
       "⎢                     ⎛                  2          ⎞                         \n",
       "⎢                   2 ⎜ 2      ⎛d       ⎞       2   ⎟                         \n",
       "⎢                  L ⋅⎜r ⋅f(r)⋅⎜──(Φ(r))⎟  + 8⋅Φ (r)⎟⋅cos(θ)                  \n",
       "⎢                     ⎝        ⎝dr      ⎠           ⎠                         \n",
       "⎢       0          ─────────────────────────────────────────                  \n",
       "⎢                                        2                                    \n",
       "⎣                                     4⋅r                                     \n",
       "\n",
       "                                                             ⎤\n",
       "                                                             ⎥\n",
       "                                                             ⎥\n",
       "                                                             ⎥\n",
       "0                                       0                    ⎥\n",
       "                                                             ⎥\n",
       "                                                             ⎥\n",
       "                                                             ⎥\n",
       "                       ⎛                  2          ⎞       ⎥\n",
       "                     2 ⎜ 2      ⎛d       ⎞       2   ⎟       ⎥\n",
       "                    L ⋅⎜r ⋅f(r)⋅⎜──(Φ(r))⎟  + 8⋅Φ (r)⎟⋅cos(θ)⎥\n",
       "                       ⎝        ⎝dr      ⎠           ⎠       ⎥\n",
       "0                   ─────────────────────────────────────────⎥\n",
       "                                          2                  ⎥\n",
       "                                       4⋅r                   ⎥\n",
       "                                                             ⎥\n",
       "      2          ⎞                                           ⎥\n",
       "     ⎞       2   ⎟                                           ⎥\n",
       "Φ(r))⎟  + 8⋅Φ (r)⎟                                           ⎥\n",
       "     ⎠           ⎠                                           ⎥\n",
       "──────────────────                      0                    ⎥\n",
       "  2                                                          ⎥\n",
       "⋅r                                                           ⎥\n",
       "                                                             ⎥\n",
       "                          ⎛                  2          ⎞    ⎥\n",
       "                        2 ⎜ 2      ⎛d       ⎞       2   ⎟    ⎥\n",
       "                       L ⋅⎜r ⋅f(r)⋅⎜──(Φ(r))⎟  + 8⋅Φ (r)⎟    ⎥\n",
       "                          ⎝        ⎝dr      ⎠           ⎠    ⎥\n",
       "0                      ──────────────────────────────────    ⎥\n",
       "                                         2                   ⎥\n",
       "                                      4⋅r                    ⎦"
      ]
     },
     "execution_count": 13,
     "metadata": {},
     "output_type": "execute_result"
    }
   ],
   "source": [
    "T_contracted_1 = FFg_tensor(-i0, -i1, -i2, -i3, i3, i1).replace_with_arrays(repl)\n",
    "T_contracted_1 = sympy.simplify(T_contracted_1)\n",
    "T_contracted_1"
   ]
  },
  {
   "cell_type": "markdown",
   "id": "8c66fb3a",
   "metadata": {},
   "source": [
    "Compute second term of the energy momentum tensor involving two contractions."
   ]
  },
  {
   "cell_type": "code",
   "execution_count": 14,
   "id": "aca0ccaa",
   "metadata": {},
   "outputs": [],
   "source": [
    "FFgg_tensor = TensorHead('FFgg', [Euclidean] * 8)\n",
    "FFgg_matrix = (\n",
    "    sympy.tensorproduct(F_1, F_1, metric_inv, metric_inv) +\n",
    "    sympy.tensorproduct(F_2, F_2, metric_inv, metric_inv) +\n",
    "    sympy.tensorproduct(F_3, F_3, metric_inv, metric_inv)\n",
    ")\n",
    "repl = {FFgg_tensor(-i0, -i1, -i2, -i3, i4, i5, i6, i7): FFgg_matrix}"
   ]
  },
  {
   "cell_type": "code",
   "execution_count": 15,
   "id": "7780c723",
   "metadata": {},
   "outputs": [
    {
     "data": {
      "image/png": "[encoded data removed]",
      "text/latex": [
       "$\\displaystyle \\frac{6 L^{2} \\left(r^{2} f{\\left(r \\right)} \\left(\\frac{d}{d r} \\Phi{\\left(r \\right)}\\right)^{2} + 4 \\Phi^{2}{\\left(r \\right)}\\right)}{r^{4}}$"
      ],
      "text/plain": [
       "     ⎛                  2          ⎞\n",
       "   2 ⎜ 2      ⎛d       ⎞       2   ⎟\n",
       "6⋅L ⋅⎜r ⋅f(r)⋅⎜──(Φ(r))⎟  + 4⋅Φ (r)⎟\n",
       "     ⎝        ⎝dr      ⎠           ⎠\n",
       "────────────────────────────────────\n",
       "                  4                 \n",
       "                 r                  "
      ]
     },
     "execution_count": 15,
     "metadata": {},
     "output_type": "execute_result"
    }
   ],
   "source": [
    "T_contracted_2 = FFgg_tensor(-i0, -i1, -i2, -i3, i3, i1, i2, i0).replace_with_arrays(repl)\n",
    "T_contracted_2 = T_contracted_2.simplify()\n",
    "T_contracted_2"
   ]
  },
  {
   "cell_type": "markdown",
   "id": "0a341fd1",
   "metadata": {},
   "source": [
    "Compute the energy-momentum tensor."
   ]
  },
  {
   "cell_type": "code",
   "execution_count": 16,
   "id": "749a1287",
   "metadata": {},
   "outputs": [
    {
     "data": {
      "text/latex": [
       "$\\displaystyle \\left[\\begin{matrix}\\frac{3 L^{2} \\left(r^{2} f{\\left(r \\right)} \\left(\\frac{d}{d r} \\Phi{\\left(r \\right)}\\right)^{2} - 4 \\Phi^{2}{\\left(r \\right)}\\right)}{r^{4} f{\\left(r \\right)}} & 0 & 0 & 0\\\\0 & \\frac{L^{2} \\left(- \\frac{r^{2} f{\\left(r \\right)} \\left(\\frac{d}{d r} \\Phi{\\left(r \\right)}\\right)^{2}}{4} + \\Phi^{2}{\\left(r \\right)}\\right)}{r^{2}} & 0 & \\frac{L^{2} \\left(- r^{2} f{\\left(r \\right)} \\left(\\frac{d}{d r} \\Phi{\\left(r \\right)}\\right)^{2} + 4 \\Phi^{2}{\\left(r \\right)}\\right) \\cos{\\left(\\theta \\right)}}{4 r^{2}}\\\\0 & 0 & \\frac{L^{2} \\left(- \\frac{r^{2} f{\\left(r \\right)} \\left(\\frac{d}{d r} \\Phi{\\left(r \\right)}\\right)^{2}}{4} + \\Phi^{2}{\\left(r \\right)}\\right)}{r^{2}} & 0\\\\0 & \\frac{L^{2} \\left(- r^{2} f{\\left(r \\right)} \\left(\\frac{d}{d r} \\Phi{\\left(r \\right)}\\right)^{2} + 4 \\Phi^{2}{\\left(r \\right)}\\right) \\cos{\\left(\\theta \\right)}}{4 r^{2}} & 0 & \\frac{L^{2} \\left(- \\frac{r^{2} f{\\left(r \\right)} \\left(\\frac{d}{d r} \\Phi{\\left(r \\right)}\\right)^{2}}{4} + \\Phi^{2}{\\left(r \\right)}\\right)}{r^{2}}\\end{matrix}\\right]$"
      ],
      "text/plain": [
       "⎡     ⎛                  2          ⎞                                         \n",
       "⎢   2 ⎜ 2      ⎛d       ⎞       2   ⎟                                         \n",
       "⎢3⋅L ⋅⎜r ⋅f(r)⋅⎜──(Φ(r))⎟  - 4⋅Φ (r)⎟                                         \n",
       "⎢     ⎝        ⎝dr      ⎠           ⎠                                         \n",
       "⎢────────────────────────────────────                       0                 \n",
       "⎢               4                                                             \n",
       "⎢              r ⋅f(r)                                                        \n",
       "⎢                                                                             \n",
       "⎢                                             ⎛                    2        ⎞ \n",
       "⎢                                             ⎜   2      ⎛d       ⎞         ⎟ \n",
       "⎢                                             ⎜  r ⋅f(r)⋅⎜──(Φ(r))⎟         ⎟ \n",
       "⎢                                           2 ⎜          ⎝dr      ⎠     2   ⎟ \n",
       "⎢                                          L ⋅⎜- ─────────────────── + Φ (r)⎟ \n",
       "⎢                                             ⎝           4                 ⎠ \n",
       "⎢                 0                        ────────────────────────────────── \n",
       "⎢                                                           2                 \n",
       "⎢                                                          r                  \n",
       "⎢                                                                             \n",
       "⎢                                                                             \n",
       "⎢                                                                             \n",
       "⎢                                                                             \n",
       "⎢                                                                             \n",
       "⎢                                                                             \n",
       "⎢                                                                             \n",
       "⎢                 0                                         0                 \n",
       "⎢                                                                             \n",
       "⎢                                                                             \n",
       "⎢                                                                             \n",
       "⎢                                                                             \n",
       "⎢                                                                             \n",
       "⎢                                         ⎛                    2          ⎞   \n",
       "⎢                                       2 ⎜   2      ⎛d       ⎞       2   ⎟   \n",
       "⎢                                      L ⋅⎜- r ⋅f(r)⋅⎜──(Φ(r))⎟  + 4⋅Φ (r)⎟⋅co\n",
       "⎢                                         ⎝          ⎝dr      ⎠           ⎠   \n",
       "⎢                 0                    ───────────────────────────────────────\n",
       "⎢                                                             2               \n",
       "⎣                                                          4⋅r                \n",
       "\n",
       "                                                                              \n",
       "                                                                              \n",
       "                                                                              \n",
       "                                                                              \n",
       "                      0                                        0              \n",
       "                                                                              \n",
       "                                                                              \n",
       "                                                                              \n",
       "                                                                              \n",
       "                                                                              \n",
       "                                             ⎛                    2          ⎞\n",
       "                                           2 ⎜   2      ⎛d       ⎞       2   ⎟\n",
       "                                          L ⋅⎜- r ⋅f(r)⋅⎜──(Φ(r))⎟  + 4⋅Φ (r)⎟\n",
       "                                             ⎝          ⎝dr      ⎠           ⎠\n",
       "                      0                   ────────────────────────────────────\n",
       "                                                                 2            \n",
       "                                                              4⋅r             \n",
       "                                                                              \n",
       "         ⎛                    2        ⎞                                      \n",
       "         ⎜   2      ⎛d       ⎞         ⎟                                      \n",
       "         ⎜  r ⋅f(r)⋅⎜──(Φ(r))⎟         ⎟                                      \n",
       "       2 ⎜          ⎝dr      ⎠     2   ⎟                                      \n",
       "      L ⋅⎜- ─────────────────── + Φ (r)⎟                                      \n",
       "         ⎝           4                 ⎠                                      \n",
       "      ──────────────────────────────────                       0              \n",
       "                       2                                                      \n",
       "                      r                                                       \n",
       "                                                                              \n",
       "                                                 ⎛                    2       \n",
       "                                                 ⎜   2      ⎛d       ⎞        \n",
       "                                                 ⎜  r ⋅f(r)⋅⎜──(Φ(r))⎟        \n",
       "                                               2 ⎜          ⎝dr      ⎠     2  \n",
       "s(θ)                                          L ⋅⎜- ─────────────────── + Φ (r\n",
       "                                                 ⎝           4                \n",
       "────                  0                       ────────────────────────────────\n",
       "                                                               2              \n",
       "                                                              r               \n",
       "\n",
       "       ⎤\n",
       "       ⎥\n",
       "       ⎥\n",
       "       ⎥\n",
       "       ⎥\n",
       "       ⎥\n",
       "       ⎥\n",
       "       ⎥\n",
       "       ⎥\n",
       "       ⎥\n",
       "       ⎥\n",
       "       ⎥\n",
       "⋅cos(θ)⎥\n",
       "       ⎥\n",
       "───────⎥\n",
       "       ⎥\n",
       "       ⎥\n",
       "       ⎥\n",
       "       ⎥\n",
       "       ⎥\n",
       "       ⎥\n",
       "       ⎥\n",
       "       ⎥\n",
       "       ⎥\n",
       "       ⎥\n",
       "       ⎥\n",
       "       ⎥\n",
       "       ⎥\n",
       " ⎞     ⎥\n",
       " ⎟     ⎥\n",
       " ⎟     ⎥\n",
       " ⎟     ⎥\n",
       ")⎟     ⎥\n",
       " ⎠     ⎥\n",
       "──     ⎥\n",
       "       ⎥\n",
       "       ⎦"
      ]
     },
     "execution_count": 16,
     "metadata": {},
     "output_type": "execute_result"
    }
   ],
   "source": [
    "energy_momentum = 2 * (T_contracted_1 - metric_array / 4 * T_contracted_2)\n",
    "energy_momentum = sympy.simplify(energy_momentum)\n",
    "energy_momentum"
   ]
  },
  {
   "cell_type": "markdown",
   "id": "af695755",
   "metadata": {},
   "source": [
    "Evaluate solution."
   ]
  },
  {
   "cell_type": "code",
   "execution_count": 17,
   "id": "156f9c95",
   "metadata": {},
   "outputs": [
    {
     "data": {
      "image/png": "[encoded data removed]",
      "text/latex": [
       "$\\displaystyle \\frac{\\Phi_{0} \\left(- L + \\sqrt{L^{2} + r^{2}}\\right)}{L + \\sqrt{L^{2} + r^{2}}}$"
      ],
      "text/plain": [
       "   ⎛        _________⎞\n",
       "   ⎜       ╱  2    2 ⎟\n",
       "Φ₀⋅⎝-L + ╲╱  L  + r  ⎠\n",
       "──────────────────────\n",
       "          _________   \n",
       "         ╱  2    2    \n",
       "   L + ╲╱  L  + r     "
      ]
     },
     "execution_count": 17,
     "metadata": {},
     "output_type": "execute_result"
    }
   ],
   "source": [
    "Phi_0 = sympy.symbols(\"Phi_0\")\n",
    "phi_sol = Phi_0 * (sympy.sqrt(L ** 2 + r ** 2) - L) / (sympy.sqrt(L ** 2 + r ** 2) + L) \n",
    "phi_sol"
   ]
  },
  {
   "cell_type": "code",
   "execution_count": 18,
   "id": "16628a4d",
   "metadata": {},
   "outputs": [
    {
     "data": {
      "image/png": "[encoded data removed]",
      "text/latex": [
       "$\\displaystyle 1 + \\frac{r^{2}}{L^{2}}$"
      ],
      "text/plain": [
       "     2\n",
       "    r \n",
       "1 + ──\n",
       "     2\n",
       "    L "
      ]
     },
     "execution_count": 18,
     "metadata": {},
     "output_type": "execute_result"
    }
   ],
   "source": [
    "f_sol = 1 + r ** 2 / L ** 2\n",
    "f_sol"
   ]
  },
  {
   "cell_type": "code",
   "execution_count": 19,
   "id": "91448e54",
   "metadata": {},
   "outputs": [
    {
     "data": {
      "image/png": "[encoded data removed]",
      "text/latex": [
       "$\\displaystyle \\frac{2 L \\Phi_{0} r}{\\left(L + \\sqrt{L^{2} + r^{2}}\\right)^{2} \\sqrt{L^{2} + r^{2}}}$"
      ],
      "text/plain": [
       "            2⋅L⋅Φ₀⋅r            \n",
       "────────────────────────────────\n",
       "                  2             \n",
       "⎛       _________⎞     _________\n",
       "⎜      ╱  2    2 ⎟    ╱  2    2 \n",
       "⎝L + ╲╱  L  + r  ⎠ ⋅╲╱  L  + r  "
      ]
     },
     "execution_count": 19,
     "metadata": {},
     "output_type": "execute_result"
    }
   ],
   "source": [
    "dphidr = sympy.diff(phi_sol, r).simplify()\n",
    "dphidr"
   ]
  },
  {
   "cell_type": "markdown",
   "id": "1e7ecca1",
   "metadata": {},
   "source": [
    "All the components of the Einstein tensor are zero."
   ]
  },
  {
   "cell_type": "code",
   "execution_count": 20,
   "id": "50f118e7",
   "metadata": {},
   "outputs": [],
   "source": [
    "for i in range(4):\n",
    "    for j in range(4):\n",
    "        assert einstein_tensor[i, j].subs({f: f_sol, cap_phi: phi_sol}).simplify() == 0"
   ]
  },
  {
   "cell_type": "markdown",
   "id": "dc8b5b2b",
   "metadata": {},
   "source": [
    "All energy momentum components have a similar factor, which goes to zero."
   ]
  },
  {
   "cell_type": "code",
   "execution_count": 21,
   "id": "e185cc78",
   "metadata": {},
   "outputs": [
    {
     "data": {
      "image/png": "[encoded data removed]",
      "text/latex": [
       "$\\displaystyle \\frac{3 L^{2} \\left(r^{2} f{\\left(r \\right)} \\left(\\frac{d}{d r} \\Phi{\\left(r \\right)}\\right)^{2} - 4 \\Phi^{2}{\\left(r \\right)}\\right)}{r^{4} f{\\left(r \\right)}}$"
      ],
      "text/plain": [
       "     ⎛                  2          ⎞\n",
       "   2 ⎜ 2      ⎛d       ⎞       2   ⎟\n",
       "3⋅L ⋅⎜r ⋅f(r)⋅⎜──(Φ(r))⎟  - 4⋅Φ (r)⎟\n",
       "     ⎝        ⎝dr      ⎠           ⎠\n",
       "────────────────────────────────────\n",
       "               4                    \n",
       "              r ⋅f(r)               "
      ]
     },
     "execution_count": 21,
     "metadata": {},
     "output_type": "execute_result"
    }
   ],
   "source": [
    "energy_momentum[0, 0]"
   ]
  },
  {
   "cell_type": "code",
   "execution_count": 22,
   "id": "db312ed4",
   "metadata": {},
   "outputs": [],
   "source": [
    "T_00 = r ** 2 * f_sol * dphidr ** 2 - 4 * phi_sol ** 2"
   ]
  },
  {
   "cell_type": "code",
   "execution_count": 23,
   "id": "e834a012",
   "metadata": {},
   "outputs": [
    {
     "data": {
      "image/png": "[encoded data removed]",
      "text/latex": [
       "$\\displaystyle 0$"
      ],
      "text/plain": [
       "0"
      ]
     },
     "execution_count": 23,
     "metadata": {},
     "output_type": "execute_result"
    }
   ],
   "source": [
    "T_00.simplify()"
   ]
  },
  {
   "cell_type": "markdown",
   "id": "5e8d29b8",
   "metadata": {},
   "source": [
    "### Maxwell Equations"
   ]
  },
  {
   "cell_type": "code",
   "execution_count": 24,
   "id": "d660039a",
   "metadata": {},
   "outputs": [
    {
     "data": {
      "text/latex": [
       "$\\displaystyle \\left[\\begin{matrix}\\left[\\begin{matrix}- \\frac{\\frac{d}{d r} f{\\left(r \\right)}}{2 f{\\left(r \\right)}} & 0 & 0 & 0\\\\0 & - \\frac{r f{\\left(r \\right)}}{4} & 0 & - \\frac{r f{\\left(r \\right)} \\cos{\\left(\\theta \\right)}}{4}\\\\0 & 0 & - \\frac{r f{\\left(r \\right)}}{4} & 0\\\\0 & - \\frac{r f{\\left(r \\right)} \\cos{\\left(\\theta \\right)}}{4} & 0 & - \\frac{r f{\\left(r \\right)}}{4}\\end{matrix}\\right] & \\left[\\begin{matrix}0 & \\frac{r \\cos^{2}{\\left(\\theta \\right)}}{r^{2} \\cos^{2}{\\left(\\theta \\right)} - r^{2}} - \\frac{r}{r^{2} \\cos^{2}{\\left(\\theta \\right)} - r^{2}} & 0 & 0\\\\\\frac{r \\cos^{2}{\\left(\\theta \\right)}}{r^{2} \\cos^{2}{\\left(\\theta \\right)} - r^{2}} - \\frac{r}{r^{2} \\cos^{2}{\\left(\\theta \\right)} - r^{2}} & 0 & - \\frac{r^{2} \\sin{\\left(\\theta \\right)} \\cos{\\left(\\theta \\right)}}{2 \\left(r^{2} \\cos^{2}{\\left(\\theta \\right)} - r^{2}\\right)} & 0\\\\0 & - \\frac{r^{2} \\sin{\\left(\\theta \\right)} \\cos{\\left(\\theta \\right)}}{2 \\left(r^{2} \\cos^{2}{\\left(\\theta \\right)} - r^{2}\\right)} & 0 & \\frac{r^{2} \\sin{\\left(\\theta \\right)}}{2 \\left(r^{2} \\cos^{2}{\\left(\\theta \\right)} - r^{2}\\right)}\\\\0 & 0 & \\frac{r^{2} \\sin{\\left(\\theta \\right)}}{2 \\left(r^{2} \\cos^{2}{\\left(\\theta \\right)} - r^{2}\\right)} & 0\\end{matrix}\\right] & \\left[\\begin{matrix}0 & 0 & \\frac{1}{r} & 0\\\\0 & 0 & 0 & \\frac{\\sin{\\left(\\theta \\right)}}{2}\\\\\\frac{1}{r} & 0 & 0 & 0\\\\0 & \\frac{\\sin{\\left(\\theta \\right)}}{2} & 0 & 0\\end{matrix}\\right] & \\left[\\begin{matrix}0 & 0 & 0 & \\frac{r \\cos^{2}{\\left(\\theta \\right)}}{r^{2} \\cos^{2}{\\left(\\theta \\right)} - r^{2}} - \\frac{r}{r^{2} \\cos^{2}{\\left(\\theta \\right)} - r^{2}}\\\\0 & 0 & \\frac{r^{2} \\sin{\\left(\\theta \\right)}}{2 \\left(r^{2} \\cos^{2}{\\left(\\theta \\right)} - r^{2}\\right)} & 0\\\\0 & \\frac{r^{2} \\sin{\\left(\\theta \\right)}}{2 \\left(r^{2} \\cos^{2}{\\left(\\theta \\right)} - r^{2}\\right)} & 0 & - \\frac{r^{2} \\sin{\\left(\\theta \\right)} \\cos{\\left(\\theta \\right)}}{2 \\left(r^{2} \\cos^{2}{\\left(\\theta \\right)} - r^{2}\\right)}\\\\\\frac{r \\cos^{2}{\\left(\\theta \\right)}}{r^{2} \\cos^{2}{\\left(\\theta \\right)} - r^{2}} - \\frac{r}{r^{2} \\cos^{2}{\\left(\\theta \\right)} - r^{2}} & 0 & - \\frac{r^{2} \\sin{\\left(\\theta \\right)} \\cos{\\left(\\theta \\right)}}{2 \\left(r^{2} \\cos^{2}{\\left(\\theta \\right)} - r^{2}\\right)} & 0\\end{matrix}\\right]\\end{matrix}\\right]$"
      ],
      "text/plain": [
       "⎡                                                          ⎡                  \n",
       "⎢                                                          ⎢                  \n",
       "⎢                                                          ⎢                0 \n",
       "⎢⎡ d                                                    ⎤  ⎢                  \n",
       "⎢⎢-──(f(r))                                             ⎥  ⎢                  \n",
       "⎢⎢ dr                                                   ⎥  ⎢                  \n",
       "⎢⎢──────────         0            0             0       ⎥  ⎢        2         \n",
       "⎢⎢  2⋅f(r)                                              ⎥  ⎢   r⋅cos (θ)      \n",
       "⎢⎢                                                      ⎥  ⎢─────────────── - \n",
       "⎢⎢               -r⋅f(r)                 -r⋅f(r)⋅cos(θ) ⎥  ⎢ 2    2       2   \n",
       "⎢⎢    0          ────────         0      ───────────────⎥  ⎢r ⋅cos (θ) - r    \n",
       "⎢⎢                  4                           4       ⎥  ⎢                  \n",
       "⎢⎢                                                      ⎥  ⎢                  \n",
       "⎢⎢                             -r⋅f(r)                  ⎥  ⎢                  \n",
       "⎢⎢    0              0         ────────         0       ⎥  ⎢                0 \n",
       "⎢⎢                                4                     ⎥  ⎢                  \n",
       "⎢⎢                                                      ⎥  ⎢                  \n",
       "⎢⎢            -r⋅f(r)⋅cos(θ)                -r⋅f(r)     ⎥  ⎢                  \n",
       "⎢⎢    0       ───────────────     0         ────────    ⎥  ⎢                  \n",
       "⎢⎣                   4                         4        ⎦  ⎢                  \n",
       "⎢                                                          ⎢                0 \n",
       "⎢                                                          ⎢                  \n",
       "⎣                                                          ⎣                  \n",
       "\n",
       "                         2                                                    \n",
       "                    r⋅cos (θ)             r                                   \n",
       "                 ─────────────── - ───────────────           0                \n",
       "                  2    2       2    2    2       2                            \n",
       "                 r ⋅cos (θ) - r    r ⋅cos (θ) - r                             \n",
       "                                                                              \n",
       "                                                       2                      \n",
       "       r                                             -r ⋅sin(θ)⋅cos(θ)        \n",
       "───────────────                  0                  ───────────────────       \n",
       " 2    2       2                                       ⎛ 2    2       2⎞       \n",
       "r ⋅cos (θ) - r                                      2⋅⎝r ⋅cos (θ) - r ⎠       \n",
       "                                                                              \n",
       "                           2                                                  \n",
       "                         -r ⋅sin(θ)⋅cos(θ)                                    \n",
       "                        ───────────────────                  0           ─────\n",
       "                          ⎛ 2    2       2⎞                                ⎛ 2\n",
       "                        2⋅⎝r ⋅cos (θ) - r ⎠                              2⋅⎝r \n",
       "                                                                              \n",
       "                                                          2                   \n",
       "                                                         r ⋅sin(θ)            \n",
       "                                 0                  ───────────────────       \n",
       "                                                      ⎛ 2    2       2⎞       \n",
       "                                                    2⋅⎝r ⋅cos (θ) - r ⎠       \n",
       "\n",
       "              ⎤                          ⎡                                    \n",
       "              ⎥                          ⎢                                    \n",
       "    0         ⎥                          ⎢                0                   \n",
       "              ⎥                          ⎢                                    \n",
       "              ⎥  ⎡           1        ⎤  ⎢                                    \n",
       "              ⎥  ⎢0    0     ─    0   ⎥  ⎢                                    \n",
       "              ⎥  ⎢           r        ⎥  ⎢                                    \n",
       "              ⎥  ⎢                    ⎥  ⎢                                    \n",
       "    0         ⎥  ⎢              sin(θ)⎥  ⎢                0                   \n",
       "              ⎥  ⎢0    0     0  ──────⎥  ⎢                                    \n",
       "              ⎥  ⎢                2   ⎥  ⎢                                    \n",
       "              ⎥  ⎢                    ⎥  ⎢                                    \n",
       " 2            ⎥  ⎢1                   ⎥  ⎢                                    \n",
       "r ⋅sin(θ)     ⎥  ⎢─    0     0    0   ⎥  ⎢                                    \n",
       "──────────────⎥  ⎢r                   ⎥  ⎢                0                  ─\n",
       "    2       2⎞⎥  ⎢                    ⎥  ⎢                                    \n",
       "⋅cos (θ) - r ⎠⎥  ⎢   sin(θ)           ⎥  ⎢                                   2\n",
       "              ⎥  ⎢0  ──────  0    0   ⎥  ⎢                                    \n",
       "              ⎥  ⎣     2              ⎦  ⎢        2                           \n",
       "              ⎥                          ⎢   r⋅cos (θ)             r          \n",
       "    0         ⎥                          ⎢─────────────── - ───────────────   \n",
       "              ⎥                          ⎢ 2    2       2    2    2       2   \n",
       "              ⎦                          ⎣r ⋅cos (θ) - r    r ⋅cos (θ) - r    \n",
       "\n",
       "                                                 2                        ⎤⎤\n",
       "                                            r⋅cos (θ)             r       ⎥⎥\n",
       "        0                    0           ─────────────── - ───────────────⎥⎥\n",
       "                                          2    2       2    2    2       2⎥⎥\n",
       "                                         r ⋅cos (θ) - r    r ⋅cos (θ) - r ⎥⎥\n",
       "                                                                          ⎥⎥\n",
       "                          2                                               ⎥⎥\n",
       "                         r ⋅sin(θ)                                        ⎥⎥\n",
       "        0           ───────────────────                  0                ⎥⎥\n",
       "                      ⎛ 2    2       2⎞                                   ⎥⎥\n",
       "                    2⋅⎝r ⋅cos (θ) - r ⎠                                   ⎥⎥\n",
       "                                                                          ⎥⎥\n",
       "     2                                             2                      ⎥⎥\n",
       "    r ⋅sin(θ)                                    -r ⋅sin(θ)⋅cos(θ)        ⎥⎥\n",
       "──────────────────           0                  ───────────────────       ⎥⎥\n",
       " ⎛ 2    2       2⎞                                ⎛ 2    2       2⎞       ⎥⎥\n",
       "⋅⎝r ⋅cos (θ) - r ⎠                              2⋅⎝r ⋅cos (θ) - r ⎠       ⎥⎥\n",
       "                                                                          ⎥⎥\n",
       "                       2                                                  ⎥⎥\n",
       "                     -r ⋅sin(θ)⋅cos(θ)                                    ⎥⎥\n",
       "        0           ───────────────────                  0                ⎥⎥\n",
       "                      ⎛ 2    2       2⎞                                   ⎥⎥\n",
       "                    2⋅⎝r ⋅cos (θ) - r ⎠                                   ⎦⎦"
      ]
     },
     "execution_count": 24,
     "metadata": {},
     "output_type": "execute_result"
    }
   ],
   "source": [
    "ch = ChristoffelSymbols.from_metric(sch)\n",
    "ch = ch.tensor()\n",
    "ch"
   ]
  },
  {
   "cell_type": "markdown",
   "id": "18d4ac39",
   "metadata": {},
   "source": [
    "Raise indices on the field strength tensor."
   ]
  },
  {
   "cell_type": "code",
   "execution_count": 25,
   "id": "6b438254",
   "metadata": {},
   "outputs": [
    {
     "data": {
      "text/latex": [
       "$\\displaystyle \\left[\\begin{matrix}0 & - \\frac{2 L f{\\left(r \\right)} \\cos{\\left(\\psi \\right)} \\frac{d}{d r} \\Phi{\\left(r \\right)}}{r^{2} \\tan{\\left(\\theta \\right)}} & - \\frac{2 L f{\\left(r \\right)} \\sin{\\left(\\psi \\right)} \\frac{d}{d r} \\Phi{\\left(r \\right)}}{r^{2}} & \\frac{2 L f{\\left(r \\right)} \\cos{\\left(\\psi \\right)} \\frac{d}{d r} \\Phi{\\left(r \\right)}}{r^{2} \\sin{\\left(\\theta \\right)}}\\\\\\frac{2 L f{\\left(r \\right)} \\cos{\\left(\\psi \\right)} \\frac{d}{d r} \\Phi{\\left(r \\right)}}{r^{2} \\tan{\\left(\\theta \\right)}} & 0 & - \\frac{8 L \\Phi{\\left(r \\right)} \\cos{\\left(\\psi \\right)}}{r^{4}} & - \\frac{8 L \\Phi{\\left(r \\right)} \\sin{\\left(\\psi \\right)}}{r^{4} \\sin{\\left(\\theta \\right)}}\\\\\\frac{2 L f{\\left(r \\right)} \\sin{\\left(\\psi \\right)} \\frac{d}{d r} \\Phi{\\left(r \\right)}}{r^{2}} & \\frac{8 L \\Phi{\\left(r \\right)} \\cos{\\left(\\psi \\right)}}{r^{4}} & 0 & 0\\\\- \\frac{2 L f{\\left(r \\right)} \\cos{\\left(\\psi \\right)} \\frac{d}{d r} \\Phi{\\left(r \\right)}}{r^{2} \\sin{\\left(\\theta \\right)}} & \\frac{8 L \\Phi{\\left(r \\right)} \\sin{\\left(\\psi \\right)}}{r^{4} \\sin{\\left(\\theta \\right)}} & 0 & 0\\end{matrix}\\right]$"
      ],
      "text/plain": [
       "⎡                                             d                           d   \n",
       "⎢                            -2⋅L⋅f(r)⋅cos(ψ)⋅──(Φ(r))   -2⋅L⋅f(r)⋅sin(ψ)⋅──(Φ\n",
       "⎢                                             dr                          dr  \n",
       "⎢            0               ──────────────────────────  ─────────────────────\n",
       "⎢                                     2                               2       \n",
       "⎢                                    r ⋅tan(θ)                       r        \n",
       "⎢                                                                             \n",
       "⎢                 d                                                           \n",
       "⎢ 2⋅L⋅f(r)⋅cos(ψ)⋅──(Φ(r))                                                    \n",
       "⎢                 dr                                         -8⋅L⋅Φ(r)⋅cos(ψ) \n",
       "⎢ ────────────────────────               0                   ─────────────────\n",
       "⎢         2                                                           4       \n",
       "⎢        r ⋅tan(θ)                                                   r        \n",
       "⎢                                                                             \n",
       "⎢                 d                                                           \n",
       "⎢ 2⋅L⋅f(r)⋅sin(ψ)⋅──(Φ(r))                                                    \n",
       "⎢                 dr              8⋅L⋅Φ(r)⋅cos(ψ)                             \n",
       "⎢ ────────────────────────        ───────────────                    0        \n",
       "⎢             2                           4                                   \n",
       "⎢            r                           r                                    \n",
       "⎢                                                                             \n",
       "⎢                 d                                                           \n",
       "⎢-2⋅L⋅f(r)⋅cos(ψ)⋅──(Φ(r))                                                    \n",
       "⎢                 dr              8⋅L⋅Φ(r)⋅sin(ψ)                             \n",
       "⎢──────────────────────────       ───────────────                    0        \n",
       "⎢         2                           4                                       \n",
       "⎣        r ⋅sin(θ)                   r ⋅sin(θ)                                \n",
       "\n",
       "                       d       ⎤\n",
       "(r))   2⋅L⋅f(r)⋅cos(ψ)⋅──(Φ(r))⎥\n",
       "                       dr      ⎥\n",
       "─────  ────────────────────────⎥\n",
       "               2               ⎥\n",
       "              r ⋅sin(θ)        ⎥\n",
       "                               ⎥\n",
       "                               ⎥\n",
       "                               ⎥\n",
       "          -8⋅L⋅Φ(r)⋅sin(ψ)     ⎥\n",
       "          ─────────────────    ⎥\n",
       "               4               ⎥\n",
       "              r ⋅sin(θ)        ⎥\n",
       "                               ⎥\n",
       "                               ⎥\n",
       "                               ⎥\n",
       "                               ⎥\n",
       "                  0            ⎥\n",
       "                               ⎥\n",
       "                               ⎥\n",
       "                               ⎥\n",
       "                               ⎥\n",
       "                               ⎥\n",
       "                               ⎥\n",
       "                  0            ⎥\n",
       "                               ⎥\n",
       "                               ⎦"
      ]
     },
     "execution_count": 25,
     "metadata": {},
     "output_type": "execute_result"
    }
   ],
   "source": [
    "Fgg_tensor = TensorHead('Fgg', [Euclidean] * 6)\n",
    "Fgg_matrix = sympy.tensorproduct(F_1, metric_inv, metric_inv)\n",
    "repl = {Fgg_tensor(-i0, -i1, i2, i3, i4, i5): Fgg_matrix}\n",
    "F_upper_indices = Fgg_tensor(-i0, -i1, i0, i2, i1, i3).replace_with_arrays(repl)\n",
    "F_upper_indices = sympy.simplify(F_upper_indices)\n",
    "F_upper_indices"
   ]
  },
  {
   "cell_type": "markdown",
   "id": "339f2844",
   "metadata": {},
   "source": [
    "Compute partial derivative of field strength."
   ]
  },
  {
   "cell_type": "code",
   "execution_count": 26,
   "id": "8a73d478",
   "metadata": {},
   "outputs": [],
   "source": [
    "partial_F = sympy.MutableDenseNDimArray.zeros(4, 4, 4)\n",
    "for i in range(4):\n",
    "    for j in range(4):\n",
    "        for k in range(4):\n",
    "            partial_F[i, j, k] = sympy.diff(F_upper_indices[j, k], x[i]) "
   ]
  },
  {
   "cell_type": "code",
   "execution_count": 27,
   "id": "fdb0973e",
   "metadata": {},
   "outputs": [],
   "source": [
    "partial_F_tensor = TensorHead('partialF', [Euclidean] * 3)\n",
    "repl = {partial_F_tensor(-i0, i1, i2): partial_F}\n",
    "partial_F_contracted = partial_F_tensor(-i0, i0, i1).replace_with_arrays(repl)"
   ]
  },
  {
   "cell_type": "markdown",
   "id": "edcac46d",
   "metadata": {},
   "source": [
    "Add contractions with Christoffel symbols."
   ]
  },
  {
   "cell_type": "code",
   "execution_count": 28,
   "id": "96e4a4bb",
   "metadata": {},
   "outputs": [
    {
     "data": {
      "text/latex": [
       "$\\displaystyle \\left[\\begin{matrix}0 & - \\frac{L \\left(2 r^{2} f{\\left(r \\right)} \\frac{d^{2}}{d r^{2}} \\Phi{\\left(r \\right)} + r^{2} \\frac{d}{d r} \\Phi{\\left(r \\right)} \\frac{d}{d r} f{\\left(r \\right)} + 2 r f{\\left(r \\right)} \\frac{d}{d r} \\Phi{\\left(r \\right)} - 8 \\Phi{\\left(r \\right)}\\right) \\cos{\\left(\\psi \\right)}}{r^{4} \\tan{\\left(\\theta \\right)}} & \\frac{L \\left(- r^{2} \\cdot \\left(2 f{\\left(r \\right)} \\frac{d^{2}}{d r^{2}} \\Phi{\\left(r \\right)} + \\frac{d}{d r} \\Phi{\\left(r \\right)} \\frac{d}{d r} f{\\left(r \\right)}\\right) - 2 r f{\\left(r \\right)} \\frac{d}{d r} \\Phi{\\left(r \\right)} + 8 \\Phi{\\left(r \\right)}\\right) \\sin{\\left(\\psi \\right)}}{r^{4}} & \\frac{L \\left(r^{2} \\cdot \\left(2 f{\\left(r \\right)} \\frac{d^{2}}{d r^{2}} \\Phi{\\left(r \\right)} + \\frac{d}{d r} \\Phi{\\left(r \\right)} \\frac{d}{d r} f{\\left(r \\right)}\\right) + 2 r f{\\left(r \\right)} \\frac{d}{d r} \\Phi{\\left(r \\right)} - 8 \\Phi{\\left(r \\right)}\\right) \\cos{\\left(\\psi \\right)}}{r^{4} \\sin{\\left(\\theta \\right)}}\\end{matrix}\\right]$"
      ],
      "text/plain": [
       "⎡      ⎛            2                                                         \n",
       "⎢      ⎜   2       d           2 d        d                   d               \n",
       "⎢   -L⋅⎜2⋅r ⋅f(r)⋅───(Φ(r)) + r ⋅──(Φ(r))⋅──(f(r)) + 2⋅r⋅f(r)⋅──(Φ(r)) - 8⋅Φ(r\n",
       "⎢      ⎜            2            dr       dr                  dr              \n",
       "⎢      ⎝          dr                                                          \n",
       "⎢0  ──────────────────────────────────────────────────────────────────────────\n",
       "⎢                                         4                                   \n",
       "⎣                                        r ⋅tan(θ)                            \n",
       "\n",
       " ⎞            ⎛     ⎛         2                          ⎞                    \n",
       " ⎟            ⎜   2 ⎜        d          d        d       ⎟            d       \n",
       ")⎟⋅cos(ψ)   L⋅⎜- r ⋅⎜2⋅f(r)⋅───(Φ(r)) + ──(Φ(r))⋅──(f(r))⎟ - 2⋅r⋅f(r)⋅──(Φ(r))\n",
       " ⎟            ⎜     ⎜         2         dr       dr      ⎟            dr      \n",
       " ⎠            ⎝     ⎝       dr                           ⎠                    \n",
       "──────────  ──────────────────────────────────────────────────────────────────\n",
       "                                                      4                       \n",
       "                                                     r                        \n",
       "\n",
       "         ⎞           ⎛   ⎛         2                          ⎞               \n",
       "         ⎟           ⎜ 2 ⎜        d          d        d       ⎟            d  \n",
       " + 8⋅Φ(r)⎟⋅sin(ψ)  L⋅⎜r ⋅⎜2⋅f(r)⋅───(Φ(r)) + ──(Φ(r))⋅──(f(r))⎟ + 2⋅r⋅f(r)⋅──(\n",
       "         ⎟           ⎜   ⎜         2         dr       dr      ⎟            dr \n",
       "         ⎠           ⎝   ⎝       dr                           ⎠               \n",
       "─────────────────  ───────────────────────────────────────────────────────────\n",
       "                                                        4                     \n",
       "                                                       r ⋅sin(θ)              \n",
       "\n",
       "              ⎞       ⎤\n",
       "              ⎟       ⎥\n",
       "Φ(r)) - 8⋅Φ(r)⎟⋅cos(ψ)⎥\n",
       "              ⎟       ⎥\n",
       "              ⎠       ⎥\n",
       "──────────────────────⎥\n",
       "                      ⎥\n",
       "                      ⎦"
      ]
     },
     "execution_count": 28,
     "metadata": {},
     "output_type": "execute_result"
    }
   ],
   "source": [
    "lambda_F_tensor = TensorHead('lambdaF', [Euclidean] * 5)\n",
    "lambda_F_matrix = sympy.tensorproduct(ch, F_upper_indices)\n",
    "repl = {lambda_F_tensor(i0, -i1, -i2, i3, i4): lambda_F_matrix}\n",
    "partial_F_contracted += lambda_F_tensor(i0, -i0, -i1, i1, i2).replace_with_arrays(repl)\n",
    "partial_F_contracted += lambda_F_tensor(i0, -i1, -i2, i1, i2).replace_with_arrays(repl)\n",
    "partial_F_contracted = sympy.simplify(partial_F_contracted)\n",
    "partial_F_contracted"
   ]
  },
  {
   "cell_type": "code",
   "execution_count": 29,
   "id": "79adf93d",
   "metadata": {},
   "outputs": [
    {
     "data": {
      "image/png": "[encoded data removed]",
      "text/latex": [
       "$\\displaystyle - \\frac{L \\left(2 r^{2} f{\\left(r \\right)} \\frac{d^{2}}{d r^{2}} \\Phi{\\left(r \\right)} + r^{2} \\frac{d}{d r} \\Phi{\\left(r \\right)} \\frac{d}{d r} f{\\left(r \\right)} + 2 r f{\\left(r \\right)} \\frac{d}{d r} \\Phi{\\left(r \\right)} - 8 \\Phi{\\left(r \\right)}\\right) \\cos{\\left(\\psi \\right)}}{r^{4} \\tan{\\left(\\theta \\right)}}$"
      ],
      "text/plain": [
       "   ⎛            2                                                          ⎞  \n",
       "   ⎜   2       d           2 d        d                   d                ⎟  \n",
       "-L⋅⎜2⋅r ⋅f(r)⋅───(Φ(r)) + r ⋅──(Φ(r))⋅──(f(r)) + 2⋅r⋅f(r)⋅──(Φ(r)) - 8⋅Φ(r)⎟⋅c\n",
       "   ⎜            2            dr       dr                  dr               ⎟  \n",
       "   ⎝          dr                                                           ⎠  \n",
       "──────────────────────────────────────────────────────────────────────────────\n",
       "                                      4                                       \n",
       "                                     r ⋅tan(θ)                                \n",
       "\n",
       "      \n",
       "      \n",
       "os(ψ) \n",
       "      \n",
       "      \n",
       "──────\n",
       "      \n",
       "      "
      ]
     },
     "execution_count": 29,
     "metadata": {},
     "output_type": "execute_result"
    }
   ],
   "source": [
    "partial_F_contracted[1]"
   ]
  },
  {
   "cell_type": "markdown",
   "id": "9d0cfc1b",
   "metadata": {},
   "source": [
    "Evaluate solution."
   ]
  },
  {
   "cell_type": "code",
   "execution_count": 30,
   "id": "b5999045",
   "metadata": {},
   "outputs": [],
   "source": [
    "ddphiddr = sympy.diff(dphidr, r).simplify()\n",
    "dfdr = sympy.diff(f_sol, r)"
   ]
  },
  {
   "cell_type": "code",
   "execution_count": 31,
   "id": "d78e8cb8",
   "metadata": {},
   "outputs": [
    {
     "data": {
      "image/png": "[encoded data removed]",
      "text/latex": [
       "$\\displaystyle 0$"
      ],
      "text/plain": [
       "0"
      ]
     },
     "execution_count": 31,
     "metadata": {},
     "output_type": "execute_result"
    }
   ],
   "source": [
    "dF = 2 * r ** 2 * f_sol * ddphiddr + r ** 2 * dphidr * dfdr + 2 * r * f_sol * dphidr - 8 * phi_sol\n",
    "dF.simplify()"
   ]
  },
  {
   "cell_type": "markdown",
   "id": "f29d9bfb",
   "metadata": {},
   "source": [
    "### On-Shell Action"
   ]
  },
  {
   "cell_type": "markdown",
   "id": "9052e470",
   "metadata": {},
   "source": [
    "To compute the on-shell action, you need to compute the metric determinant and the Ricci scalar."
   ]
  },
  {
   "cell_type": "code",
   "execution_count": 32,
   "id": "364ff01f",
   "metadata": {},
   "outputs": [
    {
     "data": {
      "image/png": "[encoded data removed]",
      "text/latex": [
       "$\\displaystyle \\frac{L^{2} r^{6} \\sin^{2}{\\left(\\theta \\right)}}{64 \\left(L^{2} + r^{2}\\right)}$"
      ],
      "text/plain": [
       " 2  6    2   \n",
       "L ⋅r ⋅sin (θ)\n",
       "─────────────\n",
       "    ⎛ 2    2⎞\n",
       " 64⋅⎝L  + r ⎠"
      ]
     },
     "execution_count": 32,
     "metadata": {},
     "output_type": "execute_result"
    }
   ],
   "source": [
    "det_g = sympy.Matrix(sch.tensor()).det().simplify()\n",
    "det_g = det_g.subs({f: f_sol}).simplify()\n",
    "det_g"
   ]
  },
  {
   "cell_type": "code",
   "execution_count": 33,
   "id": "221d9db5",
   "metadata": {},
   "outputs": [
    {
     "data": {
      "image/png": "[encoded data removed]",
      "text/latex": [
       "$\\displaystyle \\frac{3 \\left(- r \\frac{d}{d r} f{\\left(r \\right)} - 2 f{\\left(r \\right)} + 2\\right)}{r^{2}}$"
      ],
      "text/plain": [
       "  ⎛    d                    ⎞\n",
       "3⋅⎜- r⋅──(f(r)) - 2⋅f(r) + 2⎟\n",
       "  ⎝    dr                   ⎠\n",
       "─────────────────────────────\n",
       "               2             \n",
       "              r              "
      ]
     },
     "execution_count": 33,
     "metadata": {},
     "output_type": "execute_result"
    }
   ],
   "source": [
    "R = RicciScalar.from_riccitensor(Ric)\n",
    "R.simplify()\n",
    "R.expr"
   ]
  },
  {
   "cell_type": "code",
   "execution_count": 34,
   "id": "a37c182b",
   "metadata": {},
   "outputs": [
    {
     "data": {
      "image/png": "[encoded data removed]",
      "text/latex": [
       "$\\displaystyle - \\frac{12}{L^{2}}$"
      ],
      "text/plain": [
       "-12 \n",
       "────\n",
       "  2 \n",
       " L  "
      ]
     },
     "execution_count": 34,
     "metadata": {},
     "output_type": "execute_result"
    }
   ],
   "source": [
    "R.expr.subs({f: 1 + r ** 2 / L ** 2}).simplify()"
   ]
  },
  {
   "cell_type": "markdown",
   "id": "9831d30f",
   "metadata": {},
   "source": [
    "The contribution from the Maxwell fields is the following."
   ]
  },
  {
   "cell_type": "code",
   "execution_count": 35,
   "id": "bf4ee24a",
   "metadata": {},
   "outputs": [
    {
     "data": {
      "image/png": "[encoded data removed]",
      "text/latex": [
       "$\\displaystyle \\frac{6 L^{2} \\left(r^{2} f{\\left(r \\right)} \\left(\\frac{d}{d r} \\Phi{\\left(r \\right)}\\right)^{2} + 4 \\Phi^{2}{\\left(r \\right)}\\right)}{r^{4}}$"
      ],
      "text/plain": [
       "     ⎛                  2          ⎞\n",
       "   2 ⎜ 2      ⎛d       ⎞       2   ⎟\n",
       "6⋅L ⋅⎜r ⋅f(r)⋅⎜──(Φ(r))⎟  + 4⋅Φ (r)⎟\n",
       "     ⎝        ⎝dr      ⎠           ⎠\n",
       "────────────────────────────────────\n",
       "                  4                 \n",
       "                 r                  "
      ]
     },
     "execution_count": 35,
     "metadata": {},
     "output_type": "execute_result"
    }
   ],
   "source": [
    "T_contracted_2"
   ]
  },
  {
   "cell_type": "code",
   "execution_count": 36,
   "id": "2a31a0cd",
   "metadata": {},
   "outputs": [
    {
     "data": {
      "image/png": "[encoded data removed]",
      "text/latex": [
       "$\\displaystyle \\frac{24 L^{2} \\Phi_{0}^{2} \\left(r^{4} + \\left(L - \\sqrt{L^{2} + r^{2}}\\right)^{2} \\left(L + \\sqrt{L^{2} + r^{2}}\\right)^{2}\\right)}{r^{4} \\left(L + \\sqrt{L^{2} + r^{2}}\\right)^{4}}$"
      ],
      "text/plain": [
       "          ⎛                       2                   2⎞\n",
       "          ⎜     ⎛       _________⎞  ⎛       _________⎞ ⎟\n",
       "    2   2 ⎜ 4   ⎜      ╱  2    2 ⎟  ⎜      ╱  2    2 ⎟ ⎟\n",
       "24⋅L ⋅Φ₀ ⋅⎝r  + ⎝L - ╲╱  L  + r  ⎠ ⋅⎝L + ╲╱  L  + r  ⎠ ⎠\n",
       "────────────────────────────────────────────────────────\n",
       "                                      4                 \n",
       "                    ⎛       _________⎞                  \n",
       "                  4 ⎜      ╱  2    2 ⎟                  \n",
       "                 r ⋅⎝L + ╲╱  L  + r  ⎠                  "
      ]
     },
     "execution_count": 36,
     "metadata": {},
     "output_type": "execute_result"
    }
   ],
   "source": [
    "T_contracted_simp = sympy.simplify(6 * L ** 2 * ((dphidr ** 2) * f_sol * r ** 2 + 4 * phi_sol ** 2) / r ** 4)\n",
    "T_contracted_simp"
   ]
  },
  {
   "cell_type": "markdown",
   "id": "699d966b",
   "metadata": {},
   "source": [
    "Therefore, the Langrangian becomes:"
   ]
  },
  {
   "cell_type": "code",
   "execution_count": 37,
   "id": "7373d3b8",
   "metadata": {},
   "outputs": [
    {
     "data": {
      "image/png": "[encoded data removed]",
      "text/latex": [
       "$\\displaystyle - \\frac{48 \\Phi_{0}^{2}}{L^{2} \\left(\\sqrt{1 + \\frac{r^{2}}{L^{2}}} + 1\\right)^{4}} - \\frac{6}{L^{2}}$"
      ],
      "text/plain": [
       "                2              \n",
       "           48⋅Φ₀             6 \n",
       "- ──────────────────────── - ──\n",
       "                         4    2\n",
       "     ⎛      ________    ⎞    L \n",
       "     ⎜     ╱      2     ⎟      \n",
       "   2 ⎜    ╱      r      ⎟      \n",
       "  L ⋅⎜   ╱   1 + ──  + 1⎟      \n",
       "     ⎜  ╱         2     ⎟      \n",
       "     ⎝╲╱         L      ⎠      "
      ]
     },
     "execution_count": 37,
     "metadata": {},
     "output_type": "execute_result"
    }
   ],
   "source": [
    "lagrangian = -12 / L ** 2 + 6 / L ** 2 - (48 * Phi_0 ** 2) / (L ** 2 * (1 + sympy.sqrt(1 + r ** 2 / L ** 2)) ** 4)\n",
    "lagrangian"
   ]
  },
  {
   "cell_type": "code",
   "execution_count": 38,
   "id": "1f12d42d",
   "metadata": {},
   "outputs": [
    {
     "data": {
      "image/png": "[encoded data removed]",
      "text/latex": [
       "$\\displaystyle \\frac{\\sqrt{\\frac{L^{2} r^{6} \\sin^{2}{\\left(\\theta \\right)}}{L^{2} + r^{2}}} \\left(- \\frac{48 \\Phi_{0}^{2}}{L^{2} \\left(\\sqrt{1 + \\frac{r^{2}}{L^{2}}} + 1\\right)^{4}} - \\frac{6}{L^{2}}\\right)}{8}$"
      ],
      "text/plain": [
       "      _______________                                  \n",
       "     ╱  2  6    2     ⎛                2              ⎞\n",
       "    ╱  L ⋅r ⋅sin (θ)  ⎜           48⋅Φ₀             6 ⎟\n",
       "   ╱   ───────────── ⋅⎜- ──────────────────────── - ──⎟\n",
       "  ╱        2    2     ⎜                         4    2⎟\n",
       "╲╱        L  + r      ⎜     ⎛      ________    ⎞    L ⎟\n",
       "                      ⎜     ⎜     ╱      2     ⎟      ⎟\n",
       "                      ⎜   2 ⎜    ╱      r      ⎟      ⎟\n",
       "                      ⎜  L ⋅⎜   ╱   1 + ──  + 1⎟      ⎟\n",
       "                      ⎜     ⎜  ╱         2     ⎟      ⎟\n",
       "                      ⎝     ⎝╲╱         L      ⎠      ⎠\n",
       "───────────────────────────────────────────────────────\n",
       "                           8                           "
      ]
     },
     "execution_count": 38,
     "metadata": {},
     "output_type": "execute_result"
    }
   ],
   "source": [
    "integrand = sympy.sqrt(det_g) * lagrangian\n",
    "integrand"
   ]
  },
  {
   "cell_type": "markdown",
   "id": "5557f5f4",
   "metadata": {},
   "source": [
    "The first term evaluates to:"
   ]
  },
  {
   "cell_type": "code",
   "execution_count": 39,
   "id": "162d88bf",
   "metadata": {},
   "outputs": [],
   "source": [
    "angular_part = 2 * (4 * sympy.pi) * (2 * sympy.pi)"
   ]
  },
  {
   "cell_type": "code",
   "execution_count": 40,
   "id": "8626528c",
   "metadata": {},
   "outputs": [
    {
     "data": {
      "text/latex": [
       "$\\displaystyle \\begin{cases} \\frac{L^{3}}{4} & \\text{for}\\: \\left|{\\arg{\\left(L \\right)}}\\right| < \\frac{\\pi}{2} \\\\\\int\\limits_{0}^{\\infty} \\frac{r^{3}}{\\sqrt{L^{2} + r^{2}} \\left(\\sqrt{1 + \\frac{r^{2}}{L^{2}}} + 1\\right)^{4}}\\, dr & \\text{otherwise} \\end{cases}$"
      ],
      "text/plain": [
       "⎧                   3                                     \n",
       "⎪                  L                                     π\n",
       "⎪                  ──                     for │arg(L)│ < ─\n",
       "⎪                  4                                     2\n",
       "⎪                                                         \n",
       "⎪∞                                                        \n",
       "⎪⌠                                                        \n",
       "⎪⎮                  3                                     \n",
       "⎪⎮                 r                                      \n",
       "⎨⎮ ────────────────────────────────── dr     otherwise    \n",
       "⎪⎮                                  4                     \n",
       "⎪⎮              ⎛      ________    ⎞                      \n",
       "⎪⎮    _________ ⎜     ╱      2     ⎟                      \n",
       "⎪⎮   ╱  2    2  ⎜    ╱      r      ⎟                      \n",
       "⎪⎮ ╲╱  L  + r  ⋅⎜   ╱   1 + ──  + 1⎟                      \n",
       "⎪⎮              ⎜  ╱         2     ⎟                      \n",
       "⎪⎮              ⎝╲╱         L      ⎠                      \n",
       "⎪⌡                                                        \n",
       "⎩0                                                        "
      ]
     },
     "execution_count": 40,
     "metadata": {},
     "output_type": "execute_result"
    }
   ],
   "source": [
    "func = r ** 3 / (sympy.sqrt(L ** 2 + r ** 2) * (1 + sympy.sqrt(1 + r ** 2 / L ** 2)) ** 4)\n",
    "sympy.integrate(func, (r, 0, sympy.oo))"
   ]
  },
  {
   "cell_type": "code",
   "execution_count": 41,
   "id": "486209fc",
   "metadata": {},
   "outputs": [
    {
     "data": {
      "image/png": "[encoded data removed]",
      "text/latex": [
       "$\\displaystyle 24 \\pi^{2} L^{2} \\Phi_{0}^{2}$"
      ],
      "text/plain": [
       "    2  2   2\n",
       "24⋅π ⋅L ⋅Φ₀ "
      ]
     },
     "execution_count": 41,
     "metadata": {},
     "output_type": "execute_result"
    }
   ],
   "source": [
    "first_term = angular_part * 48 * Phi_0 ** 2 / (8 * L)\n",
    "first_term *= L ** 3 / 4\n",
    "first_term"
   ]
  },
  {
   "cell_type": "markdown",
   "id": "9a5b5102",
   "metadata": {},
   "source": [
    "The second term evaluates to:"
   ]
  },
  {
   "cell_type": "code",
   "execution_count": 42,
   "id": "c3578a82",
   "metadata": {},
   "outputs": [
    {
     "data": {
      "image/png": "[encoded data removed]",
      "text/latex": [
       "$\\displaystyle \\frac{2 L^{2} \\sqrt{L^{2}}}{3} + \\infty$"
      ],
      "text/plain": [
       "        ____    \n",
       "   2   ╱  2     \n",
       "2⋅L ⋅╲╱  L      \n",
       "──────────── + ∞\n",
       "     3          "
      ]
     },
     "execution_count": 42,
     "metadata": {},
     "output_type": "execute_result"
    }
   ],
   "source": [
    "func = r ** 3 / sympy.sqrt(L ** 2 + r ** 2)\n",
    "sympy.integrate(func, (r, 0, sympy.oo))"
   ]
  },
  {
   "cell_type": "code",
   "execution_count": 43,
   "id": "ad6d0b62",
   "metadata": {},
   "outputs": [
    {
     "data": {
      "image/png": "[encoded data removed]",
      "text/latex": [
       "$\\displaystyle 8 \\pi^{2} L^{2}$"
      ],
      "text/plain": [
       "   2  2\n",
       "8⋅π ⋅L "
      ]
     },
     "execution_count": 43,
     "metadata": {},
     "output_type": "execute_result"
    }
   ],
   "source": [
    "second_term = angular_part * 6 / (8 * L)\n",
    "second_term *= 2 * L ** 3 / 3\n",
    "second_term"
   ]
  },
  {
   "cell_type": "code",
   "execution_count": 44,
   "id": "47877d01",
   "metadata": {},
   "outputs": [
    {
     "data": {
      "image/png": "[encoded data removed]",
      "text/latex": [
       "$\\displaystyle \\pi^{2} L^{2} \\cdot \\left(24 \\Phi_{0}^{2} + 8\\right)$"
      ],
      "text/plain": [
       " 2  2 ⎛     2    ⎞\n",
       "π ⋅L ⋅⎝24⋅Φ₀  + 8⎠"
      ]
     },
     "execution_count": 44,
     "metadata": {},
     "output_type": "execute_result"
    }
   ],
   "source": [
    "on_shell_action = (first_term + second_term).simplify()\n",
    "on_shell_action"
   ]
  },
  {
   "cell_type": "markdown",
   "id": "5e6f78e1",
   "metadata": {},
   "source": [
    "This agrees with Equation (4.14) from the paper."
   ]
  }
 ],
 "metadata": {
  "kernelspec": {
   "display_name": "Python 3.10.3 ('env': venv)",
   "language": "python",
   "name": "python3"
  },
  "language_info": {
   "codemirror_mode": {
    "name": "ipython",
    "version": 3
   },
   "file_extension": ".py",
   "mimetype": "text/x-python",
   "name": "python",
   "nbconvert_exporter": "python",
   "pygments_lexer": "ipython3",
   "version": "3.10.3"
  },
  "vscode": {
   "interpreter": {
    "hash": "c4cf3c24cb46a3fd1f6949e64220e8351ad1410e125a86590159f01143d71e6f"
   }
  }
 },
 "nbformat": 4,
 "nbformat_minor": 5
}
