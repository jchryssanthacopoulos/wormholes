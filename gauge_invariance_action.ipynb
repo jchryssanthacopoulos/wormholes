{
 "cells": [
  {
   "cell_type": "markdown",
   "id": "4dfd0677",
   "metadata": {},
   "source": [
    "### Demonstration of Gauge Invariance of Action\n",
    "\n",
    "The purpose of this notebook is to demonstrate the gauge invariance of the action, allow the choice dg = 0 to be made."
   ]
  },
  {
   "cell_type": "code",
   "execution_count": 175,
   "id": "53212a51",
   "metadata": {},
   "outputs": [],
   "source": [
    "import sympy\n",
    "\n",
    "sympy.init_printing()"
   ]
  },
  {
   "cell_type": "code",
   "execution_count": 176,
   "id": "ea7f3bde",
   "metadata": {},
   "outputs": [],
   "source": [
    "syms = sympy.symbols(\"r psi theta phi\")\n",
    "r, psi, theta, phi = syms"
   ]
  },
  {
   "cell_type": "code",
   "execution_count": 177,
   "id": "0eef2428",
   "metadata": {},
   "outputs": [],
   "source": [
    "L = sympy.symbols(\"L\")  # AdS length scale\n",
    "r_0 = sympy.symbols(\"r_0\")"
   ]
  },
  {
   "cell_type": "code",
   "execution_count": 178,
   "id": "afef8747",
   "metadata": {},
   "outputs": [],
   "source": [
    "# spherical part of the metric\n",
    "g = sympy.Function('g')(r)\n",
    "dg = sympy.diff(g, r)\n",
    "ddg = sympy.diff(dg, r)\n",
    "\n",
    "# solution\n",
    "g_sol = r ** 2 + r_0 ** 2\n",
    "dg_sol = sympy.diff(g_sol, r)\n",
    "ddg_sol = sympy.diff(dg_sol, r)"
   ]
  },
  {
   "cell_type": "code",
   "execution_count": 179,
   "id": "02595e92",
   "metadata": {},
   "outputs": [],
   "source": [
    "# radial part of the metric\n",
    "f = sympy.Function('f')(r)\n",
    "df = sympy.diff(f, r)\n",
    "\n",
    "# solution\n",
    "f_sol = (L ** 2 + r ** 2 + 2 * r_0 ** 2) / L ** 2\n",
    "df_sol = sympy.diff(f_sol, r)"
   ]
  },
  {
   "cell_type": "code",
   "execution_count": 180,
   "id": "84adcdad",
   "metadata": {},
   "outputs": [],
   "source": [
    "# gauge field\n",
    "Phi = sympy.Function('Phi')(r)\n",
    "dPhi = sympy.diff(Phi, r)\n",
    "ddPhi = sympy.diff(dPhi, r)\n",
    "\n",
    "ddPhi_sol = (8 * Phi - dPhi * df * g - dPhi * dg * f) / (2 * f * g)"
   ]
  },
  {
   "cell_type": "code",
   "execution_count": 181,
   "id": "2fb93a53",
   "metadata": {},
   "outputs": [],
   "source": [
    "delta_f = sympy.Function('delta_f')(r)\n",
    "ddelta_f = sympy.diff(delta_f, r)"
   ]
  },
  {
   "cell_type": "code",
   "execution_count": 182,
   "id": "7029978f",
   "metadata": {},
   "outputs": [],
   "source": [
    "delta_g = sympy.Function('delta_g')(r)\n",
    "ddelta_g = sympy.diff(delta_g, r)\n",
    "dddelta_g = sympy.diff(ddelta_g, r)"
   ]
  },
  {
   "cell_type": "code",
   "execution_count": 183,
   "id": "12493e35",
   "metadata": {},
   "outputs": [],
   "source": [
    "delta_Phi = sympy.Function('delta_Phi')(r)\n",
    "ddelta_Phi = sympy.diff(delta_Phi, r)"
   ]
  },
  {
   "cell_type": "markdown",
   "id": "e5fa9bbc",
   "metadata": {},
   "source": [
    "### Lie derivatives"
   ]
  },
  {
   "cell_type": "code",
   "execution_count": 184,
   "id": "9bebca30",
   "metadata": {},
   "outputs": [
    {
     "data": {
      "image/png": "[encoded data removed]",
      "text/latex": [
       "$\\displaystyle \\left( \\xi{\\left(r \\right)}, \\  \\frac{d}{d r} \\xi{\\left(r \\right)}\\right)$"
      ],
      "text/plain": [
       "⎛      d       ⎞\n",
       "⎜ξ(r), ──(ξ(r))⎟\n",
       "⎝      dr      ⎠"
      ]
     },
     "execution_count": 184,
     "metadata": {},
     "output_type": "execute_result"
    }
   ],
   "source": [
    "xi = sympy.Function('xi')(r)\n",
    "dxi = sympy.diff(xi, r)\n",
    "xi, dxi"
   ]
  },
  {
   "cell_type": "code",
   "execution_count": 185,
   "id": "d19b1fb2",
   "metadata": {},
   "outputs": [
    {
     "data": {
      "image/png": "[encoded data removed]",
      "text/latex": [
       "$\\displaystyle - 2 f{\\left(r \\right)} \\frac{d}{d r} \\xi{\\left(r \\right)} + \\xi{\\left(r \\right)} \\frac{d}{d r} f{\\left(r \\right)}$"
      ],
      "text/plain": [
       "         d               d       \n",
       "- 2⋅f(r)⋅──(ξ(r)) + ξ(r)⋅──(f(r))\n",
       "         dr              dr      "
      ]
     },
     "execution_count": 185,
     "metadata": {},
     "output_type": "execute_result"
    }
   ],
   "source": [
    "dlie_delta_f = xi * df - 2 * f * dxi\n",
    "dlie_delta_f"
   ]
  },
  {
   "cell_type": "code",
   "execution_count": 186,
   "id": "94cd34b5",
   "metadata": {},
   "outputs": [
    {
     "data": {
      "image/png": "[encoded data removed]",
      "text/latex": [
       "$\\displaystyle - 2 f{\\left(r \\right)} \\frac{d^{2}}{d r^{2}} \\xi{\\left(r \\right)} + \\xi{\\left(r \\right)} \\frac{d^{2}}{d r^{2}} f{\\left(r \\right)} - \\frac{d}{d r} f{\\left(r \\right)} \\frac{d}{d r} \\xi{\\left(r \\right)}$"
      ],
      "text/plain": [
       "           2                2                          \n",
       "          d                d          d        d       \n",
       "- 2⋅f(r)⋅───(ξ(r)) + ξ(r)⋅───(f(r)) - ──(f(r))⋅──(ξ(r))\n",
       "           2                2         dr       dr      \n",
       "         dr               dr                           "
      ]
     },
     "execution_count": 186,
     "metadata": {},
     "output_type": "execute_result"
    }
   ],
   "source": [
    "dlie_ddelta_f = sympy.diff(dlie_delta_f)\n",
    "dlie_ddelta_f"
   ]
  },
  {
   "cell_type": "code",
   "execution_count": 187,
   "id": "c535493b",
   "metadata": {},
   "outputs": [
    {
     "data": {
      "image/png": "[encoded data removed]",
      "text/latex": [
       "$\\displaystyle \\xi{\\left(r \\right)} \\frac{d}{d r} g{\\left(r \\right)}$"
      ],
      "text/plain": [
       "     d       \n",
       "ξ(r)⋅──(g(r))\n",
       "     dr      "
      ]
     },
     "execution_count": 187,
     "metadata": {},
     "output_type": "execute_result"
    }
   ],
   "source": [
    "dlie_delta_g = dg * xi\n",
    "dlie_delta_g"
   ]
  },
  {
   "cell_type": "code",
   "execution_count": 188,
   "id": "ab04f330",
   "metadata": {},
   "outputs": [
    {
     "data": {
      "image/png": "[encoded data removed]",
      "text/latex": [
       "$\\displaystyle \\xi{\\left(r \\right)} \\frac{d^{2}}{d r^{2}} g{\\left(r \\right)} + \\frac{d}{d r} g{\\left(r \\right)} \\frac{d}{d r} \\xi{\\left(r \\right)}$"
      ],
      "text/plain": [
       "       2                          \n",
       "      d          d        d       \n",
       "ξ(r)⋅───(g(r)) + ──(g(r))⋅──(ξ(r))\n",
       "       2         dr       dr      \n",
       "     dr                           "
      ]
     },
     "execution_count": 188,
     "metadata": {},
     "output_type": "execute_result"
    }
   ],
   "source": [
    "dlie_ddelta_g = sympy.diff(dlie_delta_g)\n",
    "dlie_ddelta_g"
   ]
  },
  {
   "cell_type": "code",
   "execution_count": 189,
   "id": "8edf02f9",
   "metadata": {},
   "outputs": [
    {
     "data": {
      "image/png": "[encoded data removed]",
      "text/latex": [
       "$\\displaystyle \\xi{\\left(r \\right)} \\frac{d}{d r} \\Phi{\\left(r \\right)}$"
      ],
      "text/plain": [
       "     d       \n",
       "ξ(r)⋅──(Φ(r))\n",
       "     dr      "
      ]
     },
     "execution_count": 189,
     "metadata": {},
     "output_type": "execute_result"
    }
   ],
   "source": [
    "dlie_delta_Phi = xi * dPhi\n",
    "dlie_delta_Phi"
   ]
  },
  {
   "cell_type": "code",
   "execution_count": 190,
   "id": "22b70faa",
   "metadata": {},
   "outputs": [
    {
     "data": {
      "image/png": "[encoded data removed]",
      "text/latex": [
       "$\\displaystyle \\xi{\\left(r \\right)} \\frac{d^{2}}{d r^{2}} \\Phi{\\left(r \\right)} + \\frac{d}{d r} \\Phi{\\left(r \\right)} \\frac{d}{d r} \\xi{\\left(r \\right)}$"
      ],
      "text/plain": [
       "       2                          \n",
       "      d          d        d       \n",
       "ξ(r)⋅───(Φ(r)) + ──(Φ(r))⋅──(ξ(r))\n",
       "       2         dr       dr      \n",
       "     dr                           "
      ]
     },
     "execution_count": 190,
     "metadata": {},
     "output_type": "execute_result"
    }
   ],
   "source": [
    "dlie_ddelta_Phi = dxi * dPhi + xi * ddPhi\n",
    "dlie_ddelta_Phi"
   ]
  },
  {
   "cell_type": "markdown",
   "id": "18492ac2",
   "metadata": {},
   "source": [
    "Substitute the expression for Phi\"."
   ]
  },
  {
   "cell_type": "code",
   "execution_count": 191,
   "id": "0cb1e012",
   "metadata": {},
   "outputs": [
    {
     "data": {
      "image/png": "[encoded data removed]",
      "text/latex": [
       "$\\displaystyle \\frac{\\left(8 \\Phi{\\left(r \\right)} - f{\\left(r \\right)} \\frac{d}{d r} \\Phi{\\left(r \\right)} \\frac{d}{d r} g{\\left(r \\right)} - g{\\left(r \\right)} \\frac{d}{d r} \\Phi{\\left(r \\right)} \\frac{d}{d r} f{\\left(r \\right)}\\right) \\xi{\\left(r \\right)}}{2 f{\\left(r \\right)} g{\\left(r \\right)}} + \\frac{d}{d r} \\Phi{\\left(r \\right)} \\frac{d}{d r} \\xi{\\left(r \\right)}$"
      ],
      "text/plain": [
       "⎛              d        d               d        d       ⎞                    \n",
       "⎜8⋅Φ(r) - f(r)⋅──(Φ(r))⋅──(g(r)) - g(r)⋅──(Φ(r))⋅──(f(r))⎟⋅ξ(r)               \n",
       "⎝              dr       dr              dr       dr      ⎠        d        d  \n",
       "─────────────────────────────────────────────────────────────── + ──(Φ(r))⋅──(\n",
       "                          2⋅f(r)⋅g(r)                             dr       dr \n",
       "\n",
       "     \n",
       "     \n",
       "     \n",
       "ξ(r))\n",
       "     "
      ]
     },
     "execution_count": 191,
     "metadata": {},
     "output_type": "execute_result"
    }
   ],
   "source": [
    "dlie_ddelta_Phi = xi * ddPhi_sol + dPhi * dxi\n",
    "dlie_ddelta_Phi"
   ]
  },
  {
   "cell_type": "markdown",
   "id": "0df117c0",
   "metadata": {},
   "source": [
    "### q part of action"
   ]
  },
  {
   "cell_type": "markdown",
   "id": "9d88318c",
   "metadata": {},
   "source": [
    "Keep track of terms separately."
   ]
  },
  {
   "cell_type": "code",
   "execution_count": 192,
   "id": "bcedc45d",
   "metadata": {},
   "outputs": [],
   "source": [
    "delta_f_terms = []\n",
    "delta_g_terms = []\n",
    "ddelta_f_terms = []\n",
    "ddelta_g_terms = []\n",
    "delta_Phi_terms = []\n",
    "ddelta_Phi_terms = []"
   ]
  },
  {
   "cell_type": "markdown",
   "id": "d72c3dce",
   "metadata": {},
   "source": [
    "There are 7 terms."
   ]
  },
  {
   "cell_type": "markdown",
   "id": "2885efd2",
   "metadata": {},
   "source": [
    "##### Term 1"
   ]
  },
  {
   "cell_type": "code",
   "execution_count": 193,
   "id": "59c4740f",
   "metadata": {},
   "outputs": [
    {
     "data": {
      "image/png": "[encoded data removed]",
      "text/latex": [
       "$\\displaystyle \\frac{3 L^{2} \\sqrt{f{\\left(r \\right)} g{\\left(r \\right)}} \\left(\\frac{d}{d r} \\delta_{\\Phi}{\\left(r \\right)}\\right)^{2}}{4}$"
      ],
      "text/plain": [
       "                               2\n",
       "   2   ___________ ⎛d         ⎞ \n",
       "3⋅L ⋅╲╱ f(r)⋅g(r) ⋅⎜──(δ_Φ(r))⎟ \n",
       "                   ⎝dr        ⎠ \n",
       "────────────────────────────────\n",
       "               4                "
      ]
     },
     "execution_count": 193,
     "metadata": {},
     "output_type": "execute_result"
    }
   ],
   "source": [
    "term1 = 3 * L ** 2 * sympy.sqrt(f * g) * ddelta_Phi ** 2 / 4\n",
    "term1"
   ]
  },
  {
   "cell_type": "code",
   "execution_count": 194,
   "id": "6e19a3cc",
   "metadata": {},
   "outputs": [
    {
     "data": {
      "image/png": "[encoded data removed]",
      "text/latex": [
       "$\\displaystyle \\left[ \\frac{3 L^{2} \\sqrt{f{\\left(r \\right)} g{\\left(r \\right)}} \\left(- \\left(- 8 \\Phi{\\left(r \\right)} + f{\\left(r \\right)} \\frac{d}{d r} \\Phi{\\left(r \\right)} \\frac{d}{d r} g{\\left(r \\right)} + g{\\left(r \\right)} \\frac{d}{d r} \\Phi{\\left(r \\right)} \\frac{d}{d r} f{\\left(r \\right)}\\right) \\xi{\\left(r \\right)} + 2 f{\\left(r \\right)} g{\\left(r \\right)} \\frac{d}{d r} \\Phi{\\left(r \\right)} \\frac{d}{d r} \\xi{\\left(r \\right)}\\right)}{4 f{\\left(r \\right)} g{\\left(r \\right)}}\\right]$"
      ],
      "text/plain": [
       "⎡   2   ___________ ⎛  ⎛               d        d               d        d    \n",
       "⎢3⋅L ⋅╲╱ f(r)⋅g(r) ⋅⎜- ⎜-8⋅Φ(r) + f(r)⋅──(Φ(r))⋅──(g(r)) + g(r)⋅──(Φ(r))⋅──(f(\n",
       "⎢                   ⎝  ⎝               dr       dr              dr       dr   \n",
       "⎢─────────────────────────────────────────────────────────────────────────────\n",
       "⎣                                                      4⋅f(r)⋅g(r)            \n",
       "\n",
       "   ⎞                    d        d       ⎞⎤\n",
       "r))⎟⋅ξ(r) + 2⋅f(r)⋅g(r)⋅──(Φ(r))⋅──(ξ(r))⎟⎥\n",
       "   ⎠                    dr       dr      ⎠⎥\n",
       "──────────────────────────────────────────⎥\n",
       "                                          ⎦"
      ]
     },
     "execution_count": 194,
     "metadata": {},
     "output_type": "execute_result"
    }
   ],
   "source": [
    "ddelta_Phi_terms.append(sympy.simplify(3 * L ** 2 * sympy.sqrt(f * g) * 2 * dlie_ddelta_Phi / 4))\n",
    "ddelta_Phi_terms"
   ]
  },
  {
   "cell_type": "markdown",
   "id": "7cf17eda",
   "metadata": {},
   "source": [
    "##### Term 2"
   ]
  },
  {
   "cell_type": "code",
   "execution_count": 195,
   "id": "e5293914",
   "metadata": {},
   "outputs": [
    {
     "data": {
      "image/png": "[encoded data removed]",
      "text/latex": [
       "$\\displaystyle - \\frac{3 L^{2} \\Phi{\\left(r \\right)} \\delta_{\\Phi}{\\left(r \\right)} \\delta_{g}{\\left(r \\right)}}{\\sqrt{f{\\left(r \\right)} g{\\left(r \\right)}} g{\\left(r \\right)}}$"
      ],
      "text/plain": [
       "    2                    \n",
       "-3⋅L ⋅Φ(r)⋅δ_Φ(r)⋅δ_g(r) \n",
       "─────────────────────────\n",
       "      ___________        \n",
       "    ╲╱ f(r)⋅g(r) ⋅g(r)   "
      ]
     },
     "execution_count": 195,
     "metadata": {},
     "output_type": "execute_result"
    }
   ],
   "source": [
    "term2 = -3 * L ** 2 * Phi * delta_Phi * delta_g / (g * sympy.sqrt(f * g))\n",
    "term2"
   ]
  },
  {
   "cell_type": "code",
   "execution_count": 196,
   "id": "ab2117ca",
   "metadata": {},
   "outputs": [],
   "source": [
    "delta_g_terms.append((-3 * L ** 2 * Phi) / (g * sympy.sqrt(f * g)) * dlie_delta_Phi)\n",
    "delta_Phi_terms.append((-3 * L ** 2 * Phi) / (g * sympy.sqrt(f * g)) * dlie_delta_g)"
   ]
  },
  {
   "cell_type": "markdown",
   "id": "a3439f3c",
   "metadata": {},
   "source": [
    "##### Term 3"
   ]
  },
  {
   "cell_type": "code",
   "execution_count": 197,
   "id": "f428dcb4",
   "metadata": {},
   "outputs": [
    {
     "data": {
      "image/png": "[encoded data removed]",
      "text/latex": [
       "$\\displaystyle \\frac{3 L^{2} \\delta_{\\Phi}^{2}{\\left(r \\right)}}{\\sqrt{f{\\left(r \\right)} g{\\left(r \\right)}}}$"
      ],
      "text/plain": [
       "    2    2   \n",
       " 3⋅L ⋅δ_Φ (r)\n",
       "─────────────\n",
       "  ___________\n",
       "╲╱ f(r)⋅g(r) "
      ]
     },
     "execution_count": 197,
     "metadata": {},
     "output_type": "execute_result"
    }
   ],
   "source": [
    "term3 = 3 * L ** 2 * delta_Phi ** 2 / sympy.sqrt(f * g)\n",
    "term3"
   ]
  },
  {
   "cell_type": "code",
   "execution_count": 198,
   "id": "5fd2e0fe",
   "metadata": {},
   "outputs": [],
   "source": [
    "delta_Phi_terms.append(3 * L ** 2 * 2 * dlie_delta_Phi / sympy.sqrt(f * g))"
   ]
  },
  {
   "cell_type": "markdown",
   "id": "d943fb53",
   "metadata": {},
   "source": [
    "##### Term 4"
   ]
  },
  {
   "cell_type": "code",
   "execution_count": 199,
   "id": "9e6aed30",
   "metadata": {},
   "outputs": [
    {
     "data": {
      "image/png": "[encoded data removed]",
      "text/latex": [
       "$\\displaystyle \\frac{3 L^{2} \\delta_{g}{\\left(r \\right)} f{\\left(r \\right)} \\frac{d}{d r} \\Phi{\\left(r \\right)} \\frac{d}{d r} \\delta_{\\Phi}{\\left(r \\right)}}{4 \\sqrt{f{\\left(r \\right)} g{\\left(r \\right)}}}$"
      ],
      "text/plain": [
       "   2             d        d         \n",
       "3⋅L ⋅δ_g(r)⋅f(r)⋅──(Φ(r))⋅──(δ_Φ(r))\n",
       "                 dr       dr        \n",
       "────────────────────────────────────\n",
       "              ___________           \n",
       "          4⋅╲╱ f(r)⋅g(r)            "
      ]
     },
     "execution_count": 199,
     "metadata": {},
     "output_type": "execute_result"
    }
   ],
   "source": [
    "term4 = 3 * L ** 2 * delta_g * f * dPhi * ddelta_Phi / (4 * sympy.sqrt(f * g))\n",
    "term4"
   ]
  },
  {
   "cell_type": "code",
   "execution_count": 200,
   "id": "7fa5bc89",
   "metadata": {},
   "outputs": [],
   "source": [
    "ddelta_Phi_terms.append(sympy.simplify((3 * L ** 2 * f * dPhi) / (4 * sympy.sqrt(f * g)) * dlie_delta_g))\n",
    "delta_g_terms.append(sympy.simplify((3 * L ** 2 * f * dPhi) / (4 * sympy.sqrt(f * g)) * dlie_ddelta_Phi))"
   ]
  },
  {
   "cell_type": "markdown",
   "id": "f5d30a89",
   "metadata": {},
   "source": [
    "##### Term 5"
   ]
  },
  {
   "cell_type": "code",
   "execution_count": 201,
   "id": "6715cb47",
   "metadata": {},
   "outputs": [
    {
     "data": {
      "image/png": "[encoded data removed]",
      "text/latex": [
       "$\\displaystyle \\frac{3 \\sqrt{f{\\left(r \\right)} g{\\left(r \\right)}} \\delta_{g}{\\left(r \\right)} \\frac{d}{d r} \\delta_{g}{\\left(r \\right)} \\frac{d}{d r} g{\\left(r \\right)}}{32 g^{2}{\\left(r \\right)}}$"
      ],
      "text/plain": [
       "    ___________        d          d       \n",
       "3⋅╲╱ f(r)⋅g(r) ⋅δ_g(r)⋅──(δ_g(r))⋅──(g(r))\n",
       "                       dr         dr      \n",
       "──────────────────────────────────────────\n",
       "                     2                    \n",
       "                 32⋅g (r)                 "
      ]
     },
     "execution_count": 201,
     "metadata": {},
     "output_type": "execute_result"
    }
   ],
   "source": [
    "term5 = 3 * sympy.sqrt(f * g) * delta_g * ddelta_g * dg / (32 * g ** 2)\n",
    "term5"
   ]
  },
  {
   "cell_type": "code",
   "execution_count": 202,
   "id": "e9e93642",
   "metadata": {},
   "outputs": [],
   "source": [
    "delta_g_terms.append((3 * sympy.sqrt(f * g) * dg) / (32 * g ** 2) * dlie_ddelta_g)\n",
    "ddelta_g_terms.append((3 * sympy.sqrt(f * g) * dg) / (32 * g ** 2) * dlie_delta_g)"
   ]
  },
  {
   "cell_type": "markdown",
   "id": "157641cc",
   "metadata": {},
   "source": [
    "##### Term 6"
   ]
  },
  {
   "cell_type": "code",
   "execution_count": 203,
   "id": "4967a40e",
   "metadata": {},
   "outputs": [
    {
     "data": {
      "image/png": "[encoded data removed]",
      "text/latex": [
       "$\\displaystyle - \\frac{3 f{\\left(r \\right)} \\left(\\frac{d}{d r} \\delta_{g}{\\left(r \\right)}\\right)^{2}}{16 \\sqrt{f{\\left(r \\right)} g{\\left(r \\right)}}}$"
      ],
      "text/plain": [
       "                    2 \n",
       "        ⎛d         ⎞  \n",
       "-3⋅f(r)⋅⎜──(δ_g(r))⎟  \n",
       "        ⎝dr        ⎠  \n",
       "──────────────────────\n",
       "        ___________   \n",
       "   16⋅╲╱ f(r)⋅g(r)    "
      ]
     },
     "execution_count": 203,
     "metadata": {},
     "output_type": "execute_result"
    }
   ],
   "source": [
    "term6 = -3 * f * ddelta_g ** 2 / (16 * sympy.sqrt(f * g))\n",
    "term6"
   ]
  },
  {
   "cell_type": "code",
   "execution_count": 204,
   "id": "822b3e49",
   "metadata": {},
   "outputs": [],
   "source": [
    "ddelta_g_terms.append((-3 * f) / (16 * sympy.sqrt(f * g)) * 2 * dlie_ddelta_g)"
   ]
  },
  {
   "cell_type": "markdown",
   "id": "cf96eec3",
   "metadata": {},
   "source": [
    "##### Term 7"
   ]
  },
  {
   "cell_type": "code",
   "execution_count": 205,
   "id": "5f5f41b3",
   "metadata": {},
   "outputs": [
    {
     "data": {
      "image/png": "[encoded data removed]",
      "text/latex": [
       "$\\displaystyle \\frac{\\left(144 L^{4} \\Phi^{2}{\\left(r \\right)} - 12 L^{4} f{\\left(r \\right)} g{\\left(r \\right)} \\left(\\frac{d}{d r} \\Phi{\\left(r \\right)}\\right)^{2} - 6 L^{2} f{\\left(r \\right)} g{\\left(r \\right)} \\frac{d^{2}}{d r^{2}} g{\\left(r \\right)} - 3 L^{2} g{\\left(r \\right)} \\frac{d}{d r} f{\\left(r \\right)} \\frac{d}{d r} g{\\left(r \\right)} + 12 L^{2} g{\\left(r \\right)} - 36 g^{2}{\\left(r \\right)}\\right) \\delta_{g}^{2}{\\left(r \\right)}}{128 L^{2} \\sqrt{f{\\left(r \\right)} g{\\left(r \\right)}} g^{2}{\\left(r \\right)}}$"
      ],
      "text/plain": [
       "⎛                                         2                    2              \n",
       "⎜     4  2          4           ⎛d       ⎞       2            d             2 \n",
       "⎜144⋅L ⋅Φ (r) - 12⋅L ⋅f(r)⋅g(r)⋅⎜──(Φ(r))⎟  - 6⋅L ⋅f(r)⋅g(r)⋅───(g(r)) - 3⋅L ⋅\n",
       "⎜                               ⎝dr      ⎠                     2              \n",
       "⎝                                                            dr               \n",
       "──────────────────────────────────────────────────────────────────────────────\n",
       "                                                           2   ___________  2 \n",
       "                                                      128⋅L ⋅╲╱ f(r)⋅g(r) ⋅g (\n",
       "\n",
       "                                              ⎞        \n",
       "     d        d              2            2   ⎟    2   \n",
       "g(r)⋅──(f(r))⋅──(g(r)) + 12⋅L ⋅g(r) - 36⋅g (r)⎟⋅δ_g (r)\n",
       "     dr       dr                              ⎟        \n",
       "                                              ⎠        \n",
       "───────────────────────────────────────────────────────\n",
       "                                                       \n",
       "r)                                                     "
      ]
     },
     "execution_count": 205,
     "metadata": {},
     "output_type": "execute_result"
    }
   ],
   "source": [
    "fac1 = 48 * L ** 4 * Phi ** 2 - 4 * L ** 4 * f * g * dPhi ** 2 - 2 * L ** 2 * f * g * ddg - L ** 2 * g * df * dg + 4 * L ** 2 * g - 12 * g ** 2\n",
    "term7 = 3 * fac1 * delta_g ** 2 / (128 * L ** 2 * g ** 2 * sympy.sqrt(f * g))\n",
    "term7"
   ]
  },
  {
   "cell_type": "code",
   "execution_count": 206,
   "id": "ebda8f12",
   "metadata": {},
   "outputs": [],
   "source": [
    "# Phi_s, C_s = sympy.symbols(\"Phi_s C_s\")\n",
    "# C_s = -(L ** 2 * r_0 ** 2 + r_0 ** 4) / L ** 4\n",
    "# Phi_s = (f * g * dPhi ** 2 - C_s) / 4\n",
    "# Phi_s\n",
    "\n",
    "# fac1_simp = 48 * L ** 4 * Phi_s - 4 * L ** 4 * f * g * dPhi ** 2 - 2 * L ** 2 * f * g * ddg - L ** 2 * g * df * dg + 4 * L ** 2 * g - 12 * g ** 2\n",
    "# fac1_simp\n",
    "\n",
    "# fac1_simp.subs({f: f_sol, g: g_sol, df: df_sol, dg: dg_sol, ddg: ddg_sol}).expand().simplify()"
   ]
  },
  {
   "cell_type": "code",
   "execution_count": 207,
   "id": "c52274ba",
   "metadata": {},
   "outputs": [],
   "source": [
    "delta_g_terms.append(3 * fac1 * 2 * dlie_delta_g / (128 * L ** 2 * sympy.sqrt(f * g ** 5)))"
   ]
  },
  {
   "cell_type": "markdown",
   "id": "d0d88597",
   "metadata": {},
   "source": [
    "### f part of action"
   ]
  },
  {
   "cell_type": "markdown",
   "id": "d857ae26",
   "metadata": {},
   "source": [
    "There are 5 terms."
   ]
  },
  {
   "cell_type": "markdown",
   "id": "240c89cd",
   "metadata": {},
   "source": [
    "##### Term 1"
   ]
  },
  {
   "cell_type": "code",
   "execution_count": 208,
   "id": "bd352ac0",
   "metadata": {},
   "outputs": [
    {
     "data": {
      "image/png": "[encoded data removed]",
      "text/latex": [
       "$\\displaystyle - \\frac{3 L^{2} \\Phi{\\left(r \\right)} \\delta_{\\Phi}{\\left(r \\right)} \\delta_{f}{\\left(r \\right)}}{\\sqrt{f{\\left(r \\right)} g{\\left(r \\right)}} f{\\left(r \\right)}}$"
      ],
      "text/plain": [
       "    2                    \n",
       "-3⋅L ⋅Φ(r)⋅δ_Φ(r)⋅δ_f(r) \n",
       "─────────────────────────\n",
       "      ___________        \n",
       "    ╲╱ f(r)⋅g(r) ⋅f(r)   "
      ]
     },
     "execution_count": 208,
     "metadata": {},
     "output_type": "execute_result"
    }
   ],
   "source": [
    "term1 = -3 * L ** 2 * Phi * delta_Phi * delta_f / (sympy.sqrt(f * g) * f)\n",
    "term1"
   ]
  },
  {
   "cell_type": "code",
   "execution_count": 209,
   "id": "cc8662c1",
   "metadata": {},
   "outputs": [],
   "source": [
    "delta_f_terms.append((-3 * L ** 2 * Phi) / (sympy.sqrt(f * g) * f) * dlie_delta_Phi)\n",
    "delta_Phi_terms.append((-3 * L ** 2 * Phi) / (sympy.sqrt(f * g) * f) * dlie_delta_f)"
   ]
  },
  {
   "cell_type": "markdown",
   "id": "9ff9944b",
   "metadata": {},
   "source": [
    "##### Term 2"
   ]
  },
  {
   "cell_type": "code",
   "execution_count": 210,
   "id": "6cb46b4e",
   "metadata": {},
   "outputs": [
    {
     "data": {
      "image/png": "[encoded data removed]",
      "text/latex": [
       "$\\displaystyle \\frac{3 L^{2} \\delta_{f}{\\left(r \\right)} g{\\left(r \\right)} \\frac{d}{d r} \\Phi{\\left(r \\right)} \\frac{d}{d r} \\delta_{\\Phi}{\\left(r \\right)}}{4 \\sqrt{f{\\left(r \\right)} g{\\left(r \\right)}}}$"
      ],
      "text/plain": [
       "   2             d        d         \n",
       "3⋅L ⋅δ_f(r)⋅g(r)⋅──(Φ(r))⋅──(δ_Φ(r))\n",
       "                 dr       dr        \n",
       "────────────────────────────────────\n",
       "              ___________           \n",
       "          4⋅╲╱ f(r)⋅g(r)            "
      ]
     },
     "execution_count": 210,
     "metadata": {},
     "output_type": "execute_result"
    }
   ],
   "source": [
    "term2 = 3 * L ** 2 * delta_f * g * dPhi * ddelta_Phi / (4 * sympy.sqrt(f * g))\n",
    "term2"
   ]
  },
  {
   "cell_type": "code",
   "execution_count": 211,
   "id": "b01c7c61",
   "metadata": {},
   "outputs": [],
   "source": [
    "delta_f_terms.append(sympy.simplify((3 * L ** 2 * g * dPhi) / (4 * sympy.sqrt(f * g)) * dlie_ddelta_Phi))\n",
    "ddelta_Phi_terms.append(sympy.simplify((3 * L ** 2 * g * dPhi) / (4 * sympy.sqrt(f * g)) * dlie_delta_f))"
   ]
  },
  {
   "cell_type": "markdown",
   "id": "20e2b098",
   "metadata": {},
   "source": [
    "##### Term 3"
   ]
  },
  {
   "cell_type": "code",
   "execution_count": 212,
   "id": "5975cde1",
   "metadata": {},
   "outputs": [
    {
     "data": {
      "image/png": "[encoded data removed]",
      "text/latex": [
       "$\\displaystyle \\frac{\\left(3 L^{2} g{\\left(r \\right)} \\left(\\frac{d}{d r} \\Phi{\\left(r \\right)}\\right)^{2} - 3 r^{2}\\right) \\delta_{f}^{2}{\\left(r \\right)}}{16 \\sqrt{f{\\left(r \\right)} g{\\left(r \\right)}} f{\\left(r \\right)}}$"
      ],
      "text/plain": [
       "⎛                    2       ⎞        \n",
       "⎜   2      ⎛d       ⎞       2⎟    2   \n",
       "⎜3⋅L ⋅g(r)⋅⎜──(Φ(r))⎟  - 3⋅r ⎟⋅δ_f (r)\n",
       "⎝          ⎝dr      ⎠        ⎠        \n",
       "──────────────────────────────────────\n",
       "             ___________              \n",
       "        16⋅╲╱ f(r)⋅g(r) ⋅f(r)         "
      ]
     },
     "execution_count": 212,
     "metadata": {},
     "output_type": "execute_result"
    }
   ],
   "source": [
    "term3 = (3 * L ** 2 * g * dPhi ** 2 - 3 * r ** 2) * delta_f ** 2 / (16 * sympy.sqrt(f * g) * f)\n",
    "term3"
   ]
  },
  {
   "cell_type": "code",
   "execution_count": 213,
   "id": "c7b1736e",
   "metadata": {},
   "outputs": [],
   "source": [
    "delta_f_terms.append((3 * L ** 2 * g * dPhi ** 2 - 3 * r ** 2) * 2 * dlie_delta_f / (16 * sympy.sqrt(f * g) * f))"
   ]
  },
  {
   "cell_type": "markdown",
   "id": "c7dc9212",
   "metadata": {},
   "source": [
    "##### Term 4"
   ]
  },
  {
   "cell_type": "code",
   "execution_count": 214,
   "id": "20220949",
   "metadata": {},
   "outputs": [
    {
     "data": {
      "image/png": "[encoded data removed]",
      "text/latex": [
       "$\\displaystyle - \\frac{3 \\delta_{f}{\\left(r \\right)} \\frac{d}{d r} \\delta_{g}{\\left(r \\right)} \\frac{d}{d r} g{\\left(r \\right)}}{16 \\sqrt{f{\\left(r \\right)} g{\\left(r \\right)}}}$"
      ],
      "text/plain": [
       "          d          d        \n",
       "-3⋅δ_f(r)⋅──(δ_g(r))⋅──(g(r)) \n",
       "          dr         dr       \n",
       "──────────────────────────────\n",
       "            ___________       \n",
       "       16⋅╲╱ f(r)⋅g(r)        "
      ]
     },
     "execution_count": 214,
     "metadata": {},
     "output_type": "execute_result"
    }
   ],
   "source": [
    "term4 = -3 * delta_f * ddelta_g * dg / (16 * sympy.sqrt(f * g))\n",
    "term4"
   ]
  },
  {
   "cell_type": "code",
   "execution_count": 215,
   "id": "138427a9",
   "metadata": {},
   "outputs": [],
   "source": [
    "ddelta_g_terms.append((-3 * dg) / (16 * sympy.sqrt(f * g)) * dlie_delta_f)\n",
    "delta_f_terms.append((-3 * dg) / (16 * sympy.sqrt(f * g)) * dlie_ddelta_g)"
   ]
  },
  {
   "cell_type": "markdown",
   "id": "8a38325a",
   "metadata": {},
   "source": [
    "##### Term 5"
   ]
  },
  {
   "cell_type": "code",
   "execution_count": 216,
   "id": "b89ff060",
   "metadata": {},
   "outputs": [
    {
     "data": {
      "image/png": "[encoded data removed]",
      "text/latex": [
       "$\\displaystyle \\frac{\\left(48 L^{4} \\Phi^{2}{\\left(r \\right)} + 12 L^{4} f{\\left(r \\right)} g{\\left(r \\right)} \\left(\\frac{d}{d r} \\Phi{\\left(r \\right)}\\right)^{2} + 3 L^{2} f{\\left(r \\right)} \\left(\\frac{d}{d r} g{\\left(r \\right)}\\right)^{2} + 12 L^{2} g{\\left(r \\right)} + 36 g^{2}{\\left(r \\right)}\\right) \\delta_{f}{\\left(r \\right)} \\delta_{g}{\\left(r \\right)}}{64 L^{2} \\sqrt{f{\\left(r \\right)} g{\\left(r \\right)}} f{\\left(r \\right)} g{\\left(r \\right)}}$"
      ],
      "text/plain": [
       "⎛                                        2                       2            \n",
       "⎜    4  2          4           ⎛d       ⎞       2      ⎛d       ⎞        2    \n",
       "⎜48⋅L ⋅Φ (r) + 12⋅L ⋅f(r)⋅g(r)⋅⎜──(Φ(r))⎟  + 3⋅L ⋅f(r)⋅⎜──(g(r))⎟  + 12⋅L ⋅g(r\n",
       "⎝                              ⎝dr      ⎠              ⎝dr      ⎠             \n",
       "──────────────────────────────────────────────────────────────────────────────\n",
       "                                          2   ___________                     \n",
       "                                      64⋅L ⋅╲╱ f(r)⋅g(r) ⋅f(r)⋅g(r)           \n",
       "\n",
       "            ⎞              \n",
       "        2   ⎟              \n",
       ") + 36⋅g (r)⎟⋅δ_f(r)⋅δ_g(r)\n",
       "            ⎠              \n",
       "───────────────────────────\n",
       "                           \n",
       "                           "
      ]
     },
     "execution_count": 216,
     "metadata": {},
     "output_type": "execute_result"
    }
   ],
   "source": [
    "fac2 = 16 * L ** 4 * Phi ** 2 + 4 * L ** 4 * f * g * dPhi ** 2 + L ** 2 * f * dg ** 2 + 4 * L ** 2 * g + 12 * g ** 2\n",
    "term5 = 3 * fac2 * delta_f * delta_g / (64 * L ** 2 * f * g * sympy.sqrt(f * g))\n",
    "term5"
   ]
  },
  {
   "cell_type": "code",
   "execution_count": 217,
   "id": "36cb684d",
   "metadata": {},
   "outputs": [],
   "source": [
    "delta_g_terms.append((3 * fac2) / (64 * L ** 2 * sympy.sqrt(f ** 3 * g ** 3)) * dlie_delta_f)\n",
    "delta_f_terms.append((3 * fac2) / (64 * L ** 2 * sympy.sqrt(f ** 3 * g ** 3)) * dlie_delta_g)"
   ]
  },
  {
   "cell_type": "markdown",
   "id": "89e12188",
   "metadata": {},
   "source": [
    "### Total"
   ]
  },
  {
   "cell_type": "code",
   "execution_count": 257,
   "id": "7dc417d6",
   "metadata": {},
   "outputs": [
    {
     "data": {
      "image/png": "[encoded data removed]",
      "text/latex": [
       "$\\displaystyle \\left[ - \\frac{3 L^{2} \\Phi{\\left(r \\right)} \\xi{\\left(r \\right)} \\frac{d}{d r} \\Phi{\\left(r \\right)}}{\\sqrt{f{\\left(r \\right)} g{\\left(r \\right)}} f{\\left(r \\right)}}, \\  - \\frac{3 L^{2} \\left(\\left(- 8 \\Phi{\\left(r \\right)} + f{\\left(r \\right)} \\frac{d}{d r} \\Phi{\\left(r \\right)} \\frac{d}{d r} g{\\left(r \\right)} + g{\\left(r \\right)} \\frac{d}{d r} \\Phi{\\left(r \\right)} \\frac{d}{d r} f{\\left(r \\right)}\\right) \\xi{\\left(r \\right)} - 2 f{\\left(r \\right)} g{\\left(r \\right)} \\frac{d}{d r} \\Phi{\\left(r \\right)} \\frac{d}{d r} \\xi{\\left(r \\right)}\\right) \\frac{d}{d r} \\Phi{\\left(r \\right)}}{8 \\sqrt{f{\\left(r \\right)} g{\\left(r \\right)}} f{\\left(r \\right)}}, \\  \\frac{\\left(- 2 f{\\left(r \\right)} \\frac{d}{d r} \\xi{\\left(r \\right)} + \\xi{\\left(r \\right)} \\frac{d}{d r} f{\\left(r \\right)}\\right) \\left(6 L^{2} g{\\left(r \\right)} \\left(\\frac{d}{d r} \\Phi{\\left(r \\right)}\\right)^{2} - 6 r^{2}\\right)}{16 \\sqrt{f{\\left(r \\right)} g{\\left(r \\right)}} f{\\left(r \\right)}}, \\  - \\frac{3 \\left(\\xi{\\left(r \\right)} \\frac{d^{2}}{d r^{2}} g{\\left(r \\right)} + \\frac{d}{d r} g{\\left(r \\right)} \\frac{d}{d r} \\xi{\\left(r \\right)}\\right) \\frac{d}{d r} g{\\left(r \\right)}}{16 \\sqrt{f{\\left(r \\right)} g{\\left(r \\right)}}}, \\  \\frac{\\left(48 L^{4} \\Phi^{2}{\\left(r \\right)} + 12 L^{4} f{\\left(r \\right)} g{\\left(r \\right)} \\left(\\frac{d}{d r} \\Phi{\\left(r \\right)}\\right)^{2} + 3 L^{2} f{\\left(r \\right)} \\left(\\frac{d}{d r} g{\\left(r \\right)}\\right)^{2} + 12 L^{2} g{\\left(r \\right)} + 36 g^{2}{\\left(r \\right)}\\right) \\xi{\\left(r \\right)} \\frac{d}{d r} g{\\left(r \\right)}}{64 L^{2} \\sqrt{f^{3}{\\left(r \\right)} g^{3}{\\left(r \\right)}}}\\right]$"
      ],
      "text/plain": [
       "⎡                                                                             \n",
       "⎢                                                                             \n",
       "⎢    2           d              2 ⎛⎛               d        d               d \n",
       "⎢-3⋅L ⋅Φ(r)⋅ξ(r)⋅──(Φ(r))   -3⋅L ⋅⎜⎜-8⋅Φ(r) + f(r)⋅──(Φ(r))⋅──(g(r)) + g(r)⋅──\n",
       "⎢                dr               ⎝⎝               dr       dr              dr\n",
       "⎢─────────────────────────, ──────────────────────────────────────────────────\n",
       "⎢      ___________                                                            \n",
       "⎢    ╲╱ f(r)⋅g(r) ⋅f(r)                                                    8⋅╲\n",
       "⎣                                                                             \n",
       "\n",
       "                                                                              \n",
       "                                                                              \n",
       "       d       ⎞                    d        d       ⎞ d          ⎛         d \n",
       "(Φ(r))⋅──(f(r))⎟⋅ξ(r) - 2⋅f(r)⋅g(r)⋅──(Φ(r))⋅──(ξ(r))⎟⋅──(Φ(r))   ⎜- 2⋅f(r)⋅──\n",
       "       dr      ⎠                    dr       dr      ⎠ dr         ⎝         dr\n",
       "────────────────────────────────────────────────────────────────, ────────────\n",
       " ___________                                                                  \n",
       "╱ f(r)⋅g(r) ⋅f(r)                                                             \n",
       "                                                                              \n",
       "\n",
       "                                                           ⎛       2          \n",
       "                        ⎛                    2       ⎞     ⎜      d          d\n",
       "              d       ⎞ ⎜   2      ⎛d       ⎞       2⎟  -3⋅⎜ξ(r)⋅───(g(r)) + ─\n",
       "(ξ(r)) + ξ(r)⋅──(f(r))⎟⋅⎜6⋅L ⋅g(r)⋅⎜──(Φ(r))⎟  - 6⋅r ⎟     ⎜       2         d\n",
       "              dr      ⎠ ⎝          ⎝dr      ⎠        ⎠     ⎝     dr           \n",
       "──────────────────────────────────────────────────────, ──────────────────────\n",
       "               ___________                                                    \n",
       "          16⋅╲╱ f(r)⋅g(r) ⋅f(r)                                          16⋅╲╱\n",
       "                                                                              \n",
       "\n",
       "                ⎞                                                             \n",
       "        d       ⎟ d          ⎛                                        2       \n",
       "─(g(r))⋅──(ξ(r))⎟⋅──(g(r))   ⎜    4  2          4           ⎛d       ⎞       2\n",
       "r       dr      ⎟ dr         ⎜48⋅L ⋅Φ (r) + 12⋅L ⋅f(r)⋅g(r)⋅⎜──(Φ(r))⎟  + 3⋅L \n",
       "                ⎠            ⎝                              ⎝dr      ⎠        \n",
       "───────────────────────────, ─────────────────────────────────────────────────\n",
       "___________                                                                   \n",
       " f(r)⋅g(r)                                                                 2  \n",
       "                                                                       64⋅L ⋅╲\n",
       "\n",
       "                                                        ⎤\n",
       "                2                        ⎞              ⎥\n",
       "      ⎛d       ⎞        2            2   ⎟      d       ⎥\n",
       "⋅f(r)⋅⎜──(g(r))⎟  + 12⋅L ⋅g(r) + 36⋅g (r)⎟⋅ξ(r)⋅──(g(r))⎥\n",
       "      ⎝dr      ⎠                         ⎠      dr      ⎥\n",
       "────────────────────────────────────────────────────────⎥\n",
       "  _____________                                         ⎥\n",
       " ╱  3     3                                             ⎥\n",
       "╱  f (r)⋅g (r)                                          ⎦"
      ]
     },
     "execution_count": 257,
     "metadata": {},
     "output_type": "execute_result"
    }
   ],
   "source": [
    "delta_f_terms"
   ]
  },
  {
   "cell_type": "code",
   "execution_count": 258,
   "id": "3d6616cc",
   "metadata": {},
   "outputs": [
    {
     "data": {
      "image/png": "[encoded data removed]",
      "text/latex": [
       "$\\displaystyle \\left[ \\right]$"
      ],
      "text/plain": [
       "[]"
      ]
     },
     "execution_count": 258,
     "metadata": {},
     "output_type": "execute_result"
    }
   ],
   "source": [
    "ddelta_f_terms"
   ]
  },
  {
   "cell_type": "code",
   "execution_count": 262,
   "id": "440efeb6",
   "metadata": {},
   "outputs": [
    {
     "data": {
      "image/png": "[encoded data removed]",
      "text/latex": [
       "$\\displaystyle - \\frac{3 L^{2} \\left(\\left(- 8 \\Phi{\\left(r \\right)} + f{\\left(r \\right)} \\frac{d}{d r} \\Phi{\\left(r \\right)} \\frac{d}{d r} g{\\left(r \\right)} + g{\\left(r \\right)} \\frac{d}{d r} \\Phi{\\left(r \\right)} \\frac{d}{d r} f{\\left(r \\right)}\\right) \\xi{\\left(r \\right)} - 2 f{\\left(r \\right)} g{\\left(r \\right)} \\frac{d}{d r} \\Phi{\\left(r \\right)} \\frac{d}{d r} \\xi{\\left(r \\right)}\\right) \\frac{d}{d r} \\Phi{\\left(r \\right)}}{8 \\sqrt{f{\\left(r \\right)} g{\\left(r \\right)}} f{\\left(r \\right)}} - \\frac{3 L^{2} \\Phi{\\left(r \\right)} \\xi{\\left(r \\right)} \\frac{d}{d r} \\Phi{\\left(r \\right)}}{\\sqrt{f{\\left(r \\right)} g{\\left(r \\right)}} f{\\left(r \\right)}} + \\frac{\\left(- 2 f{\\left(r \\right)} \\frac{d}{d r} \\xi{\\left(r \\right)} + \\xi{\\left(r \\right)} \\frac{d}{d r} f{\\left(r \\right)}\\right) \\left(6 L^{2} g{\\left(r \\right)} \\left(\\frac{d}{d r} \\Phi{\\left(r \\right)}\\right)^{2} - 6 r^{2}\\right)}{16 \\sqrt{f{\\left(r \\right)} g{\\left(r \\right)}} f{\\left(r \\right)}} - \\frac{3 \\left(\\xi{\\left(r \\right)} \\frac{d^{2}}{d r^{2}} g{\\left(r \\right)} + \\frac{d}{d r} g{\\left(r \\right)} \\frac{d}{d r} \\xi{\\left(r \\right)}\\right) \\frac{d}{d r} g{\\left(r \\right)}}{16 \\sqrt{f{\\left(r \\right)} g{\\left(r \\right)}}} + \\frac{\\left(48 L^{4} \\Phi^{2}{\\left(r \\right)} + 12 L^{4} f{\\left(r \\right)} g{\\left(r \\right)} \\left(\\frac{d}{d r} \\Phi{\\left(r \\right)}\\right)^{2} + 3 L^{2} f{\\left(r \\right)} \\left(\\frac{d}{d r} g{\\left(r \\right)}\\right)^{2} + 12 L^{2} g{\\left(r \\right)} + 36 g^{2}{\\left(r \\right)}\\right) \\xi{\\left(r \\right)} \\frac{d}{d r} g{\\left(r \\right)}}{64 L^{2} \\sqrt{f^{3}{\\left(r \\right)} g^{3}{\\left(r \\right)}}}$"
      ],
      "text/plain": [
       "                                                                              \n",
       "                                                                              \n",
       "     2 ⎛⎛               d        d               d        d       ⎞           \n",
       "  3⋅L ⋅⎜⎜-8⋅Φ(r) + f(r)⋅──(Φ(r))⋅──(g(r)) + g(r)⋅──(Φ(r))⋅──(f(r))⎟⋅ξ(r) - 2⋅f\n",
       "       ⎝⎝               dr       dr              dr       dr      ⎠           \n",
       "- ────────────────────────────────────────────────────────────────────────────\n",
       "                                                    ___________               \n",
       "                                                8⋅╲╱ f(r)⋅g(r) ⋅f(r)          \n",
       "                                                                              \n",
       "\n",
       "                                                                              \n",
       "                                                                              \n",
       "         d        d       ⎞ d             2           d          ⎛         d  \n",
       "(r)⋅g(r)⋅──(Φ(r))⋅──(ξ(r))⎟⋅──(Φ(r))   3⋅L ⋅Φ(r)⋅ξ(r)⋅──(Φ(r))   ⎜- 2⋅f(r)⋅──(\n",
       "         dr       dr      ⎠ dr                        dr         ⎝         dr \n",
       "──────────────────────────────────── - ─────────────────────── + ─────────────\n",
       "                                            ___________                       \n",
       "                                          ╲╱ f(r)⋅g(r) ⋅f(r)                  \n",
       "                                                                              \n",
       "\n",
       "                                                          ⎛       2           \n",
       "                       ⎛                    2       ⎞     ⎜      d          d \n",
       "             d       ⎞ ⎜   2      ⎛d       ⎞       2⎟   3⋅⎜ξ(r)⋅───(g(r)) + ──\n",
       "ξ(r)) + ξ(r)⋅──(f(r))⎟⋅⎜6⋅L ⋅g(r)⋅⎜──(Φ(r))⎟  - 6⋅r ⎟     ⎜       2         dr\n",
       "             dr      ⎠ ⎝          ⎝dr      ⎠        ⎠     ⎝     dr            \n",
       "───────────────────────────────────────────────────── - ──────────────────────\n",
       "              ___________                                                    _\n",
       "         16⋅╲╱ f(r)⋅g(r) ⋅f(r)                                          16⋅╲╱ \n",
       "                                                                              \n",
       "\n",
       "               ⎞                                                              \n",
       "       d       ⎟ d          ⎛                                        2        \n",
       "(g(r))⋅──(ξ(r))⎟⋅──(g(r))   ⎜    4  2          4           ⎛d       ⎞       2 \n",
       "       dr      ⎟ dr         ⎜48⋅L ⋅Φ (r) + 12⋅L ⋅f(r)⋅g(r)⋅⎜──(Φ(r))⎟  + 3⋅L ⋅\n",
       "               ⎠            ⎝                              ⎝dr      ⎠         \n",
       "───────────────────────── + ──────────────────────────────────────────────────\n",
       "__________                                                                    \n",
       "f(r)⋅g(r)                                                                 2   \n",
       "                                                                      64⋅L ⋅╲╱\n",
       "\n",
       "                                                       \n",
       "               2                        ⎞              \n",
       "     ⎛d       ⎞        2            2   ⎟      d       \n",
       "f(r)⋅⎜──(g(r))⎟  + 12⋅L ⋅g(r) + 36⋅g (r)⎟⋅ξ(r)⋅──(g(r))\n",
       "     ⎝dr      ⎠                         ⎠      dr      \n",
       "───────────────────────────────────────────────────────\n",
       " _____________                                         \n",
       "╱  3     3                                             \n",
       "  f (r)⋅g (r)                                          "
      ]
     },
     "execution_count": 262,
     "metadata": {},
     "output_type": "execute_result"
    }
   ],
   "source": [
    "total_delta_f_term = sum(delta_f_terms)\n",
    "total_delta_f_term"
   ]
  },
  {
   "cell_type": "code",
   "execution_count": 263,
   "id": "031d3a48",
   "metadata": {},
   "outputs": [
    {
     "data": {
      "image/png": "[encoded data removed]",
      "text/latex": [
       "$\\displaystyle - \\frac{6 L^{4} r \\left(f{\\left(r \\right)} g{\\left(r \\right)}\\right)^{\\frac{5}{2}} \\xi{\\left(r \\right)} \\left(\\frac{d}{d r} \\Phi{\\left(r \\right)}\\right)^{2}}{\\sqrt{f^{3}{\\left(r \\right)} g^{3}{\\left(r \\right)}}} + 12 L^{4} r \\Phi^{2}{\\left(r \\right)} \\xi{\\left(r \\right)} + 3 L^{4} r f{\\left(r \\right)} g{\\left(r \\right)} \\xi{\\left(r \\right)} \\left(\\frac{d}{d r} \\Phi{\\left(r \\right)}\\right)^{2} + 3 L^{2} r^{3} f{\\left(r \\right)} \\xi{\\left(r \\right)} - \\frac{6 L^{2} r \\left(f{\\left(r \\right)} g{\\left(r \\right)}\\right)^{\\frac{5}{2}} \\xi{\\left(r \\right)}}{\\sqrt{f^{3}{\\left(r \\right)} g^{3}{\\left(r \\right)}}} + 3 L^{2} r g{\\left(r \\right)} \\xi{\\left(r \\right)} - \\frac{6 r^{3} \\left(f{\\left(r \\right)} g{\\left(r \\right)}\\right)^{\\frac{3}{2}} g{\\left(r \\right)} \\xi{\\left(r \\right)}}{\\sqrt{f^{3}{\\left(r \\right)} g^{3}{\\left(r \\right)}}} + 9 r g^{2}{\\left(r \\right)} \\xi{\\left(r \\right)}$"
      ],
      "text/plain": [
       "                                       2                                      \n",
       "     4              5/2      ⎛d       ⎞                                       \n",
       "  6⋅L ⋅r⋅(f(r)⋅g(r))   ⋅ξ(r)⋅⎜──(Φ(r))⎟                                       \n",
       "                             ⎝dr      ⎠        4    2              4          \n",
       "- ────────────────────────────────────── + 12⋅L ⋅r⋅Φ (r)⋅ξ(r) + 3⋅L ⋅r⋅f(r)⋅g(\n",
       "                _____________                                                 \n",
       "               ╱  3     3                                                     \n",
       "             ╲╱  f (r)⋅g (r)                                                  \n",
       "\n",
       "                                                                              \n",
       "                                                                              \n",
       "                  2                          2              5/2               \n",
       "        ⎛d       ⎞       2  3             6⋅L ⋅r⋅(f(r)⋅g(r))   ⋅ξ(r)      2   \n",
       "r)⋅ξ(r)⋅⎜──(Φ(r))⎟  + 3⋅L ⋅r ⋅f(r)⋅ξ(r) - ────────────────────────── + 3⋅L ⋅r⋅\n",
       "        ⎝dr      ⎠                                _____________               \n",
       "                                                 ╱  3     3                   \n",
       "                                               ╲╱  f (r)⋅g (r)                \n",
       "\n",
       "                                                          \n",
       "                                                          \n",
       "               3            3/2                           \n",
       "            6⋅r ⋅(f(r)⋅g(r))   ⋅g(r)⋅ξ(r)        2        \n",
       "g(r)⋅ξ(r) - ───────────────────────────── + 9⋅r⋅g (r)⋅ξ(r)\n",
       "                      _____________                       \n",
       "                     ╱  3     3                           \n",
       "                   ╲╱  f (r)⋅g (r)                        "
      ]
     },
     "execution_count": 263,
     "metadata": {},
     "output_type": "execute_result"
    }
   ],
   "source": [
    "f_term_num = sympy.fraction(total_delta_f_term.subs({dg: dg_sol, ddg: ddg_sol, df: df_sol}).simplify())[0] / sympy.sqrt(f ** 3 * g ** 3)\n",
    "f_term_num.simplify()"
   ]
  },
  {
   "cell_type": "markdown",
   "id": "91f0d784",
   "metadata": {},
   "source": [
    "Substitute for Phi'."
   ]
  },
  {
   "cell_type": "code",
   "execution_count": 264,
   "id": "621838d7",
   "metadata": {},
   "outputs": [],
   "source": [
    "C_s = sympy.symbols(\"C_s\")\n",
    "C_s = -(L ** 2 * r_0 ** 2 + r_0 ** 4) / L ** 4"
   ]
  },
  {
   "cell_type": "code",
   "execution_count": 265,
   "id": "0ec51c5a",
   "metadata": {},
   "outputs": [
    {
     "data": {
      "image/png": "[encoded data removed]",
      "text/latex": [
       "$\\displaystyle 3 L^{2} r^{3} f{\\left(r \\right)} \\xi{\\left(r \\right)} - 6 L^{2} r f{\\left(r \\right)} g{\\left(r \\right)} \\xi{\\left(r \\right)} + 3 L^{2} r g{\\left(r \\right)} \\xi{\\left(r \\right)} - 6 r^{3} g{\\left(r \\right)} \\xi{\\left(r \\right)} + r \\left(3 L^{2} r_{0}^{2} + 3 r_{0}^{4}\\right) \\xi{\\left(r \\right)} + 9 r g^{2}{\\left(r \\right)} \\xi{\\left(r \\right)}$"
      ],
      "text/plain": [
       "   2  3                2                       2                  3           \n",
       "3⋅L ⋅r ⋅f(r)⋅ξ(r) - 6⋅L ⋅r⋅f(r)⋅g(r)⋅ξ(r) + 3⋅L ⋅r⋅g(r)⋅ξ(r) - 6⋅r ⋅g(r)⋅ξ(r) \n",
       "\n",
       "    ⎛   2   2       4⎞             2        \n",
       "+ r⋅⎝3⋅L ⋅r₀  + 3⋅r₀ ⎠⋅ξ(r) + 9⋅r⋅g (r)⋅ξ(r)"
      ]
     },
     "execution_count": 265,
     "metadata": {},
     "output_type": "execute_result"
    }
   ],
   "source": [
    "f_term_num = -3 * C_s * L ** 4 * r * xi + 3 * L ** 2 * r ** 3 * f * xi - 6 * L ** 2 * r * f * g * xi + 3 * L ** 2 * r * g * xi - 6 * r ** 3 * g * xi + 9 * r * g ** 2 * xi\n",
    "f_term_num"
   ]
  },
  {
   "cell_type": "code",
   "execution_count": 266,
   "id": "8882ea2a",
   "metadata": {},
   "outputs": [
    {
     "data": {
      "image/png": "[encoded data removed]",
      "text/latex": [
       "$\\displaystyle 0$"
      ],
      "text/plain": [
       "0"
      ]
     },
     "execution_count": 266,
     "metadata": {},
     "output_type": "execute_result"
    }
   ],
   "source": [
    "f_term_num.subs({f: f_sol, g: g_sol}).simplify()"
   ]
  },
  {
   "cell_type": "markdown",
   "id": "b8326265",
   "metadata": {},
   "source": [
    "##### g"
   ]
  },
  {
   "cell_type": "code",
   "execution_count": 267,
   "id": "0f6d2e05",
   "metadata": {},
   "outputs": [
    {
     "data": {
      "image/png": "[encoded data removed]",
      "text/latex": [
       "$\\displaystyle \\left[ - \\frac{3 L^{2} \\Phi{\\left(r \\right)} \\xi{\\left(r \\right)} \\frac{d}{d r} \\Phi{\\left(r \\right)}}{\\sqrt{f{\\left(r \\right)} g{\\left(r \\right)}} g{\\left(r \\right)}}, \\  - \\frac{3 L^{2} \\left(\\left(- 8 \\Phi{\\left(r \\right)} + f{\\left(r \\right)} \\frac{d}{d r} \\Phi{\\left(r \\right)} \\frac{d}{d r} g{\\left(r \\right)} + g{\\left(r \\right)} \\frac{d}{d r} \\Phi{\\left(r \\right)} \\frac{d}{d r} f{\\left(r \\right)}\\right) \\xi{\\left(r \\right)} - 2 f{\\left(r \\right)} g{\\left(r \\right)} \\frac{d}{d r} \\Phi{\\left(r \\right)} \\frac{d}{d r} \\xi{\\left(r \\right)}\\right) \\frac{d}{d r} \\Phi{\\left(r \\right)}}{8 \\sqrt{f{\\left(r \\right)} g{\\left(r \\right)}} g{\\left(r \\right)}}, \\  \\frac{3 \\sqrt{f{\\left(r \\right)} g{\\left(r \\right)}} \\left(\\xi{\\left(r \\right)} \\frac{d^{2}}{d r^{2}} g{\\left(r \\right)} + \\frac{d}{d r} g{\\left(r \\right)} \\frac{d}{d r} \\xi{\\left(r \\right)}\\right) \\frac{d}{d r} g{\\left(r \\right)}}{32 g^{2}{\\left(r \\right)}}, \\  \\frac{\\left(288 L^{4} \\Phi^{2}{\\left(r \\right)} - 24 L^{4} f{\\left(r \\right)} g{\\left(r \\right)} \\left(\\frac{d}{d r} \\Phi{\\left(r \\right)}\\right)^{2} - 12 L^{2} f{\\left(r \\right)} g{\\left(r \\right)} \\frac{d^{2}}{d r^{2}} g{\\left(r \\right)} - 6 L^{2} g{\\left(r \\right)} \\frac{d}{d r} f{\\left(r \\right)} \\frac{d}{d r} g{\\left(r \\right)} + 24 L^{2} g{\\left(r \\right)} - 72 g^{2}{\\left(r \\right)}\\right) \\xi{\\left(r \\right)} \\frac{d}{d r} g{\\left(r \\right)}}{128 L^{2} \\sqrt{f{\\left(r \\right)} g^{5}{\\left(r \\right)}}}, \\  \\frac{\\left(- 2 f{\\left(r \\right)} \\frac{d}{d r} \\xi{\\left(r \\right)} + \\xi{\\left(r \\right)} \\frac{d}{d r} f{\\left(r \\right)}\\right) \\left(48 L^{4} \\Phi^{2}{\\left(r \\right)} + 12 L^{4} f{\\left(r \\right)} g{\\left(r \\right)} \\left(\\frac{d}{d r} \\Phi{\\left(r \\right)}\\right)^{2} + 3 L^{2} f{\\left(r \\right)} \\left(\\frac{d}{d r} g{\\left(r \\right)}\\right)^{2} + 12 L^{2} g{\\left(r \\right)} + 36 g^{2}{\\left(r \\right)}\\right)}{64 L^{2} \\sqrt{f^{3}{\\left(r \\right)} g^{3}{\\left(r \\right)}}}\\right]$"
      ],
      "text/plain": [
       "⎡                                                                             \n",
       "⎢                                                                             \n",
       "⎢    2           d              2 ⎛⎛               d        d               d \n",
       "⎢-3⋅L ⋅Φ(r)⋅ξ(r)⋅──(Φ(r))   -3⋅L ⋅⎜⎜-8⋅Φ(r) + f(r)⋅──(Φ(r))⋅──(g(r)) + g(r)⋅──\n",
       "⎢                dr               ⎝⎝               dr       dr              dr\n",
       "⎢─────────────────────────, ──────────────────────────────────────────────────\n",
       "⎢      ___________                                                            \n",
       "⎢    ╲╱ f(r)⋅g(r) ⋅g(r)                                                    8⋅╲\n",
       "⎣                                                                             \n",
       "\n",
       "                                                                              \n",
       "                                                                      ________\n",
       "       d       ⎞                    d        d       ⎞ d          3⋅╲╱ f(r)⋅g(\n",
       "(Φ(r))⋅──(f(r))⎟⋅ξ(r) - 2⋅f(r)⋅g(r)⋅──(Φ(r))⋅──(ξ(r))⎟⋅──(Φ(r))               \n",
       "       dr      ⎠                    dr       dr      ⎠ dr                     \n",
       "────────────────────────────────────────────────────────────────, ────────────\n",
       " ___________                                                                  \n",
       "╱ f(r)⋅g(r) ⋅g(r)                                                             \n",
       "                                                                              \n",
       "\n",
       "    ⎛       2                          ⎞           ⎛                          \n",
       "___ ⎜      d          d        d       ⎟ d         ⎜     4  2          4      \n",
       "r) ⋅⎜ξ(r)⋅───(g(r)) + ──(g(r))⋅──(ξ(r))⎟⋅──(g(r))  ⎜288⋅L ⋅Φ (r) - 24⋅L ⋅f(r)⋅\n",
       "    ⎜       2         dr       dr      ⎟ dr        ⎜                          \n",
       "    ⎝     dr                           ⎠           ⎝                          \n",
       "─────────────────────────────────────────────────, ───────────────────────────\n",
       "                   2                                                          \n",
       "               32⋅g (r)                                                       \n",
       "                                                                              \n",
       "\n",
       "               2                     2                                        \n",
       "     ⎛d       ⎞        2            d             2      d        d           \n",
       "g(r)⋅⎜──(Φ(r))⎟  - 12⋅L ⋅f(r)⋅g(r)⋅───(g(r)) - 6⋅L ⋅g(r)⋅──(f(r))⋅──(g(r)) + 2\n",
       "     ⎝dr      ⎠                      2                   dr       dr          \n",
       "                                   dr                                         \n",
       "──────────────────────────────────────────────────────────────────────────────\n",
       "                                          ____________                        \n",
       "                                     2   ╱       5                            \n",
       "                                128⋅L ⋅╲╱  f(r)⋅g (r)                         \n",
       "\n",
       "                    ⎞                                                         \n",
       "   2            2   ⎟      d                                             ⎛    \n",
       "4⋅L ⋅g(r) - 72⋅g (r)⎟⋅ξ(r)⋅──(g(r))  ⎛         d               d       ⎞ ⎜    \n",
       "                    ⎟      dr        ⎜- 2⋅f(r)⋅──(ξ(r)) + ξ(r)⋅──(f(r))⎟⋅⎜48⋅L\n",
       "                    ⎠                ⎝         dr              dr      ⎠ ⎝    \n",
       "───────────────────────────────────, ─────────────────────────────────────────\n",
       "                                                                              \n",
       "                                                                              \n",
       "                                                                              \n",
       "\n",
       "                                                                              \n",
       "                                    2                       2                 \n",
       "4  2          4           ⎛d       ⎞       2      ⎛d       ⎞        2         \n",
       " ⋅Φ (r) + 12⋅L ⋅f(r)⋅g(r)⋅⎜──(Φ(r))⎟  + 3⋅L ⋅f(r)⋅⎜──(g(r))⎟  + 12⋅L ⋅g(r) + 3\n",
       "                          ⎝dr      ⎠              ⎝dr      ⎠                  \n",
       "──────────────────────────────────────────────────────────────────────────────\n",
       "                     _____________                                            \n",
       "                2   ╱  3     3                                                \n",
       "            64⋅L ⋅╲╱  f (r)⋅g (r)                                             \n",
       "\n",
       "        ⎤\n",
       "       ⎞⎥\n",
       "   2   ⎟⎥\n",
       "6⋅g (r)⎟⎥\n",
       "       ⎠⎥\n",
       "────────⎥\n",
       "        ⎥\n",
       "        ⎥\n",
       "        ⎦"
      ]
     },
     "execution_count": 267,
     "metadata": {},
     "output_type": "execute_result"
    }
   ],
   "source": [
    "delta_g_terms"
   ]
  },
  {
   "cell_type": "code",
   "execution_count": 268,
   "id": "ad66629d",
   "metadata": {},
   "outputs": [
    {
     "data": {
      "image/png": "[encoded data removed]",
      "text/latex": [
       "$\\displaystyle \\left[ \\frac{3 \\sqrt{f{\\left(r \\right)} g{\\left(r \\right)}} \\xi{\\left(r \\right)} \\left(\\frac{d}{d r} g{\\left(r \\right)}\\right)^{2}}{32 g^{2}{\\left(r \\right)}}, \\  - \\frac{3 \\left(\\xi{\\left(r \\right)} \\frac{d^{2}}{d r^{2}} g{\\left(r \\right)} + \\frac{d}{d r} g{\\left(r \\right)} \\frac{d}{d r} \\xi{\\left(r \\right)}\\right) f{\\left(r \\right)}}{8 \\sqrt{f{\\left(r \\right)} g{\\left(r \\right)}}}, \\  - \\frac{3 \\left(- 2 f{\\left(r \\right)} \\frac{d}{d r} \\xi{\\left(r \\right)} + \\xi{\\left(r \\right)} \\frac{d}{d r} f{\\left(r \\right)}\\right) \\frac{d}{d r} g{\\left(r \\right)}}{16 \\sqrt{f{\\left(r \\right)} g{\\left(r \\right)}}}\\right]$"
      ],
      "text/plain": [
       "⎡                                     ⎛       2                          ⎞    \n",
       "⎢                               2     ⎜      d          d        d       ⎟    \n",
       "⎢    ___________      ⎛d       ⎞   -3⋅⎜ξ(r)⋅───(g(r)) + ──(g(r))⋅──(ξ(r))⎟⋅f(r\n",
       "⎢3⋅╲╱ f(r)⋅g(r) ⋅ξ(r)⋅⎜──(g(r))⎟      ⎜       2         dr       dr      ⎟    \n",
       "⎢                     ⎝dr      ⎠      ⎝     dr                           ⎠    \n",
       "⎢────────────────────────────────, ───────────────────────────────────────────\n",
       "⎢                2                                    ___________             \n",
       "⎣            32⋅g (r)                             8⋅╲╱ f(r)⋅g(r)              \n",
       "\n",
       "                                                    ⎤\n",
       "                                                    ⎥\n",
       ")      ⎛         d               d       ⎞ d        ⎥\n",
       "    -3⋅⎜- 2⋅f(r)⋅──(ξ(r)) + ξ(r)⋅──(f(r))⎟⋅──(g(r)) ⎥\n",
       "       ⎝         dr              dr      ⎠ dr       ⎥\n",
       "──, ────────────────────────────────────────────────⎥\n",
       "                         ___________                ⎥\n",
       "                    16⋅╲╱ f(r)⋅g(r)                 ⎦"
      ]
     },
     "execution_count": 268,
     "metadata": {},
     "output_type": "execute_result"
    }
   ],
   "source": [
    "ddelta_g_terms"
   ]
  },
  {
   "cell_type": "code",
   "execution_count": 280,
   "id": "93d27e16",
   "metadata": {},
   "outputs": [
    {
     "data": {
      "image/png": "[encoded data removed]",
      "text/latex": [
       "$\\displaystyle - \\frac{3 L^{2} \\left(\\left(2 r f{\\left(r \\right)} \\frac{d}{d r} \\Phi{\\left(r \\right)} - 8 \\Phi{\\left(r \\right)} + g{\\left(r \\right)} \\frac{d}{d r} \\Phi{\\left(r \\right)} \\frac{d}{d r} f{\\left(r \\right)}\\right) \\xi{\\left(r \\right)} - 2 f{\\left(r \\right)} g{\\left(r \\right)} \\frac{d}{d r} \\Phi{\\left(r \\right)} \\frac{d}{d r} \\xi{\\left(r \\right)}\\right) \\frac{d}{d r} \\Phi{\\left(r \\right)}}{8 \\sqrt{f{\\left(r \\right)} g{\\left(r \\right)}} g{\\left(r \\right)}} - \\frac{3 L^{2} \\Phi{\\left(r \\right)} \\xi{\\left(r \\right)} \\frac{d}{d r} \\Phi{\\left(r \\right)}}{\\sqrt{f{\\left(r \\right)} g{\\left(r \\right)}} g{\\left(r \\right)}} + \\frac{3 r^{3} \\sqrt{f{\\left(r \\right)} g{\\left(r \\right)}} \\xi{\\left(r \\right)}}{2 g^{3}{\\left(r \\right)}} - \\frac{3 r^{2} \\sqrt{f{\\left(r \\right)} g{\\left(r \\right)}} \\left(r f{\\left(r \\right)} + \\frac{g{\\left(r \\right)} \\frac{d}{d r} f{\\left(r \\right)}}{2}\\right) \\xi{\\left(r \\right)}}{8 f{\\left(r \\right)} g^{3}{\\left(r \\right)}} - \\frac{3 r^{2} \\sqrt{f{\\left(r \\right)} g{\\left(r \\right)}} \\frac{d}{d r} \\xi{\\left(r \\right)}}{8 g^{2}{\\left(r \\right)}} + \\frac{3 r \\sqrt{f{\\left(r \\right)} g{\\left(r \\right)}} \\left(2 r \\frac{d}{d r} \\xi{\\left(r \\right)} + 2 \\xi{\\left(r \\right)}\\right)}{16 g^{2}{\\left(r \\right)}} - \\frac{3 r \\sqrt{f{\\left(r \\right)} g{\\left(r \\right)}} \\xi{\\left(r \\right)}}{4 g^{2}{\\left(r \\right)}} + \\frac{3 r \\left(- r f{\\left(r \\right)} - \\frac{g{\\left(r \\right)} \\frac{d}{d r} f{\\left(r \\right)}}{2}\\right) \\left(- 2 f{\\left(r \\right)} \\frac{d}{d r} \\xi{\\left(r \\right)} + \\xi{\\left(r \\right)} \\frac{d}{d r} f{\\left(r \\right)}\\right)}{8 \\sqrt{f{\\left(r \\right)} g{\\left(r \\right)}} f{\\left(r \\right)} g{\\left(r \\right)}} + \\frac{3 r \\left(- 2 f{\\left(r \\right)} \\frac{d^{2}}{d r^{2}} \\xi{\\left(r \\right)} + \\xi{\\left(r \\right)} \\frac{d^{2}}{d r^{2}} f{\\left(r \\right)} - \\frac{d}{d r} f{\\left(r \\right)} \\frac{d}{d r} \\xi{\\left(r \\right)}\\right)}{8 \\sqrt{f{\\left(r \\right)} g{\\left(r \\right)}}} + \\frac{3 \\left(- r f{\\left(r \\right)} - \\frac{g{\\left(r \\right)} \\frac{d}{d r} f{\\left(r \\right)}}{2}\\right) \\left(2 r \\frac{d}{d r} \\xi{\\left(r \\right)} + 2 \\xi{\\left(r \\right)}\\right)}{8 \\sqrt{f{\\left(r \\right)} g{\\left(r \\right)}} g{\\left(r \\right)}} + \\frac{3 \\cdot \\left(2 r \\frac{d}{d r} \\xi{\\left(r \\right)} + 2 \\xi{\\left(r \\right)}\\right) \\frac{d}{d r} f{\\left(r \\right)}}{8 \\sqrt{f{\\left(r \\right)} g{\\left(r \\right)}}} + \\frac{3 \\left(- 2 f{\\left(r \\right)} \\frac{d}{d r} \\xi{\\left(r \\right)} + \\xi{\\left(r \\right)} \\frac{d}{d r} f{\\left(r \\right)}\\right)}{8 \\sqrt{f{\\left(r \\right)} g{\\left(r \\right)}}} + \\frac{3 \\cdot \\left(2 r \\frac{d^{2}}{d r^{2}} \\xi{\\left(r \\right)} + \\xi{\\left(r \\right)} \\frac{d}{d r} 2 + 4 \\frac{d}{d r} \\xi{\\left(r \\right)}\\right) f{\\left(r \\right)}}{8 \\sqrt{f{\\left(r \\right)} g{\\left(r \\right)}}} + \\frac{r \\left(288 L^{4} \\Phi^{2}{\\left(r \\right)} - 24 L^{4} f{\\left(r \\right)} g{\\left(r \\right)} \\left(\\frac{d}{d r} \\Phi{\\left(r \\right)}\\right)^{2} - 12 L^{2} r g{\\left(r \\right)} \\frac{d}{d r} f{\\left(r \\right)} - 24 L^{2} f{\\left(r \\right)} g{\\left(r \\right)} + 24 L^{2} g{\\left(r \\right)} - 72 g^{2}{\\left(r \\right)}\\right) \\xi{\\left(r \\right)}}{64 L^{2} \\sqrt{f{\\left(r \\right)} g^{5}{\\left(r \\right)}}} + \\frac{\\left(- 2 f{\\left(r \\right)} \\frac{d}{d r} \\xi{\\left(r \\right)} + \\xi{\\left(r \\right)} \\frac{d}{d r} f{\\left(r \\right)}\\right) \\left(48 L^{4} \\Phi^{2}{\\left(r \\right)} + 12 L^{4} f{\\left(r \\right)} g{\\left(r \\right)} \\left(\\frac{d}{d r} \\Phi{\\left(r \\right)}\\right)^{2} + 12 L^{2} r^{2} f{\\left(r \\right)} + 12 L^{2} g{\\left(r \\right)} + 36 g^{2}{\\left(r \\right)}\\right)}{64 L^{2} \\sqrt{f^{3}{\\left(r \\right)} g^{3}{\\left(r \\right)}}}$"
      ],
      "text/plain": [
       "                                                                              \n",
       "                                                                              \n",
       "     2 ⎛⎛         d                        d        d       ⎞                 \n",
       "  3⋅L ⋅⎜⎜2⋅r⋅f(r)⋅──(Φ(r)) - 8⋅Φ(r) + g(r)⋅──(Φ(r))⋅──(f(r))⎟⋅ξ(r) - 2⋅f(r)⋅g(\n",
       "       ⎝⎝         dr                       dr       dr      ⎠                 \n",
       "- ────────────────────────────────────────────────────────────────────────────\n",
       "                                                 ___________                  \n",
       "                                             8⋅╲╱ f(r)⋅g(r) ⋅g(r)             \n",
       "                                                                              \n",
       "\n",
       "                                                                              \n",
       "                                                                              \n",
       "   d        d       ⎞ d             2           d                             \n",
       "r)⋅──(Φ(r))⋅──(ξ(r))⎟⋅──(Φ(r))   3⋅L ⋅Φ(r)⋅ξ(r)⋅──(Φ(r))      3   ___________ \n",
       "   dr       dr      ⎠ dr                        dr         3⋅r ⋅╲╱ f(r)⋅g(r) ⋅\n",
       "────────────────────────────── - ─────────────────────── + ───────────────────\n",
       "                                      ___________                     3       \n",
       "                                    ╲╱ f(r)⋅g(r) ⋅g(r)             2⋅g (r)    \n",
       "                                                                              \n",
       "\n",
       "                          ⎛              d       ⎞                            \n",
       "                          ⎜         g(r)⋅──(f(r))⎟                            \n",
       "          2   ___________ ⎜              dr      ⎟           2   ___________ d\n",
       "       3⋅r ⋅╲╱ f(r)⋅g(r) ⋅⎜r⋅f(r) + ─────────────⎟⋅ξ(r)   3⋅r ⋅╲╱ f(r)⋅g(r) ⋅─\n",
       "ξ(r)                      ⎝               2      ⎠                           d\n",
       "──── - ──────────────────────────────────────────────── - ────────────────────\n",
       "                                 3                                     2      \n",
       "                         8⋅f(r)⋅g (r)                               8⋅g (r)   \n",
       "                                                                              \n",
       "\n",
       "                                                                              \n",
       "                                                                              \n",
       "                ___________ ⎛    d                ⎞                           \n",
       "─(ξ(r))   3⋅r⋅╲╱ f(r)⋅g(r) ⋅⎜2⋅r⋅──(ξ(r)) + 2⋅ξ(r)⎟         ___________       \n",
       "r                           ⎝    dr               ⎠   3⋅r⋅╲╱ f(r)⋅g(r) ⋅ξ(r)  \n",
       "─────── + ───────────────────────────────────────── - ────────────────────── +\n",
       "                               2                                2             \n",
       "                           16⋅g (r)                          4⋅g (r)          \n",
       "                                                                              \n",
       "\n",
       "     ⎛               d       ⎞                                           ⎛    \n",
       "     ⎜          g(r)⋅──(f(r))⎟                                           ⎜    \n",
       "     ⎜               dr      ⎟ ⎛         d               d       ⎞   3⋅r⋅⎜- 2⋅\n",
       " 3⋅r⋅⎜-r⋅f(r) - ─────────────⎟⋅⎜- 2⋅f(r)⋅──(ξ(r)) + ξ(r)⋅──(f(r))⎟       ⎜    \n",
       "     ⎝                2      ⎠ ⎝         dr              dr      ⎠       ⎝    \n",
       " ───────────────────────────────────────────────────────────────── + ─────────\n",
       "                         ___________                                          \n",
       "                     8⋅╲╱ f(r)⋅g(r) ⋅f(r)⋅g(r)                                \n",
       "                                                                              \n",
       "\n",
       "       2                2                          ⎞     ⎛               d    \n",
       "      d                d          d        d       ⎟     ⎜          g(r)⋅──(f(\n",
       "f(r)⋅───(ξ(r)) + ξ(r)⋅───(f(r)) - ──(f(r))⋅──(ξ(r))⎟     ⎜               dr   \n",
       "       2                2         dr       dr      ⎟   3⋅⎜-r⋅f(r) - ──────────\n",
       "     dr               dr                           ⎠     ⎝                2   \n",
       "──────────────────────────────────────────────────── + ───────────────────────\n",
       "                  ___________                                              ___\n",
       "              8⋅╲╱ f(r)⋅g(r)                                           8⋅╲╱ f(\n",
       "                                                                              \n",
       "\n",
       "   ⎞                                                                          \n",
       "r))⎟                                                                          \n",
       "   ⎟ ⎛    d                ⎞     ⎛    d                ⎞ d            ⎛       \n",
       "───⎟⋅⎜2⋅r⋅──(ξ(r)) + 2⋅ξ(r)⎟   3⋅⎜2⋅r⋅──(ξ(r)) + 2⋅ξ(r)⎟⋅──(f(r))   3⋅⎜- 2⋅f(r\n",
       "   ⎠ ⎝    dr               ⎠     ⎝    dr               ⎠ dr           ⎝       \n",
       "──────────────────────────── + ────────────────────────────────── + ──────────\n",
       "________                                    ___________                       \n",
       "r)⋅g(r) ⋅g(r)                           8⋅╲╱ f(r)⋅g(r)                        \n",
       "                                                                              \n",
       "\n",
       "                                ⎛      2                                ⎞     \n",
       "                                ⎜     d               d         d       ⎟     \n",
       "  d               d       ⎞   3⋅⎜2⋅r⋅───(ξ(r)) + ξ(r)⋅──(2) + 4⋅──(ξ(r))⎟⋅f(r)\n",
       ")⋅──(ξ(r)) + ξ(r)⋅──(f(r))⎟     ⎜      2              dr        dr      ⎟     \n",
       "  dr              dr      ⎠     ⎝    dr                                 ⎠     \n",
       "─────────────────────────── + ────────────────────────────────────────────────\n",
       "     ___________                                  ___________                 \n",
       " 8⋅╲╱ f(r)⋅g(r)                               8⋅╲╱ f(r)⋅g(r)                  \n",
       "                                                                              \n",
       "\n",
       "                                                                              \n",
       "     ⎛                                         2                              \n",
       "     ⎜     4  2          4           ⎛d       ⎞        2        d             \n",
       "   r⋅⎜288⋅L ⋅Φ (r) - 24⋅L ⋅f(r)⋅g(r)⋅⎜──(Φ(r))⎟  - 12⋅L ⋅r⋅g(r)⋅──(f(r)) - 24⋅\n",
       "     ⎝                               ⎝dr      ⎠                 dr            \n",
       " + ───────────────────────────────────────────────────────────────────────────\n",
       "                                                            ____________      \n",
       "                                                       2   ╱       5          \n",
       "                                                   64⋅L ⋅╲╱  f(r)⋅g (r)       \n",
       "\n",
       "                                                                              \n",
       "                                    ⎞                                         \n",
       " 2                 2            2   ⎟        ⎛         d               d      \n",
       "L ⋅f(r)⋅g(r) + 24⋅L ⋅g(r) - 72⋅g (r)⎟⋅ξ(r)   ⎜- 2⋅f(r)⋅──(ξ(r)) + ξ(r)⋅──(f(r)\n",
       "                                    ⎠        ⎝         dr              dr     \n",
       "────────────────────────────────────────── + ─────────────────────────────────\n",
       "                                                                              \n",
       "                                                                              \n",
       "                                                                              \n",
       "\n",
       "                                                                              \n",
       "   ⎛                                        2                                 \n",
       " ⎞ ⎜    4  2          4           ⎛d       ⎞        2  2            2         \n",
       ")⎟⋅⎜48⋅L ⋅Φ (r) + 12⋅L ⋅f(r)⋅g(r)⋅⎜──(Φ(r))⎟  + 12⋅L ⋅r ⋅f(r) + 12⋅L ⋅g(r) + 3\n",
       " ⎠ ⎝                              ⎝dr      ⎠                                  \n",
       "──────────────────────────────────────────────────────────────────────────────\n",
       "                         _____________                                        \n",
       "                    2   ╱  3     3                                            \n",
       "                64⋅L ⋅╲╱  f (r)⋅g (r)                                         \n",
       "\n",
       "        \n",
       "       ⎞\n",
       "   2   ⎟\n",
       "6⋅g (r)⎟\n",
       "       ⎠\n",
       "────────\n",
       "        \n",
       "        \n",
       "        "
      ]
     },
     "execution_count": 280,
     "metadata": {},
     "output_type": "execute_result"
    }
   ],
   "source": [
    "total_g_term = (sum(delta_g_terms) - sympy.diff(sum(ddelta_g_terms), r)).subs({dg: dg_sol, ddg: ddg_sol})\n",
    "total_g_term"
   ]
  },
  {
   "cell_type": "markdown",
   "id": "94b20d25",
   "metadata": {},
   "source": [
    "##### Phi"
   ]
  },
  {
   "cell_type": "code",
   "execution_count": 275,
   "id": "4e857243",
   "metadata": {},
   "outputs": [
    {
     "data": {
      "image/png": "[encoded data removed]",
      "text/latex": [
       "$\\displaystyle \\left[ - \\frac{3 L^{2} \\Phi{\\left(r \\right)} \\xi{\\left(r \\right)} \\frac{d}{d r} g{\\left(r \\right)}}{\\sqrt{f{\\left(r \\right)} g{\\left(r \\right)}} g{\\left(r \\right)}}, \\  \\frac{6 L^{2} \\xi{\\left(r \\right)} \\frac{d}{d r} \\Phi{\\left(r \\right)}}{\\sqrt{f{\\left(r \\right)} g{\\left(r \\right)}}}, \\  - \\frac{3 L^{2} \\left(- 2 f{\\left(r \\right)} \\frac{d}{d r} \\xi{\\left(r \\right)} + \\xi{\\left(r \\right)} \\frac{d}{d r} f{\\left(r \\right)}\\right) \\Phi{\\left(r \\right)}}{\\sqrt{f{\\left(r \\right)} g{\\left(r \\right)}} f{\\left(r \\right)}}\\right]$"
      ],
      "text/plain": [
       "⎡    2           d             2      d             2 ⎛         d             \n",
       "⎢-3⋅L ⋅Φ(r)⋅ξ(r)⋅──(g(r))   6⋅L ⋅ξ(r)⋅──(Φ(r))  -3⋅L ⋅⎜- 2⋅f(r)⋅──(ξ(r)) + ξ(r\n",
       "⎢                dr                   dr              ⎝         dr            \n",
       "⎢─────────────────────────, ──────────────────, ──────────────────────────────\n",
       "⎢      ___________              ___________                      ___________  \n",
       "⎣    ╲╱ f(r)⋅g(r) ⋅g(r)       ╲╱ f(r)⋅g(r)                     ╲╱ f(r)⋅g(r) ⋅f\n",
       "\n",
       "  d       ⎞      ⎤\n",
       ")⋅──(f(r))⎟⋅Φ(r) ⎥\n",
       "  dr      ⎠      ⎥\n",
       "─────────────────⎥\n",
       "                 ⎥\n",
       "(r)              ⎦"
      ]
     },
     "execution_count": 275,
     "metadata": {},
     "output_type": "execute_result"
    }
   ],
   "source": [
    "delta_Phi_terms"
   ]
  },
  {
   "cell_type": "code",
   "execution_count": 276,
   "id": "9a44f2db",
   "metadata": {},
   "outputs": [
    {
     "data": {
      "image/png": "[encoded data removed]",
      "text/latex": [
       "$\\displaystyle \\left[ \\frac{3 L^{2} \\sqrt{f{\\left(r \\right)} g{\\left(r \\right)}} \\left(- \\left(- 8 \\Phi{\\left(r \\right)} + f{\\left(r \\right)} \\frac{d}{d r} \\Phi{\\left(r \\right)} \\frac{d}{d r} g{\\left(r \\right)} + g{\\left(r \\right)} \\frac{d}{d r} \\Phi{\\left(r \\right)} \\frac{d}{d r} f{\\left(r \\right)}\\right) \\xi{\\left(r \\right)} + 2 f{\\left(r \\right)} g{\\left(r \\right)} \\frac{d}{d r} \\Phi{\\left(r \\right)} \\frac{d}{d r} \\xi{\\left(r \\right)}\\right)}{4 f{\\left(r \\right)} g{\\left(r \\right)}}, \\  \\frac{3 L^{2} f{\\left(r \\right)} \\xi{\\left(r \\right)} \\frac{d}{d r} \\Phi{\\left(r \\right)} \\frac{d}{d r} g{\\left(r \\right)}}{4 \\sqrt{f{\\left(r \\right)} g{\\left(r \\right)}}}, \\  \\frac{3 L^{2} \\left(- 2 f{\\left(r \\right)} \\frac{d}{d r} \\xi{\\left(r \\right)} + \\xi{\\left(r \\right)} \\frac{d}{d r} f{\\left(r \\right)}\\right) g{\\left(r \\right)} \\frac{d}{d r} \\Phi{\\left(r \\right)}}{4 \\sqrt{f{\\left(r \\right)} g{\\left(r \\right)}}}\\right]$"
      ],
      "text/plain": [
       "⎡   2   ___________ ⎛  ⎛               d        d               d        d    \n",
       "⎢3⋅L ⋅╲╱ f(r)⋅g(r) ⋅⎜- ⎜-8⋅Φ(r) + f(r)⋅──(Φ(r))⋅──(g(r)) + g(r)⋅──(Φ(r))⋅──(f(\n",
       "⎢                   ⎝  ⎝               dr       dr              dr       dr   \n",
       "⎢─────────────────────────────────────────────────────────────────────────────\n",
       "⎢                                                      4⋅f(r)⋅g(r)            \n",
       "⎣                                                                             \n",
       "\n",
       "   ⎞                    d        d       ⎞     2           d        d         \n",
       "r))⎟⋅ξ(r) + 2⋅f(r)⋅g(r)⋅──(Φ(r))⋅──(ξ(r))⎟  3⋅L ⋅f(r)⋅ξ(r)⋅──(Φ(r))⋅──(g(r))  \n",
       "   ⎠                    dr       dr      ⎠                 dr       dr        \n",
       "──────────────────────────────────────────, ────────────────────────────────, \n",
       "                                                        ___________           \n",
       "                                                    4⋅╲╱ f(r)⋅g(r)            \n",
       "\n",
       "   2 ⎛         d               d       ⎞      d       ⎤\n",
       "3⋅L ⋅⎜- 2⋅f(r)⋅──(ξ(r)) + ξ(r)⋅──(f(r))⎟⋅g(r)⋅──(Φ(r))⎥\n",
       "     ⎝         dr              dr      ⎠      dr      ⎥\n",
       "──────────────────────────────────────────────────────⎥\n",
       "                       ___________                    ⎥\n",
       "                   4⋅╲╱ f(r)⋅g(r)                     ⎦"
      ]
     },
     "execution_count": 276,
     "metadata": {},
     "output_type": "execute_result"
    }
   ],
   "source": [
    "ddelta_Phi_terms"
   ]
  },
  {
   "cell_type": "code",
   "execution_count": 277,
   "id": "e9ece9e3",
   "metadata": {},
   "outputs": [
    {
     "data": {
      "image/png": "[encoded data removed]",
      "text/latex": [
       "$\\displaystyle 0$"
      ],
      "text/plain": [
       "0"
      ]
     },
     "execution_count": 277,
     "metadata": {},
     "output_type": "execute_result"
    }
   ],
   "source": [
    "total_phi_term = (sum(delta_Phi_terms) - sympy.diff(sum(ddelta_Phi_terms), r)).simplify()\n",
    "total_phi_term"
   ]
  }
 ],
 "metadata": {
  "kernelspec": {
   "display_name": "Python 3.10.3 ('env': venv)",
   "language": "python",
   "name": "python3"
  },
  "language_info": {
   "codemirror_mode": {
    "name": "ipython",
    "version": 3
   },
   "file_extension": ".py",
   "mimetype": "text/x-python",
   "name": "python",
   "nbconvert_exporter": "python",
   "pygments_lexer": "ipython3",
   "version": "3.10.3"
  },
  "vscode": {
   "interpreter": {
    "hash": "c4cf3c24cb46a3fd1f6949e64220e8351ad1410e125a86590159f01143d71e6f"
   }
  }
 },
 "nbformat": 4,
 "nbformat_minor": 5
}
