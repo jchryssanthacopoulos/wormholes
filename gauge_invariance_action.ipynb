{
 "cells": [
  {
   "cell_type": "markdown",
   "id": "4dfd0677",
   "metadata": {},
   "source": [
    "### Demonstration of Gauge Invariance of Action\n",
    "\n",
    "The purpose of this notebook is to demonstrate the gauge invariance of the action, allow the choice dg = 0 to be made."
   ]
  },
  {
   "cell_type": "code",
   "execution_count": 1,
   "id": "53212a51",
   "metadata": {},
   "outputs": [],
   "source": [
    "import sympy\n",
    "\n",
    "sympy.init_printing()"
   ]
  },
  {
   "cell_type": "code",
   "execution_count": 2,
   "id": "ea7f3bde",
   "metadata": {},
   "outputs": [],
   "source": [
    "syms = sympy.symbols(\"r psi theta phi\")\n",
    "r, psi, theta, phi = syms"
   ]
  },
  {
   "cell_type": "code",
   "execution_count": 3,
   "id": "0eef2428",
   "metadata": {},
   "outputs": [],
   "source": [
    "L = sympy.symbols(\"L\")  # AdS length scale\n",
    "r_0 = sympy.symbols(\"r_0\")"
   ]
  },
  {
   "cell_type": "code",
   "execution_count": 4,
   "id": "afef8747",
   "metadata": {},
   "outputs": [],
   "source": [
    "# spherical part of the metric\n",
    "g = sympy.Function('g')(r)\n",
    "dg = sympy.diff(g, r)\n",
    "ddg = sympy.diff(dg, r)\n",
    "\n",
    "# solution\n",
    "g_sol = r ** 2 + r_0 ** 2\n",
    "dg_sol = sympy.diff(g_sol, r)\n",
    "ddg_sol = sympy.diff(dg_sol, r)"
   ]
  },
  {
   "cell_type": "code",
   "execution_count": 5,
   "id": "02595e92",
   "metadata": {},
   "outputs": [],
   "source": [
    "# radial part of the metric\n",
    "f = sympy.Function('f')(r)\n",
    "df = sympy.diff(f, r)\n",
    "ddf = sympy.diff(df, r)\n",
    "\n",
    "# solution\n",
    "f_sol = (L ** 2 + r ** 2 + 2 * r_0 ** 2) / L ** 2\n",
    "df_sol = sympy.diff(f_sol, r)\n",
    "ddf_sol = sympy.diff(df_sol, r)"
   ]
  },
  {
   "cell_type": "code",
   "execution_count": 6,
   "id": "84adcdad",
   "metadata": {},
   "outputs": [],
   "source": [
    "# gauge field\n",
    "Phi = sympy.Function('Phi')(r)\n",
    "dPhi = sympy.diff(Phi, r)\n",
    "ddPhi = sympy.diff(dPhi, r)\n",
    "\n",
    "ddPhi_sol = (8 * Phi - dPhi * df * g - dPhi * dg * f) / (2 * f * g)"
   ]
  },
  {
   "cell_type": "code",
   "execution_count": 7,
   "id": "2fb93a53",
   "metadata": {},
   "outputs": [],
   "source": [
    "delta_f = sympy.Function('delta_f')(r)"
   ]
  },
  {
   "cell_type": "code",
   "execution_count": 8,
   "id": "7029978f",
   "metadata": {},
   "outputs": [],
   "source": [
    "delta_g = sympy.Function('delta_g')(r)\n",
    "ddelta_g = sympy.diff(delta_g, r)"
   ]
  },
  {
   "cell_type": "code",
   "execution_count": 9,
   "id": "12493e35",
   "metadata": {},
   "outputs": [],
   "source": [
    "delta_Phi = sympy.Function('delta_Phi')(r)\n",
    "ddelta_Phi = sympy.diff(delta_Phi, r)"
   ]
  },
  {
   "cell_type": "markdown",
   "id": "e5fa9bbc",
   "metadata": {},
   "source": [
    "### Lie derivatives"
   ]
  },
  {
   "cell_type": "code",
   "execution_count": 10,
   "id": "9bebca30",
   "metadata": {},
   "outputs": [],
   "source": [
    "xi = sympy.Function('xi')(r)\n",
    "dxi = sympy.diff(xi, r)"
   ]
  },
  {
   "cell_type": "code",
   "execution_count": 11,
   "id": "d19b1fb2",
   "metadata": {},
   "outputs": [
    {
     "data": {
      "image/png": "[encoded data removed]",
      "text/latex": [
       "$\\displaystyle - 2 f{\\left(r \\right)} \\frac{d}{d r} \\xi{\\left(r \\right)} + \\xi{\\left(r \\right)} \\frac{d}{d r} f{\\left(r \\right)}$"
      ],
      "text/plain": [
       "         d               d       \n",
       "- 2⋅f(r)⋅──(ξ(r)) + ξ(r)⋅──(f(r))\n",
       "         dr              dr      "
      ]
     },
     "execution_count": 11,
     "metadata": {},
     "output_type": "execute_result"
    }
   ],
   "source": [
    "dlie_delta_f = xi * df - 2 * f * dxi\n",
    "dlie_delta_f"
   ]
  },
  {
   "cell_type": "code",
   "execution_count": 12,
   "id": "c535493b",
   "metadata": {},
   "outputs": [
    {
     "data": {
      "image/png": "[encoded data removed]",
      "text/latex": [
       "$\\displaystyle \\xi{\\left(r \\right)} \\frac{d}{d r} g{\\left(r \\right)}$"
      ],
      "text/plain": [
       "     d       \n",
       "ξ(r)⋅──(g(r))\n",
       "     dr      "
      ]
     },
     "execution_count": 12,
     "metadata": {},
     "output_type": "execute_result"
    }
   ],
   "source": [
    "dlie_delta_g = dg * xi\n",
    "dlie_delta_g"
   ]
  },
  {
   "cell_type": "code",
   "execution_count": 13,
   "id": "ab04f330",
   "metadata": {},
   "outputs": [
    {
     "data": {
      "image/png": "[encoded data removed]",
      "text/latex": [
       "$\\displaystyle \\xi{\\left(r \\right)} \\frac{d^{2}}{d r^{2}} g{\\left(r \\right)} + \\frac{d}{d r} g{\\left(r \\right)} \\frac{d}{d r} \\xi{\\left(r \\right)}$"
      ],
      "text/plain": [
       "       2                          \n",
       "      d          d        d       \n",
       "ξ(r)⋅───(g(r)) + ──(g(r))⋅──(ξ(r))\n",
       "       2         dr       dr      \n",
       "     dr                           "
      ]
     },
     "execution_count": 13,
     "metadata": {},
     "output_type": "execute_result"
    }
   ],
   "source": [
    "dlie_ddelta_g = sympy.diff(dlie_delta_g)\n",
    "dlie_ddelta_g"
   ]
  },
  {
   "cell_type": "code",
   "execution_count": 14,
   "id": "8edf02f9",
   "metadata": {},
   "outputs": [
    {
     "data": {
      "image/png": "[encoded data removed]",
      "text/latex": [
       "$\\displaystyle \\xi{\\left(r \\right)} \\frac{d}{d r} \\Phi{\\left(r \\right)}$"
      ],
      "text/plain": [
       "     d       \n",
       "ξ(r)⋅──(Φ(r))\n",
       "     dr      "
      ]
     },
     "execution_count": 14,
     "metadata": {},
     "output_type": "execute_result"
    }
   ],
   "source": [
    "dlie_delta_Phi = xi * dPhi\n",
    "dlie_delta_Phi"
   ]
  },
  {
   "cell_type": "markdown",
   "id": "18492ac2",
   "metadata": {},
   "source": [
    "Compute the Lie derivative of Phi\", substituting the expression for Phi\"."
   ]
  },
  {
   "cell_type": "code",
   "execution_count": 15,
   "id": "0cb1e012",
   "metadata": {},
   "outputs": [
    {
     "data": {
      "image/png": "[encoded data removed]",
      "text/latex": [
       "$\\displaystyle \\frac{\\left(8 \\Phi{\\left(r \\right)} - f{\\left(r \\right)} \\frac{d}{d r} \\Phi{\\left(r \\right)} \\frac{d}{d r} g{\\left(r \\right)} - g{\\left(r \\right)} \\frac{d}{d r} \\Phi{\\left(r \\right)} \\frac{d}{d r} f{\\left(r \\right)}\\right) \\xi{\\left(r \\right)}}{2 f{\\left(r \\right)} g{\\left(r \\right)}} + \\frac{d}{d r} \\Phi{\\left(r \\right)} \\frac{d}{d r} \\xi{\\left(r \\right)}$"
      ],
      "text/plain": [
       "⎛              d        d               d        d       ⎞                    \n",
       "⎜8⋅Φ(r) - f(r)⋅──(Φ(r))⋅──(g(r)) - g(r)⋅──(Φ(r))⋅──(f(r))⎟⋅ξ(r)               \n",
       "⎝              dr       dr              dr       dr      ⎠        d        d  \n",
       "─────────────────────────────────────────────────────────────── + ──(Φ(r))⋅──(\n",
       "                          2⋅f(r)⋅g(r)                             dr       dr \n",
       "\n",
       "     \n",
       "     \n",
       "     \n",
       "ξ(r))\n",
       "     "
      ]
     },
     "execution_count": 15,
     "metadata": {},
     "output_type": "execute_result"
    }
   ],
   "source": [
    "dlie_ddelta_Phi = xi * ddPhi_sol + dPhi * dxi\n",
    "dlie_ddelta_Phi"
   ]
  },
  {
   "cell_type": "markdown",
   "id": "0df117c0",
   "metadata": {},
   "source": [
    "### q part of action"
   ]
  },
  {
   "cell_type": "markdown",
   "id": "9d88318c",
   "metadata": {},
   "source": [
    "Keep track of terms separately."
   ]
  },
  {
   "cell_type": "code",
   "execution_count": 16,
   "id": "bcedc45d",
   "metadata": {},
   "outputs": [],
   "source": [
    "delta_f_terms = []\n",
    "delta_g_terms = []\n",
    "ddelta_g_terms = []\n",
    "delta_Phi_terms = []\n",
    "ddelta_Phi_terms = []"
   ]
  },
  {
   "cell_type": "markdown",
   "id": "d72c3dce",
   "metadata": {},
   "source": [
    "There are 7 terms."
   ]
  },
  {
   "cell_type": "markdown",
   "id": "2885efd2",
   "metadata": {},
   "source": [
    "##### Term 1"
   ]
  },
  {
   "cell_type": "code",
   "execution_count": 17,
   "id": "59c4740f",
   "metadata": {},
   "outputs": [
    {
     "data": {
      "image/png": "[encoded data removed]",
      "text/latex": [
       "$\\displaystyle \\frac{3 L^{2} \\sqrt{f{\\left(r \\right)} g{\\left(r \\right)}} \\left(\\frac{d}{d r} \\delta_{\\Phi}{\\left(r \\right)}\\right)^{2}}{4}$"
      ],
      "text/plain": [
       "                               2\n",
       "   2   ___________ ⎛d         ⎞ \n",
       "3⋅L ⋅╲╱ f(r)⋅g(r) ⋅⎜──(δ_Φ(r))⎟ \n",
       "                   ⎝dr        ⎠ \n",
       "────────────────────────────────\n",
       "               4                "
      ]
     },
     "execution_count": 17,
     "metadata": {},
     "output_type": "execute_result"
    }
   ],
   "source": [
    "term1 = 3 * L ** 2 * sympy.sqrt(f * g) * ddelta_Phi ** 2 / 4\n",
    "term1"
   ]
  },
  {
   "cell_type": "code",
   "execution_count": 18,
   "id": "6e19a3cc",
   "metadata": {},
   "outputs": [
    {
     "data": {
      "image/png": "[encoded data removed]",
      "text/latex": [
       "$\\displaystyle \\left[ \\frac{3 L^{2} \\sqrt{f{\\left(r \\right)} g{\\left(r \\right)}} \\left(- \\left(- 8 \\Phi{\\left(r \\right)} + f{\\left(r \\right)} \\frac{d}{d r} \\Phi{\\left(r \\right)} \\frac{d}{d r} g{\\left(r \\right)} + g{\\left(r \\right)} \\frac{d}{d r} \\Phi{\\left(r \\right)} \\frac{d}{d r} f{\\left(r \\right)}\\right) \\xi{\\left(r \\right)} + 2 f{\\left(r \\right)} g{\\left(r \\right)} \\frac{d}{d r} \\Phi{\\left(r \\right)} \\frac{d}{d r} \\xi{\\left(r \\right)}\\right)}{4 f{\\left(r \\right)} g{\\left(r \\right)}}\\right]$"
      ],
      "text/plain": [
       "⎡   2   ___________ ⎛  ⎛               d        d               d        d    \n",
       "⎢3⋅L ⋅╲╱ f(r)⋅g(r) ⋅⎜- ⎜-8⋅Φ(r) + f(r)⋅──(Φ(r))⋅──(g(r)) + g(r)⋅──(Φ(r))⋅──(f(\n",
       "⎢                   ⎝  ⎝               dr       dr              dr       dr   \n",
       "⎢─────────────────────────────────────────────────────────────────────────────\n",
       "⎣                                                      4⋅f(r)⋅g(r)            \n",
       "\n",
       "   ⎞                    d        d       ⎞⎤\n",
       "r))⎟⋅ξ(r) + 2⋅f(r)⋅g(r)⋅──(Φ(r))⋅──(ξ(r))⎟⎥\n",
       "   ⎠                    dr       dr      ⎠⎥\n",
       "──────────────────────────────────────────⎥\n",
       "                                          ⎦"
      ]
     },
     "execution_count": 18,
     "metadata": {},
     "output_type": "execute_result"
    }
   ],
   "source": [
    "ddelta_Phi_terms.append(sympy.simplify(3 * L ** 2 * sympy.sqrt(f * g) * 2 * dlie_ddelta_Phi / 4))\n",
    "ddelta_Phi_terms"
   ]
  },
  {
   "cell_type": "markdown",
   "id": "7cf17eda",
   "metadata": {},
   "source": [
    "##### Term 2"
   ]
  },
  {
   "cell_type": "code",
   "execution_count": 19,
   "id": "e5293914",
   "metadata": {},
   "outputs": [
    {
     "data": {
      "image/png": "[encoded data removed]",
      "text/latex": [
       "$\\displaystyle - \\frac{3 L^{2} \\Phi{\\left(r \\right)} \\delta_{\\Phi}{\\left(r \\right)} \\delta_{g}{\\left(r \\right)}}{\\sqrt{f{\\left(r \\right)} g{\\left(r \\right)}} g{\\left(r \\right)}}$"
      ],
      "text/plain": [
       "    2                    \n",
       "-3⋅L ⋅Φ(r)⋅δ_Φ(r)⋅δ_g(r) \n",
       "─────────────────────────\n",
       "      ___________        \n",
       "    ╲╱ f(r)⋅g(r) ⋅g(r)   "
      ]
     },
     "execution_count": 19,
     "metadata": {},
     "output_type": "execute_result"
    }
   ],
   "source": [
    "term2 = -3 * L ** 2 * Phi * delta_Phi * delta_g / (g * sympy.sqrt(f * g))\n",
    "term2"
   ]
  },
  {
   "cell_type": "code",
   "execution_count": 20,
   "id": "ab2117ca",
   "metadata": {},
   "outputs": [],
   "source": [
    "delta_g_terms.append((-3 * L ** 2 * Phi) / (g * sympy.sqrt(f * g)) * dlie_delta_Phi)\n",
    "delta_Phi_terms.append((-3 * L ** 2 * Phi) / (g * sympy.sqrt(f * g)) * dlie_delta_g)"
   ]
  },
  {
   "cell_type": "markdown",
   "id": "a3439f3c",
   "metadata": {},
   "source": [
    "##### Term 3"
   ]
  },
  {
   "cell_type": "code",
   "execution_count": 21,
   "id": "f428dcb4",
   "metadata": {},
   "outputs": [
    {
     "data": {
      "image/png": "[encoded data removed]",
      "text/latex": [
       "$\\displaystyle \\frac{3 L^{2} \\delta_{\\Phi}^{2}{\\left(r \\right)}}{\\sqrt{f{\\left(r \\right)} g{\\left(r \\right)}}}$"
      ],
      "text/plain": [
       "    2    2   \n",
       " 3⋅L ⋅δ_Φ (r)\n",
       "─────────────\n",
       "  ___________\n",
       "╲╱ f(r)⋅g(r) "
      ]
     },
     "execution_count": 21,
     "metadata": {},
     "output_type": "execute_result"
    }
   ],
   "source": [
    "term3 = 3 * L ** 2 * delta_Phi ** 2 / sympy.sqrt(f * g)\n",
    "term3"
   ]
  },
  {
   "cell_type": "code",
   "execution_count": 22,
   "id": "5fd2e0fe",
   "metadata": {},
   "outputs": [],
   "source": [
    "delta_Phi_terms.append(3 * L ** 2 * 2 * dlie_delta_Phi / sympy.sqrt(f * g))"
   ]
  },
  {
   "cell_type": "markdown",
   "id": "d943fb53",
   "metadata": {},
   "source": [
    "##### Term 4"
   ]
  },
  {
   "cell_type": "code",
   "execution_count": 23,
   "id": "9e6aed30",
   "metadata": {},
   "outputs": [
    {
     "data": {
      "image/png": "[encoded data removed]",
      "text/latex": [
       "$\\displaystyle \\frac{3 L^{2} \\delta_{g}{\\left(r \\right)} f{\\left(r \\right)} \\frac{d}{d r} \\Phi{\\left(r \\right)} \\frac{d}{d r} \\delta_{\\Phi}{\\left(r \\right)}}{4 \\sqrt{f{\\left(r \\right)} g{\\left(r \\right)}}}$"
      ],
      "text/plain": [
       "   2             d        d         \n",
       "3⋅L ⋅δ_g(r)⋅f(r)⋅──(Φ(r))⋅──(δ_Φ(r))\n",
       "                 dr       dr        \n",
       "────────────────────────────────────\n",
       "              ___________           \n",
       "          4⋅╲╱ f(r)⋅g(r)            "
      ]
     },
     "execution_count": 23,
     "metadata": {},
     "output_type": "execute_result"
    }
   ],
   "source": [
    "term4 = 3 * L ** 2 * delta_g * f * dPhi * ddelta_Phi / (4 * sympy.sqrt(f * g))\n",
    "term4"
   ]
  },
  {
   "cell_type": "code",
   "execution_count": 24,
   "id": "7fa5bc89",
   "metadata": {},
   "outputs": [],
   "source": [
    "ddelta_Phi_terms.append(sympy.simplify((3 * L ** 2 * f * dPhi) / (4 * sympy.sqrt(f * g)) * dlie_delta_g))\n",
    "delta_g_terms.append(sympy.simplify((3 * L ** 2 * f * dPhi) / (4 * sympy.sqrt(f * g)) * dlie_ddelta_Phi))"
   ]
  },
  {
   "cell_type": "markdown",
   "id": "f5d30a89",
   "metadata": {},
   "source": [
    "##### Term 5"
   ]
  },
  {
   "cell_type": "code",
   "execution_count": 25,
   "id": "6715cb47",
   "metadata": {},
   "outputs": [
    {
     "data": {
      "image/png": "[encoded data removed]",
      "text/latex": [
       "$\\displaystyle \\frac{3 \\sqrt{f{\\left(r \\right)} g{\\left(r \\right)}} \\delta_{g}{\\left(r \\right)} \\frac{d}{d r} \\delta_{g}{\\left(r \\right)} \\frac{d}{d r} g{\\left(r \\right)}}{32 g^{2}{\\left(r \\right)}}$"
      ],
      "text/plain": [
       "    ___________        d          d       \n",
       "3⋅╲╱ f(r)⋅g(r) ⋅δ_g(r)⋅──(δ_g(r))⋅──(g(r))\n",
       "                       dr         dr      \n",
       "──────────────────────────────────────────\n",
       "                     2                    \n",
       "                 32⋅g (r)                 "
      ]
     },
     "execution_count": 25,
     "metadata": {},
     "output_type": "execute_result"
    }
   ],
   "source": [
    "term5 = 3 * sympy.sqrt(f * g) * delta_g * ddelta_g * dg / (32 * g ** 2)\n",
    "term5"
   ]
  },
  {
   "cell_type": "code",
   "execution_count": 26,
   "id": "e9e93642",
   "metadata": {},
   "outputs": [],
   "source": [
    "delta_g_terms.append((3 * sympy.sqrt(f * g) * dg) / (32 * g ** 2) * dlie_ddelta_g)\n",
    "ddelta_g_terms.append((3 * sympy.sqrt(f * g) * dg) / (32 * g ** 2) * dlie_delta_g)"
   ]
  },
  {
   "cell_type": "markdown",
   "id": "157641cc",
   "metadata": {},
   "source": [
    "##### Term 6"
   ]
  },
  {
   "cell_type": "code",
   "execution_count": 27,
   "id": "4967a40e",
   "metadata": {},
   "outputs": [
    {
     "data": {
      "image/png": "[encoded data removed]",
      "text/latex": [
       "$\\displaystyle - \\frac{3 f{\\left(r \\right)} \\left(\\frac{d}{d r} \\delta_{g}{\\left(r \\right)}\\right)^{2}}{16 \\sqrt{f{\\left(r \\right)} g{\\left(r \\right)}}}$"
      ],
      "text/plain": [
       "                    2 \n",
       "        ⎛d         ⎞  \n",
       "-3⋅f(r)⋅⎜──(δ_g(r))⎟  \n",
       "        ⎝dr        ⎠  \n",
       "──────────────────────\n",
       "        ___________   \n",
       "   16⋅╲╱ f(r)⋅g(r)    "
      ]
     },
     "execution_count": 27,
     "metadata": {},
     "output_type": "execute_result"
    }
   ],
   "source": [
    "term6 = -3 * f * ddelta_g ** 2 / (16 * sympy.sqrt(f * g))\n",
    "term6"
   ]
  },
  {
   "cell_type": "code",
   "execution_count": 28,
   "id": "822b3e49",
   "metadata": {},
   "outputs": [],
   "source": [
    "ddelta_g_terms.append((-3 * f) / (16 * sympy.sqrt(f * g)) * 2 * dlie_ddelta_g)"
   ]
  },
  {
   "cell_type": "markdown",
   "id": "cf96eec3",
   "metadata": {},
   "source": [
    "##### Term 7"
   ]
  },
  {
   "cell_type": "code",
   "execution_count": 29,
   "id": "63b03b6d",
   "metadata": {},
   "outputs": [],
   "source": [
    "Phi_s, C_s = sympy.symbols(\"Phi_s C_s\")\n",
    "Phi_s_sol = (f * g * dPhi ** 2 - C_s) / 4"
   ]
  },
  {
   "cell_type": "code",
   "execution_count": 30,
   "id": "5f5f41b3",
   "metadata": {},
   "outputs": [
    {
     "data": {
      "image/png": "[encoded data removed]",
      "text/latex": [
       "$\\displaystyle \\frac{\\left(144 L^{4} \\Phi_{s} - 12 L^{4} f{\\left(r \\right)} g{\\left(r \\right)} \\left(\\frac{d}{d r} \\Phi{\\left(r \\right)}\\right)^{2} - 6 L^{2} f{\\left(r \\right)} g{\\left(r \\right)} \\frac{d^{2}}{d r^{2}} g{\\left(r \\right)} - 3 L^{2} g{\\left(r \\right)} \\frac{d}{d r} f{\\left(r \\right)} \\frac{d}{d r} g{\\left(r \\right)} + 12 L^{2} g{\\left(r \\right)} - 36 g^{2}{\\left(r \\right)}\\right) \\delta_{g}^{2}{\\left(r \\right)}}{128 L^{2} \\sqrt{f{\\left(r \\right)} g{\\left(r \\right)}} g^{2}{\\left(r \\right)}}$"
      ],
      "text/plain": [
       "⎛                                      2                    2                 \n",
       "⎜     4          4           ⎛d       ⎞       2            d             2    \n",
       "⎜144⋅L ⋅Φₛ - 12⋅L ⋅f(r)⋅g(r)⋅⎜──(Φ(r))⎟  - 6⋅L ⋅f(r)⋅g(r)⋅───(g(r)) - 3⋅L ⋅g(r\n",
       "⎜                            ⎝dr      ⎠                     2                 \n",
       "⎝                                                         dr                  \n",
       "──────────────────────────────────────────────────────────────────────────────\n",
       "                                                         2   ___________  2   \n",
       "                                                    128⋅L ⋅╲╱ f(r)⋅g(r) ⋅g (r)\n",
       "\n",
       "                                           ⎞        \n",
       "  d        d              2            2   ⎟    2   \n",
       ")⋅──(f(r))⋅──(g(r)) + 12⋅L ⋅g(r) - 36⋅g (r)⎟⋅δ_g (r)\n",
       "  dr       dr                              ⎟        \n",
       "                                           ⎠        \n",
       "────────────────────────────────────────────────────\n",
       "                                                    \n",
       "                                                    "
      ]
     },
     "execution_count": 30,
     "metadata": {},
     "output_type": "execute_result"
    }
   ],
   "source": [
    "fac1 = 48 * L ** 4 * Phi_s - 4 * L ** 4 * f * g * dPhi ** 2 - 2 * L ** 2 * f * g * ddg - L ** 2 * g * df * dg + 4 * L ** 2 * g - 12 * g ** 2\n",
    "term7 = 3 * fac1 * delta_g ** 2 / (128 * L ** 2 * g ** 2 * sympy.sqrt(f * g))\n",
    "term7"
   ]
  },
  {
   "cell_type": "code",
   "execution_count": 31,
   "id": "c52274ba",
   "metadata": {},
   "outputs": [],
   "source": [
    "delta_g_terms.append(3 * fac1 * 2 * dlie_delta_g / (128 * L ** 2 * sympy.sqrt(f * g ** 5)))"
   ]
  },
  {
   "cell_type": "markdown",
   "id": "d0d88597",
   "metadata": {},
   "source": [
    "### f part of action"
   ]
  },
  {
   "cell_type": "markdown",
   "id": "d857ae26",
   "metadata": {},
   "source": [
    "There are 5 terms."
   ]
  },
  {
   "cell_type": "markdown",
   "id": "240c89cd",
   "metadata": {},
   "source": [
    "##### Term 1"
   ]
  },
  {
   "cell_type": "code",
   "execution_count": 32,
   "id": "bd352ac0",
   "metadata": {},
   "outputs": [
    {
     "data": {
      "image/png": "[encoded data removed]",
      "text/latex": [
       "$\\displaystyle - \\frac{3 L^{2} \\Phi{\\left(r \\right)} \\delta_{\\Phi}{\\left(r \\right)} \\delta_{f}{\\left(r \\right)}}{\\sqrt{f{\\left(r \\right)} g{\\left(r \\right)}} f{\\left(r \\right)}}$"
      ],
      "text/plain": [
       "    2                    \n",
       "-3⋅L ⋅Φ(r)⋅δ_Φ(r)⋅δ_f(r) \n",
       "─────────────────────────\n",
       "      ___________        \n",
       "    ╲╱ f(r)⋅g(r) ⋅f(r)   "
      ]
     },
     "execution_count": 32,
     "metadata": {},
     "output_type": "execute_result"
    }
   ],
   "source": [
    "term1 = -3 * L ** 2 * Phi * delta_Phi * delta_f / (sympy.sqrt(f * g) * f)\n",
    "term1"
   ]
  },
  {
   "cell_type": "code",
   "execution_count": 33,
   "id": "cc8662c1",
   "metadata": {},
   "outputs": [],
   "source": [
    "delta_f_terms.append((-3 * L ** 2 * Phi) / (sympy.sqrt(f * g) * f) * dlie_delta_Phi)\n",
    "delta_Phi_terms.append((-3 * L ** 2 * Phi) / (sympy.sqrt(f * g) * f) * dlie_delta_f)"
   ]
  },
  {
   "cell_type": "markdown",
   "id": "9ff9944b",
   "metadata": {},
   "source": [
    "##### Term 2"
   ]
  },
  {
   "cell_type": "code",
   "execution_count": 34,
   "id": "6cb46b4e",
   "metadata": {},
   "outputs": [
    {
     "data": {
      "image/png": "[encoded data removed]",
      "text/latex": [
       "$\\displaystyle \\frac{3 L^{2} \\delta_{f}{\\left(r \\right)} g{\\left(r \\right)} \\frac{d}{d r} \\Phi{\\left(r \\right)} \\frac{d}{d r} \\delta_{\\Phi}{\\left(r \\right)}}{4 \\sqrt{f{\\left(r \\right)} g{\\left(r \\right)}}}$"
      ],
      "text/plain": [
       "   2             d        d         \n",
       "3⋅L ⋅δ_f(r)⋅g(r)⋅──(Φ(r))⋅──(δ_Φ(r))\n",
       "                 dr       dr        \n",
       "────────────────────────────────────\n",
       "              ___________           \n",
       "          4⋅╲╱ f(r)⋅g(r)            "
      ]
     },
     "execution_count": 34,
     "metadata": {},
     "output_type": "execute_result"
    }
   ],
   "source": [
    "term2 = 3 * L ** 2 * delta_f * g * dPhi * ddelta_Phi / (4 * sympy.sqrt(f * g))\n",
    "term2"
   ]
  },
  {
   "cell_type": "code",
   "execution_count": 35,
   "id": "b01c7c61",
   "metadata": {},
   "outputs": [],
   "source": [
    "delta_f_terms.append(sympy.simplify((3 * L ** 2 * g * dPhi) / (4 * sympy.sqrt(f * g)) * dlie_ddelta_Phi))\n",
    "ddelta_Phi_terms.append(sympy.simplify((3 * L ** 2 * g * dPhi) / (4 * sympy.sqrt(f * g)) * dlie_delta_f))"
   ]
  },
  {
   "cell_type": "markdown",
   "id": "20e2b098",
   "metadata": {},
   "source": [
    "##### Term 3"
   ]
  },
  {
   "cell_type": "code",
   "execution_count": 36,
   "id": "5975cde1",
   "metadata": {},
   "outputs": [
    {
     "data": {
      "image/png": "[encoded data removed]",
      "text/latex": [
       "$\\displaystyle \\frac{\\left(3 L^{2} g{\\left(r \\right)} \\left(\\frac{d}{d r} \\Phi{\\left(r \\right)}\\right)^{2} - 3 r^{2}\\right) \\delta_{f}^{2}{\\left(r \\right)}}{16 \\sqrt{f{\\left(r \\right)} g{\\left(r \\right)}} f{\\left(r \\right)}}$"
      ],
      "text/plain": [
       "⎛                    2       ⎞        \n",
       "⎜   2      ⎛d       ⎞       2⎟    2   \n",
       "⎜3⋅L ⋅g(r)⋅⎜──(Φ(r))⎟  - 3⋅r ⎟⋅δ_f (r)\n",
       "⎝          ⎝dr      ⎠        ⎠        \n",
       "──────────────────────────────────────\n",
       "             ___________              \n",
       "        16⋅╲╱ f(r)⋅g(r) ⋅f(r)         "
      ]
     },
     "execution_count": 36,
     "metadata": {},
     "output_type": "execute_result"
    }
   ],
   "source": [
    "term3 = (3 * L ** 2 * g * dPhi ** 2 - 3 * r ** 2) * delta_f ** 2 / (16 * sympy.sqrt(f * g) * f)\n",
    "term3"
   ]
  },
  {
   "cell_type": "code",
   "execution_count": 37,
   "id": "c7b1736e",
   "metadata": {},
   "outputs": [],
   "source": [
    "delta_f_terms.append((3 * L ** 2 * g * dPhi ** 2 - 3 * r ** 2) * 2 * dlie_delta_f / (16 * sympy.sqrt(f * g) * f))"
   ]
  },
  {
   "cell_type": "markdown",
   "id": "c7dc9212",
   "metadata": {},
   "source": [
    "##### Term 4"
   ]
  },
  {
   "cell_type": "code",
   "execution_count": 38,
   "id": "20220949",
   "metadata": {},
   "outputs": [
    {
     "data": {
      "image/png": "[encoded data removed]",
      "text/latex": [
       "$\\displaystyle - \\frac{3 \\delta_{f}{\\left(r \\right)} \\frac{d}{d r} \\delta_{g}{\\left(r \\right)} \\frac{d}{d r} g{\\left(r \\right)}}{16 \\sqrt{f{\\left(r \\right)} g{\\left(r \\right)}}}$"
      ],
      "text/plain": [
       "          d          d        \n",
       "-3⋅δ_f(r)⋅──(δ_g(r))⋅──(g(r)) \n",
       "          dr         dr       \n",
       "──────────────────────────────\n",
       "            ___________       \n",
       "       16⋅╲╱ f(r)⋅g(r)        "
      ]
     },
     "execution_count": 38,
     "metadata": {},
     "output_type": "execute_result"
    }
   ],
   "source": [
    "term4 = -3 * delta_f * ddelta_g * dg / (16 * sympy.sqrt(f * g))\n",
    "term4"
   ]
  },
  {
   "cell_type": "code",
   "execution_count": 39,
   "id": "138427a9",
   "metadata": {},
   "outputs": [],
   "source": [
    "ddelta_g_terms.append((-3 * dg) / (16 * sympy.sqrt(f * g)) * dlie_delta_f)\n",
    "delta_f_terms.append((-3 * dg) / (16 * sympy.sqrt(f * g)) * dlie_ddelta_g)"
   ]
  },
  {
   "cell_type": "markdown",
   "id": "8a38325a",
   "metadata": {},
   "source": [
    "##### Term 5"
   ]
  },
  {
   "cell_type": "code",
   "execution_count": 40,
   "id": "b89ff060",
   "metadata": {},
   "outputs": [
    {
     "data": {
      "image/png": "[encoded data removed]",
      "text/latex": [
       "$\\displaystyle \\frac{\\left(48 L^{4} \\Phi_{s} + 12 L^{4} f{\\left(r \\right)} g{\\left(r \\right)} \\left(\\frac{d}{d r} \\Phi{\\left(r \\right)}\\right)^{2} + 3 L^{2} f{\\left(r \\right)} \\left(\\frac{d}{d r} g{\\left(r \\right)}\\right)^{2} + 12 L^{2} g{\\left(r \\right)} + 36 g^{2}{\\left(r \\right)}\\right) \\delta_{f}{\\left(r \\right)} \\delta_{g}{\\left(r \\right)}}{64 L^{2} \\sqrt{f{\\left(r \\right)} g{\\left(r \\right)}} f{\\left(r \\right)} g{\\left(r \\right)}}$"
      ],
      "text/plain": [
       "⎛                                     2                       2               \n",
       "⎜    4          4           ⎛d       ⎞       2      ⎛d       ⎞        2       \n",
       "⎜48⋅L ⋅Φₛ + 12⋅L ⋅f(r)⋅g(r)⋅⎜──(Φ(r))⎟  + 3⋅L ⋅f(r)⋅⎜──(g(r))⎟  + 12⋅L ⋅g(r) +\n",
       "⎝                           ⎝dr      ⎠              ⎝dr      ⎠                \n",
       "──────────────────────────────────────────────────────────────────────────────\n",
       "                                        2   ___________                       \n",
       "                                    64⋅L ⋅╲╱ f(r)⋅g(r) ⋅f(r)⋅g(r)             \n",
       "\n",
       "         ⎞              \n",
       "     2   ⎟              \n",
       " 36⋅g (r)⎟⋅δ_f(r)⋅δ_g(r)\n",
       "         ⎠              \n",
       "────────────────────────\n",
       "                        \n",
       "                        "
      ]
     },
     "execution_count": 40,
     "metadata": {},
     "output_type": "execute_result"
    }
   ],
   "source": [
    "fac2 = 16 * L ** 4 * Phi_s + 4 * L ** 4 * f * g * dPhi ** 2 + L ** 2 * f * dg ** 2 + 4 * L ** 2 * g + 12 * g ** 2\n",
    "term5 = 3 * fac2 * delta_f * delta_g / (64 * L ** 2 * f * g * sympy.sqrt(f * g))\n",
    "term5"
   ]
  },
  {
   "cell_type": "code",
   "execution_count": 41,
   "id": "36cb684d",
   "metadata": {},
   "outputs": [],
   "source": [
    "delta_g_terms.append((3 * fac2) / (64 * L ** 2 * sympy.sqrt(f ** 3 * g ** 3)) * dlie_delta_f)\n",
    "delta_f_terms.append((3 * fac2) / (64 * L ** 2 * sympy.sqrt(f ** 3 * g ** 3)) * dlie_delta_g)"
   ]
  },
  {
   "cell_type": "markdown",
   "id": "89e12188",
   "metadata": {},
   "source": [
    "### Total"
   ]
  },
  {
   "cell_type": "markdown",
   "id": "6820b2d7",
   "metadata": {},
   "source": [
    "##### f terms"
   ]
  },
  {
   "cell_type": "code",
   "execution_count": 42,
   "id": "440efeb6",
   "metadata": {},
   "outputs": [
    {
     "data": {
      "image/png": "[encoded data removed]",
      "text/latex": [
       "$\\displaystyle - \\frac{3 L^{2} \\left(\\left(- 8 \\Phi{\\left(r \\right)} + f{\\left(r \\right)} \\frac{d}{d r} \\Phi{\\left(r \\right)} \\frac{d}{d r} g{\\left(r \\right)} + g{\\left(r \\right)} \\frac{d}{d r} \\Phi{\\left(r \\right)} \\frac{d}{d r} f{\\left(r \\right)}\\right) \\xi{\\left(r \\right)} - 2 f{\\left(r \\right)} g{\\left(r \\right)} \\frac{d}{d r} \\Phi{\\left(r \\right)} \\frac{d}{d r} \\xi{\\left(r \\right)}\\right) \\frac{d}{d r} \\Phi{\\left(r \\right)}}{8 \\sqrt{f{\\left(r \\right)} g{\\left(r \\right)}} f{\\left(r \\right)}} - \\frac{3 L^{2} \\Phi{\\left(r \\right)} \\xi{\\left(r \\right)} \\frac{d}{d r} \\Phi{\\left(r \\right)}}{\\sqrt{f{\\left(r \\right)} g{\\left(r \\right)}} f{\\left(r \\right)}} + \\frac{\\left(- 2 f{\\left(r \\right)} \\frac{d}{d r} \\xi{\\left(r \\right)} + \\xi{\\left(r \\right)} \\frac{d}{d r} f{\\left(r \\right)}\\right) \\left(6 L^{2} g{\\left(r \\right)} \\left(\\frac{d}{d r} \\Phi{\\left(r \\right)}\\right)^{2} - 6 r^{2}\\right)}{16 \\sqrt{f{\\left(r \\right)} g{\\left(r \\right)}} f{\\left(r \\right)}} - \\frac{3 \\left(\\xi{\\left(r \\right)} \\frac{d^{2}}{d r^{2}} g{\\left(r \\right)} + \\frac{d}{d r} g{\\left(r \\right)} \\frac{d}{d r} \\xi{\\left(r \\right)}\\right) \\frac{d}{d r} g{\\left(r \\right)}}{16 \\sqrt{f{\\left(r \\right)} g{\\left(r \\right)}}} + \\frac{\\left(48 L^{4} \\Phi_{s} + 12 L^{4} f{\\left(r \\right)} g{\\left(r \\right)} \\left(\\frac{d}{d r} \\Phi{\\left(r \\right)}\\right)^{2} + 3 L^{2} f{\\left(r \\right)} \\left(\\frac{d}{d r} g{\\left(r \\right)}\\right)^{2} + 12 L^{2} g{\\left(r \\right)} + 36 g^{2}{\\left(r \\right)}\\right) \\xi{\\left(r \\right)} \\frac{d}{d r} g{\\left(r \\right)}}{64 L^{2} \\sqrt{f^{3}{\\left(r \\right)} g^{3}{\\left(r \\right)}}}$"
      ],
      "text/plain": [
       "                                                                              \n",
       "                                                                              \n",
       "     2 ⎛⎛               d        d               d        d       ⎞           \n",
       "  3⋅L ⋅⎜⎜-8⋅Φ(r) + f(r)⋅──(Φ(r))⋅──(g(r)) + g(r)⋅──(Φ(r))⋅──(f(r))⎟⋅ξ(r) - 2⋅f\n",
       "       ⎝⎝               dr       dr              dr       dr      ⎠           \n",
       "- ────────────────────────────────────────────────────────────────────────────\n",
       "                                                    ___________               \n",
       "                                                8⋅╲╱ f(r)⋅g(r) ⋅f(r)          \n",
       "                                                                              \n",
       "\n",
       "                                                                              \n",
       "                                                                              \n",
       "         d        d       ⎞ d             2           d          ⎛         d  \n",
       "(r)⋅g(r)⋅──(Φ(r))⋅──(ξ(r))⎟⋅──(Φ(r))   3⋅L ⋅Φ(r)⋅ξ(r)⋅──(Φ(r))   ⎜- 2⋅f(r)⋅──(\n",
       "         dr       dr      ⎠ dr                        dr         ⎝         dr \n",
       "──────────────────────────────────── - ─────────────────────── + ─────────────\n",
       "                                            ___________                       \n",
       "                                          ╲╱ f(r)⋅g(r) ⋅f(r)                  \n",
       "                                                                              \n",
       "\n",
       "                                                          ⎛       2           \n",
       "                       ⎛                    2       ⎞     ⎜      d          d \n",
       "             d       ⎞ ⎜   2      ⎛d       ⎞       2⎟   3⋅⎜ξ(r)⋅───(g(r)) + ──\n",
       "ξ(r)) + ξ(r)⋅──(f(r))⎟⋅⎜6⋅L ⋅g(r)⋅⎜──(Φ(r))⎟  - 6⋅r ⎟     ⎜       2         dr\n",
       "             dr      ⎠ ⎝          ⎝dr      ⎠        ⎠     ⎝     dr            \n",
       "───────────────────────────────────────────────────── - ──────────────────────\n",
       "              ___________                                                    _\n",
       "         16⋅╲╱ f(r)⋅g(r) ⋅f(r)                                          16⋅╲╱ \n",
       "                                                                              \n",
       "\n",
       "               ⎞                                                              \n",
       "       d       ⎟ d          ⎛                                     2           \n",
       "(g(r))⋅──(ξ(r))⎟⋅──(g(r))   ⎜    4          4           ⎛d       ⎞       2    \n",
       "       dr      ⎟ dr         ⎜48⋅L ⋅Φₛ + 12⋅L ⋅f(r)⋅g(r)⋅⎜──(Φ(r))⎟  + 3⋅L ⋅f(r\n",
       "               ⎠            ⎝                           ⎝dr      ⎠            \n",
       "───────────────────────── + ──────────────────────────────────────────────────\n",
       "__________                                                                   _\n",
       "f(r)⋅g(r)                                                               2   ╱ \n",
       "                                                                    64⋅L ⋅╲╱  \n",
       "\n",
       "                                                    \n",
       "            2                        ⎞              \n",
       "  ⎛d       ⎞        2            2   ⎟      d       \n",
       ")⋅⎜──(g(r))⎟  + 12⋅L ⋅g(r) + 36⋅g (r)⎟⋅ξ(r)⋅──(g(r))\n",
       "  ⎝dr      ⎠                         ⎠      dr      \n",
       "────────────────────────────────────────────────────\n",
       "____________                                        \n",
       " 3     3                                            \n",
       "f (r)⋅g (r)                                         "
      ]
     },
     "execution_count": 42,
     "metadata": {},
     "output_type": "execute_result"
    }
   ],
   "source": [
    "total_delta_f_term = sum(delta_f_terms)\n",
    "total_delta_f_term"
   ]
  },
  {
   "cell_type": "code",
   "execution_count": 43,
   "id": "031d3a48",
   "metadata": {},
   "outputs": [
    {
     "data": {
      "image/png": "[encoded data removed]",
      "text/latex": [
       "$\\displaystyle 12 L^{4} \\Phi_{s} r \\xi{\\left(r \\right)} - \\frac{6 L^{4} r \\left(f{\\left(r \\right)} g{\\left(r \\right)}\\right)^{\\frac{5}{2}} \\xi{\\left(r \\right)} \\left(\\frac{d}{d r} \\Phi{\\left(r \\right)}\\right)^{2}}{\\sqrt{f^{3}{\\left(r \\right)} g^{3}{\\left(r \\right)}}} + 3 L^{4} r f{\\left(r \\right)} g{\\left(r \\right)} \\xi{\\left(r \\right)} \\left(\\frac{d}{d r} \\Phi{\\left(r \\right)}\\right)^{2} + 3 L^{2} r^{3} f{\\left(r \\right)} \\xi{\\left(r \\right)} - \\frac{6 L^{2} r \\left(f{\\left(r \\right)} g{\\left(r \\right)}\\right)^{\\frac{5}{2}} \\xi{\\left(r \\right)}}{\\sqrt{f^{3}{\\left(r \\right)} g^{3}{\\left(r \\right)}}} + 3 L^{2} r g{\\left(r \\right)} \\xi{\\left(r \\right)} - \\frac{6 r^{3} \\left(f{\\left(r \\right)} g{\\left(r \\right)}\\right)^{\\frac{3}{2}} g{\\left(r \\right)} \\xi{\\left(r \\right)}}{\\sqrt{f^{3}{\\left(r \\right)} g^{3}{\\left(r \\right)}}} + 9 r g^{2}{\\left(r \\right)} \\xi{\\left(r \\right)}$"
      ],
      "text/plain": [
       "                                                       2                      \n",
       "                     4              5/2      ⎛d       ⎞                       \n",
       "                  6⋅L ⋅r⋅(f(r)⋅g(r))   ⋅ξ(r)⋅⎜──(Φ(r))⎟                       \n",
       "    4                                        ⎝dr      ⎠       4               \n",
       "12⋅L ⋅Φₛ⋅r⋅ξ(r) - ────────────────────────────────────── + 3⋅L ⋅r⋅f(r)⋅g(r)⋅ξ(\n",
       "                                _____________                                 \n",
       "                               ╱  3     3                                     \n",
       "                             ╲╱  f (r)⋅g (r)                                  \n",
       "\n",
       "                                                                              \n",
       "                                                                              \n",
       "             2                          2              5/2                    \n",
       "   ⎛d       ⎞       2  3             6⋅L ⋅r⋅(f(r)⋅g(r))   ⋅ξ(r)      2        \n",
       "r)⋅⎜──(Φ(r))⎟  + 3⋅L ⋅r ⋅f(r)⋅ξ(r) - ────────────────────────── + 3⋅L ⋅r⋅g(r)⋅\n",
       "   ⎝dr      ⎠                                _____________                    \n",
       "                                            ╱  3     3                        \n",
       "                                          ╲╱  f (r)⋅g (r)                     \n",
       "\n",
       "                                                     \n",
       "                                                     \n",
       "          3            3/2                           \n",
       "       6⋅r ⋅(f(r)⋅g(r))   ⋅g(r)⋅ξ(r)        2        \n",
       "ξ(r) - ───────────────────────────── + 9⋅r⋅g (r)⋅ξ(r)\n",
       "                 _____________                       \n",
       "                ╱  3     3                           \n",
       "              ╲╱  f (r)⋅g (r)                        "
      ]
     },
     "execution_count": 43,
     "metadata": {},
     "output_type": "execute_result"
    }
   ],
   "source": [
    "f_term_num = sympy.fraction(total_delta_f_term.subs({dg: dg_sol, ddg: ddg_sol, df: df_sol}).simplify())[0] / sympy.sqrt(f ** 3 * g ** 3)\n",
    "f_term_num.simplify()"
   ]
  },
  {
   "cell_type": "markdown",
   "id": "91f0d784",
   "metadata": {},
   "source": [
    "Substitute Phi squared."
   ]
  },
  {
   "cell_type": "code",
   "execution_count": 44,
   "id": "75769d5f",
   "metadata": {},
   "outputs": [
    {
     "data": {
      "image/png": "[encoded data removed]",
      "text/latex": [
       "$\\displaystyle - 3 C_{s} L^{4} r \\xi{\\left(r \\right)} - \\frac{6 L^{4} r \\left(f{\\left(r \\right)} g{\\left(r \\right)}\\right)^{\\frac{5}{2}} \\xi{\\left(r \\right)} \\left(\\frac{d}{d r} \\Phi{\\left(r \\right)}\\right)^{2}}{\\sqrt{f^{3}{\\left(r \\right)} g^{3}{\\left(r \\right)}}} + 6 L^{4} r f{\\left(r \\right)} g{\\left(r \\right)} \\xi{\\left(r \\right)} \\left(\\frac{d}{d r} \\Phi{\\left(r \\right)}\\right)^{2} + 3 L^{2} r^{3} f{\\left(r \\right)} \\xi{\\left(r \\right)} - \\frac{6 L^{2} r \\left(f{\\left(r \\right)} g{\\left(r \\right)}\\right)^{\\frac{5}{2}} \\xi{\\left(r \\right)}}{\\sqrt{f^{3}{\\left(r \\right)} g^{3}{\\left(r \\right)}}} + 3 L^{2} r g{\\left(r \\right)} \\xi{\\left(r \\right)} - \\frac{6 r^{3} \\left(f{\\left(r \\right)} g{\\left(r \\right)}\\right)^{\\frac{3}{2}} g{\\left(r \\right)} \\xi{\\left(r \\right)}}{\\sqrt{f^{3}{\\left(r \\right)} g^{3}{\\left(r \\right)}}} + 9 r g^{2}{\\left(r \\right)} \\xi{\\left(r \\right)}$"
      ],
      "text/plain": [
       "                                                        2                     \n",
       "                      4              5/2      ⎛d       ⎞                      \n",
       "                   6⋅L ⋅r⋅(f(r)⋅g(r))   ⋅ξ(r)⋅⎜──(Φ(r))⎟                      \n",
       "        4                                     ⎝dr      ⎠       4              \n",
       "- 3⋅Cₛ⋅L ⋅r⋅ξ(r) - ────────────────────────────────────── + 6⋅L ⋅r⋅f(r)⋅g(r)⋅ξ\n",
       "                                 _____________                                \n",
       "                                ╱  3     3                                    \n",
       "                              ╲╱  f (r)⋅g (r)                                 \n",
       "\n",
       "                                                                              \n",
       "                                                                              \n",
       "              2                          2              5/2                   \n",
       "    ⎛d       ⎞       2  3             6⋅L ⋅r⋅(f(r)⋅g(r))   ⋅ξ(r)      2       \n",
       "(r)⋅⎜──(Φ(r))⎟  + 3⋅L ⋅r ⋅f(r)⋅ξ(r) - ────────────────────────── + 3⋅L ⋅r⋅g(r)\n",
       "    ⎝dr      ⎠                                _____________                   \n",
       "                                             ╱  3     3                       \n",
       "                                           ╲╱  f (r)⋅g (r)                    \n",
       "\n",
       "                                                      \n",
       "                                                      \n",
       "           3            3/2                           \n",
       "        6⋅r ⋅(f(r)⋅g(r))   ⋅g(r)⋅ξ(r)        2        \n",
       "⋅ξ(r) - ───────────────────────────── + 9⋅r⋅g (r)⋅ξ(r)\n",
       "                  _____________                       \n",
       "                 ╱  3     3                           \n",
       "               ╲╱  f (r)⋅g (r)                        "
      ]
     },
     "execution_count": 44,
     "metadata": {},
     "output_type": "execute_result"
    }
   ],
   "source": [
    "f_term_num.subs({Phi_s: Phi_s_sol}).simplify()"
   ]
  },
  {
   "cell_type": "code",
   "execution_count": 45,
   "id": "987cc07f",
   "metadata": {},
   "outputs": [
    {
     "data": {
      "image/png": "[encoded data removed]",
      "text/latex": [
       "$\\displaystyle - 3 C_{s} L^{4} r \\xi{\\left(r \\right)} + 3 L^{2} r^{3} f{\\left(r \\right)} \\xi{\\left(r \\right)} - 6 L^{2} r f{\\left(r \\right)} g{\\left(r \\right)} \\xi{\\left(r \\right)} + 3 L^{2} r g{\\left(r \\right)} \\xi{\\left(r \\right)} - 6 r^{3} g{\\left(r \\right)} \\xi{\\left(r \\right)} + 9 r g^{2}{\\left(r \\right)} \\xi{\\left(r \\right)}$"
      ],
      "text/plain": [
       "        4             2  3                2                       2           \n",
       "- 3⋅Cₛ⋅L ⋅r⋅ξ(r) + 3⋅L ⋅r ⋅f(r)⋅ξ(r) - 6⋅L ⋅r⋅f(r)⋅g(r)⋅ξ(r) + 3⋅L ⋅r⋅g(r)⋅ξ(r\n",
       "\n",
       "       3                  2        \n",
       ") - 6⋅r ⋅g(r)⋅ξ(r) + 9⋅r⋅g (r)⋅ξ(r)"
      ]
     },
     "execution_count": 45,
     "metadata": {},
     "output_type": "execute_result"
    }
   ],
   "source": [
    "f_term_num = -3 * C_s * L ** 4 * r * xi + 3 * L ** 2 * r ** 3 * f * xi - 6 * L ** 2 * r * f * g * xi + 3 * L ** 2 * r * g * xi - 6 * r ** 3 * g * xi + 9 * r * g ** 2 * xi\n",
    "f_term_num"
   ]
  },
  {
   "cell_type": "code",
   "execution_count": 46,
   "id": "621838d7",
   "metadata": {},
   "outputs": [
    {
     "data": {
      "image/png": "[encoded data removed]",
      "text/latex": [
       "$\\displaystyle \\frac{- L^{2} r_{0}^{2} - r_{0}^{4}}{L^{4}}$"
      ],
      "text/plain": [
       "   2   2     4\n",
       "- L ⋅r₀  - r₀ \n",
       "──────────────\n",
       "       4      \n",
       "      L       "
      ]
     },
     "execution_count": 46,
     "metadata": {},
     "output_type": "execute_result"
    }
   ],
   "source": [
    "C_s_sol = -(L ** 2 * r_0 ** 2 + r_0 ** 4) / L ** 4\n",
    "C_s_sol"
   ]
  },
  {
   "cell_type": "code",
   "execution_count": 47,
   "id": "8882ea2a",
   "metadata": {},
   "outputs": [
    {
     "data": {
      "image/png": "[encoded data removed]",
      "text/latex": [
       "$\\displaystyle 0$"
      ],
      "text/plain": [
       "0"
      ]
     },
     "execution_count": 47,
     "metadata": {},
     "output_type": "execute_result"
    }
   ],
   "source": [
    "f_term_num.subs({C_s: C_s_sol, f: f_sol, g: g_sol}).simplify()"
   ]
  },
  {
   "cell_type": "markdown",
   "id": "b8326265",
   "metadata": {},
   "source": [
    "##### g terms"
   ]
  },
  {
   "cell_type": "code",
   "execution_count": 48,
   "id": "0f6d2e05",
   "metadata": {},
   "outputs": [
    {
     "data": {
      "image/png": "[encoded data removed]",
      "text/latex": [
       "$\\displaystyle \\left[ - \\frac{3 L^{2} \\Phi{\\left(r \\right)} \\xi{\\left(r \\right)} \\frac{d}{d r} \\Phi{\\left(r \\right)}}{\\sqrt{f{\\left(r \\right)} g{\\left(r \\right)}} g{\\left(r \\right)}}, \\  - \\frac{3 L^{2} \\left(\\left(- 8 \\Phi{\\left(r \\right)} + f{\\left(r \\right)} \\frac{d}{d r} \\Phi{\\left(r \\right)} \\frac{d}{d r} g{\\left(r \\right)} + g{\\left(r \\right)} \\frac{d}{d r} \\Phi{\\left(r \\right)} \\frac{d}{d r} f{\\left(r \\right)}\\right) \\xi{\\left(r \\right)} - 2 f{\\left(r \\right)} g{\\left(r \\right)} \\frac{d}{d r} \\Phi{\\left(r \\right)} \\frac{d}{d r} \\xi{\\left(r \\right)}\\right) \\frac{d}{d r} \\Phi{\\left(r \\right)}}{8 \\sqrt{f{\\left(r \\right)} g{\\left(r \\right)}} g{\\left(r \\right)}}, \\  \\frac{3 \\sqrt{f{\\left(r \\right)} g{\\left(r \\right)}} \\left(\\xi{\\left(r \\right)} \\frac{d^{2}}{d r^{2}} g{\\left(r \\right)} + \\frac{d}{d r} g{\\left(r \\right)} \\frac{d}{d r} \\xi{\\left(r \\right)}\\right) \\frac{d}{d r} g{\\left(r \\right)}}{32 g^{2}{\\left(r \\right)}}, \\  \\frac{\\left(288 L^{4} \\Phi_{s} - 24 L^{4} f{\\left(r \\right)} g{\\left(r \\right)} \\left(\\frac{d}{d r} \\Phi{\\left(r \\right)}\\right)^{2} - 12 L^{2} f{\\left(r \\right)} g{\\left(r \\right)} \\frac{d^{2}}{d r^{2}} g{\\left(r \\right)} - 6 L^{2} g{\\left(r \\right)} \\frac{d}{d r} f{\\left(r \\right)} \\frac{d}{d r} g{\\left(r \\right)} + 24 L^{2} g{\\left(r \\right)} - 72 g^{2}{\\left(r \\right)}\\right) \\xi{\\left(r \\right)} \\frac{d}{d r} g{\\left(r \\right)}}{128 L^{2} \\sqrt{f{\\left(r \\right)} g^{5}{\\left(r \\right)}}}, \\  \\frac{\\left(- 2 f{\\left(r \\right)} \\frac{d}{d r} \\xi{\\left(r \\right)} + \\xi{\\left(r \\right)} \\frac{d}{d r} f{\\left(r \\right)}\\right) \\left(48 L^{4} \\Phi_{s} + 12 L^{4} f{\\left(r \\right)} g{\\left(r \\right)} \\left(\\frac{d}{d r} \\Phi{\\left(r \\right)}\\right)^{2} + 3 L^{2} f{\\left(r \\right)} \\left(\\frac{d}{d r} g{\\left(r \\right)}\\right)^{2} + 12 L^{2} g{\\left(r \\right)} + 36 g^{2}{\\left(r \\right)}\\right)}{64 L^{2} \\sqrt{f^{3}{\\left(r \\right)} g^{3}{\\left(r \\right)}}}\\right]$"
      ],
      "text/plain": [
       "⎡                                                                             \n",
       "⎢                                                                             \n",
       "⎢    2           d              2 ⎛⎛               d        d               d \n",
       "⎢-3⋅L ⋅Φ(r)⋅ξ(r)⋅──(Φ(r))   -3⋅L ⋅⎜⎜-8⋅Φ(r) + f(r)⋅──(Φ(r))⋅──(g(r)) + g(r)⋅──\n",
       "⎢                dr               ⎝⎝               dr       dr              dr\n",
       "⎢─────────────────────────, ──────────────────────────────────────────────────\n",
       "⎢      ___________                                                            \n",
       "⎢    ╲╱ f(r)⋅g(r) ⋅g(r)                                                    8⋅╲\n",
       "⎣                                                                             \n",
       "\n",
       "                                                                              \n",
       "                                                                      ________\n",
       "       d       ⎞                    d        d       ⎞ d          3⋅╲╱ f(r)⋅g(\n",
       "(Φ(r))⋅──(f(r))⎟⋅ξ(r) - 2⋅f(r)⋅g(r)⋅──(Φ(r))⋅──(ξ(r))⎟⋅──(Φ(r))               \n",
       "       dr      ⎠                    dr       dr      ⎠ dr                     \n",
       "────────────────────────────────────────────────────────────────, ────────────\n",
       " ___________                                                                  \n",
       "╱ f(r)⋅g(r) ⋅g(r)                                                             \n",
       "                                                                              \n",
       "\n",
       "    ⎛       2                          ⎞           ⎛                          \n",
       "___ ⎜      d          d        d       ⎟ d         ⎜     4          4         \n",
       "r) ⋅⎜ξ(r)⋅───(g(r)) + ──(g(r))⋅──(ξ(r))⎟⋅──(g(r))  ⎜288⋅L ⋅Φₛ - 24⋅L ⋅f(r)⋅g(r\n",
       "    ⎜       2         dr       dr      ⎟ dr        ⎜                          \n",
       "    ⎝     dr                           ⎠           ⎝                          \n",
       "─────────────────────────────────────────────────, ───────────────────────────\n",
       "                   2                                                          \n",
       "               32⋅g (r)                                                       \n",
       "                                                                              \n",
       "\n",
       "            2                     2                                           \n",
       "  ⎛d       ⎞        2            d             2      d        d              \n",
       ")⋅⎜──(Φ(r))⎟  - 12⋅L ⋅f(r)⋅g(r)⋅───(g(r)) - 6⋅L ⋅g(r)⋅──(f(r))⋅──(g(r)) + 24⋅L\n",
       "  ⎝dr      ⎠                      2                   dr       dr             \n",
       "                                dr                                            \n",
       "──────────────────────────────────────────────────────────────────────────────\n",
       "                                         ____________                         \n",
       "                                    2   ╱       5                             \n",
       "                               128⋅L ⋅╲╱  f(r)⋅g (r)                          \n",
       "\n",
       "                 ⎞                                                            \n",
       "2            2   ⎟      d                                             ⎛       \n",
       " ⋅g(r) - 72⋅g (r)⎟⋅ξ(r)⋅──(g(r))  ⎛         d               d       ⎞ ⎜    4  \n",
       "                 ⎟      dr        ⎜- 2⋅f(r)⋅──(ξ(r)) + ξ(r)⋅──(f(r))⎟⋅⎜48⋅L ⋅Φ\n",
       "                 ⎠                ⎝         dr              dr      ⎠ ⎝       \n",
       "────────────────────────────────, ────────────────────────────────────────────\n",
       "                                                                              \n",
       "                                                                              \n",
       "                                                                              \n",
       "\n",
       "                                                                              \n",
       "                              2                       2                       \n",
       "        4           ⎛d       ⎞       2      ⎛d       ⎞        2            2  \n",
       "ₛ + 12⋅L ⋅f(r)⋅g(r)⋅⎜──(Φ(r))⎟  + 3⋅L ⋅f(r)⋅⎜──(g(r))⎟  + 12⋅L ⋅g(r) + 36⋅g (r\n",
       "                    ⎝dr      ⎠              ⎝dr      ⎠                        \n",
       "──────────────────────────────────────────────────────────────────────────────\n",
       "                _____________                                                 \n",
       "           2   ╱  3     3                                                     \n",
       "       64⋅L ⋅╲╱  f (r)⋅g (r)                                                  \n",
       "\n",
       "  ⎤\n",
       " ⎞⎥\n",
       " ⎟⎥\n",
       ")⎟⎥\n",
       " ⎠⎥\n",
       "──⎥\n",
       "  ⎥\n",
       "  ⎥\n",
       "  ⎦"
      ]
     },
     "execution_count": 48,
     "metadata": {},
     "output_type": "execute_result"
    }
   ],
   "source": [
    "delta_g_terms"
   ]
  },
  {
   "cell_type": "markdown",
   "id": "478a229d",
   "metadata": {},
   "source": [
    "Multiply through by f^1.5 * g^2.5 to simplify."
   ]
  },
  {
   "cell_type": "code",
   "execution_count": 49,
   "id": "a123ade7",
   "metadata": {},
   "outputs": [
    {
     "data": {
      "image/png": "[encoded data removed]",
      "text/latex": [
       "$\\displaystyle \\left[ - 3 L^{2} \\Phi{\\left(r \\right)} f{\\left(r \\right)} g{\\left(r \\right)} \\xi{\\left(r \\right)} \\frac{d}{d r} \\Phi{\\left(r \\right)}, \\  - \\frac{3 L^{2} \\left(\\left(- 8 \\Phi{\\left(r \\right)} + f{\\left(r \\right)} \\frac{d}{d r} \\Phi{\\left(r \\right)} \\frac{d}{d r} g{\\left(r \\right)} + g{\\left(r \\right)} \\frac{d}{d r} \\Phi{\\left(r \\right)} \\frac{d}{d r} f{\\left(r \\right)}\\right) \\xi{\\left(r \\right)} - 2 f{\\left(r \\right)} g{\\left(r \\right)} \\frac{d}{d r} \\Phi{\\left(r \\right)} \\frac{d}{d r} \\xi{\\left(r \\right)}\\right) f{\\left(r \\right)} g{\\left(r \\right)} \\frac{d}{d r} \\Phi{\\left(r \\right)}}{8}, \\  \\frac{3 \\left(\\xi{\\left(r \\right)} \\frac{d^{2}}{d r^{2}} g{\\left(r \\right)} + \\frac{d}{d r} g{\\left(r \\right)} \\frac{d}{d r} \\xi{\\left(r \\right)}\\right) f^{2}{\\left(r \\right)} g{\\left(r \\right)} \\frac{d}{d r} g{\\left(r \\right)}}{32}, \\  \\frac{\\left(288 L^{4} \\Phi_{s} - 24 L^{4} f{\\left(r \\right)} g{\\left(r \\right)} \\left(\\frac{d}{d r} \\Phi{\\left(r \\right)}\\right)^{2} - 12 L^{2} f{\\left(r \\right)} g{\\left(r \\right)} \\frac{d^{2}}{d r^{2}} g{\\left(r \\right)} - 6 L^{2} g{\\left(r \\right)} \\frac{d}{d r} f{\\left(r \\right)} \\frac{d}{d r} g{\\left(r \\right)} + 24 L^{2} g{\\left(r \\right)} - 72 g^{2}{\\left(r \\right)}\\right) f{\\left(r \\right)} \\xi{\\left(r \\right)} \\frac{d}{d r} g{\\left(r \\right)}}{128 L^{2}}, \\  \\frac{\\left(- 2 f{\\left(r \\right)} \\frac{d}{d r} \\xi{\\left(r \\right)} + \\xi{\\left(r \\right)} \\frac{d}{d r} f{\\left(r \\right)}\\right) \\left(48 L^{4} \\Phi_{s} + 12 L^{4} f{\\left(r \\right)} g{\\left(r \\right)} \\left(\\frac{d}{d r} \\Phi{\\left(r \\right)}\\right)^{2} + 3 L^{2} f{\\left(r \\right)} \\left(\\frac{d}{d r} g{\\left(r \\right)}\\right)^{2} + 12 L^{2} g{\\left(r \\right)} + 36 g^{2}{\\left(r \\right)}\\right) g{\\left(r \\right)}}{64 L^{2}}\\right]$"
      ],
      "text/plain": [
       "⎡                                                                             \n",
       "⎢                                                                             \n",
       "⎢                                        2 ⎛⎛               d        d        \n",
       "⎢                                    -3⋅L ⋅⎜⎜-8⋅Φ(r) + f(r)⋅──(Φ(r))⋅──(g(r)) \n",
       "⎢    2                     d               ⎝⎝               dr       dr       \n",
       "⎢-3⋅L ⋅Φ(r)⋅f(r)⋅g(r)⋅ξ(r)⋅──(Φ(r)), ─────────────────────────────────────────\n",
       "⎢                          dr                                                 \n",
       "⎣                                                                             \n",
       "\n",
       "                                                                              \n",
       "                                                                              \n",
       "       d        d       ⎞                    d        d       ⎞           d   \n",
       "+ g(r)⋅──(Φ(r))⋅──(f(r))⎟⋅ξ(r) - 2⋅f(r)⋅g(r)⋅──(Φ(r))⋅──(ξ(r))⎟⋅f(r)⋅g(r)⋅──(Φ\n",
       "       dr       dr      ⎠                    dr       dr      ⎠           dr  \n",
       "──────────────────────────────────────────────────────────────────────────────\n",
       "                    8                                                         \n",
       "                                                                              \n",
       "\n",
       "         ⎛       2                          ⎞                      ⎛          \n",
       "         ⎜      d          d        d       ⎟  2         d         ⎜     4    \n",
       "       3⋅⎜ξ(r)⋅───(g(r)) + ──(g(r))⋅──(ξ(r))⎟⋅f (r)⋅g(r)⋅──(g(r))  ⎜288⋅L ⋅Φₛ \n",
       "(r))     ⎜       2         dr       dr      ⎟            dr        ⎜          \n",
       "         ⎝     dr                           ⎠                      ⎝          \n",
       "─────, ──────────────────────────────────────────────────────────, ───────────\n",
       "                                   32                                         \n",
       "                                                                              \n",
       "\n",
       "                            2                     2                           \n",
       "      4           ⎛d       ⎞        2            d             2      d       \n",
       "- 24⋅L ⋅f(r)⋅g(r)⋅⎜──(Φ(r))⎟  - 12⋅L ⋅f(r)⋅g(r)⋅───(g(r)) - 6⋅L ⋅g(r)⋅──(f(r))\n",
       "                  ⎝dr      ⎠                      2                   dr      \n",
       "                                                dr                            \n",
       "──────────────────────────────────────────────────────────────────────────────\n",
       "                                                              2               \n",
       "                                                         128⋅L                \n",
       "\n",
       "                                 ⎞                                            \n",
       " d              2            2   ⎟           d                                \n",
       "⋅──(g(r)) + 24⋅L ⋅g(r) - 72⋅g (r)⎟⋅f(r)⋅ξ(r)⋅──(g(r))  ⎛         d            \n",
       " dr                              ⎟           dr        ⎜- 2⋅f(r)⋅──(ξ(r)) + ξ(\n",
       "                                 ⎠                     ⎝         dr           \n",
       "─────────────────────────────────────────────────────, ───────────────────────\n",
       "                                                                              \n",
       "                                                                              \n",
       "\n",
       "                                                                              \n",
       "             ⎛                                     2                       2  \n",
       "   d       ⎞ ⎜    4          4           ⎛d       ⎞       2      ⎛d       ⎞   \n",
       "r)⋅──(f(r))⎟⋅⎜48⋅L ⋅Φₛ + 12⋅L ⋅f(r)⋅g(r)⋅⎜──(Φ(r))⎟  + 3⋅L ⋅f(r)⋅⎜──(g(r))⎟  +\n",
       "   dr      ⎠ ⎝                           ⎝dr      ⎠              ⎝dr      ⎠   \n",
       "──────────────────────────────────────────────────────────────────────────────\n",
       "                                           2                                  \n",
       "                                       64⋅L                                   \n",
       "\n",
       "                            ⎤\n",
       "                      ⎞     ⎥\n",
       "     2            2   ⎟     ⎥\n",
       " 12⋅L ⋅g(r) + 36⋅g (r)⎟⋅g(r)⎥\n",
       "                      ⎠     ⎥\n",
       "────────────────────────────⎥\n",
       "                            ⎥\n",
       "                            ⎦"
      ]
     },
     "execution_count": 49,
     "metadata": {},
     "output_type": "execute_result"
    }
   ],
   "source": [
    "delta_g_terms = [\n",
    "    -3 * L ** 2 * Phi * xi * dPhi * g * f,\n",
    "    -3 * L ** 2 * dPhi * g * f * ((-8 * Phi + f * dPhi * dg + g * dPhi * df) * xi - 2 * f * g * dPhi * dxi) / 8,\n",
    "    3 * g * f ** 2 * (xi * ddg + dg * dxi) * dg / 32,\n",
    "    (288 * L ** 4 * Phi_s - 24 * L ** 4 * f * g * dPhi ** 2 - 12 * L ** 2 * f * g * ddg - 6 * L ** 2 * g * df * dg + 24 * L ** 2 * g - 72 * g ** 2) * xi * dg * f / (128 * L ** 2),\n",
    "    g * (-2 * f * dxi + xi * df) * (48 * L ** 4 * Phi_s + 12 * L ** 4 * f * g * dPhi ** 2 + 3 * L ** 2 * f * dg ** 2 + 12 * L ** 2 * g + 36 * g ** 2) / (64 * L ** 2)\n",
    "]\n",
    "delta_g_terms"
   ]
  },
  {
   "cell_type": "markdown",
   "id": "9a77a59c",
   "metadata": {},
   "source": [
    "Integrate the dg' term by parts."
   ]
  },
  {
   "cell_type": "code",
   "execution_count": 50,
   "id": "7d1bd3eb",
   "metadata": {},
   "outputs": [
    {
     "data": {
      "image/png": "[encoded data removed]",
      "text/latex": [
       "$\\displaystyle - \\frac{3 \\left(- 8 f^{2}{\\left(r \\right)} g^{2}{\\left(r \\right)} \\xi{\\left(r \\right)} \\frac{d^{3}}{d r^{3}} g{\\left(r \\right)} - 8 f^{2}{\\left(r \\right)} g^{2}{\\left(r \\right)} \\frac{d^{2}}{d r^{2}} g{\\left(r \\right)} \\frac{d}{d r} \\xi{\\left(r \\right)} + 8 f^{2}{\\left(r \\right)} g{\\left(r \\right)} \\xi{\\left(r \\right)} \\frac{d}{d r} g{\\left(r \\right)} \\frac{d^{2}}{d r^{2}} g{\\left(r \\right)} + 2 f^{2}{\\left(r \\right)} g{\\left(r \\right)} \\left(\\frac{d}{d r} g{\\left(r \\right)}\\right)^{2} \\frac{d}{d r} \\xi{\\left(r \\right)} - 3 f^{2}{\\left(r \\right)} \\xi{\\left(r \\right)} \\left(\\frac{d}{d r} g{\\left(r \\right)}\\right)^{3} - 8 f{\\left(r \\right)} g^{2}{\\left(r \\right)} \\xi{\\left(r \\right)} \\frac{d}{d r} f{\\left(r \\right)} \\frac{d^{2}}{d r^{2}} g{\\left(r \\right)} - 4 f{\\left(r \\right)} g^{2}{\\left(r \\right)} \\xi{\\left(r \\right)} \\frac{d^{2}}{d r^{2}} f{\\left(r \\right)} \\frac{d}{d r} g{\\left(r \\right)} - 4 f{\\left(r \\right)} g^{2}{\\left(r \\right)} \\frac{d}{d r} f{\\left(r \\right)} \\frac{d}{d r} g{\\left(r \\right)} \\frac{d}{d r} \\xi{\\left(r \\right)} + 3 f{\\left(r \\right)} g{\\left(r \\right)} \\xi{\\left(r \\right)} \\frac{d}{d r} f{\\left(r \\right)} \\left(\\frac{d}{d r} g{\\left(r \\right)}\\right)^{2} + 2 g^{2}{\\left(r \\right)} \\xi{\\left(r \\right)} \\left(\\frac{d}{d r} f{\\left(r \\right)}\\right)^{2} \\frac{d}{d r} g{\\left(r \\right)}\\right)}{64 \\left(f{\\left(r \\right)} g{\\left(r \\right)}\\right)^{\\frac{3}{2}} g{\\left(r \\right)}}$"
      ],
      "text/plain": [
       "   ⎛                       3                         2                        \n",
       "   ⎜     2     2          d             2     2     d        d             2  \n",
       "-3⋅⎜- 8⋅f (r)⋅g (r)⋅ξ(r)⋅───(g(r)) - 8⋅f (r)⋅g (r)⋅───(g(r))⋅──(ξ(r)) + 8⋅f (r\n",
       "   ⎜                       3                         2       dr               \n",
       "   ⎝                     dr                        dr                         \n",
       "──────────────────────────────────────────────────────────────────────────────\n",
       "                                                                              \n",
       "                                                                              \n",
       "\n",
       "                       2                                2                     \n",
       "            d         d             2         ⎛d       ⎞  d             2     \n",
       ")⋅g(r)⋅ξ(r)⋅──(g(r))⋅───(g(r)) + 2⋅f (r)⋅g(r)⋅⎜──(g(r))⎟ ⋅──(ξ(r)) - 3⋅f (r)⋅ξ\n",
       "            dr         2                      ⎝dr      ⎠  dr                  \n",
       "                     dr                                                       \n",
       "──────────────────────────────────────────────────────────────────────────────\n",
       "                                                                              \n",
       "                                                                              \n",
       "\n",
       "              3                                2                             2\n",
       "    ⎛d       ⎞            2         d         d                  2          d \n",
       "(r)⋅⎜──(g(r))⎟  - 8⋅f(r)⋅g (r)⋅ξ(r)⋅──(f(r))⋅───(g(r)) - 4⋅f(r)⋅g (r)⋅ξ(r)⋅───\n",
       "    ⎝dr      ⎠                      dr         2                             2\n",
       "                                             dr                            dr \n",
       "──────────────────────────────────────────────────────────────────────────────\n",
       "                                3/2                                           \n",
       "                  64⋅(f(r)⋅g(r))   ⋅g(r)                                      \n",
       "\n",
       "                                                                              \n",
       "       d                  2    d        d        d                           d\n",
       "(f(r))⋅──(g(r)) - 4⋅f(r)⋅g (r)⋅──(f(r))⋅──(g(r))⋅──(ξ(r)) + 3⋅f(r)⋅g(r)⋅ξ(r)⋅─\n",
       "       dr                      dr       dr       dr                          d\n",
       "                                                                              \n",
       "──────────────────────────────────────────────────────────────────────────────\n",
       "                                                                              \n",
       "                                                                              \n",
       "\n",
       "                  2                          2         ⎞ \n",
       "        ⎛d       ⎞       2         ⎛d       ⎞  d       ⎟ \n",
       "─(f(r))⋅⎜──(g(r))⎟  + 2⋅g (r)⋅ξ(r)⋅⎜──(f(r))⎟ ⋅──(g(r))⎟ \n",
       "r       ⎝dr      ⎠                 ⎝dr      ⎠  dr      ⎟ \n",
       "                                                       ⎠ \n",
       "─────────────────────────────────────────────────────────\n",
       "                                                         \n",
       "                                                         "
      ]
     },
     "execution_count": 50,
     "metadata": {},
     "output_type": "execute_result"
    }
   ],
   "source": [
    "extra_delta_g_terms = -sympy.diff(sum(ddelta_g_terms), r).simplify()\n",
    "extra_delta_g_terms"
   ]
  },
  {
   "cell_type": "markdown",
   "id": "8aab01bd",
   "metadata": {},
   "source": [
    "Again, multiply through by f^1.5 * g^2.5 to simplify."
   ]
  },
  {
   "cell_type": "code",
   "execution_count": 51,
   "id": "8aa50d42",
   "metadata": {},
   "outputs": [
    {
     "data": {
      "image/png": "[encoded data removed]",
      "text/latex": [
       "$\\displaystyle \\frac{3 f^{2}{\\left(r \\right)} g^{2}{\\left(r \\right)} \\xi{\\left(r \\right)} \\frac{d^{3}}{d r^{3}} g{\\left(r \\right)}}{8} + \\frac{3 f^{2}{\\left(r \\right)} g^{2}{\\left(r \\right)} \\frac{d^{2}}{d r^{2}} g{\\left(r \\right)} \\frac{d}{d r} \\xi{\\left(r \\right)}}{8} - \\frac{3 f^{2}{\\left(r \\right)} g{\\left(r \\right)} \\xi{\\left(r \\right)} \\frac{d}{d r} g{\\left(r \\right)} \\frac{d^{2}}{d r^{2}} g{\\left(r \\right)}}{8} - \\frac{3 f^{2}{\\left(r \\right)} g{\\left(r \\right)} \\left(\\frac{d}{d r} g{\\left(r \\right)}\\right)^{2} \\frac{d}{d r} \\xi{\\left(r \\right)}}{32} + \\frac{9 f^{2}{\\left(r \\right)} \\xi{\\left(r \\right)} \\left(\\frac{d}{d r} g{\\left(r \\right)}\\right)^{3}}{64} + \\frac{3 f{\\left(r \\right)} g^{2}{\\left(r \\right)} \\xi{\\left(r \\right)} \\frac{d}{d r} f{\\left(r \\right)} \\frac{d^{2}}{d r^{2}} g{\\left(r \\right)}}{8} + \\frac{3 f{\\left(r \\right)} g^{2}{\\left(r \\right)} \\xi{\\left(r \\right)} \\frac{d^{2}}{d r^{2}} f{\\left(r \\right)} \\frac{d}{d r} g{\\left(r \\right)}}{16} + \\frac{3 f{\\left(r \\right)} g^{2}{\\left(r \\right)} \\frac{d}{d r} f{\\left(r \\right)} \\frac{d}{d r} g{\\left(r \\right)} \\frac{d}{d r} \\xi{\\left(r \\right)}}{16} - \\frac{9 f{\\left(r \\right)} g{\\left(r \\right)} \\xi{\\left(r \\right)} \\frac{d}{d r} f{\\left(r \\right)} \\left(\\frac{d}{d r} g{\\left(r \\right)}\\right)^{2}}{64} - \\frac{3 g^{2}{\\left(r \\right)} \\xi{\\left(r \\right)} \\left(\\frac{d}{d r} f{\\left(r \\right)}\\right)^{2} \\frac{d}{d r} g{\\left(r \\right)}}{32}$"
      ],
      "text/plain": [
       "                     3                         2                              \n",
       "   2     2          d             2     2     d        d             2        \n",
       "3⋅f (r)⋅g (r)⋅ξ(r)⋅───(g(r))   3⋅f (r)⋅g (r)⋅───(g(r))⋅──(ξ(r))   3⋅f (r)⋅g(r)\n",
       "                     3                         2       dr                     \n",
       "                   dr                        dr                               \n",
       "──────────────────────────── + ──────────────────────────────── - ────────────\n",
       "             8                                8                               \n",
       "\n",
       "                 2                                                            \n",
       "      d         d                                 2                           \n",
       "⋅ξ(r)⋅──(g(r))⋅───(g(r))      2         ⎛d       ⎞  d             2         ⎛d\n",
       "      dr         2         3⋅f (r)⋅g(r)⋅⎜──(g(r))⎟ ⋅──(ξ(r))   9⋅f (r)⋅ξ(r)⋅⎜─\n",
       "               dr                       ⎝dr      ⎠  dr                      ⎝d\n",
       "──────────────────────── - ───────────────────────────────── + ───────────────\n",
       "     8                                     32                             64  \n",
       "\n",
       "                                         2                             2      \n",
       "        3           2         d         d                  2          d       \n",
       "       ⎞    3⋅f(r)⋅g (r)⋅ξ(r)⋅──(f(r))⋅───(g(r))   3⋅f(r)⋅g (r)⋅ξ(r)⋅───(f(r))\n",
       "─(g(r))⎟                      dr         2                             2      \n",
       "r      ⎠                               dr                            dr       \n",
       "───────── + ──────────────────────────────────── + ───────────────────────────\n",
       "                             8                                      16        \n",
       "\n",
       "                                                                              \n",
       " d                                                                            \n",
       "⋅──(g(r))           2    d        d        d                           d      \n",
       " dr         3⋅f(r)⋅g (r)⋅──(f(r))⋅──(g(r))⋅──(ξ(r))   9⋅f(r)⋅g(r)⋅ξ(r)⋅──(f(r)\n",
       "                         dr       dr       dr                          dr     \n",
       "───────── + ─────────────────────────────────────── - ────────────────────────\n",
       "                               16                                       64    \n",
       "\n",
       "                                                 \n",
       "            2                          2         \n",
       "  ⎛d       ⎞       2         ⎛d       ⎞  d       \n",
       ")⋅⎜──(g(r))⎟    3⋅g (r)⋅ξ(r)⋅⎜──(f(r))⎟ ⋅──(g(r))\n",
       "  ⎝dr      ⎠                 ⎝dr      ⎠  dr      \n",
       "───────────── - ─────────────────────────────────\n",
       "                                32               "
      ]
     },
     "execution_count": 51,
     "metadata": {},
     "output_type": "execute_result"
    }
   ],
   "source": [
    "extra_delta_g_terms = sympy.fraction(extra_delta_g_terms)[0] / 64\n",
    "extra_delta_g_terms"
   ]
  },
  {
   "cell_type": "code",
   "execution_count": 52,
   "id": "9abe08d6",
   "metadata": {},
   "outputs": [
    {
     "data": {
      "image/png": "[encoded data removed]",
      "text/latex": [
       "$\\displaystyle \\frac{3 \\left(L^{4} \\cdot \\left(12 L^{2} \\Phi_{s} r f{\\left(r \\right)} \\xi{\\left(r \\right)} - 4 L^{2} \\Phi_{s} f{\\left(r \\right)} g{\\left(r \\right)} \\frac{d}{d r} \\xi{\\left(r \\right)} - 3 L^{2} r f^{2}{\\left(r \\right)} g{\\left(r \\right)} \\xi{\\left(r \\right)} \\left(\\frac{d}{d r} \\Phi{\\left(r \\right)}\\right)^{2} + L^{2} f^{2}{\\left(r \\right)} g^{2}{\\left(r \\right)} \\left(\\frac{d}{d r} \\Phi{\\left(r \\right)}\\right)^{2} \\frac{d}{d r} \\xi{\\left(r \\right)} + 4 \\Phi_{s} r g{\\left(r \\right)} \\xi{\\left(r \\right)} + 3 r^{3} f^{2}{\\left(r \\right)} \\xi{\\left(r \\right)} - r^{2} f^{2}{\\left(r \\right)} g{\\left(r \\right)} \\frac{d}{d r} \\xi{\\left(r \\right)} - 4 r f^{2}{\\left(r \\right)} g{\\left(r \\right)} \\xi{\\left(r \\right)} - r f{\\left(r \\right)} g^{2}{\\left(r \\right)} \\xi{\\left(r \\right)} \\left(\\frac{d}{d r} \\Phi{\\left(r \\right)}\\right)^{2} + r f{\\left(r \\right)} g{\\left(r \\right)} \\xi{\\left(r \\right)} + 2 f^{2}{\\left(r \\right)} g^{2}{\\left(r \\right)} \\frac{d}{d r} \\xi{\\left(r \\right)} - f{\\left(r \\right)} g^{2}{\\left(r \\right)} \\frac{d}{d r} \\xi{\\left(r \\right)}\\right) + L^{2} \\left(- 3 r^{3} f{\\left(r \\right)} \\xi{\\left(r \\right)} + 2 r^{2} f{\\left(r \\right)} g{\\left(r \\right)} \\frac{d}{d r} \\xi{\\left(r \\right)} + 3 r f{\\left(r \\right)} g{\\left(r \\right)} \\xi{\\left(r \\right)} + r g{\\left(r \\right)} \\xi{\\left(r \\right)} - 3 f{\\left(r \\right)} g^{2}{\\left(r \\right)} \\frac{d}{d r} \\xi{\\left(r \\right)}\\right) g{\\left(r \\right)} + r \\left(- 2 r^{2} + 3 g{\\left(r \\right)}\\right) g^{2}{\\left(r \\right)} \\xi{\\left(r \\right)}\\right)}{8 L^{4}}$"
      ],
      "text/plain": [
       "  ⎛   ⎛                                                                       \n",
       "  ⎜ 4 ⎜    2                     2              d             2    2          \n",
       "3⋅⎜L ⋅⎜12⋅L ⋅Φₛ⋅r⋅f(r)⋅ξ(r) - 4⋅L ⋅Φₛ⋅f(r)⋅g(r)⋅──(ξ(r)) - 3⋅L ⋅r⋅f (r)⋅g(r)⋅ξ\n",
       "  ⎝   ⎝                                         dr                            \n",
       "──────────────────────────────────────────────────────────────────────────────\n",
       "                                                                              \n",
       "                                                                              \n",
       "\n",
       "              2                            2                                  \n",
       "    ⎛d       ⎞     2  2     2    ⎛d       ⎞  d                                \n",
       "(r)⋅⎜──(Φ(r))⎟  + L ⋅f (r)⋅g (r)⋅⎜──(Φ(r))⎟ ⋅──(ξ(r)) + 4⋅Φₛ⋅r⋅g(r)⋅ξ(r) + 3⋅r\n",
       "    ⎝dr      ⎠                   ⎝dr      ⎠  dr                               \n",
       "──────────────────────────────────────────────────────────────────────────────\n",
       "                                                                              \n",
       "                                                                              \n",
       "\n",
       "                                                                              \n",
       "3  2            2  2         d               2                        2       \n",
       " ⋅f (r)⋅ξ(r) - r ⋅f (r)⋅g(r)⋅──(ξ(r)) - 4⋅r⋅f (r)⋅g(r)⋅ξ(r) - r⋅f(r)⋅g (r)⋅ξ(r\n",
       "                             dr                                               \n",
       "──────────────────────────────────────────────────────────────────────────────\n",
       "                                                                            4 \n",
       "                                                                         8⋅L  \n",
       "\n",
       "            2                                                                 \n",
       "  ⎛d       ⎞                          2     2    d                2    d      \n",
       ")⋅⎜──(Φ(r))⎟  + r⋅f(r)⋅g(r)⋅ξ(r) + 2⋅f (r)⋅g (r)⋅──(ξ(r)) - f(r)⋅g (r)⋅──(ξ(r)\n",
       "  ⎝dr      ⎠                                     dr                    dr     \n",
       "──────────────────────────────────────────────────────────────────────────────\n",
       "                                                                              \n",
       "                                                                              \n",
       "\n",
       " ⎞                                                                            \n",
       " ⎟    2 ⎛     3                2           d                                  \n",
       ")⎟ + L ⋅⎜- 3⋅r ⋅f(r)⋅ξ(r) + 2⋅r ⋅f(r)⋅g(r)⋅──(ξ(r)) + 3⋅r⋅f(r)⋅g(r)⋅ξ(r) + r⋅g\n",
       " ⎠      ⎝                                  dr                                 \n",
       "──────────────────────────────────────────────────────────────────────────────\n",
       "                                                                              \n",
       "                                                                              \n",
       "\n",
       "                                                                       ⎞\n",
       "                   2    d       ⎞          ⎛     2         ⎞  2        ⎟\n",
       "(r)⋅ξ(r) - 3⋅f(r)⋅g (r)⋅──(ξ(r))⎟⋅g(r) + r⋅⎝- 2⋅r  + 3⋅g(r)⎠⋅g (r)⋅ξ(r)⎟\n",
       "                        dr      ⎠                                      ⎠\n",
       "────────────────────────────────────────────────────────────────────────\n",
       "                                                                        \n",
       "                                                                        "
      ]
     },
     "execution_count": 52,
     "metadata": {},
     "output_type": "execute_result"
    }
   ],
   "source": [
    "total_g_term = (sum(delta_g_terms) + extra_delta_g_terms).subs({dg: dg_sol, ddg: ddg_sol, df: df_sol, ddf: ddf_sol}).expand()\n",
    "total_g_term.simplify()"
   ]
  },
  {
   "cell_type": "code",
   "execution_count": 53,
   "id": "73ab14be",
   "metadata": {},
   "outputs": [
    {
     "data": {
      "image/png": "[encoded data removed]",
      "text/latex": [
       "$\\displaystyle 0$"
      ],
      "text/plain": [
       "0"
      ]
     },
     "execution_count": 53,
     "metadata": {},
     "output_type": "execute_result"
    }
   ],
   "source": [
    "total_g_term.subs({Phi_s: Phi_s_sol}).subs({C_s: C_s_sol, f: f_sol, g: g_sol}).simplify()"
   ]
  },
  {
   "cell_type": "markdown",
   "id": "94b20d25",
   "metadata": {},
   "source": [
    "##### Phi terms"
   ]
  },
  {
   "cell_type": "code",
   "execution_count": 54,
   "id": "4e857243",
   "metadata": {},
   "outputs": [
    {
     "data": {
      "image/png": "[encoded data removed]",
      "text/latex": [
       "$\\displaystyle \\left[ - \\frac{3 L^{2} \\Phi{\\left(r \\right)} \\xi{\\left(r \\right)} \\frac{d}{d r} g{\\left(r \\right)}}{\\sqrt{f{\\left(r \\right)} g{\\left(r \\right)}} g{\\left(r \\right)}}, \\  \\frac{6 L^{2} \\xi{\\left(r \\right)} \\frac{d}{d r} \\Phi{\\left(r \\right)}}{\\sqrt{f{\\left(r \\right)} g{\\left(r \\right)}}}, \\  - \\frac{3 L^{2} \\left(- 2 f{\\left(r \\right)} \\frac{d}{d r} \\xi{\\left(r \\right)} + \\xi{\\left(r \\right)} \\frac{d}{d r} f{\\left(r \\right)}\\right) \\Phi{\\left(r \\right)}}{\\sqrt{f{\\left(r \\right)} g{\\left(r \\right)}} f{\\left(r \\right)}}\\right]$"
      ],
      "text/plain": [
       "⎡    2           d             2      d             2 ⎛         d             \n",
       "⎢-3⋅L ⋅Φ(r)⋅ξ(r)⋅──(g(r))   6⋅L ⋅ξ(r)⋅──(Φ(r))  -3⋅L ⋅⎜- 2⋅f(r)⋅──(ξ(r)) + ξ(r\n",
       "⎢                dr                   dr              ⎝         dr            \n",
       "⎢─────────────────────────, ──────────────────, ──────────────────────────────\n",
       "⎢      ___________              ___________                      ___________  \n",
       "⎣    ╲╱ f(r)⋅g(r) ⋅g(r)       ╲╱ f(r)⋅g(r)                     ╲╱ f(r)⋅g(r) ⋅f\n",
       "\n",
       "  d       ⎞      ⎤\n",
       ")⋅──(f(r))⎟⋅Φ(r) ⎥\n",
       "  dr      ⎠      ⎥\n",
       "─────────────────⎥\n",
       "                 ⎥\n",
       "(r)              ⎦"
      ]
     },
     "execution_count": 54,
     "metadata": {},
     "output_type": "execute_result"
    }
   ],
   "source": [
    "delta_Phi_terms"
   ]
  },
  {
   "cell_type": "code",
   "execution_count": 55,
   "id": "9a44f2db",
   "metadata": {},
   "outputs": [
    {
     "data": {
      "image/png": "[encoded data removed]",
      "text/latex": [
       "$\\displaystyle \\left[ \\frac{3 L^{2} \\sqrt{f{\\left(r \\right)} g{\\left(r \\right)}} \\left(- \\left(- 8 \\Phi{\\left(r \\right)} + f{\\left(r \\right)} \\frac{d}{d r} \\Phi{\\left(r \\right)} \\frac{d}{d r} g{\\left(r \\right)} + g{\\left(r \\right)} \\frac{d}{d r} \\Phi{\\left(r \\right)} \\frac{d}{d r} f{\\left(r \\right)}\\right) \\xi{\\left(r \\right)} + 2 f{\\left(r \\right)} g{\\left(r \\right)} \\frac{d}{d r} \\Phi{\\left(r \\right)} \\frac{d}{d r} \\xi{\\left(r \\right)}\\right)}{4 f{\\left(r \\right)} g{\\left(r \\right)}}, \\  \\frac{3 L^{2} f{\\left(r \\right)} \\xi{\\left(r \\right)} \\frac{d}{d r} \\Phi{\\left(r \\right)} \\frac{d}{d r} g{\\left(r \\right)}}{4 \\sqrt{f{\\left(r \\right)} g{\\left(r \\right)}}}, \\  \\frac{3 L^{2} \\left(- 2 f{\\left(r \\right)} \\frac{d}{d r} \\xi{\\left(r \\right)} + \\xi{\\left(r \\right)} \\frac{d}{d r} f{\\left(r \\right)}\\right) g{\\left(r \\right)} \\frac{d}{d r} \\Phi{\\left(r \\right)}}{4 \\sqrt{f{\\left(r \\right)} g{\\left(r \\right)}}}\\right]$"
      ],
      "text/plain": [
       "⎡   2   ___________ ⎛  ⎛               d        d               d        d    \n",
       "⎢3⋅L ⋅╲╱ f(r)⋅g(r) ⋅⎜- ⎜-8⋅Φ(r) + f(r)⋅──(Φ(r))⋅──(g(r)) + g(r)⋅──(Φ(r))⋅──(f(\n",
       "⎢                   ⎝  ⎝               dr       dr              dr       dr   \n",
       "⎢─────────────────────────────────────────────────────────────────────────────\n",
       "⎢                                                      4⋅f(r)⋅g(r)            \n",
       "⎣                                                                             \n",
       "\n",
       "   ⎞                    d        d       ⎞     2           d        d         \n",
       "r))⎟⋅ξ(r) + 2⋅f(r)⋅g(r)⋅──(Φ(r))⋅──(ξ(r))⎟  3⋅L ⋅f(r)⋅ξ(r)⋅──(Φ(r))⋅──(g(r))  \n",
       "   ⎠                    dr       dr      ⎠                 dr       dr        \n",
       "──────────────────────────────────────────, ────────────────────────────────, \n",
       "                                                        ___________           \n",
       "                                                    4⋅╲╱ f(r)⋅g(r)            \n",
       "\n",
       "   2 ⎛         d               d       ⎞      d       ⎤\n",
       "3⋅L ⋅⎜- 2⋅f(r)⋅──(ξ(r)) + ξ(r)⋅──(f(r))⎟⋅g(r)⋅──(Φ(r))⎥\n",
       "     ⎝         dr              dr      ⎠      dr      ⎥\n",
       "──────────────────────────────────────────────────────⎥\n",
       "                       ___________                    ⎥\n",
       "                   4⋅╲╱ f(r)⋅g(r)                     ⎦"
      ]
     },
     "execution_count": 55,
     "metadata": {},
     "output_type": "execute_result"
    }
   ],
   "source": [
    "ddelta_Phi_terms"
   ]
  },
  {
   "cell_type": "code",
   "execution_count": 56,
   "id": "e9ece9e3",
   "metadata": {},
   "outputs": [
    {
     "data": {
      "image/png": "[encoded data removed]",
      "text/latex": [
       "$\\displaystyle 0$"
      ],
      "text/plain": [
       "0"
      ]
     },
     "execution_count": 56,
     "metadata": {},
     "output_type": "execute_result"
    }
   ],
   "source": [
    "total_phi_term = (sum(delta_Phi_terms) - sympy.diff(sum(ddelta_Phi_terms), r)).simplify()\n",
    "total_phi_term"
   ]
  }
 ],
 "metadata": {
  "kernelspec": {
   "display_name": "Python 3.10.3 ('env': venv)",
   "language": "python",
   "name": "python3"
  },
  "language_info": {
   "codemirror_mode": {
    "name": "ipython",
    "version": 3
   },
   "file_extension": ".py",
   "mimetype": "text/x-python",
   "name": "python",
   "nbconvert_exporter": "python",
   "pygments_lexer": "ipython3",
   "version": "3.10.3"
  },
  "vscode": {
   "interpreter": {
    "hash": "c4cf3c24cb46a3fd1f6949e64220e8351ad1410e125a86590159f01143d71e6f"
   }
  }
 },
 "nbformat": 4,
 "nbformat_minor": 5
}
