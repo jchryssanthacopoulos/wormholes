{
 "cells": [
  {
   "cell_type": "code",
   "execution_count": 1,
   "id": "6d9963f1",
   "metadata": {},
   "outputs": [],
   "source": [
    "import sympy\n",
    "\n",
    "sympy.init_printing()"
   ]
  },
  {
   "cell_type": "markdown",
   "id": "4bed673d",
   "metadata": {},
   "source": [
    "### Quadratic Action when dg = 0"
   ]
  },
  {
   "cell_type": "markdown",
   "id": "13872908",
   "metadata": {},
   "source": [
    "In this case, q = delta_Phi."
   ]
  },
  {
   "cell_type": "code",
   "execution_count": 2,
   "id": "32fad34e",
   "metadata": {},
   "outputs": [],
   "source": [
    "syms = sympy.symbols(\"r psi theta phi\")\n",
    "r, psi, theta, phi = syms"
   ]
  },
  {
   "cell_type": "code",
   "execution_count": 3,
   "id": "129df29a",
   "metadata": {},
   "outputs": [],
   "source": [
    "L = sympy.symbols(\"L\")  # AdS length scale\n",
    "r_0 = sympy.symbols(\"r_0\")"
   ]
  },
  {
   "cell_type": "code",
   "execution_count": 4,
   "id": "9b15ef78",
   "metadata": {},
   "outputs": [],
   "source": [
    "# spherical part of the metric\n",
    "g = sympy.Function('g')(r)\n",
    "dg = sympy.diff(g, r)\n",
    "ddg = sympy.diff(dg, r)"
   ]
  },
  {
   "cell_type": "code",
   "execution_count": 5,
   "id": "e266e3a3",
   "metadata": {},
   "outputs": [],
   "source": [
    "# radial part of the metric\n",
    "f = sympy.Function('f')(r)\n",
    "df = sympy.diff(f, r)"
   ]
  },
  {
   "cell_type": "code",
   "execution_count": 6,
   "id": "5e7cb706",
   "metadata": {},
   "outputs": [],
   "source": [
    "# gauge field\n",
    "Phi = sympy.Function('Phi')(r)\n",
    "dPhi = sympy.diff(Phi, r)"
   ]
  },
  {
   "cell_type": "markdown",
   "id": "00fa4d6e",
   "metadata": {},
   "source": [
    "The Lagrangian is given by the following."
   ]
  },
  {
   "cell_type": "code",
   "execution_count": 7,
   "id": "f2fea313",
   "metadata": {},
   "outputs": [
    {
     "data": {
      "image/png": "[encoded data removed]",
      "text/latex": [
       "$\\displaystyle \\frac{12 L^{4} \\cdot \\left(4 \\Phi^{2}{\\left(r \\right)} + f{\\left(r \\right)} g{\\left(r \\right)} \\left(\\frac{d}{d r} \\Phi{\\left(r \\right)}\\right)^{2}\\right) + 3 L^{2} \\cdot \\left(2 f{\\left(r \\right)} \\frac{d^{2}}{d r^{2}} g{\\left(r \\right)} + \\frac{d}{d r} f{\\left(r \\right)} \\frac{d}{d r} g{\\left(r \\right)} - 4\\right) g{\\left(r \\right)} - 12 g^{2}{\\left(r \\right)}}{16 L^{2} \\sqrt{f{\\left(r \\right)} g{\\left(r \\right)}}}$"
      ],
      "text/plain": [
       "      ⎛                              2⎞        ⎛         2                    \n",
       "    4 ⎜   2                ⎛d       ⎞ ⎟      2 ⎜        d          d        d \n",
       "12⋅L ⋅⎜4⋅Φ (r) + f(r)⋅g(r)⋅⎜──(Φ(r))⎟ ⎟ + 3⋅L ⋅⎜2⋅f(r)⋅───(g(r)) + ──(f(r))⋅──\n",
       "      ⎝                    ⎝dr      ⎠ ⎠        ⎜         2         dr       dr\n",
       "                                               ⎝       dr                     \n",
       "──────────────────────────────────────────────────────────────────────────────\n",
       "                                               2   ___________                \n",
       "                                           16⋅L ⋅╲╱ f(r)⋅g(r)                 \n",
       "\n",
       "          ⎞                \n",
       "          ⎟            2   \n",
       "(g(r)) - 4⎟⋅g(r) - 12⋅g (r)\n",
       "          ⎟                \n",
       "          ⎠                \n",
       "───────────────────────────\n",
       "                           \n",
       "                           "
      ]
     },
     "execution_count": 7,
     "metadata": {},
     "output_type": "execute_result"
    }
   ],
   "source": [
    "lagrangian = 3 * (4 * L ** 4 * (4 * Phi ** 2 + f * g * dPhi ** 2) + L ** 2 * g * (2 * f * ddg + df * dg - 4) - 4 * g ** 2) / (16 * L ** 2 * sympy.sqrt(f * g))\n",
    "lagrangian"
   ]
  },
  {
   "cell_type": "markdown",
   "id": "809388c4",
   "metadata": {},
   "source": [
    "The expansion of the action involving df consists of the following terms."
   ]
  },
  {
   "cell_type": "code",
   "execution_count": 8,
   "id": "c4e6b466",
   "metadata": {},
   "outputs": [
    {
     "data": {
      "image/png": "[encoded data removed]",
      "text/latex": [
       "$\\displaystyle \\frac{3 \\sqrt{f{\\left(r \\right)} g{\\left(r \\right)}} \\left(48 L^{4} \\Phi^{2}{\\left(r \\right)} - 4 L^{4} f{\\left(r \\right)} g{\\left(r \\right)} \\left(\\frac{d}{d r} \\Phi{\\left(r \\right)}\\right)^{2} - 2 L^{2} f{\\left(r \\right)} g{\\left(r \\right)} \\frac{d^{2}}{d r^{2}} g{\\left(r \\right)} + 3 L^{2} g{\\left(r \\right)} \\frac{d}{d r} f{\\left(r \\right)} \\frac{d}{d r} g{\\left(r \\right)} - 12 L^{2} g{\\left(r \\right)} - 12 g^{2}{\\left(r \\right)}\\right)}{64 L^{2} f^{3}{\\left(r \\right)} g{\\left(r \\right)}}$"
      ],
      "text/plain": [
       "                ⎛                                       2                    2\n",
       "    ___________ ⎜    4  2         4           ⎛d       ⎞       2            d \n",
       "3⋅╲╱ f(r)⋅g(r) ⋅⎜48⋅L ⋅Φ (r) - 4⋅L ⋅f(r)⋅g(r)⋅⎜──(Φ(r))⎟  - 2⋅L ⋅f(r)⋅g(r)⋅───\n",
       "                ⎜                             ⎝dr      ⎠                     2\n",
       "                ⎝                                                          dr \n",
       "──────────────────────────────────────────────────────────────────────────────\n",
       "                                                                  2  3        \n",
       "                                                              64⋅L ⋅f (r)⋅g(r)\n",
       "\n",
       "                                                            ⎞\n",
       "            2      d        d              2            2   ⎟\n",
       "(g(r)) + 3⋅L ⋅g(r)⋅──(f(r))⋅──(g(r)) - 12⋅L ⋅g(r) - 12⋅g (r)⎟\n",
       "                   dr       dr                              ⎟\n",
       "                                                            ⎠\n",
       "─────────────────────────────────────────────────────────────\n",
       "                                                             \n",
       "                                                             "
      ]
     },
     "execution_count": 8,
     "metadata": {},
     "output_type": "execute_result"
    }
   ],
   "source": [
    "ddS_ff = sympy.simplify(sympy.diff(sympy.diff(lagrangian, f), f))\n",
    "ddS_ff"
   ]
  },
  {
   "cell_type": "code",
   "execution_count": 9,
   "id": "f61002a4",
   "metadata": {},
   "outputs": [
    {
     "data": {
      "image/png": "[encoded data removed]",
      "text/latex": [
       "$\\displaystyle \\frac{3 \\left(f{\\left(r \\right)} g{\\left(r \\right)}\\right)^{\\frac{5}{2}} \\cdot \\left(16 L^{4} \\Phi^{2}{\\left(r \\right)} + 4 L^{4} f{\\left(r \\right)} g{\\left(r \\right)} \\left(\\frac{d}{d r} \\Phi{\\left(r \\right)}\\right)^{2} + 2 L^{2} f{\\left(r \\right)} g{\\left(r \\right)} \\frac{d^{2}}{d r^{2}} g{\\left(r \\right)} - L^{2} g{\\left(r \\right)} \\frac{d}{d r} f{\\left(r \\right)} \\frac{d}{d r} g{\\left(r \\right)} + 4 L^{2} g{\\left(r \\right)} + 12 g^{2}{\\left(r \\right)}\\right)}{64 L^{2} f^{4}{\\left(r \\right)} g^{4}{\\left(r \\right)}}$"
      ],
      "text/plain": [
       "                 ⎛                                       2                    \n",
       "             5/2 ⎜    4  2         4           ⎛d       ⎞       2            d\n",
       "3⋅(f(r)⋅g(r))   ⋅⎜16⋅L ⋅Φ (r) + 4⋅L ⋅f(r)⋅g(r)⋅⎜──(Φ(r))⎟  + 2⋅L ⋅f(r)⋅g(r)⋅──\n",
       "                 ⎜                             ⎝dr      ⎠                     \n",
       "                 ⎝                                                          dr\n",
       "──────────────────────────────────────────────────────────────────────────────\n",
       "                                                                2  4     4    \n",
       "                                                            64⋅L ⋅f (r)⋅g (r) \n",
       "\n",
       "2                                                         ⎞\n",
       "           2      d        d             2            2   ⎟\n",
       "─(g(r)) - L ⋅g(r)⋅──(f(r))⋅──(g(r)) + 4⋅L ⋅g(r) + 12⋅g (r)⎟\n",
       "2                 dr       dr                             ⎟\n",
       "                                                          ⎠\n",
       "───────────────────────────────────────────────────────────\n",
       "                                                           \n",
       "                                                           "
      ]
     },
     "execution_count": 9,
     "metadata": {},
     "output_type": "execute_result"
    }
   ],
   "source": [
    "ddS_fg = sympy.simplify(sympy.diff(sympy.diff(lagrangian, f), g))\n",
    "ddS_fg"
   ]
  },
  {
   "cell_type": "code",
   "execution_count": 10,
   "id": "6e23afc8",
   "metadata": {},
   "outputs": [
    {
     "data": {
      "image/png": "[encoded data removed]",
      "text/latex": [
       "$\\displaystyle - \\frac{3 L^{2} \\Phi{\\left(r \\right)}}{\\sqrt{f{\\left(r \\right)} g{\\left(r \\right)}} f{\\left(r \\right)}}$"
      ],
      "text/plain": [
       "       2          \n",
       "   -3⋅L ⋅Φ(r)     \n",
       "──────────────────\n",
       "  ___________     \n",
       "╲╱ f(r)⋅g(r) ⋅f(r)"
      ]
     },
     "execution_count": 10,
     "metadata": {},
     "output_type": "execute_result"
    }
   ],
   "source": [
    "ddS_fphi = sympy.simplify(sympy.diff(sympy.diff(lagrangian, f), Phi))\n",
    "ddS_fphi"
   ]
  },
  {
   "cell_type": "code",
   "execution_count": 11,
   "id": "8f91a226",
   "metadata": {},
   "outputs": [
    {
     "data": {
      "image/png": "[encoded data removed]",
      "text/latex": [
       "$\\displaystyle - \\frac{3 g{\\left(r \\right)} \\frac{d}{d r} g{\\left(r \\right)}}{32 \\sqrt{f{\\left(r \\right)} g{\\left(r \\right)}} f{\\left(r \\right)}}$"
      ],
      "text/plain": [
       "          d          \n",
       "  -3⋅g(r)⋅──(g(r))   \n",
       "          dr         \n",
       "─────────────────────\n",
       "     ___________     \n",
       "32⋅╲╱ f(r)⋅g(r) ⋅f(r)"
      ]
     },
     "execution_count": 11,
     "metadata": {},
     "output_type": "execute_result"
    }
   ],
   "source": [
    "ddS_fdf = sympy.simplify(sympy.diff(sympy.diff(lagrangian, f), df))\n",
    "ddS_fdf"
   ]
  },
  {
   "cell_type": "code",
   "execution_count": 12,
   "id": "8d0f4374",
   "metadata": {},
   "outputs": [
    {
     "data": {
      "image/png": "[encoded data removed]",
      "text/latex": [
       "$\\displaystyle - \\frac{3 g{\\left(r \\right)} \\frac{d}{d r} f{\\left(r \\right)}}{32 \\sqrt{f{\\left(r \\right)} g{\\left(r \\right)}} f{\\left(r \\right)}}$"
      ],
      "text/plain": [
       "          d          \n",
       "  -3⋅g(r)⋅──(f(r))   \n",
       "          dr         \n",
       "─────────────────────\n",
       "     ___________     \n",
       "32⋅╲╱ f(r)⋅g(r) ⋅f(r)"
      ]
     },
     "execution_count": 12,
     "metadata": {},
     "output_type": "execute_result"
    }
   ],
   "source": [
    "ddS_fdg = sympy.simplify(sympy.diff(sympy.diff(lagrangian, f), dg))\n",
    "ddS_fdg"
   ]
  },
  {
   "cell_type": "code",
   "execution_count": 13,
   "id": "77eb955c",
   "metadata": {},
   "outputs": [
    {
     "data": {
      "image/png": "[encoded data removed]",
      "text/latex": [
       "$\\displaystyle \\frac{3 L^{2} g{\\left(r \\right)} \\frac{d}{d r} \\Phi{\\left(r \\right)}}{4 \\sqrt{f{\\left(r \\right)} g{\\left(r \\right)}}}$"
      ],
      "text/plain": [
       "   2      d       \n",
       "3⋅L ⋅g(r)⋅──(Φ(r))\n",
       "          dr      \n",
       "──────────────────\n",
       "     ___________  \n",
       " 4⋅╲╱ f(r)⋅g(r)   "
      ]
     },
     "execution_count": 13,
     "metadata": {},
     "output_type": "execute_result"
    }
   ],
   "source": [
    "ddS_fdphi = sympy.simplify(sympy.diff(sympy.diff(lagrangian, f), dPhi))\n",
    "ddS_fdphi"
   ]
  },
  {
   "cell_type": "code",
   "execution_count": 14,
   "id": "2892523d",
   "metadata": {},
   "outputs": [
    {
     "data": {
      "image/png": "[encoded data removed]",
      "text/latex": [
       "$\\displaystyle \\frac{3 \\frac{d}{d r} g{\\left(r \\right)}}{32 \\sqrt{f{\\left(r \\right)} g{\\left(r \\right)}}}$"
      ],
      "text/plain": [
       "     d          \n",
       "   3⋅──(g(r))   \n",
       "     dr         \n",
       "────────────────\n",
       "     ___________\n",
       "32⋅╲╱ f(r)⋅g(r) "
      ]
     },
     "execution_count": 14,
     "metadata": {},
     "output_type": "execute_result"
    }
   ],
   "source": [
    "ddS_dfg = sympy.simplify(sympy.diff(sympy.diff(lagrangian, df), g))\n",
    "ddS_dfg"
   ]
  },
  {
   "cell_type": "code",
   "execution_count": 15,
   "id": "489c6a1c",
   "metadata": {},
   "outputs": [
    {
     "data": {
      "image/png": "[encoded data removed]",
      "text/latex": [
       "$\\displaystyle \\frac{3 g{\\left(r \\right)}}{16 \\sqrt{f{\\left(r \\right)} g{\\left(r \\right)}}}$"
      ],
      "text/plain": [
       "     3⋅g(r)     \n",
       "────────────────\n",
       "     ___________\n",
       "16⋅╲╱ f(r)⋅g(r) "
      ]
     },
     "execution_count": 15,
     "metadata": {},
     "output_type": "execute_result"
    }
   ],
   "source": [
    "ddS_dfdg = sympy.simplify(sympy.diff(sympy.diff(lagrangian, df), dg))\n",
    "ddS_dfdg"
   ]
  },
  {
   "cell_type": "code",
   "execution_count": 16,
   "id": "987786c8",
   "metadata": {},
   "outputs": [],
   "source": [
    "delta_f = sympy.Function('delta_f')(r)\n",
    "ddelta_f = sympy.diff(delta_f, r)"
   ]
  },
  {
   "cell_type": "code",
   "execution_count": 17,
   "id": "f2f1c920",
   "metadata": {},
   "outputs": [],
   "source": [
    "delta_g = sympy.Function('delta_g')(r)\n",
    "ddelta_g = sympy.diff(delta_g, r)"
   ]
  },
  {
   "cell_type": "code",
   "execution_count": 18,
   "id": "6b746502",
   "metadata": {},
   "outputs": [],
   "source": [
    "delta_Phi = sympy.Function('delta_Phi')(r)\n",
    "ddelta_Phi = sympy.diff(delta_Phi, r)"
   ]
  },
  {
   "cell_type": "markdown",
   "id": "f6e48f51",
   "metadata": {},
   "source": [
    "Use integration by parts on the f, df term:"
   ]
  },
  {
   "cell_type": "code",
   "execution_count": 19,
   "id": "7afeed10",
   "metadata": {},
   "outputs": [
    {
     "data": {
      "image/png": "[encoded data removed]",
      "text/latex": [
       "$\\displaystyle - \\frac{3 \\sqrt{f{\\left(r \\right)} g{\\left(r \\right)}} \\left(- 2 f{\\left(r \\right)} g{\\left(r \\right)} \\frac{d^{2}}{d r^{2}} g{\\left(r \\right)} - f{\\left(r \\right)} \\left(\\frac{d}{d r} g{\\left(r \\right)}\\right)^{2} + 3 g{\\left(r \\right)} \\frac{d}{d r} f{\\left(r \\right)} \\frac{d}{d r} g{\\left(r \\right)}\\right)}{128 f^{3}{\\left(r \\right)} g{\\left(r \\right)}}$"
      ],
      "text/plain": [
       "                 ⎛                2                        2                  \n",
       "     ___________ ⎜               d               ⎛d       ⎞           d       \n",
       "-3⋅╲╱ f(r)⋅g(r) ⋅⎜- 2⋅f(r)⋅g(r)⋅───(g(r)) - f(r)⋅⎜──(g(r))⎟  + 3⋅g(r)⋅──(f(r))\n",
       "                 ⎜                2              ⎝dr      ⎠           dr      \n",
       "                 ⎝              dr                                            \n",
       "──────────────────────────────────────────────────────────────────────────────\n",
       "                                           3                                  \n",
       "                                      128⋅f (r)⋅g(r)                          \n",
       "\n",
       "         ⎞ \n",
       " d       ⎟ \n",
       "⋅──(g(r))⎟ \n",
       " dr      ⎟ \n",
       "         ⎠ \n",
       "───────────\n",
       "           \n",
       "           "
      ]
     },
     "execution_count": 19,
     "metadata": {},
     "output_type": "execute_result"
    }
   ],
   "source": [
    "ddS_ff_2 = -sympy.simplify(sympy.diff(ddS_fdf, r)) / 2\n",
    "ddS_ff_2"
   ]
  },
  {
   "cell_type": "code",
   "execution_count": 20,
   "id": "9962b4b0",
   "metadata": {},
   "outputs": [],
   "source": [
    "action = (\n",
    "    delta_f ** 2 * (sympy.simplify(ddS_ff / 2 + ddS_ff_2)) +\n",
    "    delta_f * delta_g * ddS_fg +\n",
    "    delta_f * delta_Phi * ddS_fphi +\n",
    "    delta_f * ddelta_g * ddS_fdg +\n",
    "    delta_f * ddelta_Phi * ddS_fdphi +\n",
    "    ddelta_f * delta_g * ddS_dfg +\n",
    "    ddelta_f * ddelta_g * ddS_dfdg\n",
    ")"
   ]
  },
  {
   "cell_type": "markdown",
   "id": "ce9cf8d4",
   "metadata": {},
   "source": [
    "Set delta_g and its derivative to zero."
   ]
  },
  {
   "cell_type": "code",
   "execution_count": 21,
   "id": "5be8f08a",
   "metadata": {},
   "outputs": [
    {
     "data": {
      "image/png": "[encoded data removed]",
      "text/latex": [
       "$\\displaystyle - \\frac{3 L^{2} \\Phi{\\left(r \\right)} \\delta_{\\Phi}{\\left(r \\right)} \\delta_{f}{\\left(r \\right)}}{\\sqrt{f{\\left(r \\right)} g{\\left(r \\right)}} f{\\left(r \\right)}} + \\frac{3 L^{2} \\delta_{f}{\\left(r \\right)} g{\\left(r \\right)} \\frac{d}{d r} \\Phi{\\left(r \\right)} \\frac{d}{d r} \\delta_{\\Phi}{\\left(r \\right)}}{4 \\sqrt{f{\\left(r \\right)} g{\\left(r \\right)}}} + \\frac{3 \\left(f{\\left(r \\right)} g{\\left(r \\right)}\\right)^{\\frac{3}{2}} \\cdot \\left(48 L^{4} \\Phi^{2}{\\left(r \\right)} - 4 L^{4} f{\\left(r \\right)} g{\\left(r \\right)} \\left(\\frac{d}{d r} \\Phi{\\left(r \\right)}\\right)^{2} + L^{2} f{\\left(r \\right)} \\left(\\frac{d}{d r} g{\\left(r \\right)}\\right)^{2} - 12 L^{2} g{\\left(r \\right)} - 12 g^{2}{\\left(r \\right)}\\right) \\delta_{f}^{2}{\\left(r \\right)}}{128 L^{2} f^{4}{\\left(r \\right)} g^{2}{\\left(r \\right)}}$"
      ],
      "text/plain": [
       "                                                                              \n",
       "                               2             d        d                       \n",
       "     2                      3⋅L ⋅δ_f(r)⋅g(r)⋅──(Φ(r))⋅──(δ_Φ(r))   3⋅(f(r)⋅g(r\n",
       "  3⋅L ⋅Φ(r)⋅δ_Φ(r)⋅δ_f(r)                    dr       dr                      \n",
       "- ─────────────────────── + ──────────────────────────────────── + ───────────\n",
       "       ___________                        ___________                         \n",
       "     ╲╱ f(r)⋅g(r) ⋅f(r)               4⋅╲╱ f(r)⋅g(r)                          \n",
       "\n",
       "      ⎛                                       2                     2         \n",
       "  3/2 ⎜    4  2         4           ⎛d       ⎞     2      ⎛d       ⎞        2 \n",
       "))   ⋅⎜48⋅L ⋅Φ (r) - 4⋅L ⋅f(r)⋅g(r)⋅⎜──(Φ(r))⎟  + L ⋅f(r)⋅⎜──(g(r))⎟  - 12⋅L ⋅\n",
       "      ⎝                             ⎝dr      ⎠            ⎝dr      ⎠          \n",
       "──────────────────────────────────────────────────────────────────────────────\n",
       "                                          2  4     2                          \n",
       "                                     128⋅L ⋅f (r)⋅g (r)                       \n",
       "\n",
       "               ⎞        \n",
       "           2   ⎟    2   \n",
       "g(r) - 12⋅g (r)⎟⋅δ_f (r)\n",
       "               ⎠        \n",
       "────────────────────────\n",
       "                        \n",
       "                        "
      ]
     },
     "execution_count": 21,
     "metadata": {},
     "output_type": "execute_result"
    }
   ],
   "source": [
    "action = action.subs({delta_g: 0, ddelta_g: 0})\n",
    "action"
   ]
  },
  {
   "cell_type": "markdown",
   "id": "95322181",
   "metadata": {},
   "source": [
    "Check the sign of the quadratic factor."
   ]
  },
  {
   "cell_type": "code",
   "execution_count": 22,
   "id": "b1b82265",
   "metadata": {},
   "outputs": [],
   "source": [
    "import matplotlib.pyplot as plt\n",
    "import numpy as np\n",
    "from scipy.special import ellipkinc"
   ]
  },
  {
   "cell_type": "code",
   "execution_count": 23,
   "id": "0b31250f",
   "metadata": {},
   "outputs": [],
   "source": [
    "def a_b_params(phi_star):\n",
    "    \"\"\"Get elliptic integral parameters.\"\"\"\n",
    "    a = (1 + 16 * phi_star ** 2) ** (1./4)\n",
    "    b = np.sqrt((a ** 2 - 1) / 2)\n",
    "    return a, b"
   ]
  },
  {
   "cell_type": "code",
   "execution_count": 24,
   "id": "bd289c23",
   "metadata": {},
   "outputs": [],
   "source": [
    "def phi_of_r(r_val, phi_star, L_val):\n",
    "    \"\"\"Get gauge field.\"\"\"\n",
    "    a, b = a_b_params(phi_star)\n",
    "    phi = np.arctan(r_val / (L_val * a))\n",
    "    m = 1 - a ** 2 / b ** 2\n",
    "    return phi_star * np.cosh((2 / b) * ellipkinc(phi, m))"
   ]
  },
  {
   "cell_type": "code",
   "execution_count": 25,
   "id": "3b944e27",
   "metadata": {},
   "outputs": [],
   "source": [
    "def dphi_of_r(r_val, phi_star, L_val):\n",
    "    \"\"\"Get radial derivative of gauge field.\"\"\"\n",
    "    a, b = a_b_params(phi_star)\n",
    "    phi = np.arctan(r_val / (L_val * a))\n",
    "    m = 1 - a ** 2 / b ** 2\n",
    "    denom = np.sqrt((L_val * a * b) ** 2 + (a ** 2 + b ** 2) * r_val ** 2 + r_val ** 4 / L_val ** 2)\n",
    "    return phi_star * np.sinh((2 / b) * ellipkinc(phi, m)) * 2 / denom"
   ]
  },
  {
   "cell_type": "code",
   "execution_count": 26,
   "id": "46507e07",
   "metadata": {},
   "outputs": [],
   "source": [
    "def f_of_r(r_val, L_val, r_0_val):\n",
    "    return (L_val ** 2 + r_val ** 2 + 2 * r_0_val ** 2) / L_val ** 2\n",
    "\n",
    "def g_of_r(r_val, r_0_val):\n",
    "    return r_val ** 2 + r_0_val ** 2\n",
    "\n",
    "def dg_of_r(r_val):\n",
    "    return 2 * r_val"
   ]
  },
  {
   "cell_type": "code",
   "execution_count": 27,
   "id": "4bd3caba",
   "metadata": {},
   "outputs": [],
   "source": [
    "def ddf_factor(r_val, phi_star, L_val, r_0_val):\n",
    "    phi_val = phi_of_r(r_val, phi_star, L_val)\n",
    "    dphi_val = dphi_of_r(r_val, phi_star, L_val)\n",
    "    f_val = f_of_r(r_val, L_val, r_0_val)\n",
    "    g_val = g_of_r(r_val, r_0_val)\n",
    "    dg_val = dg_of_r(r_val)\n",
    "\n",
    "    return (\n",
    "        48 * L_val ** 4 * phi_val ** 2 -\n",
    "        4 * L_val ** 4 * f_val * g_val * dphi_val ** 2 +\n",
    "        L_val ** 2 * f_val * dg_val ** 2 -\n",
    "        12 * L_val ** 2 * g_val -\n",
    "        12 * g_val ** 2\n",
    "    )"
   ]
  },
  {
   "cell_type": "code",
   "execution_count": 28,
   "id": "91677730",
   "metadata": {},
   "outputs": [],
   "source": [
    "L_val = 1\n",
    "r_0_val = 2  # has to be greater than 1.25 * L\n",
    "phi_star = 5  # has to be greater than 3.56"
   ]
  },
  {
   "cell_type": "code",
   "execution_count": 29,
   "id": "12073a41",
   "metadata": {},
   "outputs": [
    {
     "data": {
      "image/png": "[encoded data removed]",
      "text/plain": [
       "<Figure size 640x480 with 1 Axes>"
      ]
     },
     "metadata": {},
     "output_type": "display_data"
    }
   ],
   "source": [
    "r_vals = np.arange(r_0_val, r_0_val + 10, 0.1)\n",
    "dfs = [ddf_factor(r_val, phi_star, L_val, r_0_val) for r_val in r_vals]\n",
    "plt.plot(r_vals, dfs);"
   ]
  },
  {
   "cell_type": "markdown",
   "id": "5ed0c0c4",
   "metadata": {},
   "source": [
    "It doesn't have to be negative, but in general, it is."
   ]
  },
  {
   "cell_type": "markdown",
   "id": "2c4fa236",
   "metadata": {},
   "source": [
    "#### Completing the Square"
   ]
  },
  {
   "cell_type": "markdown",
   "id": "79dc8b97",
   "metadata": {},
   "source": [
    "The goal is to write\n",
    "\n",
    "A * delta_f^2 + B * delta_f * delta_Phi + C * delta_f * ddelta_Phi\n",
    "\n",
    "in the form\n",
    "\n",
    "-(a_1 * delta_f + a_2 * delta_Phi + a_3 * ddelta_Phi)^2 + c_0"
   ]
  },
  {
   "cell_type": "code",
   "execution_count": 30,
   "id": "a64871ed",
   "metadata": {},
   "outputs": [
    {
     "data": {
      "image/png": "[encoded data removed]",
      "text/latex": [
       "$\\displaystyle \\frac{3 \\left(f{\\left(r \\right)} g{\\left(r \\right)}\\right)^{\\frac{3}{2}} \\cdot \\left(48 L^{4} \\Phi^{2}{\\left(r \\right)} - 4 L^{4} f{\\left(r \\right)} g{\\left(r \\right)} \\left(\\frac{d}{d r} \\Phi{\\left(r \\right)}\\right)^{2} + L^{2} f{\\left(r \\right)} \\left(\\frac{d}{d r} g{\\left(r \\right)}\\right)^{2} - 12 L^{2} g{\\left(r \\right)} - 12 g^{2}{\\left(r \\right)}\\right)}{128 L^{2} f^{4}{\\left(r \\right)} g^{2}{\\left(r \\right)}}$"
      ],
      "text/plain": [
       "                 ⎛                                       2                    \n",
       "             3/2 ⎜    4  2         4           ⎛d       ⎞     2      ⎛d       \n",
       "3⋅(f(r)⋅g(r))   ⋅⎜48⋅L ⋅Φ (r) - 4⋅L ⋅f(r)⋅g(r)⋅⎜──(Φ(r))⎟  + L ⋅f(r)⋅⎜──(g(r))\n",
       "                 ⎝                             ⎝dr      ⎠            ⎝dr      \n",
       "──────────────────────────────────────────────────────────────────────────────\n",
       "                                                 2  4     2                   \n",
       "                                            128⋅L ⋅f (r)⋅g (r)                \n",
       "\n",
       " 2                        ⎞\n",
       "⎞        2            2   ⎟\n",
       "⎟  - 12⋅L ⋅g(r) - 12⋅g (r)⎟\n",
       "⎠                         ⎠\n",
       "───────────────────────────\n",
       "                           \n",
       "                           "
      ]
     },
     "execution_count": 30,
     "metadata": {},
     "output_type": "execute_result"
    }
   ],
   "source": [
    "A = sympy.simplify(ddS_ff / 2 + ddS_ff_2)\n",
    "A"
   ]
  },
  {
   "cell_type": "code",
   "execution_count": 31,
   "id": "2c4c9fdc",
   "metadata": {},
   "outputs": [
    {
     "data": {
      "image/png": "[encoded data removed]",
      "text/latex": [
       "$\\displaystyle - \\frac{3 L^{2} \\Phi{\\left(r \\right)}}{\\sqrt{f{\\left(r \\right)} g{\\left(r \\right)}} f{\\left(r \\right)}}$"
      ],
      "text/plain": [
       "       2          \n",
       "   -3⋅L ⋅Φ(r)     \n",
       "──────────────────\n",
       "  ___________     \n",
       "╲╱ f(r)⋅g(r) ⋅f(r)"
      ]
     },
     "execution_count": 31,
     "metadata": {},
     "output_type": "execute_result"
    }
   ],
   "source": [
    "B = ddS_fphi\n",
    "B"
   ]
  },
  {
   "cell_type": "code",
   "execution_count": 32,
   "id": "fbbb299d",
   "metadata": {},
   "outputs": [
    {
     "data": {
      "image/png": "[encoded data removed]",
      "text/latex": [
       "$\\displaystyle \\frac{3 L^{2} g{\\left(r \\right)} \\frac{d}{d r} \\Phi{\\left(r \\right)}}{4 \\sqrt{f{\\left(r \\right)} g{\\left(r \\right)}}}$"
      ],
      "text/plain": [
       "   2      d       \n",
       "3⋅L ⋅g(r)⋅──(Φ(r))\n",
       "          dr      \n",
       "──────────────────\n",
       "     ___________  \n",
       " 4⋅╲╱ f(r)⋅g(r)   "
      ]
     },
     "execution_count": 32,
     "metadata": {},
     "output_type": "execute_result"
    }
   ],
   "source": [
    "C = ddS_fdphi\n",
    "C"
   ]
  },
  {
   "cell_type": "markdown",
   "id": "4c37db57",
   "metadata": {},
   "source": [
    "The solution is:"
   ]
  },
  {
   "cell_type": "code",
   "execution_count": 33,
   "id": "fc8b02d1",
   "metadata": {},
   "outputs": [],
   "source": [
    "a_1 = sympy.sqrt(-A)\n",
    "a_2 = -B / (2 * a_1)\n",
    "a_3 = -C / (2 * a_1)\n",
    "c_0 = -B ** 2 * delta_Phi ** 2 / (4 * A) - B * C * delta_Phi * ddelta_Phi / (2 * A) - C ** 2 * ddelta_Phi ** 2 / (4 * A)"
   ]
  },
  {
   "cell_type": "code",
   "execution_count": 34,
   "id": "c0b8e82a",
   "metadata": {},
   "outputs": [],
   "source": [
    "completed_square = -(a_1 * delta_f + a_2 * delta_Phi + a_3 * ddelta_Phi) ** 2 + c_0"
   ]
  },
  {
   "cell_type": "markdown",
   "id": "bd9a95b7",
   "metadata": {},
   "source": [
    "Check the solution."
   ]
  },
  {
   "cell_type": "code",
   "execution_count": 35,
   "id": "b820b983",
   "metadata": {},
   "outputs": [],
   "source": [
    "r_val = 6"
   ]
  },
  {
   "cell_type": "code",
   "execution_count": 36,
   "id": "7c19dc1b",
   "metadata": {},
   "outputs": [],
   "source": [
    "func_subs = {\n",
    "    L: L_val,\n",
    "    f: f_of_r(r_val, L_val, r_0_val),\n",
    "    g: g_of_r(r_val, r_0_val),\n",
    "    dg: dg_of_r(r_val),\n",
    "    Phi: phi_of_r(r_val, phi_star, L_val),\n",
    "    dPhi: dphi_of_r(r_val, phi_star, L_val),\n",
    "}"
   ]
  },
  {
   "cell_type": "code",
   "execution_count": 37,
   "id": "e4b8938a",
   "metadata": {},
   "outputs": [
    {
     "data": {
      "image/png": "[encoded data removed]",
      "text/latex": [
       "$\\displaystyle - 0.00285785306505003 \\sqrt{10} \\delta_{\\Phi}{\\left(r \\right)} \\delta_{f}{\\left(r \\right)} - 0.00100963887719471 \\sqrt{10} \\delta_{f}^{2}{\\left(r \\right)} + 0.0251710699229633 \\sqrt{10} \\delta_{f}{\\left(r \\right)} \\frac{d}{d r} \\delta_{\\Phi}{\\left(r \\right)}$"
      ],
      "text/plain": [
       "                                                                    2         \n",
       "-0.00285785306505003⋅√10⋅δ_Φ(r)⋅δ_f(r) - 0.00100963887719471⋅√10⋅δ_f (r) + 0.0\n",
       "                                                                              \n",
       "\n",
       "                           d         \n",
       "251710699229633⋅√10⋅δ_f(r)⋅──(δ_Φ(r))\n",
       "                           dr        "
      ]
     },
     "execution_count": 37,
     "metadata": {},
     "output_type": "execute_result"
    }
   ],
   "source": [
    "action.subs(func_subs)"
   ]
  },
  {
   "cell_type": "code",
   "execution_count": 38,
   "id": "fdbf5623",
   "metadata": {},
   "outputs": [
    {
     "data": {
      "image/png": "[encoded data removed]",
      "text/latex": [
       "$\\displaystyle \\sqrt{10} \\left(- 8.67361737988404 \\cdot 10^{-19} \\delta_{\\Phi}^{2}{\\left(r \\right)} - 0.00285785306505003 \\delta_{\\Phi}{\\left(r \\right)} \\delta_{f}{\\left(r \\right)} - 0.00100963887719471 \\delta_{f}^{2}{\\left(r \\right)} + 0.0251710699229633 \\delta_{f}{\\left(r \\right)} \\frac{d}{d r} \\delta_{\\Phi}{\\left(r \\right)} + 5.55111512312578 \\cdot 10^{-17} \\left(\\frac{d}{d r} \\delta_{\\Phi}{\\left(r \\right)}\\right)^{2}\\right)$"
      ],
      "text/plain": [
       "    ⎛                                                                         \n",
       "    ⎜                          2                                              \n",
       "√10⋅⎜- 8.67361737988404e-19⋅δ_Φ (r) - 0.00285785306505003⋅δ_Φ(r)⋅δ_f(r) - 0.00\n",
       "    ⎝                                                                         \n",
       "\n",
       "                                                                              \n",
       "                   2                                d                         \n",
       "100963887719471⋅δ_f (r) + 0.0251710699229633⋅δ_f(r)⋅──(δ_Φ(r)) + 5.55111512312\n",
       "                                                    dr                        \n",
       "\n",
       "                    2⎞\n",
       "        ⎛d         ⎞ ⎟\n",
       "578e-17⋅⎜──(δ_Φ(r))⎟ ⎟\n",
       "        ⎝dr        ⎠ ⎠"
      ]
     },
     "execution_count": 38,
     "metadata": {},
     "output_type": "execute_result"
    }
   ],
   "source": [
    "sympy.simplify(completed_square.subs(func_subs))"
   ]
  },
  {
   "cell_type": "markdown",
   "id": "df2371b5",
   "metadata": {},
   "source": [
    "There is indeed agreement. The extra terms to add to the Lagrangian are:"
   ]
  },
  {
   "cell_type": "code",
   "execution_count": 39,
   "id": "0804be56",
   "metadata": {},
   "outputs": [
    {
     "data": {
      "image/png": "[encoded data removed]",
      "text/latex": [
       "$\\displaystyle - \\frac{96 L^{6} \\Phi^{2}{\\left(r \\right)} \\delta_{\\Phi}^{2}{\\left(r \\right)} f{\\left(r \\right)} g{\\left(r \\right)}}{\\left(f{\\left(r \\right)} g{\\left(r \\right)}\\right)^{\\frac{3}{2}} \\cdot \\left(48 L^{4} \\Phi^{2}{\\left(r \\right)} - 4 L^{4} f{\\left(r \\right)} g{\\left(r \\right)} \\left(\\frac{d}{d r} \\Phi{\\left(r \\right)}\\right)^{2} + L^{2} f{\\left(r \\right)} \\left(\\frac{d}{d r} g{\\left(r \\right)}\\right)^{2} - 12 L^{2} g{\\left(r \\right)} - 12 g^{2}{\\left(r \\right)}\\right)} + \\frac{48 L^{6} \\Phi{\\left(r \\right)} \\delta_{\\Phi}{\\left(r \\right)} f^{2}{\\left(r \\right)} g^{2}{\\left(r \\right)} \\frac{d}{d r} \\Phi{\\left(r \\right)} \\frac{d}{d r} \\delta_{\\Phi}{\\left(r \\right)}}{\\left(f{\\left(r \\right)} g{\\left(r \\right)}\\right)^{\\frac{3}{2}} \\cdot \\left(48 L^{4} \\Phi^{2}{\\left(r \\right)} - 4 L^{4} f{\\left(r \\right)} g{\\left(r \\right)} \\left(\\frac{d}{d r} \\Phi{\\left(r \\right)}\\right)^{2} + L^{2} f{\\left(r \\right)} \\left(\\frac{d}{d r} g{\\left(r \\right)}\\right)^{2} - 12 L^{2} g{\\left(r \\right)} - 12 g^{2}{\\left(r \\right)}\\right)} - \\frac{6 L^{6} f^{3}{\\left(r \\right)} g^{3}{\\left(r \\right)} \\left(\\frac{d}{d r} \\Phi{\\left(r \\right)}\\right)^{2} \\left(\\frac{d}{d r} \\delta_{\\Phi}{\\left(r \\right)}\\right)^{2}}{\\left(f{\\left(r \\right)} g{\\left(r \\right)}\\right)^{\\frac{3}{2}} \\cdot \\left(48 L^{4} \\Phi^{2}{\\left(r \\right)} - 4 L^{4} f{\\left(r \\right)} g{\\left(r \\right)} \\left(\\frac{d}{d r} \\Phi{\\left(r \\right)}\\right)^{2} + L^{2} f{\\left(r \\right)} \\left(\\frac{d}{d r} g{\\left(r \\right)}\\right)^{2} - 12 L^{2} g{\\left(r \\right)} - 12 g^{2}{\\left(r \\right)}\\right)}$"
      ],
      "text/plain": [
       "                                                                              \n",
       "                                                                              \n",
       "                                           6  2       2                       \n",
       "                                       96⋅L ⋅Φ (r)⋅δ_Φ (r)⋅f(r)⋅g(r)          \n",
       "- ────────────────────────────────────────────────────────────────────────────\n",
       "                 ⎛                                       2                    \n",
       "             3/2 ⎜    4  2         4           ⎛d       ⎞     2      ⎛d       \n",
       "  (f(r)⋅g(r))   ⋅⎜48⋅L ⋅Φ (r) - 4⋅L ⋅f(r)⋅g(r)⋅⎜──(Φ(r))⎟  + L ⋅f(r)⋅⎜──(g(r))\n",
       "                 ⎝                             ⎝dr      ⎠            ⎝dr      \n",
       "\n",
       "                                                                              \n",
       "                                                             6              2 \n",
       "                                                         48⋅L ⋅Φ(r)⋅δ_Φ(r)⋅f (\n",
       "                                                                              \n",
       "─────────────────────────── + ────────────────────────────────────────────────\n",
       " 2                        ⎞                  ⎛                                \n",
       "⎞        2            2   ⎟              3/2 ⎜    4  2         4           ⎛d \n",
       "⎟  - 12⋅L ⋅g(r) - 12⋅g (r)⎟   (f(r)⋅g(r))   ⋅⎜48⋅L ⋅Φ (r) - 4⋅L ⋅f(r)⋅g(r)⋅⎜──\n",
       "⎠                         ⎠                  ⎝                             ⎝dr\n",
       "\n",
       "                                                                              \n",
       "    2    d        d                                                           \n",
       "r)⋅g (r)⋅──(Φ(r))⋅──(δ_Φ(r))                                                  \n",
       "         dr       dr                                                          \n",
       "─────────────────────────────────────────────────────── - ────────────────────\n",
       "       2                     2                        ⎞                  ⎛    \n",
       "      ⎞     2      ⎛d       ⎞        2            2   ⎟              3/2 ⎜    \n",
       "(Φ(r))⎟  + L ⋅f(r)⋅⎜──(g(r))⎟  - 12⋅L ⋅g(r) - 12⋅g (r)⎟   (f(r)⋅g(r))   ⋅⎜48⋅L\n",
       "      ⎠            ⎝dr      ⎠                         ⎠                  ⎝    \n",
       "\n",
       "                                      2             2                         \n",
       "              6  3     3    ⎛d       ⎞  ⎛d         ⎞                          \n",
       "           6⋅L ⋅f (r)⋅g (r)⋅⎜──(Φ(r))⎟ ⋅⎜──(δ_Φ(r))⎟                          \n",
       "                            ⎝dr      ⎠  ⎝dr        ⎠                          \n",
       "──────────────────────────────────────────────────────────────────────────────\n",
       "                                   2                     2                    \n",
       "4  2         4           ⎛d       ⎞     2      ⎛d       ⎞        2            \n",
       " ⋅Φ (r) - 4⋅L ⋅f(r)⋅g(r)⋅⎜──(Φ(r))⎟  + L ⋅f(r)⋅⎜──(g(r))⎟  - 12⋅L ⋅g(r) - 12⋅g\n",
       "                         ⎝dr      ⎠            ⎝dr      ⎠                     \n",
       "\n",
       "     \n",
       "     \n",
       "     \n",
       "     \n",
       "─────\n",
       "    ⎞\n",
       "2   ⎟\n",
       " (r)⎟\n",
       "    ⎠"
      ]
     },
     "execution_count": 39,
     "metadata": {},
     "output_type": "execute_result"
    }
   ],
   "source": [
    "c_0"
   ]
  }
 ],
 "metadata": {
  "kernelspec": {
   "display_name": "Python 3.10.3 ('env': venv)",
   "language": "python",
   "name": "python3"
  },
  "language_info": {
   "codemirror_mode": {
    "name": "ipython",
    "version": 3
   },
   "file_extension": ".py",
   "mimetype": "text/x-python",
   "name": "python",
   "nbconvert_exporter": "python",
   "pygments_lexer": "ipython3",
   "version": "3.10.3"
  },
  "vscode": {
   "interpreter": {
    "hash": "c4cf3c24cb46a3fd1f6949e64220e8351ad1410e125a86590159f01143d71e6f"
   }
  }
 },
 "nbformat": 4,
 "nbformat_minor": 5
}
