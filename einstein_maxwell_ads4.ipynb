{
 "cells": [
  {
   "cell_type": "code",
   "execution_count": 1,
   "id": "6d9963f1",
   "metadata": {},
   "outputs": [],
   "source": [
    "import sympy\n",
    "from sympy.tensor.tensor import TensorIndexType, TensorIndex, TensorHead, tensor_indices, TensorSymmetry\n",
    "from einsteinpy.symbolic import RicciTensor, MetricTensor\n",
    "\n",
    "sympy.init_printing()"
   ]
  },
  {
   "cell_type": "markdown",
   "id": "6a02c548",
   "metadata": {},
   "source": [
    "Compute the Einstein tensor."
   ]
  },
  {
   "cell_type": "code",
   "execution_count": 2,
   "id": "41ff5465",
   "metadata": {},
   "outputs": [],
   "source": [
    "syms = sympy.symbols(\"r psi theta phi\")\n",
    "r, psi, theta, phi = syms\n",
    "f = sympy.Function('f')(r)  # metric ansatz\n",
    "L = sympy.symbols(\"L\")  # AdS length scale\n",
    "cap_phi = sympy.Function('Phi')(r)  # defines gauge field"
   ]
  },
  {
   "cell_type": "code",
   "execution_count": 3,
   "id": "94e4c6d7",
   "metadata": {},
   "outputs": [
    {
     "data": {
      "text/latex": [
       "$\\displaystyle \\left[\\begin{matrix}\\frac{1}{f{\\left(r \\right)}} & 0 & 0 & 0\\\\0 & \\frac{r^{2}}{4} & 0 & \\frac{r^{2} \\cos{\\left(\\theta \\right)}}{4}\\\\0 & 0 & \\frac{r^{2}}{4} & 0\\\\0 & \\frac{r^{2} \\cos{\\left(\\theta \\right)}}{4} & 0 & \\frac{r^{2}}{4}\\end{matrix}\\right]$"
      ],
      "text/plain": [
       "⎡ 1                            ⎤\n",
       "⎢────      0      0       0    ⎥\n",
       "⎢f(r)                          ⎥\n",
       "⎢                              ⎥\n",
       "⎢          2           2       ⎥\n",
       "⎢         r           r ⋅cos(θ)⎥\n",
       "⎢ 0       ──      0   ─────────⎥\n",
       "⎢         4               4    ⎥\n",
       "⎢                              ⎥\n",
       "⎢                  2           ⎥\n",
       "⎢                 r            ⎥\n",
       "⎢ 0        0      ──      0    ⎥\n",
       "⎢                 4            ⎥\n",
       "⎢                              ⎥\n",
       "⎢       2                 2    ⎥\n",
       "⎢      r ⋅cos(θ)         r     ⎥\n",
       "⎢ 0    ─────────  0      ──    ⎥\n",
       "⎣          4             4     ⎦"
      ]
     },
     "execution_count": 3,
     "metadata": {},
     "output_type": "execute_result"
    }
   ],
   "source": [
    "list2d = [[0 for i in range(4)] for i in range(4)]\n",
    "list2d[0][0] = 1/f\n",
    "list2d[1][1] = list2d[2][2] = list2d[3][3] = r**2/4\n",
    "list2d[1][3] = list2d[3][1] = r**2 / 4 * sympy.cos(theta)\n",
    "sch = MetricTensor(list2d, syms)\n",
    "sch.tensor()"
   ]
  },
  {
   "cell_type": "code",
   "execution_count": 4,
   "id": "c08ef89f",
   "metadata": {},
   "outputs": [
    {
     "data": {
      "text/latex": [
       "$\\displaystyle \\left[\\begin{matrix}- \\frac{3 \\frac{d}{d r} f{\\left(r \\right)}}{2 r f{\\left(r \\right)}} & 0 & 0 & 0\\\\0 & - \\frac{r \\frac{d}{d r} f{\\left(r \\right)}}{8} - \\frac{f{\\left(r \\right)}}{2} + \\frac{1}{2} & 0 & \\frac{\\left(- r \\frac{d}{d r} f{\\left(r \\right)} - 4 f{\\left(r \\right)} + 4\\right) \\cos{\\left(\\theta \\right)}}{8}\\\\0 & 0 & - \\frac{r \\frac{d}{d r} f{\\left(r \\right)}}{8} - \\frac{f{\\left(r \\right)}}{2} + \\frac{1}{2} & 0\\\\0 & \\frac{\\left(- r \\frac{d}{d r} f{\\left(r \\right)} - 4 f{\\left(r \\right)} + 4\\right) \\cos{\\left(\\theta \\right)}}{8} & 0 & - \\frac{r \\frac{d}{d r} f{\\left(r \\right)}}{8} - \\frac{f{\\left(r \\right)}}{2} + \\frac{1}{2}\\end{matrix}\\right]$"
      ],
      "text/plain": [
       "⎡   d                                                                         \n",
       "⎢-3⋅──(f(r))                                                                  \n",
       "⎢   dr                                                                        \n",
       "⎢────────────                  0                              0               \n",
       "⎢  2⋅r⋅f(r)                                                                   \n",
       "⎢                                                                             \n",
       "⎢                       d                                                   ⎛ \n",
       "⎢                     r⋅──(f(r))                                            ⎜-\n",
       "⎢                       dr         f(r)   1                                 ⎝ \n",
       "⎢     0             - ────────── - ──── + ─                   0             ──\n",
       "⎢                         8         2     2                                   \n",
       "⎢                                                                             \n",
       "⎢                                                      d                      \n",
       "⎢                                                    r⋅──(f(r))               \n",
       "⎢                                                      dr         f(r)   1    \n",
       "⎢     0                        0                   - ────────── - ──── + ─    \n",
       "⎢                                                        8         2     2    \n",
       "⎢                                                                             \n",
       "⎢              ⎛    d                    ⎞                                    \n",
       "⎢              ⎜- r⋅──(f(r)) - 4⋅f(r) + 4⎟⋅cos(θ)                             \n",
       "⎢              ⎝    dr                   ⎠                                    \n",
       "⎢     0        ──────────────────────────────────             0               \n",
       "⎣                              8                                              \n",
       "\n",
       "                                ⎤\n",
       "                                ⎥\n",
       "                                ⎥\n",
       "              0                 ⎥\n",
       "                                ⎥\n",
       "                                ⎥\n",
       "   d                    ⎞       ⎥\n",
       " r⋅──(f(r)) - 4⋅f(r) + 4⎟⋅cos(θ)⎥\n",
       "   dr                   ⎠       ⎥\n",
       "────────────────────────────────⎥\n",
       "              8                 ⎥\n",
       "                                ⎥\n",
       "                                ⎥\n",
       "                                ⎥\n",
       "                                ⎥\n",
       "              0                 ⎥\n",
       "                                ⎥\n",
       "                                ⎥\n",
       "       d                        ⎥\n",
       "     r⋅──(f(r))                 ⎥\n",
       "       dr         f(r)   1      ⎥\n",
       "   - ────────── - ──── + ─      ⎥\n",
       "         8         2     2      ⎦"
      ]
     },
     "execution_count": 4,
     "metadata": {},
     "output_type": "execute_result"
    }
   ],
   "source": [
    "Ric = RicciTensor.from_metric(sch)\n",
    "Ric.tensor()"
   ]
  },
  {
   "cell_type": "code",
   "execution_count": 5,
   "id": "d28c83b9",
   "metadata": {},
   "outputs": [
    {
     "data": {
      "text/latex": [
       "$\\displaystyle \\left[\\begin{matrix}- \\frac{3 \\frac{d}{d r} f{\\left(r \\right)}}{2 r f{\\left(r \\right)}} + \\frac{3}{L^{2} f{\\left(r \\right)}} & 0 & 0 & 0\\\\0 & - \\frac{r \\frac{d}{d r} f{\\left(r \\right)}}{8} - \\frac{f{\\left(r \\right)}}{2} + \\frac{1}{2} + \\frac{3 r^{2}}{4 L^{2}} & 0 & \\frac{\\left(- r \\frac{d}{d r} f{\\left(r \\right)} - 4 f{\\left(r \\right)} + 4\\right) \\cos{\\left(\\theta \\right)}}{8} + \\frac{3 r^{2} \\cos{\\left(\\theta \\right)}}{4 L^{2}}\\\\0 & 0 & - \\frac{r \\frac{d}{d r} f{\\left(r \\right)}}{8} - \\frac{f{\\left(r \\right)}}{2} + \\frac{1}{2} + \\frac{3 r^{2}}{4 L^{2}} & 0\\\\0 & \\frac{\\left(- r \\frac{d}{d r} f{\\left(r \\right)} - 4 f{\\left(r \\right)} + 4\\right) \\cos{\\left(\\theta \\right)}}{8} + \\frac{3 r^{2} \\cos{\\left(\\theta \\right)}}{4 L^{2}} & 0 & - \\frac{r \\frac{d}{d r} f{\\left(r \\right)}}{8} - \\frac{f{\\left(r \\right)}}{2} + \\frac{1}{2} + \\frac{3 r^{2}}{4 L^{2}}\\end{matrix}\\right]$"
      ],
      "text/plain": [
       "⎡    d                                                                        \n",
       "⎢  3⋅──(f(r))                                                                 \n",
       "⎢    dr            3                                                          \n",
       "⎢- ────────── + ───────                         0                             \n",
       "⎢   2⋅r⋅f(r)     2                                                            \n",
       "⎢               L ⋅f(r)                                                       \n",
       "⎢                                                                             \n",
       "⎢                                     d                                       \n",
       "⎢                                   r⋅──(f(r))                 2              \n",
       "⎢                                     dr         f(r)   1   3⋅r               \n",
       "⎢          0                      - ────────── - ──── + ─ + ────              \n",
       "⎢                                       8         2     2      2              \n",
       "⎢                                                           4⋅L               \n",
       "⎢                                                                             \n",
       "⎢                                                                             \n",
       "⎢                                                                            r\n",
       "⎢                                                                             \n",
       "⎢          0                                    0                          - ─\n",
       "⎢                                                                             \n",
       "⎢                                                                             \n",
       "⎢                                                                             \n",
       "⎢                        ⎛    d                    ⎞                          \n",
       "⎢                        ⎜- r⋅──(f(r)) - 4⋅f(r) + 4⎟⋅cos(θ)      2            \n",
       "⎢                        ⎝    dr                   ⎠          3⋅r ⋅cos(θ)     \n",
       "⎢          0             ────────────────────────────────── + ───────────     \n",
       "⎢                                        8                           2        \n",
       "⎣                                                                 4⋅L         \n",
       "\n",
       "                                                                             ⎤\n",
       "                                                                             ⎥\n",
       "                                                                             ⎥\n",
       "           0                                        0                        ⎥\n",
       "                                                                             ⎥\n",
       "                                                                             ⎥\n",
       "                                                                             ⎥\n",
       "                             ⎛    d                    ⎞                     ⎥\n",
       "                             ⎜- r⋅──(f(r)) - 4⋅f(r) + 4⎟⋅cos(θ)      2       ⎥\n",
       "                             ⎝    dr                   ⎠          3⋅r ⋅cos(θ)⎥\n",
       "           0                 ────────────────────────────────── + ───────────⎥\n",
       "                                             8                           2   ⎥\n",
       "                                                                      4⋅L    ⎥\n",
       "                                                                             ⎥\n",
       " d                                                                           ⎥\n",
       "⋅──(f(r))                 2                                                  ⎥\n",
       " dr         f(r)   1   3⋅r                                                   ⎥\n",
       "───────── - ──── + ─ + ────                         0                        ⎥\n",
       "   8         2     2      2                                                  ⎥\n",
       "                       4⋅L                                                   ⎥\n",
       "                                                                             ⎥\n",
       "                                          d                                  ⎥\n",
       "                                        r⋅──(f(r))                 2         ⎥\n",
       "                                          dr         f(r)   1   3⋅r          ⎥\n",
       "           0                          - ────────── - ──── + ─ + ────         ⎥\n",
       "                                            8         2     2      2         ⎥\n",
       "                                                                4⋅L          ⎦"
      ]
     },
     "execution_count": 5,
     "metadata": {},
     "output_type": "execute_result"
    }
   ],
   "source": [
    "metric_array = sympy.MutableDenseNDimArray(list2d)\n",
    "einstein_tensor = sympy.MutableDenseNDimArray(Ric.tensor()) + 3 / L ** 2 * metric_array\n",
    "einstein_tensor"
   ]
  },
  {
   "cell_type": "code",
   "execution_count": 6,
   "id": "96523a2c",
   "metadata": {},
   "outputs": [
    {
     "data": {
      "text/latex": [
       "$\\displaystyle \\left[\\begin{matrix}- \\frac{3 \\frac{d}{d r} f{\\left(r \\right)}}{2 r f{\\left(r \\right)}} + \\frac{3}{L^{2} f{\\left(r \\right)}} & 0 & 0 & 0\\\\0 & \\frac{L^{2} \\left(- r \\frac{d}{d r} f{\\left(r \\right)} - 4 f{\\left(r \\right)} + 4\\right) + 6 r^{2}}{8 L^{2}} & 0 & \\frac{\\left(- L^{2} \\left(r \\frac{d}{d r} f{\\left(r \\right)} + 4 f{\\left(r \\right)} - 4\\right) + 6 r^{2}\\right) \\cos{\\left(\\theta \\right)}}{8 L^{2}}\\\\0 & 0 & \\frac{L^{2} \\left(- r \\frac{d}{d r} f{\\left(r \\right)} - 4 f{\\left(r \\right)} + 4\\right) + 6 r^{2}}{8 L^{2}} & 0\\\\0 & \\frac{\\left(- L^{2} \\left(r \\frac{d}{d r} f{\\left(r \\right)} + 4 f{\\left(r \\right)} - 4\\right) + 6 r^{2}\\right) \\cos{\\left(\\theta \\right)}}{8 L^{2}} & 0 & \\frac{L^{2} \\left(- r \\frac{d}{d r} f{\\left(r \\right)} - 4 f{\\left(r \\right)} + 4\\right) + 6 r^{2}}{8 L^{2}}\\end{matrix}\\right]$"
      ],
      "text/plain": [
       "⎡    d                                                                        \n",
       "⎢  3⋅──(f(r))                                                                 \n",
       "⎢    dr            3                                                          \n",
       "⎢- ────────── + ───────                        0                              \n",
       "⎢   2⋅r⋅f(r)     2                                                            \n",
       "⎢               L ⋅f(r)                                                       \n",
       "⎢                                                                             \n",
       "⎢                             2 ⎛    d                    ⎞      2            \n",
       "⎢                            L ⋅⎜- r⋅──(f(r)) - 4⋅f(r) + 4⎟ + 6⋅r             \n",
       "⎢                               ⎝    dr                   ⎠                   \n",
       "⎢          0                 ─────────────────────────────────────            \n",
       "⎢                                                2                            \n",
       "⎢                                             8⋅L                             \n",
       "⎢                                                                             \n",
       "⎢                                                                         2 ⎛ \n",
       "⎢                                                                        L ⋅⎜-\n",
       "⎢                                                                           ⎝ \n",
       "⎢          0                                   0                         ─────\n",
       "⎢                                                                             \n",
       "⎢                                                                             \n",
       "⎢                                                                             \n",
       "⎢                        ⎛   2 ⎛  d                    ⎞      2⎞              \n",
       "⎢                        ⎜- L ⋅⎜r⋅──(f(r)) + 4⋅f(r) - 4⎟ + 6⋅r ⎟⋅cos(θ)       \n",
       "⎢                        ⎝     ⎝  dr                   ⎠       ⎠              \n",
       "⎢          0             ──────────────────────────────────────────────       \n",
       "⎢                                                2                            \n",
       "⎣                                             8⋅L                             \n",
       "\n",
       "                                                                              \n",
       "                                                                              \n",
       "                                                                              \n",
       "             0                                          0                     \n",
       "                                                                              \n",
       "                                                                              \n",
       "                                                                              \n",
       "                                  ⎛   2 ⎛  d                    ⎞      2⎞     \n",
       "                                  ⎜- L ⋅⎜r⋅──(f(r)) + 4⋅f(r) - 4⎟ + 6⋅r ⎟⋅cos(\n",
       "                                  ⎝     ⎝  dr                   ⎠       ⎠     \n",
       "             0                    ────────────────────────────────────────────\n",
       "                                                          2                   \n",
       "                                                       8⋅L                    \n",
       "                                                                              \n",
       "   d                    ⎞      2                                              \n",
       " r⋅──(f(r)) - 4⋅f(r) + 4⎟ + 6⋅r                                               \n",
       "   dr                   ⎠                                                     \n",
       "────────────────────────────────                        0                     \n",
       "               2                                                              \n",
       "            8⋅L                                                               \n",
       "                                                                              \n",
       "                                       2 ⎛    d                    ⎞      2   \n",
       "                                      L ⋅⎜- r⋅──(f(r)) - 4⋅f(r) + 4⎟ + 6⋅r    \n",
       "                                         ⎝    dr                   ⎠          \n",
       "             0                        ─────────────────────────────────────   \n",
       "                                                          2                   \n",
       "                                                       8⋅L                    \n",
       "\n",
       "  ⎤\n",
       "  ⎥\n",
       "  ⎥\n",
       "  ⎥\n",
       "  ⎥\n",
       "  ⎥\n",
       "  ⎥\n",
       "  ⎥\n",
       "θ)⎥\n",
       "  ⎥\n",
       "──⎥\n",
       "  ⎥\n",
       "  ⎥\n",
       "  ⎥\n",
       "  ⎥\n",
       "  ⎥\n",
       "  ⎥\n",
       "  ⎥\n",
       "  ⎥\n",
       "  ⎥\n",
       "  ⎥\n",
       "  ⎥\n",
       "  ⎥\n",
       "  ⎥\n",
       "  ⎥\n",
       "  ⎥\n",
       "  ⎦"
      ]
     },
     "execution_count": 6,
     "metadata": {},
     "output_type": "execute_result"
    }
   ],
   "source": [
    "for i in range(4):\n",
    "    for j in range(4):\n",
    "        einstein_tensor[i, j] = einstein_tensor[i, j].simplify()\n",
    "einstein_tensor"
   ]
  },
  {
   "cell_type": "markdown",
   "id": "2fd1c12c",
   "metadata": {},
   "source": [
    "Compute the right-hand side of the Einstein equation."
   ]
  },
  {
   "cell_type": "code",
   "execution_count": 7,
   "id": "98747a35",
   "metadata": {},
   "outputs": [],
   "source": [
    "\n",
    "A_1 = L / 2 * cap_phi * sympy.Array([0, 0, -sympy.sin(psi), sympy.cos(psi) * sympy.sin(theta)])\n",
    "A_2 = L / 2 * cap_phi * sympy.Array([0, 0, sympy.cos(psi), sympy.sin(psi) * sympy.sin(theta)])\n",
    "A_3 = L / 2 * cap_phi * sympy.Array([0, 1, 0, sympy.cos(theta)])"
   ]
  },
  {
   "cell_type": "code",
   "execution_count": 8,
   "id": "d7e48bba",
   "metadata": {},
   "outputs": [
    {
     "data": {
      "text/latex": [
       "$\\displaystyle \\left( \\left[\\begin{matrix}0 & 0 & - \\frac{L \\Phi{\\left(r \\right)} \\sin{\\left(\\psi \\right)}}{2} & \\frac{L \\Phi{\\left(r \\right)} \\sin{\\left(\\theta \\right)} \\cos{\\left(\\psi \\right)}}{2}\\end{matrix}\\right], \\  \\left[\\begin{matrix}0 & 0 & \\frac{L \\Phi{\\left(r \\right)} \\cos{\\left(\\psi \\right)}}{2} & \\frac{L \\Phi{\\left(r \\right)} \\sin{\\left(\\psi \\right)} \\sin{\\left(\\theta \\right)}}{2}\\end{matrix}\\right], \\  \\left[\\begin{matrix}0 & \\frac{L \\Phi{\\left(r \\right)}}{2} & 0 & \\frac{L \\Phi{\\left(r \\right)} \\cos{\\left(\\theta \\right)}}{2}\\end{matrix}\\right]\\right)$"
      ],
      "text/plain": [
       "⎛⎡      -L⋅Φ(r)⋅sin(ψ)   L⋅Φ(r)⋅sin(θ)⋅cos(ψ)⎤  ⎡      L⋅Φ(r)⋅cos(ψ)  L⋅Φ(r)⋅s\n",
       "⎜⎢0  0  ───────────────  ────────────────────⎥, ⎢0  0  ─────────────  ────────\n",
       "⎝⎣             2                  2          ⎦  ⎣            2                \n",
       "\n",
       "in(ψ)⋅sin(θ)⎤  ⎡   L⋅Φ(r)     L⋅Φ(r)⋅cos(θ)⎤⎞\n",
       "────────────⎥, ⎢0  ──────  0  ─────────────⎥⎟\n",
       " 2          ⎦  ⎣     2              2      ⎦⎠"
      ]
     },
     "execution_count": 8,
     "metadata": {},
     "output_type": "execute_result"
    }
   ],
   "source": [
    "A_1, A_2, A_3"
   ]
  },
  {
   "cell_type": "code",
   "execution_count": 9,
   "id": "e25dd6e1",
   "metadata": {},
   "outputs": [],
   "source": [
    "x = [r, psi, theta, phi]\n",
    "def em_field_strength(A):\n",
    "    \"\"\"Compute EM field strength from the vector potential.\"\"\"    \n",
    "    F = sympy.MutableDenseNDimArray.zeros(4, 4)\n",
    "    for i in range(4):\n",
    "        for j in range(4):\n",
    "            F[i, j] = sympy.diff(A[j], x[i]) - sympy.diff(A[i], x[j])\n",
    "    return F"
   ]
  },
  {
   "cell_type": "code",
   "execution_count": 10,
   "id": "25bc08f8",
   "metadata": {},
   "outputs": [],
   "source": [
    "F_1 = em_field_strength(A_1)\n",
    "F_2 = em_field_strength(A_2)\n",
    "F_3 = em_field_strength(A_3)"
   ]
  },
  {
   "cell_type": "code",
   "execution_count": 11,
   "id": "a1c9bd09",
   "metadata": {},
   "outputs": [],
   "source": [
    "FF = sympy.tensorproduct(F_1, F_1) + sympy.tensorproduct(F_2, F_2) + sympy.tensorproduct(F_3, F_3)"
   ]
  },
  {
   "cell_type": "markdown",
   "id": "78c0a711",
   "metadata": {},
   "source": [
    "Wrap into a tensor object with appropriate indices."
   ]
  },
  {
   "cell_type": "code",
   "execution_count": 12,
   "id": "0349169d",
   "metadata": {},
   "outputs": [],
   "source": [
    "Lorentz = TensorIndexType('Lorentz', dummy_name='L')\n",
    "mu, nu, rho, sigma = tensor_indices('mu, nu, rho, sigma', Lorentz)\n",
    "T_tensor = TensorHead('T', [Lorentz, Lorentz, Lorentz, Lorentz])"
   ]
  },
  {
   "cell_type": "code",
   "execution_count": 13,
   "id": "2b4a27f0",
   "metadata": {},
   "outputs": [
    {
     "data": {
      "image/png": "[encoded data removed]",
      "text/latex": [
       "$\\displaystyle T{}_{\\mu\\nu\\rho}{}^{\\sigma}$"
      ],
      "text/plain": [
       "    σ\n",
       "T    \n",
       " μνρ "
      ]
     },
     "execution_count": 13,
     "metadata": {},
     "output_type": "execute_result"
    }
   ],
   "source": [
    "T_tensor(-mu, -nu, -rho, sigma)"
   ]
  },
  {
   "cell_type": "code",
   "execution_count": 14,
   "id": "fdb37667",
   "metadata": {},
   "outputs": [],
   "source": [
    "repl = {T_tensor(-mu, -nu, -rho, -sigma): FF, Lorentz: list2d}"
   ]
  },
  {
   "cell_type": "code",
   "execution_count": 15,
   "id": "c7778982",
   "metadata": {},
   "outputs": [
    {
     "data": {
      "text/latex": [
       "$\\displaystyle \\left[\\begin{matrix}- \\frac{2 L^{2} \\cos^{2}{\\left(\\theta \\right)} \\left(\\frac{d}{d r} \\Phi{\\left(r \\right)}\\right)^{2}}{r^{2} \\cos^{2}{\\left(\\theta \\right)} - r^{2}} + \\frac{L^{2} \\left(\\frac{d}{d r} \\Phi{\\left(r \\right)}\\right)^{2}}{r^{2} \\cos^{2}{\\left(\\theta \\right)} - r^{2}} - \\frac{4 \\left(- \\frac{L^{2} \\sin^{2}{\\left(\\psi \\right)} \\sin^{2}{\\left(\\theta \\right)} \\left(\\frac{d}{d r} \\Phi{\\left(r \\right)}\\right)^{2}}{4} - \\frac{L^{2} \\sin^{2}{\\left(\\theta \\right)} \\cos^{2}{\\left(\\psi \\right)} \\left(\\frac{d}{d r} \\Phi{\\left(r \\right)}\\right)^{2}}{4} - \\frac{L^{2} \\cos^{2}{\\left(\\theta \\right)} \\left(\\frac{d}{d r} \\Phi{\\left(r \\right)}\\right)^{2}}{4}\\right)}{r^{2} \\cos^{2}{\\left(\\theta \\right)} - r^{2}} + \\frac{4 \\left(- \\frac{L^{2} \\sin^{2}{\\left(\\psi \\right)} \\left(\\frac{d}{d r} \\Phi{\\left(r \\right)}\\right)^{2}}{4} - \\frac{L^{2} \\cos^{2}{\\left(\\psi \\right)} \\left(\\frac{d}{d r} \\Phi{\\left(r \\right)}\\right)^{2}}{4}\\right)}{r^{2}} & 0 & \\frac{L^{2} \\Phi{\\left(r \\right)} \\sin{\\left(\\theta \\right)} \\cos{\\left(\\theta \\right)} \\frac{d}{d r} \\Phi{\\left(r \\right)}}{r^{2} \\cos^{2}{\\left(\\theta \\right)} - r^{2}} + \\frac{4 \\left(- \\frac{L^{2} \\Phi{\\left(r \\right)} \\sin^{2}{\\left(\\psi \\right)} \\sin{\\left(\\theta \\right)} \\frac{d}{d r} \\Phi{\\left(r \\right)}}{4} - \\frac{L^{2} \\Phi{\\left(r \\right)} \\sin{\\left(\\theta \\right)} \\cos^{2}{\\left(\\psi \\right)} \\frac{d}{d r} \\Phi{\\left(r \\right)}}{4}\\right) \\cos{\\left(\\theta \\right)}}{r^{2} \\cos^{2}{\\left(\\theta \\right)} - r^{2}} - \\frac{4 \\left(- \\frac{L^{2} \\Phi{\\left(r \\right)} \\sin^{2}{\\left(\\psi \\right)} \\sin{\\left(\\theta \\right)} \\cos{\\left(\\theta \\right)} \\frac{d}{d r} \\Phi{\\left(r \\right)}}{4} - \\frac{L^{2} \\Phi{\\left(r \\right)} \\sin{\\left(\\theta \\right)} \\cos^{2}{\\left(\\psi \\right)} \\cos{\\left(\\theta \\right)} \\frac{d}{d r} \\Phi{\\left(r \\right)}}{4} + \\frac{L^{2} \\Phi{\\left(r \\right)} \\sin{\\left(\\theta \\right)} \\cos{\\left(\\theta \\right)} \\frac{d}{d r} \\Phi{\\left(r \\right)}}{4}\\right)}{r^{2} \\cos^{2}{\\left(\\theta \\right)} - r^{2}} & 0\\\\0 & - \\frac{L^{2} f{\\left(r \\right)} \\left(\\frac{d}{d r} \\Phi{\\left(r \\right)}\\right)^{2}}{4} - \\frac{4 \\left(- \\frac{L^{2} \\Phi^{2}{\\left(r \\right)} \\sin^{2}{\\left(\\psi \\right)} \\sin^{2}{\\left(\\theta \\right)}}{4} - \\frac{L^{2} \\Phi^{2}{\\left(r \\right)} \\sin^{2}{\\left(\\theta \\right)} \\cos^{2}{\\left(\\psi \\right)}}{4}\\right)}{r^{2} \\cos^{2}{\\left(\\theta \\right)} - r^{2}} + \\frac{4 \\left(- \\frac{L^{2} \\Phi^{2}{\\left(r \\right)} \\sin^{2}{\\left(\\psi \\right)}}{4} - \\frac{L^{2} \\Phi^{2}{\\left(r \\right)} \\cos^{2}{\\left(\\psi \\right)}}{4}\\right)}{r^{2}} & 0 & - \\frac{L^{2} f{\\left(r \\right)} \\cos{\\left(\\theta \\right)} \\left(\\frac{d}{d r} \\Phi{\\left(r \\right)}\\right)^{2}}{4} + \\frac{4 \\left(\\frac{L^{2} \\Phi^{2}{\\left(r \\right)} \\sin^{2}{\\left(\\psi \\right)} \\sin^{2}{\\left(\\theta \\right)}}{4} + \\frac{L^{2} \\Phi^{2}{\\left(r \\right)} \\sin^{2}{\\left(\\theta \\right)} \\cos^{2}{\\left(\\psi \\right)}}{4}\\right) \\cos{\\left(\\theta \\right)}}{r^{2} \\cos^{2}{\\left(\\theta \\right)} - r^{2}} + \\frac{4 \\left(- \\frac{L^{2} \\Phi^{2}{\\left(r \\right)} \\sin^{2}{\\left(\\psi \\right)} \\cos{\\left(\\theta \\right)}}{4} - \\frac{L^{2} \\Phi^{2}{\\left(r \\right)} \\cos^{2}{\\left(\\psi \\right)} \\cos{\\left(\\theta \\right)}}{4}\\right)}{r^{2}}\\\\\\frac{L^{2} \\Phi{\\left(r \\right)} \\sin{\\left(\\theta \\right)} \\cos{\\left(\\theta \\right)} \\frac{d}{d r} \\Phi{\\left(r \\right)}}{r^{2} \\cos^{2}{\\left(\\theta \\right)} - r^{2}} + \\frac{4 \\left(- \\frac{L^{2} \\Phi{\\left(r \\right)} \\sin^{2}{\\left(\\psi \\right)} \\sin{\\left(\\theta \\right)} \\frac{d}{d r} \\Phi{\\left(r \\right)}}{4} - \\frac{L^{2} \\Phi{\\left(r \\right)} \\sin{\\left(\\theta \\right)} \\cos^{2}{\\left(\\psi \\right)} \\frac{d}{d r} \\Phi{\\left(r \\right)}}{4}\\right) \\cos{\\left(\\theta \\right)}}{r^{2} \\cos^{2}{\\left(\\theta \\right)} - r^{2}} - \\frac{4 \\left(- \\frac{L^{2} \\Phi{\\left(r \\right)} \\sin^{2}{\\left(\\psi \\right)} \\sin{\\left(\\theta \\right)} \\cos{\\left(\\theta \\right)} \\frac{d}{d r} \\Phi{\\left(r \\right)}}{4} - \\frac{L^{2} \\Phi{\\left(r \\right)} \\sin{\\left(\\theta \\right)} \\cos^{2}{\\left(\\psi \\right)} \\cos{\\left(\\theta \\right)} \\frac{d}{d r} \\Phi{\\left(r \\right)}}{4} + \\frac{L^{2} \\Phi{\\left(r \\right)} \\sin{\\left(\\theta \\right)} \\cos{\\left(\\theta \\right)} \\frac{d}{d r} \\Phi{\\left(r \\right)}}{4}\\right)}{r^{2} \\cos^{2}{\\left(\\theta \\right)} - r^{2}} & 0 & \\left(- \\frac{L^{2} \\sin^{2}{\\left(\\psi \\right)} \\left(\\frac{d}{d r} \\Phi{\\left(r \\right)}\\right)^{2}}{4} - \\frac{L^{2} \\cos^{2}{\\left(\\psi \\right)} \\left(\\frac{d}{d r} \\Phi{\\left(r \\right)}\\right)^{2}}{4}\\right) f{\\left(r \\right)} - \\frac{4 \\left(- \\frac{L^{2} \\Phi^{2}{\\left(r \\right)} \\sin^{2}{\\left(\\psi \\right)}}{4} - \\frac{L^{2} \\Phi^{2}{\\left(r \\right)} \\cos^{2}{\\left(\\psi \\right)}}{4}\\right)}{r^{2} \\cos^{2}{\\left(\\theta \\right)} - r^{2}} + \\frac{8 \\left(- \\frac{L^{2} \\Phi^{2}{\\left(r \\right)} \\sin^{2}{\\left(\\psi \\right)} \\cos{\\left(\\theta \\right)}}{4} - \\frac{L^{2} \\Phi^{2}{\\left(r \\right)} \\cos^{2}{\\left(\\psi \\right)} \\cos{\\left(\\theta \\right)}}{4}\\right) \\cos{\\left(\\theta \\right)}}{r^{2} \\cos^{2}{\\left(\\theta \\right)} - r^{2}} - \\frac{4 \\left(- \\frac{L^{2} \\Phi^{2}{\\left(r \\right)} \\sin^{2}{\\left(\\psi \\right)} \\cos^{2}{\\left(\\theta \\right)}}{4} - \\frac{L^{2} \\Phi^{2}{\\left(r \\right)} \\sin^{2}{\\left(\\theta \\right)}}{4} - \\frac{L^{2} \\Phi^{2}{\\left(r \\right)} \\cos^{2}{\\left(\\psi \\right)} \\cos^{2}{\\left(\\theta \\right)}}{4}\\right)}{r^{2} \\cos^{2}{\\left(\\theta \\right)} - r^{2}} & 0\\\\0 & - \\frac{L^{2} f{\\left(r \\right)} \\cos{\\left(\\theta \\right)} \\left(\\frac{d}{d r} \\Phi{\\left(r \\right)}\\right)^{2}}{4} + \\frac{4 \\left(\\frac{L^{2} \\Phi^{2}{\\left(r \\right)} \\sin^{2}{\\left(\\psi \\right)} \\sin^{2}{\\left(\\theta \\right)}}{4} + \\frac{L^{2} \\Phi^{2}{\\left(r \\right)} \\sin^{2}{\\left(\\theta \\right)} \\cos^{2}{\\left(\\psi \\right)}}{4}\\right) \\cos{\\left(\\theta \\right)}}{r^{2} \\cos^{2}{\\left(\\theta \\right)} - r^{2}} + \\frac{4 \\left(- \\frac{L^{2} \\Phi^{2}{\\left(r \\right)} \\sin^{2}{\\left(\\psi \\right)} \\cos{\\left(\\theta \\right)}}{4} - \\frac{L^{2} \\Phi^{2}{\\left(r \\right)} \\cos^{2}{\\left(\\psi \\right)} \\cos{\\left(\\theta \\right)}}{4}\\right)}{r^{2}} & 0 & \\left(- \\frac{L^{2} \\sin^{2}{\\left(\\psi \\right)} \\sin^{2}{\\left(\\theta \\right)} \\left(\\frac{d}{d r} \\Phi{\\left(r \\right)}\\right)^{2}}{4} - \\frac{L^{2} \\sin^{2}{\\left(\\theta \\right)} \\cos^{2}{\\left(\\psi \\right)} \\left(\\frac{d}{d r} \\Phi{\\left(r \\right)}\\right)^{2}}{4} - \\frac{L^{2} \\cos^{2}{\\left(\\theta \\right)} \\left(\\frac{d}{d r} \\Phi{\\left(r \\right)}\\right)^{2}}{4}\\right) f{\\left(r \\right)} - \\frac{4 \\left(- \\frac{L^{2} \\Phi^{2}{\\left(r \\right)} \\sin^{2}{\\left(\\psi \\right)} \\sin^{2}{\\left(\\theta \\right)}}{4} - \\frac{L^{2} \\Phi^{2}{\\left(r \\right)} \\sin^{2}{\\left(\\theta \\right)} \\cos^{2}{\\left(\\psi \\right)}}{4}\\right)}{r^{2} \\cos^{2}{\\left(\\theta \\right)} - r^{2}} + \\frac{4 \\left(- \\frac{L^{2} \\Phi^{2}{\\left(r \\right)} \\sin^{2}{\\left(\\psi \\right)} \\cos^{2}{\\left(\\theta \\right)}}{4} - \\frac{L^{2} \\Phi^{2}{\\left(r \\right)} \\sin^{2}{\\left(\\theta \\right)}}{4} - \\frac{L^{2} \\Phi^{2}{\\left(r \\right)} \\cos^{2}{\\left(\\psi \\right)} \\cos^{2}{\\left(\\theta \\right)}}{4}\\right)}{r^{2}}\\end{matrix}\\right]$"
      ],
      "text/plain": [
       "⎡                                                                  ⎛          \n",
       "⎢                                                                  ⎜   2    2 \n",
       "⎢                                          2                 2     ⎜  L ⋅sin (\n",
       "⎢                      2    2    ⎛d       ⎞      2 ⎛d       ⎞      ⎜          \n",
       "⎢                   2⋅L ⋅cos (θ)⋅⎜──(Φ(r))⎟     L ⋅⎜──(Φ(r))⎟    4⋅⎜- ────────\n",
       "⎢                                ⎝dr      ⎠        ⎝dr      ⎠      ⎝          \n",
       "⎢                 - ──────────────────────── + ─────────────── - ─────────────\n",
       "⎢                        2    2       2         2    2       2                \n",
       "⎢                       r ⋅cos (θ) - r         r ⋅cos (θ) - r                 \n",
       "⎢                                                                             \n",
       "⎢                                                                             \n",
       "⎢                                                                             \n",
       "⎢                                                                             \n",
       "⎢                                                                             \n",
       "⎢                                                                             \n",
       "⎢                                                                             \n",
       "⎢                                                                             \n",
       "⎢                                                                             \n",
       "⎢                                   ⎛   2         2           d           2   \n",
       "⎢                                   ⎜  L ⋅Φ(r)⋅sin (ψ)⋅sin(θ)⋅──(Φ(r))   L ⋅Φ(\n",
       "⎢ 2                    d            ⎜                         dr              \n",
       "⎢L ⋅Φ(r)⋅sin(θ)⋅cos(θ)⋅──(Φ(r))   4⋅⎜- ─────────────────────────────── - ─────\n",
       "⎢                      dr           ⎝                 4                       \n",
       "⎢────────────────────────────── + ────────────────────────────────────────────\n",
       "⎢        2    2       2                                           2    2      \n",
       "⎢       r ⋅cos (θ) - r                                           r ⋅cos (θ) - \n",
       "⎢                                                                             \n",
       "⎢                                                                             \n",
       "⎢                                                                             \n",
       "⎢                                                                             \n",
       "⎢                                                                             \n",
       "⎢                                                                             \n",
       "⎢                                                                             \n",
       "⎣                                                                             \n",
       "\n",
       "                     2                                2                       \n",
       "      2    ⎛d       ⎞     2    2       2    ⎛d       ⎞     2    2    ⎛d       \n",
       "ψ)⋅sin (θ)⋅⎜──(Φ(r))⎟    L ⋅sin (θ)⋅cos (ψ)⋅⎜──(Φ(r))⎟    L ⋅cos (θ)⋅⎜──(Φ(r))\n",
       "           ⎝dr      ⎠                       ⎝dr      ⎠               ⎝dr      \n",
       "────────────────────── - ────────────────────────────── - ────────────────────\n",
       "      4                                4                            4         \n",
       "──────────────────────────────────────────────────────────────────────────────\n",
       "                           2    2       2                                     \n",
       "                          r ⋅cos (θ) - r                                      \n",
       "                                                                              \n",
       "                                                                              \n",
       "                                                                              \n",
       "                                                                              \n",
       "                                                                              \n",
       "                                      0                                       \n",
       "                                                                              \n",
       "                                                                              \n",
       "                                                                              \n",
       "             2    d       ⎞            ⎛   2         2                  d     \n",
       "r)⋅sin(θ)⋅cos (ψ)⋅──(Φ(r))⎟            ⎜  L ⋅Φ(r)⋅sin (ψ)⋅sin(θ)⋅cos(θ)⋅──(Φ(r\n",
       "                  dr      ⎟            ⎜                                dr    \n",
       "──────────────────────────⎟⋅cos(θ)   4⋅⎜- ────────────────────────────────────\n",
       "          4               ⎠            ⎝                    4                 \n",
       "────────────────────────────────── - ─────────────────────────────────────────\n",
       " 2                                                                            \n",
       "r                                                                             \n",
       "                                                                              \n",
       "                                                                              \n",
       "                                                                              \n",
       "                                                                              \n",
       "                                                                              \n",
       "                                      0                                       \n",
       "                                                                              \n",
       "                                                                              \n",
       "\n",
       " 2⎞     ⎛                       2                        2⎞                   \n",
       "⎞ ⎟     ⎜   2    2    ⎛d       ⎞     2    2    ⎛d       ⎞ ⎟                   \n",
       "⎟ ⎟     ⎜  L ⋅sin (ψ)⋅⎜──(Φ(r))⎟    L ⋅cos (ψ)⋅⎜──(Φ(r))⎟ ⎟                   \n",
       "⎠ ⎟     ⎜             ⎝dr      ⎠               ⎝dr      ⎠ ⎟                   \n",
       "──⎟   4⋅⎜- ────────────────────── - ──────────────────────⎟                   \n",
       "  ⎠     ⎝            4                        4           ⎠                   \n",
       "─── + ─────────────────────────────────────────────────────                   \n",
       "                                 2                                            \n",
       "                                r                                             \n",
       "                                                                              \n",
       "                                                                              \n",
       "                                                                              \n",
       "                                                                              \n",
       "                                                                              \n",
       "                                                                              \n",
       "                                                                              \n",
       "                                                                              \n",
       "                                                                              \n",
       "      2                2           d           2                    d       ⎞ \n",
       "))   L ⋅Φ(r)⋅sin(θ)⋅cos (ψ)⋅cos(θ)⋅──(Φ(r))   L ⋅Φ(r)⋅sin(θ)⋅cos(θ)⋅──(Φ(r))⎟ \n",
       "                                   dr                               dr      ⎟ \n",
       "── - ────────────────────────────────────── + ──────────────────────────────⎟ \n",
       "                       4                                    4               ⎠ \n",
       "───────────────────────────────────────────────────────────────────────────── \n",
       "           2    2       2                                                     \n",
       "          r ⋅cos (θ) - r                                                      \n",
       "                                                                              \n",
       "                                                                              \n",
       "                                                                              \n",
       "                                                                              \n",
       "                                                                              \n",
       "                                                                              \n",
       "                                                                              \n",
       "                                                                              \n",
       "\n",
       "                                                                              \n",
       "                                                                              \n",
       "                                                                              \n",
       "                                                                              \n",
       "                                                                              \n",
       "                                                                              \n",
       "                                                                            0 \n",
       "                                                                              \n",
       "                                                                              \n",
       "                                                                              \n",
       "                                  2     ⎛   2  2       2       2       2  2   \n",
       "                 2      ⎛d       ⎞      ⎜  L ⋅Φ (r)⋅sin (ψ)⋅sin (θ)   L ⋅Φ (r)\n",
       "                L ⋅f(r)⋅⎜──(Φ(r))⎟    4⋅⎜- ──────────────────────── - ────────\n",
       "                        ⎝dr      ⎠      ⎝             4                       \n",
       "              - ─────────────────── - ────────────────────────────────────────\n",
       "                         4                                  2    2       2    \n",
       "                                                           r ⋅cos (θ) - r     \n",
       "                                                                              \n",
       "                                                                              \n",
       "                                                                              \n",
       "                                                                              \n",
       "                                                                              \n",
       "                                                                              \n",
       "                                                                            0 \n",
       "                                                                              \n",
       "                                                                              \n",
       "                                                                              \n",
       "                            2     ⎛ 2  2       2       2       2  2       2   \n",
       "    2             ⎛d       ⎞      ⎜L ⋅Φ (r)⋅sin (ψ)⋅sin (θ)   L ⋅Φ (r)⋅sin (θ)\n",
       "   L ⋅f(r)⋅cos(θ)⋅⎜──(Φ(r))⎟    4⋅⎜──────────────────────── + ────────────────\n",
       "                  ⎝dr      ⎠      ⎝           4                          4    \n",
       " - ────────────────────────── + ──────────────────────────────────────────────\n",
       "               4                                        2    2       2        \n",
       "                                                       r ⋅cos (θ) - r         \n",
       "\n",
       "                                                                              \n",
       "                                                                              \n",
       "                                                                              \n",
       "                                                                              \n",
       "                                                                              \n",
       "                                                                              \n",
       "                                                                              \n",
       "                                                                              \n",
       "                                                                              \n",
       "                                                                              \n",
       "    2       2   ⎞     ⎛   2  2       2       2  2       2   ⎞                 \n",
       "⋅sin (θ)⋅cos (ψ)⎟     ⎜  L ⋅Φ (r)⋅sin (ψ)   L ⋅Φ (r)⋅cos (ψ)⎟                 \n",
       "────────────────⎟   4⋅⎜- ──────────────── - ────────────────⎟                 \n",
       "   4            ⎠     ⎝         4                  4        ⎠                 \n",
       "───────────────── + ─────────────────────────────────────────                 \n",
       "                                         2                                    \n",
       "                                        r                                     \n",
       "                                                                              \n",
       "                                                                              \n",
       "                                                                            ⎛ \n",
       "                                                                            ⎜ \n",
       "                                                                            ⎜ \n",
       "                                                                            ⎜ \n",
       "                                                                            ⎜-\n",
       "                                                                            ⎝ \n",
       "                                                                              \n",
       "                                                                              \n",
       "    2   ⎞            ⎛   2  2       2              2  2       2          ⎞    \n",
       "⋅cos (ψ)⎟            ⎜  L ⋅Φ (r)⋅sin (ψ)⋅cos(θ)   L ⋅Φ (r)⋅cos (ψ)⋅cos(θ)⎟    \n",
       "────────⎟⋅cos(θ)   4⋅⎜- ─────────────────────── - ───────────────────────⎟    \n",
       "        ⎠            ⎝             4                         4           ⎠    \n",
       "──────────────── + ───────────────────────────────────────────────────────    \n",
       "                                               2                              \n",
       "                                              r                               \n",
       "\n",
       "                                                                              \n",
       "                                       ⎛   2         2           d           2\n",
       "                                       ⎜  L ⋅Φ(r)⋅sin (ψ)⋅sin(θ)⋅──(Φ(r))   L \n",
       "     2                    d            ⎜                         dr           \n",
       "    L ⋅Φ(r)⋅sin(θ)⋅cos(θ)⋅──(Φ(r))   4⋅⎜- ─────────────────────────────── - ──\n",
       "                          dr           ⎝                 4                    \n",
       "    ────────────────────────────── + ─────────────────────────────────────────\n",
       "            2    2       2                                           2    2   \n",
       "           r ⋅cos (θ) - r                                           r ⋅cos (θ)\n",
       "                                                                              \n",
       "                                                                              \n",
       "                                                                              \n",
       "                                                                              \n",
       "                                                                              \n",
       "                                                                              \n",
       "                                                                              \n",
       "                                                                              \n",
       "                                                                              \n",
       "                                                                              \n",
       "                      2                        2⎞          ⎛   2  2       2   \n",
       "  2    2    ⎛d       ⎞     2    2    ⎛d       ⎞ ⎟          ⎜  L ⋅Φ (r)⋅sin (ψ)\n",
       " L ⋅sin (ψ)⋅⎜──(Φ(r))⎟    L ⋅cos (ψ)⋅⎜──(Φ(r))⎟ ⎟        4⋅⎜- ────────────────\n",
       "            ⎝dr      ⎠               ⎝dr      ⎠ ⎟          ⎝         4        \n",
       " ────────────────────── - ──────────────────────⎟⋅f(r) - ─────────────────────\n",
       "           4                        4           ⎠                      2    2 \n",
       "                                                                      r ⋅cos (\n",
       "                                                                              \n",
       "                                                                              \n",
       "                                                                              \n",
       "                                                                              \n",
       "                                                                              \n",
       "                                                                              \n",
       "                                                                              \n",
       "                                                                              \n",
       "\n",
       "                                                                              \n",
       "                2    d       ⎞            ⎛   2         2                  d  \n",
       "⋅Φ(r)⋅sin(θ)⋅cos (ψ)⋅──(Φ(r))⎟            ⎜  L ⋅Φ(r)⋅sin (ψ)⋅sin(θ)⋅cos(θ)⋅──(\n",
       "                     dr      ⎟            ⎜                                dr \n",
       "─────────────────────────────⎟⋅cos(θ)   4⋅⎜- ─────────────────────────────────\n",
       "             4               ⎠            ⎝                    4              \n",
       "───────────────────────────────────── - ──────────────────────────────────────\n",
       "    2                                                                         \n",
       " - r                                                                          \n",
       "                                                                              \n",
       "                                                                              \n",
       "                                                                              \n",
       "                                                                              \n",
       "                                                                              \n",
       "                                         0                                    \n",
       "                                                                              \n",
       "                                                                              \n",
       "                                                                              \n",
       "                                                                              \n",
       "    2  2       2   ⎞     ⎛   2  2       2              2  2       2          ⎞\n",
       "   L ⋅Φ (r)⋅cos (ψ)⎟     ⎜  L ⋅Φ (r)⋅sin (ψ)⋅cos(θ)   L ⋅Φ (r)⋅cos (ψ)⋅cos(θ)⎟\n",
       " - ────────────────⎟   8⋅⎜- ─────────────────────── - ───────────────────────⎟\n",
       "          4        ⎠     ⎝             4                         4           ⎠\n",
       "──────────────────── + ───────────────────────────────────────────────────────\n",
       "      2                                        2    2       2                 \n",
       "θ) - r                                        r ⋅cos (θ) - r                  \n",
       "                                                                              \n",
       "                                                                              \n",
       "                                                                              \n",
       "                                                                              \n",
       "                                                                              \n",
       "                                         0                                    \n",
       "                                                                              \n",
       "                                                                              \n",
       "\n",
       "                                                                              \n",
       "         2                2           d           2                    d      \n",
       "Φ(r))   L ⋅Φ(r)⋅sin(θ)⋅cos (ψ)⋅cos(θ)⋅──(Φ(r))   L ⋅Φ(r)⋅sin(θ)⋅cos(θ)⋅──(Φ(r)\n",
       "                                      dr                               dr     \n",
       "───── - ────────────────────────────────────── + ─────────────────────────────\n",
       "                          4                                    4              \n",
       "──────────────────────────────────────────────────────────────────────────────\n",
       "              2    2       2                                                  \n",
       "             r ⋅cos (θ) - r                                                   \n",
       "                                                                              \n",
       "                                                                              \n",
       "                                                                              \n",
       "                                                                              \n",
       "                                                                              \n",
       "                                                                              \n",
       "                                                                              \n",
       "                                                                              \n",
       "                                                                              \n",
       "                                                                              \n",
       "            ⎛   2  2       2       2       2  2       2       2  2       2    \n",
       "            ⎜  L ⋅Φ (r)⋅sin (ψ)⋅cos (θ)   L ⋅Φ (r)⋅sin (θ)   L ⋅Φ (r)⋅cos (ψ)⋅\n",
       "⋅cos(θ)   4⋅⎜- ──────────────────────── - ──────────────── - ─────────────────\n",
       "            ⎝             4                      4                      4     \n",
       "─────── - ────────────────────────────────────────────────────────────────────\n",
       "                                         2    2       2                       \n",
       "                                        r ⋅cos (θ) - r                        \n",
       "                                                                              \n",
       "                                                                              \n",
       "                                                                              \n",
       "                                                                              \n",
       "                                                                              \n",
       "                                                                              \n",
       "                                                                              \n",
       "                                                                              \n",
       "\n",
       "                                                                              \n",
       " ⎞                                                                            \n",
       ")⎟                                                                            \n",
       " ⎟                                                                            \n",
       "─⎟                                                                            \n",
       " ⎠                                                                            \n",
       "──                                                                            \n",
       "                                                                              \n",
       "                                                                              \n",
       "                                                                              \n",
       "                                                                              \n",
       "                                                       2             ⎛d       \n",
       "                                                      L ⋅f(r)⋅cos(θ)⋅⎜──(Φ(r))\n",
       "                                                                     ⎝dr      \n",
       "                                                    - ────────────────────────\n",
       "                                                                  4           \n",
       "                                                                              \n",
       "                                                                              \n",
       "                                                                              \n",
       "   2   ⎞                                                                      \n",
       "cos (θ)⎟                                                                      \n",
       "───────⎟                                                                      \n",
       "       ⎠                                                                      \n",
       "────────                                                                      \n",
       "                                                                              \n",
       "                                                                              \n",
       "                                                                              \n",
       "          ⎛                               2                                2  \n",
       "          ⎜   2    2       2    ⎛d       ⎞     2    2       2    ⎛d       ⎞   \n",
       "          ⎜  L ⋅sin (ψ)⋅sin (θ)⋅⎜──(Φ(r))⎟    L ⋅sin (θ)⋅cos (ψ)⋅⎜──(Φ(r))⎟   \n",
       "          ⎜                     ⎝dr      ⎠                       ⎝dr      ⎠   \n",
       "          ⎜- ────────────────────────────── - ────────────────────────────── -\n",
       "          ⎝                4                                4                 \n",
       "                                                                              \n",
       "\n",
       "                                                                              \n",
       "                                                                              \n",
       "                                                                              \n",
       "                                                                              \n",
       "                                                                              \n",
       "                                                                              \n",
       "                                                 0                            \n",
       "                                                                              \n",
       "                                                                              \n",
       "                                                                              \n",
       " 2     ⎛ 2  2       2       2       2  2       2       2   ⎞            ⎛   2 \n",
       "⎞      ⎜L ⋅Φ (r)⋅sin (ψ)⋅sin (θ)   L ⋅Φ (r)⋅sin (θ)⋅cos (ψ)⎟            ⎜  L ⋅\n",
       "⎟    4⋅⎜──────────────────────── + ────────────────────────⎟⋅cos(θ)   4⋅⎜- ───\n",
       "⎠      ⎝           4                          4            ⎠            ⎝     \n",
       "── + ────────────────────────────────────────────────────────────── + ────────\n",
       "                             2    2       2                                   \n",
       "                            r ⋅cos (θ) - r                                    \n",
       "                                                                              \n",
       "                                                                              \n",
       "                                                                              \n",
       "                                                                              \n",
       "                                                                              \n",
       "                                                                              \n",
       "                                                 0                            \n",
       "                                                                              \n",
       "                                                                              \n",
       "                                                                              \n",
       "                      2⎞          ⎛   2  2       2       2       2  2       2 \n",
       "  2    2    ⎛d       ⎞ ⎟          ⎜  L ⋅Φ (r)⋅sin (ψ)⋅sin (θ)   L ⋅Φ (r)⋅sin (\n",
       " L ⋅cos (θ)⋅⎜──(Φ(r))⎟ ⎟        4⋅⎜- ──────────────────────── - ──────────────\n",
       "            ⎝dr      ⎠ ⎟          ⎝             4                          4  \n",
       " ──────────────────────⎟⋅f(r) - ──────────────────────────────────────────────\n",
       "           4           ⎠                              2    2       2          \n",
       "                                                     r ⋅cos (θ) - r           \n",
       "\n",
       "                                                                              \n",
       "                                                                              \n",
       "                                                                              \n",
       "                                                                              \n",
       "                                                                              \n",
       "                                                                              \n",
       "                                                                              \n",
       "                                                                              \n",
       "                                                                              \n",
       "                                                                              \n",
       " 2       2              2  2       2          ⎞                               \n",
       "Φ (r)⋅sin (ψ)⋅cos(θ)   L ⋅Φ (r)⋅cos (ψ)⋅cos(θ)⎟                               \n",
       "──────────────────── - ───────────────────────⎟                               \n",
       "        4                         4           ⎠                               \n",
       "───────────────────────────────────────────────                               \n",
       "                    2                                                         \n",
       "                   r                                                          \n",
       "                                                                              \n",
       "                                                                              \n",
       "                                                                              \n",
       "                                                                              \n",
       "                                                                              \n",
       "                                                                              \n",
       "                                                                              \n",
       "                                                                              \n",
       "                                                                              \n",
       "                                                                              \n",
       "      2   ⎞     ⎛   2  2       2       2       2  2       2       2  2       2\n",
       "θ)⋅cos (ψ)⎟     ⎜  L ⋅Φ (r)⋅sin (ψ)⋅cos (θ)   L ⋅Φ (r)⋅sin (θ)   L ⋅Φ (r)⋅cos \n",
       "──────────⎟   4⋅⎜- ──────────────────────── - ──────────────── - ─────────────\n",
       "          ⎠     ⎝             4                      4                      4 \n",
       "─────────── + ────────────────────────────────────────────────────────────────\n",
       "                                                    2                         \n",
       "                                                   r                          \n",
       "\n",
       "            ⎤\n",
       "            ⎥\n",
       "            ⎥\n",
       "            ⎥\n",
       "            ⎥\n",
       "            ⎥\n",
       "            ⎥\n",
       "            ⎥\n",
       "            ⎥\n",
       "            ⎥\n",
       "            ⎥\n",
       "            ⎥\n",
       "            ⎥\n",
       "            ⎥\n",
       "            ⎥\n",
       "            ⎥\n",
       "            ⎥\n",
       "            ⎥\n",
       "            ⎥\n",
       "            ⎥\n",
       "            ⎥\n",
       "            ⎥\n",
       "            ⎥\n",
       "            ⎥\n",
       "            ⎥\n",
       "            ⎥\n",
       "            ⎥\n",
       "       2   ⎞⎥\n",
       "(ψ)⋅cos (θ)⎟⎥\n",
       "───────────⎟⎥\n",
       "           ⎠⎥\n",
       "────────────⎥\n",
       "            ⎥\n",
       "            ⎦"
      ]
     },
     "execution_count": 15,
     "metadata": {},
     "output_type": "execute_result"
    }
   ],
   "source": [
    "T_contracted_1 = T_tensor(-mu, -nu, -rho, nu).replace_with_arrays(repl)\n",
    "T_contracted_1"
   ]
  },
  {
   "cell_type": "code",
   "execution_count": 16,
   "id": "8ebc9c1c",
   "metadata": {},
   "outputs": [
    {
     "data": {
      "text/latex": [
       "$\\displaystyle \\left[\\begin{matrix}- \\frac{3 L^{2} \\left(\\frac{d}{d r} \\Phi{\\left(r \\right)}\\right)^{2}}{r^{2}} & 0 & 0 & 0\\\\0 & - \\frac{L^{2} \\left(r^{2} f{\\left(r \\right)} \\left(\\frac{d}{d r} \\Phi{\\left(r \\right)}\\right)^{2} + 8 \\Phi^{2}{\\left(r \\right)}\\right)}{4 r^{2}} & 0 & - \\frac{L^{2} \\left(r^{2} f{\\left(r \\right)} \\left(\\frac{d}{d r} \\Phi{\\left(r \\right)}\\right)^{2} + 8 \\Phi^{2}{\\left(r \\right)}\\right) \\cos{\\left(\\theta \\right)}}{4 r^{2}}\\\\0 & 0 & - \\frac{L^{2} \\left(r^{2} f{\\left(r \\right)} \\left(\\frac{d}{d r} \\Phi{\\left(r \\right)}\\right)^{2} + 8 \\Phi^{2}{\\left(r \\right)}\\right)}{4 r^{2}} & 0\\\\0 & - \\frac{L^{2} \\left(r^{2} f{\\left(r \\right)} \\left(\\frac{d}{d r} \\Phi{\\left(r \\right)}\\right)^{2} + 8 \\Phi^{2}{\\left(r \\right)}\\right) \\cos{\\left(\\theta \\right)}}{4 r^{2}} & 0 & - \\frac{L^{2} \\left(r^{2} f{\\left(r \\right)} \\left(\\frac{d}{d r} \\Phi{\\left(r \\right)}\\right)^{2} + 8 \\Phi^{2}{\\left(r \\right)}\\right)}{4 r^{2}}\\end{matrix}\\right]$"
      ],
      "text/plain": [
       "⎡                2                                                            \n",
       "⎢    2 ⎛d       ⎞                                                             \n",
       "⎢-3⋅L ⋅⎜──(Φ(r))⎟                                                             \n",
       "⎢      ⎝dr      ⎠                                                             \n",
       "⎢──────────────────                       0                                   \n",
       "⎢         2                                                                   \n",
       "⎢        r                                                                    \n",
       "⎢                                                                             \n",
       "⎢                           ⎛                  2          ⎞                   \n",
       "⎢                         2 ⎜ 2      ⎛d       ⎞       2   ⎟                   \n",
       "⎢                       -L ⋅⎜r ⋅f(r)⋅⎜──(Φ(r))⎟  + 8⋅Φ (r)⎟                   \n",
       "⎢                           ⎝        ⎝dr      ⎠           ⎠                   \n",
       "⎢        0              ────────────────────────────────────                  \n",
       "⎢                                          2                                  \n",
       "⎢                                       4⋅r                                   \n",
       "⎢                                                                             \n",
       "⎢                                                                     ⎛       \n",
       "⎢                                                                   2 ⎜ 2     \n",
       "⎢                                                                 -L ⋅⎜r ⋅f(r)\n",
       "⎢                                                                     ⎝       \n",
       "⎢        0                                0                       ────────────\n",
       "⎢                                                                             \n",
       "⎢                                                                             \n",
       "⎢                                                                             \n",
       "⎢                        ⎛                  2          ⎞                      \n",
       "⎢                      2 ⎜ 2      ⎛d       ⎞       2   ⎟                      \n",
       "⎢                    -L ⋅⎜r ⋅f(r)⋅⎜──(Φ(r))⎟  + 8⋅Φ (r)⎟⋅cos(θ)               \n",
       "⎢                        ⎝        ⎝dr      ⎠           ⎠                      \n",
       "⎢        0           ───────────────────────────────────────────              \n",
       "⎢                                           2                                 \n",
       "⎣                                        4⋅r                                  \n",
       "\n",
       "                                                                     ⎤\n",
       "                                                                     ⎥\n",
       "                                                                     ⎥\n",
       "                                                                     ⎥\n",
       "     0                                         0                     ⎥\n",
       "                                                                     ⎥\n",
       "                                                                     ⎥\n",
       "                                                                     ⎥\n",
       "                              ⎛                  2          ⎞        ⎥\n",
       "                            2 ⎜ 2      ⎛d       ⎞       2   ⎟        ⎥\n",
       "                          -L ⋅⎜r ⋅f(r)⋅⎜──(Φ(r))⎟  + 8⋅Φ (r)⎟⋅cos(θ) ⎥\n",
       "                              ⎝        ⎝dr      ⎠           ⎠        ⎥\n",
       "     0                    ───────────────────────────────────────────⎥\n",
       "                                                 2                   ⎥\n",
       "                                              4⋅r                    ⎥\n",
       "                                                                     ⎥\n",
       "           2          ⎞                                              ⎥\n",
       " ⎛d       ⎞       2   ⎟                                              ⎥\n",
       "⋅⎜──(Φ(r))⎟  + 8⋅Φ (r)⎟                                              ⎥\n",
       " ⎝dr      ⎠           ⎠                                              ⎥\n",
       "────────────────────────                       0                     ⎥\n",
       "       2                                                             ⎥\n",
       "    4⋅r                                                              ⎥\n",
       "                                                                     ⎥\n",
       "                                 ⎛                  2          ⎞     ⎥\n",
       "                               2 ⎜ 2      ⎛d       ⎞       2   ⎟     ⎥\n",
       "                             -L ⋅⎜r ⋅f(r)⋅⎜──(Φ(r))⎟  + 8⋅Φ (r)⎟     ⎥\n",
       "                                 ⎝        ⎝dr      ⎠           ⎠     ⎥\n",
       "     0                       ────────────────────────────────────    ⎥\n",
       "                                                2                    ⎥\n",
       "                                             4⋅r                     ⎦"
      ]
     },
     "execution_count": 16,
     "metadata": {},
     "output_type": "execute_result"
    }
   ],
   "source": [
    "for i in range(4):\n",
    "    for j in range(4):\n",
    "        T_contracted_1[i, j] = T_contracted_1[i, j].simplify()\n",
    "T_contracted_1"
   ]
  },
  {
   "cell_type": "code",
   "execution_count": 17,
   "id": "8175f557",
   "metadata": {},
   "outputs": [
    {
     "data": {
      "image/png": "[encoded data removed]",
      "text/latex": [
       "$\\displaystyle \\frac{6 L^{2} \\left(r^{2} f{\\left(r \\right)} \\left(\\frac{d}{d r} \\Phi{\\left(r \\right)}\\right)^{2} + 4 \\Phi^{2}{\\left(r \\right)}\\right)}{r^{4}}$"
      ],
      "text/plain": [
       "     ⎛                  2          ⎞\n",
       "   2 ⎜ 2      ⎛d       ⎞       2   ⎟\n",
       "6⋅L ⋅⎜r ⋅f(r)⋅⎜──(Φ(r))⎟  + 4⋅Φ (r)⎟\n",
       "     ⎝        ⎝dr      ⎠           ⎠\n",
       "────────────────────────────────────\n",
       "                  4                 \n",
       "                 r                  "
      ]
     },
     "execution_count": 17,
     "metadata": {},
     "output_type": "execute_result"
    }
   ],
   "source": [
    "T_contracted_2 = T_tensor(-mu, -nu, mu, nu).replace_with_arrays(repl)\n",
    "T_contracted_2 = T_contracted_2.simplify()\n",
    "T_contracted_2"
   ]
  },
  {
   "cell_type": "markdown",
   "id": "0a341fd1",
   "metadata": {},
   "source": [
    "Compute the energy-momentum tensor."
   ]
  },
  {
   "cell_type": "code",
   "execution_count": 18,
   "id": "749a1287",
   "metadata": {},
   "outputs": [],
   "source": [
    "energy_momentum = 2 * (T_contracted_1 - metric_array / 4 * T_contracted_2)\n",
    "for i in range(4):\n",
    "    for j in range(4):\n",
    "        energy_momentum[i, j] = energy_momentum[i, j].simplify()"
   ]
  },
  {
   "cell_type": "code",
   "execution_count": 19,
   "id": "f729b00a",
   "metadata": {},
   "outputs": [
    {
     "data": {
      "text/latex": [
       "$\\displaystyle \\left[\\begin{matrix}\\frac{L^{2} \\left(- 9 r^{2} f{\\left(r \\right)} \\left(\\frac{d}{d r} \\Phi{\\left(r \\right)}\\right)^{2} - 12 \\Phi^{2}{\\left(r \\right)}\\right)}{r^{4} f{\\left(r \\right)}} & 0 & 0 & 0\\\\0 & \\frac{L^{2} \\left(- 5 r^{2} f{\\left(r \\right)} \\left(\\frac{d}{d r} \\Phi{\\left(r \\right)}\\right)^{2} - 28 \\Phi^{2}{\\left(r \\right)}\\right)}{4 r^{2}} & 0 & \\frac{L^{2} \\left(- 5 r^{2} f{\\left(r \\right)} \\left(\\frac{d}{d r} \\Phi{\\left(r \\right)}\\right)^{2} - 28 \\Phi^{2}{\\left(r \\right)}\\right) \\cos{\\left(\\theta \\right)}}{4 r^{2}}\\\\0 & 0 & \\frac{L^{2} \\left(- 5 r^{2} f{\\left(r \\right)} \\left(\\frac{d}{d r} \\Phi{\\left(r \\right)}\\right)^{2} - 28 \\Phi^{2}{\\left(r \\right)}\\right)}{4 r^{2}} & 0\\\\0 & \\frac{L^{2} \\left(- 5 r^{2} f{\\left(r \\right)} \\left(\\frac{d}{d r} \\Phi{\\left(r \\right)}\\right)^{2} - 28 \\Phi^{2}{\\left(r \\right)}\\right) \\cos{\\left(\\theta \\right)}}{4 r^{2}} & 0 & \\frac{L^{2} \\left(- 5 r^{2} f{\\left(r \\right)} \\left(\\frac{d}{d r} \\Phi{\\left(r \\right)}\\right)^{2} - 28 \\Phi^{2}{\\left(r \\right)}\\right)}{4 r^{2}}\\end{matrix}\\right]$"
      ],
      "text/plain": [
       "⎡   ⎛                      2           ⎞                                      \n",
       "⎢ 2 ⎜     2      ⎛d       ⎞        2   ⎟                                      \n",
       "⎢L ⋅⎜- 9⋅r ⋅f(r)⋅⎜──(Φ(r))⎟  - 12⋅Φ (r)⎟                                      \n",
       "⎢   ⎝            ⎝dr      ⎠            ⎠                                      \n",
       "⎢───────────────────────────────────────                        0             \n",
       "⎢                 4                                                           \n",
       "⎢                r ⋅f(r)                                                      \n",
       "⎢                                                                             \n",
       "⎢                                               ⎛                      2      \n",
       "⎢                                             2 ⎜     2      ⎛d       ⎞       \n",
       "⎢                                            L ⋅⎜- 5⋅r ⋅f(r)⋅⎜──(Φ(r))⎟  - 28⋅\n",
       "⎢                                               ⎝            ⎝dr      ⎠       \n",
       "⎢                   0                        ─────────────────────────────────\n",
       "⎢                                                                 2           \n",
       "⎢                                                              4⋅r            \n",
       "⎢                                                                             \n",
       "⎢                                                                             \n",
       "⎢                                                                             \n",
       "⎢                                                                             \n",
       "⎢                                                                             \n",
       "⎢                   0                                           0             \n",
       "⎢                                                                             \n",
       "⎢                                                                             \n",
       "⎢                                                                             \n",
       "⎢                                            ⎛                      2         \n",
       "⎢                                          2 ⎜     2      ⎛d       ⎞        2 \n",
       "⎢                                         L ⋅⎜- 5⋅r ⋅f(r)⋅⎜──(Φ(r))⎟  - 28⋅Φ (\n",
       "⎢                                            ⎝            ⎝dr      ⎠          \n",
       "⎢                   0                     ────────────────────────────────────\n",
       "⎢                                                                 2           \n",
       "⎣                                                              4⋅r            \n",
       "\n",
       "                                                                              \n",
       "                                                                              \n",
       "                                                                              \n",
       "                                                                              \n",
       "                               0                                           0  \n",
       "                                                                              \n",
       "                                                                              \n",
       "                                                                              \n",
       "     ⎞                                                  ⎛                     \n",
       " 2   ⎟                                                2 ⎜     2      ⎛d       \n",
       "Φ (r)⎟                                               L ⋅⎜- 5⋅r ⋅f(r)⋅⎜──(Φ(r))\n",
       "     ⎠                                                  ⎝            ⎝dr      \n",
       "──────                         0                     ─────────────────────────\n",
       "                                                                             2\n",
       "                                                                          4⋅r \n",
       "                                                                              \n",
       "               ⎛                      2           ⎞                           \n",
       "             2 ⎜     2      ⎛d       ⎞        2   ⎟                           \n",
       "            L ⋅⎜- 5⋅r ⋅f(r)⋅⎜──(Φ(r))⎟  - 28⋅Φ (r)⎟                           \n",
       "               ⎝            ⎝dr      ⎠            ⎠                           \n",
       "            ───────────────────────────────────────                        0  \n",
       "                                 2                                            \n",
       "                              4⋅r                                             \n",
       "                                                                              \n",
       "  ⎞                                                        ⎛                  \n",
       "  ⎟                                                      2 ⎜     2      ⎛d    \n",
       "r)⎟⋅cos(θ)                                              L ⋅⎜- 5⋅r ⋅f(r)⋅⎜──(Φ(\n",
       "  ⎠                                                        ⎝            ⎝dr   \n",
       "──────────                     0                        ──────────────────────\n",
       "                                                                             2\n",
       "                                                                          4⋅r \n",
       "\n",
       "                     ⎤\n",
       "                     ⎥\n",
       "                     ⎥\n",
       "                     ⎥\n",
       "                     ⎥\n",
       "                     ⎥\n",
       "                     ⎥\n",
       "                     ⎥\n",
       " 2           ⎞       ⎥\n",
       "⎞        2   ⎟       ⎥\n",
       "⎟  - 28⋅Φ (r)⎟⋅cos(θ)⎥\n",
       "⎠            ⎠       ⎥\n",
       "─────────────────────⎥\n",
       "                     ⎥\n",
       "                     ⎥\n",
       "                     ⎥\n",
       "                     ⎥\n",
       "                     ⎥\n",
       "                     ⎥\n",
       "                     ⎥\n",
       "                     ⎥\n",
       "                     ⎥\n",
       "                     ⎥\n",
       "                     ⎥\n",
       "    2           ⎞    ⎥\n",
       "   ⎞        2   ⎟    ⎥\n",
       "r))⎟  - 28⋅Φ (r)⎟    ⎥\n",
       "   ⎠            ⎠    ⎥\n",
       "─────────────────    ⎥\n",
       "                     ⎥\n",
       "                     ⎦"
      ]
     },
     "execution_count": 19,
     "metadata": {},
     "output_type": "execute_result"
    }
   ],
   "source": [
    "energy_momentum"
   ]
  },
  {
   "cell_type": "markdown",
   "id": "af695755",
   "metadata": {},
   "source": [
    "Evaluate solution."
   ]
  },
  {
   "cell_type": "code",
   "execution_count": 20,
   "id": "cfc70e22",
   "metadata": {},
   "outputs": [
    {
     "data": {
      "image/png": "[encoded data removed]",
      "text/latex": [
       "$\\displaystyle \\frac{L^{2} \\left(- 9 r^{2} f{\\left(r \\right)} \\left(\\frac{d}{d r} \\Phi{\\left(r \\right)}\\right)^{2} - 12 \\Phi^{2}{\\left(r \\right)}\\right)}{r^{4} f{\\left(r \\right)}}$"
      ],
      "text/plain": [
       "   ⎛                      2           ⎞\n",
       " 2 ⎜     2      ⎛d       ⎞        2   ⎟\n",
       "L ⋅⎜- 9⋅r ⋅f(r)⋅⎜──(Φ(r))⎟  - 12⋅Φ (r)⎟\n",
       "   ⎝            ⎝dr      ⎠            ⎠\n",
       "───────────────────────────────────────\n",
       "                 4                     \n",
       "                r ⋅f(r)                "
      ]
     },
     "execution_count": 20,
     "metadata": {},
     "output_type": "execute_result"
    }
   ],
   "source": [
    "energy_momentum[0, 0]"
   ]
  },
  {
   "cell_type": "code",
   "execution_count": 21,
   "id": "156f9c95",
   "metadata": {},
   "outputs": [
    {
     "data": {
      "image/png": "[encoded data removed]",
      "text/latex": [
       "$\\displaystyle \\frac{- L + \\left(L^{2} + r^{2}\\right)^{0.5}}{L + \\left(L^{2} + r^{2}\\right)^{0.5}}$"
      ],
      "text/plain": [
       "              0.5\n",
       "     ⎛ 2    2⎞   \n",
       "-L + ⎝L  + r ⎠   \n",
       "─────────────────\n",
       "              0.5\n",
       "     ⎛ 2    2⎞   \n",
       " L + ⎝L  + r ⎠   "
      ]
     },
     "execution_count": 21,
     "metadata": {},
     "output_type": "execute_result"
    }
   ],
   "source": [
    "phi = ((L ** 2 + r ** 2) ** (1/2) - L) / ((L ** 2 + r ** 2) ** (1/2) + L) \n",
    "phi"
   ]
  },
  {
   "cell_type": "code",
   "execution_count": 22,
   "id": "91448e54",
   "metadata": {},
   "outputs": [
    {
     "data": {
      "image/png": "[encoded data removed]",
      "text/latex": [
       "$\\displaystyle \\frac{2.0 L r}{\\left(L + \\left(L^{2} + r^{2}\\right)^{0.5}\\right)^{2} \\left(L^{2} + r^{2}\\right)^{0.5}}$"
      ],
      "text/plain": [
       "                 -0.5\n",
       "        ⎛ 2    2⎞    \n",
       "2.0⋅L⋅r⋅⎝L  + r ⎠    \n",
       "─────────────────────\n",
       "                   2 \n",
       " ⎛             0.5⎞  \n",
       " ⎜    ⎛ 2    2⎞   ⎟  \n",
       " ⎝L + ⎝L  + r ⎠   ⎠  "
      ]
     },
     "execution_count": 22,
     "metadata": {},
     "output_type": "execute_result"
    }
   ],
   "source": [
    "dphidr = sympy.diff(phi, r).simplify()\n",
    "dphidr"
   ]
  },
  {
   "cell_type": "code",
   "execution_count": 23,
   "id": "1f48e0d9",
   "metadata": {},
   "outputs": [
    {
     "data": {
      "image/png": "[encoded data removed]",
      "text/latex": [
       "$\\displaystyle 1 + \\frac{r^{2}}{L^{2}}$"
      ],
      "text/plain": [
       "     2\n",
       "    r \n",
       "1 + ──\n",
       "     2\n",
       "    L "
      ]
     },
     "execution_count": 23,
     "metadata": {},
     "output_type": "execute_result"
    }
   ],
   "source": [
    "f = 1 + r ** 2 / L ** 2\n",
    "f"
   ]
  },
  {
   "cell_type": "code",
   "execution_count": 24,
   "id": "db312ed4",
   "metadata": {},
   "outputs": [],
   "source": [
    "T_00 = (L ** 2 * (-9 * r ** 2 * f * dphidr ** 2 - 12 * phi ** 2) / (r ** 4 * f)).simplify()"
   ]
  },
  {
   "cell_type": "code",
   "execution_count": 25,
   "id": "e834a012",
   "metadata": {},
   "outputs": [
    {
     "data": {
      "image/png": "[encoded data removed]",
      "text/latex": [
       "$\\displaystyle \\frac{L^{4} \\left(- 36.0 r^{4} - 12 \\left(L - \\left(L^{2} + r^{2}\\right)^{0.5}\\right)^{2} \\left(L + \\left(L^{2} + r^{2}\\right)^{0.5}\\right)^{2}\\right)}{r^{4} \\left(L + \\left(L^{2} + r^{2}\\right)^{0.5}\\right)^{4} \\left(L^{2} + r^{2}\\right)}$"
      ],
      "text/plain": [
       "   ⎛                                 2                   2⎞\n",
       "   ⎜               ⎛             0.5⎞  ⎛             0.5⎞ ⎟\n",
       " 4 ⎜        4      ⎜    ⎛ 2    2⎞   ⎟  ⎜    ⎛ 2    2⎞   ⎟ ⎟\n",
       "L ⋅⎝- 36.0⋅r  - 12⋅⎝L - ⎝L  + r ⎠   ⎠ ⋅⎝L + ⎝L  + r ⎠   ⎠ ⎠\n",
       "───────────────────────────────────────────────────────────\n",
       "                                   4                       \n",
       "                 ⎛             0.5⎞                        \n",
       "               4 ⎜    ⎛ 2    2⎞   ⎟  ⎛ 2    2⎞             \n",
       "              r ⋅⎝L + ⎝L  + r ⎠   ⎠ ⋅⎝L  + r ⎠             "
      ]
     },
     "execution_count": 25,
     "metadata": {},
     "output_type": "execute_result"
    }
   ],
   "source": [
    "T_00"
   ]
  }
 ],
 "metadata": {
  "kernelspec": {
   "display_name": "Python 3.10.3 ('env': venv)",
   "language": "python",
   "name": "python3"
  },
  "language_info": {
   "codemirror_mode": {
    "name": "ipython",
    "version": 3
   },
   "file_extension": ".py",
   "mimetype": "text/x-python",
   "name": "python",
   "nbconvert_exporter": "python",
   "pygments_lexer": "ipython3",
   "version": "3.10.3"
  },
  "vscode": {
   "interpreter": {
    "hash": "c4cf3c24cb46a3fd1f6949e64220e8351ad1410e125a86590159f01143d71e6f"
   }
  }
 },
 "nbformat": 4,
 "nbformat_minor": 5
}
