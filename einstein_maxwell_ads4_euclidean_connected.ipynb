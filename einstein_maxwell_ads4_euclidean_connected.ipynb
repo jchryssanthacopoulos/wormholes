{
 "cells": [
  {
   "cell_type": "code",
   "execution_count": 201,
   "id": "6d9963f1",
   "metadata": {},
   "outputs": [],
   "source": [
    "import sympy\n",
    "from sympy.tensor.tensor import TensorIndexType, TensorIndex, TensorHead, tensor_indices, TensorSymmetry\n",
    "from einsteinpy.symbolic import RicciTensor, MetricTensor, ChristoffelSymbols\n",
    "\n",
    "sympy.init_printing()"
   ]
  },
  {
   "cell_type": "markdown",
   "id": "4bed673d",
   "metadata": {},
   "source": [
    "### Einstein Equation"
   ]
  },
  {
   "cell_type": "markdown",
   "id": "6a02c548",
   "metadata": {},
   "source": [
    "Compute the Einstein tensor."
   ]
  },
  {
   "cell_type": "code",
   "execution_count": 202,
   "id": "41ff5465",
   "metadata": {},
   "outputs": [],
   "source": [
    "syms = sympy.symbols(\"r psi theta phi\")\n",
    "r, psi, theta, phi = syms\n",
    "f = sympy.Function('f')(r)  # metric ansatz\n",
    "cap_phi = sympy.Function('Phi')(r)  # defines gauge field\n",
    "L = sympy.symbols(\"L\")  # AdS length scale\n",
    "r_0 = sympy.symbols(\"r_0\")"
   ]
  },
  {
   "cell_type": "code",
   "execution_count": 203,
   "id": "94e4c6d7",
   "metadata": {},
   "outputs": [
    {
     "data": {
      "text/latex": [
       "$\\displaystyle \\left[\\begin{matrix}\\frac{1}{f{\\left(r \\right)}} & 0 & 0 & 0\\\\0 & \\frac{r^{2}}{4} + \\frac{r_{0}^{2}}{4} & 0 & \\left(\\frac{r^{2}}{4} + \\frac{r_{0}^{2}}{4}\\right) \\cos{\\left(\\theta \\right)}\\\\0 & 0 & \\frac{r^{2}}{4} + \\frac{r_{0}^{2}}{4} & 0\\\\0 & \\left(\\frac{r^{2}}{4} + \\frac{r_{0}^{2}}{4}\\right) \\cos{\\left(\\theta \\right)} & 0 & \\frac{r^{2}}{4} + \\frac{r_{0}^{2}}{4}\\end{matrix}\\right]$"
      ],
      "text/plain": [
       "⎡ 1                                                  ⎤\n",
       "⎢────          0             0              0        ⎥\n",
       "⎢f(r)                                                ⎥\n",
       "⎢                                                    ⎥\n",
       "⎢           2     2                 ⎛ 2     2⎞       ⎥\n",
       "⎢          r    r₀                  ⎜r    r₀ ⎟       ⎥\n",
       "⎢ 0        ── + ───          0      ⎜── + ───⎟⋅cos(θ)⎥\n",
       "⎢          4     4                  ⎝4     4 ⎠       ⎥\n",
       "⎢                                                    ⎥\n",
       "⎢                          2     2                   ⎥\n",
       "⎢                         r    r₀                    ⎥\n",
       "⎢ 0            0          ── + ───          0        ⎥\n",
       "⎢                         4     4                    ⎥\n",
       "⎢                                                    ⎥\n",
       "⎢      ⎛ 2     2⎞                        2     2     ⎥\n",
       "⎢      ⎜r    r₀ ⎟                       r    r₀      ⎥\n",
       "⎢ 0    ⎜── + ───⎟⋅cos(θ)     0          ── + ───     ⎥\n",
       "⎣      ⎝4     4 ⎠                       4     4      ⎦"
      ]
     },
     "execution_count": 203,
     "metadata": {},
     "output_type": "execute_result"
    }
   ],
   "source": [
    "list2d = [[0 for i in range(4)] for i in range(4)]\n",
    "list2d[0][0] = 1 / f\n",
    "list2d[1][1] = list2d[2][2] = list2d[3][3] = (r ** 2 + r_0 ** 2)/4\n",
    "list2d[1][3] = list2d[3][1] = (r ** 2 + r_0 ** 2)/ 4 * sympy.cos(theta)\n",
    "sch = MetricTensor(list2d, syms)\n",
    "sch.tensor()"
   ]
  },
  {
   "cell_type": "code",
   "execution_count": 204,
   "id": "c08ef89f",
   "metadata": {},
   "outputs": [
    {
     "data": {
      "text/latex": [
       "$\\displaystyle \\left[\\begin{matrix}\\frac{3 \\left(- r^{3} \\frac{d}{d r} f{\\left(r \\right)} - r r_{0}^{2} \\frac{d}{d r} f{\\left(r \\right)} - 2 r_{0}^{2} f{\\left(r \\right)}\\right)}{2 \\left(r^{4} + 2 r^{2} r_{0}^{2} + r_{0}^{4}\\right) f{\\left(r \\right)}} & 0 & 0 & 0\\\\0 & \\frac{- r^{3} \\frac{d}{d r} f{\\left(r \\right)} - 4 r^{2} f{\\left(r \\right)} + 4 r^{2} - r r_{0}^{2} \\frac{d}{d r} f{\\left(r \\right)} - 2 r_{0}^{2} f{\\left(r \\right)} + 4 r_{0}^{2}}{8 \\left(r^{2} + r_{0}^{2}\\right)} & 0 & \\frac{\\left(- r^{3} \\frac{d}{d r} f{\\left(r \\right)} - 4 r^{2} f{\\left(r \\right)} + 4 r^{2} - r r_{0}^{2} \\frac{d}{d r} f{\\left(r \\right)} - 2 r_{0}^{2} f{\\left(r \\right)} + 4 r_{0}^{2}\\right) \\cos{\\left(\\theta \\right)}}{8 \\left(r^{2} + r_{0}^{2}\\right)}\\\\0 & 0 & \\frac{- \\frac{r^{2} f{\\left(r \\right)}}{4} + \\frac{r^{2}}{2} + \\frac{r_{0}^{2}}{2} - \\frac{\\left(r^{2} + r_{0}^{2}\\right) \\left(r \\frac{d}{d r} f{\\left(r \\right)} + 2 f{\\left(r \\right)}\\right)}{8}}{r^{2} + r_{0}^{2}} & 0\\\\0 & \\frac{\\left(- r^{3} \\frac{d}{d r} f{\\left(r \\right)} - 4 r^{2} f{\\left(r \\right)} + 4 r^{2} - r r_{0}^{2} \\frac{d}{d r} f{\\left(r \\right)} - 2 r_{0}^{2} f{\\left(r \\right)} + 4 r_{0}^{2}\\right) \\cos{\\left(\\theta \\right)}}{8 \\left(r^{2} + r_{0}^{2}\\right)} & 0 & \\frac{- r^{3} \\frac{d}{d r} f{\\left(r \\right)} - 4 r^{2} f{\\left(r \\right)} + 4 r^{2} - r r_{0}^{2} \\frac{d}{d r} f{\\left(r \\right)} - 2 r_{0}^{2} f{\\left(r \\right)} + 4 r_{0}^{2}}{8 \\left(r^{2} + r_{0}^{2}\\right)}\\end{matrix}\\right]$"
      ],
      "text/plain": [
       "⎡  ⎛   3 d              2 d              2     ⎞                              \n",
       "⎢3⋅⎜- r ⋅──(f(r)) - r⋅r₀ ⋅──(f(r)) - 2⋅r₀ ⋅f(r)⎟                              \n",
       "⎢  ⎝     dr               dr                   ⎠                              \n",
       "⎢───────────────────────────────────────────────                              \n",
       "⎢            ⎛ 4      2   2     4⎞                                            \n",
       "⎢          2⋅⎝r  + 2⋅r ⋅r₀  + r₀ ⎠⋅f(r)                                       \n",
       "⎢                                                                             \n",
       "⎢                                                        3 d             2    \n",
       "⎢                                                     - r ⋅──(f(r)) - 4⋅r ⋅f(r\n",
       "⎢                                                          dr                 \n",
       "⎢                       0                             ────────────────────────\n",
       "⎢                                                                             \n",
       "⎢                                                                             \n",
       "⎢                                                                             \n",
       "⎢                                                                             \n",
       "⎢                                                                             \n",
       "⎢                                                                             \n",
       "⎢                                                                             \n",
       "⎢                                                                             \n",
       "⎢                       0                                                     \n",
       "⎢                                                                             \n",
       "⎢                                                                             \n",
       "⎢                                                                             \n",
       "⎢                                                 ⎛   3 d             2       \n",
       "⎢                                                 ⎜- r ⋅──(f(r)) - 4⋅r ⋅f(r) +\n",
       "⎢                                                 ⎝     dr                    \n",
       "⎢                       0                         ────────────────────────────\n",
       "⎢                                                                             \n",
       "⎣                                                                             \n",
       "\n",
       "                                                                              \n",
       "                                                                              \n",
       "                                                                              \n",
       "           0                                                                  \n",
       "                                                                              \n",
       "                                                                              \n",
       "                                                                              \n",
       "       2       2 d              2            2                                \n",
       ") + 4⋅r  - r⋅r₀ ⋅──(f(r)) - 2⋅r₀ ⋅f(r) + 4⋅r₀                                 \n",
       "                 dr                                                           \n",
       "──────────────────────────────────────────────                                \n",
       "       ⎛ 2     2⎞                                                             \n",
       "     8⋅⎝r  + r₀ ⎠                                                             \n",
       "                                                                              \n",
       "                                                                            ⎛ \n",
       "                                                        2         2     2   ⎝r\n",
       "                                                       r ⋅f(r)   r    r₀      \n",
       "                                                     - ─────── + ── + ─── - ──\n",
       "                                                          4      2     2      \n",
       "           0                                         ─────────────────────────\n",
       "                                                                              \n",
       "                                                                             r\n",
       "                                                                              \n",
       "    2       2 d              2            2⎞                                  \n",
       " 4⋅r  - r⋅r₀ ⋅──(f(r)) - 2⋅r₀ ⋅f(r) + 4⋅r₀ ⎟⋅cos(θ)                           \n",
       "              dr                           ⎠                                  \n",
       "───────────────────────────────────────────────────                           \n",
       "        ⎛ 2     2⎞                                                            \n",
       "      8⋅⎝r  + r₀ ⎠                                                            \n",
       "\n",
       "                                                                              \n",
       "                                                                              \n",
       "                                                                              \n",
       "  0                                                                    0      \n",
       "                                                                              \n",
       "                                                                              \n",
       "                                                                              \n",
       "                                ⎛   3 d             2           2       2 d   \n",
       "                                ⎜- r ⋅──(f(r)) - 4⋅r ⋅f(r) + 4⋅r  - r⋅r₀ ⋅──(f\n",
       "                                ⎝     dr                                  dr  \n",
       "  0                             ──────────────────────────────────────────────\n",
       "                                                                    ⎛ 2     2⎞\n",
       "                                                                  8⋅⎝r  + r₀ ⎠\n",
       "                                                                              \n",
       "2     2⎞ ⎛  d                ⎞                                                \n",
       "  + r₀ ⎠⋅⎜r⋅──(f(r)) + 2⋅f(r)⎟                                                \n",
       "         ⎝  dr               ⎠                                                \n",
       "──────────────────────────────                                                \n",
       "             8                                                                \n",
       "──────────────────────────────                                         0      \n",
       "2     2                                                                       \n",
       "  + r₀                                                                        \n",
       "                                                                              \n",
       "                                       3 d             2           2       2 d\n",
       "                                    - r ⋅──(f(r)) - 4⋅r ⋅f(r) + 4⋅r  - r⋅r₀ ⋅─\n",
       "                                         dr                                  d\n",
       "  0                                 ──────────────────────────────────────────\n",
       "                                                                   ⎛ 2     2⎞ \n",
       "                                                                 8⋅⎝r  + r₀ ⎠ \n",
       "\n",
       "                                 ⎤\n",
       "                                 ⎥\n",
       "                                 ⎥\n",
       "                                 ⎥\n",
       "                                 ⎥\n",
       "                                 ⎥\n",
       "                                 ⎥\n",
       "           2            2⎞       ⎥\n",
       "(r)) - 2⋅r₀ ⋅f(r) + 4⋅r₀ ⎟⋅cos(θ)⎥\n",
       "                         ⎠       ⎥\n",
       "─────────────────────────────────⎥\n",
       "                                 ⎥\n",
       "                                 ⎥\n",
       "                                 ⎥\n",
       "                                 ⎥\n",
       "                                 ⎥\n",
       "                                 ⎥\n",
       "                                 ⎥\n",
       "                                 ⎥\n",
       "                                 ⎥\n",
       "                                 ⎥\n",
       "                                 ⎥\n",
       "                                 ⎥\n",
       "              2            2     ⎥\n",
       "─(f(r)) - 2⋅r₀ ⋅f(r) + 4⋅r₀      ⎥\n",
       "r                                ⎥\n",
       "────────────────────────────     ⎥\n",
       "                                 ⎥\n",
       "                                 ⎦"
      ]
     },
     "execution_count": 204,
     "metadata": {},
     "output_type": "execute_result"
    }
   ],
   "source": [
    "Ric = RicciTensor.from_metric(sch)\n",
    "Ric.tensor()"
   ]
  },
  {
   "cell_type": "code",
   "execution_count": 205,
   "id": "d28c83b9",
   "metadata": {},
   "outputs": [
    {
     "data": {
      "text/latex": [
       "$\\displaystyle \\left[\\begin{matrix}\\frac{3 \\left(- L^{2} \\left(r^{3} \\frac{d}{d r} f{\\left(r \\right)} + r r_{0}^{2} \\frac{d}{d r} f{\\left(r \\right)} + 2 r_{0}^{2} f{\\left(r \\right)}\\right) + 2 r^{4} + 4 r^{2} r_{0}^{2} + 2 r_{0}^{4}\\right)}{2 L^{2} \\left(r^{4} + 2 r^{2} r_{0}^{2} + r_{0}^{4}\\right) f{\\left(r \\right)}} & 0 & 0 & 0\\\\0 & \\frac{L^{2} \\left(- r^{3} \\frac{d}{d r} f{\\left(r \\right)} - 4 r^{2} f{\\left(r \\right)} + 4 r^{2} - r r_{0}^{2} \\frac{d}{d r} f{\\left(r \\right)} - 2 r_{0}^{2} f{\\left(r \\right)} + 4 r_{0}^{2}\\right) + 6 \\left(r^{2} + r_{0}^{2}\\right)^{2}}{8 L^{2} \\left(r^{2} + r_{0}^{2}\\right)} & 0 & \\frac{\\left(- L^{2} \\left(r^{3} \\frac{d}{d r} f{\\left(r \\right)} + 4 r^{2} f{\\left(r \\right)} - 4 r^{2} + r r_{0}^{2} \\frac{d}{d r} f{\\left(r \\right)} + 2 r_{0}^{2} f{\\left(r \\right)} - 4 r_{0}^{2}\\right) + 6 \\left(r^{2} + r_{0}^{2}\\right)^{2}\\right) \\cos{\\left(\\theta \\right)}}{8 L^{2} \\left(r^{2} + r_{0}^{2}\\right)}\\\\0 & 0 & \\frac{L^{2} \\left(- 2 r^{2} f{\\left(r \\right)} + 4 r^{2} + 4 r_{0}^{2} - \\left(r^{2} + r_{0}^{2}\\right) \\left(r \\frac{d}{d r} f{\\left(r \\right)} + 2 f{\\left(r \\right)}\\right)\\right) + 6 \\left(r^{2} + r_{0}^{2}\\right)^{2}}{8 L^{2} \\left(r^{2} + r_{0}^{2}\\right)} & 0\\\\0 & \\frac{\\left(- L^{2} \\left(r^{3} \\frac{d}{d r} f{\\left(r \\right)} + 4 r^{2} f{\\left(r \\right)} - 4 r^{2} + r r_{0}^{2} \\frac{d}{d r} f{\\left(r \\right)} + 2 r_{0}^{2} f{\\left(r \\right)} - 4 r_{0}^{2}\\right) + 6 \\left(r^{2} + r_{0}^{2}\\right)^{2}\\right) \\cos{\\left(\\theta \\right)}}{8 L^{2} \\left(r^{2} + r_{0}^{2}\\right)} & 0 & \\frac{L^{2} \\left(- r^{3} \\frac{d}{d r} f{\\left(r \\right)} - 4 r^{2} f{\\left(r \\right)} + 4 r^{2} - r r_{0}^{2} \\frac{d}{d r} f{\\left(r \\right)} - 2 r_{0}^{2} f{\\left(r \\right)} + 4 r_{0}^{2}\\right) + 6 \\left(r^{2} + r_{0}^{2}\\right)^{2}}{8 L^{2} \\left(r^{2} + r_{0}^{2}\\right)}\\end{matrix}\\right]$"
      ],
      "text/plain": [
       "⎡  ⎛   2 ⎛ 3 d              2 d              2     ⎞      4      2   2       4\n",
       "⎢3⋅⎜- L ⋅⎜r ⋅──(f(r)) + r⋅r₀ ⋅──(f(r)) + 2⋅r₀ ⋅f(r)⎟ + 2⋅r  + 4⋅r ⋅r₀  + 2⋅r₀ \n",
       "⎢  ⎝     ⎝   dr               dr                   ⎠                          \n",
       "⎢─────────────────────────────────────────────────────────────────────────────\n",
       "⎢                          2 ⎛ 4      2   2     4⎞                            \n",
       "⎢                       2⋅L ⋅⎝r  + 2⋅r ⋅r₀  + r₀ ⎠⋅f(r)                       \n",
       "⎢                                                                             \n",
       "⎢                                                                             \n",
       "⎢                                                                             \n",
       "⎢                                                                             \n",
       "⎢                                                                             \n",
       "⎢                                      0                                      \n",
       "⎢                                                                             \n",
       "⎢                                                                             \n",
       "⎢                                                                             \n",
       "⎢                                                                             \n",
       "⎢                                                                             \n",
       "⎢                                                                             \n",
       "⎢                                                                             \n",
       "⎢                                      0                                      \n",
       "⎢                                                                             \n",
       "⎢                                                                             \n",
       "⎢                                                                             \n",
       "⎢                                                                             \n",
       "⎢                                                                             \n",
       "⎢                                                                             \n",
       "⎢                                                                             \n",
       "⎢                                      0                                      \n",
       "⎢                                                                             \n",
       "⎣                                                                             \n",
       "\n",
       "⎞                                                                             \n",
       "⎟                                                                             \n",
       "⎠                                                                             \n",
       "─                                                   0                         \n",
       "                                                                              \n",
       "                                                                              \n",
       "                                                                              \n",
       "                                                                              \n",
       "        2 ⎛   3 d             2           2       2 d              2          \n",
       "       L ⋅⎜- r ⋅──(f(r)) - 4⋅r ⋅f(r) + 4⋅r  - r⋅r₀ ⋅──(f(r)) - 2⋅r₀ ⋅f(r) + 4⋅\n",
       "          ⎝     dr                                  dr                        \n",
       "       ───────────────────────────────────────────────────────────────────────\n",
       "                                                2 ⎛ 2     2⎞                  \n",
       "                                             8⋅L ⋅⎝r  + r₀ ⎠                  \n",
       "                                                                              \n",
       "                                                                              \n",
       "                                                                              \n",
       "                                                                              \n",
       "                                                                              \n",
       "                                                    0                         \n",
       "                                                                              \n",
       "                                                                              \n",
       "                                                                              \n",
       "   ⎛                                                                          \n",
       "   ⎜   2 ⎛ 3 d             2           2       2 d              2            2\n",
       "   ⎜- L ⋅⎜r ⋅──(f(r)) + 4⋅r ⋅f(r) - 4⋅r  + r⋅r₀ ⋅──(f(r)) + 2⋅r₀ ⋅f(r) - 4⋅r₀ \n",
       "   ⎝     ⎝   dr                                  dr                           \n",
       "   ───────────────────────────────────────────────────────────────────────────\n",
       "                                                2 ⎛ 2     2⎞                  \n",
       "                                             8⋅L ⋅⎝r  + r₀ ⎠                  \n",
       "\n",
       "                                                                              \n",
       "                                                                              \n",
       "                                                                              \n",
       "                                                                   0          \n",
       "                                                                              \n",
       "                                                                              \n",
       "                                                                              \n",
       "                   2                                                          \n",
       "  2⎞     ⎛ 2     2⎞                                                           \n",
       "r₀ ⎟ + 6⋅⎝r  + r₀ ⎠                                                           \n",
       "   ⎠                                                                          \n",
       "────────────────────                                               0          \n",
       "                                                                              \n",
       "                                                                              \n",
       "                                                                              \n",
       "                                                                              \n",
       "                            2 ⎛     2           2       2   ⎛ 2     2⎞ ⎛  d   \n",
       "                           L ⋅⎜- 2⋅r ⋅f(r) + 4⋅r  + 4⋅r₀  - ⎝r  + r₀ ⎠⋅⎜r⋅──(f\n",
       "                              ⎝                                        ⎝  dr  \n",
       "                           ───────────────────────────────────────────────────\n",
       "                                                               2 ⎛ 2     2⎞   \n",
       "                                                            8⋅L ⋅⎝r  + r₀ ⎠   \n",
       "                                                                              \n",
       "                2⎞                                                            \n",
       "⎞     ⎛ 2     2⎞ ⎟                                                            \n",
       "⎟ + 6⋅⎝r  + r₀ ⎠ ⎟⋅cos(θ)                                                     \n",
       "⎠                ⎠                                                            \n",
       "─────────────────────────                                          0          \n",
       "                                                                              \n",
       "                                                                              \n",
       "\n",
       "                                                                              \n",
       "                                                                              \n",
       "                                                                              \n",
       "                                                                              \n",
       "                                                                              \n",
       "                                                                              \n",
       "                                                                              \n",
       "                                 ⎛                                            \n",
       "                                 ⎜   2 ⎛ 3 d             2           2       2\n",
       "                                 ⎜- L ⋅⎜r ⋅──(f(r)) + 4⋅r ⋅f(r) - 4⋅r  + r⋅r₀ \n",
       "                                 ⎝     ⎝   dr                                 \n",
       "                                 ─────────────────────────────────────────────\n",
       "                                                                              \n",
       "                                                                           8⋅L\n",
       "                                                                              \n",
       "                              2                                               \n",
       "             ⎞⎞     ⎛ 2     2⎞                                                \n",
       "(r)) + 2⋅f(r)⎟⎟ + 6⋅⎝r  + r₀ ⎠                                                \n",
       "             ⎠⎠                                                               \n",
       "───────────────────────────────                                               \n",
       "                                                                              \n",
       "                                                                              \n",
       "                                                                              \n",
       "                                                                              \n",
       "                                      2 ⎛   3 d             2           2     \n",
       "                                     L ⋅⎜- r ⋅──(f(r)) - 4⋅r ⋅f(r) + 4⋅r  - r⋅\n",
       "                                        ⎝     dr                              \n",
       "                                     ─────────────────────────────────────────\n",
       "                                                                              \n",
       "                                                                           8⋅L\n",
       "\n",
       "                                                       ⎤\n",
       "                                                       ⎥\n",
       "                                                       ⎥\n",
       "    0                                                  ⎥\n",
       "                                                       ⎥\n",
       "                                                       ⎥\n",
       "                                                       ⎥\n",
       "                                              2⎞       ⎥\n",
       " d              2            2⎞     ⎛ 2     2⎞ ⎟       ⎥\n",
       "⋅──(f(r)) + 2⋅r₀ ⋅f(r) - 4⋅r₀ ⎟ + 6⋅⎝r  + r₀ ⎠ ⎟⋅cos(θ)⎥\n",
       " dr                           ⎠                ⎠       ⎥\n",
       "───────────────────────────────────────────────────────⎥\n",
       "2 ⎛ 2     2⎞                                           ⎥\n",
       " ⋅⎝r  + r₀ ⎠                                           ⎥\n",
       "                                                       ⎥\n",
       "                                                       ⎥\n",
       "                                                       ⎥\n",
       "                                                       ⎥\n",
       "                                                       ⎥\n",
       "    0                                                  ⎥\n",
       "                                                       ⎥\n",
       "                                                       ⎥\n",
       "                                                       ⎥\n",
       "                                                 2     ⎥\n",
       "  2 d              2            2⎞     ⎛ 2     2⎞      ⎥\n",
       "r₀ ⋅──(f(r)) - 2⋅r₀ ⋅f(r) + 4⋅r₀ ⎟ + 6⋅⎝r  + r₀ ⎠      ⎥\n",
       "    dr                           ⎠                     ⎥\n",
       "──────────────────────────────────────────────────     ⎥\n",
       "2 ⎛ 2     2⎞                                           ⎥\n",
       " ⋅⎝r  + r₀ ⎠                                           ⎦"
      ]
     },
     "execution_count": 205,
     "metadata": {},
     "output_type": "execute_result"
    }
   ],
   "source": [
    "metric_array = sympy.MutableDenseNDimArray(list2d)\n",
    "einstein_tensor = sympy.MutableDenseNDimArray(Ric.tensor()) + 3 / L ** 2 * metric_array\n",
    "einstein_tensor = sympy.simplify(einstein_tensor)\n",
    "einstein_tensor"
   ]
  },
  {
   "cell_type": "markdown",
   "id": "2fd1c12c",
   "metadata": {},
   "source": [
    "Compute the right-hand side of the Einstein equation."
   ]
  },
  {
   "cell_type": "code",
   "execution_count": 206,
   "id": "98747a35",
   "metadata": {},
   "outputs": [],
   "source": [
    "\n",
    "A_1 = L / 2 * cap_phi * sympy.Array([0, 0, -sympy.sin(psi), sympy.cos(psi) * sympy.sin(theta)])\n",
    "A_2 = L / 2 * cap_phi * sympy.Array([0, 0, sympy.cos(psi), sympy.sin(psi) * sympy.sin(theta)])\n",
    "A_3 = L / 2 * cap_phi * sympy.Array([0, 1, 0, sympy.cos(theta)])"
   ]
  },
  {
   "cell_type": "code",
   "execution_count": 207,
   "id": "d7e48bba",
   "metadata": {},
   "outputs": [
    {
     "data": {
      "text/latex": [
       "$\\displaystyle \\left( \\left[\\begin{matrix}0 & 0 & - \\frac{L \\Phi{\\left(r \\right)} \\sin{\\left(\\psi \\right)}}{2} & \\frac{L \\Phi{\\left(r \\right)} \\sin{\\left(\\theta \\right)} \\cos{\\left(\\psi \\right)}}{2}\\end{matrix}\\right], \\  \\left[\\begin{matrix}0 & 0 & \\frac{L \\Phi{\\left(r \\right)} \\cos{\\left(\\psi \\right)}}{2} & \\frac{L \\Phi{\\left(r \\right)} \\sin{\\left(\\psi \\right)} \\sin{\\left(\\theta \\right)}}{2}\\end{matrix}\\right], \\  \\left[\\begin{matrix}0 & \\frac{L \\Phi{\\left(r \\right)}}{2} & 0 & \\frac{L \\Phi{\\left(r \\right)} \\cos{\\left(\\theta \\right)}}{2}\\end{matrix}\\right]\\right)$"
      ],
      "text/plain": [
       "⎛⎡      -L⋅Φ(r)⋅sin(ψ)   L⋅Φ(r)⋅sin(θ)⋅cos(ψ)⎤  ⎡      L⋅Φ(r)⋅cos(ψ)  L⋅Φ(r)⋅s\n",
       "⎜⎢0  0  ───────────────  ────────────────────⎥, ⎢0  0  ─────────────  ────────\n",
       "⎝⎣             2                  2          ⎦  ⎣            2                \n",
       "\n",
       "in(ψ)⋅sin(θ)⎤  ⎡   L⋅Φ(r)     L⋅Φ(r)⋅cos(θ)⎤⎞\n",
       "────────────⎥, ⎢0  ──────  0  ─────────────⎥⎟\n",
       " 2          ⎦  ⎣     2              2      ⎦⎠"
      ]
     },
     "execution_count": 207,
     "metadata": {},
     "output_type": "execute_result"
    }
   ],
   "source": [
    "A_1, A_2, A_3"
   ]
  },
  {
   "cell_type": "code",
   "execution_count": 208,
   "id": "e25dd6e1",
   "metadata": {},
   "outputs": [],
   "source": [
    "x = [r, psi, theta, phi]\n",
    "def em_field_strength(A):\n",
    "    \"\"\"Compute EM field strength from the vector potential.\"\"\"    \n",
    "    F = sympy.MutableDenseNDimArray.zeros(4, 4)\n",
    "    for i in range(4):\n",
    "        for j in range(4):\n",
    "            F[i, j] = sympy.diff(A[j], x[i]) - sympy.diff(A[i], x[j])\n",
    "    return F"
   ]
  },
  {
   "cell_type": "code",
   "execution_count": 209,
   "id": "25bc08f8",
   "metadata": {},
   "outputs": [],
   "source": [
    "F_1 = em_field_strength(A_1)\n",
    "F_2 = em_field_strength(A_2)\n",
    "F_3 = em_field_strength(A_3)"
   ]
  },
  {
   "cell_type": "markdown",
   "id": "4be35153",
   "metadata": {},
   "source": [
    "Compute the first term in the energy momentum tensor, involving two field strength tensors with one contraction."
   ]
  },
  {
   "cell_type": "code",
   "execution_count": 210,
   "id": "cc97e46b",
   "metadata": {},
   "outputs": [
    {
     "data": {
      "text/latex": [
       "$\\displaystyle \\left[\\begin{matrix}f{\\left(r \\right)} & 0 & 0 & 0\\\\0 & - \\frac{4}{r^{2} \\cos^{2}{\\left(\\theta \\right)} - r^{2} + r_{0}^{2} \\cos^{2}{\\left(\\theta \\right)} - r_{0}^{2}} & 0 & \\frac{4 \\cos{\\left(\\theta \\right)}}{r^{2} \\cos^{2}{\\left(\\theta \\right)} - r^{2} + r_{0}^{2} \\cos^{2}{\\left(\\theta \\right)} - r_{0}^{2}}\\\\0 & 0 & \\frac{4}{r^{2} + r_{0}^{2}} & 0\\\\0 & \\frac{4 \\cos{\\left(\\theta \\right)}}{r^{2} \\cos^{2}{\\left(\\theta \\right)} - r^{2} + r_{0}^{2} \\cos^{2}{\\left(\\theta \\right)} - r_{0}^{2}} & 0 & - \\frac{4}{r^{2} \\cos^{2}{\\left(\\theta \\right)} - r^{2} + r_{0}^{2} \\cos^{2}{\\left(\\theta \\right)} - r_{0}^{2}}\\end{matrix}\\right]$"
      ],
      "text/plain": [
       "⎡f(r)                   0                      0                       0      \n",
       "⎢                                                                             \n",
       "⎢                      -4                                           4⋅cos(θ)  \n",
       "⎢ 0    ───────────────────────────────────     0      ────────────────────────\n",
       "⎢       2    2       2     2    2        2             2    2       2     2   \n",
       "⎢      r ⋅cos (θ) - r  + r₀ ⋅cos (θ) - r₀             r ⋅cos (θ) - r  + r₀ ⋅co\n",
       "⎢                                                                             \n",
       "⎢                                              4                              \n",
       "⎢ 0                     0                   ────────                   0      \n",
       "⎢                                            2     2                          \n",
       "⎢                                           r  + r₀                           \n",
       "⎢                                                                             \n",
       "⎢                    4⋅cos(θ)                                         -4      \n",
       "⎢ 0    ───────────────────────────────────     0      ────────────────────────\n",
       "⎢       2    2       2     2    2        2             2    2       2     2   \n",
       "⎣      r ⋅cos (θ) - r  + r₀ ⋅cos (θ) - r₀             r ⋅cos (θ) - r  + r₀ ⋅co\n",
       "\n",
       "           ⎤\n",
       "           ⎥\n",
       "           ⎥\n",
       "───────────⎥\n",
       " 2        2⎥\n",
       "s (θ) - r₀ ⎥\n",
       "           ⎥\n",
       "           ⎥\n",
       "           ⎥\n",
       "           ⎥\n",
       "           ⎥\n",
       "           ⎥\n",
       "           ⎥\n",
       "───────────⎥\n",
       " 2        2⎥\n",
       "s (θ) - r₀ ⎦"
      ]
     },
     "execution_count": 210,
     "metadata": {},
     "output_type": "execute_result"
    }
   ],
   "source": [
    "metric_inv = sympy.Matrix(metric_array).inv()\n",
    "metric_inv"
   ]
  },
  {
   "cell_type": "markdown",
   "id": "78c0a711",
   "metadata": {},
   "source": [
    "Wrap into a tensor object with appropriate indices."
   ]
  },
  {
   "cell_type": "code",
   "execution_count": 211,
   "id": "07538646",
   "metadata": {},
   "outputs": [],
   "source": [
    "Euclidean = TensorIndexType('Euclidean', dummy_name='E')\n",
    "i0, i1, i2, i3, i4, i5, i6, i7 = tensor_indices('i0:8', Euclidean)"
   ]
  },
  {
   "cell_type": "code",
   "execution_count": 212,
   "id": "f46c676b",
   "metadata": {},
   "outputs": [],
   "source": [
    "FFg_tensor = TensorHead('FFg', [Euclidean] * 6)\n",
    "FFg_matrix = (\n",
    "    sympy.tensorproduct(F_1, F_1, metric_inv) +\n",
    "    sympy.tensorproduct(F_2, F_2, metric_inv) +\n",
    "    sympy.tensorproduct(F_3, F_3, metric_inv)\n",
    ")\n",
    "repl = {FFg_tensor(-i0, -i1, -i2, -i3, i4, i5): FFg_matrix}"
   ]
  },
  {
   "cell_type": "markdown",
   "id": "9bf0d7bf",
   "metadata": {},
   "source": [
    "Contract indices."
   ]
  },
  {
   "cell_type": "code",
   "execution_count": 213,
   "id": "3f57b336",
   "metadata": {},
   "outputs": [
    {
     "data": {
      "text/latex": [
       "$\\displaystyle \\left[\\begin{matrix}\\frac{3 L^{2} \\left(\\frac{d}{d r} \\Phi{\\left(r \\right)}\\right)^{2}}{r^{2} + r_{0}^{2}} & 0 & 0 & 0\\\\0 & \\frac{L^{2} \\left(r^{2} f{\\left(r \\right)} \\left(\\frac{d}{d r} \\Phi{\\left(r \\right)}\\right)^{2} + r_{0}^{2} f{\\left(r \\right)} \\left(\\frac{d}{d r} \\Phi{\\left(r \\right)}\\right)^{2} + 8 \\Phi^{2}{\\left(r \\right)}\\right)}{4 \\left(r^{2} + r_{0}^{2}\\right)} & 0 & \\frac{L^{2} \\left(r^{2} f{\\left(r \\right)} \\left(\\frac{d}{d r} \\Phi{\\left(r \\right)}\\right)^{2} + r_{0}^{2} f{\\left(r \\right)} \\left(\\frac{d}{d r} \\Phi{\\left(r \\right)}\\right)^{2} + 8 \\Phi^{2}{\\left(r \\right)}\\right) \\cos{\\left(\\theta \\right)}}{4 \\left(r^{2} + r_{0}^{2}\\right)}\\\\0 & 0 & \\frac{L^{2} \\left(r^{2} f{\\left(r \\right)} \\left(\\frac{d}{d r} \\Phi{\\left(r \\right)}\\right)^{2} + r_{0}^{2} f{\\left(r \\right)} \\left(\\frac{d}{d r} \\Phi{\\left(r \\right)}\\right)^{2} + 8 \\Phi^{2}{\\left(r \\right)}\\right)}{4 \\left(r^{2} + r_{0}^{2}\\right)} & 0\\\\0 & \\frac{L^{2} \\left(r^{2} f{\\left(r \\right)} \\left(\\frac{d}{d r} \\Phi{\\left(r \\right)}\\right)^{2} + r_{0}^{2} f{\\left(r \\right)} \\left(\\frac{d}{d r} \\Phi{\\left(r \\right)}\\right)^{2} + 8 \\Phi^{2}{\\left(r \\right)}\\right) \\cos{\\left(\\theta \\right)}}{4 \\left(r^{2} + r_{0}^{2}\\right)} & 0 & \\frac{L^{2} \\left(r^{2} f{\\left(r \\right)} \\left(\\frac{d}{d r} \\Phi{\\left(r \\right)}\\right)^{2} + r_{0}^{2} f{\\left(r \\right)} \\left(\\frac{d}{d r} \\Phi{\\left(r \\right)}\\right)^{2} + 8 \\Phi^{2}{\\left(r \\right)}\\right)}{4 \\left(r^{2} + r_{0}^{2}\\right)}\\end{matrix}\\right]$"
      ],
      "text/plain": [
       "⎡               2                                                             \n",
       "⎢   2 ⎛d       ⎞                                                              \n",
       "⎢3⋅L ⋅⎜──(Φ(r))⎟                                                              \n",
       "⎢     ⎝dr      ⎠                                                              \n",
       "⎢────────────────                                 0                           \n",
       "⎢     2     2                                                                 \n",
       "⎢    r  + r₀                                                                  \n",
       "⎢                                                                             \n",
       "⎢                        ⎛                  2                      2          \n",
       "⎢                      2 ⎜ 2      ⎛d       ⎞      2      ⎛d       ⎞       2   \n",
       "⎢                     L ⋅⎜r ⋅f(r)⋅⎜──(Φ(r))⎟  + r₀ ⋅f(r)⋅⎜──(Φ(r))⎟  + 8⋅Φ (r)\n",
       "⎢                        ⎝        ⎝dr      ⎠             ⎝dr      ⎠           \n",
       "⎢       0             ────────────────────────────────────────────────────────\n",
       "⎢                                              ⎛ 2     2⎞                     \n",
       "⎢                                            4⋅⎝r  + r₀ ⎠                     \n",
       "⎢                                                                             \n",
       "⎢                                                                             \n",
       "⎢                                                                             \n",
       "⎢                                                                             \n",
       "⎢                                                                             \n",
       "⎢       0                                         0                           \n",
       "⎢                                                                             \n",
       "⎢                                                                             \n",
       "⎢                                                                             \n",
       "⎢                     ⎛                  2                      2          ⎞  \n",
       "⎢                   2 ⎜ 2      ⎛d       ⎞      2      ⎛d       ⎞       2   ⎟  \n",
       "⎢                  L ⋅⎜r ⋅f(r)⋅⎜──(Φ(r))⎟  + r₀ ⋅f(r)⋅⎜──(Φ(r))⎟  + 8⋅Φ (r)⎟⋅c\n",
       "⎢                     ⎝        ⎝dr      ⎠             ⎝dr      ⎠           ⎠  \n",
       "⎢       0          ───────────────────────────────────────────────────────────\n",
       "⎢                                              ⎛ 2     2⎞                     \n",
       "⎣                                            4⋅⎝r  + r₀ ⎠                     \n",
       "\n",
       "                                                                              \n",
       "                                                                              \n",
       "                                                                              \n",
       "                                                                              \n",
       "                                   0                                          \n",
       "                                                                              \n",
       "                                                                              \n",
       "                                                                              \n",
       "⎞                                                                    ⎛        \n",
       "⎟                                                                  2 ⎜ 2      \n",
       "⎟                                                                 L ⋅⎜r ⋅f(r)⋅\n",
       "⎠                                                                    ⎝        \n",
       "─                                  0                              ────────────\n",
       "                                                                              \n",
       "                                                                              \n",
       "                                                                              \n",
       "          ⎛                  2                      2          ⎞              \n",
       "        2 ⎜ 2      ⎛d       ⎞      2      ⎛d       ⎞       2   ⎟              \n",
       "       L ⋅⎜r ⋅f(r)⋅⎜──(Φ(r))⎟  + r₀ ⋅f(r)⋅⎜──(Φ(r))⎟  + 8⋅Φ (r)⎟              \n",
       "          ⎝        ⎝dr      ⎠             ⎝dr      ⎠           ⎠              \n",
       "       ─────────────────────────────────────────────────────────              \n",
       "                                ⎛ 2     2⎞                                    \n",
       "                              4⋅⎝r  + r₀ ⎠                                    \n",
       "                                                                              \n",
       "                                                                        ⎛     \n",
       "                                                                      2 ⎜ 2   \n",
       "os(θ)                                                                L ⋅⎜r ⋅f(\n",
       "                                                                        ⎝     \n",
       "─────                              0                                 ─────────\n",
       "                                                                              \n",
       "                                                                              \n",
       "\n",
       "                                                    ⎤\n",
       "                                                    ⎥\n",
       "                                                    ⎥\n",
       "                                                    ⎥\n",
       "                   0                                ⎥\n",
       "                                                    ⎥\n",
       "                                                    ⎥\n",
       "                                                    ⎥\n",
       "          2                      2          ⎞       ⎥\n",
       "⎛d       ⎞      2      ⎛d       ⎞       2   ⎟       ⎥\n",
       "⎜──(Φ(r))⎟  + r₀ ⋅f(r)⋅⎜──(Φ(r))⎟  + 8⋅Φ (r)⎟⋅cos(θ)⎥\n",
       "⎝dr      ⎠             ⎝dr      ⎠           ⎠       ⎥\n",
       "────────────────────────────────────────────────────⎥\n",
       "                ⎛ 2     2⎞                          ⎥\n",
       "              4⋅⎝r  + r₀ ⎠                          ⎥\n",
       "                                                    ⎥\n",
       "                                                    ⎥\n",
       "                                                    ⎥\n",
       "                                                    ⎥\n",
       "                                                    ⎥\n",
       "                   0                                ⎥\n",
       "                                                    ⎥\n",
       "                                                    ⎥\n",
       "                                                    ⎥\n",
       "             2                      2          ⎞    ⎥\n",
       "   ⎛d       ⎞      2      ⎛d       ⎞       2   ⎟    ⎥\n",
       "r)⋅⎜──(Φ(r))⎟  + r₀ ⋅f(r)⋅⎜──(Φ(r))⎟  + 8⋅Φ (r)⎟    ⎥\n",
       "   ⎝dr      ⎠             ⎝dr      ⎠           ⎠    ⎥\n",
       "────────────────────────────────────────────────    ⎥\n",
       "                ⎛ 2     2⎞                          ⎥\n",
       "              4⋅⎝r  + r₀ ⎠                          ⎦"
      ]
     },
     "execution_count": 213,
     "metadata": {},
     "output_type": "execute_result"
    }
   ],
   "source": [
    "T_contracted_1 = FFg_tensor(-i0, -i1, -i2, -i3, i3, i1).replace_with_arrays(repl)\n",
    "T_contracted_1 = sympy.simplify(T_contracted_1)\n",
    "T_contracted_1"
   ]
  },
  {
   "cell_type": "markdown",
   "id": "8c66fb3a",
   "metadata": {},
   "source": [
    "Compute second term of the energy momentum tensor involving two contractions."
   ]
  },
  {
   "cell_type": "code",
   "execution_count": 214,
   "id": "aca0ccaa",
   "metadata": {},
   "outputs": [],
   "source": [
    "FFgg_tensor = TensorHead('FFgg', [Euclidean] * 8)\n",
    "FFgg_matrix = (\n",
    "    sympy.tensorproduct(F_1, F_1, metric_inv, metric_inv) +\n",
    "    sympy.tensorproduct(F_2, F_2, metric_inv, metric_inv) +\n",
    "    sympy.tensorproduct(F_3, F_3, metric_inv, metric_inv)\n",
    ")\n",
    "repl = {FFgg_tensor(-i0, -i1, -i2, -i3, i4, i5, i6, i7): FFgg_matrix}"
   ]
  },
  {
   "cell_type": "code",
   "execution_count": 215,
   "id": "7780c723",
   "metadata": {},
   "outputs": [
    {
     "data": {
      "image/png": "[encoded data removed]",
      "text/latex": [
       "$\\displaystyle \\frac{6 L^{2} \\left(r^{2} f{\\left(r \\right)} \\left(\\frac{d}{d r} \\Phi{\\left(r \\right)}\\right)^{2} + r_{0}^{2} f{\\left(r \\right)} \\left(\\frac{d}{d r} \\Phi{\\left(r \\right)}\\right)^{2} + 4 \\Phi^{2}{\\left(r \\right)}\\right)}{r^{4} + 2 r^{2} r_{0}^{2} + r_{0}^{4}}$"
      ],
      "text/plain": [
       "     ⎛                  2                      2          ⎞\n",
       "   2 ⎜ 2      ⎛d       ⎞      2      ⎛d       ⎞       2   ⎟\n",
       "6⋅L ⋅⎜r ⋅f(r)⋅⎜──(Φ(r))⎟  + r₀ ⋅f(r)⋅⎜──(Φ(r))⎟  + 4⋅Φ (r)⎟\n",
       "     ⎝        ⎝dr      ⎠             ⎝dr      ⎠           ⎠\n",
       "───────────────────────────────────────────────────────────\n",
       "                     4      2   2     4                    \n",
       "                    r  + 2⋅r ⋅r₀  + r₀                     "
      ]
     },
     "execution_count": 215,
     "metadata": {},
     "output_type": "execute_result"
    }
   ],
   "source": [
    "T_contracted_2 = FFgg_tensor(-i0, -i1, -i2, -i3, i3, i1, i2, i0).replace_with_arrays(repl)\n",
    "T_contracted_2.simplify()"
   ]
  },
  {
   "cell_type": "markdown",
   "id": "0a341fd1",
   "metadata": {},
   "source": [
    "Compute the energy-momentum tensor."
   ]
  },
  {
   "cell_type": "code",
   "execution_count": 216,
   "id": "749a1287",
   "metadata": {},
   "outputs": [
    {
     "data": {
      "text/latex": [
       "$\\displaystyle \\left[\\begin{matrix}\\frac{3 L^{2} \\left(r^{2} f{\\left(r \\right)} \\left(\\frac{d}{d r} \\Phi{\\left(r \\right)}\\right)^{2} + r_{0}^{2} f{\\left(r \\right)} \\left(\\frac{d}{d r} \\Phi{\\left(r \\right)}\\right)^{2} - 4 \\Phi^{2}{\\left(r \\right)}\\right)}{\\left(r^{4} + 2 r^{2} r_{0}^{2} + r_{0}^{4}\\right) f{\\left(r \\right)}} & 0 & 0 & 0\\\\0 & \\frac{L^{2} \\left(- \\frac{r^{2} f{\\left(r \\right)} \\left(\\frac{d}{d r} \\Phi{\\left(r \\right)}\\right)^{2}}{4} - \\frac{r_{0}^{2} f{\\left(r \\right)} \\left(\\frac{d}{d r} \\Phi{\\left(r \\right)}\\right)^{2}}{4} + \\Phi^{2}{\\left(r \\right)}\\right)}{r^{2} + r_{0}^{2}} & 0 & \\frac{L^{2} \\left(- r^{2} f{\\left(r \\right)} \\left(\\frac{d}{d r} \\Phi{\\left(r \\right)}\\right)^{2} - r_{0}^{2} f{\\left(r \\right)} \\left(\\frac{d}{d r} \\Phi{\\left(r \\right)}\\right)^{2} + 4 \\Phi^{2}{\\left(r \\right)}\\right) \\cos{\\left(\\theta \\right)}}{4 \\left(r^{2} + r_{0}^{2}\\right)}\\\\0 & 0 & \\frac{L^{2} \\left(- \\frac{r^{2} f{\\left(r \\right)} \\left(\\frac{d}{d r} \\Phi{\\left(r \\right)}\\right)^{2}}{4} - \\frac{r_{0}^{2} f{\\left(r \\right)} \\left(\\frac{d}{d r} \\Phi{\\left(r \\right)}\\right)^{2}}{4} + \\Phi^{2}{\\left(r \\right)}\\right)}{r^{2} + r_{0}^{2}} & 0\\\\0 & \\frac{L^{2} \\left(- r^{2} f{\\left(r \\right)} \\left(\\frac{d}{d r} \\Phi{\\left(r \\right)}\\right)^{2} - r_{0}^{2} f{\\left(r \\right)} \\left(\\frac{d}{d r} \\Phi{\\left(r \\right)}\\right)^{2} + 4 \\Phi^{2}{\\left(r \\right)}\\right) \\cos{\\left(\\theta \\right)}}{4 \\left(r^{2} + r_{0}^{2}\\right)} & 0 & \\frac{L^{2} \\left(- \\frac{r^{2} f{\\left(r \\right)} \\left(\\frac{d}{d r} \\Phi{\\left(r \\right)}\\right)^{2}}{4} - \\frac{r_{0}^{2} f{\\left(r \\right)} \\left(\\frac{d}{d r} \\Phi{\\left(r \\right)}\\right)^{2}}{4} + \\Phi^{2}{\\left(r \\right)}\\right)}{r^{2} + r_{0}^{2}}\\end{matrix}\\right]$"
      ],
      "text/plain": [
       "⎡     ⎛                  2                      2          ⎞                  \n",
       "⎢   2 ⎜ 2      ⎛d       ⎞      2      ⎛d       ⎞       2   ⎟                  \n",
       "⎢3⋅L ⋅⎜r ⋅f(r)⋅⎜──(Φ(r))⎟  + r₀ ⋅f(r)⋅⎜──(Φ(r))⎟  - 4⋅Φ (r)⎟                  \n",
       "⎢     ⎝        ⎝dr      ⎠             ⎝dr      ⎠           ⎠                  \n",
       "⎢───────────────────────────────────────────────────────────                  \n",
       "⎢                 ⎛ 4      2   2     4⎞                                       \n",
       "⎢                 ⎝r  + 2⋅r ⋅r₀  + r₀ ⎠⋅f(r)                                  \n",
       "⎢                                                                             \n",
       "⎢                                                                    ⎛        \n",
       "⎢                                                                    ⎜   2    \n",
       "⎢                                                                    ⎜  r ⋅f(r\n",
       "⎢                                                                  2 ⎜        \n",
       "⎢                                                                 L ⋅⎜- ──────\n",
       "⎢                                                                    ⎝        \n",
       "⎢                             0                                   ────────────\n",
       "⎢                                                                             \n",
       "⎢                                                                             \n",
       "⎢                                                                             \n",
       "⎢                                                                             \n",
       "⎢                                                                             \n",
       "⎢                                                                             \n",
       "⎢                                                                             \n",
       "⎢                                                                             \n",
       "⎢                                                                             \n",
       "⎢                             0                                               \n",
       "⎢                                                                             \n",
       "⎢                                                                             \n",
       "⎢                                                                             \n",
       "⎢                                                                             \n",
       "⎢                                                                             \n",
       "⎢                                                                ⎛            \n",
       "⎢                                                              2 ⎜   2      ⎛d\n",
       "⎢                                                             L ⋅⎜- r ⋅f(r)⋅⎜─\n",
       "⎢                                                                ⎝          ⎝d\n",
       "⎢                             0                               ────────────────\n",
       "⎢                                                                             \n",
       "⎣                                                                             \n",
       "\n",
       "                                                                              \n",
       "                                                                              \n",
       "                                                                              \n",
       "                                                                              \n",
       "                0                                                             \n",
       "                                                                              \n",
       "                                                                              \n",
       "                                                                              \n",
       "            2                      2        ⎞                                 \n",
       "  ⎛d       ⎞      2      ⎛d       ⎞         ⎟                                 \n",
       ")⋅⎜──(Φ(r))⎟    r₀ ⋅f(r)⋅⎜──(Φ(r))⎟         ⎟                                 \n",
       "  ⎝dr      ⎠             ⎝dr      ⎠     2   ⎟                                 \n",
       "───────────── - ──────────────────── + Φ (r)⎟                                 \n",
       "   4                     4                  ⎠                                 \n",
       "─────────────────────────────────────────────                                 \n",
       "              2     2                                                         \n",
       "             r  + r₀                                                          \n",
       "                                                                              \n",
       "                                                       ⎛                    2 \n",
       "                                                       ⎜   2      ⎛d       ⎞  \n",
       "                                                       ⎜  r ⋅f(r)⋅⎜──(Φ(r))⎟  \n",
       "                                                     2 ⎜          ⎝dr      ⎠  \n",
       "                                                    L ⋅⎜- ─────────────────── \n",
       "                                                       ⎝           4          \n",
       "                0                                   ──────────────────────────\n",
       "                                                                              \n",
       "                                                                             r\n",
       "                                                                              \n",
       "                                                                              \n",
       "                                                                              \n",
       "        2                      2          ⎞                                   \n",
       "       ⎞      2      ⎛d       ⎞       2   ⎟                                   \n",
       "─(Φ(r))⎟  - r₀ ⋅f(r)⋅⎜──(Φ(r))⎟  + 4⋅Φ (r)⎟⋅cos(θ)                            \n",
       "r      ⎠             ⎝dr      ⎠           ⎠                                   \n",
       "──────────────────────────────────────────────────                            \n",
       "             ⎛ 2     2⎞                                                       \n",
       "           4⋅⎝r  + r₀ ⎠                                                       \n",
       "\n",
       "                                                                              \n",
       "                                                                              \n",
       "                                                                              \n",
       "                                                                              \n",
       "  0                                                              0            \n",
       "                                                                              \n",
       "                                                                              \n",
       "                                                                              \n",
       "                                                                              \n",
       "                                                                              \n",
       "                                    ⎛                    2                    \n",
       "                                  2 ⎜   2      ⎛d       ⎞      2      ⎛d      \n",
       "                                 L ⋅⎜- r ⋅f(r)⋅⎜──(Φ(r))⎟  - r₀ ⋅f(r)⋅⎜──(Φ(r)\n",
       "                                    ⎝          ⎝dr      ⎠             ⎝dr     \n",
       "  0                              ─────────────────────────────────────────────\n",
       "                                                              ⎛ 2     2⎞      \n",
       "                                                            4⋅⎝r  + r₀ ⎠      \n",
       "                                                                              \n",
       "                     2        ⎞                                               \n",
       "    2      ⎛d       ⎞         ⎟                                               \n",
       "  r₀ ⋅f(r)⋅⎜──(Φ(r))⎟         ⎟                                               \n",
       "           ⎝dr      ⎠     2   ⎟                                               \n",
       "- ──────────────────── + Φ (r)⎟                                               \n",
       "           4                  ⎠                                               \n",
       "───────────────────────────────                                  0            \n",
       "2     2                                                                       \n",
       "  + r₀                                                                        \n",
       "                                                                              \n",
       "                                        ⎛                    2                \n",
       "                                        ⎜   2      ⎛d       ⎞      2      ⎛d  \n",
       "                                        ⎜  r ⋅f(r)⋅⎜──(Φ(r))⎟    r₀ ⋅f(r)⋅⎜──(\n",
       "                                      2 ⎜          ⎝dr      ⎠             ⎝dr \n",
       "                                     L ⋅⎜- ─────────────────── - ─────────────\n",
       "                                        ⎝           4                     4   \n",
       "  0                                  ─────────────────────────────────────────\n",
       "                                                               2     2        \n",
       "                                                              r  + r₀         \n",
       "\n",
       "                     ⎤\n",
       "                     ⎥\n",
       "                     ⎥\n",
       "                     ⎥\n",
       "                     ⎥\n",
       "                     ⎥\n",
       "                     ⎥\n",
       "                     ⎥\n",
       "                     ⎥\n",
       "                     ⎥\n",
       "  2          ⎞       ⎥\n",
       " ⎞       2   ⎟       ⎥\n",
       ")⎟  + 4⋅Φ (r)⎟⋅cos(θ)⎥\n",
       " ⎠           ⎠       ⎥\n",
       "─────────────────────⎥\n",
       "                     ⎥\n",
       "                     ⎥\n",
       "                     ⎥\n",
       "                     ⎥\n",
       "                     ⎥\n",
       "                     ⎥\n",
       "                     ⎥\n",
       "                     ⎥\n",
       "                     ⎥\n",
       "                     ⎥\n",
       "                     ⎥\n",
       "                     ⎥\n",
       "                     ⎥\n",
       "      2        ⎞     ⎥\n",
       "     ⎞         ⎟     ⎥\n",
       "Φ(r))⎟         ⎟     ⎥\n",
       "     ⎠     2   ⎟     ⎥\n",
       "─────── + Φ (r)⎟     ⎥\n",
       "               ⎠     ⎥\n",
       "────────────────     ⎥\n",
       "                     ⎥\n",
       "                     ⎦"
      ]
     },
     "execution_count": 216,
     "metadata": {},
     "output_type": "execute_result"
    }
   ],
   "source": [
    "energy_momentum = 2 * (T_contracted_1 - metric_array / 4 * T_contracted_2)\n",
    "energy_momentum = sympy.simplify(energy_momentum)\n",
    "energy_momentum"
   ]
  },
  {
   "cell_type": "markdown",
   "id": "af695755",
   "metadata": {},
   "source": [
    "Inspect equations."
   ]
  },
  {
   "cell_type": "code",
   "execution_count": 217,
   "id": "151ae841",
   "metadata": {},
   "outputs": [
    {
     "data": {
      "image/png": "[encoded data removed]",
      "text/latex": [
       "$\\displaystyle \\frac{3 \\left(- L^{2} \\left(r^{3} \\frac{d}{d r} f{\\left(r \\right)} + r r_{0}^{2} \\frac{d}{d r} f{\\left(r \\right)} + 2 r_{0}^{2} f{\\left(r \\right)}\\right) + 2 r^{4} + 4 r^{2} r_{0}^{2} + 2 r_{0}^{4}\\right)}{2 L^{2} \\left(r^{4} + 2 r^{2} r_{0}^{2} + r_{0}^{4}\\right) f{\\left(r \\right)}}$"
      ],
      "text/plain": [
       "  ⎛   2 ⎛ 3 d              2 d              2     ⎞      4      2   2       4⎞\n",
       "3⋅⎜- L ⋅⎜r ⋅──(f(r)) + r⋅r₀ ⋅──(f(r)) + 2⋅r₀ ⋅f(r)⎟ + 2⋅r  + 4⋅r ⋅r₀  + 2⋅r₀ ⎟\n",
       "  ⎝     ⎝   dr               dr                   ⎠                          ⎠\n",
       "──────────────────────────────────────────────────────────────────────────────\n",
       "                          2 ⎛ 4      2   2     4⎞                             \n",
       "                       2⋅L ⋅⎝r  + 2⋅r ⋅r₀  + r₀ ⎠⋅f(r)                        "
      ]
     },
     "execution_count": 217,
     "metadata": {},
     "output_type": "execute_result"
    }
   ],
   "source": [
    "einstein_tensor[0, 0]"
   ]
  },
  {
   "cell_type": "code",
   "execution_count": 218,
   "id": "e185cc78",
   "metadata": {},
   "outputs": [
    {
     "data": {
      "image/png": "[encoded data removed]",
      "text/latex": [
       "$\\displaystyle \\frac{3 L^{2} \\left(r^{2} f{\\left(r \\right)} \\left(\\frac{d}{d r} \\Phi{\\left(r \\right)}\\right)^{2} + r_{0}^{2} f{\\left(r \\right)} \\left(\\frac{d}{d r} \\Phi{\\left(r \\right)}\\right)^{2} - 4 \\Phi^{2}{\\left(r \\right)}\\right)}{\\left(r^{4} + 2 r^{2} r_{0}^{2} + r_{0}^{4}\\right) f{\\left(r \\right)}}$"
      ],
      "text/plain": [
       "     ⎛                  2                      2          ⎞\n",
       "   2 ⎜ 2      ⎛d       ⎞      2      ⎛d       ⎞       2   ⎟\n",
       "3⋅L ⋅⎜r ⋅f(r)⋅⎜──(Φ(r))⎟  + r₀ ⋅f(r)⋅⎜──(Φ(r))⎟  - 4⋅Φ (r)⎟\n",
       "     ⎝        ⎝dr      ⎠             ⎝dr      ⎠           ⎠\n",
       "───────────────────────────────────────────────────────────\n",
       "                 ⎛ 4      2   2     4⎞                     \n",
       "                 ⎝r  + 2⋅r ⋅r₀  + r₀ ⎠⋅f(r)                "
      ]
     },
     "execution_count": 218,
     "metadata": {},
     "output_type": "execute_result"
    }
   ],
   "source": [
    "energy_momentum[0, 0]"
   ]
  },
  {
   "cell_type": "code",
   "execution_count": 219,
   "id": "a74a9bca",
   "metadata": {},
   "outputs": [
    {
     "data": {
      "image/png": "[encoded data removed]",
      "text/latex": [
       "$\\displaystyle \\frac{L^{2} \\left(- r^{3} \\frac{d}{d r} f{\\left(r \\right)} - 4 r^{2} f{\\left(r \\right)} + 4 r^{2} - r r_{0}^{2} \\frac{d}{d r} f{\\left(r \\right)} - 2 r_{0}^{2} f{\\left(r \\right)} + 4 r_{0}^{2}\\right) + 6 \\left(r^{2} + r_{0}^{2}\\right)^{2}}{8 L^{2} \\left(r^{2} + r_{0}^{2}\\right)}$"
      ],
      "text/plain": [
       "                                                                              \n",
       " 2 ⎛   3 d             2           2       2 d              2            2⎞   \n",
       "L ⋅⎜- r ⋅──(f(r)) - 4⋅r ⋅f(r) + 4⋅r  - r⋅r₀ ⋅──(f(r)) - 2⋅r₀ ⋅f(r) + 4⋅r₀ ⎟ + \n",
       "   ⎝     dr                                  dr                           ⎠   \n",
       "──────────────────────────────────────────────────────────────────────────────\n",
       "                                         2 ⎛ 2     2⎞                         \n",
       "                                      8⋅L ⋅⎝r  + r₀ ⎠                         \n",
       "\n",
       "            2\n",
       "  ⎛ 2     2⎞ \n",
       "6⋅⎝r  + r₀ ⎠ \n",
       "             \n",
       "─────────────\n",
       "             \n",
       "             "
      ]
     },
     "execution_count": 219,
     "metadata": {},
     "output_type": "execute_result"
    }
   ],
   "source": [
    "einstein_tensor[1, 1]"
   ]
  },
  {
   "cell_type": "code",
   "execution_count": 220,
   "id": "15dd9e5e",
   "metadata": {},
   "outputs": [
    {
     "data": {
      "image/png": "[encoded data removed]",
      "text/latex": [
       "$\\displaystyle \\frac{L^{2} \\left(- \\frac{r^{2} f{\\left(r \\right)} \\left(\\frac{d}{d r} \\Phi{\\left(r \\right)}\\right)^{2}}{4} - \\frac{r_{0}^{2} f{\\left(r \\right)} \\left(\\frac{d}{d r} \\Phi{\\left(r \\right)}\\right)^{2}}{4} + \\Phi^{2}{\\left(r \\right)}\\right)}{r^{2} + r_{0}^{2}}$"
      ],
      "text/plain": [
       "   ⎛                    2                      2        ⎞\n",
       "   ⎜   2      ⎛d       ⎞      2      ⎛d       ⎞         ⎟\n",
       "   ⎜  r ⋅f(r)⋅⎜──(Φ(r))⎟    r₀ ⋅f(r)⋅⎜──(Φ(r))⎟         ⎟\n",
       " 2 ⎜          ⎝dr      ⎠             ⎝dr      ⎠     2   ⎟\n",
       "L ⋅⎜- ─────────────────── - ──────────────────── + Φ (r)⎟\n",
       "   ⎝           4                     4                  ⎠\n",
       "─────────────────────────────────────────────────────────\n",
       "                          2     2                        \n",
       "                         r  + r₀                         "
      ]
     },
     "execution_count": 220,
     "metadata": {},
     "output_type": "execute_result"
    }
   ],
   "source": [
    "energy_momentum[1, 1]"
   ]
  },
  {
   "cell_type": "markdown",
   "id": "5e8d29b8",
   "metadata": {},
   "source": [
    "### Maxwell Equations"
   ]
  },
  {
   "cell_type": "code",
   "execution_count": 221,
   "id": "d660039a",
   "metadata": {},
   "outputs": [
    {
     "data": {
      "text/latex": [
       "$\\displaystyle \\left[\\begin{matrix}\\left[\\begin{matrix}- \\frac{\\frac{d}{d r} f{\\left(r \\right)}}{2 f{\\left(r \\right)}} & 0 & 0 & 0\\\\0 & - \\frac{r f{\\left(r \\right)}}{4} & 0 & - \\frac{r f{\\left(r \\right)} \\cos{\\left(\\theta \\right)}}{4}\\\\0 & 0 & - \\frac{r f{\\left(r \\right)}}{4} & 0\\\\0 & - \\frac{r f{\\left(r \\right)} \\cos{\\left(\\theta \\right)}}{4} & 0 & - \\frac{r f{\\left(r \\right)}}{4}\\end{matrix}\\right] & \\left[\\begin{matrix}0 & \\frac{r}{r^{2} + r_{0}^{2}} & 0 & 0\\\\\\frac{r}{r^{2} + r_{0}^{2}} & 0 & \\frac{1}{2 \\tan{\\left(\\theta \\right)}} & 0\\\\0 & \\frac{1}{2 \\tan{\\left(\\theta \\right)}} & 0 & - \\frac{1}{2 \\sin{\\left(\\theta \\right)}}\\\\0 & 0 & - \\frac{1}{2 \\sin{\\left(\\theta \\right)}} & 0\\end{matrix}\\right] & \\left[\\begin{matrix}0 & 0 & \\frac{r}{r^{2} + r_{0}^{2}} & 0\\\\0 & 0 & 0 & \\frac{\\sin{\\left(\\theta \\right)}}{2}\\\\\\frac{r}{r^{2} + r_{0}^{2}} & 0 & 0 & 0\\\\0 & \\frac{\\sin{\\left(\\theta \\right)}}{2} & 0 & 0\\end{matrix}\\right] & \\left[\\begin{matrix}0 & 0 & 0 & \\frac{r}{r^{2} + r_{0}^{2}}\\\\0 & 0 & - \\frac{1}{2 \\sin{\\left(\\theta \\right)}} & 0\\\\0 & - \\frac{1}{2 \\sin{\\left(\\theta \\right)}} & 0 & \\frac{1}{2 \\tan{\\left(\\theta \\right)}}\\\\\\frac{r}{r^{2} + r_{0}^{2}} & 0 & \\frac{1}{2 \\tan{\\left(\\theta \\right)}} & 0\\end{matrix}\\right]\\end{matrix}\\right]$"
      ],
      "text/plain": [
       "⎡⎡ d                                                    ⎤  ⎡             r    \n",
       "⎢⎢-──(f(r))                                             ⎥  ⎢   0      ────────\n",
       "⎢⎢ dr                                                   ⎥  ⎢           2     2\n",
       "⎢⎢──────────         0            0             0       ⎥  ⎢          r  + r₀ \n",
       "⎢⎢  2⋅f(r)                                              ⎥  ⎢                  \n",
       "⎢⎢                                                      ⎥  ⎢   r              \n",
       "⎢⎢               -r⋅f(r)                 -r⋅f(r)⋅cos(θ) ⎥  ⎢────────     0    \n",
       "⎢⎢    0          ────────         0      ───────────────⎥  ⎢ 2     2          \n",
       "⎢⎢                  4                           4       ⎥  ⎢r  + r₀           \n",
       "⎢⎢                                                      ⎥  ⎢                  \n",
       "⎢⎢                             -r⋅f(r)                  ⎥  ⎢             1    \n",
       "⎢⎢    0              0         ────────         0       ⎥  ⎢   0      ────────\n",
       "⎢⎢                                4                     ⎥  ⎢          2⋅tan(θ)\n",
       "⎢⎢                                                      ⎥  ⎢                  \n",
       "⎢⎢            -r⋅f(r)⋅cos(θ)                -r⋅f(r)     ⎥  ⎢                  \n",
       "⎢⎢    0       ───────────────     0         ────────    ⎥  ⎢   0         0    \n",
       "⎣⎣                   4                         4        ⎦  ⎣                  \n",
       "\n",
       "                    ⎤  ⎡                     r            ⎤  ⎡                \n",
       "     0         0    ⎥  ⎢   0        0     ────────    0   ⎥  ⎢   0         0  \n",
       "                    ⎥  ⎢                   2     2        ⎥  ⎢                \n",
       "                    ⎥  ⎢                  r  + r₀         ⎥  ⎢                \n",
       "                    ⎥  ⎢                                  ⎥  ⎢                \n",
       "     1              ⎥  ⎢                            sin(θ)⎥  ⎢                \n",
       "  ────────     0    ⎥  ⎢   0        0        0      ──────⎥  ⎢   0         0  \n",
       "  2⋅tan(θ)          ⎥  ⎢                              2   ⎥  ⎢                \n",
       "                    ⎥  ⎢                                  ⎥  ⎢                \n",
       "                    ⎥  ⎢   r                              ⎥  ⎢            -1  \n",
       "              -1    ⎥  ⎢────────    0        0        0   ⎥  ⎢   0      ──────\n",
       "     0      ────────⎥  ⎢ 2     2                          ⎥  ⎢          2⋅sin(\n",
       "            2⋅sin(θ)⎥  ⎢r  + r₀                           ⎥  ⎢                \n",
       "                    ⎥  ⎢                                  ⎥  ⎢   r            \n",
       "    -1              ⎥  ⎢          sin(θ)                  ⎥  ⎢────────     0  \n",
       "  ────────     0    ⎥  ⎢   0      ──────     0        0   ⎥  ⎢ 2     2        \n",
       "  2⋅sin(θ)          ⎦  ⎣            2                     ⎦  ⎣r  + r₀         \n",
       "\n",
       "                 r    ⎤⎤\n",
       "       0      ────────⎥⎥\n",
       "               2     2⎥⎥\n",
       "              r  + r₀ ⎥⎥\n",
       "                      ⎥⎥\n",
       "      -1              ⎥⎥\n",
       "    ────────     0    ⎥⎥\n",
       "    2⋅sin(θ)          ⎥⎥\n",
       "                      ⎥⎥\n",
       "                 1    ⎥⎥\n",
       "──     0      ────────⎥⎥\n",
       "θ)            2⋅tan(θ)⎥⎥\n",
       "                      ⎥⎥\n",
       "       1              ⎥⎥\n",
       "    ────────     0    ⎥⎥\n",
       "    2⋅tan(θ)          ⎥⎥\n",
       "                      ⎦⎦"
      ]
     },
     "execution_count": 221,
     "metadata": {},
     "output_type": "execute_result"
    }
   ],
   "source": [
    "ch = ChristoffelSymbols.from_metric(sch)\n",
    "ch = ch.tensor().simplify()\n",
    "ch"
   ]
  },
  {
   "cell_type": "markdown",
   "id": "18d4ac39",
   "metadata": {},
   "source": [
    "Raise indices on the field strength tensor."
   ]
  },
  {
   "cell_type": "code",
   "execution_count": 222,
   "id": "6b438254",
   "metadata": {},
   "outputs": [
    {
     "data": {
      "text/latex": [
       "$\\displaystyle \\left[\\begin{matrix}0 & \\frac{2 L f{\\left(r \\right)} \\frac{d}{d r} \\Phi{\\left(r \\right)}}{r^{2} + r_{0}^{2}} & 0 & 0\\\\- \\frac{2 L f{\\left(r \\right)} \\frac{d}{d r} \\Phi{\\left(r \\right)}}{r^{2} + r_{0}^{2}} & 0 & - \\frac{8 L \\Phi{\\left(r \\right)}}{\\left(r^{2} + r_{0}^{2}\\right)^{2} \\tan{\\left(\\theta \\right)}} & 0\\\\0 & \\frac{8 L \\Phi{\\left(r \\right)}}{\\left(r^{2} + r_{0}^{2}\\right)^{2} \\tan{\\left(\\theta \\right)}} & 0 & - \\frac{8 L \\Phi{\\left(r \\right)}}{\\left(r^{2} + r_{0}^{2}\\right)^{2} \\sin{\\left(\\theta \\right)}}\\\\0 & 0 & \\frac{8 L \\Phi{\\left(r \\right)}}{\\left(r^{2} + r_{0}^{2}\\right)^{2} \\sin{\\left(\\theta \\right)}} & 0\\end{matrix}\\right]$"
      ],
      "text/plain": [
       "⎡                              d                                              \n",
       "⎢                     2⋅L⋅f(r)⋅──(Φ(r))                                       \n",
       "⎢                              dr                                             \n",
       "⎢         0           ─────────────────           0                   0       \n",
       "⎢                           2     2                                           \n",
       "⎢                          r  + r₀                                            \n",
       "⎢                                                                             \n",
       "⎢          d                                                                  \n",
       "⎢-2⋅L⋅f(r)⋅──(Φ(r))                                                           \n",
       "⎢          dr                                 -8⋅L⋅Φ(r)                       \n",
       "⎢───────────────────          0           ──────────────────          0       \n",
       "⎢       2     2                                     2                         \n",
       "⎢      r  + r₀                            ⎛ 2     2⎞                          \n",
       "⎢                                         ⎝r  + r₀ ⎠ ⋅tan(θ)                  \n",
       "⎢                                                                             \n",
       "⎢                          8⋅L⋅Φ(r)                               -8⋅L⋅Φ(r)   \n",
       "⎢         0           ──────────────────          0           ────────────────\n",
       "⎢                               2                                       2     \n",
       "⎢                     ⎛ 2     2⎞                              ⎛ 2     2⎞      \n",
       "⎢                     ⎝r  + r₀ ⎠ ⋅tan(θ)                      ⎝r  + r₀ ⎠ ⋅sin(\n",
       "⎢                                                                             \n",
       "⎢                                              8⋅L⋅Φ(r)                       \n",
       "⎢         0                   0           ──────────────────          0       \n",
       "⎢                                                   2                         \n",
       "⎢                                         ⎛ 2     2⎞                          \n",
       "⎣                                         ⎝r  + r₀ ⎠ ⋅sin(θ)                  \n",
       "\n",
       "  ⎤\n",
       "  ⎥\n",
       "  ⎥\n",
       "  ⎥\n",
       "  ⎥\n",
       "  ⎥\n",
       "  ⎥\n",
       "  ⎥\n",
       "  ⎥\n",
       "  ⎥\n",
       "  ⎥\n",
       "  ⎥\n",
       "  ⎥\n",
       "  ⎥\n",
       "  ⎥\n",
       "  ⎥\n",
       "──⎥\n",
       "  ⎥\n",
       "  ⎥\n",
       "θ)⎥\n",
       "  ⎥\n",
       "  ⎥\n",
       "  ⎥\n",
       "  ⎥\n",
       "  ⎥\n",
       "  ⎦"
      ]
     },
     "execution_count": 222,
     "metadata": {},
     "output_type": "execute_result"
    }
   ],
   "source": [
    "Fgg_tensor = TensorHead('Fgg', [Euclidean] * 6)\n",
    "Fgg_matrix = sympy.tensorproduct(F_3, metric_inv, metric_inv)\n",
    "repl = {Fgg_tensor(-i0, -i1, i2, i3, i4, i5): Fgg_matrix}\n",
    "F_upper_indices = Fgg_tensor(-i0, -i1, i0, i2, i1, i3).replace_with_arrays(repl)\n",
    "F_upper_indices = sympy.simplify(F_upper_indices)\n",
    "F_upper_indices"
   ]
  },
  {
   "cell_type": "code",
   "execution_count": 223,
   "id": "66e25f69",
   "metadata": {},
   "outputs": [
    {
     "data": {
      "text/latex": [
       "$\\displaystyle \\left[\\begin{matrix}0 & \\frac{L \\frac{d}{d r} \\Phi{\\left(r \\right)}}{2} & 0 & \\frac{L \\cos{\\left(\\theta \\right)} \\frac{d}{d r} \\Phi{\\left(r \\right)}}{2}\\\\- \\frac{L \\frac{d}{d r} \\Phi{\\left(r \\right)}}{2} & 0 & 0 & 0\\\\0 & 0 & 0 & - \\frac{L \\Phi{\\left(r \\right)} \\sin{\\left(\\theta \\right)}}{2}\\\\- \\frac{L \\cos{\\left(\\theta \\right)} \\frac{d}{d r} \\Phi{\\left(r \\right)}}{2} & 0 & \\frac{L \\Phi{\\left(r \\right)} \\sin{\\left(\\theta \\right)}}{2} & 0\\end{matrix}\\right]$"
      ],
      "text/plain": [
       "⎡                       d                                 d       ⎤\n",
       "⎢                     L⋅──(Φ(r))                 L⋅cos(θ)⋅──(Φ(r))⎥\n",
       "⎢                       dr                                dr      ⎥\n",
       "⎢         0           ──────────        0        ─────────────────⎥\n",
       "⎢                         2                              2        ⎥\n",
       "⎢                                                                 ⎥\n",
       "⎢      d                                                          ⎥\n",
       "⎢   -L⋅──(Φ(r))                                                   ⎥\n",
       "⎢      dr                                                         ⎥\n",
       "⎢   ────────────          0             0                0        ⎥\n",
       "⎢        2                                                        ⎥\n",
       "⎢                                                                 ⎥\n",
       "⎢                                                 -L⋅Φ(r)⋅sin(θ)  ⎥\n",
       "⎢         0               0             0         ─────────────── ⎥\n",
       "⎢                                                        2        ⎥\n",
       "⎢                                                                 ⎥\n",
       "⎢          d                                                      ⎥\n",
       "⎢-L⋅cos(θ)⋅──(Φ(r))                                               ⎥\n",
       "⎢          dr                     L⋅Φ(r)⋅sin(θ)                   ⎥\n",
       "⎢───────────────────      0       ─────────────          0        ⎥\n",
       "⎣         2                             2                         ⎦"
      ]
     },
     "execution_count": 223,
     "metadata": {},
     "output_type": "execute_result"
    }
   ],
   "source": [
    "F_3"
   ]
  },
  {
   "cell_type": "markdown",
   "id": "339f2844",
   "metadata": {},
   "source": [
    "Compute partial derivative of field strength."
   ]
  },
  {
   "cell_type": "code",
   "execution_count": 224,
   "id": "8a73d478",
   "metadata": {},
   "outputs": [],
   "source": [
    "partial_F = sympy.MutableDenseNDimArray.zeros(4, 4, 4)\n",
    "for i in range(4):\n",
    "    for j in range(4):\n",
    "        for k in range(4):\n",
    "            partial_F[i, j, k] = sympy.diff(F_upper_indices[j, k], x[i]) "
   ]
  },
  {
   "cell_type": "code",
   "execution_count": 225,
   "id": "4e3052ac",
   "metadata": {},
   "outputs": [
    {
     "data": {
      "text/latex": [
       "$\\displaystyle \\left[\\begin{matrix}0 & \\frac{2 L \\left(- 2 r f{\\left(r \\right)} \\frac{d}{d r} \\Phi{\\left(r \\right)} + \\left(r^{2} + r_{0}^{2}\\right) \\left(f{\\left(r \\right)} \\frac{d^{2}}{d r^{2}} \\Phi{\\left(r \\right)} + \\frac{d}{d r} \\Phi{\\left(r \\right)} \\frac{d}{d r} f{\\left(r \\right)}\\right)\\right)}{\\left(r^{2} + r_{0}^{2}\\right)^{2}} & 0 & 0\\\\\\frac{2 L \\left(2 r f{\\left(r \\right)} \\frac{d}{d r} \\Phi{\\left(r \\right)} - \\left(r^{2} + r_{0}^{2}\\right) \\left(f{\\left(r \\right)} \\frac{d^{2}}{d r^{2}} \\Phi{\\left(r \\right)} + \\frac{d}{d r} \\Phi{\\left(r \\right)} \\frac{d}{d r} f{\\left(r \\right)}\\right)\\right)}{\\left(r^{2} + r_{0}^{2}\\right)^{2}} & 0 & \\frac{8 L \\left(4 r \\Phi{\\left(r \\right)} - \\left(r^{2} + r_{0}^{2}\\right) \\frac{d}{d r} \\Phi{\\left(r \\right)}\\right)}{\\left(r^{2} + r_{0}^{2}\\right)^{3} \\tan{\\left(\\theta \\right)}} & 0\\\\0 & \\frac{8 L \\left(- 4 r \\Phi{\\left(r \\right)} + \\left(r^{2} + r_{0}^{2}\\right) \\frac{d}{d r} \\Phi{\\left(r \\right)}\\right)}{\\left(r^{2} + r_{0}^{2}\\right)^{3} \\tan{\\left(\\theta \\right)}} & 0 & \\frac{8 L \\left(4 r \\Phi{\\left(r \\right)} - \\left(r^{2} + r_{0}^{2}\\right) \\frac{d}{d r} \\Phi{\\left(r \\right)}\\right)}{\\left(r^{2} + r_{0}^{2}\\right)^{3} \\sin{\\left(\\theta \\right)}}\\\\0 & 0 & \\frac{8 L \\left(- 4 r \\Phi{\\left(r \\right)} + \\left(r^{2} + r_{0}^{2}\\right) \\frac{d}{d r} \\Phi{\\left(r \\right)}\\right)}{\\left(r^{2} + r_{0}^{2}\\right)^{3} \\sin{\\left(\\theta \\right)}} & 0\\end{matrix}\\right]$"
      ],
      "text/plain": [
       "⎡                                                                             \n",
       "⎢                                                                             \n",
       "⎢                                                                           2⋅\n",
       "⎢                                                                             \n",
       "⎢                                                                             \n",
       "⎢                                    0                                      ──\n",
       "⎢                                                                             \n",
       "⎢                                                                             \n",
       "⎢                                                                             \n",
       "⎢                                                                             \n",
       "⎢    ⎛                               ⎛       2                          ⎞⎞    \n",
       "⎢    ⎜         d          ⎛ 2     2⎞ ⎜      d          d        d       ⎟⎟    \n",
       "⎢2⋅L⋅⎜2⋅r⋅f(r)⋅──(Φ(r)) - ⎝r  + r₀ ⎠⋅⎜f(r)⋅───(Φ(r)) + ──(Φ(r))⋅──(f(r))⎟⎟    \n",
       "⎢    ⎜         dr                    ⎜       2         dr       dr      ⎟⎟    \n",
       "⎢    ⎝                               ⎝     dr                           ⎠⎠    \n",
       "⎢─────────────────────────────────────────────────────────────────────────    \n",
       "⎢                                         2                                   \n",
       "⎢                               ⎛ 2     2⎞                                    \n",
       "⎢                               ⎝r  + r₀ ⎠                                    \n",
       "⎢                                                                             \n",
       "⎢                                                                             \n",
       "⎢                                                                             \n",
       "⎢                                                                             \n",
       "⎢                                    0                                        \n",
       "⎢                                                                             \n",
       "⎢                                                                             \n",
       "⎢                                                                             \n",
       "⎢                                                                             \n",
       "⎢                                                                             \n",
       "⎢                                                                             \n",
       "⎢                                                                             \n",
       "⎢                                    0                                        \n",
       "⎢                                                                             \n",
       "⎢                                                                             \n",
       "⎣                                                                             \n",
       "\n",
       "  ⎛                                 ⎛       2                          ⎞⎞     \n",
       "  ⎜           d          ⎛ 2     2⎞ ⎜      d          d        d       ⎟⎟     \n",
       "L⋅⎜- 2⋅r⋅f(r)⋅──(Φ(r)) + ⎝r  + r₀ ⎠⋅⎜f(r)⋅───(Φ(r)) + ──(Φ(r))⋅──(f(r))⎟⎟     \n",
       "  ⎜           dr                    ⎜       2         dr       dr      ⎟⎟     \n",
       "  ⎝                                 ⎝     dr                           ⎠⎠     \n",
       "─────────────────────────────────────────────────────────────────────────     \n",
       "                                        2                                     \n",
       "                              ⎛ 2     2⎞                                      \n",
       "                              ⎝r  + r₀ ⎠                                      \n",
       "                                                                              \n",
       "                                                                              \n",
       "                                                                              \n",
       "                                                                              \n",
       "                                                                           8⋅L\n",
       "                                                                              \n",
       "                                   0                                       ───\n",
       "                                                                              \n",
       "                                                                              \n",
       "                                                                              \n",
       "                                                                              \n",
       "                     ⎛            ⎛ 2     2⎞ d       ⎞                        \n",
       "                 8⋅L⋅⎜-4⋅r⋅Φ(r) + ⎝r  + r₀ ⎠⋅──(Φ(r))⎟                        \n",
       "                     ⎝                       dr      ⎠                        \n",
       "                 ─────────────────────────────────────                        \n",
       "                                     3                                        \n",
       "                           ⎛ 2     2⎞                                         \n",
       "                           ⎝r  + r₀ ⎠ ⋅tan(θ)                                 \n",
       "                                                                              \n",
       "                                                                              \n",
       "                                                                           8⋅L\n",
       "                                                                              \n",
       "                                   0                                       ───\n",
       "                                                                              \n",
       "                                                                              \n",
       "                                                                              \n",
       "\n",
       "                                                                        ⎤\n",
       "                                                                        ⎥\n",
       "                                                                        ⎥\n",
       "                                                                        ⎥\n",
       "                                                                        ⎥\n",
       "               0                                     0                  ⎥\n",
       "                                                                        ⎥\n",
       "                                                                        ⎥\n",
       "                                                                        ⎥\n",
       "                                                                        ⎥\n",
       "                                                                        ⎥\n",
       "                                                                        ⎥\n",
       " ⎛           ⎛ 2     2⎞ d       ⎞                                       ⎥\n",
       "⋅⎜4⋅r⋅Φ(r) - ⎝r  + r₀ ⎠⋅──(Φ(r))⎟                                       ⎥\n",
       " ⎝                      dr      ⎠                                       ⎥\n",
       "─────────────────────────────────                    0                  ⎥\n",
       "                3                                                       ⎥\n",
       "      ⎛ 2     2⎞                                                        ⎥\n",
       "      ⎝r  + r₀ ⎠ ⋅tan(θ)                                                ⎥\n",
       "                                                                        ⎥\n",
       "                                        ⎛           ⎛ 2     2⎞ d       ⎞⎥\n",
       "                                    8⋅L⋅⎜4⋅r⋅Φ(r) - ⎝r  + r₀ ⎠⋅──(Φ(r))⎟⎥\n",
       "                                        ⎝                      dr      ⎠⎥\n",
       "               0                    ────────────────────────────────────⎥\n",
       "                                                       3                ⎥\n",
       "                                             ⎛ 2     2⎞                 ⎥\n",
       "                                             ⎝r  + r₀ ⎠ ⋅sin(θ)         ⎥\n",
       "                                                                        ⎥\n",
       " ⎛            ⎛ 2     2⎞ d       ⎞                                      ⎥\n",
       "⋅⎜-4⋅r⋅Φ(r) + ⎝r  + r₀ ⎠⋅──(Φ(r))⎟                                      ⎥\n",
       " ⎝                       dr      ⎠                                      ⎥\n",
       "──────────────────────────────────                   0                  ⎥\n",
       "                 3                                                      ⎥\n",
       "       ⎛ 2     2⎞                                                       ⎥\n",
       "       ⎝r  + r₀ ⎠ ⋅sin(θ)                                               ⎦"
      ]
     },
     "execution_count": 225,
     "metadata": {},
     "output_type": "execute_result"
    }
   ],
   "source": [
    "sympy.simplify(partial_F[0])"
   ]
  },
  {
   "cell_type": "code",
   "execution_count": 226,
   "id": "fdb0973e",
   "metadata": {},
   "outputs": [],
   "source": [
    "partial_F_tensor = TensorHead('partialF', [Euclidean] * 3)\n",
    "repl = {partial_F_tensor(-i0, i1, i2): partial_F}\n",
    "partial_F_contracted = partial_F_tensor(-i0, i0, i1).replace_with_arrays(repl)"
   ]
  },
  {
   "cell_type": "markdown",
   "id": "edcac46d",
   "metadata": {},
   "source": [
    "Add contractions with Christoffel symbols."
   ]
  },
  {
   "cell_type": "code",
   "execution_count": 227,
   "id": "96e4a4bb",
   "metadata": {},
   "outputs": [
    {
     "data": {
      "text/latex": [
       "$\\displaystyle \\left[\\begin{matrix}0 & \\frac{L \\left(2 r f{\\left(r \\right)} \\frac{d}{d r} \\Phi{\\left(r \\right)} + \\left(r^{2} + r_{0}^{2}\\right) \\left(2 f{\\left(r \\right)} \\frac{d^{2}}{d r^{2}} \\Phi{\\left(r \\right)} + \\frac{d}{d r} \\Phi{\\left(r \\right)} \\frac{d}{d r} f{\\left(r \\right)}\\right) - 8 \\Phi{\\left(r \\right)}\\right)}{\\left(r^{2} + r_{0}^{2}\\right)^{2}} & 0 & 0\\end{matrix}\\right]$"
      ],
      "text/plain": [
       "⎡     ⎛                               ⎛         2                          ⎞  \n",
       "⎢     ⎜         d          ⎛ 2     2⎞ ⎜        d          d        d       ⎟  \n",
       "⎢   L⋅⎜2⋅r⋅f(r)⋅──(Φ(r)) + ⎝r  + r₀ ⎠⋅⎜2⋅f(r)⋅───(Φ(r)) + ──(Φ(r))⋅──(f(r))⎟ -\n",
       "⎢     ⎜         dr                    ⎜         2         dr       dr      ⎟  \n",
       "⎢     ⎝                               ⎝       dr                           ⎠  \n",
       "⎢0  ──────────────────────────────────────────────────────────────────────────\n",
       "⎢                                                2                            \n",
       "⎢                                      ⎛ 2     2⎞                             \n",
       "⎣                                      ⎝r  + r₀ ⎠                             \n",
       "\n",
       "       ⎞      ⎤\n",
       "       ⎟      ⎥\n",
       " 8⋅Φ(r)⎟      ⎥\n",
       "       ⎟      ⎥\n",
       "       ⎠      ⎥\n",
       "────────  0  0⎥\n",
       "              ⎥\n",
       "              ⎥\n",
       "              ⎦"
      ]
     },
     "execution_count": 227,
     "metadata": {},
     "output_type": "execute_result"
    }
   ],
   "source": [
    "lambda_F_tensor = TensorHead('lambdaF', [Euclidean] * 5)\n",
    "lambda_F_matrix = sympy.tensorproduct(ch, F_upper_indices)\n",
    "repl = {lambda_F_tensor(i0, -i1, -i2, i3, i4): lambda_F_matrix}\n",
    "partial_F_contracted += lambda_F_tensor(i0, -i0, -i1, i1, i2).replace_with_arrays(repl)\n",
    "partial_F_contracted += lambda_F_tensor(i0, -i1, -i2, i1, i2).replace_with_arrays(repl)\n",
    "partial_F_contracted = sympy.simplify(partial_F_contracted)\n",
    "partial_F_contracted"
   ]
  },
  {
   "cell_type": "code",
   "execution_count": 228,
   "id": "79adf93d",
   "metadata": {},
   "outputs": [
    {
     "data": {
      "image/png": "[encoded data removed]",
      "text/latex": [
       "$\\displaystyle \\frac{L \\left(2 r f{\\left(r \\right)} \\frac{d}{d r} \\Phi{\\left(r \\right)} + \\left(r^{2} + r_{0}^{2}\\right) \\left(2 f{\\left(r \\right)} \\frac{d^{2}}{d r^{2}} \\Phi{\\left(r \\right)} + \\frac{d}{d r} \\Phi{\\left(r \\right)} \\frac{d}{d r} f{\\left(r \\right)}\\right) - 8 \\Phi{\\left(r \\right)}\\right)}{\\left(r^{2} + r_{0}^{2}\\right)^{2}}$"
      ],
      "text/plain": [
       "  ⎛                               ⎛         2                          ⎞      \n",
       "  ⎜         d          ⎛ 2     2⎞ ⎜        d          d        d       ⎟      \n",
       "L⋅⎜2⋅r⋅f(r)⋅──(Φ(r)) + ⎝r  + r₀ ⎠⋅⎜2⋅f(r)⋅───(Φ(r)) + ──(Φ(r))⋅──(f(r))⎟ - 8⋅Φ\n",
       "  ⎜         dr                    ⎜         2         dr       dr      ⎟      \n",
       "  ⎝                               ⎝       dr                           ⎠      \n",
       "──────────────────────────────────────────────────────────────────────────────\n",
       "                                             2                                \n",
       "                                   ⎛ 2     2⎞                                 \n",
       "                                   ⎝r  + r₀ ⎠                                 \n",
       "\n",
       "   ⎞\n",
       "   ⎟\n",
       "(r)⎟\n",
       "   ⎟\n",
       "   ⎠\n",
       "────\n",
       "    \n",
       "    \n",
       "    "
      ]
     },
     "execution_count": 228,
     "metadata": {},
     "output_type": "execute_result"
    }
   ],
   "source": [
    "partial_F_contracted[1]"
   ]
  },
  {
   "cell_type": "markdown",
   "id": "b6359e6f",
   "metadata": {},
   "source": [
    "This is the same equation as Eq. (4.17) in the paper, once you set the numerator to zero and integrate."
   ]
  },
  {
   "cell_type": "markdown",
   "id": "2480d493",
   "metadata": {},
   "source": [
    "### Chemical Potential"
   ]
  },
  {
   "cell_type": "code",
   "execution_count": 229,
   "id": "1dfb3068",
   "metadata": {},
   "outputs": [],
   "source": [
    "import matplotlib.pyplot as plt\n",
    "import numpy as np\n",
    "from scipy.optimize import fmin\n",
    "from scipy.special import ellipk"
   ]
  },
  {
   "cell_type": "code",
   "execution_count": 230,
   "id": "d3a7a544",
   "metadata": {},
   "outputs": [],
   "source": [
    "def get_phi_0(phi_star):\n",
    "    a = (1 + 16 * phi_star ** 2) ** (1./4)\n",
    "    b = np.sqrt((a ** 2 - 1) / 2)\n",
    "    return phi_star * np.cosh(2 / b * ellipk(1 - a ** 2 / b ** 2))"
   ]
  },
  {
   "cell_type": "code",
   "execution_count": 231,
   "id": "0d8c6d77",
   "metadata": {},
   "outputs": [],
   "source": [
    "phi_star = np.arange(0.01, 10, 0.1)"
   ]
  },
  {
   "cell_type": "code",
   "execution_count": 232,
   "id": "6ebf350b",
   "metadata": {},
   "outputs": [],
   "source": [
    "phi_0 = get_phi_0(phi_star)"
   ]
  },
  {
   "cell_type": "code",
   "execution_count": 233,
   "id": "b47dc6be",
   "metadata": {},
   "outputs": [
    {
     "data": {
      "image/png": "[encoded data removed]",
      "text/plain": [
       "<Figure size 640x480 with 1 Axes>"
      ]
     },
     "metadata": {},
     "output_type": "display_data"
    }
   ],
   "source": [
    "plt.plot(phi_star, phi_0)\n",
    "plt.ylim([0, 20]);"
   ]
  },
  {
   "cell_type": "markdown",
   "id": "6b631f6b",
   "metadata": {},
   "source": [
    "Get minimum of function."
   ]
  },
  {
   "cell_type": "code",
   "execution_count": 234,
   "id": "f2c0b7c4",
   "metadata": {},
   "outputs": [
    {
     "name": "stdout",
     "output_type": "stream",
     "text": [
      "Optimization terminated successfully.\n",
      "         Current function value: 3.563349\n",
      "         Iterations: 10\n",
      "         Function evaluations: 20\n"
     ]
    },
    {
     "data": {
      "text/plain": [
       "array([1.00234375])"
      ]
     },
     "execution_count": 234,
     "metadata": {},
     "output_type": "execute_result"
    }
   ],
   "source": [
    "fmin(get_phi_0, 1)"
   ]
  },
  {
   "cell_type": "code",
   "execution_count": 235,
   "id": "33e8563c",
   "metadata": {},
   "outputs": [],
   "source": [
    "def get_r0_over_L(phi_star):\n",
    "    a = (1 + 16 * phi_star ** 2) ** (1./4)\n",
    "    return np.sqrt((a ** 2 - 1) / 2)"
   ]
  },
  {
   "cell_type": "code",
   "execution_count": 236,
   "id": "0ac397a1",
   "metadata": {},
   "outputs": [],
   "source": [
    "r0_over_L = get_r0_over_L(phi_star)"
   ]
  },
  {
   "cell_type": "code",
   "execution_count": 237,
   "id": "ab22c0b5",
   "metadata": {},
   "outputs": [
    {
     "data": {
      "image/png": "[encoded data removed]",
      "text/plain": [
       "<Figure size 640x480 with 1 Axes>"
      ]
     },
     "metadata": {},
     "output_type": "display_data"
    }
   ],
   "source": [
    "plt.plot(phi_0, r0_over_L)\n",
    "plt.xlim([0, 20]);"
   ]
  }
 ],
 "metadata": {
  "kernelspec": {
   "display_name": "Python 3.10.3 ('env': venv)",
   "language": "python",
   "name": "python3"
  },
  "language_info": {
   "codemirror_mode": {
    "name": "ipython",
    "version": 3
   },
   "file_extension": ".py",
   "mimetype": "text/x-python",
   "name": "python",
   "nbconvert_exporter": "python",
   "pygments_lexer": "ipython3",
   "version": "3.10.3"
  },
  "vscode": {
   "interpreter": {
    "hash": "c4cf3c24cb46a3fd1f6949e64220e8351ad1410e125a86590159f01143d71e6f"
   }
  }
 },
 "nbformat": 4,
 "nbformat_minor": 5
}
