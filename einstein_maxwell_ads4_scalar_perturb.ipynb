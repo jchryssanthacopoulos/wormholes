{
 "cells": [
  {
   "cell_type": "code",
   "execution_count": 1,
   "id": "6d9963f1",
   "metadata": {},
   "outputs": [],
   "source": [
    "import sympy\n",
    "from sympy.tensor.tensor import TensorIndexType, TensorIndex, TensorHead, tensor_indices, TensorSymmetry\n",
    "from einsteinpy.symbolic import RicciTensor, RicciScalar, MetricTensor, ChristoffelSymbols\n",
    "\n",
    "sympy.init_printing()"
   ]
  },
  {
   "cell_type": "markdown",
   "id": "4bed673d",
   "metadata": {},
   "source": [
    "### Quadratic Action"
   ]
  },
  {
   "cell_type": "markdown",
   "id": "5e2d3d68",
   "metadata": {},
   "source": [
    "First compute the action that is quadratic in the perturbations."
   ]
  },
  {
   "cell_type": "markdown",
   "id": "7cd90310",
   "metadata": {},
   "source": [
    "Start with the Ricci scalar."
   ]
  },
  {
   "cell_type": "code",
   "execution_count": 2,
   "id": "32fad34e",
   "metadata": {},
   "outputs": [],
   "source": [
    "syms = sympy.symbols(\"r psi theta phi\")\n",
    "r, psi, theta, phi = syms"
   ]
  },
  {
   "cell_type": "code",
   "execution_count": 3,
   "id": "129df29a",
   "metadata": {},
   "outputs": [],
   "source": [
    "L = sympy.symbols(\"L\")  # AdS length scale\n",
    "r_0 = sympy.symbols(\"r_0\")"
   ]
  },
  {
   "cell_type": "code",
   "execution_count": 4,
   "id": "9b15ef78",
   "metadata": {},
   "outputs": [],
   "source": [
    "# spherical part of the metric\n",
    "g = sympy.Function('g')(r)"
   ]
  },
  {
   "cell_type": "code",
   "execution_count": 5,
   "id": "e266e3a3",
   "metadata": {},
   "outputs": [],
   "source": [
    "# radial part of the metric\n",
    "f = sympy.Function('f')(r)"
   ]
  },
  {
   "cell_type": "code",
   "execution_count": 6,
   "id": "5e7cb706",
   "metadata": {},
   "outputs": [],
   "source": [
    "# gauge field\n",
    "Phi = sympy.Function('Phi')(r)"
   ]
  },
  {
   "cell_type": "code",
   "execution_count": 7,
   "id": "94e4c6d7",
   "metadata": {},
   "outputs": [
    {
     "data": {
      "text/latex": [
       "$\\displaystyle \\left[\\begin{matrix}\\frac{1}{f{\\left(r \\right)}} & 0 & 0 & 0\\\\0 & \\frac{g{\\left(r \\right)}}{4} & 0 & \\frac{g{\\left(r \\right)} \\cos{\\left(\\theta \\right)}}{4}\\\\0 & 0 & \\frac{g{\\left(r \\right)}}{4} & 0\\\\0 & \\frac{g{\\left(r \\right)} \\cos{\\left(\\theta \\right)}}{4} & 0 & \\frac{g{\\left(r \\right)}}{4}\\end{matrix}\\right]$"
      ],
      "text/plain": [
       "⎡ 1                                  ⎤\n",
       "⎢────       0        0         0     ⎥\n",
       "⎢f(r)                                ⎥\n",
       "⎢                                    ⎥\n",
       "⎢         g(r)            g(r)⋅cos(θ)⎥\n",
       "⎢ 0       ────       0    ───────────⎥\n",
       "⎢          4                   4     ⎥\n",
       "⎢                                    ⎥\n",
       "⎢                   g(r)             ⎥\n",
       "⎢ 0         0       ────       0     ⎥\n",
       "⎢                    4               ⎥\n",
       "⎢                                    ⎥\n",
       "⎢      g(r)⋅cos(θ)           g(r)    ⎥\n",
       "⎢ 0    ───────────   0       ────    ⎥\n",
       "⎣           4                 4      ⎦"
      ]
     },
     "execution_count": 7,
     "metadata": {},
     "output_type": "execute_result"
    }
   ],
   "source": [
    "list2d = [[0 for i in range(4)] for i in range(4)]\n",
    "list2d[0][0] = 1 / f\n",
    "list2d[1][1] = list2d[2][2] = list2d[3][3] = g / 4\n",
    "list2d[1][3] = list2d[3][1] = g / 4 * sympy.cos(theta)\n",
    "sch = MetricTensor(list2d, syms)\n",
    "sch.tensor()"
   ]
  },
  {
   "cell_type": "markdown",
   "id": "bde72777",
   "metadata": {},
   "source": [
    "Compute the metric inverse and determinant."
   ]
  },
  {
   "cell_type": "code",
   "execution_count": 8,
   "id": "49c54335",
   "metadata": {},
   "outputs": [
    {
     "data": {
      "text/latex": [
       "$\\displaystyle \\left[\\begin{matrix}f{\\left(r \\right)} & 0 & 0 & 0\\\\0 & \\frac{4}{g{\\left(r \\right)} \\sin^{2}{\\left(\\theta \\right)}} & 0 & - \\frac{4 \\cos{\\left(\\theta \\right)}}{g{\\left(r \\right)} \\sin^{2}{\\left(\\theta \\right)}}\\\\0 & 0 & \\frac{4}{g{\\left(r \\right)}} & 0\\\\0 & - \\frac{4 \\cos{\\left(\\theta \\right)}}{g{\\left(r \\right)} \\sin^{2}{\\left(\\theta \\right)}} & 0 & \\frac{4}{g{\\left(r \\right)} \\sin^{2}{\\left(\\theta \\right)}}\\end{matrix}\\right]$"
      ],
      "text/plain": [
       "⎡f(r)       0         0         0      ⎤\n",
       "⎢                                      ⎥\n",
       "⎢           4               -4⋅cos(θ)  ⎥\n",
       "⎢ 0    ────────────   0    ────────────⎥\n",
       "⎢              2                   2   ⎥\n",
       "⎢      g(r)⋅sin (θ)        g(r)⋅sin (θ)⎥\n",
       "⎢                                      ⎥\n",
       "⎢                     4                ⎥\n",
       "⎢ 0         0        ────       0      ⎥\n",
       "⎢                    g(r)              ⎥\n",
       "⎢                                      ⎥\n",
       "⎢       -4⋅cos(θ)               4      ⎥\n",
       "⎢ 0    ────────────   0    ────────────⎥\n",
       "⎢              2                   2   ⎥\n",
       "⎣      g(r)⋅sin (θ)        g(r)⋅sin (θ)⎦"
      ]
     },
     "execution_count": 8,
     "metadata": {},
     "output_type": "execute_result"
    }
   ],
   "source": [
    "metric_inv = sympy.simplify(sympy.Matrix(list2d).inv())\n",
    "metric_inv"
   ]
  },
  {
   "cell_type": "code",
   "execution_count": 9,
   "id": "5d6e593e",
   "metadata": {},
   "outputs": [
    {
     "data": {
      "image/png": "[encoded data removed]",
      "text/latex": [
       "$\\displaystyle \\frac{g^{3}{\\left(r \\right)} \\sin^{2}{\\left(\\theta \\right)}}{64 f{\\left(r \\right)}}$"
      ],
      "text/plain": [
       " 3       2   \n",
       "g (r)⋅sin (θ)\n",
       "─────────────\n",
       "   64⋅f(r)   "
      ]
     },
     "execution_count": 9,
     "metadata": {},
     "output_type": "execute_result"
    }
   ],
   "source": [
    "det_g = sympy.Matrix(sch.tensor()).det().simplify()\n",
    "det_g"
   ]
  },
  {
   "cell_type": "code",
   "execution_count": 10,
   "id": "c08ef89f",
   "metadata": {},
   "outputs": [],
   "source": [
    "Ric = RicciTensor.from_metric(sch)"
   ]
  },
  {
   "cell_type": "markdown",
   "id": "7f85a95a",
   "metadata": {},
   "source": [
    "This quantity has been verified by hand:"
   ]
  },
  {
   "cell_type": "code",
   "execution_count": 11,
   "id": "1571302a",
   "metadata": {},
   "outputs": [
    {
     "data": {
      "image/png": "[encoded data removed]",
      "text/latex": [
       "$\\displaystyle \\frac{3 \\left(- 2 f{\\left(r \\right)} \\frac{d^{2}}{d r^{2}} g{\\left(r \\right)} - \\frac{d}{d r} f{\\left(r \\right)} \\frac{d}{d r} g{\\left(r \\right)} + 4\\right)}{2 g{\\left(r \\right)}}$"
      ],
      "text/plain": [
       "  ⎛           2                              ⎞\n",
       "  ⎜          d          d        d           ⎟\n",
       "3⋅⎜- 2⋅f(r)⋅───(g(r)) - ──(f(r))⋅──(g(r)) + 4⎟\n",
       "  ⎜           2         dr       dr          ⎟\n",
       "  ⎝         dr                               ⎠\n",
       "──────────────────────────────────────────────\n",
       "                    2⋅g(r)                    "
      ]
     },
     "execution_count": 11,
     "metadata": {},
     "output_type": "execute_result"
    }
   ],
   "source": [
    "R = RicciScalar.from_riccitensor(Ric)\n",
    "R.simplify()\n",
    "R.expr"
   ]
  },
  {
   "cell_type": "markdown",
   "id": "ecedbb82",
   "metadata": {},
   "source": [
    "Next compute the Maxwell field contribution to the action."
   ]
  },
  {
   "cell_type": "code",
   "execution_count": 12,
   "id": "98747a35",
   "metadata": {},
   "outputs": [],
   "source": [
    "\n",
    "A_1 = L / 2 * Phi * sympy.Array([0, 0, -sympy.sin(psi), sympy.cos(psi) * sympy.sin(theta)])\n",
    "A_2 = L / 2 * Phi * sympy.Array([0, 0, sympy.cos(psi), sympy.sin(psi) * sympy.sin(theta)])\n",
    "A_3 = L / 2 * Phi * sympy.Array([0, 1, 0, sympy.cos(theta)])"
   ]
  },
  {
   "cell_type": "code",
   "execution_count": 13,
   "id": "e25dd6e1",
   "metadata": {},
   "outputs": [],
   "source": [
    "x = [r, psi, theta, phi]\n",
    "def em_field_strength(A):\n",
    "    \"\"\"Compute EM field strength from the vector potential.\"\"\"    \n",
    "    F = sympy.MutableDenseNDimArray.zeros(4, 4)\n",
    "    for i in range(4):\n",
    "        for j in range(4):\n",
    "            F[i, j] = sympy.diff(A[j], x[i]) - sympy.diff(A[i], x[j])\n",
    "    return F"
   ]
  },
  {
   "cell_type": "code",
   "execution_count": 14,
   "id": "25bc08f8",
   "metadata": {},
   "outputs": [],
   "source": [
    "F_1 = em_field_strength(A_1)\n",
    "F_2 = em_field_strength(A_2)\n",
    "F_3 = em_field_strength(A_3)"
   ]
  },
  {
   "cell_type": "code",
   "execution_count": 15,
   "id": "07538646",
   "metadata": {},
   "outputs": [],
   "source": [
    "Euclidean = TensorIndexType('Euclidean', dummy_name='E')\n",
    "i0, i1, i2, i3, i4, i5, i6, i7 = tensor_indices('i0:8', Euclidean)"
   ]
  },
  {
   "cell_type": "code",
   "execution_count": 16,
   "id": "aca0ccaa",
   "metadata": {},
   "outputs": [],
   "source": [
    "FFgg_tensor = TensorHead('FFgg', [Euclidean] * 8)\n",
    "FFgg_matrix = (\n",
    "    sympy.tensorproduct(F_1, F_1, metric_inv, metric_inv) +\n",
    "    sympy.tensorproduct(F_2, F_2, metric_inv, metric_inv) +\n",
    "    sympy.tensorproduct(F_3, F_3, metric_inv, metric_inv)\n",
    ")\n",
    "repl = {FFgg_tensor(-i0, -i1, -i2, -i3, i4, i5, i6, i7): FFgg_matrix}"
   ]
  },
  {
   "cell_type": "markdown",
   "id": "f7116378",
   "metadata": {},
   "source": [
    "This quantity has been verified by hand:"
   ]
  },
  {
   "cell_type": "code",
   "execution_count": 17,
   "id": "7780c723",
   "metadata": {},
   "outputs": [
    {
     "data": {
      "image/png": "[encoded data removed]",
      "text/latex": [
       "$\\displaystyle \\frac{6 L^{2} \\cdot \\left(4 \\Phi^{2}{\\left(r \\right)} + f{\\left(r \\right)} g{\\left(r \\right)} \\left(\\frac{d}{d r} \\Phi{\\left(r \\right)}\\right)^{2}\\right)}{g^{2}{\\left(r \\right)}}$"
      ],
      "text/plain": [
       "     ⎛                              2⎞\n",
       "   2 ⎜   2                ⎛d       ⎞ ⎟\n",
       "6⋅L ⋅⎜4⋅Φ (r) + f(r)⋅g(r)⋅⎜──(Φ(r))⎟ ⎟\n",
       "     ⎝                    ⎝dr      ⎠ ⎠\n",
       "──────────────────────────────────────\n",
       "                 2                    \n",
       "                g (r)                 "
      ]
     },
     "execution_count": 17,
     "metadata": {},
     "output_type": "execute_result"
    }
   ],
   "source": [
    "FF_contracted = sympy.simplify(FFgg_tensor(-i0, -i1, -i2, -i3, i3, i1, i2, i0).replace_with_arrays(repl))\n",
    "FF_contracted"
   ]
  },
  {
   "cell_type": "markdown",
   "id": "2486c2e0",
   "metadata": {},
   "source": [
    "Get the integrand of the on-shell action."
   ]
  },
  {
   "cell_type": "code",
   "execution_count": 18,
   "id": "7986ac10",
   "metadata": {},
   "outputs": [
    {
     "data": {
      "image/png": "[encoded data removed]",
      "text/latex": [
       "$\\displaystyle \\frac{3 \\sqrt{\\frac{g^{3}{\\left(r \\right)} \\sin^{2}{\\left(\\theta \\right)}}{f{\\left(r \\right)}}} \\left(4 L^{4} \\cdot \\left(4 \\Phi^{2}{\\left(r \\right)} + f{\\left(r \\right)} g{\\left(r \\right)} \\left(\\frac{d}{d r} \\Phi{\\left(r \\right)}\\right)^{2}\\right) + L^{2} \\cdot \\left(2 f{\\left(r \\right)} \\frac{d^{2}}{d r^{2}} g{\\left(r \\right)} + \\frac{d}{d r} f{\\left(r \\right)} \\frac{d}{d r} g{\\left(r \\right)} - 4\\right) g{\\left(r \\right)} - 4 g^{2}{\\left(r \\right)}\\right)}{16 L^{2} g^{2}{\\left(r \\right)}}$"
      ],
      "text/plain": [
       "       _______________                                                        \n",
       "      ╱  3       2     ⎛     ⎛                              2⎞      ⎛         \n",
       "     ╱  g (r)⋅sin (θ)  ⎜   4 ⎜   2                ⎛d       ⎞ ⎟    2 ⎜        d\n",
       "3⋅  ╱   ───────────── ⋅⎜4⋅L ⋅⎜4⋅Φ (r) + f(r)⋅g(r)⋅⎜──(Φ(r))⎟ ⎟ + L ⋅⎜2⋅f(r)⋅──\n",
       "  ╲╱         f(r)      ⎜     ⎝                    ⎝dr      ⎠ ⎠      ⎜         \n",
       "                       ⎝                                            ⎝       dr\n",
       "──────────────────────────────────────────────────────────────────────────────\n",
       "                                                             2  2             \n",
       "                                                         16⋅L ⋅g (r)          \n",
       "\n",
       "                                                \n",
       "2                              ⎞               ⎞\n",
       "          d        d           ⎟           2   ⎟\n",
       "─(g(r)) + ──(f(r))⋅──(g(r)) - 4⎟⋅g(r) - 4⋅g (r)⎟\n",
       "2         dr       dr          ⎟               ⎟\n",
       "                               ⎠               ⎠\n",
       "────────────────────────────────────────────────\n",
       "                                                \n",
       "                                                "
      ]
     },
     "execution_count": 18,
     "metadata": {},
     "output_type": "execute_result"
    }
   ],
   "source": [
    "on_shell_action_integrand = sympy.simplify(-sympy.sqrt(det_g) * (R.expr + 6 / L ** 2 - FF_contracted))\n",
    "on_shell_action_integrand"
   ]
  },
  {
   "cell_type": "markdown",
   "id": "d76d0ee4",
   "metadata": {},
   "source": [
    "The angular part is integrated out, producing a 2pi. The remaining part is given by the following Lagrangian."
   ]
  },
  {
   "cell_type": "code",
   "execution_count": 19,
   "id": "33d41ecb",
   "metadata": {},
   "outputs": [],
   "source": [
    "df = sympy.diff(f, r)\n",
    "dg = sympy.diff(g, r)\n",
    "dPhi = sympy.diff(Phi, r)\n",
    "ddg = sympy.diff(dg, r)"
   ]
  },
  {
   "cell_type": "code",
   "execution_count": 20,
   "id": "f2fea313",
   "metadata": {},
   "outputs": [
    {
     "data": {
      "image/png": "[encoded data removed]",
      "text/latex": [
       "$\\displaystyle \\frac{12 L^{4} \\cdot \\left(4 \\Phi^{2}{\\left(r \\right)} + f{\\left(r \\right)} g{\\left(r \\right)} \\left(\\frac{d}{d r} \\Phi{\\left(r \\right)}\\right)^{2}\\right) + 3 L^{2} \\cdot \\left(2 f{\\left(r \\right)} \\frac{d^{2}}{d r^{2}} g{\\left(r \\right)} + \\frac{d}{d r} f{\\left(r \\right)} \\frac{d}{d r} g{\\left(r \\right)} - 4\\right) g{\\left(r \\right)} - 12 g^{2}{\\left(r \\right)}}{16 L^{2} \\sqrt{f{\\left(r \\right)} g{\\left(r \\right)}}}$"
      ],
      "text/plain": [
       "      ⎛                              2⎞        ⎛         2                    \n",
       "    4 ⎜   2                ⎛d       ⎞ ⎟      2 ⎜        d          d        d \n",
       "12⋅L ⋅⎜4⋅Φ (r) + f(r)⋅g(r)⋅⎜──(Φ(r))⎟ ⎟ + 3⋅L ⋅⎜2⋅f(r)⋅───(g(r)) + ──(f(r))⋅──\n",
       "      ⎝                    ⎝dr      ⎠ ⎠        ⎜         2         dr       dr\n",
       "                                               ⎝       dr                     \n",
       "──────────────────────────────────────────────────────────────────────────────\n",
       "                                               2   ___________                \n",
       "                                           16⋅L ⋅╲╱ f(r)⋅g(r)                 \n",
       "\n",
       "          ⎞                \n",
       "          ⎟            2   \n",
       "(g(r)) - 4⎟⋅g(r) - 12⋅g (r)\n",
       "          ⎟                \n",
       "          ⎠                \n",
       "───────────────────────────\n",
       "                           \n",
       "                           "
      ]
     },
     "execution_count": 20,
     "metadata": {},
     "output_type": "execute_result"
    }
   ],
   "source": [
    "lagrangian = 3 * (4 * L ** 4 * (4 * Phi ** 2 + f * g * dPhi ** 2) + L ** 2 * g * (2 * f * ddg + df * dg - 4) - 4 * g ** 2) / (16 * L ** 2 * sympy.sqrt(f * g))\n",
    "lagrangian"
   ]
  },
  {
   "cell_type": "markdown",
   "id": "a13848a3",
   "metadata": {},
   "source": [
    "The variation of the action can be expanded to second order with the following."
   ]
  },
  {
   "cell_type": "code",
   "execution_count": 21,
   "id": "0ad2bc00",
   "metadata": {},
   "outputs": [],
   "source": [
    "delta_f = sympy.Function('delta_f')(r)\n",
    "delta_g = sympy.Function('delta_g')(r)\n",
    "delta_Phi = sympy.Function('delta_Phi')(r)\n",
    "eps = sympy.symbols('e')"
   ]
  },
  {
   "cell_type": "code",
   "execution_count": 22,
   "id": "b06407ae",
   "metadata": {},
   "outputs": [
    {
     "data": {
      "image/png": "[encoded data removed]",
      "text/latex": [
       "$\\displaystyle \\frac{6 L^{2} \\Phi{\\left(r \\right)} \\delta_{\\Phi}{\\left(r \\right)}}{\\sqrt{f{\\left(r \\right)} g{\\left(r \\right)}}} + \\frac{3 L^{2} \\delta_{\\Phi}^{2}{\\left(r \\right)}}{\\sqrt{f{\\left(r \\right)} g{\\left(r \\right)}}} + \\frac{3 L^{2} f{\\left(r \\right)} g{\\left(r \\right)} \\frac{d}{d r} \\Phi{\\left(r \\right)} \\frac{d}{d r} \\delta_{\\Phi}{\\left(r \\right)}}{2 \\sqrt{f{\\left(r \\right)} g{\\left(r \\right)}}} + \\frac{3 L^{2} f{\\left(r \\right)} g{\\left(r \\right)} \\left(\\frac{d}{d r} \\delta_{\\Phi}{\\left(r \\right)}\\right)^{2}}{4 \\sqrt{f{\\left(r \\right)} g{\\left(r \\right)}}} + \\left(\\frac{3 \\delta_{f}{\\left(r \\right)} g{\\left(r \\right)}}{16 \\sqrt{f{\\left(r \\right)} g{\\left(r \\right)}}} + \\frac{3 f{\\left(r \\right)} g{\\left(r \\right)}}{8 \\sqrt{f{\\left(r \\right)} g{\\left(r \\right)}}}\\right) \\frac{d^{2}}{d r^{2}} \\delta_{g}{\\left(r \\right)} + \\left(- \\frac{3 \\delta_{f}{\\left(r \\right)} g{\\left(r \\right)} \\frac{d}{d r} f{\\left(r \\right)}}{32 \\sqrt{f{\\left(r \\right)} g{\\left(r \\right)}} f{\\left(r \\right)}} + \\frac{3 g{\\left(r \\right)} \\frac{d}{d r} \\delta_{f}{\\left(r \\right)}}{16 \\sqrt{f{\\left(r \\right)} g{\\left(r \\right)}}} + \\frac{3 g{\\left(r \\right)} \\frac{d}{d r} f{\\left(r \\right)}}{16 \\sqrt{f{\\left(r \\right)} g{\\left(r \\right)}}}\\right) \\frac{d}{d r} \\delta_{g}{\\left(r \\right)} + \\left(\\frac{9 L^{2} \\Phi^{2}{\\left(r \\right)}}{8 \\sqrt{f{\\left(r \\right)} g{\\left(r \\right)}} f^{2}{\\left(r \\right)}} - \\frac{3 L^{2} g{\\left(r \\right)} \\left(\\frac{d}{d r} \\Phi{\\left(r \\right)}\\right)^{2}}{32 \\sqrt{f{\\left(r \\right)} g{\\left(r \\right)}} f{\\left(r \\right)}} - \\frac{3 g{\\left(r \\right)} \\frac{d^{2}}{d r^{2}} g{\\left(r \\right)}}{64 \\sqrt{f{\\left(r \\right)} g{\\left(r \\right)}} f{\\left(r \\right)}} + \\frac{9 g{\\left(r \\right)} \\frac{d}{d r} f{\\left(r \\right)} \\frac{d}{d r} g{\\left(r \\right)}}{128 \\sqrt{f{\\left(r \\right)} g{\\left(r \\right)}} f^{2}{\\left(r \\right)}} - \\frac{9 g{\\left(r \\right)}}{32 \\sqrt{f{\\left(r \\right)} g{\\left(r \\right)}} f^{2}{\\left(r \\right)}} - \\frac{9 g^{2}{\\left(r \\right)}}{32 L^{2} \\sqrt{f{\\left(r \\right)} g{\\left(r \\right)}} f^{2}{\\left(r \\right)}}\\right) \\delta_{f}^{2}{\\left(r \\right)} + \\left(\\frac{9 L^{2} \\Phi^{2}{\\left(r \\right)}}{8 \\sqrt{f{\\left(r \\right)} g{\\left(r \\right)}} g^{2}{\\left(r \\right)}} - \\frac{3 L^{2} f{\\left(r \\right)} \\left(\\frac{d}{d r} \\Phi{\\left(r \\right)}\\right)^{2}}{32 \\sqrt{f{\\left(r \\right)} g{\\left(r \\right)}} g{\\left(r \\right)}} - \\frac{3 f{\\left(r \\right)} \\frac{d^{2}}{d r^{2}} g{\\left(r \\right)}}{64 \\sqrt{f{\\left(r \\right)} g{\\left(r \\right)}} g{\\left(r \\right)}} - \\frac{3 \\frac{d}{d r} f{\\left(r \\right)} \\frac{d}{d r} g{\\left(r \\right)}}{128 \\sqrt{f{\\left(r \\right)} g{\\left(r \\right)}} g{\\left(r \\right)}} + \\frac{3}{32 \\sqrt{f{\\left(r \\right)} g{\\left(r \\right)}} g{\\left(r \\right)}} - \\frac{9}{32 L^{2} \\sqrt{f{\\left(r \\right)} g{\\left(r \\right)}}}\\right) \\delta_{g}^{2}{\\left(r \\right)} + \\left(- \\frac{3 L^{2} \\Phi^{2}{\\left(r \\right)}}{2 \\sqrt{f{\\left(r \\right)} g{\\left(r \\right)}} f{\\left(r \\right)}} - \\frac{3 L^{2} \\Phi{\\left(r \\right)} \\delta_{\\Phi}{\\left(r \\right)}}{\\sqrt{f{\\left(r \\right)} g{\\left(r \\right)}} f{\\left(r \\right)}} + \\frac{3 L^{2} g{\\left(r \\right)} \\left(\\frac{d}{d r} \\Phi{\\left(r \\right)}\\right)^{2}}{8 \\sqrt{f{\\left(r \\right)} g{\\left(r \\right)}}} + \\frac{3 L^{2} g{\\left(r \\right)} \\frac{d}{d r} \\Phi{\\left(r \\right)} \\frac{d}{d r} \\delta_{\\Phi}{\\left(r \\right)}}{4 \\sqrt{f{\\left(r \\right)} g{\\left(r \\right)}}} + \\frac{3 g{\\left(r \\right)} \\frac{d^{2}}{d r^{2}} g{\\left(r \\right)}}{16 \\sqrt{f{\\left(r \\right)} g{\\left(r \\right)}}} - \\frac{3 g{\\left(r \\right)} \\frac{d}{d r} \\delta_{f}{\\left(r \\right)} \\frac{d}{d r} g{\\left(r \\right)}}{32 \\sqrt{f{\\left(r \\right)} g{\\left(r \\right)}} f{\\left(r \\right)}} - \\frac{3 g{\\left(r \\right)} \\frac{d}{d r} f{\\left(r \\right)} \\frac{d}{d r} g{\\left(r \\right)}}{32 \\sqrt{f{\\left(r \\right)} g{\\left(r \\right)}} f{\\left(r \\right)}} + \\frac{3 g{\\left(r \\right)}}{8 \\sqrt{f{\\left(r \\right)} g{\\left(r \\right)}} f{\\left(r \\right)}} + \\frac{3 g^{2}{\\left(r \\right)}}{8 L^{2} \\sqrt{f{\\left(r \\right)} g{\\left(r \\right)}} f{\\left(r \\right)}}\\right) \\delta_{f}{\\left(r \\right)} + \\left(\\frac{3 L^{2} \\Phi^{2}{\\left(r \\right)} \\delta_{f}{\\left(r \\right)}}{4 \\sqrt{f{\\left(r \\right)} g{\\left(r \\right)}} f{\\left(r \\right)} g{\\left(r \\right)}} - \\frac{3 L^{2} \\Phi^{2}{\\left(r \\right)}}{2 \\sqrt{f{\\left(r \\right)} g{\\left(r \\right)}} g{\\left(r \\right)}} - \\frac{3 L^{2} \\Phi{\\left(r \\right)} \\delta_{\\Phi}{\\left(r \\right)}}{\\sqrt{f{\\left(r \\right)} g{\\left(r \\right)}} g{\\left(r \\right)}} + \\frac{3 L^{2} \\delta_{f}{\\left(r \\right)} \\left(\\frac{d}{d r} \\Phi{\\left(r \\right)}\\right)^{2}}{16 \\sqrt{f{\\left(r \\right)} g{\\left(r \\right)}}} + \\frac{3 L^{2} f{\\left(r \\right)} \\left(\\frac{d}{d r} \\Phi{\\left(r \\right)}\\right)^{2}}{8 \\sqrt{f{\\left(r \\right)} g{\\left(r \\right)}}} + \\frac{3 L^{2} f{\\left(r \\right)} \\frac{d}{d r} \\Phi{\\left(r \\right)} \\frac{d}{d r} \\delta_{\\Phi}{\\left(r \\right)}}{4 \\sqrt{f{\\left(r \\right)} g{\\left(r \\right)}}} + \\frac{3 \\delta_{f}{\\left(r \\right)} \\frac{d^{2}}{d r^{2}} g{\\left(r \\right)}}{32 \\sqrt{f{\\left(r \\right)} g{\\left(r \\right)}}} - \\frac{3 \\delta_{f}{\\left(r \\right)} \\frac{d}{d r} f{\\left(r \\right)} \\frac{d}{d r} g{\\left(r \\right)}}{64 \\sqrt{f{\\left(r \\right)} g{\\left(r \\right)}} f{\\left(r \\right)}} + \\frac{3 \\delta_{f}{\\left(r \\right)}}{16 \\sqrt{f{\\left(r \\right)} g{\\left(r \\right)}} f{\\left(r \\right)}} + \\frac{3 f{\\left(r \\right)} \\frac{d^{2}}{d r^{2}} \\delta_{g}{\\left(r \\right)}}{16 \\sqrt{f{\\left(r \\right)} g{\\left(r \\right)}}} + \\frac{3 f{\\left(r \\right)} \\frac{d^{2}}{d r^{2}} g{\\left(r \\right)}}{16 \\sqrt{f{\\left(r \\right)} g{\\left(r \\right)}}} + \\frac{3 \\frac{d}{d r} \\delta_{f}{\\left(r \\right)} \\frac{d}{d r} g{\\left(r \\right)}}{32 \\sqrt{f{\\left(r \\right)} g{\\left(r \\right)}}} + \\frac{3 \\frac{d}{d r} \\delta_{g}{\\left(r \\right)} \\frac{d}{d r} f{\\left(r \\right)}}{32 \\sqrt{f{\\left(r \\right)} g{\\left(r \\right)}}} + \\frac{3 \\frac{d}{d r} f{\\left(r \\right)} \\frac{d}{d r} g{\\left(r \\right)}}{32 \\sqrt{f{\\left(r \\right)} g{\\left(r \\right)}}} - \\frac{3}{8 \\sqrt{f{\\left(r \\right)} g{\\left(r \\right)}}} + \\frac{9 \\delta_{f}{\\left(r \\right)} g{\\left(r \\right)}}{16 L^{2} \\sqrt{f{\\left(r \\right)} g{\\left(r \\right)}} f{\\left(r \\right)}} - \\frac{9 g{\\left(r \\right)}}{8 L^{2} \\sqrt{f{\\left(r \\right)} g{\\left(r \\right)}}}\\right) \\delta_{g}{\\left(r \\right)} + \\frac{3 g{\\left(r \\right)} \\frac{d}{d r} \\delta_{f}{\\left(r \\right)} \\frac{d}{d r} g{\\left(r \\right)}}{16 \\sqrt{f{\\left(r \\right)} g{\\left(r \\right)}}}$"
      ],
      "text/plain": [
       "                                                                              \n",
       "                                                                              \n",
       "                                      2           d        d               2  \n",
       "   2                   2    2      3⋅L ⋅f(r)⋅g(r)⋅──(Φ(r))⋅──(δ_Φ(r))   3⋅L ⋅f\n",
       "6⋅L ⋅Φ(r)⋅δ_Φ(r)    3⋅L ⋅δ_Φ (r)                  dr       dr                 \n",
       "──────────────── + ───────────── + ────────────────────────────────── + ──────\n",
       "   ___________       ___________                ___________                   \n",
       " ╲╱ f(r)⋅g(r)      ╲╱ f(r)⋅g(r)             2⋅╲╱ f(r)⋅g(r)                    \n",
       "\n",
       "                                                                              \n",
       "                     2                                                        \n",
       "         ⎛d         ⎞                                                       ⎛ \n",
       "(r)⋅g(r)⋅⎜──(δ_Φ(r))⎟                                           2           ⎜ \n",
       "         ⎝dr        ⎠    ⎛ 3⋅δ_f(r)⋅g(r)       3⋅f(r)⋅g(r)  ⎞  d            ⎜ \n",
       "────────────────────── + ⎜──────────────── + ───────────────⎟⋅───(δ_g(r)) + ⎜-\n",
       "    ___________          ⎜     ___________       ___________⎟   2           ⎜ \n",
       "4⋅╲╱ f(r)⋅g(r)           ⎝16⋅╲╱ f(r)⋅g(r)    8⋅╲╱ f(r)⋅g(r) ⎠ dr            ⎝ \n",
       "\n",
       "                                                                             ⎛\n",
       "                                                                             ⎜\n",
       "               d                 d                   d        ⎞              ⎜\n",
       " 3⋅δ_f(r)⋅g(r)⋅──(f(r))   3⋅g(r)⋅──(δ_f(r))   3⋅g(r)⋅──(f(r)) ⎟              ⎜\n",
       "               dr                dr                  dr       ⎟ d            ⎜\n",
       " ────────────────────── + ───────────────── + ────────────────⎟⋅──(δ_g(r)) + ⎜\n",
       "      ___________               ___________        ___________⎟ dr           ⎜\n",
       " 32⋅╲╱ f(r)⋅g(r) ⋅f(r)     16⋅╲╱ f(r)⋅g(r)    16⋅╲╱ f(r)⋅g(r) ⎠              ⎝\n",
       "\n",
       "                                                            2                 \n",
       "                                            2              d                  \n",
       "                           2      ⎛d       ⎞       3⋅g(r)⋅───(g(r))           \n",
       "         2  2           3⋅L ⋅g(r)⋅⎜──(Φ(r))⎟                2           9⋅g(r)\n",
       "      9⋅L ⋅Φ (r)                  ⎝dr      ⎠              dr                  \n",
       "───────────────────── - ───────────────────── - ───────────────────── + ──────\n",
       "    ___________  2           ___________             ___________              \n",
       "8⋅╲╱ f(r)⋅g(r) ⋅f (r)   32⋅╲╱ f(r)⋅g(r) ⋅f(r)   64⋅╲╱ f(r)⋅g(r) ⋅f(r)   128⋅╲╱\n",
       "\n",
       "                                                                       ⎞      \n",
       "                                                                       ⎟      \n",
       " d        d                                                            ⎟      \n",
       "⋅──(f(r))⋅──(g(r))                                        2            ⎟      \n",
       " dr       dr                 9⋅g(r)                    9⋅g (r)         ⎟    2 \n",
       "────────────────── - ────────────────────── - ─────────────────────────⎟⋅δ_f (\n",
       "___________  2            ___________  2          2   ___________  2   ⎟      \n",
       " f(r)⋅g(r) ⋅f (r)    32⋅╲╱ f(r)⋅g(r) ⋅f (r)   32⋅L ⋅╲╱ f(r)⋅g(r) ⋅f (r)⎠      \n",
       "\n",
       "     ⎛                                                            2           \n",
       "     ⎜                                            2              d            \n",
       "     ⎜                           2      ⎛d       ⎞       3⋅f(r)⋅───(g(r))     \n",
       "     ⎜         2  2           3⋅L ⋅f(r)⋅⎜──(Φ(r))⎟                2           \n",
       "     ⎜      9⋅L ⋅Φ (r)                  ⎝dr      ⎠              dr            \n",
       "r) + ⎜───────────────────── - ───────────────────── - ───────────────────── - \n",
       "     ⎜    ___________  2           ___________             ___________        \n",
       "     ⎝8⋅╲╱ f(r)⋅g(r) ⋅g (r)   32⋅╲╱ f(r)⋅g(r) ⋅g(r)   64⋅╲╱ f(r)⋅g(r) ⋅g(r)   \n",
       "\n",
       "                                                                    ⎞         \n",
       "                                                                    ⎟         \n",
       "   d        d                                                       ⎟         \n",
       " 3⋅──(f(r))⋅──(g(r))                                                ⎟         \n",
       "   dr       dr                     3                      9         ⎟    2    \n",
       "────────────────────── + ───────────────────── - ───────────────────⎟⋅δ_g (r) \n",
       "      ___________             ___________            2   ___________⎟         \n",
       "128⋅╲╱ f(r)⋅g(r) ⋅g(r)   32⋅╲╱ f(r)⋅g(r) ⋅g(r)   32⋅L ⋅╲╱ f(r)⋅g(r) ⎠         \n",
       "\n",
       "  ⎛                                                                           \n",
       "  ⎜                                                                  2        \n",
       "  ⎜                                                 2      ⎛d       ⎞       2 \n",
       "  ⎜          2  2               2                3⋅L ⋅g(r)⋅⎜──(Φ(r))⎟    3⋅L ⋅\n",
       "  ⎜       3⋅L ⋅Φ (r)         3⋅L ⋅Φ(r)⋅δ_Φ(r)              ⎝dr      ⎠         \n",
       "+ ⎜- ──────────────────── - ────────────────── + ───────────────────── + ─────\n",
       "  ⎜      ___________          ___________               ___________           \n",
       "  ⎝  2⋅╲╱ f(r)⋅g(r) ⋅f(r)   ╲╱ f(r)⋅g(r) ⋅f(r)      8⋅╲╱ f(r)⋅g(r)            \n",
       "\n",
       "                                    2                                         \n",
       "                                   d                                          \n",
       "     d        d            3⋅g(r)⋅───(g(r))          d          d             \n",
       "g(r)⋅──(Φ(r))⋅──(δ_Φ(r))            2         3⋅g(r)⋅──(δ_f(r))⋅──(g(r))   3⋅g\n",
       "     dr       dr                  dr                 dr         dr            \n",
       "──────────────────────── + ──────────────── - ────────────────────────── - ───\n",
       "      ___________               ___________          ___________              \n",
       "  4⋅╲╱ f(r)⋅g(r)           16⋅╲╱ f(r)⋅g(r)      32⋅╲╱ f(r)⋅g(r) ⋅f(r)       32\n",
       "\n",
       "                                                                      ⎞       \n",
       "                                                                      ⎟       \n",
       "    d        d                                                        ⎟       \n",
       "(r)⋅──(f(r))⋅──(g(r))                                     2           ⎟       \n",
       "    dr       dr                3⋅g(r)                  3⋅g (r)        ⎟       \n",
       "───────────────────── + ──────────────────── + ───────────────────────⎟⋅δ_f(r)\n",
       "   ___________              ___________           2   ___________     ⎟       \n",
       "⋅╲╱ f(r)⋅g(r) ⋅f(r)     8⋅╲╱ f(r)⋅g(r) ⋅f(r)   8⋅L ⋅╲╱ f(r)⋅g(r) ⋅f(r)⎠       \n",
       "\n",
       "   ⎛                                                                          \n",
       "   ⎜                                                                          \n",
       "   ⎜                                                                          \n",
       "   ⎜       2  2                         2  2               2                3⋅\n",
       "   ⎜    3⋅L ⋅Φ (r)⋅δ_f(r)            3⋅L ⋅Φ (r)         3⋅L ⋅Φ(r)⋅δ_Φ(r)      \n",
       " + ⎜───────────────────────── - ──────────────────── - ────────────────── + ──\n",
       "   ⎜    ___________                 ___________          ___________          \n",
       "   ⎝4⋅╲╱ f(r)⋅g(r) ⋅f(r)⋅g(r)   2⋅╲╱ f(r)⋅g(r) ⋅g(r)   ╲╱ f(r)⋅g(r) ⋅g(r)     \n",
       "\n",
       "                                                                              \n",
       "                    2                       2                                 \n",
       " 2        ⎛d       ⎞       2      ⎛d       ⎞       2      d        d          \n",
       "L ⋅δ_f(r)⋅⎜──(Φ(r))⎟    3⋅L ⋅f(r)⋅⎜──(Φ(r))⎟    3⋅L ⋅f(r)⋅──(Φ(r))⋅──(δ_Φ(r)) \n",
       "          ⎝dr      ⎠              ⎝dr      ⎠              dr       dr         \n",
       "───────────────────── + ───────────────────── + ───────────────────────────── \n",
       "       ___________             ___________                 ___________        \n",
       "  16⋅╲╱ f(r)⋅g(r)          8⋅╲╱ f(r)⋅g(r)              4⋅╲╱ f(r)⋅g(r)         \n",
       "\n",
       "             2                                                                \n",
       "            d                                                                 \n",
       "  3⋅δ_f(r)⋅───(g(r))            d        d                                  3⋅\n",
       "             2         3⋅δ_f(r)⋅──(f(r))⋅──(g(r))                             \n",
       "           dr                   dr       dr                3⋅δ_f(r)           \n",
       "+ ────────────────── - ────────────────────────── + ───────────────────── + ──\n",
       "        ___________           ___________                ___________          \n",
       "   32⋅╲╱ f(r)⋅g(r)       64⋅╲╱ f(r)⋅g(r) ⋅f(r)      16⋅╲╱ f(r)⋅g(r) ⋅f(r)    1\n",
       "\n",
       "       2                    2                                                 \n",
       "      d                    d                                                  \n",
       "f(r)⋅───(δ_g(r))   3⋅f(r)⋅───(g(r))     d          d            d          d  \n",
       "       2                    2         3⋅──(δ_f(r))⋅──(g(r))   3⋅──(δ_g(r))⋅──(\n",
       "     dr                   dr            dr         dr           dr         dr \n",
       "──────────────── + ──────────────── + ───────────────────── + ────────────────\n",
       "    ___________         ___________           ___________             ________\n",
       "6⋅╲╱ f(r)⋅g(r)     16⋅╲╱ f(r)⋅g(r)       32⋅╲╱ f(r)⋅g(r)         32⋅╲╱ f(r)⋅g(\n",
       "\n",
       "                                                                              \n",
       "                                                                              \n",
       "          d        d                                                          \n",
       "f(r))   3⋅──(f(r))⋅──(g(r))                                                   \n",
       "          dr       dr                3               9⋅δ_f(r)⋅g(r)            \n",
       "───── + ─────────────────── - ─────────────── + ──────────────────────── - ───\n",
       "___            ___________        ___________       2   ___________           \n",
       "r)        32⋅╲╱ f(r)⋅g(r)     8⋅╲╱ f(r)⋅g(r)    16⋅L ⋅╲╱ f(r)⋅g(r) ⋅f(r)   8⋅L\n",
       "\n",
       "               ⎞                                    \n",
       "               ⎟                                    \n",
       "               ⎟                 d          d       \n",
       "               ⎟          3⋅g(r)⋅──(δ_f(r))⋅──(g(r))\n",
       "   9⋅g(r)      ⎟                 dr         dr      \n",
       "───────────────⎟⋅δ_g(r) + ──────────────────────────\n",
       "2   ___________⎟                    ___________     \n",
       " ⋅╲╱ f(r)⋅g(r) ⎠               16⋅╲╱ f(r)⋅g(r)      "
      ]
     },
     "execution_count": 22,
     "metadata": {},
     "output_type": "execute_result"
    }
   ],
   "source": [
    "dS = lagrangian.subs({f: f + eps * delta_f, g: g + eps * delta_g, Phi: Phi + eps * delta_Phi}) - lagrangian\n",
    "Sfdf = dS.series(eps, n=3).removeO().subs(eps, 1)\n",
    "Sfdf = sympy.collect(sympy.expand(Sfdf), [delta_g, delta_f, delta_Phi])\n",
    "Sfdf"
   ]
  },
  {
   "cell_type": "markdown",
   "id": "fb9b85fb",
   "metadata": {},
   "source": [
    "The coefficients of the various quadratic terms agree with the partial derivatives of the Lagrangian."
   ]
  },
  {
   "cell_type": "markdown",
   "id": "a3f30e51",
   "metadata": {},
   "source": [
    "Get the equations of motion that can be removed from the expansion."
   ]
  },
  {
   "cell_type": "code",
   "execution_count": 23,
   "id": "6c98ec65",
   "metadata": {},
   "outputs": [
    {
     "data": {
      "text/latex": [
       "$\\displaystyle \\left[\\begin{matrix}\\frac{3 \\left(\\frac{d}{d r} g{\\left(r \\right)}\\right)^{2}}{4 g^{2}{\\left(r \\right)}} - \\frac{3}{f{\\left(r \\right)} g{\\left(r \\right)}} - \\frac{3}{L^{2} f{\\left(r \\right)}} & 0 & 0 & 0\\\\0 & \\frac{f{\\left(r \\right)} \\frac{d^{2}}{d r^{2}} g{\\left(r \\right)}}{4} - \\frac{f{\\left(r \\right)} \\left(\\frac{d}{d r} g{\\left(r \\right)}\\right)^{2}}{16 g{\\left(r \\right)}} + \\frac{\\frac{d}{d r} f{\\left(r \\right)} \\frac{d}{d r} g{\\left(r \\right)}}{8} - \\frac{1}{4} - \\frac{3 g{\\left(r \\right)}}{4 L^{2}} & 0 & \\frac{f{\\left(r \\right)} \\cos{\\left(\\theta \\right)} \\frac{d^{2}}{d r^{2}} g{\\left(r \\right)}}{4} - \\frac{f{\\left(r \\right)} \\cos{\\left(\\theta \\right)} \\left(\\frac{d}{d r} g{\\left(r \\right)}\\right)^{2}}{16 g{\\left(r \\right)}} + \\frac{\\cos{\\left(\\theta \\right)} \\frac{d}{d r} f{\\left(r \\right)} \\frac{d}{d r} g{\\left(r \\right)}}{8} - \\frac{\\cos{\\left(\\theta \\right)}}{4} - \\frac{3 g{\\left(r \\right)} \\cos{\\left(\\theta \\right)}}{4 L^{2}}\\\\0 & 0 & \\frac{f{\\left(r \\right)} \\frac{d^{2}}{d r^{2}} g{\\left(r \\right)}}{4} - \\frac{f{\\left(r \\right)} \\left(\\frac{d}{d r} g{\\left(r \\right)}\\right)^{2}}{16 g{\\left(r \\right)}} + \\frac{\\frac{d}{d r} f{\\left(r \\right)} \\frac{d}{d r} g{\\left(r \\right)}}{8} - \\frac{1}{4} - \\frac{3 g{\\left(r \\right)}}{4 L^{2}} & 0\\\\0 & \\frac{f{\\left(r \\right)} \\cos{\\left(\\theta \\right)} \\frac{d^{2}}{d r^{2}} g{\\left(r \\right)}}{4} - \\frac{f{\\left(r \\right)} \\cos{\\left(\\theta \\right)} \\left(\\frac{d}{d r} g{\\left(r \\right)}\\right)^{2}}{16 g{\\left(r \\right)}} + \\frac{\\cos{\\left(\\theta \\right)} \\frac{d}{d r} f{\\left(r \\right)} \\frac{d}{d r} g{\\left(r \\right)}}{8} - \\frac{\\cos{\\left(\\theta \\right)}}{4} - \\frac{3 g{\\left(r \\right)} \\cos{\\left(\\theta \\right)}}{4 L^{2}} & 0 & \\frac{f{\\left(r \\right)} \\frac{d^{2}}{d r^{2}} g{\\left(r \\right)}}{4} - \\frac{f{\\left(r \\right)} \\left(\\frac{d}{d r} g{\\left(r \\right)}\\right)^{2}}{16 g{\\left(r \\right)}} + \\frac{\\frac{d}{d r} f{\\left(r \\right)} \\frac{d}{d r} g{\\left(r \\right)}}{8} - \\frac{1}{4} - \\frac{3 g{\\left(r \\right)}}{4 L^{2}}\\end{matrix}\\right]$"
      ],
      "text/plain": [
       "⎡            2                                                                \n",
       "⎢  ⎛d       ⎞                                                                 \n",
       "⎢3⋅⎜──(g(r))⎟                                                                 \n",
       "⎢  ⎝dr      ⎠        3          3                                             \n",
       "⎢───────────── - ───────── - ───────                                          \n",
       "⎢      2         f(r)⋅g(r)    2                                               \n",
       "⎢   4⋅g (r)                  L ⋅f(r)                                          \n",
       "⎢                                                                             \n",
       "⎢                                                            2                \n",
       "⎢                                                           d                 \n",
       "⎢                                                     f(r)⋅───(g(r))        ⎛d\n",
       "⎢                                                            2         f(r)⋅⎜─\n",
       "⎢                                                          dr               ⎝d\n",
       "⎢                 0                                   ────────────── - ───────\n",
       "⎢                                                           4              16⋅\n",
       "⎢                                                                             \n",
       "⎢                                                                             \n",
       "⎢                                                                             \n",
       "⎢                                                                             \n",
       "⎢                                                                             \n",
       "⎢                                                                             \n",
       "⎢                                                                             \n",
       "⎢                 0                                                           \n",
       "⎢                                                                             \n",
       "⎢                                                                             \n",
       "⎢                                                                             \n",
       "⎢                                                   2                         \n",
       "⎢                                                  d                          \n",
       "⎢                                     f(r)⋅cos(θ)⋅───(g(r))               ⎛d  \n",
       "⎢                                                   2         f(r)⋅cos(θ)⋅⎜──(\n",
       "⎢                                                 dr                      ⎝dr \n",
       "⎢                 0                   ───────────────────── - ────────────────\n",
       "⎢                                               4                     16⋅g(r) \n",
       "⎣                                                                             \n",
       "\n",
       "                                                                              \n",
       "                                                                              \n",
       "                                                                              \n",
       "                                                                              \n",
       "         0                                                                    \n",
       "                                                                              \n",
       "                                                                              \n",
       "                                                                              \n",
       "                                                                              \n",
       "        2                                                                     \n",
       "       ⎞    d        d                                                        \n",
       "─(g(r))⎟    ──(f(r))⋅──(g(r))                                                 \n",
       "r      ⎠    dr       dr         1   3⋅g(r)                                    \n",
       "───────── + ───────────────── - ─ - ──────                                    \n",
       "g(r)                8           4       2                                     \n",
       "                                     4⋅L                                      \n",
       "                                                                              \n",
       "                                                                    2         \n",
       "                                                                   d          \n",
       "                                                             f(r)⋅───(g(r))   \n",
       "                                                                    2         \n",
       "                                                                  dr          \n",
       "         0                                                   ────────────── - \n",
       "                                                                   4          \n",
       "                                                                              \n",
       "                                                                              \n",
       "                                                                              \n",
       "      2                                                                       \n",
       "     ⎞           d        d                                                   \n",
       "g(r))⎟    cos(θ)⋅──(f(r))⋅──(g(r))                                            \n",
       "     ⎠           dr       dr         cos(θ)   3⋅g(r)⋅cos(θ)                   \n",
       "─────── + ──────────────────────── - ────── - ─────────────                   \n",
       "                     8                 4              2                       \n",
       "                                                   4⋅L                        \n",
       "\n",
       "                                                                              \n",
       "                                                                              \n",
       "                                                                              \n",
       "                                                                              \n",
       "               0                                                              \n",
       "                                                                              \n",
       "                                                                              \n",
       "                                                                              \n",
       "                                                                 2            \n",
       "                                                                d             \n",
       "                                                   f(r)⋅cos(θ)⋅───(g(r))      \n",
       "                                                                 2         f(r\n",
       "                                                               dr             \n",
       "               0                                   ───────────────────── - ───\n",
       "                                                             4                \n",
       "                                                                              \n",
       "                                                                              \n",
       "                                                                              \n",
       "               2                                                              \n",
       "     ⎛d       ⎞    d        d                                                 \n",
       "f(r)⋅⎜──(g(r))⎟    ──(f(r))⋅──(g(r))                                          \n",
       "     ⎝dr      ⎠    dr       dr         1   3⋅g(r)                             \n",
       "──────────────── + ───────────────── - ─ - ──────                             \n",
       "    16⋅g(r)                8           4       2                              \n",
       "                                            4⋅L                               \n",
       "                                                                              \n",
       "                                                                          2   \n",
       "                                                                         d    \n",
       "                                                                   f(r)⋅───(g(\n",
       "                                                                          2   \n",
       "                                                                        dr    \n",
       "               0                                                   ───────────\n",
       "                                                                         4    \n",
       "                                                                              \n",
       "\n",
       "                                                                        ⎤\n",
       "                                                                        ⎥\n",
       "                                                                        ⎥\n",
       "                                                                        ⎥\n",
       "                      0                                                 ⎥\n",
       "                                                                        ⎥\n",
       "                                                                        ⎥\n",
       "                                                                        ⎥\n",
       "                                                                        ⎥\n",
       "                   2                                                    ⎥\n",
       "         ⎛d       ⎞           d        d                                ⎥\n",
       ")⋅cos(θ)⋅⎜──(g(r))⎟    cos(θ)⋅──(f(r))⋅──(g(r))                         ⎥\n",
       "         ⎝dr      ⎠           dr       dr         cos(θ)   3⋅g(r)⋅cos(θ)⎥\n",
       "──────────────────── + ──────────────────────── - ────── - ─────────────⎥\n",
       "     16⋅g(r)                      8                 4              2    ⎥\n",
       "                                                                4⋅L     ⎥\n",
       "                                                                        ⎥\n",
       "                                                                        ⎥\n",
       "                                                                        ⎥\n",
       "                                                                        ⎥\n",
       "                                                                        ⎥\n",
       "                                                                        ⎥\n",
       "                      0                                                 ⎥\n",
       "                                                                        ⎥\n",
       "                                                                        ⎥\n",
       "                                                                        ⎥\n",
       "                                                                        ⎥\n",
       "                     2                                                  ⎥\n",
       "r))        ⎛d       ⎞    d        d                                     ⎥\n",
       "      f(r)⋅⎜──(g(r))⎟    ──(f(r))⋅──(g(r))                              ⎥\n",
       "           ⎝dr      ⎠    dr       dr         1   3⋅g(r)                 ⎥\n",
       "─── - ──────────────── + ───────────────── - ─ - ──────                 ⎥\n",
       "          16⋅g(r)                8           4       2                  ⎥\n",
       "                                                  4⋅L                   ⎦"
      ]
     },
     "execution_count": 23,
     "metadata": {},
     "output_type": "execute_result"
    }
   ],
   "source": [
    "metric_array = sympy.MutableDenseNDimArray(list2d)\n",
    "einstein_tensor = sympy.simplify(\n",
    "    sympy.MutableDenseNDimArray(Ric.tensor()) - R.expr * metric_array / 2 - 3 / L ** 2 * metric_array\n",
    ")\n",
    "einstein_tensor"
   ]
  },
  {
   "cell_type": "markdown",
   "id": "fb86db26",
   "metadata": {},
   "source": [
    "These quantities have been verified by hand:"
   ]
  },
  {
   "cell_type": "code",
   "execution_count": 24,
   "id": "ffbf9889",
   "metadata": {},
   "outputs": [],
   "source": [
    "FFg_tensor = TensorHead('FFg', [Euclidean] * 6)\n",
    "FFg_matrix = (\n",
    "    sympy.tensorproduct(F_1, F_1, metric_inv) +\n",
    "    sympy.tensorproduct(F_2, F_2, metric_inv) +\n",
    "    sympy.tensorproduct(F_3, F_3, metric_inv)\n",
    ")\n",
    "repl = {FFg_tensor(-i0, -i1, -i2, -i3, i4, i5): FFg_matrix}\n",
    "T_contracted_1 = FFg_tensor(-i0, -i1, -i2, -i3, i3, i1).replace_with_arrays(repl)\n",
    "T_contracted_1 = sympy.simplify(T_contracted_1)\n",
    "\n",
    "FFgg_tensor = TensorHead('FFgg', [Euclidean] * 8)\n",
    "FFgg_matrix = (\n",
    "    sympy.tensorproduct(F_1, F_1, metric_inv, metric_inv) +\n",
    "    sympy.tensorproduct(F_2, F_2, metric_inv, metric_inv) +\n",
    "    sympy.tensorproduct(F_3, F_3, metric_inv, metric_inv)\n",
    ")\n",
    "repl = {FFgg_tensor(-i0, -i1, -i2, -i3, i4, i5, i6, i7): FFgg_matrix}\n",
    "T_contracted_2 = FFgg_tensor(-i0, -i1, -i2, -i3, i3, i1, i2, i0).replace_with_arrays(repl)\n",
    "T_contracted_2 = sympy.simplify(T_contracted_2)"
   ]
  },
  {
   "cell_type": "code",
   "execution_count": 25,
   "id": "a3536b38",
   "metadata": {},
   "outputs": [
    {
     "data": {
      "text/latex": [
       "$\\displaystyle \\left[\\begin{matrix}\\frac{3 L^{2} \\left(- 4 \\Phi^{2}{\\left(r \\right)} + f{\\left(r \\right)} g{\\left(r \\right)} \\left(\\frac{d}{d r} \\Phi{\\left(r \\right)}\\right)^{2}\\right)}{f{\\left(r \\right)} g^{2}{\\left(r \\right)}} & 0 & 0 & 0\\\\0 & \\frac{L^{2} \\left(\\Phi^{2}{\\left(r \\right)} - \\frac{f{\\left(r \\right)} g{\\left(r \\right)} \\left(\\frac{d}{d r} \\Phi{\\left(r \\right)}\\right)^{2}}{4}\\right)}{g{\\left(r \\right)}} & 0 & \\frac{L^{2} \\cdot \\left(4 \\Phi^{2}{\\left(r \\right)} - f{\\left(r \\right)} g{\\left(r \\right)} \\left(\\frac{d}{d r} \\Phi{\\left(r \\right)}\\right)^{2}\\right) \\cos{\\left(\\theta \\right)}}{4 g{\\left(r \\right)}}\\\\0 & 0 & \\frac{L^{2} \\left(\\Phi^{2}{\\left(r \\right)} - \\frac{f{\\left(r \\right)} g{\\left(r \\right)} \\left(\\frac{d}{d r} \\Phi{\\left(r \\right)}\\right)^{2}}{4}\\right)}{g{\\left(r \\right)}} & 0\\\\0 & \\frac{L^{2} \\cdot \\left(4 \\Phi^{2}{\\left(r \\right)} - f{\\left(r \\right)} g{\\left(r \\right)} \\left(\\frac{d}{d r} \\Phi{\\left(r \\right)}\\right)^{2}\\right) \\cos{\\left(\\theta \\right)}}{4 g{\\left(r \\right)}} & 0 & \\frac{L^{2} \\left(\\Phi^{2}{\\left(r \\right)} - \\frac{f{\\left(r \\right)} g{\\left(r \\right)} \\left(\\frac{d}{d r} \\Phi{\\left(r \\right)}\\right)^{2}}{4}\\right)}{g{\\left(r \\right)}}\\end{matrix}\\right]$"
      ],
      "text/plain": [
       "⎡     ⎛                                2⎞                                     \n",
       "⎢   2 ⎜     2                ⎛d       ⎞ ⎟                                     \n",
       "⎢3⋅L ⋅⎜- 4⋅Φ (r) + f(r)⋅g(r)⋅⎜──(Φ(r))⎟ ⎟                                     \n",
       "⎢     ⎝                      ⎝dr      ⎠ ⎠                                     \n",
       "⎢────────────────────────────────────────                       0             \n",
       "⎢                     2                                                       \n",
       "⎢               f(r)⋅g (r)                                                    \n",
       "⎢                                                                             \n",
       "⎢                                                 ⎛                           \n",
       "⎢                                                 ⎜                  ⎛d       \n",
       "⎢                                                 ⎜        f(r)⋅g(r)⋅⎜──(Φ(r))\n",
       "⎢                                               2 ⎜ 2                ⎝dr      \n",
       "⎢                                              L ⋅⎜Φ (r) - ───────────────────\n",
       "⎢                                                 ⎝                  4        \n",
       "⎢                   0                          ───────────────────────────────\n",
       "⎢                                                             g(r)            \n",
       "⎢                                                                             \n",
       "⎢                                                                             \n",
       "⎢                                                                             \n",
       "⎢                                                                             \n",
       "⎢                                                                             \n",
       "⎢                                                                             \n",
       "⎢                                                                             \n",
       "⎢                   0                                           0             \n",
       "⎢                                                                             \n",
       "⎢                                                                             \n",
       "⎢                                                                             \n",
       "⎢                                                                             \n",
       "⎢                                             ⎛                              2\n",
       "⎢                                           2 ⎜   2                ⎛d       ⎞ \n",
       "⎢                                          L ⋅⎜4⋅Φ (r) - f(r)⋅g(r)⋅⎜──(Φ(r))⎟ \n",
       "⎢                                             ⎝                    ⎝dr      ⎠ \n",
       "⎢                   0                      ───────────────────────────────────\n",
       "⎣                                                             4⋅g(r)          \n",
       "\n",
       "                                                                              \n",
       "                                                                              \n",
       "                                                                              \n",
       "                                                                              \n",
       "                          0                                        0          \n",
       "                                                                              \n",
       "                                                                              \n",
       "                                                                              \n",
       " 2⎞                                                                           \n",
       "⎞ ⎟                                                                           \n",
       "⎟ ⎟                                              ⎛                            \n",
       "⎠ ⎟                                            2 ⎜   2                ⎛d      \n",
       "──⎟                                           L ⋅⎜4⋅Φ (r) - f(r)⋅g(r)⋅⎜──(Φ(r)\n",
       "  ⎠                                              ⎝                    ⎝dr     \n",
       "───                       0                   ────────────────────────────────\n",
       "                                                                 4⋅g(r)       \n",
       "                                                                              \n",
       "             ⎛                            2⎞                                  \n",
       "             ⎜                  ⎛d       ⎞ ⎟                                  \n",
       "             ⎜        f(r)⋅g(r)⋅⎜──(Φ(r))⎟ ⎟                                  \n",
       "           2 ⎜ 2                ⎝dr      ⎠ ⎟                                  \n",
       "          L ⋅⎜Φ (r) - ─────────────────────⎟                                  \n",
       "             ⎝                  4          ⎠                                  \n",
       "          ──────────────────────────────────                       0          \n",
       "                         g(r)                                                 \n",
       "                                                                              \n",
       "                                                     ⎛                        \n",
       "                                                     ⎜                  ⎛d    \n",
       "⎞                                                    ⎜        f(r)⋅g(r)⋅⎜──(Φ(\n",
       "⎟                                                  2 ⎜ 2                ⎝dr   \n",
       "⎟⋅cos(θ)                                          L ⋅⎜Φ (r) - ────────────────\n",
       "⎠                                                    ⎝                  4     \n",
       "────────                  0                       ────────────────────────────\n",
       "                                                                 g(r)         \n",
       "\n",
       "           ⎤\n",
       "           ⎥\n",
       "           ⎥\n",
       "           ⎥\n",
       "           ⎥\n",
       "           ⎥\n",
       "           ⎥\n",
       "           ⎥\n",
       "           ⎥\n",
       "           ⎥\n",
       "  2⎞       ⎥\n",
       " ⎞ ⎟       ⎥\n",
       ")⎟ ⎟⋅cos(θ)⎥\n",
       " ⎠ ⎠       ⎥\n",
       "───────────⎥\n",
       "           ⎥\n",
       "           ⎥\n",
       "           ⎥\n",
       "           ⎥\n",
       "           ⎥\n",
       "           ⎥\n",
       "           ⎥\n",
       "           ⎥\n",
       "           ⎥\n",
       "           ⎥\n",
       "           ⎥\n",
       "    2⎞     ⎥\n",
       "   ⎞ ⎟     ⎥\n",
       "r))⎟ ⎟     ⎥\n",
       "   ⎠ ⎟     ⎥\n",
       "─────⎟     ⎥\n",
       "     ⎠     ⎥\n",
       "──────     ⎥\n",
       "           ⎦"
      ]
     },
     "execution_count": 25,
     "metadata": {},
     "output_type": "execute_result"
    }
   ],
   "source": [
    "energy_momentum = 2 * (T_contracted_1 - metric_array / 4 * T_contracted_2)\n",
    "energy_momentum = sympy.simplify(energy_momentum)\n",
    "energy_momentum"
   ]
  },
  {
   "cell_type": "code",
   "execution_count": 26,
   "id": "b826ed88",
   "metadata": {},
   "outputs": [
    {
     "data": {
      "image/png": "[encoded data removed]",
      "text/latex": [
       "$\\displaystyle \\frac{3 \\left(\\frac{d}{d r} g{\\left(r \\right)}\\right)^{2}}{4 g^{2}{\\left(r \\right)}} - \\frac{3}{f{\\left(r \\right)} g{\\left(r \\right)}} - \\frac{3}{L^{2} f{\\left(r \\right)}}$"
      ],
      "text/plain": [
       "            2                      \n",
       "  ⎛d       ⎞                       \n",
       "3⋅⎜──(g(r))⎟                       \n",
       "  ⎝dr      ⎠        3          3   \n",
       "───────────── - ───────── - ───────\n",
       "      2         f(r)⋅g(r)    2     \n",
       "   4⋅g (r)                  L ⋅f(r)"
      ]
     },
     "execution_count": 26,
     "metadata": {},
     "output_type": "execute_result"
    }
   ],
   "source": [
    "einstein_tensor[0, 0]"
   ]
  },
  {
   "cell_type": "code",
   "execution_count": 27,
   "id": "a519a9b2",
   "metadata": {},
   "outputs": [
    {
     "data": {
      "image/png": "[encoded data removed]",
      "text/latex": [
       "$\\displaystyle \\frac{3 L^{2} \\left(- 4 \\Phi^{2}{\\left(r \\right)} + f{\\left(r \\right)} g{\\left(r \\right)} \\left(\\frac{d}{d r} \\Phi{\\left(r \\right)}\\right)^{2}\\right)}{f{\\left(r \\right)} g^{2}{\\left(r \\right)}}$"
      ],
      "text/plain": [
       "     ⎛                                2⎞\n",
       "   2 ⎜     2                ⎛d       ⎞ ⎟\n",
       "3⋅L ⋅⎜- 4⋅Φ (r) + f(r)⋅g(r)⋅⎜──(Φ(r))⎟ ⎟\n",
       "     ⎝                      ⎝dr      ⎠ ⎠\n",
       "────────────────────────────────────────\n",
       "                     2                  \n",
       "               f(r)⋅g (r)               "
      ]
     },
     "execution_count": 27,
     "metadata": {},
     "output_type": "execute_result"
    }
   ],
   "source": [
    "energy_momentum[0, 0]"
   ]
  },
  {
   "cell_type": "code",
   "execution_count": 28,
   "id": "0a5f0af8",
   "metadata": {},
   "outputs": [
    {
     "data": {
      "image/png": "[encoded data removed]",
      "text/latex": [
       "$\\displaystyle \\frac{f{\\left(r \\right)} \\frac{d^{2}}{d r^{2}} g{\\left(r \\right)}}{4} - \\frac{f{\\left(r \\right)} \\left(\\frac{d}{d r} g{\\left(r \\right)}\\right)^{2}}{16 g{\\left(r \\right)}} + \\frac{\\frac{d}{d r} f{\\left(r \\right)} \\frac{d}{d r} g{\\left(r \\right)}}{8} - \\frac{1}{4} - \\frac{3 g{\\left(r \\right)}}{4 L^{2}}$"
      ],
      "text/plain": [
       "       2                                                          \n",
       "      d                         2                                 \n",
       "f(r)⋅───(g(r))        ⎛d       ⎞    d        d                    \n",
       "       2         f(r)⋅⎜──(g(r))⎟    ──(f(r))⋅──(g(r))             \n",
       "     dr               ⎝dr      ⎠    dr       dr         1   3⋅g(r)\n",
       "────────────── - ──────────────── + ───────────────── - ─ - ──────\n",
       "      4              16⋅g(r)                8           4       2 \n",
       "                                                             4⋅L  "
      ]
     },
     "execution_count": 28,
     "metadata": {},
     "output_type": "execute_result"
    }
   ],
   "source": [
    "einstein_tensor[1, 1]"
   ]
  },
  {
   "cell_type": "code",
   "execution_count": 29,
   "id": "2da75d2b",
   "metadata": {},
   "outputs": [
    {
     "data": {
      "image/png": "[encoded data removed]",
      "text/latex": [
       "$\\displaystyle \\frac{L^{2} \\left(\\Phi^{2}{\\left(r \\right)} - \\frac{f{\\left(r \\right)} g{\\left(r \\right)} \\left(\\frac{d}{d r} \\Phi{\\left(r \\right)}\\right)^{2}}{4}\\right)}{g{\\left(r \\right)}}$"
      ],
      "text/plain": [
       "   ⎛                            2⎞\n",
       "   ⎜                  ⎛d       ⎞ ⎟\n",
       "   ⎜        f(r)⋅g(r)⋅⎜──(Φ(r))⎟ ⎟\n",
       " 2 ⎜ 2                ⎝dr      ⎠ ⎟\n",
       "L ⋅⎜Φ (r) - ─────────────────────⎟\n",
       "   ⎝                  4          ⎠\n",
       "──────────────────────────────────\n",
       "               g(r)               "
      ]
     },
     "execution_count": 29,
     "metadata": {},
     "output_type": "execute_result"
    }
   ],
   "source": [
    "energy_momentum[1 ,1]"
   ]
  },
  {
   "cell_type": "markdown",
   "id": "e90c3e85",
   "metadata": {},
   "source": [
    "Get Maxwell's equations."
   ]
  },
  {
   "cell_type": "code",
   "execution_count": 30,
   "id": "b57fa09c",
   "metadata": {},
   "outputs": [
    {
     "data": {
      "text/latex": [
       "$\\displaystyle \\left[\\begin{matrix}\\left[\\begin{matrix}- \\frac{\\frac{d}{d r} f{\\left(r \\right)}}{2 f{\\left(r \\right)}} & 0 & 0 & 0\\\\0 & - \\frac{f{\\left(r \\right)} \\frac{d}{d r} g{\\left(r \\right)}}{8} & 0 & - \\frac{f{\\left(r \\right)} \\cos{\\left(\\theta \\right)} \\frac{d}{d r} g{\\left(r \\right)}}{8}\\\\0 & 0 & - \\frac{f{\\left(r \\right)} \\frac{d}{d r} g{\\left(r \\right)}}{8} & 0\\\\0 & - \\frac{f{\\left(r \\right)} \\cos{\\left(\\theta \\right)} \\frac{d}{d r} g{\\left(r \\right)}}{8} & 0 & - \\frac{f{\\left(r \\right)} \\frac{d}{d r} g{\\left(r \\right)}}{8}\\end{matrix}\\right] & \\left[\\begin{matrix}0 & \\frac{\\frac{d}{d r} g{\\left(r \\right)}}{2 g{\\left(r \\right)}} & 0 & 0\\\\\\frac{\\frac{d}{d r} g{\\left(r \\right)}}{2 g{\\left(r \\right)}} & 0 & \\frac{1}{2 \\tan{\\left(\\theta \\right)}} & 0\\\\0 & \\frac{1}{2 \\tan{\\left(\\theta \\right)}} & 0 & - \\frac{1}{2 \\sin{\\left(\\theta \\right)}}\\\\0 & 0 & - \\frac{1}{2 \\sin{\\left(\\theta \\right)}} & 0\\end{matrix}\\right] & \\left[\\begin{matrix}0 & 0 & \\frac{\\frac{d}{d r} g{\\left(r \\right)}}{2 g{\\left(r \\right)}} & 0\\\\0 & 0 & 0 & \\frac{\\sin{\\left(\\theta \\right)}}{2}\\\\\\frac{\\frac{d}{d r} g{\\left(r \\right)}}{2 g{\\left(r \\right)}} & 0 & 0 & 0\\\\0 & \\frac{\\sin{\\left(\\theta \\right)}}{2} & 0 & 0\\end{matrix}\\right] & \\left[\\begin{matrix}0 & 0 & 0 & \\frac{\\frac{d}{d r} g{\\left(r \\right)}}{2 g{\\left(r \\right)}}\\\\0 & 0 & - \\frac{1}{2 \\sin{\\left(\\theta \\right)}} & 0\\\\0 & - \\frac{1}{2 \\sin{\\left(\\theta \\right)}} & 0 & \\frac{1}{2 \\tan{\\left(\\theta \\right)}}\\\\\\frac{\\frac{d}{d r} g{\\left(r \\right)}}{2 g{\\left(r \\right)}} & 0 & \\frac{1}{2 \\tan{\\left(\\theta \\right)}} & 0\\end{matrix}\\right]\\end{matrix}\\right]$"
      ],
      "text/plain": [
       "⎡⎡ d                                                                         ⎤\n",
       "⎢⎢-──(f(r))                                                                  ⎥\n",
       "⎢⎢ dr                                                                        ⎥\n",
       "⎢⎢──────────            0                    0                   0           ⎥\n",
       "⎢⎢  2⋅f(r)                                                                   ⎥\n",
       "⎢⎢                                                                           ⎥\n",
       "⎢⎢                     d                                            d        ⎥\n",
       "⎢⎢               -f(r)⋅──(g(r))                        -f(r)⋅cos(θ)⋅──(g(r)) ⎥\n",
       "⎢⎢                     dr                                           dr       ⎥\n",
       "⎢⎢    0          ───────────────             0         ──────────────────────⎥\n",
       "⎢⎢                      8                                        8           ⎥\n",
       "⎢⎢                                                                           ⎥\n",
       "⎢⎢                                          d                                ⎥\n",
       "⎢⎢                                    -f(r)⋅──(g(r))                         ⎥\n",
       "⎢⎢                                          dr                               ⎥\n",
       "⎢⎢    0                 0             ───────────────            0           ⎥\n",
       "⎢⎢                                           8                               ⎥\n",
       "⎢⎢                                                                           ⎥\n",
       "⎢⎢                         d                                    d            ⎥\n",
       "⎢⎢            -f(r)⋅cos(θ)⋅──(g(r))                       -f(r)⋅──(g(r))     ⎥\n",
       "⎢⎢                         dr                                   dr           ⎥\n",
       "⎢⎢    0       ──────────────────────         0            ───────────────    ⎥\n",
       "⎣⎣                      8                                        8           ⎦\n",
       "\n",
       "                                                                              \n",
       "                                                                              \n",
       "  ⎡          d                           ⎤  ⎡                  d              \n",
       "  ⎢          ──(g(r))                    ⎥  ⎢                  ──(g(r))       \n",
       "  ⎢          dr                          ⎥  ⎢                  dr             \n",
       "  ⎢   0      ────────     0         0    ⎥  ⎢   0        0     ────────    0  \n",
       "  ⎢           2⋅g(r)                     ⎥  ⎢                   2⋅g(r)        \n",
       "  ⎢                                      ⎥  ⎢                                 \n",
       "  ⎢d                                     ⎥  ⎢                            sin(θ\n",
       "  ⎢──(g(r))                              ⎥  ⎢   0        0        0      ─────\n",
       "  ⎢dr                     1              ⎥  ⎢                              2  \n",
       "  ⎢────────     0      ────────     0    ⎥  ⎢                                 \n",
       "  ⎢ 2⋅g(r)             2⋅tan(θ)          ⎥  ⎢d                                \n",
       "  ⎢                                      ⎥  ⎢──(g(r))                         \n",
       "  ⎢             1                  -1    ⎥  ⎢dr                               \n",
       "  ⎢   0      ────────     0      ────────⎥  ⎢────────    0        0        0  \n",
       "  ⎢          2⋅tan(θ)            2⋅sin(θ)⎥  ⎢ 2⋅g(r)                          \n",
       "  ⎢                                      ⎥  ⎢                                 \n",
       "  ⎢                      -1              ⎥  ⎢          sin(θ)                 \n",
       "  ⎢   0         0      ────────     0    ⎥  ⎢   0      ──────     0        0  \n",
       "  ⎣                    2⋅sin(θ)          ⎦  ⎣            2                    \n",
       "                                                                              \n",
       "                                                                              \n",
       "\n",
       "                                            ⎤\n",
       "                                            ⎥\n",
       " ⎤  ⎡                              d       ⎤⎥\n",
       " ⎥  ⎢                              ──(g(r))⎥⎥\n",
       " ⎥  ⎢                              dr      ⎥⎥\n",
       " ⎥  ⎢   0         0         0      ────────⎥⎥\n",
       " ⎥  ⎢                               2⋅g(r) ⎥⎥\n",
       " ⎥  ⎢                                      ⎥⎥\n",
       ")⎥  ⎢                      -1              ⎥⎥\n",
       "─⎥  ⎢   0         0      ────────     0    ⎥⎥\n",
       " ⎥  ⎢                    2⋅sin(θ)          ⎥⎥\n",
       " ⎥  ⎢                                      ⎥⎥\n",
       " ⎥  ⎢            -1                   1    ⎥⎥\n",
       " ⎥  ⎢   0      ────────     0      ────────⎥⎥\n",
       " ⎥  ⎢          2⋅sin(θ)            2⋅tan(θ)⎥⎥\n",
       " ⎥  ⎢                                      ⎥⎥\n",
       " ⎥  ⎢d                                     ⎥⎥\n",
       " ⎥  ⎢──(g(r))                              ⎥⎥\n",
       " ⎥  ⎢dr                     1              ⎥⎥\n",
       " ⎥  ⎢────────     0      ────────     0    ⎥⎥\n",
       " ⎦  ⎣ 2⋅g(r)             2⋅tan(θ)          ⎦⎥\n",
       "                                            ⎥\n",
       "                                            ⎦"
      ]
     },
     "execution_count": 30,
     "metadata": {},
     "output_type": "execute_result"
    }
   ],
   "source": [
    "ch = ChristoffelSymbols.from_metric(sch)\n",
    "ch = ch.tensor().simplify()\n",
    "ch"
   ]
  },
  {
   "cell_type": "markdown",
   "id": "326ce9e7",
   "metadata": {},
   "source": [
    "These quantities have been verified by hand:"
   ]
  },
  {
   "cell_type": "code",
   "execution_count": 31,
   "id": "b4590ec0",
   "metadata": {},
   "outputs": [
    {
     "data": {
      "text/latex": [
       "$\\displaystyle \\left[\\begin{matrix}0 & \\frac{2 L f{\\left(r \\right)} \\frac{d}{d r} \\Phi{\\left(r \\right)}}{g{\\left(r \\right)}} & 0 & 0\\\\- \\frac{2 L f{\\left(r \\right)} \\frac{d}{d r} \\Phi{\\left(r \\right)}}{g{\\left(r \\right)}} & 0 & - \\frac{8 L \\Phi{\\left(r \\right)}}{g^{2}{\\left(r \\right)} \\tan{\\left(\\theta \\right)}} & 0\\\\0 & \\frac{8 L \\Phi{\\left(r \\right)}}{g^{2}{\\left(r \\right)} \\tan{\\left(\\theta \\right)}} & 0 & - \\frac{8 L \\Phi{\\left(r \\right)}}{g^{2}{\\left(r \\right)} \\sin{\\left(\\theta \\right)}}\\\\0 & 0 & \\frac{8 L \\Phi{\\left(r \\right)}}{g^{2}{\\left(r \\right)} \\sin{\\left(\\theta \\right)}} & 0\\end{matrix}\\right]$"
      ],
      "text/plain": [
       "⎡                              d                                   ⎤\n",
       "⎢                     2⋅L⋅f(r)⋅──(Φ(r))                            ⎥\n",
       "⎢                              dr                                  ⎥\n",
       "⎢         0           ─────────────────       0             0      ⎥\n",
       "⎢                            g(r)                                  ⎥\n",
       "⎢                                                                  ⎥\n",
       "⎢          d                                                       ⎥\n",
       "⎢-2⋅L⋅f(r)⋅──(Φ(r))                                                ⎥\n",
       "⎢          dr                             -8⋅L⋅Φ(r)                ⎥\n",
       "⎢───────────────────          0          ────────────       0      ⎥\n",
       "⎢        g(r)                             2                        ⎥\n",
       "⎢                                        g (r)⋅tan(θ)              ⎥\n",
       "⎢                                                                  ⎥\n",
       "⎢                         8⋅L⋅Φ(r)                      -8⋅L⋅Φ(r)  ⎥\n",
       "⎢         0             ────────────          0        ────────────⎥\n",
       "⎢                        2                              2          ⎥\n",
       "⎢                       g (r)⋅tan(θ)                   g (r)⋅sin(θ)⎥\n",
       "⎢                                                                  ⎥\n",
       "⎢                                          8⋅L⋅Φ(r)                ⎥\n",
       "⎢         0                   0          ────────────       0      ⎥\n",
       "⎢                                         2                        ⎥\n",
       "⎣                                        g (r)⋅sin(θ)              ⎦"
      ]
     },
     "execution_count": 31,
     "metadata": {},
     "output_type": "execute_result"
    }
   ],
   "source": [
    "Fgg_tensor = TensorHead('Fgg', [Euclidean] * 6)\n",
    "Fgg_matrix = sympy.tensorproduct(F_3, metric_inv, metric_inv)\n",
    "repl = {Fgg_tensor(-i0, -i1, i2, i3, i4, i5): Fgg_matrix}\n",
    "F_upper_indices = Fgg_tensor(-i0, -i1, i0, i2, i1, i3).replace_with_arrays(repl)\n",
    "F_upper_indices = sympy.simplify(F_upper_indices)\n",
    "F_upper_indices"
   ]
  },
  {
   "cell_type": "code",
   "execution_count": 32,
   "id": "cb71b1c9",
   "metadata": {},
   "outputs": [],
   "source": [
    "partial_F = sympy.MutableDenseNDimArray.zeros(4, 4, 4)\n",
    "for i in range(4):\n",
    "    for j in range(4):\n",
    "        for k in range(4):\n",
    "            partial_F[i, j, k] = sympy.diff(F_upper_indices[j, k], x[i])"
   ]
  },
  {
   "cell_type": "code",
   "execution_count": 33,
   "id": "9b16f5c8",
   "metadata": {},
   "outputs": [],
   "source": [
    "partial_F_tensor = TensorHead('partialF', [Euclidean] * 3)\n",
    "repl = {partial_F_tensor(-i0, i1, i2): partial_F}\n",
    "partial_F_contracted = partial_F_tensor(-i0, i0, i1).replace_with_arrays(repl)"
   ]
  },
  {
   "cell_type": "code",
   "execution_count": 34,
   "id": "7c7b4d0b",
   "metadata": {},
   "outputs": [
    {
     "data": {
      "text/latex": [
       "$\\displaystyle \\left[\\begin{matrix}0 & \\frac{L \\left(\\left(2 f{\\left(r \\right)} \\frac{d^{2}}{d r^{2}} \\Phi{\\left(r \\right)} + \\frac{d}{d r} \\Phi{\\left(r \\right)} \\frac{d}{d r} f{\\left(r \\right)}\\right) g{\\left(r \\right)} - 8 \\Phi{\\left(r \\right)} + f{\\left(r \\right)} \\frac{d}{d r} \\Phi{\\left(r \\right)} \\frac{d}{d r} g{\\left(r \\right)}\\right)}{g^{2}{\\left(r \\right)}} & 0 & 0\\end{matrix}\\right]$"
      ],
      "text/plain": [
       "⎡     ⎛⎛         2                          ⎞                                 \n",
       "⎢     ⎜⎜        d          d        d       ⎟                      d        d \n",
       "⎢   L⋅⎜⎜2⋅f(r)⋅───(Φ(r)) + ──(Φ(r))⋅──(f(r))⎟⋅g(r) - 8⋅Φ(r) + f(r)⋅──(Φ(r))⋅──\n",
       "⎢     ⎜⎜         2         dr       dr      ⎟                      dr       dr\n",
       "⎢     ⎝⎝       dr                           ⎠                                 \n",
       "⎢0  ──────────────────────────────────────────────────────────────────────────\n",
       "⎢                                          2                                  \n",
       "⎣                                         g (r)                               \n",
       "\n",
       "      ⎞      ⎤\n",
       "      ⎟      ⎥\n",
       "(g(r))⎟      ⎥\n",
       "      ⎟      ⎥\n",
       "      ⎠      ⎥\n",
       "───────  0  0⎥\n",
       "             ⎥\n",
       "             ⎦"
      ]
     },
     "execution_count": 34,
     "metadata": {},
     "output_type": "execute_result"
    }
   ],
   "source": [
    "lambda_F_tensor = TensorHead('lambdaF', [Euclidean] * 5)\n",
    "lambda_F_matrix = sympy.tensorproduct(ch, F_upper_indices)\n",
    "repl = {lambda_F_tensor(i0, -i1, -i2, i3, i4): lambda_F_matrix}\n",
    "partial_F_contracted += lambda_F_tensor(i0, -i0, -i1, i1, i2).replace_with_arrays(repl)\n",
    "partial_F_contracted += lambda_F_tensor(i0, -i1, -i2, i1, i2).replace_with_arrays(repl)\n",
    "partial_F_contracted = sympy.simplify(partial_F_contracted)\n",
    "partial_F_contracted"
   ]
  },
  {
   "cell_type": "code",
   "execution_count": 35,
   "id": "7a500c65",
   "metadata": {},
   "outputs": [
    {
     "data": {
      "image/png": "[encoded data removed]",
      "text/latex": [
       "$\\displaystyle \\frac{L \\left(\\left(2 f{\\left(r \\right)} \\frac{d^{2}}{d r^{2}} \\Phi{\\left(r \\right)} + \\frac{d}{d r} \\Phi{\\left(r \\right)} \\frac{d}{d r} f{\\left(r \\right)}\\right) g{\\left(r \\right)} - 8 \\Phi{\\left(r \\right)} + f{\\left(r \\right)} \\frac{d}{d r} \\Phi{\\left(r \\right)} \\frac{d}{d r} g{\\left(r \\right)}\\right)}{g^{2}{\\left(r \\right)}}$"
      ],
      "text/plain": [
       "  ⎛⎛         2                          ⎞                                     \n",
       "  ⎜⎜        d          d        d       ⎟                      d        d     \n",
       "L⋅⎜⎜2⋅f(r)⋅───(Φ(r)) + ──(Φ(r))⋅──(f(r))⎟⋅g(r) - 8⋅Φ(r) + f(r)⋅──(Φ(r))⋅──(g(r\n",
       "  ⎜⎜         2         dr       dr      ⎟                      dr       dr    \n",
       "  ⎝⎝       dr                           ⎠                                     \n",
       "──────────────────────────────────────────────────────────────────────────────\n",
       "                                       2                                      \n",
       "                                      g (r)                                   \n",
       "\n",
       "  ⎞\n",
       "  ⎟\n",
       "))⎟\n",
       "  ⎟\n",
       "  ⎠\n",
       "───\n",
       "   \n",
       "   "
      ]
     },
     "execution_count": 35,
     "metadata": {},
     "output_type": "execute_result"
    }
   ],
   "source": [
    "partial_F_contracted[1]"
   ]
  },
  {
   "cell_type": "markdown",
   "id": "6cfc8d5e",
   "metadata": {},
   "source": [
    "Compute the extrinsic curvature on the boundary."
   ]
  },
  {
   "cell_type": "code",
   "execution_count": 36,
   "id": "feda808e",
   "metadata": {},
   "outputs": [
    {
     "data": {
      "text/latex": [
       "$\\displaystyle \\left[\\begin{matrix}\\frac{1}{\\sqrt{f{\\left(r \\right)}}} & 0 & 0 & 0\\end{matrix}\\right]$"
      ],
      "text/plain": [
       "⎡   1             ⎤\n",
       "⎢────────  0  0  0⎥\n",
       "⎢  ______         ⎥\n",
       "⎣╲╱ f(r)          ⎦"
      ]
     },
     "execution_count": 36,
     "metadata": {},
     "output_type": "execute_result"
    }
   ],
   "source": [
    "gn_tensor = TensorHead('gn', [Euclidean] * 3)\n",
    "repl = {gn_tensor(-i0, -i1, i2): sympy.tensorproduct(list2d, [sympy.sqrt(f), 0, 0, 0])}\n",
    "n_lower = sympy.simplify(gn_tensor(-i0, -i1, i1).replace_with_arrays(repl))\n",
    "n_lower"
   ]
  },
  {
   "cell_type": "code",
   "execution_count": 37,
   "id": "5ced8651",
   "metadata": {},
   "outputs": [],
   "source": [
    "partial_n = sympy.MutableDenseNDimArray.zeros(4, 4)\n",
    "for i in range(4):\n",
    "    for j in range(4):\n",
    "            partial_n[i, j] = sympy.diff(n_lower[j], x[i]) "
   ]
  },
  {
   "cell_type": "code",
   "execution_count": 38,
   "id": "08850079",
   "metadata": {},
   "outputs": [
    {
     "data": {
      "text/latex": [
       "$\\displaystyle \\left[\\begin{matrix}0 & 0 & 0 & 0\\\\0 & \\frac{\\sqrt{f{\\left(r \\right)}} \\frac{d}{d r} g{\\left(r \\right)}}{8} & 0 & \\frac{\\sqrt{f{\\left(r \\right)}} \\cos{\\left(\\theta \\right)} \\frac{d}{d r} g{\\left(r \\right)}}{8}\\\\0 & 0 & \\frac{\\sqrt{f{\\left(r \\right)}} \\frac{d}{d r} g{\\left(r \\right)}}{8} & 0\\\\0 & \\frac{\\sqrt{f{\\left(r \\right)}} \\cos{\\left(\\theta \\right)} \\frac{d}{d r} g{\\left(r \\right)}}{8} & 0 & \\frac{\\sqrt{f{\\left(r \\right)}} \\frac{d}{d r} g{\\left(r \\right)}}{8}\\end{matrix}\\right]$"
      ],
      "text/plain": [
       "⎡0             0                      0                     0            ⎤\n",
       "⎢                                                                        ⎥\n",
       "⎢        ______ d                                  ______        d       ⎥\n",
       "⎢      ╲╱ f(r) ⋅──(g(r))                         ╲╱ f(r) ⋅cos(θ)⋅──(g(r))⎥\n",
       "⎢               dr                                               dr      ⎥\n",
       "⎢0     ─────────────────              0          ────────────────────────⎥\n",
       "⎢              8                                            8            ⎥\n",
       "⎢                                                                        ⎥\n",
       "⎢                               ______ d                                 ⎥\n",
       "⎢                             ╲╱ f(r) ⋅──(g(r))                          ⎥\n",
       "⎢                                      dr                                ⎥\n",
       "⎢0             0              ─────────────────             0            ⎥\n",
       "⎢                                     8                                  ⎥\n",
       "⎢                                                                        ⎥\n",
       "⎢     ______        d                                 ______ d           ⎥\n",
       "⎢   ╲╱ f(r) ⋅cos(θ)⋅──(g(r))                        ╲╱ f(r) ⋅──(g(r))    ⎥\n",
       "⎢                   dr                                       dr          ⎥\n",
       "⎢0  ────────────────────────          0             ─────────────────    ⎥\n",
       "⎣              8                                            8            ⎦"
      ]
     },
     "execution_count": 38,
     "metadata": {},
     "output_type": "execute_result"
    }
   ],
   "source": [
    "lambda_n_tensor = TensorHead('lambdan', [Euclidean] * 4)\n",
    "repl = {lambda_n_tensor(i0, -i1, -i2, -i3): sympy.tensorproduct(ch, n_lower)}\n",
    "partial_n -= lambda_n_tensor(i0, -i1, -i2, -i0).replace_with_arrays(repl)\n",
    "partial_n = sympy.simplify(partial_n)\n",
    "partial_n"
   ]
  },
  {
   "cell_type": "code",
   "execution_count": 39,
   "id": "1994a928",
   "metadata": {},
   "outputs": [
    {
     "data": {
      "image/png": "[encoded data removed]",
      "text/latex": [
       "$\\displaystyle \\frac{3 \\sqrt{f{\\left(r \\right)}} \\frac{d}{d r} g{\\left(r \\right)}}{2 g{\\left(r \\right)}}$"
      ],
      "text/plain": [
       "    ______ d       \n",
       "3⋅╲╱ f(r) ⋅──(g(r))\n",
       "           dr      \n",
       "───────────────────\n",
       "       2⋅g(r)      "
      ]
     },
     "execution_count": 39,
     "metadata": {},
     "output_type": "execute_result"
    }
   ],
   "source": [
    "g_partial_n_tensor = TensorHead('gpartialn', [Euclidean] * 4)\n",
    "repl = {g_partial_n_tensor(i0, i1, -i2, -i3): sympy.tensorproduct(metric_inv, partial_n)}\n",
    "K = sympy.simplify(g_partial_n_tensor(i0, i1, -i0, -i1).replace_with_arrays(repl))\n",
    "K"
   ]
  },
  {
   "cell_type": "code",
   "execution_count": 40,
   "id": "b2ee00ce",
   "metadata": {},
   "outputs": [
    {
     "data": {
      "text/latex": [
       "$\\displaystyle \\left[\\begin{matrix}\\frac{g{\\left(r \\right)}}{4} & 0 & \\frac{g{\\left(r \\right)} \\cos{\\left(\\theta \\right)}}{4}\\\\0 & \\frac{g{\\left(r \\right)}}{4} & 0\\\\\\frac{g{\\left(r \\right)} \\cos{\\left(\\theta \\right)}}{4} & 0 & \\frac{g{\\left(r \\right)}}{4}\\end{matrix}\\right]$"
      ],
      "text/plain": [
       "⎡   g(r)            g(r)⋅cos(θ)⎤\n",
       "⎢   ────       0    ───────────⎥\n",
       "⎢    4                   4     ⎥\n",
       "⎢                              ⎥\n",
       "⎢             g(r)             ⎥\n",
       "⎢     0       ────       0     ⎥\n",
       "⎢              4               ⎥\n",
       "⎢                              ⎥\n",
       "⎢g(r)⋅cos(θ)           g(r)    ⎥\n",
       "⎢───────────   0       ────    ⎥\n",
       "⎣     4                 4      ⎦"
      ]
     },
     "execution_count": 40,
     "metadata": {},
     "output_type": "execute_result"
    }
   ],
   "source": [
    "induced_metric_list = [[0 for i in range(3)] for i in range(3)]\n",
    "induced_metric_list[0][0] = induced_metric_list[1][1] = induced_metric_list[2][2] = g / 4\n",
    "induced_metric_list[0][2] = induced_metric_list[2][0] = g / 4 * sympy.cos(theta)\n",
    "induced_metric = MetricTensor(induced_metric_list, (psi, theta, phi))\n",
    "induced_metric.tensor()"
   ]
  },
  {
   "cell_type": "code",
   "execution_count": 41,
   "id": "3d6ca7b2",
   "metadata": {},
   "outputs": [
    {
     "data": {
      "image/png": "[encoded data removed]",
      "text/latex": [
       "$\\displaystyle \\frac{g^{3}{\\left(r \\right)} \\sin^{2}{\\left(\\theta \\right)}}{64}$"
      ],
      "text/plain": [
       " 3       2   \n",
       "g (r)⋅sin (θ)\n",
       "─────────────\n",
       "      64     "
      ]
     },
     "execution_count": 41,
     "metadata": {},
     "output_type": "execute_result"
    }
   ],
   "source": [
    "det_h = sympy.Matrix(induced_metric.tensor()).det().simplify()\n",
    "det_h"
   ]
  },
  {
   "cell_type": "code",
   "execution_count": 42,
   "id": "b97b93d5",
   "metadata": {},
   "outputs": [
    {
     "data": {
      "image/png": "[encoded data removed]",
      "text/latex": [
       "$\\displaystyle \\frac{3 \\sqrt{g^{3}{\\left(r \\right)} \\sin^{2}{\\left(\\theta \\right)}} \\sqrt{f{\\left(r \\right)}} \\frac{d}{d r} g{\\left(r \\right)}}{16 g{\\left(r \\right)}}$"
      ],
      "text/plain": [
       "     _______________                  \n",
       "    ╱  3       2       ______ d       \n",
       "3⋅╲╱  g (r)⋅sin (θ) ⋅╲╱ f(r) ⋅──(g(r))\n",
       "                              dr      \n",
       "──────────────────────────────────────\n",
       "               16⋅g(r)                "
      ]
     },
     "execution_count": 42,
     "metadata": {},
     "output_type": "execute_result"
    }
   ],
   "source": [
    "ghy_term = sympy.sqrt(det_h) * K\n",
    "ghy_term.simplify()"
   ]
  },
  {
   "cell_type": "markdown",
   "id": "88510da8",
   "metadata": {},
   "source": [
    "The variation of this agrees with the boundary term produced by varying the on-shell action, as expected."
   ]
  },
  {
   "cell_type": "markdown",
   "id": "6840be60",
   "metadata": {},
   "source": [
    "Compute the counterterms."
   ]
  },
  {
   "cell_type": "code",
   "execution_count": 43,
   "id": "cf8bb28f",
   "metadata": {},
   "outputs": [
    {
     "data": {
      "text/latex": [
       "$\\displaystyle \\left[\\begin{matrix}\\frac{1}{2} & 0 & \\frac{\\cos{\\left(\\theta \\right)}}{2}\\\\0 & \\frac{1}{2} & 0\\\\\\frac{\\cos{\\left(\\theta \\right)}}{2} & 0 & \\frac{1}{2}\\end{matrix}\\right]$"
      ],
      "text/plain": [
       "⎡             cos(θ)⎤\n",
       "⎢ 1/2     0   ──────⎥\n",
       "⎢               2   ⎥\n",
       "⎢                   ⎥\n",
       "⎢  0     1/2    0   ⎥\n",
       "⎢                   ⎥\n",
       "⎢cos(θ)             ⎥\n",
       "⎢──────   0    1/2  ⎥\n",
       "⎣  2                ⎦"
      ]
     },
     "execution_count": 43,
     "metadata": {},
     "output_type": "execute_result"
    }
   ],
   "source": [
    "Ric_induced = RicciTensor.from_metric(induced_metric)\n",
    "Ric_induced.tensor().simplify()"
   ]
  },
  {
   "cell_type": "code",
   "execution_count": 44,
   "id": "4bc4399d",
   "metadata": {},
   "outputs": [
    {
     "data": {
      "image/png": "[encoded data removed]",
      "text/latex": [
       "$\\displaystyle \\frac{6}{g{\\left(r \\right)}}$"
      ],
      "text/plain": [
       " 6  \n",
       "────\n",
       "g(r)"
      ]
     },
     "execution_count": 44,
     "metadata": {},
     "output_type": "execute_result"
    }
   ],
   "source": [
    "R_induced = RicciScalar.from_riccitensor(Ric_induced)\n",
    "R_induced.simplify()\n",
    "R_induced.expr"
   ]
  },
  {
   "cell_type": "code",
   "execution_count": 45,
   "id": "abfa4ccd",
   "metadata": {},
   "outputs": [
    {
     "data": {
      "image/png": "[encoded data removed]",
      "text/latex": [
       "$\\displaystyle \\frac{\\sqrt{g^{3}{\\left(r \\right)} \\sin^{2}{\\left(\\theta \\right)}} \\left(3 L^{2} + 2 g{\\left(r \\right)}\\right)}{4 L g{\\left(r \\right)}}$"
      ],
      "text/plain": [
       "   _______________                \n",
       "  ╱  3       2     ⎛   2         ⎞\n",
       "╲╱  g (r)⋅sin (θ) ⋅⎝3⋅L  + 2⋅g(r)⎠\n",
       "──────────────────────────────────\n",
       "             4⋅L⋅g(r)             "
      ]
     },
     "execution_count": 45,
     "metadata": {},
     "output_type": "execute_result"
    }
   ],
   "source": [
    "counterterms = 4 / L * sympy.sqrt(det_h) + L * sympy.sqrt(det_h) * R_induced.expr\n",
    "counterterms.simplify()"
   ]
  }
 ],
 "metadata": {
  "kernelspec": {
   "display_name": "Python 3.10.3 ('env': venv)",
   "language": "python",
   "name": "python3"
  },
  "language_info": {
   "codemirror_mode": {
    "name": "ipython",
    "version": 3
   },
   "file_extension": ".py",
   "mimetype": "text/x-python",
   "name": "python",
   "nbconvert_exporter": "python",
   "pygments_lexer": "ipython3",
   "version": "3.10.3"
  },
  "vscode": {
   "interpreter": {
    "hash": "c4cf3c24cb46a3fd1f6949e64220e8351ad1410e125a86590159f01143d71e6f"
   }
  }
 },
 "nbformat": 4,
 "nbformat_minor": 5
}
