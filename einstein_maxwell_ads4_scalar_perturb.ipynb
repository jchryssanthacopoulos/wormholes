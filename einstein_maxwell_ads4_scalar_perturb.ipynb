{
 "cells": [
  {
   "cell_type": "code",
   "execution_count": 1,
   "id": "6d9963f1",
   "metadata": {},
   "outputs": [],
   "source": [
    "import sympy\n",
    "from sympy.tensor.tensor import TensorIndexType, TensorIndex, TensorHead, tensor_indices, TensorSymmetry\n",
    "from einsteinpy.symbolic import RicciTensor, RicciScalar, MetricTensor, ChristoffelSymbols\n",
    "\n",
    "sympy.init_printing()"
   ]
  },
  {
   "cell_type": "markdown",
   "id": "4bed673d",
   "metadata": {},
   "source": [
    "### Quadratic Action"
   ]
  },
  {
   "cell_type": "markdown",
   "id": "5e2d3d68",
   "metadata": {},
   "source": [
    "First compute the action that is quadratic in the perturbations."
   ]
  },
  {
   "cell_type": "markdown",
   "id": "7cd90310",
   "metadata": {},
   "source": [
    "Start with the Ricci scalar."
   ]
  },
  {
   "cell_type": "code",
   "execution_count": 2,
   "id": "32fad34e",
   "metadata": {},
   "outputs": [],
   "source": [
    "syms = sympy.symbols(\"r psi theta phi\")\n",
    "r, psi, theta, phi = syms"
   ]
  },
  {
   "cell_type": "code",
   "execution_count": 3,
   "id": "129df29a",
   "metadata": {},
   "outputs": [],
   "source": [
    "L = sympy.symbols(\"L\")  # AdS length scale\n",
    "r_0 = sympy.symbols(\"r_0\")"
   ]
  },
  {
   "cell_type": "code",
   "execution_count": 4,
   "id": "9b15ef78",
   "metadata": {},
   "outputs": [],
   "source": [
    "# perturbation of the spherical part of the metric\n",
    "g_0 = sympy.Function('g_0')(r)\n",
    "delta_g = sympy.Function('delta_g')(r)\n",
    "g = g_0 + delta_g"
   ]
  },
  {
   "cell_type": "code",
   "execution_count": 5,
   "id": "e266e3a3",
   "metadata": {},
   "outputs": [],
   "source": [
    "# perturbation of radial part of the metric\n",
    "f_0 = sympy.Function('f_0')(r)\n",
    "delta_f = sympy.Function('delta_f')(r)\n",
    "f = f_0 + delta_f"
   ]
  },
  {
   "cell_type": "code",
   "execution_count": 6,
   "id": "5e7cb706",
   "metadata": {},
   "outputs": [],
   "source": [
    "# perturbation of gauge field\n",
    "Phi_0 = sympy.Function('Phi_0')(r)\n",
    "delta_Phi = sympy.Function('delta_\\Phi')(r)\n",
    "Phi = Phi_0 + delta_Phi"
   ]
  },
  {
   "cell_type": "code",
   "execution_count": 7,
   "id": "94e4c6d7",
   "metadata": {},
   "outputs": [
    {
     "data": {
      "text/latex": [
       "$\\displaystyle \\left[\\begin{matrix}\\frac{1}{\\delta_{f}{\\left(r \\right)} + f_{0}{\\left(r \\right)}} & 0 & 0 & 0\\\\0 & \\frac{\\delta_{g}{\\left(r \\right)}}{4} + \\frac{g_{0}{\\left(r \\right)}}{4} & 0 & \\left(\\frac{\\delta_{g}{\\left(r \\right)}}{4} + \\frac{g_{0}{\\left(r \\right)}}{4}\\right) \\cos{\\left(\\theta \\right)}\\\\0 & 0 & \\frac{\\delta_{g}{\\left(r \\right)}}{4} + \\frac{g_{0}{\\left(r \\right)}}{4} & 0\\\\0 & \\left(\\frac{\\delta_{g}{\\left(r \\right)}}{4} + \\frac{g_{0}{\\left(r \\right)}}{4}\\right) \\cos{\\left(\\theta \\right)} & 0 & \\frac{\\delta_{g}{\\left(r \\right)}}{4} + \\frac{g_{0}{\\left(r \\right)}}{4}\\end{matrix}\\right]$"
      ],
      "text/plain": [
       "⎡      1                                                                      \n",
       "⎢──────────────             0                   0                    0        \n",
       "⎢δ_f(r) + f₀(r)                                                               \n",
       "⎢                                                                             \n",
       "⎢                    δ_g(r)   g₀(r)                       ⎛δ_g(r)   g₀(r)⎞    \n",
       "⎢      0             ────── + ─────             0         ⎜────── + ─────⎟⋅cos\n",
       "⎢                      4        4                         ⎝  4        4  ⎠    \n",
       "⎢                                                                             \n",
       "⎢                                         δ_g(r)   g₀(r)                      \n",
       "⎢      0                    0             ────── + ─────             0        \n",
       "⎢                                           4        4                        \n",
       "⎢                                                                             \n",
       "⎢                ⎛δ_g(r)   g₀(r)⎞                             δ_g(r)   g₀(r)  \n",
       "⎢      0         ⎜────── + ─────⎟⋅cos(θ)        0             ────── + ─────  \n",
       "⎣                ⎝  4        4  ⎠                               4        4    \n",
       "\n",
       "   ⎤\n",
       "   ⎥\n",
       "   ⎥\n",
       "   ⎥\n",
       "   ⎥\n",
       "(θ)⎥\n",
       "   ⎥\n",
       "   ⎥\n",
       "   ⎥\n",
       "   ⎥\n",
       "   ⎥\n",
       "   ⎥\n",
       "   ⎥\n",
       "   ⎥\n",
       "   ⎦"
      ]
     },
     "execution_count": 7,
     "metadata": {},
     "output_type": "execute_result"
    }
   ],
   "source": [
    "list2d = [[0 for i in range(4)] for i in range(4)]\n",
    "list2d[0][0] = 1 / f\n",
    "list2d[1][1] = list2d[2][2] = list2d[3][3] = g / 4\n",
    "list2d[1][3] = list2d[3][1] = g / 4 * sympy.cos(theta)\n",
    "sch = MetricTensor(list2d, syms)\n",
    "sch.tensor()"
   ]
  },
  {
   "cell_type": "code",
   "execution_count": 8,
   "id": "c08ef89f",
   "metadata": {},
   "outputs": [],
   "source": [
    "Ric = RicciTensor.from_metric(sch)"
   ]
  },
  {
   "cell_type": "code",
   "execution_count": 9,
   "id": "1571302a",
   "metadata": {},
   "outputs": [
    {
     "data": {
      "image/png": "[encoded data removed]",
      "text/latex": [
       "$\\displaystyle \\frac{3 \\left(- 2 \\delta_{f}{\\left(r \\right)} \\frac{d^{2}}{d r^{2}} \\delta_{g}{\\left(r \\right)} - 2 \\delta_{f}{\\left(r \\right)} \\frac{d^{2}}{d r^{2}} g_{0}{\\left(r \\right)} - 2 f_{0}{\\left(r \\right)} \\frac{d^{2}}{d r^{2}} \\delta_{g}{\\left(r \\right)} - 2 f_{0}{\\left(r \\right)} \\frac{d^{2}}{d r^{2}} g_{0}{\\left(r \\right)} - \\frac{d}{d r} \\delta_{f}{\\left(r \\right)} \\frac{d}{d r} \\delta_{g}{\\left(r \\right)} - \\frac{d}{d r} \\delta_{f}{\\left(r \\right)} \\frac{d}{d r} g_{0}{\\left(r \\right)} - \\frac{d}{d r} \\delta_{g}{\\left(r \\right)} \\frac{d}{d r} f_{0}{\\left(r \\right)} - \\frac{d}{d r} f_{0}{\\left(r \\right)} \\frac{d}{d r} g_{0}{\\left(r \\right)} + 4\\right)}{2 \\left(\\delta_{g}{\\left(r \\right)} + g_{0}{\\left(r \\right)}\\right)}$"
      ],
      "text/plain": [
       "  ⎛             2                      2                    2                 \n",
       "  ⎜            d                      d                    d                  \n",
       "3⋅⎜- 2⋅δ_f(r)⋅───(δ_g(r)) - 2⋅δ_f(r)⋅───(g₀(r)) - 2⋅f₀(r)⋅───(δ_g(r)) - 2⋅f₀(r\n",
       "  ⎜             2                      2                    2                 \n",
       "  ⎝           dr                     dr                   dr                  \n",
       "──────────────────────────────────────────────────────────────────────────────\n",
       "                                                                              \n",
       "\n",
       "    2                                                                         \n",
       "   d           d          d            d          d           d          d    \n",
       ")⋅───(g₀(r)) - ──(δ_f(r))⋅──(δ_g(r)) - ──(δ_f(r))⋅──(g₀(r)) - ──(δ_g(r))⋅──(f₀\n",
       "    2          dr         dr           dr         dr          dr         dr   \n",
       "  dr                                                                          \n",
       "──────────────────────────────────────────────────────────────────────────────\n",
       "       2⋅(δ_g(r) + g₀(r))                                                     \n",
       "\n",
       "                              ⎞\n",
       "       d         d            ⎟\n",
       "(r)) - ──(f₀(r))⋅──(g₀(r)) + 4⎟\n",
       "       dr        dr           ⎟\n",
       "                              ⎠\n",
       "───────────────────────────────\n",
       "                               "
      ]
     },
     "execution_count": 9,
     "metadata": {},
     "output_type": "execute_result"
    }
   ],
   "source": [
    "R = RicciScalar.from_riccitensor(Ric)\n",
    "R.simplify()\n",
    "R.expr"
   ]
  },
  {
   "cell_type": "markdown",
   "id": "ecedbb82",
   "metadata": {},
   "source": [
    "Next compute the Maxwell field contribution to the action."
   ]
  },
  {
   "cell_type": "code",
   "execution_count": 10,
   "id": "98747a35",
   "metadata": {},
   "outputs": [],
   "source": [
    "\n",
    "A_1 = L / 2 * Phi * sympy.Array([0, 0, -sympy.sin(psi), sympy.cos(psi) * sympy.sin(theta)])\n",
    "A_2 = L / 2 * Phi * sympy.Array([0, 0, sympy.cos(psi), sympy.sin(psi) * sympy.sin(theta)])\n",
    "A_3 = L / 2 * Phi * sympy.Array([0, 1, 0, sympy.cos(theta)])"
   ]
  },
  {
   "cell_type": "code",
   "execution_count": 11,
   "id": "d7e48bba",
   "metadata": {},
   "outputs": [
    {
     "data": {
      "text/latex": [
       "$\\displaystyle \\left( \\left[\\begin{matrix}0 & 0 & - \\frac{L \\left(\\Phi_{0}{\\left(r \\right)} + \\delta_{\\Phi}{\\left(r \\right)}\\right) \\sin{\\left(\\psi \\right)}}{2} & \\frac{L \\left(\\Phi_{0}{\\left(r \\right)} + \\delta_{\\Phi}{\\left(r \\right)}\\right) \\sin{\\left(\\theta \\right)} \\cos{\\left(\\psi \\right)}}{2}\\end{matrix}\\right], \\  \\left[\\begin{matrix}0 & 0 & \\frac{L \\left(\\Phi_{0}{\\left(r \\right)} + \\delta_{\\Phi}{\\left(r \\right)}\\right) \\cos{\\left(\\psi \\right)}}{2} & \\frac{L \\left(\\Phi_{0}{\\left(r \\right)} + \\delta_{\\Phi}{\\left(r \\right)}\\right) \\sin{\\left(\\psi \\right)} \\sin{\\left(\\theta \\right)}}{2}\\end{matrix}\\right], \\  \\left[\\begin{matrix}0 & \\frac{L \\left(\\Phi_{0}{\\left(r \\right)} + \\delta_{\\Phi}{\\left(r \\right)}\\right)}{2} & 0 & \\frac{L \\left(\\Phi_{0}{\\left(r \\right)} + \\delta_{\\Phi}{\\left(r \\right)}\\right) \\cos{\\left(\\theta \\right)}}{2}\\end{matrix}\\right]\\right)$"
      ],
      "text/plain": [
       "⎛⎡      -L⋅(Φ₀(r) + δ_\\Phi(r))⋅sin(ψ)   L⋅(Φ₀(r) + δ_\\Phi(r))⋅sin(θ)⋅cos(ψ)⎤  \n",
       "⎜⎢0  0  ──────────────────────────────  ───────────────────────────────────⎥, \n",
       "⎝⎣                    2                                  2                 ⎦  \n",
       "\n",
       "⎡      L⋅(Φ₀(r) + δ_\\Phi(r))⋅cos(ψ)  L⋅(Φ₀(r) + δ_\\Phi(r))⋅sin(ψ)⋅sin(θ)⎤  ⎡  \n",
       "⎢0  0  ────────────────────────────  ───────────────────────────────────⎥, ⎢0 \n",
       "⎣                   2                                 2                 ⎦  ⎣  \n",
       "\n",
       " L⋅(Φ₀(r) + δ_\\Phi(r))     L⋅(Φ₀(r) + δ_\\Phi(r))⋅cos(θ)⎤⎞\n",
       " ─────────────────────  0  ────────────────────────────⎥⎟\n",
       "           2                            2              ⎦⎠"
      ]
     },
     "execution_count": 11,
     "metadata": {},
     "output_type": "execute_result"
    }
   ],
   "source": [
    "A_1, A_2, A_3"
   ]
  },
  {
   "cell_type": "code",
   "execution_count": 12,
   "id": "e25dd6e1",
   "metadata": {},
   "outputs": [],
   "source": [
    "x = [r, psi, theta, phi]\n",
    "def em_field_strength(A):\n",
    "    \"\"\"Compute EM field strength from the vector potential.\"\"\"    \n",
    "    F = sympy.MutableDenseNDimArray.zeros(4, 4)\n",
    "    for i in range(4):\n",
    "        for j in range(4):\n",
    "            F[i, j] = sympy.diff(A[j], x[i]) - sympy.diff(A[i], x[j])\n",
    "    return F"
   ]
  },
  {
   "cell_type": "code",
   "execution_count": 13,
   "id": "25bc08f8",
   "metadata": {},
   "outputs": [],
   "source": [
    "F_1 = em_field_strength(A_1)\n",
    "F_2 = em_field_strength(A_2)\n",
    "F_3 = em_field_strength(A_3)"
   ]
  },
  {
   "cell_type": "code",
   "execution_count": 14,
   "id": "cc97e46b",
   "metadata": {},
   "outputs": [
    {
     "data": {
      "text/latex": [
       "$\\displaystyle \\left[\\begin{matrix}\\delta_{f}{\\left(r \\right)} + f_{0}{\\left(r \\right)} & 0 & 0 & 0\\\\0 & \\frac{4}{\\left(\\delta_{g}{\\left(r \\right)} + g_{0}{\\left(r \\right)}\\right) \\sin^{2}{\\left(\\theta \\right)}} & 0 & - \\frac{4 \\cos{\\left(\\theta \\right)}}{\\left(\\delta_{g}{\\left(r \\right)} + g_{0}{\\left(r \\right)}\\right) \\sin^{2}{\\left(\\theta \\right)}}\\\\0 & 0 & \\frac{4}{\\delta_{g}{\\left(r \\right)} + g_{0}{\\left(r \\right)}} & 0\\\\0 & - \\frac{4 \\cos{\\left(\\theta \\right)}}{\\left(\\delta_{g}{\\left(r \\right)} + g_{0}{\\left(r \\right)}\\right) \\sin^{2}{\\left(\\theta \\right)}} & 0 & \\frac{4}{\\left(\\delta_{g}{\\left(r \\right)} + g_{0}{\\left(r \\right)}\\right) \\sin^{2}{\\left(\\theta \\right)}}\\end{matrix}\\right]$"
      ],
      "text/plain": [
       "⎡δ_f(r) + f₀(r)             0                    0                    0       \n",
       "⎢                                                                             \n",
       "⎢                           4                                     -4⋅cos(θ)   \n",
       "⎢      0         ────────────────────────        0         ───────────────────\n",
       "⎢                                    2                                        \n",
       "⎢                (δ_g(r) + g₀(r))⋅sin (θ)                  (δ_g(r) + g₀(r))⋅si\n",
       "⎢                                                                             \n",
       "⎢                                                4                            \n",
       "⎢      0                    0              ──────────────             0       \n",
       "⎢                                          δ_g(r) + g₀(r)                     \n",
       "⎢                                                                             \n",
       "⎢                       -4⋅cos(θ)                                     4       \n",
       "⎢      0         ────────────────────────        0         ───────────────────\n",
       "⎢                                    2                                        \n",
       "⎣                (δ_g(r) + g₀(r))⋅sin (θ)                  (δ_g(r) + g₀(r))⋅si\n",
       "\n",
       "     ⎤\n",
       "     ⎥\n",
       "     ⎥\n",
       "─────⎥\n",
       " 2   ⎥\n",
       "n (θ)⎥\n",
       "     ⎥\n",
       "     ⎥\n",
       "     ⎥\n",
       "     ⎥\n",
       "     ⎥\n",
       "     ⎥\n",
       "─────⎥\n",
       " 2   ⎥\n",
       "n (θ)⎦"
      ]
     },
     "execution_count": 14,
     "metadata": {},
     "output_type": "execute_result"
    }
   ],
   "source": [
    "metric_inv = sympy.simplify(sympy.Matrix(list2d).inv())\n",
    "metric_inv"
   ]
  },
  {
   "cell_type": "code",
   "execution_count": 15,
   "id": "07538646",
   "metadata": {},
   "outputs": [],
   "source": [
    "Euclidean = TensorIndexType('Euclidean', dummy_name='E')\n",
    "i0, i1, i2, i3, i4, i5, i6, i7 = tensor_indices('i0:8', Euclidean)"
   ]
  },
  {
   "cell_type": "code",
   "execution_count": 16,
   "id": "aca0ccaa",
   "metadata": {},
   "outputs": [],
   "source": [
    "FFgg_tensor = TensorHead('FFgg', [Euclidean] * 8)\n",
    "FFgg_matrix = (\n",
    "    sympy.tensorproduct(F_1, F_1, metric_inv, metric_inv) +\n",
    "    sympy.tensorproduct(F_2, F_2, metric_inv, metric_inv) +\n",
    "    sympy.tensorproduct(F_3, F_3, metric_inv, metric_inv)\n",
    ")\n",
    "repl = {FFgg_tensor(-i0, -i1, -i2, -i3, i4, i5, i6, i7): FFgg_matrix}"
   ]
  },
  {
   "cell_type": "code",
   "execution_count": 17,
   "id": "7780c723",
   "metadata": {},
   "outputs": [
    {
     "data": {
      "image/png": "[encoded data removed]",
      "text/latex": [
       "$\\displaystyle \\frac{6 L^{2} \\cdot \\left(4 \\Phi_{0}^{2}{\\left(r \\right)} + 8 \\Phi_{0}{\\left(r \\right)} \\delta_{\\Phi}{\\left(r \\right)} + 4 \\delta_{\\Phi}^{2}{\\left(r \\right)} + \\delta_{f}{\\left(r \\right)} \\delta_{g}{\\left(r \\right)} \\left(\\frac{d}{d r} \\Phi_{0}{\\left(r \\right)}\\right)^{2} + 2 \\delta_{f}{\\left(r \\right)} \\delta_{g}{\\left(r \\right)} \\frac{d}{d r} \\Phi_{0}{\\left(r \\right)} \\frac{d}{d r} \\delta_{\\Phi}{\\left(r \\right)} + \\delta_{f}{\\left(r \\right)} \\delta_{g}{\\left(r \\right)} \\left(\\frac{d}{d r} \\delta_{\\Phi}{\\left(r \\right)}\\right)^{2} + \\delta_{f}{\\left(r \\right)} g_{0}{\\left(r \\right)} \\left(\\frac{d}{d r} \\Phi_{0}{\\left(r \\right)}\\right)^{2} + 2 \\delta_{f}{\\left(r \\right)} g_{0}{\\left(r \\right)} \\frac{d}{d r} \\Phi_{0}{\\left(r \\right)} \\frac{d}{d r} \\delta_{\\Phi}{\\left(r \\right)} + \\delta_{f}{\\left(r \\right)} g_{0}{\\left(r \\right)} \\left(\\frac{d}{d r} \\delta_{\\Phi}{\\left(r \\right)}\\right)^{2} + \\delta_{g}{\\left(r \\right)} f_{0}{\\left(r \\right)} \\left(\\frac{d}{d r} \\Phi_{0}{\\left(r \\right)}\\right)^{2} + 2 \\delta_{g}{\\left(r \\right)} f_{0}{\\left(r \\right)} \\frac{d}{d r} \\Phi_{0}{\\left(r \\right)} \\frac{d}{d r} \\delta_{\\Phi}{\\left(r \\right)} + \\delta_{g}{\\left(r \\right)} f_{0}{\\left(r \\right)} \\left(\\frac{d}{d r} \\delta_{\\Phi}{\\left(r \\right)}\\right)^{2} + f_{0}{\\left(r \\right)} g_{0}{\\left(r \\right)} \\left(\\frac{d}{d r} \\Phi_{0}{\\left(r \\right)}\\right)^{2} + 2 f_{0}{\\left(r \\right)} g_{0}{\\left(r \\right)} \\frac{d}{d r} \\Phi_{0}{\\left(r \\right)} \\frac{d}{d r} \\delta_{\\Phi}{\\left(r \\right)} + f_{0}{\\left(r \\right)} g_{0}{\\left(r \\right)} \\left(\\frac{d}{d r} \\delta_{\\Phi}{\\left(r \\right)}\\right)^{2}\\right)}{\\left(\\delta_{g}{\\left(r \\right)} + g_{0}{\\left(r \\right)}\\right)^{2}}$"
      ],
      "text/plain": [
       "     ⎛                                                                       2\n",
       "   2 ⎜    2                                  2                    ⎛d        ⎞ \n",
       "6⋅L ⋅⎜4⋅Φ₀ (r) + 8⋅Φ₀(r)⋅δ_\\Phi(r) + 4⋅δ_\\Phi (r) + δ_f(r)⋅δ_g(r)⋅⎜──(Φ₀(r))⎟ \n",
       "     ⎝                                                            ⎝dr       ⎠ \n",
       "──────────────────────────────────────────────────────────────────────────────\n",
       "                                                                              \n",
       "                                                                              \n",
       "\n",
       "                                                                          2   \n",
       "                   d         d                             ⎛d            ⎞    \n",
       " + 2⋅δ_f(r)⋅δ_g(r)⋅──(Φ₀(r))⋅──(δ_\\Phi(r)) + δ_f(r)⋅δ_g(r)⋅⎜──(δ_\\Phi(r))⎟  + \n",
       "                   dr        dr                            ⎝dr           ⎠    \n",
       "──────────────────────────────────────────────────────────────────────────────\n",
       "                                                                              \n",
       "                                                                              \n",
       "\n",
       "                        2                                                     \n",
       "             ⎛d        ⎞                   d         d                        \n",
       "δ_f(r)⋅g₀(r)⋅⎜──(Φ₀(r))⎟  + 2⋅δ_f(r)⋅g₀(r)⋅──(Φ₀(r))⋅──(δ_\\Phi(r)) + δ_f(r)⋅g₀\n",
       "             ⎝dr       ⎠                   dr        dr                       \n",
       "──────────────────────────────────────────────────────────────────────────────\n",
       "                                                                              \n",
       "                                                              (δ_g(r) + g₀(r))\n",
       "\n",
       "                   2                           2                              \n",
       "    ⎛d            ⎞                 ⎛d        ⎞                   d         d \n",
       "(r)⋅⎜──(δ_\\Phi(r))⎟  + δ_g(r)⋅f₀(r)⋅⎜──(Φ₀(r))⎟  + 2⋅δ_g(r)⋅f₀(r)⋅──(Φ₀(r))⋅──\n",
       "    ⎝dr           ⎠                 ⎝dr       ⎠                   dr        dr\n",
       "──────────────────────────────────────────────────────────────────────────────\n",
       "2                                                                             \n",
       "                                                                              \n",
       "\n",
       "                                          2                          2        \n",
       "                           ⎛d            ⎞                ⎛d        ⎞         \n",
       "(δ_\\Phi(r)) + δ_g(r)⋅f₀(r)⋅⎜──(δ_\\Phi(r))⎟  + f₀(r)⋅g₀(r)⋅⎜──(Φ₀(r))⎟  + 2⋅f₀(\n",
       "                           ⎝dr           ⎠                ⎝dr       ⎠         \n",
       "──────────────────────────────────────────────────────────────────────────────\n",
       "                                                                              \n",
       "                                                                              \n",
       "\n",
       "                                                              2⎞\n",
       "         d         d                           ⎛d            ⎞ ⎟\n",
       "r)⋅g₀(r)⋅──(Φ₀(r))⋅──(δ_\\Phi(r)) + f₀(r)⋅g₀(r)⋅⎜──(δ_\\Phi(r))⎟ ⎟\n",
       "         dr        dr                          ⎝dr           ⎠ ⎠\n",
       "────────────────────────────────────────────────────────────────\n",
       "                                                                \n",
       "                                                                "
      ]
     },
     "execution_count": 17,
     "metadata": {},
     "output_type": "execute_result"
    }
   ],
   "source": [
    "FF_contracted = sympy.simplify(FFgg_tensor(-i0, -i1, -i2, -i3, i3, i1, i2, i0).replace_with_arrays(repl))\n",
    "FF_contracted"
   ]
  },
  {
   "cell_type": "markdown",
   "id": "2720dec3",
   "metadata": {},
   "source": [
    "Compute the metric determinant."
   ]
  },
  {
   "cell_type": "code",
   "execution_count": 18,
   "id": "4d57b151",
   "metadata": {},
   "outputs": [
    {
     "data": {
      "image/png": "[encoded data removed]",
      "text/latex": [
       "$\\displaystyle \\frac{\\left(\\delta_{g}{\\left(r \\right)} + g_{0}{\\left(r \\right)}\\right)^{3} \\sin^{2}{\\left(\\theta \\right)}}{64 \\left(\\delta_{f}{\\left(r \\right)} + f_{0}{\\left(r \\right)}\\right)}$"
      ],
      "text/plain": [
       "                3    2   \n",
       "(δ_g(r) + g₀(r)) ⋅sin (θ)\n",
       "─────────────────────────\n",
       "   64⋅(δ_f(r) + f₀(r))   "
      ]
     },
     "execution_count": 18,
     "metadata": {},
     "output_type": "execute_result"
    }
   ],
   "source": [
    "det_g = sympy.Matrix(sch.tensor()).det().simplify()\n",
    "det_g"
   ]
  },
  {
   "cell_type": "markdown",
   "id": "2486c2e0",
   "metadata": {},
   "source": [
    "Get the integrand of the on-shell action."
   ]
  },
  {
   "cell_type": "code",
   "execution_count": 19,
   "id": "7986ac10",
   "metadata": {},
   "outputs": [
    {
     "data": {
      "image/png": "[encoded data removed]",
      "text/latex": [
       "$\\displaystyle \\frac{3 \\sqrt{\\frac{\\left(\\delta_{g}{\\left(r \\right)} + g_{0}{\\left(r \\right)}\\right)^{3} \\sin^{2}{\\left(\\theta \\right)}}{\\delta_{f}{\\left(r \\right)} + f_{0}{\\left(r \\right)}}} \\left(4 L^{4} \\cdot \\left(4 \\Phi_{0}^{2}{\\left(r \\right)} + 8 \\Phi_{0}{\\left(r \\right)} \\delta_{\\Phi}{\\left(r \\right)} + 4 \\delta_{\\Phi}^{2}{\\left(r \\right)} + \\delta_{f}{\\left(r \\right)} \\delta_{g}{\\left(r \\right)} \\left(\\frac{d}{d r} \\Phi_{0}{\\left(r \\right)}\\right)^{2} + 2 \\delta_{f}{\\left(r \\right)} \\delta_{g}{\\left(r \\right)} \\frac{d}{d r} \\Phi_{0}{\\left(r \\right)} \\frac{d}{d r} \\delta_{\\Phi}{\\left(r \\right)} + \\delta_{f}{\\left(r \\right)} \\delta_{g}{\\left(r \\right)} \\left(\\frac{d}{d r} \\delta_{\\Phi}{\\left(r \\right)}\\right)^{2} + \\delta_{f}{\\left(r \\right)} g_{0}{\\left(r \\right)} \\left(\\frac{d}{d r} \\Phi_{0}{\\left(r \\right)}\\right)^{2} + 2 \\delta_{f}{\\left(r \\right)} g_{0}{\\left(r \\right)} \\frac{d}{d r} \\Phi_{0}{\\left(r \\right)} \\frac{d}{d r} \\delta_{\\Phi}{\\left(r \\right)} + \\delta_{f}{\\left(r \\right)} g_{0}{\\left(r \\right)} \\left(\\frac{d}{d r} \\delta_{\\Phi}{\\left(r \\right)}\\right)^{2} + \\delta_{g}{\\left(r \\right)} f_{0}{\\left(r \\right)} \\left(\\frac{d}{d r} \\Phi_{0}{\\left(r \\right)}\\right)^{2} + 2 \\delta_{g}{\\left(r \\right)} f_{0}{\\left(r \\right)} \\frac{d}{d r} \\Phi_{0}{\\left(r \\right)} \\frac{d}{d r} \\delta_{\\Phi}{\\left(r \\right)} + \\delta_{g}{\\left(r \\right)} f_{0}{\\left(r \\right)} \\left(\\frac{d}{d r} \\delta_{\\Phi}{\\left(r \\right)}\\right)^{2} + f_{0}{\\left(r \\right)} g_{0}{\\left(r \\right)} \\left(\\frac{d}{d r} \\Phi_{0}{\\left(r \\right)}\\right)^{2} + 2 f_{0}{\\left(r \\right)} g_{0}{\\left(r \\right)} \\frac{d}{d r} \\Phi_{0}{\\left(r \\right)} \\frac{d}{d r} \\delta_{\\Phi}{\\left(r \\right)} + f_{0}{\\left(r \\right)} g_{0}{\\left(r \\right)} \\left(\\frac{d}{d r} \\delta_{\\Phi}{\\left(r \\right)}\\right)^{2}\\right) + L^{2} \\left(\\delta_{g}{\\left(r \\right)} + g_{0}{\\left(r \\right)}\\right) \\left(2 \\delta_{f}{\\left(r \\right)} \\frac{d^{2}}{d r^{2}} \\delta_{g}{\\left(r \\right)} + 2 \\delta_{f}{\\left(r \\right)} \\frac{d^{2}}{d r^{2}} g_{0}{\\left(r \\right)} + 2 f_{0}{\\left(r \\right)} \\frac{d^{2}}{d r^{2}} \\delta_{g}{\\left(r \\right)} + 2 f_{0}{\\left(r \\right)} \\frac{d^{2}}{d r^{2}} g_{0}{\\left(r \\right)} + \\frac{d}{d r} \\delta_{f}{\\left(r \\right)} \\frac{d}{d r} \\delta_{g}{\\left(r \\right)} + \\frac{d}{d r} \\delta_{f}{\\left(r \\right)} \\frac{d}{d r} g_{0}{\\left(r \\right)} + \\frac{d}{d r} \\delta_{g}{\\left(r \\right)} \\frac{d}{d r} f_{0}{\\left(r \\right)} + \\frac{d}{d r} f_{0}{\\left(r \\right)} \\frac{d}{d r} g_{0}{\\left(r \\right)} - 4\\right) - 4 \\left(\\delta_{g}{\\left(r \\right)} + g_{0}{\\left(r \\right)}\\right)^{2}\\right)}{16 L^{2} \\left(\\delta_{g}{\\left(r \\right)} + g_{0}{\\left(r \\right)}\\right)^{2}}$"
      ],
      "text/plain": [
       "       ___________________________                                            \n",
       "      ╱                 3    2     ⎛     ⎛                                    \n",
       "     ╱  (δ_g(r) + g₀(r)) ⋅sin (θ)  ⎜   4 ⎜    2                               \n",
       "3⋅  ╱   ───────────────────────── ⋅⎜4⋅L ⋅⎜4⋅Φ₀ (r) + 8⋅Φ₀(r)⋅δ_\\Phi(r) + 4⋅δ_\\\n",
       "  ╲╱          δ_f(r) + f₀(r)       ⎜     ⎝                                    \n",
       "                                   ⎝                                          \n",
       "──────────────────────────────────────────────────────────────────────────────\n",
       "                                                                              \n",
       "                                                                              \n",
       "\n",
       "                                                                              \n",
       "                                   2                                          \n",
       "   2                    ⎛d        ⎞                    d         d            \n",
       "Phi (r) + δ_f(r)⋅δ_g(r)⋅⎜──(Φ₀(r))⎟  + 2⋅δ_f(r)⋅δ_g(r)⋅──(Φ₀(r))⋅──(δ_\\Phi(r))\n",
       "                        ⎝dr       ⎠                    dr        dr           \n",
       "                                                                              \n",
       "──────────────────────────────────────────────────────────────────────────────\n",
       "                                                                              \n",
       "                                                                              \n",
       "\n",
       "                                                                              \n",
       "                                2                           2                 \n",
       "                 ⎛d            ⎞                 ⎛d        ⎞                  \n",
       " + δ_f(r)⋅δ_g(r)⋅⎜──(δ_\\Phi(r))⎟  + δ_f(r)⋅g₀(r)⋅⎜──(Φ₀(r))⎟  + 2⋅δ_f(r)⋅g₀(r)\n",
       "                 ⎝dr           ⎠                 ⎝dr       ⎠                  \n",
       "                                                                              \n",
       "──────────────────────────────────────────────────────────────────────────────\n",
       "                                                                              \n",
       "                                                                              \n",
       "\n",
       "                                                                              \n",
       "                                                       2                      \n",
       " d         d                            ⎛d            ⎞                 ⎛d    \n",
       "⋅──(Φ₀(r))⋅──(δ_\\Phi(r)) + δ_f(r)⋅g₀(r)⋅⎜──(δ_\\Phi(r))⎟  + δ_g(r)⋅f₀(r)⋅⎜──(Φ₀\n",
       " dr        dr                           ⎝dr           ⎠                 ⎝dr   \n",
       "                                                                              \n",
       "──────────────────────────────────────────────────────────────────────────────\n",
       "                                                                              \n",
       "                                                                              \n",
       "\n",
       "                                                                              \n",
       "     2                                                                        \n",
       "    ⎞                   d         d                            ⎛d            ⎞\n",
       "(r))⎟  + 2⋅δ_g(r)⋅f₀(r)⋅──(Φ₀(r))⋅──(δ_\\Phi(r)) + δ_g(r)⋅f₀(r)⋅⎜──(δ_\\Phi(r))⎟\n",
       "    ⎠                   dr        dr                           ⎝dr           ⎠\n",
       "                                                                              \n",
       "──────────────────────────────────────────────────────────────────────────────\n",
       "                                        2                 2                   \n",
       "                                    16⋅L ⋅(δ_g(r) + g₀(r))                    \n",
       "\n",
       "                                                                              \n",
       "2                          2                                                  \n",
       "                ⎛d        ⎞                  d         d                      \n",
       "  + f₀(r)⋅g₀(r)⋅⎜──(Φ₀(r))⎟  + 2⋅f₀(r)⋅g₀(r)⋅──(Φ₀(r))⋅──(δ_\\Phi(r)) + f₀(r)⋅g\n",
       "                ⎝dr       ⎠                  dr        dr                     \n",
       "                                                                              \n",
       "──────────────────────────────────────────────────────────────────────────────\n",
       "                                                                              \n",
       "                                                                              \n",
       "\n",
       "                                                                              \n",
       "                    2⎞                       ⎛           2                    \n",
       "     ⎛d            ⎞ ⎟    2                  ⎜          d                     \n",
       "₀(r)⋅⎜──(δ_\\Phi(r))⎟ ⎟ + L ⋅(δ_g(r) + g₀(r))⋅⎜2⋅δ_f(r)⋅───(δ_g(r)) + 2⋅δ_f(r)⋅\n",
       "     ⎝dr           ⎠ ⎠                       ⎜           2                    \n",
       "                                             ⎝         dr                     \n",
       "──────────────────────────────────────────────────────────────────────────────\n",
       "                                                                              \n",
       "                                                                              \n",
       "\n",
       "                                                                              \n",
       "  2                    2                     2                                \n",
       " d                    d                     d           d          d          \n",
       "───(g₀(r)) + 2⋅f₀(r)⋅───(δ_g(r)) + 2⋅f₀(r)⋅───(g₀(r)) + ──(δ_f(r))⋅──(δ_g(r)) \n",
       "  2                    2                     2          dr         dr         \n",
       "dr                   dr                    dr                                 \n",
       "──────────────────────────────────────────────────────────────────────────────\n",
       "                                                                              \n",
       "                                                                              \n",
       "\n",
       "                                                                              \n",
       "                                                                       ⎞      \n",
       "  d          d           d          d           d         d            ⎟      \n",
       "+ ──(δ_f(r))⋅──(g₀(r)) + ──(δ_g(r))⋅──(f₀(r)) + ──(f₀(r))⋅──(g₀(r)) - 4⎟ - 4⋅(\n",
       "  dr         dr          dr         dr          dr        dr           ⎟      \n",
       "                                                                       ⎠      \n",
       "──────────────────────────────────────────────────────────────────────────────\n",
       "                                                                              \n",
       "                                                                              \n",
       "\n",
       "                 \n",
       "                ⎞\n",
       "               2⎟\n",
       "δ_g(r) + g₀(r)) ⎟\n",
       "                ⎟\n",
       "                ⎠\n",
       "─────────────────\n",
       "                 \n",
       "                 "
      ]
     },
     "execution_count": 19,
     "metadata": {},
     "output_type": "execute_result"
    }
   ],
   "source": [
    "on_shell_action_integrand = -sympy.sqrt(det_g) * (R.expr + 6 / L ** 2 - FF_contracted)\n",
    "on_shell_action_integrand.simplify()"
   ]
  },
  {
   "cell_type": "markdown",
   "id": "a3f30e51",
   "metadata": {},
   "source": [
    "Get the equations of motion that can be removed from the integrand."
   ]
  },
  {
   "cell_type": "code",
   "execution_count": 20,
   "id": "d8b61eb1",
   "metadata": {},
   "outputs": [
    {
     "data": {
      "text/latex": [
       "$\\displaystyle \\left[\\begin{matrix}\\frac{1}{f_{0}{\\left(r \\right)}} & 0 & 0 & 0\\\\0 & \\frac{g_{0}{\\left(r \\right)}}{4} & 0 & \\frac{g_{0}{\\left(r \\right)} \\cos{\\left(\\theta \\right)}}{4}\\\\0 & 0 & \\frac{g_{0}{\\left(r \\right)}}{4} & 0\\\\0 & \\frac{g_{0}{\\left(r \\right)} \\cos{\\left(\\theta \\right)}}{4} & 0 & 0\\end{matrix}\\right]$"
      ],
      "text/plain": [
       "⎡  1                                     ⎤\n",
       "⎢─────       0          0         0      ⎥\n",
       "⎢f₀(r)                                   ⎥\n",
       "⎢                                        ⎥\n",
       "⎢          g₀(r)             g₀(r)⋅cos(θ)⎥\n",
       "⎢  0       ─────        0    ────────────⎥\n",
       "⎢            4                    4      ⎥\n",
       "⎢                                        ⎥\n",
       "⎢                     g₀(r)              ⎥\n",
       "⎢  0         0        ─────       0      ⎥\n",
       "⎢                       4                ⎥\n",
       "⎢                                        ⎥\n",
       "⎢       g₀(r)⋅cos(θ)                     ⎥\n",
       "⎢  0    ────────────    0         0      ⎥\n",
       "⎣            4                           ⎦"
      ]
     },
     "execution_count": 20,
     "metadata": {},
     "output_type": "execute_result"
    }
   ],
   "source": [
    "list2d_2 = [[0 for i in range(4)] for i in range(4)]\n",
    "list2d_2[0][0] = 1 / f_0\n",
    "list2d_2[1][1] = list2d_2[2][2] = list2d[3][3] = g_0 / 4\n",
    "list2d_2[1][3] = list2d_2[3][1] = g_0 / 4 * sympy.cos(theta)\n",
    "sch_2 = MetricTensor(list2d_2, syms)\n",
    "sch_2.tensor()"
   ]
  },
  {
   "cell_type": "code",
   "execution_count": 21,
   "id": "941e86fe",
   "metadata": {},
   "outputs": [
    {
     "data": {
      "text/latex": [
       "$\\displaystyle \\left[\\begin{matrix}- \\frac{3 \\frac{d^{2}}{d r^{2}} g_{0}{\\left(r \\right)}}{2 g_{0}{\\left(r \\right)}} + \\frac{3 \\left(\\frac{d}{d r} g_{0}{\\left(r \\right)}\\right)^{2}}{4 g_{0}^{2}{\\left(r \\right)}} - \\frac{3 \\frac{d}{d r} f_{0}{\\left(r \\right)} \\frac{d}{d r} g_{0}{\\left(r \\right)}}{4 f_{0}{\\left(r \\right)} g_{0}{\\left(r \\right)}} & 0 & 0 & 0\\\\0 & - \\frac{f_{0}{\\left(r \\right)} \\frac{d^{2}}{d r^{2}} g_{0}{\\left(r \\right)}}{8} - \\frac{f_{0}{\\left(r \\right)} \\left(\\frac{d}{d r} g_{0}{\\left(r \\right)}\\right)^{2}}{16 g_{0}{\\left(r \\right)}} - \\frac{\\tan^{2}{\\left(\\theta \\right)}}{2} - \\frac{\\frac{d}{d r} f_{0}{\\left(r \\right)} \\frac{d}{d r} g_{0}{\\left(r \\right)}}{16} & 0 & - \\frac{\\left(\\left(2 f_{0}{\\left(r \\right)} \\frac{d^{2}}{d r^{2}} g_{0}{\\left(r \\right)} + \\frac{d}{d r} f_{0}{\\left(r \\right)} \\frac{d}{d r} g_{0}{\\left(r \\right)}\\right) g_{0}{\\left(r \\right)} + f_{0}{\\left(r \\right)} \\left(\\frac{d}{d r} g_{0}{\\left(r \\right)}\\right)^{2} - 8 g_{0}{\\left(r \\right)}\\right) \\cos{\\left(\\theta \\right)}}{16 g_{0}{\\left(r \\right)}}\\\\0 & 0 & - \\frac{f_{0}{\\left(r \\right)} \\frac{d^{2}}{d r^{2}} g_{0}{\\left(r \\right)}}{8} - \\frac{f_{0}{\\left(r \\right)} \\left(\\frac{d}{d r} g_{0}{\\left(r \\right)}\\right)^{2}}{16 g_{0}{\\left(r \\right)}} - \\frac{\\frac{d}{d r} f_{0}{\\left(r \\right)} \\frac{d}{d r} g_{0}{\\left(r \\right)}}{16} + \\frac{1}{2} + \\frac{1}{2 \\cos^{2}{\\left(\\theta \\right)}} & 0\\\\0 & - \\frac{\\left(\\left(2 f_{0}{\\left(r \\right)} \\frac{d^{2}}{d r^{2}} g_{0}{\\left(r \\right)} + \\frac{d}{d r} f_{0}{\\left(r \\right)} \\frac{d}{d r} g_{0}{\\left(r \\right)}\\right) g_{0}{\\left(r \\right)} + f_{0}{\\left(r \\right)} \\left(\\frac{d}{d r} g_{0}{\\left(r \\right)}\\right)^{2} - 8 g_{0}{\\left(r \\right)}\\right) \\cos{\\left(\\theta \\right)}}{16 g_{0}{\\left(r \\right)}} & 0 & 0\\end{matrix}\\right]$"
      ],
      "text/plain": [
       "⎡      2                                                                      \n",
       "⎢     d                        2                                              \n",
       "⎢  3⋅───(g₀(r))     ⎛d        ⎞      d         d                              \n",
       "⎢      2          3⋅⎜──(g₀(r))⎟    3⋅──(f₀(r))⋅──(g₀(r))                      \n",
       "⎢    dr             ⎝dr       ⎠      dr        dr                             \n",
       "⎢- ──────────── + ────────────── - ─────────────────────                      \n",
       "⎢    2⋅g₀(r)             2             4⋅f₀(r)⋅g₀(r)                          \n",
       "⎢                    4⋅g₀ (r)                                                 \n",
       "⎢                                                                             \n",
       "⎢                                                                            2\n",
       "⎢                                                                           d \n",
       "⎢                                                                    f₀(r)⋅───\n",
       "⎢                                                                            2\n",
       "⎢                                                                          dr \n",
       "⎢                           0                                      - ─────────\n",
       "⎢                                                                           8 \n",
       "⎢                                                                             \n",
       "⎢                                                                             \n",
       "⎢                                                                             \n",
       "⎢                                                                             \n",
       "⎢                                                                             \n",
       "⎢                                                                             \n",
       "⎢                           0                                                 \n",
       "⎢                                                                             \n",
       "⎢                                                                             \n",
       "⎢                                                                             \n",
       "⎢                                                          ⎛⎛          2      \n",
       "⎢                                                          ⎜⎜         d       \n",
       "⎢                                                         -⎜⎜2⋅f₀(r)⋅───(g₀(r)\n",
       "⎢                                                          ⎜⎜          2      \n",
       "⎢                                                          ⎝⎝        dr       \n",
       "⎢                           0                             ────────────────────\n",
       "⎣                                                                             \n",
       "\n",
       "                                                                              \n",
       "                                                                              \n",
       "                                                                              \n",
       "                                                                              \n",
       "                                                                              \n",
       "                        0                                                     \n",
       "                                                                              \n",
       "                                                                              \n",
       "                                                                              \n",
       "                                                                              \n",
       "                           2                                                  \n",
       "(g₀(r))         ⎛d        ⎞              d         d                          \n",
       "          f₀(r)⋅⎜──(g₀(r))⎟       2      ──(f₀(r))⋅──(g₀(r))                  \n",
       "                ⎝dr       ⎠    tan (θ)   dr        dr                         \n",
       "─────── - ────────────────── - ─────── - ───────────────────                  \n",
       "               16⋅g₀(r)           2               16                          \n",
       "                                                                              \n",
       "                                                                              \n",
       "                                                                              \n",
       "                                                                          f₀(r\n",
       "                                                                              \n",
       "                                                                              \n",
       "                        0                                               - ────\n",
       "                                                                              \n",
       "                                                                              \n",
       "                                                                              \n",
       "                       ⎞                          2          ⎞                \n",
       "    d         d        ⎟               ⎛d        ⎞           ⎟                \n",
       ") + ──(f₀(r))⋅──(g₀(r))⎟⋅g₀(r) + f₀(r)⋅⎜──(g₀(r))⎟  - 8⋅g₀(r)⎟⋅cos(θ)         \n",
       "    dr        dr       ⎟               ⎝dr       ⎠           ⎟                \n",
       "                       ⎠                                     ⎠                \n",
       "──────────────────────────────────────────────────────────────────────        \n",
       "                     16⋅g₀(r)                                                 \n",
       "\n",
       "                                                                              \n",
       "                                                                              \n",
       "                                                                              \n",
       "                                                                              \n",
       "                                                                              \n",
       "                                0                                             \n",
       "                                                                              \n",
       "                                                                              \n",
       "                                                                              \n",
       "                                                                          ⎛⎛  \n",
       "                                                                          ⎜⎜  \n",
       "                                                                         -⎜⎜2⋅\n",
       "                                                                          ⎜⎜  \n",
       "                                                                          ⎝⎝  \n",
       "                                0                                        ─────\n",
       "                                                                              \n",
       "                                                                              \n",
       "    2                                                                         \n",
       "   d                            2                                             \n",
       ")⋅───(g₀(r))         ⎛d        ⎞    d         d                               \n",
       "    2          f₀(r)⋅⎜──(g₀(r))⎟    ──(f₀(r))⋅──(g₀(r))                       \n",
       "  dr                 ⎝dr       ⎠    dr        dr          1       1           \n",
       "──────────── - ────────────────── - ─────────────────── + ─ + ─────────       \n",
       "   8                16⋅g₀(r)                 16           2        2          \n",
       "                                                              2⋅cos (θ)       \n",
       "                                                                              \n",
       "                                                                              \n",
       "                                                                              \n",
       "                                                                              \n",
       "                                                                              \n",
       "                                                                              \n",
       "                                0                                             \n",
       "                                                                              \n",
       "\n",
       "                                                                              \n",
       "                                                                              \n",
       "                                                                              \n",
       "                                                                              \n",
       "                                                                              \n",
       "                                       0                                      \n",
       "                                                                              \n",
       "                                                                              \n",
       "                                                                              \n",
       "        2                             ⎞                          2          ⎞ \n",
       "       d           d         d        ⎟               ⎛d        ⎞           ⎟ \n",
       "f₀(r)⋅───(g₀(r)) + ──(f₀(r))⋅──(g₀(r))⎟⋅g₀(r) + f₀(r)⋅⎜──(g₀(r))⎟  - 8⋅g₀(r)⎟⋅\n",
       "        2          dr        dr       ⎟               ⎝dr       ⎠           ⎟ \n",
       "      dr                              ⎠                                     ⎠ \n",
       "──────────────────────────────────────────────────────────────────────────────\n",
       "                                    16⋅g₀(r)                                  \n",
       "                                                                              \n",
       "                                                                              \n",
       "                                                                              \n",
       "                                                                              \n",
       "                                                                              \n",
       "                                                                              \n",
       "                                       0                                      \n",
       "                                                                              \n",
       "                                                                              \n",
       "                                                                              \n",
       "                                                                              \n",
       "                                                                              \n",
       "                                                                              \n",
       "                                                                              \n",
       "                                                                              \n",
       "                                       0                                      \n",
       "                                                                              \n",
       "\n",
       "       ⎤\n",
       "       ⎥\n",
       "       ⎥\n",
       "       ⎥\n",
       "       ⎥\n",
       "       ⎥\n",
       "       ⎥\n",
       "       ⎥\n",
       "       ⎥\n",
       "       ⎥\n",
       "       ⎥\n",
       "cos(θ) ⎥\n",
       "       ⎥\n",
       "       ⎥\n",
       "───────⎥\n",
       "       ⎥\n",
       "       ⎥\n",
       "       ⎥\n",
       "       ⎥\n",
       "       ⎥\n",
       "       ⎥\n",
       "       ⎥\n",
       "       ⎥\n",
       "       ⎥\n",
       "       ⎥\n",
       "       ⎥\n",
       "       ⎥\n",
       "       ⎥\n",
       "       ⎥\n",
       "       ⎥\n",
       "       ⎥\n",
       "       ⎥\n",
       "       ⎦"
      ]
     },
     "execution_count": 21,
     "metadata": {},
     "output_type": "execute_result"
    }
   ],
   "source": [
    "Ric_2 = RicciTensor.from_metric(sch_2)\n",
    "Ric_2.tensor().simplify()"
   ]
  },
  {
   "cell_type": "code",
   "execution_count": 22,
   "id": "6c98ec65",
   "metadata": {},
   "outputs": [
    {
     "data": {
      "text/latex": [
       "$\\displaystyle \\left[\\begin{matrix}- \\frac{3 \\frac{d^{2}}{d r^{2}} g_{0}{\\left(r \\right)}}{2 g_{0}{\\left(r \\right)}} + \\frac{3 \\left(\\frac{d}{d r} g_{0}{\\left(r \\right)}\\right)^{2}}{4 g_{0}^{2}{\\left(r \\right)}} - \\frac{3 \\frac{d}{d r} f_{0}{\\left(r \\right)} \\frac{d}{d r} g_{0}{\\left(r \\right)}}{4 f_{0}{\\left(r \\right)} g_{0}{\\left(r \\right)}} + \\frac{3}{L^{2} f_{0}{\\left(r \\right)}} & 0 & 0 & 0\\\\0 & - \\frac{f_{0}{\\left(r \\right)} \\frac{d^{2}}{d r^{2}} g_{0}{\\left(r \\right)}}{8} - \\frac{f_{0}{\\left(r \\right)} \\left(\\frac{d}{d r} g_{0}{\\left(r \\right)}\\right)^{2}}{16 g_{0}{\\left(r \\right)}} - \\frac{\\tan^{2}{\\left(\\theta \\right)}}{2} - \\frac{\\frac{d}{d r} f_{0}{\\left(r \\right)} \\frac{d}{d r} g_{0}{\\left(r \\right)}}{16} + \\frac{3 g_{0}{\\left(r \\right)}}{4 L^{2}} & 0 & \\frac{\\left(- L^{2} \\left(\\left(2 f_{0}{\\left(r \\right)} \\frac{d^{2}}{d r^{2}} g_{0}{\\left(r \\right)} + \\frac{d}{d r} f_{0}{\\left(r \\right)} \\frac{d}{d r} g_{0}{\\left(r \\right)}\\right) g_{0}{\\left(r \\right)} + f_{0}{\\left(r \\right)} \\left(\\frac{d}{d r} g_{0}{\\left(r \\right)}\\right)^{2} - 8 g_{0}{\\left(r \\right)}\\right) + 12 g_{0}^{2}{\\left(r \\right)}\\right) \\cos{\\left(\\theta \\right)}}{16 L^{2} g_{0}{\\left(r \\right)}}\\\\0 & 0 & - \\frac{f_{0}{\\left(r \\right)} \\frac{d^{2}}{d r^{2}} g_{0}{\\left(r \\right)}}{8} - \\frac{f_{0}{\\left(r \\right)} \\left(\\frac{d}{d r} g_{0}{\\left(r \\right)}\\right)^{2}}{16 g_{0}{\\left(r \\right)}} - \\frac{\\frac{d}{d r} f_{0}{\\left(r \\right)} \\frac{d}{d r} g_{0}{\\left(r \\right)}}{16} + \\frac{1}{2} + \\frac{1}{2 \\cos^{2}{\\left(\\theta \\right)}} + \\frac{3 g_{0}{\\left(r \\right)}}{4 L^{2}} & 0\\\\0 & \\frac{\\left(- L^{2} \\left(\\left(2 f_{0}{\\left(r \\right)} \\frac{d^{2}}{d r^{2}} g_{0}{\\left(r \\right)} + \\frac{d}{d r} f_{0}{\\left(r \\right)} \\frac{d}{d r} g_{0}{\\left(r \\right)}\\right) g_{0}{\\left(r \\right)} + f_{0}{\\left(r \\right)} \\left(\\frac{d}{d r} g_{0}{\\left(r \\right)}\\right)^{2} - 8 g_{0}{\\left(r \\right)}\\right) + 12 g_{0}^{2}{\\left(r \\right)}\\right) \\cos{\\left(\\theta \\right)}}{16 L^{2} g_{0}{\\left(r \\right)}} & 0 & 0\\end{matrix}\\right]$"
      ],
      "text/plain": [
       "⎡      2                                                                      \n",
       "⎢     d                        2                                              \n",
       "⎢  3⋅───(g₀(r))     ⎛d        ⎞      d         d                              \n",
       "⎢      2          3⋅⎜──(g₀(r))⎟    3⋅──(f₀(r))⋅──(g₀(r))                      \n",
       "⎢    dr             ⎝dr       ⎠      dr        dr             3               \n",
       "⎢- ──────────── + ────────────── - ───────────────────── + ────────           \n",
       "⎢    2⋅g₀(r)             2             4⋅f₀(r)⋅g₀(r)        2                 \n",
       "⎢                    4⋅g₀ (r)                              L ⋅f₀(r)           \n",
       "⎢                                                                             \n",
       "⎢                                                                             \n",
       "⎢                                                                             \n",
       "⎢                                                                             \n",
       "⎢                                                                             \n",
       "⎢                                                                             \n",
       "⎢                                0                                            \n",
       "⎢                                                                             \n",
       "⎢                                                                             \n",
       "⎢                                                                             \n",
       "⎢                                                                             \n",
       "⎢                                                                             \n",
       "⎢                                                                             \n",
       "⎢                                                                             \n",
       "⎢                                                                             \n",
       "⎢                                0                                            \n",
       "⎢                                                                             \n",
       "⎢                                                                             \n",
       "⎢                                                                             \n",
       "⎢                                                                    ⎛     ⎛⎛ \n",
       "⎢                                                                    ⎜   2 ⎜⎜ \n",
       "⎢                                                                    ⎜- L ⋅⎜⎜2\n",
       "⎢                                                                    ⎜     ⎜⎜ \n",
       "⎢                                                                    ⎝     ⎝⎝ \n",
       "⎢                                0                                   ─────────\n",
       "⎢                                                                             \n",
       "⎣                                                                             \n",
       "\n",
       "                                                                              \n",
       "                                                                              \n",
       "                                                                              \n",
       "                                                                              \n",
       "                                                                              \n",
       "                                            0                                 \n",
       "                                                                              \n",
       "                                                                              \n",
       "                                                                              \n",
       "              2                                                               \n",
       "             d                            2                                   \n",
       "      f₀(r)⋅───(g₀(r))         ⎛d        ⎞              d         d           \n",
       "              2          f₀(r)⋅⎜──(g₀(r))⎟       2      ──(f₀(r))⋅──(g₀(r))   \n",
       "            dr                 ⎝dr       ⎠    tan (θ)   dr        dr          \n",
       "    - ──────────────── - ────────────────── - ─────── - ─────────────────── + \n",
       "             8                16⋅g₀(r)           2               16           \n",
       "                                                                              \n",
       "                                                                              \n",
       "                                                                              \n",
       "                                                                              \n",
       "                                                                              \n",
       "                                                                              \n",
       "                                                                              \n",
       "                                            0                                 \n",
       "                                                                              \n",
       "                                                                              \n",
       "                                                                              \n",
       "         2                             ⎞                          2          ⎞\n",
       "        d           d         d        ⎟               ⎛d        ⎞           ⎟\n",
       "⋅f₀(r)⋅───(g₀(r)) + ──(f₀(r))⋅──(g₀(r))⎟⋅g₀(r) + f₀(r)⋅⎜──(g₀(r))⎟  - 8⋅g₀(r)⎟\n",
       "         2          dr        dr       ⎟               ⎝dr       ⎠           ⎟\n",
       "       dr                              ⎠                                     ⎠\n",
       "──────────────────────────────────────────────────────────────────────────────\n",
       "                                           2                                  \n",
       "                                       16⋅L ⋅g₀(r)                            \n",
       "\n",
       "                                                                              \n",
       "                                                                              \n",
       "                                                                              \n",
       "                                                                              \n",
       "                                                                              \n",
       "                                                                 0            \n",
       "                                                                              \n",
       "                                                                              \n",
       "                                                                              \n",
       "                                                                              \n",
       "                                                                              \n",
       "                                                                              \n",
       "                                                                              \n",
       "3⋅g₀(r)                                                                       \n",
       "───────                                                          0            \n",
       "     2                                                                        \n",
       "  4⋅L                                                                         \n",
       "                                                                              \n",
       "                                2                                             \n",
       "                               d                            2                 \n",
       "                        f₀(r)⋅───(g₀(r))         ⎛d        ⎞    d         d   \n",
       "                                2          f₀(r)⋅⎜──(g₀(r))⎟    ──(f₀(r))⋅──(g\n",
       "                              dr                 ⎝dr       ⎠    dr        dr  \n",
       "                      - ──────────────── - ────────────────── - ──────────────\n",
       "                               8                16⋅g₀(r)                 16   \n",
       "                                                                              \n",
       "                                                                              \n",
       "            ⎞                                                                 \n",
       "        2   ⎟                                                                 \n",
       " + 12⋅g₀ (r)⎟⋅cos(θ)                                                          \n",
       "            ⎟                                                                 \n",
       "            ⎠                                                                 \n",
       "────────────────────                                             0            \n",
       "                                                                              \n",
       "                                                                              \n",
       "\n",
       "                                                                              \n",
       "                                                                              \n",
       "                                                                              \n",
       "                                                                              \n",
       "                                                                              \n",
       "                                                                              \n",
       "                                                                              \n",
       "                                                                              \n",
       "                                                                              \n",
       "                                 ⎛     ⎛⎛          2                          \n",
       "                                 ⎜   2 ⎜⎜         d           d         d     \n",
       "                                 ⎜- L ⋅⎜⎜2⋅f₀(r)⋅───(g₀(r)) + ──(f₀(r))⋅──(g₀(\n",
       "                                 ⎜     ⎜⎜          2          dr        dr    \n",
       "                                 ⎝     ⎝⎝        dr                           \n",
       "                                 ─────────────────────────────────────────────\n",
       "                                                                              \n",
       "                                                                              \n",
       "                                                                              \n",
       "                                                                              \n",
       "                                                                              \n",
       "                                                                              \n",
       "₀(r))                                                                         \n",
       "        1       1       3⋅g₀(r)                                               \n",
       "───── + ─ + ───────── + ───────                                               \n",
       "        2        2           2                                                \n",
       "            2⋅cos (θ)     4⋅L                                                 \n",
       "                                                                              \n",
       "                                                                              \n",
       "                                                                              \n",
       "                                                                              \n",
       "                                                                              \n",
       "                                                                              \n",
       "                                                                              \n",
       "                                                                              \n",
       "                                                                              \n",
       "\n",
       "                                                              ⎤\n",
       "                                                              ⎥\n",
       "                                                              ⎥\n",
       "                                                              ⎥\n",
       "                                                              ⎥\n",
       "        0                                                     ⎥\n",
       "                                                              ⎥\n",
       "                                                              ⎥\n",
       "                                                              ⎥\n",
       "   ⎞                          2          ⎞            ⎞       ⎥\n",
       "   ⎟               ⎛d        ⎞           ⎟        2   ⎟       ⎥\n",
       "r))⎟⋅g₀(r) + f₀(r)⋅⎜──(g₀(r))⎟  - 8⋅g₀(r)⎟ + 12⋅g₀ (r)⎟⋅cos(θ)⎥\n",
       "   ⎟               ⎝dr       ⎠           ⎟            ⎟       ⎥\n",
       "   ⎠                                     ⎠            ⎠       ⎥\n",
       "──────────────────────────────────────────────────────────────⎥\n",
       "       2                                                      ⎥\n",
       "   16⋅L ⋅g₀(r)                                                ⎥\n",
       "                                                              ⎥\n",
       "                                                              ⎥\n",
       "                                                              ⎥\n",
       "                                                              ⎥\n",
       "                                                              ⎥\n",
       "                                                              ⎥\n",
       "        0                                                     ⎥\n",
       "                                                              ⎥\n",
       "                                                              ⎥\n",
       "                                                              ⎥\n",
       "                                                              ⎥\n",
       "                                                              ⎥\n",
       "                                                              ⎥\n",
       "                                                              ⎥\n",
       "                                                              ⎥\n",
       "        0                                                     ⎥\n",
       "                                                              ⎥\n",
       "                                                              ⎦"
      ]
     },
     "execution_count": 22,
     "metadata": {},
     "output_type": "execute_result"
    }
   ],
   "source": [
    "metric_array = sympy.MutableDenseNDimArray(list2d_2)\n",
    "einstein_tensor = sympy.MutableDenseNDimArray(Ric_2.tensor()) + 3 / L ** 2 * metric_array\n",
    "einstein_tensor = sympy.simplify(einstein_tensor)\n",
    "einstein_tensor"
   ]
  },
  {
   "cell_type": "code",
   "execution_count": 23,
   "id": "78bbcf91",
   "metadata": {},
   "outputs": [
    {
     "data": {
      "text/latex": [
       "$\\displaystyle \\left( \\left[\\begin{matrix}0 & 0 & - \\frac{L \\Phi_{0}{\\left(r \\right)} \\sin{\\left(\\psi \\right)}}{2} & \\frac{L \\Phi_{0}{\\left(r \\right)} \\sin{\\left(\\theta \\right)} \\cos{\\left(\\psi \\right)}}{2}\\end{matrix}\\right], \\  \\left[\\begin{matrix}0 & 0 & \\frac{L \\Phi_{0}{\\left(r \\right)} \\cos{\\left(\\psi \\right)}}{2} & \\frac{L \\Phi_{0}{\\left(r \\right)} \\sin{\\left(\\psi \\right)} \\sin{\\left(\\theta \\right)}}{2}\\end{matrix}\\right], \\  \\left[\\begin{matrix}0 & \\frac{L \\Phi_{0}{\\left(r \\right)}}{2} & 0 & \\frac{L \\Phi_{0}{\\left(r \\right)} \\cos{\\left(\\theta \\right)}}{2}\\end{matrix}\\right]\\right)$"
      ],
      "text/plain": [
       "⎛⎡      -L⋅Φ₀(r)⋅sin(ψ)   L⋅Φ₀(r)⋅sin(θ)⋅cos(ψ)⎤  ⎡      L⋅Φ₀(r)⋅cos(ψ)  L⋅Φ₀(\n",
       "⎜⎢0  0  ────────────────  ─────────────────────⎥, ⎢0  0  ──────────────  ─────\n",
       "⎝⎣             2                    2          ⎦  ⎣            2              \n",
       "\n",
       "r)⋅sin(ψ)⋅sin(θ)⎤  ⎡   L⋅Φ₀(r)     L⋅Φ₀(r)⋅cos(θ)⎤⎞\n",
       "────────────────⎥, ⎢0  ───────  0  ──────────────⎥⎟\n",
       "     2          ⎦  ⎣      2              2       ⎦⎠"
      ]
     },
     "execution_count": 23,
     "metadata": {},
     "output_type": "execute_result"
    }
   ],
   "source": [
    "A_1 = L / 2 * Phi_0 * sympy.Array([0, 0, -sympy.sin(psi), sympy.cos(psi) * sympy.sin(theta)])\n",
    "A_2 = L / 2 * Phi_0 * sympy.Array([0, 0, sympy.cos(psi), sympy.sin(psi) * sympy.sin(theta)])\n",
    "A_3 = L / 2 * Phi_0 * sympy.Array([0, 1, 0, sympy.cos(theta)])\n",
    "A_1, A_2, A_3"
   ]
  },
  {
   "cell_type": "code",
   "execution_count": 24,
   "id": "abcc1ec8",
   "metadata": {},
   "outputs": [],
   "source": [
    "F_1 = em_field_strength(A_1)\n",
    "F_2 = em_field_strength(A_2)\n",
    "F_3 = em_field_strength(A_3)"
   ]
  },
  {
   "cell_type": "code",
   "execution_count": 25,
   "id": "fa5b8778",
   "metadata": {},
   "outputs": [
    {
     "data": {
      "text/latex": [
       "$\\displaystyle \\left[\\begin{matrix}f_{0}{\\left(r \\right)} & 0 & 0 & 0\\\\0 & 0 & 0 & \\frac{4}{g_{0}{\\left(r \\right)} \\cos{\\left(\\theta \\right)}}\\\\0 & 0 & \\frac{4}{g_{0}{\\left(r \\right)}} & 0\\\\0 & \\frac{4}{g_{0}{\\left(r \\right)} \\cos{\\left(\\theta \\right)}} & 0 & - \\frac{4}{g_{0}{\\left(r \\right)} \\cos^{2}{\\left(\\theta \\right)}}\\end{matrix}\\right]$"
      ],
      "text/plain": [
       "⎡f₀(r)       0          0          0      ⎤\n",
       "⎢                                         ⎥\n",
       "⎢                                 4       ⎥\n",
       "⎢  0         0          0    ──────────── ⎥\n",
       "⎢                            g₀(r)⋅cos(θ) ⎥\n",
       "⎢                                         ⎥\n",
       "⎢                       4                 ⎥\n",
       "⎢  0         0        ─────        0      ⎥\n",
       "⎢                     g₀(r)               ⎥\n",
       "⎢                                         ⎥\n",
       "⎢            4                    -4      ⎥\n",
       "⎢  0    ────────────    0    ─────────────⎥\n",
       "⎢       g₀(r)⋅cos(θ)                  2   ⎥\n",
       "⎣                            g₀(r)⋅cos (θ)⎦"
      ]
     },
     "execution_count": 25,
     "metadata": {},
     "output_type": "execute_result"
    }
   ],
   "source": [
    "metric_inv_2 = sympy.simplify(sympy.Matrix(list2d_2).inv())\n",
    "metric_inv_2"
   ]
  },
  {
   "cell_type": "code",
   "execution_count": 26,
   "id": "ffbf9889",
   "metadata": {},
   "outputs": [],
   "source": [
    "FFg_tensor = TensorHead('FFg', [Euclidean] * 6)\n",
    "FFg_matrix = (\n",
    "    sympy.tensorproduct(F_1, F_1, metric_inv_2) +\n",
    "    sympy.tensorproduct(F_2, F_2, metric_inv_2) +\n",
    "    sympy.tensorproduct(F_3, F_3, metric_inv_2)\n",
    ")\n",
    "repl = {FFg_tensor(-i0, -i1, -i2, -i3, i4, i5): FFg_matrix}\n",
    "T_contracted_1 = FFg_tensor(-i0, -i1, -i2, -i3, i3, i1).replace_with_arrays(repl)\n",
    "T_contracted_1 = sympy.simplify(T_contracted_1)\n",
    "\n",
    "FFgg_tensor = TensorHead('FFgg', [Euclidean] * 8)\n",
    "FFgg_matrix = (\n",
    "    sympy.tensorproduct(F_1, F_1, metric_inv_2, metric_inv_2) +\n",
    "    sympy.tensorproduct(F_2, F_2, metric_inv_2, metric_inv_2) +\n",
    "    sympy.tensorproduct(F_3, F_3, metric_inv_2, metric_inv_2)\n",
    ")\n",
    "repl = {FFgg_tensor(-i0, -i1, -i2, -i3, i4, i5, i6, i7): FFgg_matrix}\n",
    "T_contracted_2 = FFgg_tensor(-i0, -i1, -i2, -i3, i3, i1, i2, i0).replace_with_arrays(repl)\n",
    "T_contracted_2 = sympy.simplify(T_contracted_2)"
   ]
  },
  {
   "cell_type": "code",
   "execution_count": 27,
   "id": "a3536b38",
   "metadata": {},
   "outputs": [
    {
     "data": {
      "text/latex": [
       "$\\displaystyle \\left[\\begin{matrix}\\frac{L^{2} \\left(- 12 \\Phi_{0}^{2}{\\left(r \\right)} + \\frac{8 \\Phi_{0}^{2}{\\left(r \\right)}}{\\cos^{2}{\\left(\\theta \\right)}} + 3 f_{0}{\\left(r \\right)} g_{0}{\\left(r \\right)} \\left(\\frac{d}{d r} \\Phi_{0}{\\left(r \\right)}\\right)^{2} - \\frac{f_{0}{\\left(r \\right)} g_{0}{\\left(r \\right)} \\left(\\frac{d}{d r} \\Phi_{0}{\\left(r \\right)}\\right)^{2}}{\\cos^{2}{\\left(\\theta \\right)}}\\right)}{f_{0}{\\left(r \\right)} g_{0}^{2}{\\left(r \\right)}} & 0 & 0 & 0\\\\0 & \\frac{L^{2} \\left(\\Phi_{0}^{2}{\\left(r \\right)} + \\frac{f_{0}{\\left(r \\right)} g_{0}{\\left(r \\right)} \\tan^{2}{\\left(\\theta \\right)} \\left(\\frac{d}{d r} \\Phi_{0}{\\left(r \\right)}\\right)^{2}}{4}\\right)}{g_{0}{\\left(r \\right)}} & 0 & \\frac{L^{2} \\left(- \\Phi_{0}^{2}{\\left(r \\right)} \\sin^{2}{\\left(\\theta \\right)} + \\Phi_{0}^{2}{\\left(r \\right)} + \\frac{f_{0}{\\left(r \\right)} g_{0}{\\left(r \\right)} \\sin^{2}{\\left(\\theta \\right)} \\left(\\frac{d}{d r} \\Phi_{0}{\\left(r \\right)}\\right)^{2}}{4}\\right)}{g_{0}{\\left(r \\right)} \\cos{\\left(\\theta \\right)}}\\\\0 & 0 & \\frac{L^{2} \\left(\\Phi_{0}^{2}{\\left(r \\right)} + \\frac{f_{0}{\\left(r \\right)} g_{0}{\\left(r \\right)} \\tan^{2}{\\left(\\theta \\right)} \\left(\\frac{d}{d r} \\Phi_{0}{\\left(r \\right)}\\right)^{2}}{4}\\right)}{g_{0}{\\left(r \\right)}} & 0\\\\0 & \\frac{L^{2} \\left(- \\Phi_{0}^{2}{\\left(r \\right)} \\sin^{2}{\\left(\\theta \\right)} + \\Phi_{0}^{2}{\\left(r \\right)} + \\frac{f_{0}{\\left(r \\right)} g_{0}{\\left(r \\right)} \\sin^{2}{\\left(\\theta \\right)} \\left(\\frac{d}{d r} \\Phi_{0}{\\left(r \\right)}\\right)^{2}}{4}\\right)}{g_{0}{\\left(r \\right)} \\cos{\\left(\\theta \\right)}} & 0 & \\frac{L^{2} \\cdot \\left(4 \\Phi_{0}^{2}{\\left(r \\right)} + f_{0}{\\left(r \\right)} g_{0}{\\left(r \\right)} \\left(\\frac{d}{d r} \\Phi_{0}{\\left(r \\right)}\\right)^{2}\\right)}{2 g_{0}{\\left(r \\right)}}\\end{matrix}\\right]$"
      ],
      "text/plain": [
       "⎡   ⎛                                                                         \n",
       "⎢   ⎜                                                                  ⎛d     \n",
       "⎢   ⎜                  2                               2   f₀(r)⋅g₀(r)⋅⎜──(Φ₀(\n",
       "⎢ 2 ⎜       2      8⋅Φ₀ (r)                 ⎛d        ⎞                ⎝dr    \n",
       "⎢L ⋅⎜- 12⋅Φ₀ (r) + ──────── + 3⋅f₀(r)⋅g₀(r)⋅⎜──(Φ₀(r))⎟  - ───────────────────\n",
       "⎢   ⎜                 2                     ⎝dr       ⎠               2       \n",
       "⎢   ⎝              cos (θ)                                         cos (θ)    \n",
       "⎢─────────────────────────────────────────────────────────────────────────────\n",
       "⎢                                            2                                \n",
       "⎢                                    f₀(r)⋅g₀ (r)                             \n",
       "⎢                                                                             \n",
       "⎢                                                                             \n",
       "⎢                                                                             \n",
       "⎢                                                                             \n",
       "⎢                                                                             \n",
       "⎢                                                                             \n",
       "⎢                                                                             \n",
       "⎢                                         0                                   \n",
       "⎢                                                                             \n",
       "⎢                                                                             \n",
       "⎢                                                                             \n",
       "⎢                                                                             \n",
       "⎢                                                                             \n",
       "⎢                                                                             \n",
       "⎢                                                                             \n",
       "⎢                                                                             \n",
       "⎢                                         0                                   \n",
       "⎢                                                                             \n",
       "⎢                                                                             \n",
       "⎢                                                                             \n",
       "⎢                                                                             \n",
       "⎢                                                                             \n",
       "⎢                                                                             \n",
       "⎢                                                                             \n",
       "⎢                                                                             \n",
       "⎢                                         0                                   \n",
       "⎣                                                                             \n",
       "\n",
       "    2⎞                                                                        \n",
       "   ⎞ ⎟                                                                        \n",
       "r))⎟ ⎟                                                                        \n",
       "   ⎠ ⎟                                                                        \n",
       "─────⎟                                                                        \n",
       "     ⎟                                                                        \n",
       "     ⎠                                                                        \n",
       "──────                                  0                                     \n",
       "                                                                              \n",
       "                                                                              \n",
       "                                                                              \n",
       "                    ⎛                                        2⎞               \n",
       "                    ⎜                        2    ⎛d        ⎞ ⎟               \n",
       "                    ⎜         f₀(r)⋅g₀(r)⋅tan (θ)⋅⎜──(Φ₀(r))⎟ ⎟               \n",
       "                  2 ⎜  2                          ⎝dr       ⎠ ⎟               \n",
       "                 L ⋅⎜Φ₀ (r) + ────────────────────────────────⎟               \n",
       "                    ⎝                        4                ⎠               \n",
       "                 ──────────────────────────────────────────────               \n",
       "                                     g₀(r)                                    \n",
       "                                                                              \n",
       "                                                                              \n",
       "                                                                              \n",
       "                                                                              \n",
       "                                                                            2 \n",
       "                                                                           L ⋅\n",
       "                                                                              \n",
       "                                        0                                  ───\n",
       "                                                                              \n",
       "                                                                              \n",
       "           ⎛                                                           2⎞     \n",
       "           ⎜                                           2    ⎛d        ⎞ ⎟     \n",
       "           ⎜                            f₀(r)⋅g₀(r)⋅sin (θ)⋅⎜──(Φ₀(r))⎟ ⎟     \n",
       "         2 ⎜    2       2        2                          ⎝dr       ⎠ ⎟     \n",
       "        L ⋅⎜- Φ₀ (r)⋅sin (θ) + Φ₀ (r) + ────────────────────────────────⎟     \n",
       "           ⎝                                           4                ⎠     \n",
       "        ─────────────────────────────────────────────────────────────────     \n",
       "                                   g₀(r)⋅cos(θ)                               \n",
       "\n",
       "                                                                              \n",
       "                                                                              \n",
       "                                                                              \n",
       "                                                                              \n",
       "                                                                              \n",
       "                                                                              \n",
       "                                                                              \n",
       "                   0                                                         0\n",
       "                                                                              \n",
       "                                                                              \n",
       "                                                                              \n",
       "                                                ⎛                             \n",
       "                                                ⎜                             \n",
       "                                                ⎜                            f\n",
       "                                              2 ⎜    2       2        2       \n",
       "                                             L ⋅⎜- Φ₀ (r)⋅sin (θ) + Φ₀ (r) + ─\n",
       "                                                ⎝                             \n",
       "                   0                         ─────────────────────────────────\n",
       "                                                                        g₀(r)⋅\n",
       "                                                                              \n",
       "⎛                                        2⎞                                   \n",
       "⎜                        2    ⎛d        ⎞ ⎟                                   \n",
       "⎜         f₀(r)⋅g₀(r)⋅tan (θ)⋅⎜──(Φ₀(r))⎟ ⎟                                   \n",
       "⎜  2                          ⎝dr       ⎠ ⎟                                   \n",
       "⎜Φ₀ (r) + ────────────────────────────────⎟                                   \n",
       "⎝                        4                ⎠                                   \n",
       "───────────────────────────────────────────                                  0\n",
       "                 g₀(r)                                                        \n",
       "                                                                              \n",
       "                                                                              \n",
       "                                                                              \n",
       "                                                            ⎛                 \n",
       "                                                          2 ⎜    2            \n",
       "                                                         L ⋅⎜4⋅Φ₀ (r) + f₀(r)⋅\n",
       "                                                            ⎝                 \n",
       "                   0                                     ─────────────────────\n",
       "                                                                         2⋅g₀(\n",
       "\n",
       "                                ⎤\n",
       "                                ⎥\n",
       "                                ⎥\n",
       "                                ⎥\n",
       "                                ⎥\n",
       "                                ⎥\n",
       "                                ⎥\n",
       "                                ⎥\n",
       "                                ⎥\n",
       "                                ⎥\n",
       "                                ⎥\n",
       "                              2⎞⎥\n",
       "              2    ⎛d        ⎞ ⎟⎥\n",
       "₀(r)⋅g₀(r)⋅sin (θ)⋅⎜──(Φ₀(r))⎟ ⎟⎥\n",
       "                   ⎝dr       ⎠ ⎟⎥\n",
       "───────────────────────────────⎟⎥\n",
       "              4                ⎠⎥\n",
       "────────────────────────────────⎥\n",
       "cos(θ)                          ⎥\n",
       "                                ⎥\n",
       "                                ⎥\n",
       "                                ⎥\n",
       "                                ⎥\n",
       "                                ⎥\n",
       "                                ⎥\n",
       "                                ⎥\n",
       "                                ⎥\n",
       "                                ⎥\n",
       "                                ⎥\n",
       "                                ⎥\n",
       "                                ⎥\n",
       "                 2⎞             ⎥\n",
       "      ⎛d        ⎞ ⎟             ⎥\n",
       "g₀(r)⋅⎜──(Φ₀(r))⎟ ⎟             ⎥\n",
       "      ⎝dr       ⎠ ⎠             ⎥\n",
       "───────────────────             ⎥\n",
       "r)                              ⎦"
      ]
     },
     "execution_count": 27,
     "metadata": {},
     "output_type": "execute_result"
    }
   ],
   "source": [
    "energy_momentum = 2 * (T_contracted_1 - metric_array / 4 * T_contracted_2)\n",
    "energy_momentum = sympy.simplify(energy_momentum)\n",
    "energy_momentum"
   ]
  },
  {
   "cell_type": "code",
   "execution_count": 28,
   "id": "b826ed88",
   "metadata": {},
   "outputs": [
    {
     "data": {
      "image/png": "[encoded data removed]",
      "text/latex": [
       "$\\displaystyle - \\frac{3 \\frac{d^{2}}{d r^{2}} g_{0}{\\left(r \\right)}}{2 g_{0}{\\left(r \\right)}} + \\frac{3 \\left(\\frac{d}{d r} g_{0}{\\left(r \\right)}\\right)^{2}}{4 g_{0}^{2}{\\left(r \\right)}} - \\frac{3 \\frac{d}{d r} f_{0}{\\left(r \\right)} \\frac{d}{d r} g_{0}{\\left(r \\right)}}{4 f_{0}{\\left(r \\right)} g_{0}{\\left(r \\right)}} + \\frac{3}{L^{2} f_{0}{\\left(r \\right)}}$"
      ],
      "text/plain": [
       "      2                                                           \n",
       "     d                        2                                   \n",
       "  3⋅───(g₀(r))     ⎛d        ⎞      d         d                   \n",
       "      2          3⋅⎜──(g₀(r))⎟    3⋅──(f₀(r))⋅──(g₀(r))           \n",
       "    dr             ⎝dr       ⎠      dr        dr             3    \n",
       "- ──────────── + ────────────── - ───────────────────── + ────────\n",
       "    2⋅g₀(r)             2             4⋅f₀(r)⋅g₀(r)        2      \n",
       "                    4⋅g₀ (r)                              L ⋅f₀(r)"
      ]
     },
     "execution_count": 28,
     "metadata": {},
     "output_type": "execute_result"
    }
   ],
   "source": [
    "einstein_tensor[0, 0]"
   ]
  },
  {
   "cell_type": "code",
   "execution_count": 29,
   "id": "a519a9b2",
   "metadata": {},
   "outputs": [
    {
     "data": {
      "image/png": "[encoded data removed]",
      "text/latex": [
       "$\\displaystyle \\frac{L^{2} \\left(- 12 \\Phi_{0}^{2}{\\left(r \\right)} + \\frac{8 \\Phi_{0}^{2}{\\left(r \\right)}}{\\cos^{2}{\\left(\\theta \\right)}} + 3 f_{0}{\\left(r \\right)} g_{0}{\\left(r \\right)} \\left(\\frac{d}{d r} \\Phi_{0}{\\left(r \\right)}\\right)^{2} - \\frac{f_{0}{\\left(r \\right)} g_{0}{\\left(r \\right)} \\left(\\frac{d}{d r} \\Phi_{0}{\\left(r \\right)}\\right)^{2}}{\\cos^{2}{\\left(\\theta \\right)}}\\right)}{f_{0}{\\left(r \\right)} g_{0}^{2}{\\left(r \\right)}}$"
      ],
      "text/plain": [
       "   ⎛                                                                          \n",
       "   ⎜                                                                  ⎛d      \n",
       "   ⎜                  2                               2   f₀(r)⋅g₀(r)⋅⎜──(Φ₀(r\n",
       " 2 ⎜       2      8⋅Φ₀ (r)                 ⎛d        ⎞                ⎝dr     \n",
       "L ⋅⎜- 12⋅Φ₀ (r) + ──────── + 3⋅f₀(r)⋅g₀(r)⋅⎜──(Φ₀(r))⎟  - ────────────────────\n",
       "   ⎜                 2                     ⎝dr       ⎠               2        \n",
       "   ⎝              cos (θ)                                         cos (θ)     \n",
       "──────────────────────────────────────────────────────────────────────────────\n",
       "                                            2                                 \n",
       "                                    f₀(r)⋅g₀ (r)                              \n",
       "\n",
       "   2⎞\n",
       "  ⎞ ⎟\n",
       "))⎟ ⎟\n",
       "  ⎠ ⎟\n",
       "────⎟\n",
       "    ⎟\n",
       "    ⎠\n",
       "─────\n",
       "     \n",
       "     "
      ]
     },
     "execution_count": 29,
     "metadata": {},
     "output_type": "execute_result"
    }
   ],
   "source": [
    "energy_momentum[0, 0]"
   ]
  },
  {
   "cell_type": "markdown",
   "id": "6cfc8d5e",
   "metadata": {},
   "source": [
    "Compute the extrinsic curvature on the boundary."
   ]
  },
  {
   "cell_type": "code",
   "execution_count": 30,
   "id": "feda808e",
   "metadata": {},
   "outputs": [
    {
     "data": {
      "text/latex": [
       "$\\displaystyle \\left[\\begin{matrix}\\frac{1}{\\delta_{f}{\\left(r \\right)} + f_{0}{\\left(r \\right)}} & 0 & 0 & 0\\end{matrix}\\right]$"
      ],
      "text/plain": [
       "⎡      1                ⎤\n",
       "⎢──────────────  0  0  0⎥\n",
       "⎣δ_f(r) + f₀(r)         ⎦"
      ]
     },
     "execution_count": 30,
     "metadata": {},
     "output_type": "execute_result"
    }
   ],
   "source": [
    "gn_tensor = TensorHead('gn', [Euclidean] * 3)\n",
    "repl = {gn_tensor(-i0, -i1, i2): sympy.tensorproduct(list2d, [1, 0, 0, 0])}\n",
    "n_lower = sympy.simplify(gn_tensor(-i0, -i1, i1).replace_with_arrays(repl))\n",
    "n_lower"
   ]
  },
  {
   "cell_type": "code",
   "execution_count": 31,
   "id": "75c89c0f",
   "metadata": {},
   "outputs": [
    {
     "data": {
      "text/latex": [
       "$\\displaystyle \\left[\\begin{matrix}\\left[\\begin{matrix}\\frac{- \\frac{d}{d r} \\delta_{f}{\\left(r \\right)} - \\frac{d}{d r} f_{0}{\\left(r \\right)}}{2 \\left(\\delta_{f}{\\left(r \\right)} + f_{0}{\\left(r \\right)}\\right)} & 0 & 0 & 0\\\\0 & - \\frac{\\left(\\delta_{f}{\\left(r \\right)} + f_{0}{\\left(r \\right)}\\right) \\left(\\frac{d}{d r} \\delta_{g}{\\left(r \\right)} + \\frac{d}{d r} g_{0}{\\left(r \\right)}\\right)}{8} & 0 & - \\frac{\\left(\\delta_{f}{\\left(r \\right)} + f_{0}{\\left(r \\right)}\\right) \\left(\\frac{d}{d r} \\delta_{g}{\\left(r \\right)} + \\frac{d}{d r} g_{0}{\\left(r \\right)}\\right) \\cos{\\left(\\theta \\right)}}{8}\\\\0 & 0 & - \\frac{\\left(\\delta_{f}{\\left(r \\right)} + f_{0}{\\left(r \\right)}\\right) \\left(\\frac{d}{d r} \\delta_{g}{\\left(r \\right)} + \\frac{d}{d r} g_{0}{\\left(r \\right)}\\right)}{8} & 0\\\\0 & - \\frac{\\left(\\delta_{f}{\\left(r \\right)} + f_{0}{\\left(r \\right)}\\right) \\left(\\frac{d}{d r} \\delta_{g}{\\left(r \\right)} + \\frac{d}{d r} g_{0}{\\left(r \\right)}\\right) \\cos{\\left(\\theta \\right)}}{8} & 0 & - \\frac{\\left(\\delta_{f}{\\left(r \\right)} + f_{0}{\\left(r \\right)}\\right) \\left(\\frac{d}{d r} \\delta_{g}{\\left(r \\right)} + \\frac{d}{d r} g_{0}{\\left(r \\right)}\\right)}{8}\\end{matrix}\\right] & \\left[\\begin{matrix}0 & \\frac{\\frac{d}{d r} \\delta_{g}{\\left(r \\right)} + \\frac{d}{d r} g_{0}{\\left(r \\right)}}{2 \\left(\\delta_{g}{\\left(r \\right)} + g_{0}{\\left(r \\right)}\\right)} & 0 & 0\\\\\\frac{\\frac{d}{d r} \\delta_{g}{\\left(r \\right)} + \\frac{d}{d r} g_{0}{\\left(r \\right)}}{2 \\left(\\delta_{g}{\\left(r \\right)} + g_{0}{\\left(r \\right)}\\right)} & 0 & \\frac{1}{2 \\tan{\\left(\\theta \\right)}} & 0\\\\0 & \\frac{1}{2 \\tan{\\left(\\theta \\right)}} & 0 & - \\frac{1}{2 \\sin{\\left(\\theta \\right)}}\\\\0 & 0 & - \\frac{1}{2 \\sin{\\left(\\theta \\right)}} & 0\\end{matrix}\\right] & \\left[\\begin{matrix}0 & 0 & \\frac{\\frac{d}{d r} \\delta_{g}{\\left(r \\right)} + \\frac{d}{d r} g_{0}{\\left(r \\right)}}{2 \\left(\\delta_{g}{\\left(r \\right)} + g_{0}{\\left(r \\right)}\\right)} & 0\\\\0 & 0 & 0 & \\frac{\\sin{\\left(\\theta \\right)}}{2}\\\\\\frac{\\frac{d}{d r} \\delta_{g}{\\left(r \\right)} + \\frac{d}{d r} g_{0}{\\left(r \\right)}}{2 \\left(\\delta_{g}{\\left(r \\right)} + g_{0}{\\left(r \\right)}\\right)} & 0 & 0 & 0\\\\0 & \\frac{\\sin{\\left(\\theta \\right)}}{2} & 0 & 0\\end{matrix}\\right] & \\left[\\begin{matrix}0 & 0 & 0 & \\frac{\\frac{d}{d r} \\delta_{g}{\\left(r \\right)} + \\frac{d}{d r} g_{0}{\\left(r \\right)}}{2 \\left(\\delta_{g}{\\left(r \\right)} + g_{0}{\\left(r \\right)}\\right)}\\\\0 & 0 & - \\frac{1}{2 \\sin{\\left(\\theta \\right)}} & 0\\\\0 & - \\frac{1}{2 \\sin{\\left(\\theta \\right)}} & 0 & \\frac{1}{2 \\tan{\\left(\\theta \\right)}}\\\\\\frac{\\frac{d}{d r} \\delta_{g}{\\left(r \\right)} + \\frac{d}{d r} g_{0}{\\left(r \\right)}}{2 \\left(\\delta_{g}{\\left(r \\right)} + g_{0}{\\left(r \\right)}\\right)} & 0 & \\frac{1}{2 \\tan{\\left(\\theta \\right)}} & 0\\end{matrix}\\right]\\end{matrix}\\right]$"
      ],
      "text/plain": [
       "⎡⎡  d            d                                                            \n",
       "⎢⎢- ──(δ_f(r)) - ──(f₀(r))                                                    \n",
       "⎢⎢  dr           dr                                                           \n",
       "⎢⎢────────────────────────                          0                         \n",
       "⎢⎢   2⋅(δ_f(r) + f₀(r))                                                       \n",
       "⎢⎢                                                                            \n",
       "⎢⎢                                               ⎛d            d        ⎞     \n",
       "⎢⎢                             -(δ_f(r) + f₀(r))⋅⎜──(δ_g(r)) + ──(g₀(r))⎟     \n",
       "⎢⎢                                               ⎝dr           dr       ⎠     \n",
       "⎢⎢           0                 ───────────────────────────────────────────    \n",
       "⎢⎢                                                  8                         \n",
       "⎢⎢                                                                            \n",
       "⎢⎢                                                                            \n",
       "⎢⎢                                                                            \n",
       "⎢⎢                                                                            \n",
       "⎢⎢           0                                      0                         \n",
       "⎢⎢                                                                            \n",
       "⎢⎢                                                                            \n",
       "⎢⎢                                            ⎛d            d        ⎞        \n",
       "⎢⎢                          -(δ_f(r) + f₀(r))⋅⎜──(δ_g(r)) + ──(g₀(r))⎟⋅cos(θ) \n",
       "⎢⎢                                            ⎝dr           dr       ⎠        \n",
       "⎢⎢           0              ──────────────────────────────────────────────────\n",
       "⎣⎣                                                  8                         \n",
       "\n",
       "                                                                              \n",
       "                                                                              \n",
       "                                                                              \n",
       "                       0                                               0      \n",
       "                                                                              \n",
       "                                                                              \n",
       "                                                                 ⎛d           \n",
       "                                               -(δ_f(r) + f₀(r))⋅⎜──(δ_g(r)) +\n",
       "                                                                 ⎝dr          \n",
       "                       0                       ───────────────────────────────\n",
       "                                                                       8      \n",
       "                                                                              \n",
       "                    ⎛d            d        ⎞                                  \n",
       "  -(δ_f(r) + f₀(r))⋅⎜──(δ_g(r)) + ──(g₀(r))⎟                                  \n",
       "                    ⎝dr           dr       ⎠                                  \n",
       "  ───────────────────────────────────────────                          0      \n",
       "                       8                                                      \n",
       "                                                                              \n",
       "                                                                    ⎛d        \n",
       "                                                  -(δ_f(r) + f₀(r))⋅⎜──(δ_g(r)\n",
       "                                                                    ⎝dr       \n",
       "                       0                          ────────────────────────────\n",
       "                                                                       8      \n",
       "\n",
       "                   ⎤                                                          \n",
       "                   ⎥                                                          \n",
       "                   ⎥  ⎡                        d            d                 \n",
       "                   ⎥  ⎢                        ──(δ_g(r)) + ──(g₀(r))         \n",
       "                   ⎥  ⎢                        dr           dr                \n",
       "                   ⎥  ⎢          0             ──────────────────────     0   \n",
       " d        ⎞        ⎥  ⎢                          2⋅(δ_g(r) + g₀(r))           \n",
       " ──(g₀(r))⎟⋅cos(θ) ⎥  ⎢                                                       \n",
       " dr       ⎠        ⎥  ⎢d            d                                         \n",
       "───────────────────⎥  ⎢──(δ_g(r)) + ──(g₀(r))                                 \n",
       "                   ⎥  ⎢dr           dr                                    1   \n",
       "                   ⎥  ⎢──────────────────────            0             ───────\n",
       "                   ⎥  ⎢  2⋅(δ_g(r) + g₀(r))                            2⋅tan(θ\n",
       "                   ⎥  ⎢                                                       \n",
       "                   ⎥  ⎢                                  1                    \n",
       "                   ⎥  ⎢          0                    ────────            0   \n",
       "                   ⎥  ⎢                               2⋅tan(θ)                \n",
       "                   ⎥  ⎢                                                       \n",
       "    d        ⎞     ⎥  ⎢                                                  -1   \n",
       ") + ──(g₀(r))⎟     ⎥  ⎢          0                       0             ───────\n",
       "    dr       ⎠     ⎥  ⎣                                                2⋅sin(θ\n",
       "───────────────    ⎥                                                          \n",
       "                   ⎦                                                          \n",
       "\n",
       "                                                                              \n",
       "                                                                              \n",
       "           ⎤  ⎡                                d            d                ⎤\n",
       "           ⎥  ⎢                                ──(δ_g(r)) + ──(g₀(r))        ⎥\n",
       "           ⎥  ⎢                                dr           dr               ⎥\n",
       "      0    ⎥  ⎢          0               0     ──────────────────────    0   ⎥\n",
       "           ⎥  ⎢                                  2⋅(δ_g(r) + g₀(r))          ⎥\n",
       "           ⎥  ⎢                                                              ⎥\n",
       "           ⎥  ⎢                                                        sin(θ)⎥\n",
       "           ⎥  ⎢          0               0               0             ──────⎥\n",
       "           ⎥  ⎢                                                          2   ⎥\n",
       "─     0    ⎥  ⎢                                                              ⎥\n",
       ")          ⎥  ⎢d            d                                                ⎥\n",
       "           ⎥  ⎢──(δ_g(r)) + ──(g₀(r))                                        ⎥\n",
       "     -1    ⎥  ⎢dr           dr                                               ⎥\n",
       "   ────────⎥  ⎢──────────────────────    0               0               0   ⎥\n",
       "   2⋅sin(θ)⎥  ⎢  2⋅(δ_g(r) + g₀(r))                                          ⎥\n",
       "           ⎥  ⎢                                                              ⎥\n",
       "           ⎥  ⎢                        sin(θ)                                ⎥\n",
       "─     0    ⎥  ⎢          0             ──────            0               0   ⎥\n",
       ")          ⎦  ⎣                          2                                   ⎦\n",
       "                                                                              \n",
       "                                                                              \n",
       "\n",
       "                                                                      ⎤\n",
       "                                                                      ⎥\n",
       "  ⎡                                            d            d        ⎤⎥\n",
       "  ⎢                                            ──(δ_g(r)) + ──(g₀(r))⎥⎥\n",
       "  ⎢                                            dr           dr       ⎥⎥\n",
       "  ⎢          0                0         0      ──────────────────────⎥⎥\n",
       "  ⎢                                              2⋅(δ_g(r) + g₀(r))  ⎥⎥\n",
       "  ⎢                                                                  ⎥⎥\n",
       "  ⎢                                    -1                            ⎥⎥\n",
       "  ⎢          0                0      ────────            0           ⎥⎥\n",
       "  ⎢                                  2⋅sin(θ)                        ⎥⎥\n",
       "  ⎢                                                                  ⎥⎥\n",
       "  ⎢                          -1                          1           ⎥⎥\n",
       "  ⎢          0             ────────     0             ────────       ⎥⎥\n",
       "  ⎢                        2⋅sin(θ)                   2⋅tan(θ)       ⎥⎥\n",
       "  ⎢                                                                  ⎥⎥\n",
       "  ⎢d            d                                                    ⎥⎥\n",
       "  ⎢──(δ_g(r)) + ──(g₀(r))                                            ⎥⎥\n",
       "  ⎢dr           dr                      1                            ⎥⎥\n",
       "  ⎢──────────────────────     0      ────────            0           ⎥⎥\n",
       "  ⎣  2⋅(δ_g(r) + g₀(r))              2⋅tan(θ)                        ⎦⎥\n",
       "                                                                      ⎥\n",
       "                                                                      ⎦"
      ]
     },
     "execution_count": 31,
     "metadata": {},
     "output_type": "execute_result"
    }
   ],
   "source": [
    "ch = ChristoffelSymbols.from_metric(sch)\n",
    "ch = ch.tensor().simplify()\n",
    "ch"
   ]
  },
  {
   "cell_type": "code",
   "execution_count": 32,
   "id": "5ced8651",
   "metadata": {},
   "outputs": [
    {
     "data": {
      "text/latex": [
       "$\\displaystyle \\left[\\begin{matrix}\\frac{- \\frac{d}{d r} \\delta_{f}{\\left(r \\right)} - \\frac{d}{d r} f_{0}{\\left(r \\right)}}{\\left(\\delta_{f}{\\left(r \\right)} + f_{0}{\\left(r \\right)}\\right)^{2}} & 0 & 0 & 0\\\\0 & 0 & 0 & 0\\\\0 & 0 & 0 & 0\\\\0 & 0 & 0 & 0\\end{matrix}\\right]$"
      ],
      "text/plain": [
       "⎡  d            d                 ⎤\n",
       "⎢- ──(δ_f(r)) - ──(f₀(r))         ⎥\n",
       "⎢  dr           dr                ⎥\n",
       "⎢────────────────────────  0  0  0⎥\n",
       "⎢                   2             ⎥\n",
       "⎢   (δ_f(r) + f₀(r))              ⎥\n",
       "⎢                                 ⎥\n",
       "⎢           0              0  0  0⎥\n",
       "⎢                                 ⎥\n",
       "⎢           0              0  0  0⎥\n",
       "⎢                                 ⎥\n",
       "⎣           0              0  0  0⎦"
      ]
     },
     "execution_count": 32,
     "metadata": {},
     "output_type": "execute_result"
    }
   ],
   "source": [
    "x = [r, psi, theta, phi]\n",
    "partial_n = sympy.MutableDenseNDimArray.zeros(4, 4)\n",
    "for i in range(4):\n",
    "    for j in range(4):\n",
    "            partial_n[i, j] = sympy.diff(n_lower[j], x[i]) \n",
    "partial_n"
   ]
  },
  {
   "cell_type": "code",
   "execution_count": 33,
   "id": "08850079",
   "metadata": {},
   "outputs": [
    {
     "data": {
      "text/latex": [
       "$\\displaystyle \\left[\\begin{matrix}\\frac{- \\frac{d}{d r} \\delta_{f}{\\left(r \\right)} - \\frac{d}{d r} f_{0}{\\left(r \\right)}}{2 \\left(\\delta_{f}{\\left(r \\right)} + f_{0}{\\left(r \\right)}\\right)^{2}} & 0 & 0 & 0\\\\0 & \\frac{\\frac{d}{d r} \\delta_{g}{\\left(r \\right)}}{8} + \\frac{\\frac{d}{d r} g_{0}{\\left(r \\right)}}{8} & 0 & \\frac{\\left(\\frac{d}{d r} \\delta_{g}{\\left(r \\right)} + \\frac{d}{d r} g_{0}{\\left(r \\right)}\\right) \\cos{\\left(\\theta \\right)}}{8}\\\\0 & 0 & \\frac{\\frac{d}{d r} \\delta_{g}{\\left(r \\right)}}{8} + \\frac{\\frac{d}{d r} g_{0}{\\left(r \\right)}}{8} & 0\\\\0 & \\frac{\\left(\\frac{d}{d r} \\delta_{g}{\\left(r \\right)} + \\frac{d}{d r} g_{0}{\\left(r \\right)}\\right) \\cos{\\left(\\theta \\right)}}{8} & 0 & \\frac{\\frac{d}{d r} \\delta_{g}{\\left(r \\right)}}{8} + \\frac{\\frac{d}{d r} g_{0}{\\left(r \\right)}}{8}\\end{matrix}\\right]$"
      ],
      "text/plain": [
       "⎡  d            d                                                             \n",
       "⎢- ──(δ_f(r)) - ──(f₀(r))                                                     \n",
       "⎢  dr           dr                                                            \n",
       "⎢────────────────────────                 0                           0       \n",
       "⎢                    2                                                        \n",
       "⎢  2⋅(δ_f(r) + f₀(r))                                                         \n",
       "⎢                                                                             \n",
       "⎢                              d            d                                 \n",
       "⎢                              ──(δ_g(r))   ──(g₀(r))                         \n",
       "⎢                              dr           dr                                \n",
       "⎢           0                  ────────── + ─────────                 0       \n",
       "⎢                                  8            8                             \n",
       "⎢                                                                             \n",
       "⎢                                                           d            d    \n",
       "⎢                                                           ──(δ_g(r))   ──(g₀\n",
       "⎢                                                           dr           dr   \n",
       "⎢           0                             0                 ────────── + ─────\n",
       "⎢                                                               8            8\n",
       "⎢                                                                             \n",
       "⎢                          ⎛d            d        ⎞                           \n",
       "⎢                          ⎜──(δ_g(r)) + ──(g₀(r))⎟⋅cos(θ)                    \n",
       "⎢                          ⎝dr           dr       ⎠                           \n",
       "⎢           0              ───────────────────────────────            0       \n",
       "⎣                                         8                                   \n",
       "\n",
       "                                     ⎤\n",
       "                                     ⎥\n",
       "                                     ⎥\n",
       "                     0               ⎥\n",
       "                                     ⎥\n",
       "                                     ⎥\n",
       "                                     ⎥\n",
       "      ⎛d            d        ⎞       ⎥\n",
       "      ⎜──(δ_g(r)) + ──(g₀(r))⎟⋅cos(θ)⎥\n",
       "      ⎝dr           dr       ⎠       ⎥\n",
       "      ───────────────────────────────⎥\n",
       "                     8               ⎥\n",
       "                                     ⎥\n",
       "                                     ⎥\n",
       "(r))                                 ⎥\n",
       "                                     ⎥\n",
       "────                 0               ⎥\n",
       "                                     ⎥\n",
       "                                     ⎥\n",
       "          d            d             ⎥\n",
       "          ──(δ_g(r))   ──(g₀(r))     ⎥\n",
       "          dr           dr            ⎥\n",
       "          ────────── + ─────────     ⎥\n",
       "              8            8         ⎦"
      ]
     },
     "execution_count": 33,
     "metadata": {},
     "output_type": "execute_result"
    }
   ],
   "source": [
    "lambda_n_tensor = TensorHead('lambdan', [Euclidean] * 4)\n",
    "repl = {lambda_n_tensor(i0, -i1, -i2, -i3): sympy.tensorproduct(ch, n_lower)}\n",
    "partial_n -= lambda_n_tensor(i0, -i1, -i2, -i0).replace_with_arrays(repl)\n",
    "partial_n = sympy.simplify(partial_n)\n",
    "partial_n"
   ]
  },
  {
   "cell_type": "code",
   "execution_count": 34,
   "id": "1994a928",
   "metadata": {},
   "outputs": [
    {
     "data": {
      "image/png": "[encoded data removed]",
      "text/latex": [
       "$\\displaystyle \\frac{3 \\delta_{f}{\\left(r \\right)} \\frac{d}{d r} \\delta_{g}{\\left(r \\right)} + 3 \\delta_{f}{\\left(r \\right)} \\frac{d}{d r} g_{0}{\\left(r \\right)} - \\delta_{g}{\\left(r \\right)} \\frac{d}{d r} \\delta_{f}{\\left(r \\right)} - \\delta_{g}{\\left(r \\right)} \\frac{d}{d r} f_{0}{\\left(r \\right)} + 3 f_{0}{\\left(r \\right)} \\frac{d}{d r} \\delta_{g}{\\left(r \\right)} + 3 f_{0}{\\left(r \\right)} \\frac{d}{d r} g_{0}{\\left(r \\right)} - g_{0}{\\left(r \\right)} \\frac{d}{d r} \\delta_{f}{\\left(r \\right)} - g_{0}{\\left(r \\right)} \\frac{d}{d r} f_{0}{\\left(r \\right)}}{2 \\left(\\delta_{f}{\\left(r \\right)} + f_{0}{\\left(r \\right)}\\right) \\left(\\delta_{g}{\\left(r \\right)} + g_{0}{\\left(r \\right)}\\right)}$"
      ],
      "text/plain": [
       "         d                     d                  d                   d       \n",
       "3⋅δ_f(r)⋅──(δ_g(r)) + 3⋅δ_f(r)⋅──(g₀(r)) - δ_g(r)⋅──(δ_f(r)) - δ_g(r)⋅──(f₀(r)\n",
       "         dr                    dr                 dr                  dr      \n",
       "──────────────────────────────────────────────────────────────────────────────\n",
       "                                                             2⋅(δ_f(r) + f₀(r)\n",
       "\n",
       "            d                    d                 d                  d       \n",
       ") + 3⋅f₀(r)⋅──(δ_g(r)) + 3⋅f₀(r)⋅──(g₀(r)) - g₀(r)⋅──(δ_f(r)) - g₀(r)⋅──(f₀(r)\n",
       "            dr                   dr                dr                 dr      \n",
       "──────────────────────────────────────────────────────────────────────────────\n",
       ")⋅(δ_g(r) + g₀(r))                                                            \n",
       "\n",
       " \n",
       ")\n",
       " \n",
       "─\n",
       " "
      ]
     },
     "execution_count": 34,
     "metadata": {},
     "output_type": "execute_result"
    }
   ],
   "source": [
    "g_partial_n_tensor = TensorHead('gpartialn', [Euclidean] * 4)\n",
    "repl = {g_partial_n_tensor(i0, i1, -i2, -i3): sympy.tensorproduct(metric_inv, partial_n)}\n",
    "K = sympy.simplify(g_partial_n_tensor(i0, i1, -i0, -i1).replace_with_arrays(repl))\n",
    "K"
   ]
  },
  {
   "cell_type": "code",
   "execution_count": 35,
   "id": "b2ee00ce",
   "metadata": {},
   "outputs": [
    {
     "data": {
      "text/latex": [
       "$\\displaystyle \\left[\\begin{matrix}\\frac{\\delta_{g}{\\left(r \\right)}}{4} + \\frac{g_{0}{\\left(r \\right)}}{4} & 0 & \\left(\\frac{\\delta_{g}{\\left(r \\right)}}{4} + \\frac{g_{0}{\\left(r \\right)}}{4}\\right) \\cos{\\left(\\theta \\right)}\\\\0 & \\frac{\\delta_{g}{\\left(r \\right)}}{4} + \\frac{g_{0}{\\left(r \\right)}}{4} & 0\\\\\\left(\\frac{\\delta_{g}{\\left(r \\right)}}{4} + \\frac{g_{0}{\\left(r \\right)}}{4}\\right) \\cos{\\left(\\theta \\right)} & 0 & \\frac{\\delta_{g}{\\left(r \\right)}}{4} + \\frac{g_{0}{\\left(r \\right)}}{4}\\end{matrix}\\right]$"
      ],
      "text/plain": [
       "⎡    δ_g(r)   g₀(r)                       ⎛δ_g(r)   g₀(r)⎞       ⎤\n",
       "⎢    ────── + ─────             0         ⎜────── + ─────⎟⋅cos(θ)⎥\n",
       "⎢      4        4                         ⎝  4        4  ⎠       ⎥\n",
       "⎢                                                                ⎥\n",
       "⎢                         δ_g(r)   g₀(r)                         ⎥\n",
       "⎢           0             ────── + ─────             0           ⎥\n",
       "⎢                           4        4                           ⎥\n",
       "⎢                                                                ⎥\n",
       "⎢⎛δ_g(r)   g₀(r)⎞                             δ_g(r)   g₀(r)     ⎥\n",
       "⎢⎜────── + ─────⎟⋅cos(θ)        0             ────── + ─────     ⎥\n",
       "⎣⎝  4        4  ⎠                               4        4       ⎦"
      ]
     },
     "execution_count": 35,
     "metadata": {},
     "output_type": "execute_result"
    }
   ],
   "source": [
    "induced_metric_list = [[0 for i in range(3)] for i in range(3)]\n",
    "induced_metric_list[0][0] = induced_metric_list[1][1] = induced_metric_list[2][2] = g / 4\n",
    "induced_metric_list[0][2] = induced_metric_list[2][0] = g / 4 * sympy.cos(theta)\n",
    "induced_metric = MetricTensor(induced_metric_list, (psi, theta, phi))\n",
    "induced_metric.tensor()"
   ]
  },
  {
   "cell_type": "code",
   "execution_count": 36,
   "id": "3d6ca7b2",
   "metadata": {},
   "outputs": [
    {
     "data": {
      "image/png": "[encoded data removed]",
      "text/latex": [
       "$\\displaystyle \\frac{\\left(\\delta_{g}{\\left(r \\right)} + g_{0}{\\left(r \\right)}\\right)^{3} \\sin^{2}{\\left(\\theta \\right)}}{64}$"
      ],
      "text/plain": [
       "                3    2   \n",
       "(δ_g(r) + g₀(r)) ⋅sin (θ)\n",
       "─────────────────────────\n",
       "            64           "
      ]
     },
     "execution_count": 36,
     "metadata": {},
     "output_type": "execute_result"
    }
   ],
   "source": [
    "det_h = sympy.Matrix(induced_metric.tensor()).det().simplify()\n",
    "det_h"
   ]
  },
  {
   "cell_type": "code",
   "execution_count": 37,
   "id": "b97b93d5",
   "metadata": {},
   "outputs": [
    {
     "data": {
      "image/png": "[encoded data removed]",
      "text/latex": [
       "$\\displaystyle \\frac{\\sqrt{\\left(\\delta_{g}{\\left(r \\right)} + g_{0}{\\left(r \\right)}\\right)^{3} \\sin^{2}{\\left(\\theta \\right)}} \\left(3 \\delta_{f}{\\left(r \\right)} \\frac{d}{d r} \\delta_{g}{\\left(r \\right)} + 3 \\delta_{f}{\\left(r \\right)} \\frac{d}{d r} g_{0}{\\left(r \\right)} - \\delta_{g}{\\left(r \\right)} \\frac{d}{d r} \\delta_{f}{\\left(r \\right)} - \\delta_{g}{\\left(r \\right)} \\frac{d}{d r} f_{0}{\\left(r \\right)} + 3 f_{0}{\\left(r \\right)} \\frac{d}{d r} \\delta_{g}{\\left(r \\right)} + 3 f_{0}{\\left(r \\right)} \\frac{d}{d r} g_{0}{\\left(r \\right)} - g_{0}{\\left(r \\right)} \\frac{d}{d r} \\delta_{f}{\\left(r \\right)} - g_{0}{\\left(r \\right)} \\frac{d}{d r} f_{0}{\\left(r \\right)}\\right)}{16 \\left(\\delta_{f}{\\left(r \\right)} + f_{0}{\\left(r \\right)}\\right) \\left(\\delta_{g}{\\left(r \\right)} + g_{0}{\\left(r \\right)}\\right)}$"
      ],
      "text/plain": [
       "   ___________________________                                                \n",
       "  ╱                 3    2     ⎛         d                     d              \n",
       "╲╱  (δ_g(r) + g₀(r)) ⋅sin (θ) ⋅⎜3⋅δ_f(r)⋅──(δ_g(r)) + 3⋅δ_f(r)⋅──(g₀(r)) - δ_g\n",
       "                               ⎝         dr                    dr             \n",
       "──────────────────────────────────────────────────────────────────────────────\n",
       "                                                                             1\n",
       "\n",
       "                                                                              \n",
       "    d                   d                   d                    d            \n",
       "(r)⋅──(δ_f(r)) - δ_g(r)⋅──(f₀(r)) + 3⋅f₀(r)⋅──(δ_g(r)) + 3⋅f₀(r)⋅──(g₀(r)) - g\n",
       "    dr                  dr                  dr                   dr           \n",
       "──────────────────────────────────────────────────────────────────────────────\n",
       "6⋅(δ_f(r) + f₀(r))⋅(δ_g(r) + g₀(r))                                           \n",
       "\n",
       "                                  \n",
       "     d                  d        ⎞\n",
       "₀(r)⋅──(δ_f(r)) - g₀(r)⋅──(f₀(r))⎟\n",
       "     dr                 dr       ⎠\n",
       "──────────────────────────────────\n",
       "                                  "
      ]
     },
     "execution_count": 37,
     "metadata": {},
     "output_type": "execute_result"
    }
   ],
   "source": [
    "ghy_term = sympy.sqrt(det_h) * K\n",
    "ghy_term.simplify()"
   ]
  }
 ],
 "metadata": {
  "kernelspec": {
   "display_name": "Python 3.10.3 ('env': venv)",
   "language": "python",
   "name": "python3"
  },
  "language_info": {
   "codemirror_mode": {
    "name": "ipython",
    "version": 3
   },
   "file_extension": ".py",
   "mimetype": "text/x-python",
   "name": "python",
   "nbconvert_exporter": "python",
   "pygments_lexer": "ipython3",
   "version": "3.10.3"
  },
  "vscode": {
   "interpreter": {
    "hash": "c4cf3c24cb46a3fd1f6949e64220e8351ad1410e125a86590159f01143d71e6f"
   }
  }
 },
 "nbformat": 4,
 "nbformat_minor": 5
}
